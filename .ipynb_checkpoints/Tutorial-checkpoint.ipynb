{
 "cells": [
  {
   "cell_type": "code",
   "execution_count": null,
   "id": "0c66cc59",
   "metadata": {},
   "outputs": [],
   "source": [
    "import sys\n",
    "import copy\n",
    "import rospy\n",
    "import moveit_commander\n",
    "import moveit_msgs.msg\n",
    "import geometry_msgs.msg\n",
    "from std_msgs.msg import String\n",
    "from moveit_commander.conversions import pose_to_list"
   ]
  },
  {
   "cell_type": "code",
   "execution_count": null,
   "id": "aa1b866a",
   "metadata": {},
   "outputs": [],
   "source": [
    "import cv2 \n",
    "import tf as tf\n",
    "import tf2_ros as tf2\n",
    "import rospy\n",
    "import numpy as np\n",
    "import ros_numpy\n",
    "from std_msgs.msg import String\n",
    "from tmc_msgs.msg import Voice\n",
    "from geometry_msgs.msg import Twist, WrenchStamped, TransformStamped\n",
    "from sensor_msgs.msg import Image as ImageMsg, PointCloud2\n",
    "import tmc_control_msgs.msg\n",
    "import trajectory_msgs.msg\n",
    "class TF_MANAGER():\n",
    "    def __init__(self):\n",
    "        self._tfbuff = tf2.Buffer()\n",
    "        self._lis = tf2.TransformListener(self._tfbuff)\n",
    "        self._tf_static_broad = tf2.StaticTransformBroadcaster()\n",
    "        self._broad = tf2.TransformBroadcaster()\n",
    "\n",
    "    def _fillMsg(self, pos = [0,0,0], rot = [0,0,0,1] ,point_name ='', ref=\"map\"):\n",
    "        TS = TransformStamped()\n",
    "        TS.header.stamp = rospy.Time.now()\n",
    "        TS.header.frame_id = ref\n",
    "        TS.child_frame_id = point_name\n",
    "        TS.transform.translation.x = pos[0]\n",
    "        TS.transform.translation.y = pos[1]\n",
    "        TS.transform.translation.z = pos[2]\n",
    "        TS.transform.rotation.x = rot[0]\n",
    "        TS.transform.rotation.y = rot[1]\n",
    "        TS.transform.rotation.z = rot[2]\n",
    "        TS.transform.rotation.w = rot[3]\n",
    "        return TS\n",
    "\n",
    "    def pub_tf(self, pos = [0,0,0], rot = [0,0,0,1] ,point_name ='', ref=\"map\"):\n",
    "        dinamic_ts = self._fillMsg(pos, rot, point_name, ref)\n",
    "        self._broad.sendTransform(dinamic_ts)\n",
    "\n",
    "    def pub_static_tf(self, pos = [0,0,0], rot = [0,0,0,1] ,point_name ='', ref=\"map\"):\n",
    "        static_ts = self._fillMsg(pos, rot, point_name, ref)\n",
    "        self._tf_static_broad.sendTransform(static_ts)\n",
    "\n",
    "    def change_ref_frame_tf(self, point_name = '', new_frame = 'map'):\n",
    "        try:\n",
    "            traf = self._tfbuff.lookup_transform(new_frame, point_name, rospy.Time(0))\n",
    "            translation, rotational = self.tf2_obj_2_arr(traf)\n",
    "            self.pub_static_tf(pos = translation, rot = rotational, point_name = point_name, ref = new_frame)\n",
    "            return True\n",
    "        except:\n",
    "            return False\n",
    "\n",
    "    def getTF(self, target_frame='', ref_frame='map'):\n",
    "        try:\n",
    "            tf = self._tfbuff.lookup_transform(ref_frame, target_frame, rospy.Time(0))\n",
    "            return self.tf2_obj_2_arr(tf)\n",
    "        except:\n",
    "            return [False,False]\n",
    "\n",
    "    def tf2_obj_2_arr(self, transf):\n",
    "        pos = []\n",
    "        pos.append(transf.transform.translation.x)\n",
    "        pos.append(transf.transform.translation.y)\n",
    "        pos.append(transf.transform.translation.z)\n",
    "    \n",
    "        rot = []\n",
    "        rot.append(transf.transform.rotation.x)\n",
    "        rot.append(transf.transform.rotation.y)\n",
    "        rot.append(transf.transform.rotation.z)\n",
    "        rot.append(transf.transform.rotation.w)\n",
    "\n",
    "        return [pos, rot]\n",
    "class GRIPPER():\n",
    "    def __init__(self):\n",
    "        self._grip_cmd_pub = rospy.Publisher('/hsrb/gripper_controller/command',\n",
    "                               trajectory_msgs.msg.JointTrajectory, queue_size=100)\n",
    "        self._grip_cmd_force = rospy.Publisher('/hsrb/gripper_controller/grasp/goal',\n",
    "        \t\t\ttmc_control_msgs.msg.GripperApplyEffortActionGoal, queue_size=100)\n",
    "        \t\t\t\n",
    "        self._joint_name = \"hand_motor_joint\"\n",
    "        self._position = 0.5\n",
    "        self._velocity = 0.5\n",
    "        self._effort = 0.0\n",
    "        self._duration = 1\n",
    "\n",
    "    def _manipulate_gripper(self):\n",
    "        traj = trajectory_msgs.msg.JointTrajectory()\n",
    "        traj.joint_names = [self._joint_name]\n",
    "        p = trajectory_msgs.msg.JointTrajectoryPoint()\n",
    "        p.positions = [self._position]\n",
    "        p.velocities = [self._velocity]\n",
    "        p.accelerations = []\n",
    "        p.effort = [self._effort]\n",
    "        p.time_from_start = rospy.Duration(self._duration)\n",
    "        traj.points = [p]\n",
    "        self._grip_cmd_pub.publish(traj)\n",
    "        \n",
    "    def _apply_force(self):\n",
    "        app_force = tmc_control_msgs.msg.GripperApplyEffortActionGoal()\n",
    "        app_force.goal.effort = -0.5\n",
    "        self._grip_cmd_force.publish(app_force)\n",
    "        \n",
    "    def change_velocity(self, newVel):\n",
    "        self._velocity = newVel\n",
    "    \n",
    "    def open(self):\n",
    "        self._position = 1.23\n",
    "        self._effort = 0\n",
    "        self._manipulate_gripper()\n",
    "\n",
    "    def steady(self):\n",
    "        self._position = -0.82\n",
    "        self._effort = -0.3\n",
    "        self._manipulate_gripper()\n",
    "        \n",
    "    def close(self):\n",
    "        self._position = -0.82\n",
    "        self._effort = -0.3\n",
    "        self._manipulate_gripper()\n",
    "        self._apply_force()\n",
    "        rospy.sleep(0.8)"
   ]
  },
  {
   "cell_type": "code",
   "execution_count": null,
   "id": "caff30c9",
   "metadata": {
    "scrolled": true
   },
   "outputs": [],
   "source": [
    "\n",
    "rospy.init_node(\"Tutorial\")\n"
   ]
  },
  {
   "cell_type": "code",
   "execution_count": null,
   "id": "218028c1",
   "metadata": {},
   "outputs": [],
   "source": [
    "display_trajectory_publisher = rospy.Publisher(\n",
    "    \"/move_group/display_planned_path\",\n",
    "    moveit_msgs.msg.DisplayTrajectory,\n",
    "    queue_size=20,\n",
    ")"
   ]
  },
  {
   "cell_type": "code",
   "execution_count": null,
   "id": "49a57a1a",
   "metadata": {},
   "outputs": [],
   "source": [
    "# We can get a list of all the groups in the robot:\n",
    "group_names = robot.get_group_names()\n",
    "print(\">>>Available Planning Groups:\", group_names)\n",
    "\n",
    "# Sometimes for debugging it is useful to print the entire state of the\n",
    "# robot:\n",
    "print(\">>>Printing robot state\")\n",
    "print(robot.get_current_state())\n"
   ]
  },
  {
   "cell_type": "code",
   "execution_count": null,
   "id": "bdad739b",
   "metadata": {},
   "outputs": [],
   "source": [
    "head = moveit_commander.MoveGroupCommander('head')\n"
   ]
  },
  {
   "cell_type": "code",
   "execution_count": null,
   "id": "49a8415a",
   "metadata": {},
   "outputs": [],
   "source": [
    "arm.get_current_joint_values()"
   ]
  },
  {
   "cell_type": "code",
   "execution_count": null,
   "id": "b59333dc",
   "metadata": {},
   "outputs": [],
   "source": [
    "# We can get the name of the reference frame for this robot:\n",
    "arm_planning_frame = arm.get_planning_frame()\n",
    "head_planning_frame = head.get_planning_frame()\n",
    "wb_planning_frame = whole_body.get_planning_frame()\n",
    "\n",
    "print(f\">>>Planning frame: {arm_planning_frame}, {head_planning_frame}, {wb_planning_frame}\")\n",
    "\n",
    "# We can also print the name of the end-effector link for this group:\n",
    "eef_link = arm.get_end_effector_link()\n",
    "print(f\">>>End effector link: {eef_link}\")"
   ]
  },
  {
   "cell_type": "code",
   "execution_count": null,
   "id": "19ef5f21",
   "metadata": {
    "scrolled": true
   },
   "outputs": [],
   "source": [
    "# We get the joint values from the group and change some of the values:\n",
    "joint_goal = arm.get_current_joint_values()\n",
    "joint_goal[0] = \n",
    "joint_goal[1] = \n",
    "joint_goal[2] = \n",
    "joint_goal[3] = \n",
    "joint_goal[4] = \n",
    "joint_goal[5] = 0.0\n",
    "arm.set_joint_value_target(joint_goal)\n",
    "arm.go()"
   ]
  },
  {
   "cell_type": "code",
   "execution_count": null,
   "id": "391b8929",
   "metadata": {},
   "outputs": [],
   "source": [
    "tf_man = TF_MANAGER()"
   ]
  },
  {
   "cell_type": "code",
   "execution_count": null,
   "id": "c34af4d3",
   "metadata": {},
   "outputs": [],
   "source": [
    "arm.set_named_target()\n",
    "arm.go()"
   ]
  },
  {
   "cell_type": "code",
   "execution_count": null,
   "id": "555bcac3",
   "metadata": {},
   "outputs": [],
   "source": [
    "#Set pose target\n",
    "_, rot = tf_man.getTF(target_frame='hand_palm_link', ref_frame='odom')\n",
    "tf_man.pub_static_tf(pos=[0.3,0.3,0.4], rot = rot, point_name='goal', ref='odom')\n",
    "trans, rot = tf_man.getTF(target_frame='goal', ref_frame='odom')\n",
    "\n",
    "print(trans)\n",
    "pose_goal = geometry_msgs.msg.Pose()\n",
    "pose_goal.orientation.x = \n",
    "pose_goal.orientation.y = \n",
    "pose_goal.orientation.z = \n",
    "pose_goal.orientation.w = \n",
    "\n",
    "pose_goal.position.x = \n",
    "pose_goal.position.y = \n",
    "pose_goal.position.z = \n",
    "\n",
    "whole_body.set_start_state_to_current_state()\n",
    "whole_body.set_pose_target(pose_goal)"
   ]
  },
  {
   "cell_type": "code",
   "execution_count": null,
   "id": "6a10e59b",
   "metadata": {
    "scrolled": true
   },
   "outputs": [],
   "source": [
    "# `go()` returns a boolean indicating whether the planning and execution was successful.\n",
    "whole_body.go(wait=True)\n",
    "# Calling `stop()` ensures that there is no residual movement\n",
    "#whole_body.stop()\n",
    "# It is always good to clear your targets after planning with poses.\n",
    "# Note: there is no equivalent function for clear_joint_value_targets().\n",
    "whole_body.clear_pose_targets()"
   ]
  },
  {
   "cell_type": "code",
   "execution_count": null,
   "id": "e68e3176",
   "metadata": {
    "scrolled": true
   },
   "outputs": [],
   "source": [
    "arm.set_named_target('neutral')\n",
    "arm.go()\n"
   ]
  },
  {
   "cell_type": "code",
   "execution_count": null,
   "id": "7a6358dd",
   "metadata": {},
   "outputs": [],
   "source": [
    "# Cartesian Paths\n",
    "waypoints = []\n",
    "scale = 1\n",
    "\n",
    "wpose = whole_body.get_current_pose().pose\n",
    "wpose.position.z -= scale * 0.1  # First move up (z)\n",
    "wpose.position.y += scale * 0.2  # and sideways (y)\n",
    "waypoints.append(copy.deepcopy(wpose))\n",
    "\n",
    "wpose.position.x += scale * 0.1  # Second move forward/backwards in (x)\n",
    "waypoints.append(copy.deepcopy(wpose))\n",
    "\n",
    "wpose.position.y -= scale * 0.1  # Third move sideways (y)\n",
    "waypoints.append(copy.deepcopy(wpose))\n",
    "\n",
    "# We want the Cartesian path to be interpolated at a resolution of 1 cm\n",
    "# which is why we will specify 0.01 as the eef_step in Cartesian\n",
    "# translation.  We will disable the jump threshold by setting it to 0.0,\n",
    "# ignoring the check for infeasible jumps in joint space, which is sufficient\n",
    "# for this tutorial.\n",
    "(plan, fraction) = whole_body.compute_cartesian_path(\n",
    "    waypoints, 0.01, 0.0  # waypoints to follow  # eef_step\n",
    ")  # jump_threshold\n",
    "\n",
    "# Note: We are just planning, not asking move_group to actually move the robot yet:\n",
    "print(f'fraction : {fraction*100}%')"
   ]
  },
  {
   "cell_type": "code",
   "execution_count": null,
   "id": "97a67f4b",
   "metadata": {
    "scrolled": true
   },
   "outputs": [],
   "source": [
    "##Display trajectory\n",
    "display_trajectory = moveit_msgs.msg.DisplayTrajectory()\n",
    "display_trajectory.trajectory_start = robot.get_current_state()\n",
    "display_trajectory.trajectory.append(plan)\n",
    "# Publish\n",
    "display_trajectory_publisher.publish(display_trajectory)"
   ]
  },
  {
   "cell_type": "code",
   "execution_count": null,
   "id": "55d75636",
   "metadata": {
    "scrolled": true
   },
   "outputs": [],
   "source": [
    "##Execute plan\n",
    "whole_body.execute(plan, wait=True)"
   ]
  },
  {
   "cell_type": "code",
   "execution_count": null,
   "id": "71f554ef",
   "metadata": {
    "scrolled": true
   },
   "outputs": [],
   "source": [
    "##Adding objects to planning scene\n",
    "box_pose = geometry_msgs.msg.PoseStamped()\n",
    "box_pose.header.frame_id = \"hand_palm_link\"\n",
    "box_pose.pose.orientation.w = 1.0\n",
    "box_pose.pose.position.z =  0.20  # below the panda_hand frame\n",
    "box_name = \"box\"\n",
    "scene.add_box(box_name, box_pose, size=(0.075, 0.05, 0.075))"
   ]
  },
  {
   "cell_type": "code",
   "execution_count": null,
   "id": "f7bc72a6",
   "metadata": {
    "scrolled": true
   },
   "outputs": [],
   "source": [
    "##attaching object to the gripper\n",
    "grasping_group = \"gripper\"\n",
    "touch_links = robot.get_link_names(group=grasping_group)\n",
    "scene.attach_box(eef_link, box_name, touch_links=touch_links)"
   ]
  },
  {
   "cell_type": "code",
   "execution_count": null,
   "id": "08065dbb",
   "metadata": {
    "scrolled": true
   },
   "outputs": [],
   "source": [
    "##Detaching objects\n",
    "scene.remove_attached_object(eef_link, name=box_name)\n",
    "\n",
    "##Remove objects\n",
    "scene.remove_world_object(box_name)"
   ]
  },
  {
   "cell_type": "code",
   "execution_count": null,
   "id": "a675de30",
   "metadata": {
    "scrolled": false
   },
   "outputs": [],
   "source": [
    "grip = GRIPPER()"
   ]
  },
  {
   "cell_type": "code",
   "execution_count": null,
   "id": "a6752258",
   "metadata": {},
   "outputs": [],
   "source": [
    "grip.open()"
   ]
  },
  {
   "cell_type": "code",
   "execution_count": null,
   "id": "272e4032",
   "metadata": {
    "scrolled": true
   },
   "outputs": [],
   "source": [
    "arm.set_named_target('neutral')\n",
    "arm.go()"
   ]
  },
  {
   "cell_type": "code",
   "execution_count": null,
   "id": "2a6cf7df",
   "metadata": {},
   "outputs": [],
   "source": [
    "whole_body.set_num_planning_attempts(10)\n",
    "whole_body.set_planning_time(5)"
   ]
  },
  {
   "cell_type": "code",
   "execution_count": null,
   "id": "dca8578a",
   "metadata": {},
   "outputs": [],
   "source": []
  },
  {
   "cell_type": "code",
   "execution_count": null,
   "id": "f787e467",
   "metadata": {},
   "outputs": [],
   "source": []
  },
  {
   "cell_type": "code",
   "execution_count": null,
   "id": "477ae714",
   "metadata": {},
   "outputs": [],
   "source": [
    "# trans, rot  = tf_man.getTF(target_frame='hand_palm_link',ref_frame='odom')\n",
    "tf_man.pub_static_tf(point_name='grasp', ref='hand_palm_link', pos=[-0.1,0,0])"
   ]
  },
  {
   "cell_type": "code",
   "execution_count": null,
   "id": "ab1af5fd",
   "metadata": {},
   "outputs": [],
   "source": [
    "tf_man.change_ref_frame_tf(point_name='grasp',new_frame='odom')"
   ]
  },
  {
   "cell_type": "code",
   "execution_count": null,
   "id": "f21f3dd3",
   "metadata": {
    "scrolled": true
   },
   "outputs": [],
   "source": []
  },
  {
   "cell_type": "code",
   "execution_count": null,
   "id": "f323dec0",
   "metadata": {
    "scrolled": true
   },
   "outputs": [],
   "source": [
    "arm.set_named_target('neutral')\n",
    "arm.go()"
   ]
  },
  {
   "cell_type": "code",
   "execution_count": null,
   "id": "0b010585",
   "metadata": {},
   "outputs": [],
   "source": [
    "wb = moveit_commander.MoveGroupCommander('whole_body_weighted')"
   ]
  },
  {
   "cell_type": "code",
   "execution_count": null,
   "id": "37ec9cb9",
   "metadata": {},
   "outputs": [],
   "source": [
    "trans, rot = tf_man.getTF(target_frame='goal', ref_frame='odom')\n",
    "wb.set_position_target(trans)\n",
    "wb.go()"
   ]
  },
  {
   "cell_type": "code",
   "execution_count": null,
   "id": "adbd9ee2",
   "metadata": {},
   "outputs": [],
   "source": [
    "trans, _ = tf_man.getTF(target_frame='goal', ref_frame='odom')\n",
    "_, rot = tf_man.getTF(target_frame='hand_palm_link', ref_frame='odom')\n",
    "tf_man.pub_static_tf(pos=trans, rot=rot, point_name='goal', ref='odom',)"
   ]
  },
  {
   "cell_type": "code",
   "execution_count": null,
   "id": "903c7c09",
   "metadata": {},
   "outputs": [],
   "source": []
  }
 ],
 "metadata": {
  "kernelspec": {
   "display_name": "Python 3 (ipykernel)",
   "language": "python",
   "name": "python3"
  },
  "language_info": {
   "codemirror_mode": {
    "name": "ipython",
    "version": 3
   },
   "file_extension": ".py",
   "mimetype": "text/x-python",
   "name": "python",
   "nbconvert_exporter": "python",
   "pygments_lexer": "ipython3",
   "version": "3.8.10"
  }
 },
 "nbformat": 4,
 "nbformat_minor": 5
}
