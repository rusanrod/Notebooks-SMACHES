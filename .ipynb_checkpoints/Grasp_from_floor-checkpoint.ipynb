{
 "cells": [
  {
   "cell_type": "code",
   "execution_count": 3,
   "id": "853d9c8e",
   "metadata": {},
   "outputs": [],
   "source": [
    "#!/usr/bin/env python3\n",
    "import sys\n",
    "import smach\n",
    "import rospy\n",
    "import cv2 as cv\n",
    "import numpy as np\n",
    "from std_srvs.srv import Empty\n",
    "import moveit_commander\n",
    "import moveit_msgs.msg\n",
    "from geometry_msgs.msg import PoseStamped\n",
    "import tf2_ros as tf2\n",
    "from tf2_sensor_msgs.tf2_sensor_msgs import do_transform_cloud\n",
    "from utils_takeshi import *\n",
    "from grasp_utils import *"
   ]
  },
  {
   "cell_type": "code",
   "execution_count": 4,
   "id": "42089a21",
   "metadata": {},
   "outputs": [
    {
     "name": "stderr",
     "output_type": "stream",
     "text": [
      "\u001b[33m[ WARN] [1670434477.411383736]: Link hand_l_finger_vacuum_frame has visual geometry but no collision geometry. Collision geometry will be left empty. Fix your URDF file by explicitly specifying collision geometry.\u001b[0m\n",
      "\u001b[33m[ WARN] [1670434477.419273949]: Link head_l_stereo_camera_link has visual geometry but no collision geometry. Collision geometry will be left empty. Fix your URDF file by explicitly specifying collision geometry.\u001b[0m\n",
      "\u001b[33m[ WARN] [1670434477.421451039]: Link head_r_stereo_camera_link has visual geometry but no collision geometry. Collision geometry will be left empty. Fix your URDF file by explicitly specifying collision geometry.\u001b[0m\n",
      "\u001b[33m[ WARN] [1670434477.423370319]: Group state 'neutral' doesn't specify all group joints in group 'arm'. wrist_ft_sensor_frame_joint is missing.\u001b[0m\n",
      "\u001b[33m[ WARN] [1670434477.423582368]: Group state 'go' doesn't specify all group joints in group 'arm'. wrist_ft_sensor_frame_joint is missing.\u001b[0m\n",
      "\u001b[33m[ WARN] [1670434477.920994720]: Kinematics solver doesn't support #attempts anymore, but only a timeout.\n",
      "Please remove the parameter '/robot_description_kinematics/arm/kinematics_solver_attempts' from your configuration.\u001b[0m\n",
      "\u001b[33m[ WARN] [1670434478.139830520]: IK plugin for group 'whole_body' relies on deprecated API. Please implement initialize(RobotModel, ...).\u001b[0m\n",
      "\u001b[33m[ WARN] [1670434478.164212551]: IK plugin for group 'whole_body_weighted' relies on deprecated API. Please implement initialize(RobotModel, ...).\u001b[0m\n",
      "\u001b[33m[ WARN] [1670434478.187113371]: IK plugin for group 'whole_body_light' relies on deprecated API. Please implement initialize(RobotModel, ...).\u001b[0m\n"
     ]
    }
   ],
   "source": [
    "    global head, wb, arm, tf_man, gaze, robot, scene, calibrate_wrist #wbw, wbl\n",
    "    global rgbd, hand_cam, wrist, gripper, grasp_base, clear_octo_client, service_client, AR_starter, AR_stopper\n",
    "\n",
    "    moveit_commander.roscpp_initialize(sys.argv)\n",
    "    rospy.init_node('pruebas_de_placeo')\n",
    "\n",
    "    head = moveit_commander.MoveGroupCommander('head')\n",
    "    wb = moveit_commander.MoveGroupCommander('whole_body')\n",
    "    arm =  moveit_commander.MoveGroupCommander('arm')\n",
    "    # wbl = moveit_commander.MoveGroupCommander('whole_body_light')\n",
    "    #wbw.set_workspace([-6.0, -6.0, 6.0, 6.0]) \n",
    "    #wbl.set_workspace([-6.0, -6.0, 6.0, 6.0])  \n",
    "    wb.set_workspace([-6.0, -6.0, 6.0, 6.0])  \n",
    "    \n",
    "    robot = moveit_commander.RobotCommander()\n",
    "    scene = moveit_commander.PlanningSceneInterface()\n",
    "    \n",
    "    tf_man = TF_MANAGER()\n",
    "    rgbd = RGBD()\n",
    "    hand_cam = HAND_RGB()\n",
    "    wrist = WRIST_SENSOR()\n",
    "    gripper = GRIPPER()\n",
    "    grasp_base = OMNIBASE()\n",
    "    gaze = GAZE()\n",
    "\n",
    "    clear_octo_client = rospy.ServiceProxy('/clear_octomap', Empty)\n",
    "    calibrate_wrist = rospy.ServiceProxy('/hsrb/wrist_wrench/readjust_offset',Empty)\n",
    "    AR_starter = rospy.ServiceProxy('/marker/start_recognition',Empty)\n",
    "    AR_stopper = rospy.ServiceProxy('/marker/stop_recognition',Empty)\n",
    "    \n",
    "    head.set_planning_time(0.3)\n",
    "    head.set_num_planning_attempts(1)\n",
    "    wb.set_num_planning_attempts(10)"
   ]
  },
  {
   "cell_type": "code",
   "execution_count": 5,
   "id": "d9cdca9d",
   "metadata": {},
   "outputs": [],
   "source": [
    "h_search = [0.0,-0.80]\n",
    "arm_search = [0.0,0.0,1.65,-1.5707,0.0,0.0]\n",
    "floor_pose = [0.0,-2.47,0.0,0.86,-0.032,0.0]\n",
    "# arm.set_joint_value_target(floor_pose)\n",
    "# arm.go()"
   ]
  },
  {
   "cell_type": "code",
   "execution_count": 6,
   "id": "c552c67b",
   "metadata": {},
   "outputs": [
    {
     "data": {
      "text/plain": [
       "True"
      ]
     },
     "execution_count": 6,
     "metadata": {},
     "output_type": "execute_result"
    }
   ],
   "source": [
    "# AR_starter()\n",
    "arm.set_joint_value_target(arm_search)\n",
    "arm.go()\n",
    "head.set_joint_value_target(h_search)\n",
    "head.go()"
   ]
  },
  {
   "cell_type": "code",
   "execution_count": 26,
   "id": "f2eded78",
   "metadata": {},
   "outputs": [
    {
     "data": {
      "text/plain": [
       "True"
      ]
     },
     "execution_count": 26,
     "metadata": {},
     "output_type": "execute_result"
    }
   ],
   "source": [
    "arm.set_joint_value_target(floor_pose)\n",
    "arm.go()"
   ]
  },
  {
   "cell_type": "code",
   "execution_count": 8,
   "id": "00028994",
   "metadata": {},
   "outputs": [
    {
     "data": {
      "text/plain": []
     },
     "execution_count": 8,
     "metadata": {},
     "output_type": "execute_result"
    }
   ],
   "source": [
    "# hand,_=tf_man.getTF(target_frame='hand_palm_link', ref_frame='base_link')\n",
    "AR_starter.call()"
   ]
  },
  {
   "cell_type": "code",
   "execution_count": 27,
   "id": "fc6638d6",
   "metadata": {},
   "outputs": [],
   "source": [
    "\n",
    "# hcp = gaze.relative(hand[0]+0.2,hand[1], hand[2])\n",
    "\n",
    "# hcp = [0,-0.5]\n",
    "head.set_joint_value_target(h_search)\n",
    "head.go()\n",
    "AR_starter.call()\n",
    "gripper.open()"
   ]
  },
  {
   "cell_type": "code",
   "execution_count": 28,
   "id": "ed68fa26",
   "metadata": {
    "scrolled": true
   },
   "outputs": [
    {
     "name": "stdout",
     "output_type": "stream",
     "text": [
      "[INFO] [1670434955.348627]: Distance to goal: 0.043, 0.007\n",
      "[INFO] [1670434955.572638]: Distance to goal: 0.043, 0.007\n",
      "[INFO] [1670434955.787043]: Distance to goal: 0.043, 0.007\n",
      "[INFO] [1670434956.010176]: Distance to goal: 0.041, 0.006\n",
      "[INFO] [1670434956.219718]: Distance to goal: 0.041, 0.006\n",
      "[INFO] [1670434956.426238]: Distance to goal: 0.039, 0.006\n",
      "[INFO] [1670434956.643282]: Distance to goal: 0.036, 0.005\n",
      "[INFO] [1670434956.896344]: Distance to goal: 0.034, 0.005\n",
      "[INFO] [1670434957.102925]: Distance to goal: 0.034, 0.005\n",
      "[INFO] [1670434957.315004]: Distance to goal: 0.032, 0.005\n",
      "[INFO] [1670434957.521104]: Distance to goal: 0.030, 0.004\n",
      "[INFO] [1670434957.737543]: Distance to goal: 0.028, 0.003\n",
      "[INFO] [1670434957.945080]: Distance to goal: 0.028, 0.003\n",
      "[INFO] [1670434958.150592]: Distance to goal: 0.026, 0.003\n",
      "[INFO] [1670434958.356530]: Distance to goal: 0.024, 0.003\n",
      "[INFO] [1670434958.561382]: Distance to goal: 0.023, 0.003\n",
      "[INFO] [1670434958.779117]: Distance to goal: 0.021, 0.002\n",
      "[INFO] [1670434958.992412]: Distance to goal: 0.021, 0.002\n",
      "[INFO] [1670434959.199584]: Distance to goal: 0.020, 0.002\n"
     ]
    }
   ],
   "source": [
    "succ = False\n",
    "THRESHOLD = 0.02\n",
    "while not succ:\n",
    "    trans,_ = tf_man.getTF(target_frame='ar_marker/4', ref_frame='hand_palm_link')\n",
    "    if type(trans) is not bool:\n",
    "        _, eY, eX = trans\n",
    "        eX -= 0.05\n",
    "        rospy.loginfo(\"Distance to goal: {:.3f}, {:.3f}\".format(eX, eY))\n",
    "    if abs(eY) < THRESHOLD:\n",
    "        eY = 0\n",
    "    if abs(eX) < THRESHOLD:\n",
    "        eX = 0\n",
    "    succ =  eX == 0 and eY == 0\n",
    "    grasp_base.tiny_move(velX=0.2*eX, velY=-0.4*eY, std_time=0.2, MAX_VEL=0.3) #Pending test"
   ]
  },
  {
   "cell_type": "code",
   "execution_count": 29,
   "id": "950c6306",
   "metadata": {},
   "outputs": [],
   "source": [
    "gripper.close()"
   ]
  },
  {
   "cell_type": "code",
   "execution_count": 30,
   "id": "0400f4ee",
   "metadata": {},
   "outputs": [
    {
     "data": {
      "text/plain": [
       "True"
      ]
     },
     "execution_count": 30,
     "metadata": {},
     "output_type": "execute_result"
    }
   ],
   "source": [
    "arm.set_named_target('neutral')\n",
    "arm.go()\n"
   ]
  },
  {
   "cell_type": "code",
   "execution_count": 62,
   "id": "dd5e82c5",
   "metadata": {},
   "outputs": [],
   "source": [
    "talk('done')"
   ]
  },
  {
   "cell_type": "code",
   "execution_count": 24,
   "id": "357bd6f8",
   "metadata": {},
   "outputs": [
    {
     "data": {
      "text/plain": [
       "True"
      ]
     },
     "execution_count": 24,
     "metadata": {},
     "output_type": "execute_result"
    }
   ],
   "source": [
    "head.set_named_target('neutral')\n",
    "head.go()"
   ]
  },
  {
   "cell_type": "code",
   "execution_count": 23,
   "id": "939f4675",
   "metadata": {},
   "outputs": [],
   "source": [
    "gripper.open()"
   ]
  },
  {
   "cell_type": "code",
   "execution_count": 31,
   "id": "d10a6714",
   "metadata": {},
   "outputs": [
    {
     "data": {
      "text/plain": [
       "[0.0, 0.0, 0.0]"
      ]
     },
     "execution_count": 31,
     "metadata": {},
     "output_type": "execute_result"
    }
   ],
   "source": [
    "wrist.get_force()"
   ]
  },
  {
   "cell_type": "code",
   "execution_count": null,
   "id": "1d98898c",
   "metadata": {},
   "outputs": [],
   "source": []
  }
 ],
 "metadata": {
  "kernelspec": {
   "display_name": "Python 3 (ipykernel)",
   "language": "python",
   "name": "python3"
  },
  "language_info": {
   "codemirror_mode": {
    "name": "ipython",
    "version": 3
   },
   "file_extension": ".py",
   "mimetype": "text/x-python",
   "name": "python",
   "nbconvert_exporter": "python",
   "pygments_lexer": "ipython3",
   "version": "3.8.10"
  }
 },
 "nbformat": 4,
 "nbformat_minor": 5
}
