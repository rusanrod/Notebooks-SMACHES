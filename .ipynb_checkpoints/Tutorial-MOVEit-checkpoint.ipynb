{
 "cells": [
  {
   "cell_type": "code",
   "execution_count": 1,
   "id": "0c66cc59",
   "metadata": {},
   "outputs": [],
   "source": [
    "import sys\n",
    "import copy\n",
    "import rospy\n",
    "import moveit_commander\n",
    "import moveit_msgs.msg\n",
    "import geometry_msgs.msg\n",
    "from std_msgs.msg import String\n",
    "from moveit_commander.conversions import pose_to_list"
   ]
  },
  {
   "cell_type": "code",
   "execution_count": 2,
   "id": "aa1b866a",
   "metadata": {},
   "outputs": [],
   "source": [
    "import cv2 \n",
    "import tf as tf\n",
    "import tf2_ros as tf2\n",
    "import rospy\n",
    "import numpy as np\n",
    "import ros_numpy\n",
    "from std_msgs.msg import String\n",
    "from tmc_msgs.msg import Voice\n",
    "from geometry_msgs.msg import Twist, WrenchStamped, TransformStamped\n",
    "from sensor_msgs.msg import Image as ImageMsg, PointCloud2\n",
    "import tmc_control_msgs.msg\n",
    "import trajectory_msgs.msg\n",
    "class TF_MANAGER():\n",
    "    def __init__(self):\n",
    "        self._tfbuff = tf2.Buffer()\n",
    "        self._lis = tf2.TransformListener(self._tfbuff)\n",
    "        self._tf_static_broad = tf2.StaticTransformBroadcaster()\n",
    "        self._broad = tf2.TransformBroadcaster()\n",
    "\n",
    "    def _fillMsg(self, pos = [0,0,0], rot = [0,0,0,1] ,point_name ='', ref=\"map\"):\n",
    "        TS = TransformStamped()\n",
    "        TS.header.stamp = rospy.Time.now()\n",
    "        TS.header.frame_id = ref\n",
    "        TS.child_frame_id = point_name\n",
    "        TS.transform.translation.x = pos[0]\n",
    "        TS.transform.translation.y = pos[1]\n",
    "        TS.transform.translation.z = pos[2]\n",
    "        TS.transform.rotation.x = rot[0]\n",
    "        TS.transform.rotation.y = rot[1]\n",
    "        TS.transform.rotation.z = rot[2]\n",
    "        TS.transform.rotation.w = rot[3]\n",
    "        return TS\n",
    "\n",
    "    def pub_tf(self, pos = [0,0,0], rot = [0,0,0,1] ,point_name ='', ref=\"map\"):\n",
    "        dinamic_ts = self._fillMsg(pos, rot, point_name, ref)\n",
    "        self._broad.sendTransform(dinamic_ts)\n",
    "\n",
    "    def pub_static_tf(self, pos = [0,0,0], rot = [0,0,0,1] ,point_name ='', ref=\"map\"):\n",
    "        static_ts = self._fillMsg(pos, rot, point_name, ref)\n",
    "        self._tf_static_broad.sendTransform(static_ts)\n",
    "\n",
    "    def change_ref_frame_tf(self, point_name = '', new_frame = 'map'):\n",
    "        try:\n",
    "            traf = self._tfbuff.lookup_transform(new_frame, point_name, rospy.Time(0))\n",
    "            translation, rotational = self.tf2_obj_2_arr(traf)\n",
    "            self.pub_static_tf(pos = translation, rot = rotational, point_name = point_name, ref = new_frame)\n",
    "            return True\n",
    "        except:\n",
    "            return False\n",
    "\n",
    "    def getTF(self, target_frame='', ref_frame='map'):\n",
    "        try:\n",
    "            tf = self._tfbuff.lookup_transform(ref_frame, target_frame, rospy.Time(0))\n",
    "            return self.tf2_obj_2_arr(tf)\n",
    "        except:\n",
    "            return [False,False]\n",
    "\n",
    "    def tf2_obj_2_arr(self, transf):\n",
    "        pos = []\n",
    "        pos.append(transf.transform.translation.x)\n",
    "        pos.append(transf.transform.translation.y)\n",
    "        pos.append(transf.transform.translation.z)\n",
    "    \n",
    "        rot = []\n",
    "        rot.append(transf.transform.rotation.x)\n",
    "        rot.append(transf.transform.rotation.y)\n",
    "        rot.append(transf.transform.rotation.z)\n",
    "        rot.append(transf.transform.rotation.w)\n",
    "\n",
    "        return [pos, rot]\n",
    "class GRIPPER():\n",
    "    def __init__(self):\n",
    "        self._grip_cmd_pub = rospy.Publisher('/hsrb/gripper_controller/command',\n",
    "                               trajectory_msgs.msg.JointTrajectory, queue_size=100)\n",
    "        self._grip_cmd_force = rospy.Publisher('/hsrb/gripper_controller/grasp/goal',\n",
    "        \t\t\ttmc_control_msgs.msg.GripperApplyEffortActionGoal, queue_size=100)\n",
    "        \t\t\t\n",
    "        self._joint_name = \"hand_motor_joint\"\n",
    "        self._position = 0.5\n",
    "        self._velocity = 0.5\n",
    "        self._effort = 0.0\n",
    "        self._duration = 1\n",
    "\n",
    "    def _manipulate_gripper(self):\n",
    "        traj = trajectory_msgs.msg.JointTrajectory()\n",
    "        traj.joint_names = [self._joint_name]\n",
    "        p = trajectory_msgs.msg.JointTrajectoryPoint()\n",
    "        p.positions = [self._position]\n",
    "        p.velocities = [self._velocity]\n",
    "        p.accelerations = []\n",
    "        p.effort = [self._effort]\n",
    "        p.time_from_start = rospy.Duration(self._duration)\n",
    "        traj.points = [p]\n",
    "        self._grip_cmd_pub.publish(traj)\n",
    "        \n",
    "    def _apply_force(self):\n",
    "        app_force = tmc_control_msgs.msg.GripperApplyEffortActionGoal()\n",
    "        app_force.goal.effort = -0.5\n",
    "        self._grip_cmd_force.publish(app_force)\n",
    "        \n",
    "    def change_velocity(self, newVel):\n",
    "        self._velocity = newVel\n",
    "    \n",
    "    def open(self):\n",
    "        self._position = 1.23\n",
    "        self._effort = 0\n",
    "        self._manipulate_gripper()\n",
    "\n",
    "    def steady(self):\n",
    "        self._position = -0.82\n",
    "        self._effort = -0.3\n",
    "        self._manipulate_gripper()\n",
    "        \n",
    "    def close(self):\n",
    "        self._position = -0.82\n",
    "        self._effort = -0.3\n",
    "        self._manipulate_gripper()\n",
    "        self._apply_force()\n",
    "        rospy.sleep(0.8)"
   ]
  },
  {
   "cell_type": "code",
   "execution_count": 3,
   "id": "caff30c9",
   "metadata": {
    "scrolled": true
   },
   "outputs": [
    {
     "name": "stderr",
     "output_type": "stream",
     "text": [
      "\u001b[33m[ WARN] [1667835890.783764523, 2559.581000000]: Link hand_l_finger_vacuum_frame has visual geometry but no collision geometry. Collision geometry will be left empty. Fix your URDF file by explicitly specifying collision geometry.\u001b[0m\n",
      "\u001b[33m[ WARN] [1667835890.789098923, 2559.581000000]: Link head_l_stereo_camera_link has visual geometry but no collision geometry. Collision geometry will be left empty. Fix your URDF file by explicitly specifying collision geometry.\u001b[0m\n",
      "\u001b[33m[ WARN] [1667835890.789156572, 2559.581000000]: Link head_r_stereo_camera_link has visual geometry but no collision geometry. Collision geometry will be left empty. Fix your URDF file by explicitly specifying collision geometry.\u001b[0m\n",
      "\u001b[33m[ WARN] [1667835890.790211642, 2559.581000000]: Group state 'neutral' doesn't specify all group joints in group 'arm'. wrist_ft_sensor_frame_joint is missing.\u001b[0m\n",
      "\u001b[33m[ WARN] [1667835890.790251809, 2559.581000000]: Group state 'go' doesn't specify all group joints in group 'arm'. wrist_ft_sensor_frame_joint is missing.\u001b[0m\n",
      "\u001b[33m[ WARN] [1667835891.111241218, 2559.643000000]: Kinematics solver doesn't support #attempts anymore, but only a timeout.\n",
      "Please remove the parameter '/robot_description_kinematics/arm/kinematics_solver_attempts' from your configuration.\u001b[0m\n",
      "\u001b[33m[ WARN] [1667835891.209270997, 2559.665000000]: IK plugin for group 'whole_body' relies on deprecated API. Please implement initialize(RobotModel, ...).\u001b[0m\n",
      "\u001b[33m[ WARN] [1667835891.228943667, 2559.665000000]: IK plugin for group 'whole_body_weighted' relies on deprecated API. Please implement initialize(RobotModel, ...).\u001b[0m\n",
      "\u001b[33m[ WARN] [1667835891.279701573, 2559.665000000]: IK plugin for group 'whole_body_light' relies on deprecated API. Please implement initialize(RobotModel, ...).\u001b[0m\n"
     ]
    }
   ],
   "source": [
    "moveit_commander.roscpp_initialize(sys.argv)\n",
    "rospy.init_node(\"Tutorial\", anonymous=True)\n",
    "robot = moveit_commander.RobotCommander()\n",
    "scene = moveit_commander.PlanningSceneInterface()\n"
   ]
  },
  {
   "cell_type": "code",
   "execution_count": 4,
   "id": "218028c1",
   "metadata": {},
   "outputs": [
    {
     "name": "stderr",
     "output_type": "stream",
     "text": [
      "\u001b[33m[ WARN] [1667835892.861681281, 2559.973000000]: TF_REPEATED_DATA ignoring data with redundant timestamp for frame odom at time 2560.011000 according to authority unknown_publisher\u001b[0m\n"
     ]
    }
   ],
   "source": [
    "display_trajectory_publisher = rospy.Publisher(\n",
    "    \"/move_group/display_planned_path\",\n",
    "    moveit_msgs.msg.DisplayTrajectory,\n",
    "    queue_size=20,\n",
    ")"
   ]
  },
  {
   "cell_type": "code",
   "execution_count": 5,
   "id": "49a57a1a",
   "metadata": {},
   "outputs": [
    {
     "name": "stdout",
     "output_type": "stream",
     "text": [
      ">>>Available Planning Groups: ['arm', 'base', 'gripper', 'head', 'whole_body', 'whole_body_light', 'whole_body_weighted']\n",
      ">>>Printing robot state\n",
      "joint_state: \n",
      "  header: \n",
      "    seq: 0\n",
      "    stamp: \n",
      "      secs: 0\n",
      "      nsecs:         0\n",
      "    frame_id: \"odom\"\n",
      "  name: \n",
      "    - arm_lift_joint\n",
      "    - arm_flex_joint\n",
      "    - arm_roll_joint\n",
      "    - wrist_flex_joint\n",
      "    - wrist_roll_joint\n",
      "    - wrist_ft_sensor_frame_joint\n",
      "    - hand_l_proximal_joint\n",
      "    - hand_l_spring_proximal_joint\n",
      "    - hand_l_mimic_distal_joint\n",
      "    - hand_l_distal_joint\n",
      "    - hand_motor_joint\n",
      "    - hand_r_proximal_joint\n",
      "    - hand_r_spring_proximal_joint\n",
      "    - hand_r_mimic_distal_joint\n",
      "    - hand_r_distal_joint\n",
      "    - base_b_bumper_joint\n",
      "    - base_f_bumper_joint\n",
      "    - base_roll_joint\n",
      "    - base_l_drive_wheel_joint\n",
      "    - base_l_passive_wheel_x_frame_joint\n",
      "    - base_l_passive_wheel_y_frame_joint\n",
      "    - base_l_passive_wheel_z_joint\n",
      "    - base_r_drive_wheel_joint\n",
      "    - base_r_passive_wheel_x_frame_joint\n",
      "    - base_r_passive_wheel_y_frame_joint\n",
      "    - base_r_passive_wheel_z_joint\n",
      "    - torso_lift_joint\n",
      "    - head_pan_joint\n",
      "    - head_tilt_joint\n",
      "  position: [-6.562589545968385e-06, -9.19010612614457e-05, -3.1511962639285684e-06, -7.70116064812143e-05, 6.158596042027398e-06, 0.0, -0.049209007860179454, 0.018143325792105536, -0.018143325792105536, -0.03779099213982054, -0.049209007860179454, -0.049209007860179454, 0.03289177313478486, -0.03289177313478486, -0.03779099213982054, 0.0, 0.0, -2.5381567128945903e-05, 0.15379803974935058, 0.0, 0.0, 0.0, 0.0675213379619537, 0.0, 0.0, 0.0, -3.2812947729841925e-06, -1.3742934888760772e-05, 0.0019101190618933117]\n",
      "  velocity: []\n",
      "  effort: []\n",
      "multi_dof_joint_state: \n",
      "  header: \n",
      "    seq: 0\n",
      "    stamp: \n",
      "      secs: 0\n",
      "      nsecs:         0\n",
      "    frame_id: \"odom\"\n",
      "  joint_names: \n",
      "    - world_joint\n",
      "  transforms: \n",
      "    - \n",
      "      translation: \n",
      "        x: 0.004446922416572879\n",
      "        y: -0.0014592566123719174\n",
      "        z: 0.0\n",
      "      rotation: \n",
      "        x: 0.0\n",
      "        y: 0.0\n",
      "        z: -0.0064822315071358634\n",
      "        w: 0.9999789901166364\n",
      "  twist: []\n",
      "  wrench: []\n",
      "attached_collision_objects: []\n",
      "is_diff: False\n"
     ]
    },
    {
     "name": "stderr",
     "output_type": "stream",
     "text": [
      "\u001b[33m[ WARN] [1667835900.284779224, 2561.399000000]: Joint values for monitored state are requested but the full state is not known\u001b[0m\n"
     ]
    }
   ],
   "source": [
    "# We can get a list of all the groups in the robot:\n",
    "group_names = robot.get_group_names()\n",
    "print(\">>>Available Planning Groups:\", robot.get_group_names())\n",
    "\n",
    "# Sometimes for debugging it is useful to print the entire state of the\n",
    "# robot:\n",
    "print(\">>>Printing robot state\")\n",
    "print(robot.get_current_state())\n"
   ]
  },
  {
   "cell_type": "code",
   "execution_count": 6,
   "id": "bdad739b",
   "metadata": {
    "scrolled": true
   },
   "outputs": [
    {
     "name": "stderr",
     "output_type": "stream",
     "text": [
      "\u001b[33m[ WARN] [1667835900.603458864, 2561.455000000]: TF_REPEATED_DATA ignoring data with redundant timestamp for frame odom at time 2561.477000 according to authority unknown_publisher\u001b[0m\n",
      "\u001b[33m[ WARN] [1667835906.127045034, 2562.702000000]: TF_REPEATED_DATA ignoring data with redundant timestamp for frame odom at time 2562.726000 according to authority unknown_publisher\u001b[0m\n",
      "\u001b[33m[ WARN] [1667835912.884280447, 2564.354000000]: TF_REPEATED_DATA ignoring data with redundant timestamp for frame odom at time 2564.354000 according to authority unknown_publisher\u001b[0m\n",
      "\u001b[33m[ WARN] [1667835917.850803396, 2565.560000000]: TF_REPEATED_DATA ignoring data with redundant timestamp for frame odom at time 2565.600000 according to authority unknown_publisher\u001b[0m\n",
      "\u001b[33m[ WARN] [1667835930.940709200, 2568.603000000]: TF_REPEATED_DATA ignoring data with redundant timestamp for frame odom at time 2568.603000 according to authority unknown_publisher\u001b[0m\n",
      "\u001b[33m[ WARN] [1667835931.497853571, 2568.708000000]: TF_REPEATED_DATA ignoring data with redundant timestamp for frame odom at time 2568.736000 according to authority unknown_publisher\u001b[0m\n",
      "\u001b[33m[ WARN] [1667835936.718645711, 2569.713000000]: TF_REPEATED_DATA ignoring data with redundant timestamp for frame odom at time 2569.761000 according to authority unknown_publisher\u001b[0m\n",
      "\u001b[33m[ WARN] [1667835958.869709133, 2574.958000000]: TF_REPEATED_DATA ignoring data with redundant timestamp for frame odom at time 2574.959000 according to authority unknown_publisher\u001b[0m\n",
      "\u001b[33m[ WARN] [1667835965.164192606, 2576.398000000]: TF_REPEATED_DATA ignoring data with redundant timestamp for frame odom at time 2576.432000 according to authority unknown_publisher\u001b[0m\n",
      "\u001b[33m[ WARN] [1667835974.680256105, 2578.678000000]: TF_REPEATED_DATA ignoring data with redundant timestamp for frame odom at time 2578.702000 according to authority unknown_publisher\u001b[0m\n",
      "\u001b[33m[ WARN] [1667835974.981991601, 2578.741000000]: TF_REPEATED_DATA ignoring data with redundant timestamp for frame odom at time 2578.793000 according to authority unknown_publisher\u001b[0m\n",
      "\u001b[33m[ WARN] [1667835975.259561447, 2578.874000000]: TF_REPEATED_DATA ignoring data with redundant timestamp for frame odom at time 2578.924000 according to authority unknown_publisher\u001b[0m\n",
      "\u001b[33m[ WARN] [1667835978.673119719, 2579.709000000]: TF_REPEATED_DATA ignoring data with redundant timestamp for frame odom at time 2579.741000 according to authority unknown_publisher\u001b[0m\n"
     ]
    }
   ],
   "source": [
    "head = moveit_commander.MoveGroupCommander('head')\n",
    "whole_body = moveit_commander.MoveGroupCommander('whole_body_light')\n",
    "# wb = moveit_commander.MoveGroupCommander('whole_body')\n",
    "# wbw = moveit_commander.MoveGroupCommander('whole_body_weighted')\n",
    "arm =  moveit_commander.MoveGroupCommander('arm')\n",
    "#gripper =  moveit_commander.MoveGroupCommander('gripper')"
   ]
  },
  {
   "cell_type": "code",
   "execution_count": 7,
   "id": "49a8415a",
   "metadata": {
    "scrolled": true
   },
   "outputs": [
    {
     "data": {
      "text/plain": [
       "[-4.086734338080076e-06,\n",
       " -9.018311319231032e-05,\n",
       " -3.2537008305411064e-06,\n",
       " -6.278854748487106e-05,\n",
       " 4.3021374054319494e-06,\n",
       " 0.0]"
      ]
     },
     "execution_count": 7,
     "metadata": {},
     "output_type": "execute_result"
    },
    {
     "name": "stderr",
     "output_type": "stream",
     "text": [
      "\u001b[33m[ WARN] [1667836532.783153692, 2711.203000000]: TF_REPEATED_DATA ignoring data with redundant timestamp for frame odom at time 2711.236000 according to authority unknown_publisher\u001b[0m\n",
      "\u001b[33m[ WARN] [1667836535.556722082, 2711.838000000]: TF_REPEATED_DATA ignoring data with redundant timestamp for frame odom at time 2711.897000 according to authority unknown_publisher\u001b[0m\n",
      "\u001b[33m[ WARN] [1667836551.165981514, 2715.569000000]: TF_REPEATED_DATA ignoring data with redundant timestamp for frame odom at time 2715.586000 according to authority unknown_publisher\u001b[0m\n",
      "\u001b[33m[ WARN] [1667836571.636999349, 2720.250000000]: TF_REPEATED_DATA ignoring data with redundant timestamp for frame odom at time 2720.250000 according to authority unknown_publisher\u001b[0m\n",
      "\u001b[33m[ WARN] [1667836598.390790936, 2726.328000000]: TF_REPEATED_DATA ignoring data with redundant timestamp for frame odom at time 2726.366000 according to authority unknown_publisher\u001b[0m\n",
      "\u001b[33m[ WARN] [1667836612.895551489, 2730.094000000]: TF_REPEATED_DATA ignoring data with redundant timestamp for frame odom at time 2730.126000 according to authority unknown_publisher\u001b[0m\n",
      "\u001b[33m[ WARN] [1667836627.752756292, 2733.517000000]: TF_REPEATED_DATA ignoring data with redundant timestamp for frame odom at time 2733.562000 according to authority unknown_publisher\u001b[0m\n",
      "\u001b[33m[ WARN] [1667836638.006360926, 2735.915000000]: TF_REPEATED_DATA ignoring data with redundant timestamp for frame odom at time 2735.951000 according to authority unknown_publisher\u001b[0m\n",
      "\u001b[33m[ WARN] [1667836639.759589156, 2736.299000000]: TF_REPEATED_DATA ignoring data with redundant timestamp for frame odom at time 2736.356000 according to authority unknown_publisher\u001b[0m\n",
      "\u001b[33m[ WARN] [1667836655.896094747, 2740.370000000]: TF_REPEATED_DATA ignoring data with redundant timestamp for frame odom at time 2740.424000 according to authority unknown_publisher\u001b[0m\n",
      "\u001b[33m[ WARN] [1667836664.604940099, 2742.486000000]: TF_REPEATED_DATA ignoring data with redundant timestamp for frame odom at time 2742.499000 according to authority unknown_publisher\u001b[0m\n",
      "\u001b[33m[ WARN] [1667836675.287658122, 2744.724000000]: TF_REPEATED_DATA ignoring data with redundant timestamp for frame odom at time 2744.789000 according to authority unknown_publisher\u001b[0m\n",
      "\u001b[33m[ WARN] [1667836679.699250510, 2745.845000000]: TF_REPEATED_DATA ignoring data with redundant timestamp for frame odom at time 2745.880000 according to authority unknown_publisher\u001b[0m\n",
      "\u001b[33m[ WARN] [1667836684.994214559, 2747.225000000]: TF_REPEATED_DATA ignoring data with redundant timestamp for frame odom at time 2747.283000 according to authority unknown_publisher\u001b[0m\n"
     ]
    }
   ],
   "source": [
    "arm.get_current_joint_values()"
   ]
  },
  {
   "cell_type": "code",
   "execution_count": 8,
   "id": "b59333dc",
   "metadata": {
    "scrolled": true
   },
   "outputs": [
    {
     "name": "stdout",
     "output_type": "stream",
     "text": [
      ">>>Planning frame: odom, odom, odom\n",
      ">>>End effector link: hand_palm_link\n"
     ]
    },
    {
     "name": "stderr",
     "output_type": "stream",
     "text": [
      "\u001b[33m[ WARN] [1667836697.903117480, 2750.419000000]: TF_REPEATED_DATA ignoring data with redundant timestamp for frame odom at time 2750.472000 according to authority unknown_publisher\u001b[0m\n",
      "\u001b[33m[ WARN] [1667836699.243316981, 2750.688000000]: TF_REPEATED_DATA ignoring data with redundant timestamp for frame odom at time 2750.722000 according to authority unknown_publisher\u001b[0m\n",
      "\u001b[33m[ WARN] [1667836728.476342306, 2757.544000000]: TF_REPEATED_DATA ignoring data with redundant timestamp for frame odom at time 2757.606000 according to authority unknown_publisher\u001b[0m\n",
      "\u001b[33m[ WARN] [1667836803.668930858, 2775.087000000]: TF_REPEATED_DATA ignoring data with redundant timestamp for frame odom at time 2775.111000 according to authority unknown_publisher\u001b[0m\n",
      "\u001b[33m[ WARN] [1667836810.312684831, 2776.498000000]: TF_REPEATED_DATA ignoring data with redundant timestamp for frame odom at time 2776.544000 according to authority unknown_publisher\u001b[0m\n"
     ]
    }
   ],
   "source": [
    "# We can get the name of the reference frame for this robot:\n",
    "arm_planning_frame = arm.get_planning_frame()\n",
    "head_planning_frame = head.get_planning_frame()\n",
    "wb_planning_frame = whole_body.get_planning_frame()\n",
    "\n",
    "print(f\">>>Planning frame: {arm_planning_frame}, {head_planning_frame}, {wb_planning_frame}\")\n",
    "\n",
    "# We can also print the name of the end-effector link for this group:\n",
    "eef_link = arm.get_end_effector_link()\n",
    "print(f\">>>End effector link: {eef_link}\")"
   ]
  },
  {
   "cell_type": "code",
   "execution_count": 9,
   "id": "19ef5f21",
   "metadata": {
    "scrolled": true
   },
   "outputs": [
    {
     "name": "stderr",
     "output_type": "stream",
     "text": [
      "\u001b[33m[ WARN] [1667836811.552210579, 2776.758000000]: TF_REPEATED_DATA ignoring data with redundant timestamp for frame odom at time 2776.758000 according to authority unknown_publisher\u001b[0m\n",
      "\u001b[33m[ WARN] [1667836820.811581110, 2778.883000000]: TF_REPEATED_DATA ignoring data with redundant timestamp for frame odom at time 2778.915000 according to authority unknown_publisher\u001b[0m\n",
      "\u001b[33m[ WARN] [1667836824.432493331, 2779.621000000]: TF_REPEATED_DATA ignoring data with redundant timestamp for frame odom at time 2779.632000 according to authority unknown_publisher\u001b[0m\n",
      "\u001b[33m[ WARN] [1667836845.387066075, 2784.387000000]: TF_REPEATED_DATA ignoring data with redundant timestamp for frame odom at time 2784.505000 according to authority unknown_publisher\u001b[0m\n",
      "\u001b[33m[ WARN] [1667836847.712444470, 2785.132000000]: TF_REPEATED_DATA ignoring data with redundant timestamp for frame odom at time 2785.155000 according to authority unknown_publisher\u001b[0m\n"
     ]
    },
    {
     "data": {
      "text/plain": [
       "True"
      ]
     },
     "execution_count": 9,
     "metadata": {},
     "output_type": "execute_result"
    },
    {
     "name": "stderr",
     "output_type": "stream",
     "text": [
      "\u001b[33m[ WARN] [1667836860.584870198, 2787.965000000]: TF_REPEATED_DATA ignoring data with redundant timestamp for frame odom at time 2787.991000 according to authority unknown_publisher\u001b[0m\n",
      "\u001b[33m[ WARN] [1667836871.670986095, 2790.534000000]: TF_REPEATED_DATA ignoring data with redundant timestamp for frame odom at time 2790.583000 according to authority unknown_publisher\u001b[0m\n",
      "\u001b[33m[ WARN] [1667836872.915897454, 2790.917000000]: TF_REPEATED_DATA ignoring data with redundant timestamp for frame odom at time 2790.955000 according to authority unknown_publisher\u001b[0m\n"
     ]
    }
   ],
   "source": [
    "# We get the joint values from the group and change some of the values:\n",
    "joint_goal = arm.get_current_joint_values()\n",
    "joint_goal[0] = 0.0\n",
    "joint_goal[1] = 0.0\n",
    "joint_goal[2] = 0.0\n",
    "joint_goal[3] = -1.57\n",
    "joint_goal[4] = 0.0\n",
    "joint_goal[5] = 0.0\n",
    "arm.set_joint_value_target(joint_goal)\n",
    "arm.go()"
   ]
  },
  {
   "cell_type": "code",
   "execution_count": 10,
   "id": "391b8929",
   "metadata": {},
   "outputs": [
    {
     "name": "stderr",
     "output_type": "stream",
     "text": [
      "\u001b[33m[ WARN] [1667836907.944759835, 2798.775000000]: TF_REPEATED_DATA ignoring data with redundant timestamp for frame odom at time 2798.790000 according to authority /pose_integrator\u001b[0m\n",
      "\u001b[33m[ WARN] [1667836907.945375577, 2798.775000000]: TF_REPEATED_DATA ignoring data with redundant timestamp for frame odom at time 2798.790000 according to authority unknown_publisher\u001b[0m\n"
     ]
    }
   ],
   "source": [
    "tf_man = TF_MANAGER()"
   ]
  },
  {
   "cell_type": "code",
   "execution_count": 30,
   "id": "555bcac3",
   "metadata": {
    "scrolled": true
   },
   "outputs": [
    {
     "name": "stdout",
     "output_type": "stream",
     "text": [
      "[0.4, 0.1, 0.8]\n"
     ]
    },
    {
     "name": "stderr",
     "output_type": "stream",
     "text": [
      "\u001b[33m[ WARN] [1667840411.803949587, 3545.704000000]: TF_REPEATED_DATA ignoring data with redundant timestamp for frame odom at time 3545.782000 according to authority /pose_integrator\u001b[0m\n",
      "\u001b[33m[ WARN] [1667840411.804583447, 3545.704000000]: TF_REPEATED_DATA ignoring data with redundant timestamp for frame odom at time 3545.782000 according to authority unknown_publisher\u001b[0m\n"
     ]
    }
   ],
   "source": [
    "# rospy.sleep(0.5)\n",
    "_, rot = tf_man.getTF(target_frame='hand_palm_link', ref_frame='odom')\n",
    "tf_man.pub_static_tf(pos=[0.4,0.1,0.8], rot = rot, point_name='goal', ref='odom')\n",
    "trans, rot = tf_man.getTF(target_frame='goal', ref_frame='odom')\n",
    "\n",
    "print(trans)\n",
    "pose_goal = geometry_msgs.msg.Pose()\n",
    "pose_goal.orientation.w = rot[3]\n",
    "pose_goal.orientation.x = rot[0]\n",
    "pose_goal.orientation.y = rot[1]\n",
    "pose_goal.orientation.z = rot[2]\n",
    "# pose_goal.orientation.\n",
    "pose_goal.position.x = trans[0]\n",
    "pose_goal.position.y = trans[1]\n",
    "pose_goal.position.z = trans[2]\n",
    "\n",
    "whole_body.set_start_state_to_current_state()\n",
    "whole_body.set_pose_target(pose_goal)"
   ]
  },
  {
   "cell_type": "code",
   "execution_count": 31,
   "id": "6a10e59b",
   "metadata": {
    "scrolled": true
   },
   "outputs": [
    {
     "name": "stderr",
     "output_type": "stream",
     "text": [
      "\u001b[33m[ WARN] [1667840418.032309441, 3546.768000000]: TF_REPEATED_DATA ignoring data with redundant timestamp for frame odom at time 3546.768000 according to authority /pose_integrator\u001b[0m\n",
      "\u001b[33m[ WARN] [1667840418.033409767, 3546.768000000]: TF_REPEATED_DATA ignoring data with redundant timestamp for frame odom at time 3546.768000 according to authority unknown_publisher\u001b[0m\n",
      "\u001b[33m[ WARN] [1667840444.099967711, 3551.443000000]: TF_REPEATED_DATA ignoring data with redundant timestamp for frame odom at time 3551.500000 according to authority /pose_integrator\u001b[0m\n",
      "\u001b[33m[ WARN] [1667840444.100222383, 3551.443000000]: TF_REPEATED_DATA ignoring data with redundant timestamp for frame odom at time 3551.500000 according to authority unknown_publisher\u001b[0m\n",
      "\u001b[33m[ WARN] [1667840452.098249933, 3552.827000000]: TF_REPEATED_DATA ignoring data with redundant timestamp for frame odom at time 3552.870000 according to authority /pose_integrator\u001b[0m\n",
      "\u001b[33m[ WARN] [1667840452.098726932, 3552.827000000]: TF_REPEATED_DATA ignoring data with redundant timestamp for frame odom at time 3552.870000 according to authority unknown_publisher\u001b[0m\n",
      "\u001b[33m[ WARN] [1667840455.891899634, 3553.525000000]: TF_REPEATED_DATA ignoring data with redundant timestamp for frame odom at time 3553.557000 according to authority /pose_integrator\u001b[0m\n",
      "\u001b[33m[ WARN] [1667840455.892024418, 3553.525000000]: TF_REPEATED_DATA ignoring data with redundant timestamp for frame odom at time 3553.557000 according to authority unknown_publisher\u001b[0m\n",
      "\u001b[33m[ WARN] [1667840474.575891056, 3557.104000000]: TF_REPEATED_DATA ignoring data with redundant timestamp for frame odom at time 3557.142000 according to authority /pose_integrator\u001b[0m\n",
      "\u001b[33m[ WARN] [1667840474.576845863, 3557.104000000]: TF_REPEATED_DATA ignoring data with redundant timestamp for frame odom at time 3557.142000 according to authority unknown_publisher\u001b[0m\n",
      "\u001b[33m[ WARN] [1667840504.141925433, 3562.686000000]: TF_REPEATED_DATA ignoring data with redundant timestamp for frame odom at time 3562.725000 according to authority /pose_integrator\u001b[0m\n",
      "\u001b[33m[ WARN] [1667840504.142215990, 3562.686000000]: TF_REPEATED_DATA ignoring data with redundant timestamp for frame odom at time 3562.725000 according to authority unknown_publisher\u001b[0m\n",
      "\u001b[33m[ WARN] [1667840508.111800814, 3563.361000000]: TF_REPEATED_DATA ignoring data with redundant timestamp for frame odom at time 3563.390000 according to authority unknown_publisher\u001b[0m\n",
      "\u001b[33m[ WARN] [1667840508.113772427, 3563.361000000]: TF_REPEATED_DATA ignoring data with redundant timestamp for frame odom at time 3563.390000 according to authority /pose_integrator\u001b[0m\n",
      "\u001b[33m[ WARN] [1667840511.447363096, 3563.998000000]: TF_REPEATED_DATA ignoring data with redundant timestamp for frame odom at time 3564.031000 according to authority /pose_integrator\u001b[0m\n",
      "\u001b[33m[ WARN] [1667840511.447870969, 3563.998000000]: TF_REPEATED_DATA ignoring data with redundant timestamp for frame odom at time 3564.031000 according to authority unknown_publisher\u001b[0m\n",
      "\u001b[33m[ WARN] [1667840529.259552773, 3567.561000000]: TF_REPEATED_DATA ignoring data with redundant timestamp for frame odom at time 3567.581000 according to authority /pose_integrator\u001b[0m\n",
      "\u001b[33m[ WARN] [1667840529.260974875, 3567.561000000]: TF_REPEATED_DATA ignoring data with redundant timestamp for frame odom at time 3567.581000 according to authority unknown_publisher\u001b[0m\n",
      "\u001b[33m[ WARN] [1667840536.010243722, 3568.939000000]: TF_REPEATED_DATA ignoring data with redundant timestamp for frame odom at time 3568.953000 according to authority /pose_integrator\u001b[0m\n",
      "\u001b[33m[ WARN] [1667840536.016268121, 3568.939000000]: TF_REPEATED_DATA ignoring data with redundant timestamp for frame odom at time 3568.953000 according to authority unknown_publisher\u001b[0m\n",
      "\u001b[33m[ WARN] [1667840537.795650844, 3569.229000000]: TF_REPEATED_DATA ignoring data with redundant timestamp for frame odom at time 3569.251000 according to authority /pose_integrator\u001b[0m\n",
      "\u001b[33m[ WARN] [1667840537.797939385, 3569.229000000]: TF_REPEATED_DATA ignoring data with redundant timestamp for frame odom at time 3569.251000 according to authority unknown_publisher\u001b[0m\n",
      "\u001b[33m[ WARN] [1667840550.324072673, 3571.597000000]: TF_REPEATED_DATA ignoring data with redundant timestamp for frame odom at time 3571.665000 according to authority /pose_integrator\u001b[0m\n",
      "\u001b[33m[ WARN] [1667840550.324734985, 3571.597000000]: TF_REPEATED_DATA ignoring data with redundant timestamp for frame odom at time 3571.665000 according to authority unknown_publisher\u001b[0m\n",
      "\u001b[33m[ WARN] [1667840557.939956798, 3573.104000000]: TF_REPEATED_DATA ignoring data with redundant timestamp for frame odom at time 3573.135000 according to authority unknown_publisher\u001b[0m\n",
      "\u001b[33m[ WARN] [1667840557.940105904, 3573.104000000]: TF_REPEATED_DATA ignoring data with redundant timestamp for frame odom at time 3573.135000 according to authority /pose_integrator\u001b[0m\n",
      "\u001b[33m[ WARN] [1667840567.755638245, 3575.026000000]: TF_REPEATED_DATA ignoring data with redundant timestamp for frame odom at time 3575.062000 according to authority /pose_integrator\u001b[0m\n",
      "\u001b[33m[ WARN] [1667840567.756375625, 3575.026000000]: TF_REPEATED_DATA ignoring data with redundant timestamp for frame odom at time 3575.062000 according to authority unknown_publisher\u001b[0m\n",
      "\u001b[33m[ WARN] [1667840572.301250415, 3576.087000000]: TF_REPEATED_DATA ignoring data with redundant timestamp for frame odom at time 3576.111000 according to authority unknown_publisher\u001b[0m\n",
      "\u001b[33m[ WARN] [1667840572.301310269, 3576.087000000]: TF_REPEATED_DATA ignoring data with redundant timestamp for frame odom at time 3576.111000 according to authority /pose_integrator\u001b[0m\n",
      "\u001b[33m[ WARN] [1667840586.087324079, 3578.581000000]: TF_REPEATED_DATA ignoring data with redundant timestamp for frame odom at time 3578.606000 according to authority /pose_integrator\u001b[0m\n",
      "\u001b[33m[ WARN] [1667840586.087475602, 3578.581000000]: TF_REPEATED_DATA ignoring data with redundant timestamp for frame odom at time 3578.606000 according to authority unknown_publisher\u001b[0m\n",
      "\u001b[33m[ WARN] [1667840590.527341685, 3579.582000000]: TF_REPEATED_DATA ignoring data with redundant timestamp for frame odom at time 3579.623000 according to authority unknown_publisher\u001b[0m\n",
      "\u001b[33m[ WARN] [1667840590.528127319, 3579.582000000]: TF_REPEATED_DATA ignoring data with redundant timestamp for frame odom at time 3579.623000 according to authority /pose_integrator\u001b[0m\n",
      "\u001b[33m[ WARN] [1667840596.118708226, 3580.703000000]: TF_REPEATED_DATA ignoring data with redundant timestamp for frame odom at time 3580.728000 according to authority unknown_publisher\u001b[0m\n",
      "\u001b[33m[ WARN] [1667840596.119572102, 3580.703000000]: TF_REPEATED_DATA ignoring data with redundant timestamp for frame odom at time 3580.728000 according to authority /pose_integrator\u001b[0m\n",
      "\u001b[33m[ WARN] [1667840599.774417320, 3581.382000000]: TF_REPEATED_DATA ignoring data with redundant timestamp for frame odom at time 3581.439000 according to authority unknown_publisher\u001b[0m\n",
      "\u001b[33m[ WARN] [1667840599.775130043, 3581.382000000]: TF_REPEATED_DATA ignoring data with redundant timestamp for frame odom at time 3581.439000 according to authority /pose_integrator\u001b[0m\n",
      "\u001b[33m[ WARN] [1667840605.391051698, 3582.516000000]: TF_REPEATED_DATA ignoring data with redundant timestamp for frame odom at time 3582.568000 according to authority /pose_integrator\u001b[0m\n",
      "\u001b[33m[ WARN] [1667840605.391327354, 3582.516000000]: TF_REPEATED_DATA ignoring data with redundant timestamp for frame odom at time 3582.568000 according to authority unknown_publisher\u001b[0m\n",
      "\u001b[33m[ WARN] [1667840622.044061049, 3585.552000000]: TF_REPEATED_DATA ignoring data with redundant timestamp for frame odom at time 3585.608000 according to authority /pose_integrator\u001b[0m\n",
      "\u001b[33m[ WARN] [1667840622.051829422, 3585.552000000]: TF_REPEATED_DATA ignoring data with redundant timestamp for frame odom at time 3585.608000 according to authority unknown_publisher\u001b[0m\n",
      "\u001b[33m[ WARN] [1667840623.544258040, 3585.801000000]: TF_REPEATED_DATA ignoring data with redundant timestamp for frame odom at time 3585.882000 according to authority /pose_integrator\u001b[0m\n",
      "\u001b[33m[ WARN] [1667840623.547046738, 3585.801000000]: TF_REPEATED_DATA ignoring data with redundant timestamp for frame odom at time 3585.882000 according to authority unknown_publisher\u001b[0m\n"
     ]
    },
    {
     "name": "stderr",
     "output_type": "stream",
     "text": [
      "\u001b[33m[ WARN] [1667840635.703047092, 3588.165000000]: TF_REPEATED_DATA ignoring data with redundant timestamp for frame odom at time 3588.189000 according to authority unknown_publisher\u001b[0m\n",
      "\u001b[33m[ WARN] [1667840635.703248056, 3588.165000000]: TF_REPEATED_DATA ignoring data with redundant timestamp for frame odom at time 3588.189000 according to authority /pose_integrator\u001b[0m\n",
      "\u001b[33m[ WARN] [1667840637.917724242, 3588.713000000]: TF_REPEATED_DATA ignoring data with redundant timestamp for frame odom at time 3588.757000 according to authority /pose_integrator\u001b[0m\n",
      "\u001b[33m[ WARN] [1667840637.920420026, 3588.713000000]: TF_REPEATED_DATA ignoring data with redundant timestamp for frame odom at time 3588.757000 according to authority unknown_publisher\u001b[0m\n",
      "\u001b[33m[ WARN] [1667840655.836195840, 3592.160000000]: TF_REPEATED_DATA ignoring data with redundant timestamp for frame odom at time 3592.208000 according to authority /pose_integrator\u001b[0m\n",
      "\u001b[33m[ WARN] [1667840655.838950703, 3592.160000000]: TF_REPEATED_DATA ignoring data with redundant timestamp for frame odom at time 3592.208000 according to authority unknown_publisher\u001b[0m\n",
      "\u001b[33m[ WARN] [1667840660.975618262, 3593.377000000]: TF_REPEATED_DATA ignoring data with redundant timestamp for frame odom at time 3593.415000 according to authority /pose_integrator\u001b[0m\n",
      "\u001b[33m[ WARN] [1667840660.975822403, 3593.377000000]: TF_REPEATED_DATA ignoring data with redundant timestamp for frame odom at time 3593.415000 according to authority unknown_publisher\u001b[0m\n",
      "\u001b[33m[ WARN] [1667840678.479795119, 3596.818000000]: TF_REPEATED_DATA ignoring data with redundant timestamp for frame odom at time 3596.855000 according to authority /pose_integrator\u001b[0m\n",
      "\u001b[33m[ WARN] [1667840678.487271111, 3596.818000000]: TF_REPEATED_DATA ignoring data with redundant timestamp for frame odom at time 3596.855000 according to authority unknown_publisher\u001b[0m\n",
      "\u001b[33m[ WARN] [1667840681.612939908, 3597.406000000]: TF_REPEATED_DATA ignoring data with redundant timestamp for frame odom at time 3597.427000 according to authority unknown_publisher\u001b[0m\n",
      "\u001b[33m[ WARN] [1667840681.613121861, 3597.406000000]: TF_REPEATED_DATA ignoring data with redundant timestamp for frame odom at time 3597.427000 according to authority /pose_integrator\u001b[0m\n",
      "\u001b[33m[ WARN] [1667840684.428470183, 3598.017000000]: TF_REPEATED_DATA ignoring data with redundant timestamp for frame odom at time 3598.096000 according to authority /pose_integrator\u001b[0m\n",
      "\u001b[33m[ WARN] [1667840684.428933119, 3598.017000000]: TF_REPEATED_DATA ignoring data with redundant timestamp for frame odom at time 3598.096000 according to authority unknown_publisher\u001b[0m\n",
      "\u001b[33m[ WARN] [1667840691.872695293, 3599.472000000]: TF_REPEATED_DATA ignoring data with redundant timestamp for frame odom at time 3599.490000 according to authority /pose_integrator\u001b[0m\n",
      "\u001b[33m[ WARN] [1667840691.872982763, 3599.472000000]: TF_REPEATED_DATA ignoring data with redundant timestamp for frame odom at time 3599.490000 according to authority unknown_publisher\u001b[0m\n",
      "\u001b[33m[ WARN] [1667840714.460054126, 3603.515000000]: TF_REPEATED_DATA ignoring data with redundant timestamp for frame odom at time 3603.531000 according to authority /pose_integrator\u001b[0m\n",
      "\u001b[33m[ WARN] [1667840714.460332422, 3603.515000000]: TF_REPEATED_DATA ignoring data with redundant timestamp for frame odom at time 3603.531000 according to authority unknown_publisher\u001b[0m\n",
      "\u001b[33m[ WARN] [1667840719.665226780, 3604.372000000]: TF_REPEATED_DATA ignoring data with redundant timestamp for frame odom at time 3604.386000 according to authority /pose_integrator\u001b[0m\n",
      "\u001b[33m[ WARN] [1667840719.665977640, 3604.372000000]: TF_REPEATED_DATA ignoring data with redundant timestamp for frame odom at time 3604.386000 according to authority unknown_publisher\u001b[0m\n",
      "\u001b[33m[ WARN] [1667840720.312304505, 3604.535000000]: TF_REPEATED_DATA ignoring data with redundant timestamp for frame odom at time 3604.564000 according to authority /pose_integrator\u001b[0m\n",
      "\u001b[33m[ WARN] [1667840720.312495545, 3604.535000000]: TF_REPEATED_DATA ignoring data with redundant timestamp for frame odom at time 3604.564000 according to authority unknown_publisher\u001b[0m\n",
      "\u001b[33m[ WARN] [1667840784.935046093, 3617.017000000]: TF_REPEATED_DATA ignoring data with redundant timestamp for frame odom at time 3617.038000 according to authority /pose_integrator\u001b[0m\n",
      "\u001b[33m[ WARN] [1667840784.935229199, 3617.017000000]: TF_REPEATED_DATA ignoring data with redundant timestamp for frame odom at time 3617.038000 according to authority unknown_publisher\u001b[0m\n",
      "\u001b[33m[ WARN] [1667840798.736075612, 3619.398000000]: TF_REPEATED_DATA ignoring data with redundant timestamp for frame odom at time 3619.443000 according to authority /pose_integrator\u001b[0m\n",
      "\u001b[33m[ WARN] [1667840798.737752049, 3619.398000000]: TF_REPEATED_DATA ignoring data with redundant timestamp for frame odom at time 3619.443000 according to authority unknown_publisher\u001b[0m\n",
      "\u001b[33m[ WARN] [1667840800.227250543, 3619.669000000]: TF_REPEATED_DATA ignoring data with redundant timestamp for frame odom at time 3619.701000 according to authority /pose_integrator\u001b[0m\n",
      "\u001b[33m[ WARN] [1667840800.227463876, 3619.669000000]: TF_REPEATED_DATA ignoring data with redundant timestamp for frame odom at time 3619.701000 according to authority unknown_publisher\u001b[0m\n",
      "\u001b[33m[ WARN] [1667840803.731747736, 3620.373000000]: TF_REPEATED_DATA ignoring data with redundant timestamp for frame odom at time 3620.419000 according to authority /pose_integrator\u001b[0m\n",
      "\u001b[33m[ WARN] [1667840803.733524180, 3620.373000000]: TF_REPEATED_DATA ignoring data with redundant timestamp for frame odom at time 3620.419000 according to authority unknown_publisher\u001b[0m\n",
      "\u001b[33m[ WARN] [1667840827.769497768, 3624.800000000]: TF_REPEATED_DATA ignoring data with redundant timestamp for frame odom at time 3624.863000 according to authority /pose_integrator\u001b[0m\n",
      "\u001b[33m[ WARN] [1667840827.776322501, 3624.800000000]: TF_REPEATED_DATA ignoring data with redundant timestamp for frame odom at time 3624.863000 according to authority unknown_publisher\u001b[0m\n",
      "\u001b[33m[ WARN] [1667840854.269349436, 3630.079000000]: TF_REPEATED_DATA ignoring data with redundant timestamp for frame odom at time 3630.124000 according to authority /pose_integrator\u001b[0m\n",
      "\u001b[33m[ WARN] [1667840854.269820943, 3630.079000000]: TF_REPEATED_DATA ignoring data with redundant timestamp for frame odom at time 3630.124000 according to authority unknown_publisher\u001b[0m\n",
      "\u001b[33m[ WARN] [1667840854.715523255, 3630.179000000]: TF_REPEATED_DATA ignoring data with redundant timestamp for frame odom at time 3630.214000 according to authority unknown_publisher\u001b[0m\n",
      "\u001b[33m[ WARN] [1667840854.716671645, 3630.179000000]: TF_REPEATED_DATA ignoring data with redundant timestamp for frame odom at time 3630.214000 according to authority /pose_integrator\u001b[0m\n",
      "\u001b[33m[ WARN] [1667840859.301038373, 3630.957000000]: TF_REPEATED_DATA ignoring data with redundant timestamp for frame odom at time 3630.984000 according to authority /pose_integrator\u001b[0m\n",
      "\u001b[33m[ WARN] [1667840859.304838318, 3630.957000000]: TF_REPEATED_DATA ignoring data with redundant timestamp for frame odom at time 3630.984000 according to authority unknown_publisher\u001b[0m\n",
      "\u001b[33m[ WARN] [1667840862.935032749, 3631.619000000]: TF_REPEATED_DATA ignoring data with redundant timestamp for frame odom at time 3631.656000 according to authority unknown_publisher\u001b[0m\n",
      "\u001b[33m[ WARN] [1667840862.935591281, 3631.619000000]: TF_REPEATED_DATA ignoring data with redundant timestamp for frame odom at time 3631.656000 according to authority /pose_integrator\u001b[0m\n",
      "\u001b[33m[ WARN] [1667840873.008613892, 3633.661000000]: TF_REPEATED_DATA ignoring data with redundant timestamp for frame odom at time 3633.700000 according to authority unknown_publisher\u001b[0m\n",
      "\u001b[33m[ WARN] [1667840873.009522305, 3633.661000000]: TF_REPEATED_DATA ignoring data with redundant timestamp for frame odom at time 3633.700000 according to authority /pose_integrator\u001b[0m\n",
      "\u001b[33m[ WARN] [1667840876.714816158, 3634.460000000]: TF_REPEATED_DATA ignoring data with redundant timestamp for frame odom at time 3634.508000 according to authority /pose_integrator\u001b[0m\n",
      "\u001b[33m[ WARN] [1667840876.716848794, 3634.460000000]: TF_REPEATED_DATA ignoring data with redundant timestamp for frame odom at time 3634.508000 according to authority unknown_publisher\u001b[0m\n"
     ]
    },
    {
     "name": "stderr",
     "output_type": "stream",
     "text": [
      "\u001b[33m[ WARN] [1667840886.976099969, 3636.277000000]: TF_REPEATED_DATA ignoring data with redundant timestamp for frame odom at time 3636.328000 according to authority /pose_integrator\u001b[0m\n",
      "\u001b[33m[ WARN] [1667840886.977022889, 3636.277000000]: TF_REPEATED_DATA ignoring data with redundant timestamp for frame odom at time 3636.328000 according to authority unknown_publisher\u001b[0m\n",
      "\u001b[33m[ WARN] [1667840935.925151045, 3645.600000000]: TF_REPEATED_DATA ignoring data with redundant timestamp for frame odom at time 3645.648000 according to authority /pose_integrator\u001b[0m\n",
      "\u001b[33m[ WARN] [1667840935.926257313, 3645.600000000]: TF_REPEATED_DATA ignoring data with redundant timestamp for frame odom at time 3645.648000 according to authority unknown_publisher\u001b[0m\n",
      "\u001b[33m[ WARN] [1667840955.066013495, 3649.221000000]: TF_REPEATED_DATA ignoring data with redundant timestamp for frame odom at time 3649.247000 according to authority /pose_integrator\u001b[0m\n",
      "\u001b[33m[ WARN] [1667840955.066742051, 3649.221000000]: TF_REPEATED_DATA ignoring data with redundant timestamp for frame odom at time 3649.247000 according to authority unknown_publisher\u001b[0m\n",
      "\u001b[33m[ WARN] [1667840963.256485060, 3650.851000000]: TF_REPEATED_DATA ignoring data with redundant timestamp for frame odom at time 3650.902000 according to authority /pose_integrator\u001b[0m\n",
      "\u001b[33m[ WARN] [1667840963.258902856, 3650.902000000]: TF_REPEATED_DATA ignoring data with redundant timestamp for frame odom at time 3650.902000 according to authority unknown_publisher\u001b[0m\n",
      "\u001b[33m[ WARN] [1667840989.549066235, 3655.618000000]: TF_REPEATED_DATA ignoring data with redundant timestamp for frame odom at time 3655.613000 according to authority /pose_integrator\u001b[0m\n",
      "\u001b[33m[ WARN] [1667840989.551697869, 3655.618000000]: TF_REPEATED_DATA ignoring data with redundant timestamp for frame odom at time 3655.613000 according to authority unknown_publisher\u001b[0m\n",
      "\u001b[33m[ WARN] [1667840994.527323687, 3656.629000000]: TF_REPEATED_DATA ignoring data with redundant timestamp for frame odom at time 3656.663000 according to authority /pose_integrator\u001b[0m\n",
      "\u001b[33m[ WARN] [1667840994.528406502, 3656.629000000]: TF_REPEATED_DATA ignoring data with redundant timestamp for frame odom at time 3656.663000 according to authority unknown_publisher\u001b[0m\n",
      "\u001b[33m[ WARN] [1667841019.792387725, 3661.268000000]: TF_REPEATED_DATA ignoring data with redundant timestamp for frame odom at time 3661.331000 according to authority unknown_publisher\u001b[0m\n",
      "\u001b[33m[ WARN] [1667841019.792950209, 3661.268000000]: TF_REPEATED_DATA ignoring data with redundant timestamp for frame odom at time 3661.331000 according to authority /pose_integrator\u001b[0m\n",
      "\u001b[33m[ WARN] [1667841026.456706839, 3662.562000000]: TF_REPEATED_DATA ignoring data with redundant timestamp for frame odom at time 3662.593000 according to authority /pose_integrator\u001b[0m\n",
      "\u001b[33m[ WARN] [1667841026.457535704, 3662.562000000]: TF_REPEATED_DATA ignoring data with redundant timestamp for frame odom at time 3662.593000 according to authority unknown_publisher\u001b[0m\n",
      "\u001b[33m[ WARN] [1667841027.350110333, 3662.733000000]: TF_REPEATED_DATA ignoring data with redundant timestamp for frame odom at time 3662.766000 according to authority unknown_publisher\u001b[0m\n",
      "\u001b[33m[ WARN] [1667841027.351417000, 3662.733000000]: TF_REPEATED_DATA ignoring data with redundant timestamp for frame odom at time 3662.766000 according to authority /pose_integrator\u001b[0m\n",
      "\u001b[33m[ WARN] [1667841050.391525536, 3667.088000000]: TF_REPEATED_DATA ignoring data with redundant timestamp for frame odom at time 3667.108000 according to authority /pose_integrator\u001b[0m\n",
      "\u001b[33m[ WARN] [1667841050.391791709, 3667.088000000]: TF_REPEATED_DATA ignoring data with redundant timestamp for frame odom at time 3667.108000 according to authority unknown_publisher\u001b[0m\n",
      "\u001b[33m[ WARN] [1667841055.952639422, 3668.168000000]: TF_REPEATED_DATA ignoring data with redundant timestamp for frame odom at time 3668.186000 according to authority /pose_integrator\u001b[0m\n",
      "\u001b[33m[ WARN] [1667841055.952996968, 3668.168000000]: TF_REPEATED_DATA ignoring data with redundant timestamp for frame odom at time 3668.186000 according to authority unknown_publisher\u001b[0m\n",
      "\u001b[33m[ WARN] [1667841058.168876102, 3668.573000000]: TF_REPEATED_DATA ignoring data with redundant timestamp for frame odom at time 3668.593000 according to authority unknown_publisher\u001b[0m\n",
      "\u001b[33m[ WARN] [1667841058.168991121, 3668.573000000]: TF_REPEATED_DATA ignoring data with redundant timestamp for frame odom at time 3668.593000 according to authority /pose_integrator\u001b[0m\n",
      "\u001b[33m[ WARN] [1667841067.637509745, 3670.327000000]: TF_REPEATED_DATA ignoring data with redundant timestamp for frame odom at time 3670.379000 according to authority unknown_publisher\u001b[0m\n",
      "\u001b[33m[ WARN] [1667841067.639457169, 3670.327000000]: TF_REPEATED_DATA ignoring data with redundant timestamp for frame odom at time 3670.379000 according to authority /pose_integrator\u001b[0m\n",
      "\u001b[33m[ WARN] [1667841069.808506968, 3670.809000000]: TF_REPEATED_DATA ignoring data with redundant timestamp for frame odom at time 3670.826000 according to authority /pose_integrator\u001b[0m\n",
      "\u001b[33m[ WARN] [1667841069.810858217, 3670.809000000]: TF_REPEATED_DATA ignoring data with redundant timestamp for frame odom at time 3670.826000 according to authority unknown_publisher\u001b[0m\n",
      "\u001b[33m[ WARN] [1667841095.245562354, 3675.882000000]: TF_REPEATED_DATA ignoring data with redundant timestamp for frame odom at time 3675.914000 according to authority /pose_integrator\u001b[0m\n",
      "\u001b[33m[ WARN] [1667841095.246722953, 3675.882000000]: TF_REPEATED_DATA ignoring data with redundant timestamp for frame odom at time 3675.914000 according to authority unknown_publisher\u001b[0m\n",
      "\u001b[33m[ WARN] [1667841105.277263464, 3677.651000000]: TF_REPEATED_DATA ignoring data with redundant timestamp for frame odom at time 3677.707000 according to authority unknown_publisher\u001b[0m\n",
      "\u001b[33m[ WARN] [1667841105.279425030, 3677.651000000]: TF_REPEATED_DATA ignoring data with redundant timestamp for frame odom at time 3677.707000 according to authority /pose_integrator\u001b[0m\n",
      "\u001b[33m[ WARN] [1667841122.472406586, 3681.149000000]: TF_REPEATED_DATA ignoring data with redundant timestamp for frame odom at time 3681.185000 according to authority /pose_integrator\u001b[0m\n",
      "\u001b[33m[ WARN] [1667841122.472821756, 3681.149000000]: TF_REPEATED_DATA ignoring data with redundant timestamp for frame odom at time 3681.185000 according to authority unknown_publisher\u001b[0m\n",
      "\u001b[33m[ WARN] [1667841142.305399072, 3684.799000000]: TF_REPEATED_DATA ignoring data with redundant timestamp for frame odom at time 3684.824000 according to authority /pose_integrator\u001b[0m\n",
      "\u001b[33m[ WARN] [1667841142.312748130, 3684.799000000]: TF_REPEATED_DATA ignoring data with redundant timestamp for frame odom at time 3684.824000 according to authority unknown_publisher\u001b[0m\n",
      "\u001b[33m[ WARN] [1667841150.605633196, 3686.424000000]: TF_REPEATED_DATA ignoring data with redundant timestamp for frame odom at time 3686.458000 according to authority /pose_integrator\u001b[0m\n",
      "\u001b[33m[ WARN] [1667841150.619083618, 3686.424000000]: TF_REPEATED_DATA ignoring data with redundant timestamp for frame odom at time 3686.458000 according to authority unknown_publisher\u001b[0m\n",
      "\u001b[33m[ WARN] [1667841195.153325148, 3695.052000000]: TF_REPEATED_DATA ignoring data with redundant timestamp for frame odom at time 3695.074000 according to authority /pose_integrator\u001b[0m\n",
      "\u001b[33m[ WARN] [1667841195.154505238, 3695.052000000]: TF_REPEATED_DATA ignoring data with redundant timestamp for frame odom at time 3695.074000 according to authority unknown_publisher\u001b[0m\n",
      "\u001b[33m[ WARN] [1667841201.062890557, 3696.318000000]: TF_REPEATED_DATA ignoring data with redundant timestamp for frame odom at time 3696.318000 according to authority unknown_publisher\u001b[0m\n",
      "\u001b[33m[ WARN] [1667841201.064723430, 3696.318000000]: TF_REPEATED_DATA ignoring data with redundant timestamp for frame odom at time 3696.318000 according to authority /pose_integrator\u001b[0m\n",
      "\u001b[33m[ WARN] [1667841205.174859140, 3697.107000000]: TF_REPEATED_DATA ignoring data with redundant timestamp for frame odom at time 3697.139000 according to authority /pose_integrator\u001b[0m\n",
      "\u001b[33m[ WARN] [1667841205.174967085, 3697.107000000]: TF_REPEATED_DATA ignoring data with redundant timestamp for frame odom at time 3697.139000 according to authority unknown_publisher\u001b[0m\n"
     ]
    },
    {
     "name": "stderr",
     "output_type": "stream",
     "text": [
      "\u001b[33m[ WARN] [1667841211.286606965, 3698.353000000]: TF_REPEATED_DATA ignoring data with redundant timestamp for frame odom at time 3698.374000 according to authority /pose_integrator\u001b[0m\n",
      "\u001b[33m[ WARN] [1667841211.287919355, 3698.353000000]: TF_REPEATED_DATA ignoring data with redundant timestamp for frame odom at time 3698.374000 according to authority unknown_publisher\u001b[0m\n",
      "\u001b[33m[ WARN] [1667841223.950189249, 3700.709000000]: TF_REPEATED_DATA ignoring data with redundant timestamp for frame odom at time 3700.769000 according to authority unknown_publisher\u001b[0m\n",
      "\u001b[33m[ WARN] [1667841223.950919233, 3700.709000000]: TF_REPEATED_DATA ignoring data with redundant timestamp for frame odom at time 3700.769000 according to authority /pose_integrator\u001b[0m\n",
      "\u001b[33m[ WARN] [1667841242.956127815, 3704.580000000]: TF_REPEATED_DATA ignoring data with redundant timestamp for frame odom at time 3704.627000 according to authority unknown_publisher\u001b[0m\n",
      "\u001b[33m[ WARN] [1667841242.956435091, 3704.580000000]: TF_REPEATED_DATA ignoring data with redundant timestamp for frame odom at time 3704.627000 according to authority /pose_integrator\u001b[0m\n",
      "\u001b[33m[ WARN] [1667841250.621753239, 3706.065000000]: TF_REPEATED_DATA ignoring data with redundant timestamp for frame odom at time 3706.112000 according to authority /pose_integrator\u001b[0m\n",
      "\u001b[33m[ WARN] [1667841250.623591735, 3706.065000000]: TF_REPEATED_DATA ignoring data with redundant timestamp for frame odom at time 3706.112000 according to authority unknown_publisher\u001b[0m\n",
      "\u001b[33m[ WARN] [1667841264.373778597, 3708.735000000]: TF_REPEATED_DATA ignoring data with redundant timestamp for frame odom at time 3708.757000 according to authority /pose_integrator\u001b[0m\n",
      "\u001b[33m[ WARN] [1667841264.374529024, 3708.735000000]: TF_REPEATED_DATA ignoring data with redundant timestamp for frame odom at time 3708.757000 according to authority unknown_publisher\u001b[0m\n",
      "\u001b[33m[ WARN] [1667841288.693931130, 3713.631000000]: TF_REPEATED_DATA ignoring data with redundant timestamp for frame odom at time 3713.651000 according to authority /pose_integrator\u001b[0m\n",
      "\u001b[33m[ WARN] [1667841288.694391080, 3713.631000000]: TF_REPEATED_DATA ignoring data with redundant timestamp for frame odom at time 3713.651000 according to authority unknown_publisher\u001b[0m\n",
      "\u001b[33m[ WARN] [1667841290.735843534, 3714.032000000]: TF_REPEATED_DATA ignoring data with redundant timestamp for frame odom at time 3714.067000 according to authority unknown_publisher\u001b[0m\n",
      "\u001b[33m[ WARN] [1667841290.738477338, 3714.032000000]: TF_REPEATED_DATA ignoring data with redundant timestamp for frame odom at time 3714.067000 according to authority /pose_integrator\u001b[0m\n",
      "\u001b[33m[ WARN] [1667841294.392227519, 3714.873000000]: TF_REPEATED_DATA ignoring data with redundant timestamp for frame odom at time 3714.903000 according to authority unknown_publisher\u001b[0m\n",
      "\u001b[33m[ WARN] [1667841294.394260753, 3714.873000000]: TF_REPEATED_DATA ignoring data with redundant timestamp for frame odom at time 3714.903000 according to authority /pose_integrator\u001b[0m\n",
      "\u001b[33m[ WARN] [1667841300.322823294, 3716.054000000]: TF_REPEATED_DATA ignoring data with redundant timestamp for frame odom at time 3716.110000 according to authority /pose_integrator\u001b[0m\n",
      "\u001b[33m[ WARN] [1667841300.324158206, 3716.054000000]: TF_REPEATED_DATA ignoring data with redundant timestamp for frame odom at time 3716.110000 according to authority unknown_publisher\u001b[0m\n",
      "\u001b[33m[ WARN] [1667841301.422558347, 3716.321000000]: TF_REPEATED_DATA ignoring data with redundant timestamp for frame odom at time 3716.353000 according to authority /pose_integrator\u001b[0m\n",
      "\u001b[33m[ WARN] [1667841301.423133724, 3716.321000000]: TF_REPEATED_DATA ignoring data with redundant timestamp for frame odom at time 3716.353000 according to authority unknown_publisher\u001b[0m\n",
      "\u001b[33m[ WARN] [1667841313.329367372, 3718.721000000]: TF_REPEATED_DATA ignoring data with redundant timestamp for frame odom at time 3718.721000 according to authority /pose_integrator\u001b[0m\n",
      "\u001b[33m[ WARN] [1667841313.329661487, 3718.721000000]: TF_REPEATED_DATA ignoring data with redundant timestamp for frame odom at time 3718.721000 according to authority unknown_publisher\u001b[0m\n",
      "\u001b[33m[ WARN] [1667841325.818793560, 3721.377000000]: TF_REPEATED_DATA ignoring data with redundant timestamp for frame odom at time 3721.409000 according to authority /pose_integrator\u001b[0m\n",
      "\u001b[33m[ WARN] [1667841325.821053960, 3721.409000000]: TF_REPEATED_DATA ignoring data with redundant timestamp for frame odom at time 3721.409000 according to authority unknown_publisher\u001b[0m\n",
      "\u001b[33m[ WARN] [1667841326.877753219, 3721.533000000]: TF_REPEATED_DATA ignoring data with redundant timestamp for frame odom at time 3721.565000 according to authority /pose_integrator\u001b[0m\n",
      "\u001b[33m[ WARN] [1667841326.879123408, 3721.533000000]: TF_REPEATED_DATA ignoring data with redundant timestamp for frame odom at time 3721.565000 according to authority unknown_publisher\u001b[0m\n",
      "\u001b[33m[ WARN] [1667841328.027773532, 3721.699000000]: TF_REPEATED_DATA ignoring data with redundant timestamp for frame odom at time 3721.739000 according to authority unknown_publisher\u001b[0m\n",
      "\u001b[33m[ WARN] [1667841328.027861490, 3721.699000000]: TF_REPEATED_DATA ignoring data with redundant timestamp for frame odom at time 3721.739000 according to authority /pose_integrator\u001b[0m\n",
      "\u001b[33m[ WARN] [1667841336.140559236, 3723.124000000]: TF_REPEATED_DATA ignoring data with redundant timestamp for frame odom at time 3723.185000 according to authority /pose_integrator\u001b[0m\n",
      "\u001b[33m[ WARN] [1667841336.142323642, 3723.124000000]: TF_REPEATED_DATA ignoring data with redundant timestamp for frame odom at time 3723.185000 according to authority unknown_publisher\u001b[0m\n",
      "\u001b[33m[ WARN] [1667841340.933304251, 3724.069000000]: TF_REPEATED_DATA ignoring data with redundant timestamp for frame odom at time 3724.118000 according to authority unknown_publisher\u001b[0m\n",
      "\u001b[33m[ WARN] [1667841340.933447350, 3724.069000000]: TF_REPEATED_DATA ignoring data with redundant timestamp for frame odom at time 3724.118000 according to authority /pose_integrator\u001b[0m\n",
      "\u001b[33m[ WARN] [1667841342.834831198, 3724.434000000]: TF_REPEATED_DATA ignoring data with redundant timestamp for frame odom at time 3724.454000 according to authority /pose_integrator\u001b[0m\n",
      "\u001b[33m[ WARN] [1667841342.837212897, 3724.434000000]: TF_REPEATED_DATA ignoring data with redundant timestamp for frame odom at time 3724.454000 according to authority unknown_publisher\u001b[0m\n",
      "\u001b[33m[ WARN] [1667841368.623087559, 3729.238000000]: TF_REPEATED_DATA ignoring data with redundant timestamp for frame odom at time 3729.267000 according to authority /pose_integrator\u001b[0m\n",
      "\u001b[33m[ WARN] [1667841368.626617404, 3729.238000000]: TF_REPEATED_DATA ignoring data with redundant timestamp for frame odom at time 3729.267000 according to authority unknown_publisher\u001b[0m\n",
      "\u001b[33m[ WARN] [1667841370.055067100, 3729.576000000]: TF_REPEATED_DATA ignoring data with redundant timestamp for frame odom at time 3729.599000 according to authority /pose_integrator\u001b[0m\n",
      "\u001b[33m[ WARN] [1667841370.058626017, 3729.576000000]: TF_REPEATED_DATA ignoring data with redundant timestamp for frame odom at time 3729.599000 according to authority unknown_publisher\u001b[0m\n",
      "\u001b[33m[ WARN] [1667841372.359952299, 3729.960000000]: TF_REPEATED_DATA ignoring data with redundant timestamp for frame odom at time 3729.999000 according to authority /pose_integrator\u001b[0m\n",
      "\u001b[33m[ WARN] [1667841372.360659644, 3729.960000000]: TF_REPEATED_DATA ignoring data with redundant timestamp for frame odom at time 3729.999000 according to authority unknown_publisher\u001b[0m\n",
      "\u001b[33m[ WARN] [1667841373.847047382, 3730.212000000]: TF_REPEATED_DATA ignoring data with redundant timestamp for frame odom at time 3730.249000 according to authority /pose_integrator\u001b[0m\n",
      "\u001b[33m[ WARN] [1667841373.847364622, 3730.212000000]: TF_REPEATED_DATA ignoring data with redundant timestamp for frame odom at time 3730.249000 according to authority unknown_publisher\u001b[0m\n",
      "\u001b[33m[ WARN] [1667841376.242901385, 3730.673000000]: TF_REPEATED_DATA ignoring data with redundant timestamp for frame odom at time 3730.713000 according to authority unknown_publisher\u001b[0m\n",
      "\u001b[33m[ WARN] [1667841376.243595679, 3730.673000000]: TF_REPEATED_DATA ignoring data with redundant timestamp for frame odom at time 3730.713000 according to authority /pose_integrator\u001b[0m\n"
     ]
    },
    {
     "name": "stderr",
     "output_type": "stream",
     "text": [
      "\u001b[33m[ WARN] [1667841386.411717371, 3732.782000000]: TF_REPEATED_DATA ignoring data with redundant timestamp for frame odom at time 3732.820000 according to authority /pose_integrator\u001b[0m\n",
      "\u001b[33m[ WARN] [1667841386.411882152, 3732.782000000]: TF_REPEATED_DATA ignoring data with redundant timestamp for frame odom at time 3732.820000 according to authority unknown_publisher\u001b[0m\n",
      "\u001b[33m[ WARN] [1667841387.854250615, 3733.087000000]: TF_REPEATED_DATA ignoring data with redundant timestamp for frame odom at time 3733.118000 according to authority /pose_integrator\u001b[0m\n",
      "\u001b[33m[ WARN] [1667841387.854540632, 3733.087000000]: TF_REPEATED_DATA ignoring data with redundant timestamp for frame odom at time 3733.118000 according to authority unknown_publisher\u001b[0m\n",
      "\u001b[33m[ WARN] [1667841393.625852673, 3734.178000000]: TF_REPEATED_DATA ignoring data with redundant timestamp for frame odom at time 3734.202000 according to authority /pose_integrator\u001b[0m\n",
      "\u001b[33m[ WARN] [1667841393.626586015, 3734.178000000]: TF_REPEATED_DATA ignoring data with redundant timestamp for frame odom at time 3734.202000 according to authority unknown_publisher\u001b[0m\n",
      "\u001b[33m[ WARN] [1667841399.151080011, 3735.341000000]: TF_REPEATED_DATA ignoring data with redundant timestamp for frame odom at time 3735.400000 according to authority unknown_publisher\u001b[0m\n",
      "\u001b[33m[ WARN] [1667841399.152574939, 3735.341000000]: TF_REPEATED_DATA ignoring data with redundant timestamp for frame odom at time 3735.400000 according to authority /pose_integrator\u001b[0m\n",
      "\u001b[33m[ WARN] [1667841402.847459170, 3736.114000000]: TF_REPEATED_DATA ignoring data with redundant timestamp for frame odom at time 3736.158000 according to authority /pose_integrator\u001b[0m\n",
      "\u001b[33m[ WARN] [1667841402.848088471, 3736.114000000]: TF_REPEATED_DATA ignoring data with redundant timestamp for frame odom at time 3736.158000 according to authority unknown_publisher\u001b[0m\n",
      "\u001b[33m[ WARN] [1667841407.571243906, 3736.951000000]: TF_REPEATED_DATA ignoring data with redundant timestamp for frame odom at time 3736.985000 according to authority /pose_integrator\u001b[0m\n",
      "\u001b[33m[ WARN] [1667841407.577119955, 3736.951000000]: TF_REPEATED_DATA ignoring data with redundant timestamp for frame odom at time 3736.985000 according to authority unknown_publisher\u001b[0m\n",
      "\u001b[33m[ WARN] [1667841419.582966247, 3739.129000000]: TF_REPEATED_DATA ignoring data with redundant timestamp for frame odom at time 3739.147000 according to authority /pose_integrator\u001b[0m\n",
      "\u001b[33m[ WARN] [1667841419.583152856, 3739.129000000]: TF_REPEATED_DATA ignoring data with redundant timestamp for frame odom at time 3739.147000 according to authority unknown_publisher\u001b[0m\n",
      "\u001b[33m[ WARN] [1667841424.907413820, 3740.173000000]: TF_REPEATED_DATA ignoring data with redundant timestamp for frame odom at time 3740.173000 according to authority unknown_publisher\u001b[0m\n",
      "\u001b[33m[ WARN] [1667841424.909015331, 3740.173000000]: TF_REPEATED_DATA ignoring data with redundant timestamp for frame odom at time 3740.173000 according to authority /pose_integrator\u001b[0m\n",
      "\u001b[33m[ WARN] [1667841428.812415747, 3740.917000000]: TF_REPEATED_DATA ignoring data with redundant timestamp for frame odom at time 3740.955000 according to authority /pose_integrator\u001b[0m\n",
      "\u001b[33m[ WARN] [1667841428.813007774, 3740.917000000]: TF_REPEATED_DATA ignoring data with redundant timestamp for frame odom at time 3740.955000 according to authority unknown_publisher\u001b[0m\n",
      "\u001b[33m[ WARN] [1667841452.718987195, 3745.355000000]: TF_REPEATED_DATA ignoring data with redundant timestamp for frame odom at time 3745.394000 according to authority /pose_integrator\u001b[0m\n",
      "\u001b[33m[ WARN] [1667841452.719297055, 3745.355000000]: TF_REPEATED_DATA ignoring data with redundant timestamp for frame odom at time 3745.394000 according to authority unknown_publisher\u001b[0m\n",
      "\u001b[33m[ WARN] [1667841457.899437644, 3746.379000000]: TF_REPEATED_DATA ignoring data with redundant timestamp for frame odom at time 3746.406000 according to authority /pose_integrator\u001b[0m\n",
      "\u001b[33m[ WARN] [1667841457.899948039, 3746.379000000]: TF_REPEATED_DATA ignoring data with redundant timestamp for frame odom at time 3746.406000 according to authority unknown_publisher\u001b[0m\n",
      "\u001b[33m[ WARN] [1667841472.243676740, 3749.149000000]: TF_REPEATED_DATA ignoring data with redundant timestamp for frame odom at time 3749.211000 according to authority /pose_integrator\u001b[0m\n",
      "\u001b[33m[ WARN] [1667841472.257260475, 3749.149000000]: TF_REPEATED_DATA ignoring data with redundant timestamp for frame odom at time 3749.211000 according to authority unknown_publisher\u001b[0m\n",
      "\u001b[33m[ WARN] [1667841477.837654509, 3750.439000000]: TF_REPEATED_DATA ignoring data with redundant timestamp for frame odom at time 3750.458000 according to authority /pose_integrator\u001b[0m\n",
      "\u001b[33m[ WARN] [1667841477.838614142, 3750.439000000]: TF_REPEATED_DATA ignoring data with redundant timestamp for frame odom at time 3750.458000 according to authority unknown_publisher\u001b[0m\n",
      "\u001b[33m[ WARN] [1667841497.748016214, 3754.371000000]: TF_REPEATED_DATA ignoring data with redundant timestamp for frame odom at time 3754.391000 according to authority unknown_publisher\u001b[0m\n",
      "\u001b[33m[ WARN] [1667841497.749602754, 3754.371000000]: TF_REPEATED_DATA ignoring data with redundant timestamp for frame odom at time 3754.391000 according to authority /pose_integrator\u001b[0m\n",
      "\u001b[33m[ WARN] [1667841536.877952446, 3761.709000000]: TF_REPEATED_DATA ignoring data with redundant timestamp for frame odom at time 3761.752000 according to authority unknown_publisher\u001b[0m\n",
      "\u001b[33m[ WARN] [1667841536.879312902, 3761.709000000]: TF_REPEATED_DATA ignoring data with redundant timestamp for frame odom at time 3761.752000 according to authority /pose_integrator\u001b[0m\n",
      "\u001b[33m[ WARN] [1667841561.229126095, 3766.031000000]: TF_REPEATED_DATA ignoring data with redundant timestamp for frame odom at time 3766.066000 according to authority /pose_integrator\u001b[0m\n",
      "\u001b[33m[ WARN] [1667841561.229870585, 3766.031000000]: TF_REPEATED_DATA ignoring data with redundant timestamp for frame odom at time 3766.066000 according to authority unknown_publisher\u001b[0m\n",
      "\u001b[33m[ WARN] [1667841563.602684803, 3766.491000000]: TF_REPEATED_DATA ignoring data with redundant timestamp for frame odom at time 3766.526000 according to authority /pose_integrator\u001b[0m\n",
      "\u001b[33m[ WARN] [1667841563.603184149, 3766.491000000]: TF_REPEATED_DATA ignoring data with redundant timestamp for frame odom at time 3766.526000 according to authority unknown_publisher\u001b[0m\n",
      "\u001b[33m[ WARN] [1667841567.283405779, 3767.229000000]: TF_REPEATED_DATA ignoring data with redundant timestamp for frame odom at time 3767.252000 according to authority /pose_integrator\u001b[0m\n",
      "\u001b[33m[ WARN] [1667841567.285821963, 3767.229000000]: TF_REPEATED_DATA ignoring data with redundant timestamp for frame odom at time 3767.252000 according to authority unknown_publisher\u001b[0m\n",
      "\u001b[33m[ WARN] [1667841570.508848991, 3767.919000000]: TF_REPEATED_DATA ignoring data with redundant timestamp for frame odom at time 3767.972000 according to authority /pose_integrator\u001b[0m\n",
      "\u001b[33m[ WARN] [1667841570.510203207, 3767.919000000]: TF_REPEATED_DATA ignoring data with redundant timestamp for frame odom at time 3767.972000 according to authority unknown_publisher\u001b[0m\n",
      "\u001b[33m[ WARN] [1667841614.617093886, 3776.277000000]: TF_REPEATED_DATA ignoring data with redundant timestamp for frame odom at time 3776.307000 according to authority /pose_integrator\u001b[0m\n",
      "\u001b[33m[ WARN] [1667841614.617996586, 3776.277000000]: TF_REPEATED_DATA ignoring data with redundant timestamp for frame odom at time 3776.307000 according to authority unknown_publisher\u001b[0m\n",
      "\u001b[33m[ WARN] [1667841642.440212272, 3781.654000000]: TF_REPEATED_DATA ignoring data with redundant timestamp for frame odom at time 3781.709000 according to authority /pose_integrator\u001b[0m\n",
      "\u001b[33m[ WARN] [1667841642.442276031, 3781.654000000]: TF_REPEATED_DATA ignoring data with redundant timestamp for frame odom at time 3781.709000 according to authority unknown_publisher\u001b[0m\n",
      "\u001b[33m[ WARN] [1667841675.413856883, 3787.542000000]: TF_REPEATED_DATA ignoring data with redundant timestamp for frame odom at time 3787.575000 according to authority /pose_integrator\u001b[0m\n",
      "\u001b[33m[ WARN] [1667841675.415584800, 3787.542000000]: TF_REPEATED_DATA ignoring data with redundant timestamp for frame odom at time 3787.575000 according to authority unknown_publisher\u001b[0m\n"
     ]
    },
    {
     "name": "stderr",
     "output_type": "stream",
     "text": [
      "\u001b[33m[ WARN] [1667841681.731009496, 3788.739000000]: TF_REPEATED_DATA ignoring data with redundant timestamp for frame odom at time 3788.784000 according to authority /pose_integrator\u001b[0m\n",
      "\u001b[33m[ WARN] [1667841681.733936485, 3788.739000000]: TF_REPEATED_DATA ignoring data with redundant timestamp for frame odom at time 3788.784000 according to authority unknown_publisher\u001b[0m\n",
      "\u001b[33m[ WARN] [1667841685.603650627, 3789.507000000]: TF_REPEATED_DATA ignoring data with redundant timestamp for frame odom at time 3789.558000 according to authority /pose_integrator\u001b[0m\n",
      "\u001b[33m[ WARN] [1667841685.604102623, 3789.507000000]: TF_REPEATED_DATA ignoring data with redundant timestamp for frame odom at time 3789.558000 according to authority unknown_publisher\u001b[0m\n",
      "\u001b[33m[ WARN] [1667841703.197241580, 3792.594000000]: TF_REPEATED_DATA ignoring data with redundant timestamp for frame odom at time 3792.619000 according to authority unknown_publisher\u001b[0m\n",
      "\u001b[33m[ WARN] [1667841703.197651704, 3792.594000000]: TF_REPEATED_DATA ignoring data with redundant timestamp for frame odom at time 3792.619000 according to authority /pose_integrator\u001b[0m\n",
      "\u001b[33m[ WARN] [1667841705.253038586, 3793.062000000]: TF_REPEATED_DATA ignoring data with redundant timestamp for frame odom at time 3793.062000 according to authority /pose_integrator\u001b[0m\n",
      "\u001b[33m[ WARN] [1667841705.253598757, 3793.062000000]: TF_REPEATED_DATA ignoring data with redundant timestamp for frame odom at time 3793.062000 according to authority unknown_publisher\u001b[0m\n",
      "\u001b[33m[ WARN] [1667841709.150494658, 3793.604000000]: TF_REPEATED_DATA ignoring data with redundant timestamp for frame odom at time 3793.676000 according to authority /pose_integrator\u001b[0m\n",
      "\u001b[33m[ WARN] [1667841709.150940120, 3793.604000000]: TF_REPEATED_DATA ignoring data with redundant timestamp for frame odom at time 3793.676000 according to authority unknown_publisher\u001b[0m\n",
      "\u001b[33m[ WARN] [1667841716.044615951, 3794.852000000]: TF_REPEATED_DATA ignoring data with redundant timestamp for frame odom at time 3794.895000 according to authority /pose_integrator\u001b[0m\n",
      "\u001b[33m[ WARN] [1667841716.048479026, 3794.852000000]: TF_REPEATED_DATA ignoring data with redundant timestamp for frame odom at time 3794.895000 according to authority unknown_publisher\u001b[0m\n",
      "\u001b[33m[ WARN] [1667841728.446253438, 3797.211000000]: TF_REPEATED_DATA ignoring data with redundant timestamp for frame odom at time 3797.267000 according to authority /pose_integrator\u001b[0m\n",
      "\u001b[33m[ WARN] [1667841728.447704116, 3797.211000000]: TF_REPEATED_DATA ignoring data with redundant timestamp for frame odom at time 3797.267000 according to authority unknown_publisher\u001b[0m\n",
      "\u001b[33m[ WARN] [1667841734.868941300, 3798.486000000]: TF_REPEATED_DATA ignoring data with redundant timestamp for frame odom at time 3798.510000 according to authority unknown_publisher\u001b[0m\n",
      "\u001b[33m[ WARN] [1667841734.871705617, 3798.486000000]: TF_REPEATED_DATA ignoring data with redundant timestamp for frame odom at time 3798.510000 according to authority /pose_integrator\u001b[0m\n",
      "\u001b[33m[ WARN] [1667841742.393610869, 3799.944000000]: TF_REPEATED_DATA ignoring data with redundant timestamp for frame odom at time 3799.991000 according to authority unknown_publisher\u001b[0m\n",
      "\u001b[33m[ WARN] [1667841742.393830001, 3799.944000000]: TF_REPEATED_DATA ignoring data with redundant timestamp for frame odom at time 3799.991000 according to authority /pose_integrator\u001b[0m\n",
      "\u001b[33m[ WARN] [1667841745.087045190, 3800.426000000]: TF_REPEATED_DATA ignoring data with redundant timestamp for frame odom at time 3800.449000 according to authority /pose_integrator\u001b[0m\n",
      "\u001b[33m[ WARN] [1667841745.087253455, 3800.426000000]: TF_REPEATED_DATA ignoring data with redundant timestamp for frame odom at time 3800.449000 according to authority unknown_publisher\u001b[0m\n",
      "\u001b[33m[ WARN] [1667841777.327186800, 3806.488000000]: TF_REPEATED_DATA ignoring data with redundant timestamp for frame odom at time 3806.514000 according to authority /pose_integrator\u001b[0m\n",
      "\u001b[33m[ WARN] [1667841777.332483656, 3806.514000000]: TF_REPEATED_DATA ignoring data with redundant timestamp for frame odom at time 3806.514000 according to authority unknown_publisher\u001b[0m\n",
      "\u001b[33m[ WARN] [1667841788.185551668, 3808.583000000]: TF_REPEATED_DATA ignoring data with redundant timestamp for frame odom at time 3808.628000 according to authority /pose_integrator\u001b[0m\n",
      "\u001b[33m[ WARN] [1667841788.186122460, 3808.583000000]: TF_REPEATED_DATA ignoring data with redundant timestamp for frame odom at time 3808.628000 according to authority unknown_publisher\u001b[0m\n",
      "\u001b[33m[ WARN] [1667841805.959938417, 3812.211000000]: TF_REPEATED_DATA ignoring data with redundant timestamp for frame odom at time 3812.237000 according to authority /pose_integrator\u001b[0m\n",
      "\u001b[33m[ WARN] [1667841805.961603127, 3812.211000000]: TF_REPEATED_DATA ignoring data with redundant timestamp for frame odom at time 3812.237000 according to authority unknown_publisher\u001b[0m\n",
      "\u001b[33m[ WARN] [1667841837.754212564, 3817.817000000]: TF_REPEATED_DATA ignoring data with redundant timestamp for frame odom at time 3817.888000 according to authority unknown_publisher\u001b[0m\n",
      "\u001b[33m[ WARN] [1667841837.755021275, 3817.888000000]: TF_REPEATED_DATA ignoring data with redundant timestamp for frame odom at time 3817.888000 according to authority /pose_integrator\u001b[0m\n",
      "\u001b[33m[ WARN] [1667841839.752254868, 3818.225000000]: TF_REPEATED_DATA ignoring data with redundant timestamp for frame odom at time 3818.260000 according to authority unknown_publisher\u001b[0m\n",
      "\u001b[33m[ WARN] [1667841839.755319132, 3818.225000000]: TF_REPEATED_DATA ignoring data with redundant timestamp for frame odom at time 3818.260000 according to authority /pose_integrator\u001b[0m\n",
      "\u001b[33m[ WARN] [1667841844.044223818, 3819.161000000]: TF_REPEATED_DATA ignoring data with redundant timestamp for frame odom at time 3819.209000 according to authority /pose_integrator\u001b[0m\n",
      "\u001b[33m[ WARN] [1667841844.046008434, 3819.161000000]: TF_REPEATED_DATA ignoring data with redundant timestamp for frame odom at time 3819.209000 according to authority unknown_publisher\u001b[0m\n",
      "\u001b[33m[ WARN] [1667841844.713015336, 3819.295000000]: TF_REPEATED_DATA ignoring data with redundant timestamp for frame odom at time 3819.345000 according to authority unknown_publisher\u001b[0m\n",
      "\u001b[33m[ WARN] [1667841844.714262732, 3819.295000000]: TF_REPEATED_DATA ignoring data with redundant timestamp for frame odom at time 3819.345000 according to authority /pose_integrator\u001b[0m\n",
      "\u001b[33m[ WARN] [1667841849.515806578, 3820.222000000]: TF_REPEATED_DATA ignoring data with redundant timestamp for frame odom at time 3820.250000 according to authority /pose_integrator\u001b[0m\n",
      "\u001b[33m[ WARN] [1667841849.515897416, 3820.222000000]: TF_REPEATED_DATA ignoring data with redundant timestamp for frame odom at time 3820.250000 according to authority unknown_publisher\u001b[0m\n",
      "\u001b[33m[ WARN] [1667841859.712652344, 3822.071000000]: TF_REPEATED_DATA ignoring data with redundant timestamp for frame odom at time 3822.125000 according to authority /pose_integrator\u001b[0m\n",
      "\u001b[33m[ WARN] [1667841859.714781646, 3822.071000000]: TF_REPEATED_DATA ignoring data with redundant timestamp for frame odom at time 3822.125000 according to authority unknown_publisher\u001b[0m\n",
      "\u001b[33m[ WARN] [1667841868.293439577, 3823.767000000]: TF_REPEATED_DATA ignoring data with redundant timestamp for frame odom at time 3823.813000 according to authority /pose_integrator\u001b[0m\n",
      "\u001b[33m[ WARN] [1667841868.294355280, 3823.767000000]: TF_REPEATED_DATA ignoring data with redundant timestamp for frame odom at time 3823.813000 according to authority unknown_publisher\u001b[0m\n",
      "\u001b[33m[ WARN] [1667841886.204960027, 3827.650000000]: TF_REPEATED_DATA ignoring data with redundant timestamp for frame odom at time 3827.705000 according to authority /pose_integrator\u001b[0m\n",
      "\u001b[33m[ WARN] [1667841886.208024641, 3827.650000000]: TF_REPEATED_DATA ignoring data with redundant timestamp for frame odom at time 3827.705000 according to authority unknown_publisher\u001b[0m\n",
      "\u001b[33m[ WARN] [1667841907.316158442, 3831.913000000]: TF_REPEATED_DATA ignoring data with redundant timestamp for frame odom at time 3831.945000 according to authority /pose_integrator\u001b[0m\n",
      "\u001b[33m[ WARN] [1667841907.318183489, 3831.913000000]: TF_REPEATED_DATA ignoring data with redundant timestamp for frame odom at time 3831.945000 according to authority unknown_publisher\u001b[0m\n"
     ]
    },
    {
     "name": "stderr",
     "output_type": "stream",
     "text": [
      "\u001b[33m[ WARN] [1667841927.824825658, 3835.991000000]: TF_REPEATED_DATA ignoring data with redundant timestamp for frame odom at time 3836.035000 according to authority unknown_publisher\u001b[0m\n",
      "\u001b[33m[ WARN] [1667841927.825439948, 3835.991000000]: TF_REPEATED_DATA ignoring data with redundant timestamp for frame odom at time 3836.035000 according to authority /pose_integrator\u001b[0m\n",
      "\u001b[33m[ WARN] [1667841938.978867420, 3838.128000000]: TF_REPEATED_DATA ignoring data with redundant timestamp for frame odom at time 3838.170000 according to authority unknown_publisher\u001b[0m\n",
      "\u001b[33m[ WARN] [1667841938.979663416, 3838.128000000]: TF_REPEATED_DATA ignoring data with redundant timestamp for frame odom at time 3838.170000 according to authority /pose_integrator\u001b[0m\n",
      "\u001b[33m[ WARN] [1667841946.688682043, 3839.619000000]: TF_REPEATED_DATA ignoring data with redundant timestamp for frame odom at time 3839.648000 according to authority /pose_integrator\u001b[0m\n",
      "\u001b[33m[ WARN] [1667841946.690131080, 3839.619000000]: TF_REPEATED_DATA ignoring data with redundant timestamp for frame odom at time 3839.648000 according to authority unknown_publisher\u001b[0m\n",
      "\u001b[33m[ WARN] [1667841960.980902641, 3842.384000000]: TF_REPEATED_DATA ignoring data with redundant timestamp for frame odom at time 3842.399000 according to authority /pose_integrator\u001b[0m\n",
      "\u001b[33m[ WARN] [1667841960.982870511, 3842.384000000]: TF_REPEATED_DATA ignoring data with redundant timestamp for frame odom at time 3842.399000 according to authority unknown_publisher\u001b[0m\n",
      "\u001b[33m[ WARN] [1667841969.591282708, 3844.153000000]: TF_REPEATED_DATA ignoring data with redundant timestamp for frame odom at time 3844.195000 according to authority /pose_integrator\u001b[0m\n",
      "\u001b[33m[ WARN] [1667841969.596455126, 3844.153000000]: TF_REPEATED_DATA ignoring data with redundant timestamp for frame odom at time 3844.195000 according to authority unknown_publisher\u001b[0m\n",
      "\u001b[33m[ WARN] [1667841974.661264719, 3845.065000000]: TF_REPEATED_DATA ignoring data with redundant timestamp for frame odom at time 3845.113000 according to authority /pose_integrator\u001b[0m\n",
      "\u001b[33m[ WARN] [1667841974.662016275, 3845.065000000]: TF_REPEATED_DATA ignoring data with redundant timestamp for frame odom at time 3845.113000 according to authority unknown_publisher\u001b[0m\n",
      "\u001b[33m[ WARN] [1667841975.390448467, 3845.232000000]: TF_REPEATED_DATA ignoring data with redundant timestamp for frame odom at time 3845.253000 according to authority unknown_publisher\u001b[0m\n",
      "\u001b[33m[ WARN] [1667841975.391719510, 3845.232000000]: TF_REPEATED_DATA ignoring data with redundant timestamp for frame odom at time 3845.253000 according to authority /pose_integrator\u001b[0m\n",
      "\u001b[33m[ WARN] [1667841980.434422792, 3846.069000000]: TF_REPEATED_DATA ignoring data with redundant timestamp for frame odom at time 3846.098000 according to authority /pose_integrator\u001b[0m\n",
      "\u001b[33m[ WARN] [1667841980.435501074, 3846.069000000]: TF_REPEATED_DATA ignoring data with redundant timestamp for frame odom at time 3846.098000 according to authority unknown_publisher\u001b[0m\n",
      "\u001b[33m[ WARN] [1667842012.705236842, 3852.200000000]: TF_REPEATED_DATA ignoring data with redundant timestamp for frame odom at time 3852.200000 according to authority unknown_publisher\u001b[0m\n",
      "\u001b[33m[ WARN] [1667842012.711170154, 3852.200000000]: TF_REPEATED_DATA ignoring data with redundant timestamp for frame odom at time 3852.200000 according to authority /pose_integrator\u001b[0m\n",
      "\u001b[33m[ WARN] [1667842019.720878711, 3853.464000000]: TF_REPEATED_DATA ignoring data with redundant timestamp for frame odom at time 3853.489000 according to authority /pose_integrator\u001b[0m\n",
      "\u001b[33m[ WARN] [1667842019.721277257, 3853.464000000]: TF_REPEATED_DATA ignoring data with redundant timestamp for frame odom at time 3853.489000 according to authority unknown_publisher\u001b[0m\n",
      "\u001b[33m[ WARN] [1667842020.478009769, 3853.579000000]: TF_REPEATED_DATA ignoring data with redundant timestamp for frame odom at time 3853.627000 according to authority /pose_integrator\u001b[0m\n",
      "\u001b[33m[ WARN] [1667842020.478437825, 3853.579000000]: TF_REPEATED_DATA ignoring data with redundant timestamp for frame odom at time 3853.627000 according to authority unknown_publisher\u001b[0m\n",
      "\u001b[33m[ WARN] [1667842021.214809743, 3853.747000000]: TF_REPEATED_DATA ignoring data with redundant timestamp for frame odom at time 3853.786000 according to authority unknown_publisher\u001b[0m\n",
      "\u001b[33m[ WARN] [1667842021.217434265, 3853.747000000]: TF_REPEATED_DATA ignoring data with redundant timestamp for frame odom at time 3853.786000 according to authority /pose_integrator\u001b[0m\n",
      "\u001b[33m[ WARN] [1667842027.679425881, 3855.091000000]: TF_REPEATED_DATA ignoring data with redundant timestamp for frame odom at time 3855.114000 according to authority unknown_publisher\u001b[0m\n",
      "\u001b[33m[ WARN] [1667842027.680338504, 3855.091000000]: TF_REPEATED_DATA ignoring data with redundant timestamp for frame odom at time 3855.114000 according to authority /pose_integrator\u001b[0m\n",
      "\u001b[33m[ WARN] [1667842047.402633769, 3858.853000000]: TF_REPEATED_DATA ignoring data with redundant timestamp for frame odom at time 3858.887000 according to authority /pose_integrator\u001b[0m\n",
      "\u001b[33m[ WARN] [1667842047.409253500, 3858.853000000]: TF_REPEATED_DATA ignoring data with redundant timestamp for frame odom at time 3858.887000 according to authority unknown_publisher\u001b[0m\n",
      "\u001b[33m[ WARN] [1667842056.224693281, 3860.578000000]: TF_REPEATED_DATA ignoring data with redundant timestamp for frame odom at time 3860.592000 according to authority /pose_integrator\u001b[0m\n",
      "\u001b[33m[ WARN] [1667842056.225243982, 3860.578000000]: TF_REPEATED_DATA ignoring data with redundant timestamp for frame odom at time 3860.592000 according to authority unknown_publisher\u001b[0m\n",
      "\u001b[33m[ WARN] [1667842057.263422809, 3860.776000000]: TF_REPEATED_DATA ignoring data with redundant timestamp for frame odom at time 3860.806000 according to authority /pose_integrator\u001b[0m\n",
      "\u001b[33m[ WARN] [1667842057.267224224, 3860.776000000]: TF_REPEATED_DATA ignoring data with redundant timestamp for frame odom at time 3860.806000 according to authority unknown_publisher\u001b[0m\n",
      "\u001b[33m[ WARN] [1667842061.322419214, 3861.527000000]: TF_REPEATED_DATA ignoring data with redundant timestamp for frame odom at time 3861.561000 according to authority /pose_integrator\u001b[0m\n",
      "\u001b[33m[ WARN] [1667842061.322645528, 3861.527000000]: TF_REPEATED_DATA ignoring data with redundant timestamp for frame odom at time 3861.561000 according to authority unknown_publisher\u001b[0m\n",
      "\u001b[33m[ WARN] [1667842075.881797592, 3864.181000000]: TF_REPEATED_DATA ignoring data with redundant timestamp for frame odom at time 3864.255000 according to authority /pose_integrator\u001b[0m\n",
      "\u001b[33m[ WARN] [1667842075.884439463, 3864.181000000]: TF_REPEATED_DATA ignoring data with redundant timestamp for frame odom at time 3864.255000 according to authority unknown_publisher\u001b[0m\n",
      "\u001b[33m[ WARN] [1667842078.199692818, 3864.626000000]: TF_REPEATED_DATA ignoring data with redundant timestamp for frame odom at time 3864.660000 according to authority /pose_integrator\u001b[0m\n",
      "\u001b[33m[ WARN] [1667842078.199883061, 3864.626000000]: TF_REPEATED_DATA ignoring data with redundant timestamp for frame odom at time 3864.660000 according to authority unknown_publisher\u001b[0m\n",
      "\u001b[33m[ WARN] [1667842082.184518278, 3865.295000000]: TF_REPEATED_DATA ignoring data with redundant timestamp for frame odom at time 3865.324000 according to authority /pose_integrator\u001b[0m\n",
      "\u001b[33m[ WARN] [1667842082.188042895, 3865.295000000]: TF_REPEATED_DATA ignoring data with redundant timestamp for frame odom at time 3865.324000 according to authority unknown_publisher\u001b[0m\n",
      "\u001b[33m[ WARN] [1667842096.483697512, 3868.044000000]: TF_REPEATED_DATA ignoring data with redundant timestamp for frame odom at time 3868.125000 according to authority /pose_integrator\u001b[0m\n",
      "\u001b[33m[ WARN] [1667842096.483883926, 3868.044000000]: TF_REPEATED_DATA ignoring data with redundant timestamp for frame odom at time 3868.125000 according to authority unknown_publisher\u001b[0m\n",
      "\u001b[33m[ WARN] [1667842103.582059727, 3869.466000000]: TF_REPEATED_DATA ignoring data with redundant timestamp for frame odom at time 3869.517000 according to authority unknown_publisher\u001b[0m\n",
      "\u001b[33m[ WARN] [1667842103.582838562, 3869.466000000]: TF_REPEATED_DATA ignoring data with redundant timestamp for frame odom at time 3869.517000 according to authority /pose_integrator\u001b[0m\n"
     ]
    },
    {
     "name": "stderr",
     "output_type": "stream",
     "text": [
      "\u001b[33m[ WARN] [1667842114.224395054, 3871.527000000]: TF_REPEATED_DATA ignoring data with redundant timestamp for frame odom at time 3871.549000 according to authority /pose_integrator\u001b[0m\n",
      "\u001b[33m[ WARN] [1667842114.224881299, 3871.527000000]: TF_REPEATED_DATA ignoring data with redundant timestamp for frame odom at time 3871.549000 according to authority unknown_publisher\u001b[0m\n",
      "\u001b[33m[ WARN] [1667842130.175098978, 3874.799000000]: TF_REPEATED_DATA ignoring data with redundant timestamp for frame odom at time 3874.865000 according to authority /pose_integrator\u001b[0m\n",
      "\u001b[33m[ WARN] [1667842130.175304969, 3874.799000000]: TF_REPEATED_DATA ignoring data with redundant timestamp for frame odom at time 3874.865000 according to authority unknown_publisher\u001b[0m\n",
      "\u001b[33m[ WARN] [1667842134.078353880, 3875.565000000]: TF_REPEATED_DATA ignoring data with redundant timestamp for frame odom at time 3875.609000 according to authority /pose_integrator\u001b[0m\n",
      "\u001b[33m[ WARN] [1667842134.078637038, 3875.565000000]: TF_REPEATED_DATA ignoring data with redundant timestamp for frame odom at time 3875.609000 according to authority unknown_publisher\u001b[0m\n",
      "\u001b[33m[ WARN] [1667842158.310103173, 3880.082000000]: TF_REPEATED_DATA ignoring data with redundant timestamp for frame odom at time 3880.113000 according to authority /pose_integrator\u001b[0m\n",
      "\u001b[33m[ WARN] [1667842158.311218657, 3880.082000000]: TF_REPEATED_DATA ignoring data with redundant timestamp for frame odom at time 3880.113000 according to authority unknown_publisher\u001b[0m\n",
      "\u001b[33m[ WARN] [1667842192.690909231, 3886.809000000]: TF_REPEATED_DATA ignoring data with redundant timestamp for frame odom at time 3886.833000 according to authority /pose_integrator\u001b[0m\n",
      "\u001b[33m[ WARN] [1667842192.691070920, 3886.809000000]: TF_REPEATED_DATA ignoring data with redundant timestamp for frame odom at time 3886.833000 according to authority unknown_publisher\u001b[0m\n",
      "\u001b[33m[ WARN] [1667842198.154834917, 3887.908000000]: TF_REPEATED_DATA ignoring data with redundant timestamp for frame odom at time 3887.944000 according to authority /pose_integrator\u001b[0m\n",
      "\u001b[33m[ WARN] [1667842198.155069821, 3887.908000000]: TF_REPEATED_DATA ignoring data with redundant timestamp for frame odom at time 3887.944000 according to authority unknown_publisher\u001b[0m\n",
      "\u001b[33m[ WARN] [1667842210.159085186, 3890.224000000]: TF_REPEATED_DATA ignoring data with redundant timestamp for frame odom at time 3890.262000 according to authority /pose_integrator\u001b[0m\n",
      "\u001b[33m[ WARN] [1667842210.159795535, 3890.224000000]: TF_REPEATED_DATA ignoring data with redundant timestamp for frame odom at time 3890.262000 according to authority unknown_publisher\u001b[0m\n",
      "\u001b[33m[ WARN] [1667842212.542194186, 3890.753000000]: TF_REPEATED_DATA ignoring data with redundant timestamp for frame odom at time 3890.782000 according to authority /pose_integrator\u001b[0m\n",
      "\u001b[33m[ WARN] [1667842212.542440911, 3890.753000000]: TF_REPEATED_DATA ignoring data with redundant timestamp for frame odom at time 3890.782000 according to authority unknown_publisher\u001b[0m\n",
      "\u001b[33m[ WARN] [1667842224.082134141, 3893.074000000]: TF_REPEATED_DATA ignoring data with redundant timestamp for frame odom at time 3893.109000 according to authority /pose_integrator\u001b[0m\n",
      "\u001b[33m[ WARN] [1667842224.083131571, 3893.074000000]: TF_REPEATED_DATA ignoring data with redundant timestamp for frame odom at time 3893.109000 according to authority unknown_publisher\u001b[0m\n",
      "\u001b[33m[ WARN] [1667842243.404410142, 3896.802000000]: TF_REPEATED_DATA ignoring data with redundant timestamp for frame odom at time 3896.836000 according to authority unknown_publisher\u001b[0m\n",
      "\u001b[33m[ WARN] [1667842243.405716743, 3896.802000000]: TF_REPEATED_DATA ignoring data with redundant timestamp for frame odom at time 3896.836000 according to authority /pose_integrator\u001b[0m\n",
      "\u001b[33m[ WARN] [1667842258.722166622, 3899.712000000]: TF_REPEATED_DATA ignoring data with redundant timestamp for frame odom at time 3899.734000 according to authority /pose_integrator\u001b[0m\n",
      "\u001b[33m[ WARN] [1667842258.722361032, 3899.712000000]: TF_REPEATED_DATA ignoring data with redundant timestamp for frame odom at time 3899.734000 according to authority unknown_publisher\u001b[0m\n",
      "\u001b[33m[ WARN] [1667842265.216340910, 3900.958000000]: TF_REPEATED_DATA ignoring data with redundant timestamp for frame odom at time 3901.007000 according to authority /pose_integrator\u001b[0m\n",
      "\u001b[33m[ WARN] [1667842265.218832485, 3900.958000000]: TF_REPEATED_DATA ignoring data with redundant timestamp for frame odom at time 3901.007000 according to authority unknown_publisher\u001b[0m\n",
      "\u001b[33m[ WARN] [1667842273.322296408, 3902.446000000]: TF_REPEATED_DATA ignoring data with redundant timestamp for frame odom at time 3902.464000 according to authority /pose_integrator\u001b[0m\n",
      "\u001b[33m[ WARN] [1667842273.330660244, 3902.466000000]: TF_REPEATED_DATA ignoring data with redundant timestamp for frame odom at time 3902.464000 according to authority unknown_publisher\u001b[0m\n",
      "\u001b[33m[ WARN] [1667842274.878010727, 3902.685000000]: TF_REPEATED_DATA ignoring data with redundant timestamp for frame odom at time 3902.710000 according to authority /pose_integrator\u001b[0m\n",
      "\u001b[33m[ WARN] [1667842274.878667707, 3902.685000000]: TF_REPEATED_DATA ignoring data with redundant timestamp for frame odom at time 3902.710000 according to authority unknown_publisher\u001b[0m\n",
      "\u001b[33m[ WARN] [1667842275.569561536, 3902.880000000]: TF_REPEATED_DATA ignoring data with redundant timestamp for frame odom at time 3902.920000 according to authority unknown_publisher\u001b[0m\n",
      "\u001b[33m[ WARN] [1667842275.570452958, 3902.880000000]: TF_REPEATED_DATA ignoring data with redundant timestamp for frame odom at time 3902.920000 according to authority /pose_integrator\u001b[0m\n",
      "\u001b[33m[ WARN] [1667842277.482105815, 3903.299000000]: TF_REPEATED_DATA ignoring data with redundant timestamp for frame odom at time 3903.404000 according to authority /pose_integrator\u001b[0m\n",
      "\u001b[33m[ WARN] [1667842277.482174611, 3903.299000000]: TF_REPEATED_DATA ignoring data with redundant timestamp for frame odom at time 3903.404000 according to authority unknown_publisher\u001b[0m\n",
      "\u001b[33m[ WARN] [1667842322.930371800, 3912.597000000]: TF_REPEATED_DATA ignoring data with redundant timestamp for frame odom at time 3912.636000 according to authority /pose_integrator\u001b[0m\n",
      "\u001b[33m[ WARN] [1667842322.930592817, 3912.597000000]: TF_REPEATED_DATA ignoring data with redundant timestamp for frame odom at time 3912.636000 according to authority unknown_publisher\u001b[0m\n",
      "\u001b[33m[ WARN] [1667842359.416502350, 3919.290000000]: TF_REPEATED_DATA ignoring data with redundant timestamp for frame odom at time 3919.333000 according to authority unknown_publisher\u001b[0m\n",
      "\u001b[33m[ WARN] [1667842359.418457809, 3919.290000000]: TF_REPEATED_DATA ignoring data with redundant timestamp for frame odom at time 3919.333000 according to authority /pose_integrator\u001b[0m\n",
      "\u001b[33m[ WARN] [1667842370.164809694, 3921.169000000]: TF_REPEATED_DATA ignoring data with redundant timestamp for frame odom at time 3921.207000 according to authority unknown_publisher\u001b[0m\n",
      "\u001b[33m[ WARN] [1667842370.165898853, 3921.169000000]: TF_REPEATED_DATA ignoring data with redundant timestamp for frame odom at time 3921.207000 according to authority /pose_integrator\u001b[0m\n",
      "\u001b[33m[ WARN] [1667842376.807712089, 3922.397000000]: TF_REPEATED_DATA ignoring data with redundant timestamp for frame odom at time 3922.456000 according to authority /pose_integrator\u001b[0m\n",
      "\u001b[33m[ WARN] [1667842376.807977030, 3922.397000000]: TF_REPEATED_DATA ignoring data with redundant timestamp for frame odom at time 3922.456000 according to authority unknown_publisher\u001b[0m\n",
      "\u001b[33m[ WARN] [1667842439.096389008, 3933.400000000]: TF_REPEATED_DATA ignoring data with redundant timestamp for frame odom at time 3933.420000 according to authority /pose_integrator\u001b[0m\n",
      "\u001b[33m[ WARN] [1667842439.096863320, 3933.400000000]: TF_REPEATED_DATA ignoring data with redundant timestamp for frame odom at time 3933.420000 according to authority unknown_publisher\u001b[0m\n",
      "\u001b[33m[ WARN] [1667842447.581247802, 3934.907000000]: TF_REPEATED_DATA ignoring data with redundant timestamp for frame odom at time 3934.938000 according to authority /pose_integrator\u001b[0m\n",
      "\u001b[33m[ WARN] [1667842447.583573843, 3934.907000000]: TF_REPEATED_DATA ignoring data with redundant timestamp for frame odom at time 3934.938000 according to authority unknown_publisher\u001b[0m\n"
     ]
    },
    {
     "name": "stderr",
     "output_type": "stream",
     "text": [
      "\u001b[33m[ WARN] [1667842450.684518778, 3935.483000000]: TF_REPEATED_DATA ignoring data with redundant timestamp for frame odom at time 3935.562000 according to authority /pose_integrator\u001b[0m\n",
      "\u001b[33m[ WARN] [1667842450.684935897, 3935.483000000]: TF_REPEATED_DATA ignoring data with redundant timestamp for frame odom at time 3935.562000 according to authority unknown_publisher\u001b[0m\n",
      "\u001b[33m[ WARN] [1667842454.767947593, 3936.298000000]: TF_REPEATED_DATA ignoring data with redundant timestamp for frame odom at time 3936.339000 according to authority /pose_integrator\u001b[0m\n",
      "\u001b[33m[ WARN] [1667842454.769390684, 3936.298000000]: TF_REPEATED_DATA ignoring data with redundant timestamp for frame odom at time 3936.339000 according to authority unknown_publisher\u001b[0m\n",
      "\u001b[33m[ WARN] [1667842469.173406629, 3939.034000000]: TF_REPEATED_DATA ignoring data with redundant timestamp for frame odom at time 3939.062000 according to authority /pose_integrator\u001b[0m\n",
      "\u001b[33m[ WARN] [1667842469.173832052, 3939.034000000]: TF_REPEATED_DATA ignoring data with redundant timestamp for frame odom at time 3939.062000 according to authority unknown_publisher\u001b[0m\n",
      "\u001b[33m[ WARN] [1667842473.190451412, 3939.749000000]: TF_REPEATED_DATA ignoring data with redundant timestamp for frame odom at time 3939.770000 according to authority /pose_integrator\u001b[0m\n",
      "\u001b[33m[ WARN] [1667842473.191801658, 3939.749000000]: TF_REPEATED_DATA ignoring data with redundant timestamp for frame odom at time 3939.770000 according to authority unknown_publisher\u001b[0m\n",
      "\u001b[33m[ WARN] [1667842478.498158516, 3940.680000000]: TF_REPEATED_DATA ignoring data with redundant timestamp for frame odom at time 3940.707000 according to authority unknown_publisher\u001b[0m\n",
      "\u001b[33m[ WARN] [1667842478.500288553, 3940.680000000]: TF_REPEATED_DATA ignoring data with redundant timestamp for frame odom at time 3940.707000 according to authority /pose_integrator\u001b[0m\n"
     ]
    }
   ],
   "source": [
    "# `go()` returns a boolean indicating whether the planning and execution was successful.\n",
    "whole_body.go(wait=True)\n",
    "# Calling `stop()` ensures that there is no residual movement\n",
    "#whole_body.stop()\n",
    "# It is always good to clear your targets after planning with poses.\n",
    "# Note: there is no equivalent function for clear_joint_value_targets().\n",
    "whole_body.clear_pose_targets()"
   ]
  },
  {
   "cell_type": "code",
   "execution_count": 13,
   "id": "e68e3176",
   "metadata": {
    "scrolled": true
   },
   "outputs": [
    {
     "name": "stderr",
     "output_type": "stream",
     "text": [
      "\u001b[33m[ WARN] [1667837189.069014609, 2860.606000000]: TF_REPEATED_DATA ignoring data with redundant timestamp for frame odom at time 2860.638000 according to authority /pose_integrator\u001b[0m\n",
      "\u001b[33m[ WARN] [1667837189.069355584, 2860.606000000]: TF_REPEATED_DATA ignoring data with redundant timestamp for frame odom at time 2860.638000 according to authority unknown_publisher\u001b[0m\n",
      "\u001b[33m[ WARN] [1667837206.786694750, 2864.330000000]: TF_REPEATED_DATA ignoring data with redundant timestamp for frame odom at time 2864.348000 according to authority /pose_integrator\u001b[0m\n",
      "\u001b[33m[ WARN] [1667837206.788579540, 2864.330000000]: TF_REPEATED_DATA ignoring data with redundant timestamp for frame odom at time 2864.348000 according to authority unknown_publisher\u001b[0m\n",
      "\u001b[33m[ WARN] [1667837226.062723227, 2868.661000000]: TF_REPEATED_DATA ignoring data with redundant timestamp for frame odom at time 2868.752000 according to authority /pose_integrator\u001b[0m\n",
      "\u001b[33m[ WARN] [1667837226.062881704, 2868.661000000]: TF_REPEATED_DATA ignoring data with redundant timestamp for frame odom at time 2868.752000 according to authority unknown_publisher\u001b[0m\n",
      "\u001b[33m[ WARN] [1667837232.747949004, 2870.161000000]: TF_REPEATED_DATA ignoring data with redundant timestamp for frame odom at time 2870.178000 according to authority /pose_integrator\u001b[0m\n",
      "\u001b[33m[ WARN] [1667837232.753308883, 2870.161000000]: TF_REPEATED_DATA ignoring data with redundant timestamp for frame odom at time 2870.178000 according to authority unknown_publisher\u001b[0m\n"
     ]
    },
    {
     "data": {
      "text/plain": [
       "True"
      ]
     },
     "execution_count": 13,
     "metadata": {},
     "output_type": "execute_result"
    },
    {
     "name": "stderr",
     "output_type": "stream",
     "text": [
      "\u001b[33m[ WARN] [1667837256.760109281, 2875.419000000]: TF_REPEATED_DATA ignoring data with redundant timestamp for frame odom at time 2875.454000 according to authority /pose_integrator\u001b[0m\n",
      "\u001b[33m[ WARN] [1667837256.763198630, 2875.419000000]: TF_REPEATED_DATA ignoring data with redundant timestamp for frame odom at time 2875.454000 according to authority unknown_publisher\u001b[0m\n",
      "\u001b[33m[ WARN] [1667837300.081208869, 2884.307000000]: TF_REPEATED_DATA ignoring data with redundant timestamp for frame odom at time 2884.353000 according to authority /pose_integrator\u001b[0m\n",
      "\u001b[33m[ WARN] [1667837300.081766553, 2884.307000000]: TF_REPEATED_DATA ignoring data with redundant timestamp for frame odom at time 2884.353000 according to authority unknown_publisher\u001b[0m\n",
      "\u001b[33m[ WARN] [1667837307.347098638, 2885.736000000]: TF_REPEATED_DATA ignoring data with redundant timestamp for frame odom at time 2885.785000 according to authority /pose_integrator\u001b[0m\n",
      "\u001b[33m[ WARN] [1667837307.347384168, 2885.736000000]: TF_REPEATED_DATA ignoring data with redundant timestamp for frame odom at time 2885.785000 according to authority unknown_publisher\u001b[0m\n",
      "\u001b[33m[ WARN] [1667837311.548525951, 2886.688000000]: TF_REPEATED_DATA ignoring data with redundant timestamp for frame odom at time 2886.729000 according to authority /pose_integrator\u001b[0m\n",
      "\u001b[33m[ WARN] [1667837311.549448477, 2886.688000000]: TF_REPEATED_DATA ignoring data with redundant timestamp for frame odom at time 2886.729000 according to authority unknown_publisher\u001b[0m\n",
      "\u001b[33m[ WARN] [1667837313.650095004, 2887.260000000]: TF_REPEATED_DATA ignoring data with redundant timestamp for frame odom at time 2887.285000 according to authority /pose_integrator\u001b[0m\n",
      "\u001b[33m[ WARN] [1667837313.650295278, 2887.260000000]: TF_REPEATED_DATA ignoring data with redundant timestamp for frame odom at time 2887.285000 according to authority unknown_publisher\u001b[0m\n",
      "\u001b[33m[ WARN] [1667837324.208165084, 2889.737000000]: TF_REPEATED_DATA ignoring data with redundant timestamp for frame odom at time 2889.763000 according to authority /pose_integrator\u001b[0m\n",
      "\u001b[33m[ WARN] [1667837324.208369804, 2889.737000000]: TF_REPEATED_DATA ignoring data with redundant timestamp for frame odom at time 2889.763000 according to authority unknown_publisher\u001b[0m\n",
      "\u001b[33m[ WARN] [1667837327.899368076, 2890.539000000]: TF_REPEATED_DATA ignoring data with redundant timestamp for frame odom at time 2890.591000 according to authority /pose_integrator\u001b[0m\n",
      "\u001b[33m[ WARN] [1667837327.899546939, 2890.539000000]: TF_REPEATED_DATA ignoring data with redundant timestamp for frame odom at time 2890.591000 according to authority unknown_publisher\u001b[0m\n",
      "\u001b[33m[ WARN] [1667837336.817145705, 2892.329000000]: TF_REPEATED_DATA ignoring data with redundant timestamp for frame odom at time 2892.363000 according to authority unknown_publisher\u001b[0m\n",
      "\u001b[33m[ WARN] [1667837336.818592468, 2892.329000000]: TF_REPEATED_DATA ignoring data with redundant timestamp for frame odom at time 2892.363000 according to authority /pose_integrator\u001b[0m\n"
     ]
    }
   ],
   "source": [
    "arm.set_named_target('neutral')\n",
    "arm.go()\n"
   ]
  },
  {
   "cell_type": "code",
   "execution_count": 14,
   "id": "7a6358dd",
   "metadata": {
    "scrolled": true
   },
   "outputs": [
    {
     "name": "stderr",
     "output_type": "stream",
     "text": [
      "\u001b[33m[ WARN] [1667837351.775898242, 2895.386000000]: TF_REPEATED_DATA ignoring data with redundant timestamp for frame odom at time 2895.458000 according to authority unknown_publisher\u001b[0m\n",
      "\u001b[33m[ WARN] [1667837351.776807811, 2895.386000000]: TF_REPEATED_DATA ignoring data with redundant timestamp for frame odom at time 2895.458000 according to authority /pose_integrator\u001b[0m\n",
      "\u001b[33m[ WARN] [1667837353.838281185, 2895.787000000]: TF_REPEATED_DATA ignoring data with redundant timestamp for frame odom at time 2895.850000 according to authority /pose_integrator\u001b[0m\n",
      "\u001b[33m[ WARN] [1667837353.840001908, 2895.787000000]: TF_REPEATED_DATA ignoring data with redundant timestamp for frame odom at time 2895.850000 according to authority unknown_publisher\u001b[0m\n",
      "\u001b[33m[ WARN] [1667837355.147527815, 2896.127000000]: TF_REPEATED_DATA ignoring data with redundant timestamp for frame odom at time 2896.160000 according to authority /pose_integrator\u001b[0m\n",
      "\u001b[33m[ WARN] [1667837355.148892493, 2896.127000000]: TF_REPEATED_DATA ignoring data with redundant timestamp for frame odom at time 2896.160000 according to authority unknown_publisher\u001b[0m\n",
      "\u001b[33m[ WARN] [1667837355.656860638, 2896.295000000]: TF_REPEATED_DATA ignoring data with redundant timestamp for frame odom at time 2896.341000 according to authority /pose_integrator\u001b[0m\n",
      "\u001b[33m[ WARN] [1667837355.659654240, 2896.295000000]: TF_REPEATED_DATA ignoring data with redundant timestamp for frame odom at time 2896.341000 according to authority unknown_publisher\u001b[0m\n"
     ]
    },
    {
     "name": "stdout",
     "output_type": "stream",
     "text": [
      "fraction : 100.0%\n"
     ]
    },
    {
     "name": "stderr",
     "output_type": "stream",
     "text": [
      "\u001b[33m[ WARN] [1667837358.834409145, 2896.950000000]: TF_REPEATED_DATA ignoring data with redundant timestamp for frame odom at time 2896.992000 according to authority /pose_integrator\u001b[0m\n",
      "\u001b[33m[ WARN] [1667837358.835562218, 2896.992000000]: TF_REPEATED_DATA ignoring data with redundant timestamp for frame odom at time 2896.992000 according to authority unknown_publisher\u001b[0m\n",
      "\u001b[33m[ WARN] [1667837366.392505822, 2898.460000000]: TF_REPEATED_DATA ignoring data with redundant timestamp for frame odom at time 2898.490000 according to authority /pose_integrator\u001b[0m\n",
      "\u001b[33m[ WARN] [1667837366.393146732, 2898.460000000]: TF_REPEATED_DATA ignoring data with redundant timestamp for frame odom at time 2898.490000 according to authority unknown_publisher\u001b[0m\n",
      "\u001b[33m[ WARN] [1667837370.610073438, 2899.268000000]: TF_REPEATED_DATA ignoring data with redundant timestamp for frame odom at time 2899.290000 according to authority /pose_integrator\u001b[0m\n",
      "\u001b[33m[ WARN] [1667837370.611021761, 2899.268000000]: TF_REPEATED_DATA ignoring data with redundant timestamp for frame odom at time 2899.290000 according to authority unknown_publisher\u001b[0m\n"
     ]
    }
   ],
   "source": [
    "# Cartesian Paths\n",
    "waypoints = []\n",
    "scale = 1\n",
    "\n",
    "wpose = whole_body.get_current_pose().pose\n",
    "wpose.position.z -= scale * 0.1  # First move up (z)\n",
    "wpose.position.y += scale * 0.2  # and sideways (y)\n",
    "waypoints.append(copy.deepcopy(wpose))\n",
    "\n",
    "wpose.position.x += scale * 0.1  # Second move forward/backwards in (x)\n",
    "waypoints.append(copy.deepcopy(wpose))\n",
    "\n",
    "wpose.position.y -= scale * 0.1  # Third move sideways (y)\n",
    "waypoints.append(copy.deepcopy(wpose))\n",
    "\n",
    "# We want the Cartesian path to be interpolated at a resolution of 1 cm\n",
    "# which is why we will specify 0.01 as the eef_step in Cartesian\n",
    "# translation.  We will disable the jump threshold by setting it to 0.0,\n",
    "# ignoring the check for infeasible jumps in joint space, which is sufficient\n",
    "# for this tutorial.\n",
    "(plan, fraction) = whole_body.compute_cartesian_path(\n",
    "    waypoints, 0.01, 0.0  # waypoints to follow  # eef_step\n",
    ")  # jump_threshold\n",
    "\n",
    "# Note: We are just planning, not asking move_group to actually move the robot yet:\n",
    "print(f'fraction : {fraction*100}%')"
   ]
  },
  {
   "cell_type": "code",
   "execution_count": 15,
   "id": "97a67f4b",
   "metadata": {
    "scrolled": true
   },
   "outputs": [
    {
     "name": "stderr",
     "output_type": "stream",
     "text": [
      "\u001b[33m[ WARN] [1667837374.960879448, 2900.342000000]: TF_REPEATED_DATA ignoring data with redundant timestamp for frame odom at time 2900.375000 according to authority /pose_integrator\u001b[0m\n",
      "\u001b[33m[ WARN] [1667837374.961437057, 2900.342000000]: TF_REPEATED_DATA ignoring data with redundant timestamp for frame odom at time 2900.375000 according to authority unknown_publisher\u001b[0m\n",
      "\u001b[33m[ WARN] [1667837379.603006973, 2901.157000000]: TF_REPEATED_DATA ignoring data with redundant timestamp for frame odom at time 2901.206000 according to authority unknown_publisher\u001b[0m\n",
      "\u001b[33m[ WARN] [1667837379.603448959, 2901.157000000]: TF_REPEATED_DATA ignoring data with redundant timestamp for frame odom at time 2901.206000 according to authority /pose_integrator\u001b[0m\n",
      "\u001b[33m[ WARN] [1667837381.833793137, 2901.648000000]: TF_REPEATED_DATA ignoring data with redundant timestamp for frame odom at time 2901.707000 according to authority /pose_integrator\u001b[0m\n",
      "\u001b[33m[ WARN] [1667837381.837073372, 2901.648000000]: TF_REPEATED_DATA ignoring data with redundant timestamp for frame odom at time 2901.707000 according to authority unknown_publisher\u001b[0m\n",
      "\u001b[33m[ WARN] [1667837384.176286305, 2902.104000000]: TF_REPEATED_DATA ignoring data with redundant timestamp for frame odom at time 2902.149000 according to authority /pose_integrator\u001b[0m\n",
      "\u001b[33m[ WARN] [1667837384.177118015, 2902.104000000]: TF_REPEATED_DATA ignoring data with redundant timestamp for frame odom at time 2902.149000 according to authority unknown_publisher\u001b[0m\n"
     ]
    }
   ],
   "source": [
    "##Display trajectory\n",
    "display_trajectory = moveit_msgs.msg.DisplayTrajectory()\n",
    "display_trajectory.trajectory_start = robot.get_current_state()\n",
    "display_trajectory.trajectory.append(plan)\n",
    "# Publish\n",
    "display_trajectory_publisher.publish(display_trajectory)"
   ]
  },
  {
   "cell_type": "code",
   "execution_count": 16,
   "id": "55d75636",
   "metadata": {
    "scrolled": true
   },
   "outputs": [
    {
     "name": "stderr",
     "output_type": "stream",
     "text": [
      "\u001b[33m[ WARN] [1667837389.975036378, 2903.184000000]: TF_REPEATED_DATA ignoring data with redundant timestamp for frame odom at time 2903.227000 according to authority /pose_integrator\u001b[0m\n",
      "\u001b[33m[ WARN] [1667837389.975360945, 2903.184000000]: TF_REPEATED_DATA ignoring data with redundant timestamp for frame odom at time 2903.227000 according to authority unknown_publisher\u001b[0m\n",
      "\u001b[33m[ WARN] [1667837419.177012802, 2909.024000000]: TF_REPEATED_DATA ignoring data with redundant timestamp for frame odom at time 2909.071000 according to authority /pose_integrator\u001b[0m\n",
      "\u001b[33m[ WARN] [1667837419.182432109, 2909.024000000]: TF_REPEATED_DATA ignoring data with redundant timestamp for frame odom at time 2909.071000 according to authority unknown_publisher\u001b[0m\n",
      "\u001b[33m[ WARN] [1667837419.555382931, 2909.120000000]: TF_REPEATED_DATA ignoring data with redundant timestamp for frame odom at time 2909.140000 according to authority /pose_integrator\u001b[0m\n",
      "\u001b[33m[ WARN] [1667837419.555549036, 2909.120000000]: TF_REPEATED_DATA ignoring data with redundant timestamp for frame odom at time 2909.140000 according to authority unknown_publisher\u001b[0m\n",
      "\u001b[33m[ WARN] [1667837422.887293152, 2910.092000000]: TF_REPEATED_DATA ignoring data with redundant timestamp for frame odom at time 2910.127000 according to authority unknown_publisher\u001b[0m\n",
      "\u001b[33m[ WARN] [1667837422.888505825, 2910.092000000]: TF_REPEATED_DATA ignoring data with redundant timestamp for frame odom at time 2910.127000 according to authority /pose_integrator\u001b[0m\n"
     ]
    },
    {
     "data": {
      "text/plain": [
       "True"
      ]
     },
     "execution_count": 16,
     "metadata": {},
     "output_type": "execute_result"
    }
   ],
   "source": [
    "##Execute plan\n",
    "whole_body.execute(plan, wait=True)"
   ]
  },
  {
   "cell_type": "code",
   "execution_count": 17,
   "id": "71f554ef",
   "metadata": {
    "scrolled": true
   },
   "outputs": [
    {
     "name": "stderr",
     "output_type": "stream",
     "text": [
      "\u001b[33m[ WARN] [1667837502.279902097, 2925.907000000]: TF_REPEATED_DATA ignoring data with redundant timestamp for frame odom at time 2925.962000 according to authority /pose_integrator\u001b[0m\n",
      "\u001b[33m[ WARN] [1667837502.280575207, 2925.907000000]: TF_REPEATED_DATA ignoring data with redundant timestamp for frame odom at time 2925.962000 according to authority unknown_publisher\u001b[0m\n",
      "\u001b[33m[ WARN] [1667837507.058339141, 2926.974000000]: TF_REPEATED_DATA ignoring data with redundant timestamp for frame odom at time 2926.974000 according to authority /pose_integrator\u001b[0m\n",
      "\u001b[33m[ WARN] [1667837507.058671602, 2926.974000000]: TF_REPEATED_DATA ignoring data with redundant timestamp for frame odom at time 2926.974000 according to authority unknown_publisher\u001b[0m\n",
      "\u001b[33m[ WARN] [1667837522.278307745, 2930.089000000]: TF_REPEATED_DATA ignoring data with redundant timestamp for frame odom at time 2930.148000 according to authority /pose_integrator\u001b[0m\n",
      "\u001b[33m[ WARN] [1667837522.278472764, 2930.089000000]: TF_REPEATED_DATA ignoring data with redundant timestamp for frame odom at time 2930.148000 according to authority unknown_publisher\u001b[0m\n"
     ]
    }
   ],
   "source": [
    "##Adding objects to planning scene\n",
    "box_pose = geometry_msgs.msg.PoseStamped()\n",
    "box_pose.header.frame_id = \"hand_palm_link\"\n",
    "box_pose.pose.orientation.w = 1.0\n",
    "box_pose.pose.position.z =  0.20  # below the panda_hand frame\n",
    "box_name = \"box\"\n",
    "scene.add_box(box_name, box_pose, size=(0.075, 0.05, 0.075))"
   ]
  },
  {
   "cell_type": "code",
   "execution_count": 18,
   "id": "f7bc72a6",
   "metadata": {
    "scrolled": true
   },
   "outputs": [
    {
     "name": "stderr",
     "output_type": "stream",
     "text": [
      "\u001b[33m[ WARN] [1667837549.671811358, 2935.454000000]: TF_REPEATED_DATA ignoring data with redundant timestamp for frame odom at time 2935.489000 according to authority unknown_publisher\u001b[0m\n",
      "\u001b[33m[ WARN] [1667837549.674718782, 2935.454000000]: TF_REPEATED_DATA ignoring data with redundant timestamp for frame odom at time 2935.489000 according to authority /pose_integrator\u001b[0m\n",
      "\u001b[33m[ WARN] [1667837559.378000713, 2937.294000000]: TF_REPEATED_DATA ignoring data with redundant timestamp for frame odom at time 2937.332000 according to authority unknown_publisher\u001b[0m\n",
      "\u001b[33m[ WARN] [1667837559.380357403, 2937.294000000]: TF_REPEATED_DATA ignoring data with redundant timestamp for frame odom at time 2937.332000 according to authority /pose_integrator\u001b[0m\n",
      "\u001b[33m[ WARN] [1667837563.409624524, 2938.238000000]: TF_REPEATED_DATA ignoring data with redundant timestamp for frame odom at time 2938.281000 according to authority /pose_integrator\u001b[0m\n",
      "\u001b[33m[ WARN] [1667837563.412051428, 2938.238000000]: TF_REPEATED_DATA ignoring data with redundant timestamp for frame odom at time 2938.281000 according to authority unknown_publisher\u001b[0m\n",
      "\u001b[33m[ WARN] [1667837586.066660288, 2942.967000000]: TF_REPEATED_DATA ignoring data with redundant timestamp for frame odom at time 2942.991000 according to authority /pose_integrator\u001b[0m\n",
      "\u001b[33m[ WARN] [1667837586.070058779, 2942.967000000]: TF_REPEATED_DATA ignoring data with redundant timestamp for frame odom at time 2942.991000 according to authority unknown_publisher\u001b[0m\n"
     ]
    }
   ],
   "source": [
    "##attaching object to the gripper\n",
    "grasping_group = \"gripper\"\n",
    "touch_links = robot.get_link_names(group=grasping_group)\n",
    "scene.attach_box(eef_link, box_name, touch_links=touch_links)"
   ]
  },
  {
   "cell_type": "code",
   "execution_count": 20,
   "id": "08065dbb",
   "metadata": {
    "scrolled": true
   },
   "outputs": [],
   "source": [
    "##Detaching objects\n",
    "# scene.remove_attached_object(eef_link, name=box_name)\n",
    "\n",
    "##Remove objects\n",
    "scene.remove_world_object(box_name)"
   ]
  },
  {
   "cell_type": "code",
   "execution_count": 21,
   "id": "a675de30",
   "metadata": {
    "scrolled": false
   },
   "outputs": [
    {
     "name": "stderr",
     "output_type": "stream",
     "text": [
      "\u001b[33m[ WARN] [1667837627.000788691, 2951.227000000]: TF_REPEATED_DATA ignoring data with redundant timestamp for frame odom at time 2951.255000 according to authority /pose_integrator\u001b[0m\n",
      "\u001b[33m[ WARN] [1667837627.004142522, 2951.227000000]: TF_REPEATED_DATA ignoring data with redundant timestamp for frame odom at time 2951.255000 according to authority unknown_publisher\u001b[0m\n",
      "\u001b[33m[ WARN] [1667837637.413453275, 2953.120000000]: TF_REPEATED_DATA ignoring data with redundant timestamp for frame odom at time 2953.157000 according to authority /pose_integrator\u001b[0m\n",
      "\u001b[33m[ WARN] [1667837637.415793597, 2953.120000000]: TF_REPEATED_DATA ignoring data with redundant timestamp for frame odom at time 2953.157000 according to authority unknown_publisher\u001b[0m\n"
     ]
    }
   ],
   "source": [
    "grip = GRIPPER()"
   ]
  },
  {
   "cell_type": "code",
   "execution_count": 22,
   "id": "a6752258",
   "metadata": {
    "scrolled": true
   },
   "outputs": [
    {
     "name": "stderr",
     "output_type": "stream",
     "text": [
      "\u001b[33m[ WARN] [1667837652.016656838, 2956.250000000]: TF_REPEATED_DATA ignoring data with redundant timestamp for frame odom at time 2956.301000 according to authority /pose_integrator\u001b[0m\n",
      "\u001b[33m[ WARN] [1667837652.016935439, 2956.250000000]: TF_REPEATED_DATA ignoring data with redundant timestamp for frame odom at time 2956.301000 according to authority unknown_publisher\u001b[0m\n",
      "\u001b[33m[ WARN] [1667837665.241479325, 2958.675000000]: TF_REPEATED_DATA ignoring data with redundant timestamp for frame odom at time 2958.721000 according to authority /pose_integrator\u001b[0m\n",
      "\u001b[33m[ WARN] [1667837665.242194364, 2958.675000000]: TF_REPEATED_DATA ignoring data with redundant timestamp for frame odom at time 2958.721000 according to authority unknown_publisher\u001b[0m\n",
      "\u001b[33m[ WARN] [1667837665.537795807, 2958.788000000]: TF_REPEATED_DATA ignoring data with redundant timestamp for frame odom at time 2958.833000 according to authority /pose_integrator\u001b[0m\n",
      "\u001b[33m[ WARN] [1667837665.538775294, 2958.788000000]: TF_REPEATED_DATA ignoring data with redundant timestamp for frame odom at time 2958.833000 according to authority unknown_publisher\u001b[0m\n",
      "\u001b[33m[ WARN] [1667837665.974264664, 2958.925000000]: TF_REPEATED_DATA ignoring data with redundant timestamp for frame odom at time 2958.960000 according to authority unknown_publisher\u001b[0m\n",
      "\u001b[33m[ WARN] [1667837665.974559218, 2958.925000000]: TF_REPEATED_DATA ignoring data with redundant timestamp for frame odom at time 2958.960000 according to authority /pose_integrator\u001b[0m\n",
      "\u001b[33m[ WARN] [1667837671.373176654, 2959.738000000]: TF_REPEATED_DATA ignoring data with redundant timestamp for frame odom at time 2959.773000 according to authority /pose_integrator\u001b[0m\n",
      "\u001b[33m[ WARN] [1667837671.376372268, 2959.738000000]: TF_REPEATED_DATA ignoring data with redundant timestamp for frame odom at time 2959.773000 according to authority unknown_publisher\u001b[0m\n",
      "\u001b[33m[ WARN] [1667837690.195545757, 2963.449000000]: TF_REPEATED_DATA ignoring data with redundant timestamp for frame odom at time 2963.494000 according to authority /pose_integrator\u001b[0m\n",
      "\u001b[33m[ WARN] [1667837690.205847682, 2963.449000000]: TF_REPEATED_DATA ignoring data with redundant timestamp for frame odom at time 2963.494000 according to authority unknown_publisher\u001b[0m\n",
      "\u001b[33m[ WARN] [1667837702.283216489, 2965.770000000]: TF_REPEATED_DATA ignoring data with redundant timestamp for frame odom at time 2965.796000 according to authority /pose_integrator\u001b[0m\n",
      "\u001b[33m[ WARN] [1667837702.283599493, 2965.770000000]: TF_REPEATED_DATA ignoring data with redundant timestamp for frame odom at time 2965.796000 according to authority unknown_publisher\u001b[0m\n",
      "\u001b[33m[ WARN] [1667837709.083048157, 2967.207000000]: TF_REPEATED_DATA ignoring data with redundant timestamp for frame odom at time 2967.240000 according to authority /pose_integrator\u001b[0m\n",
      "\u001b[33m[ WARN] [1667837709.084999116, 2967.207000000]: TF_REPEATED_DATA ignoring data with redundant timestamp for frame odom at time 2967.240000 according to authority unknown_publisher\u001b[0m\n",
      "\u001b[33m[ WARN] [1667837716.839667829, 2968.731000000]: TF_REPEATED_DATA ignoring data with redundant timestamp for frame odom at time 2968.797000 according to authority /pose_integrator\u001b[0m\n",
      "\u001b[33m[ WARN] [1667837716.840942033, 2968.731000000]: TF_REPEATED_DATA ignoring data with redundant timestamp for frame odom at time 2968.797000 according to authority unknown_publisher\u001b[0m\n",
      "\u001b[33m[ WARN] [1667837730.376642872, 2971.502000000]: TF_REPEATED_DATA ignoring data with redundant timestamp for frame odom at time 2971.531000 according to authority /pose_integrator\u001b[0m\n",
      "\u001b[33m[ WARN] [1667837730.376953217, 2971.502000000]: TF_REPEATED_DATA ignoring data with redundant timestamp for frame odom at time 2971.531000 according to authority unknown_publisher\u001b[0m\n",
      "\u001b[33m[ WARN] [1667837763.166822956, 2977.774000000]: TF_REPEATED_DATA ignoring data with redundant timestamp for frame odom at time 2977.800000 according to authority unknown_publisher\u001b[0m\n",
      "\u001b[33m[ WARN] [1667837763.166982442, 2977.774000000]: TF_REPEATED_DATA ignoring data with redundant timestamp for frame odom at time 2977.800000 according to authority /pose_integrator\u001b[0m\n",
      "\u001b[33m[ WARN] [1667837765.019741966, 2978.117000000]: TF_REPEATED_DATA ignoring data with redundant timestamp for frame odom at time 2978.163000 according to authority /pose_integrator\u001b[0m\n",
      "\u001b[33m[ WARN] [1667837765.019930835, 2978.117000000]: TF_REPEATED_DATA ignoring data with redundant timestamp for frame odom at time 2978.163000 according to authority unknown_publisher\u001b[0m\n",
      "\u001b[33m[ WARN] [1667837787.027146862, 2982.935000000]: TF_REPEATED_DATA ignoring data with redundant timestamp for frame odom at time 2982.958000 according to authority /pose_integrator\u001b[0m\n",
      "\u001b[33m[ WARN] [1667837787.027741779, 2982.935000000]: TF_REPEATED_DATA ignoring data with redundant timestamp for frame odom at time 2982.958000 according to authority unknown_publisher\u001b[0m\n",
      "\u001b[33m[ WARN] [1667837790.561760764, 2983.622000000]: TF_REPEATED_DATA ignoring data with redundant timestamp for frame odom at time 2983.656000 according to authority /pose_integrator\u001b[0m\n",
      "\u001b[33m[ WARN] [1667837790.564122975, 2983.622000000]: TF_REPEATED_DATA ignoring data with redundant timestamp for frame odom at time 2983.656000 according to authority unknown_publisher\u001b[0m\n"
     ]
    }
   ],
   "source": [
    "grip.open()"
   ]
  },
  {
   "cell_type": "code",
   "execution_count": null,
   "id": "272e4032",
   "metadata": {
    "scrolled": true
   },
   "outputs": [],
   "source": [
    "arm.set_named_target('neutral')\n",
    "arm.go()"
   ]
  },
  {
   "cell_type": "code",
   "execution_count": null,
   "id": "2a6cf7df",
   "metadata": {},
   "outputs": [],
   "source": [
    "whole_body.set_num_planning_attempts(10)\n",
    "whole_body.set_planning_time(5)"
   ]
  },
  {
   "cell_type": "code",
   "execution_count": null,
   "id": "dca8578a",
   "metadata": {},
   "outputs": [],
   "source": []
  },
  {
   "cell_type": "code",
   "execution_count": null,
   "id": "f787e467",
   "metadata": {},
   "outputs": [],
   "source": [
    "# Cartesian Paths\n",
    "waypoints = []\n",
    "scale = 1\n",
    "\n",
    "wpose = whole_body.get_current_pose().pose\n",
    "wpose.position.x += scale * 0.2  # First move up (z)\n",
    "# wpose.position.y += scale * 0.2  # and sideways (y)\n",
    "waypoints.append(copy.deepcopy(wpose))\n",
    "\n",
    "# wpose.position.x += scale * 0.1  # Second move forward/backwards in (x)\n",
    "# waypoints.append(copy.deepcopy(wpose))\n",
    "\n",
    "# wpose.position.y -= scale * 0.1  # Third move sideways (y)\n",
    "# waypoints.append(copy.deepcopy(wpose))\n",
    "\n",
    "# We want the Cartesian path to be interpolated at a resolution of 1 cm\n",
    "# which is why we will specify 0.01 as the eef_step in Cartesian\n",
    "# translation.  We will disable the jump threshold by setting it to 0.0,\n",
    "# ignoring the check for infeasible jumps in joint space, which is sufficient\n",
    "# for this tutorial.\n",
    "(plan, fraction) = whole_body.compute_cartesian_path(\n",
    "    waypoints, 0.01, 0.0  # waypoints to follow  # eef_step\n",
    ")  # jump_threshold\n",
    "\n",
    "# Note: We are just planning, not asking move_group to actually move the robot yet:\n",
    "print(f'fraction : {fraction*100}%')"
   ]
  },
  {
   "cell_type": "code",
   "execution_count": 24,
   "id": "477ae714",
   "metadata": {},
   "outputs": [
    {
     "name": "stderr",
     "output_type": "stream",
     "text": [
      "\u001b[33m[ WARN] [1667837807.328269345, 2986.926000000]: TF_REPEATED_DATA ignoring data with redundant timestamp for frame odom at time 2986.960000 according to authority unknown_publisher\u001b[0m\n",
      "\u001b[33m[ WARN] [1667837807.330203324, 2986.926000000]: TF_REPEATED_DATA ignoring data with redundant timestamp for frame odom at time 2986.960000 according to authority /pose_integrator\u001b[0m\n"
     ]
    }
   ],
   "source": [
    "# trans, rot  = tf_man.getTF(target_frame='hand_palm_link',ref_frame='odom')\n",
    "tf_man.pub_static_tf(point_name='grasp', ref='hand_palm_link', pos=[0,0,0.1])"
   ]
  },
  {
   "cell_type": "code",
   "execution_count": 25,
   "id": "ab1af5fd",
   "metadata": {},
   "outputs": [
    {
     "data": {
      "text/plain": [
       "True"
      ]
     },
     "execution_count": 25,
     "metadata": {},
     "output_type": "execute_result"
    },
    {
     "name": "stderr",
     "output_type": "stream",
     "text": [
      "\u001b[33m[ WARN] [1667837822.135102874, 2990.216000000]: TF_REPEATED_DATA ignoring data with redundant timestamp for frame odom at time 2990.241000 according to authority unknown_publisher\u001b[0m\n",
      "\u001b[33m[ WARN] [1667837822.135402401, 2990.216000000]: TF_REPEATED_DATA ignoring data with redundant timestamp for frame odom at time 2990.241000 according to authority /pose_integrator\u001b[0m\n"
     ]
    }
   ],
   "source": [
    "tf_man.change_ref_frame_tf(point_name='grasp',new_frame='odom')"
   ]
  },
  {
   "cell_type": "code",
   "execution_count": 28,
   "id": "f21f3dd3",
   "metadata": {
    "scrolled": true
   },
   "outputs": [
    {
     "name": "stderr",
     "output_type": "stream",
     "text": [
      "\u001b[33m[ WARN] [1667839364.399337562, 3342.298000000]: TF_REPEATED_DATA ignoring data with redundant timestamp for frame odom at time 3342.344000 according to authority /pose_integrator\u001b[0m\n",
      "\u001b[33m[ WARN] [1667839364.399515503, 3342.298000000]: TF_REPEATED_DATA ignoring data with redundant timestamp for frame odom at time 3342.344000 according to authority unknown_publisher\u001b[0m\n",
      "\u001b[33m[ WARN] [1667839369.708717079, 3343.544000000]: TF_REPEATED_DATA ignoring data with redundant timestamp for frame odom at time 3343.577000 according to authority /pose_integrator\u001b[0m\n",
      "\u001b[33m[ WARN] [1667839369.711543391, 3343.544000000]: TF_REPEATED_DATA ignoring data with redundant timestamp for frame odom at time 3343.577000 according to authority unknown_publisher\u001b[0m\n",
      "\u001b[33m[ WARN] [1667839382.705702184, 3346.259000000]: TF_REPEATED_DATA ignoring data with redundant timestamp for frame odom at time 3346.276000 according to authority /pose_integrator\u001b[0m\n",
      "\u001b[33m[ WARN] [1667839382.705869323, 3346.259000000]: TF_REPEATED_DATA ignoring data with redundant timestamp for frame odom at time 3346.276000 according to authority unknown_publisher\u001b[0m\n",
      "\u001b[33m[ WARN] [1667839391.635447112, 3348.027000000]: TF_REPEATED_DATA ignoring data with redundant timestamp for frame odom at time 3348.056000 according to authority /pose_integrator\u001b[0m\n",
      "\u001b[33m[ WARN] [1667839391.641534160, 3348.027000000]: TF_REPEATED_DATA ignoring data with redundant timestamp for frame odom at time 3348.056000 according to authority unknown_publisher\u001b[0m\n",
      "\u001b[33m[ WARN] [1667839397.955501017, 3349.112000000]: TF_REPEATED_DATA ignoring data with redundant timestamp for frame odom at time 3349.151000 according to authority /pose_integrator\u001b[0m\n",
      "\u001b[33m[ WARN] [1667839397.959693412, 3349.112000000]: TF_REPEATED_DATA ignoring data with redundant timestamp for frame odom at time 3349.151000 according to authority unknown_publisher\u001b[0m\n",
      "\u001b[33m[ WARN] [1667839401.464876572, 3349.694000000]: TF_REPEATED_DATA ignoring data with redundant timestamp for frame odom at time 3349.709000 according to authority /pose_integrator\u001b[0m\n",
      "\u001b[33m[ WARN] [1667839401.465591930, 3349.694000000]: TF_REPEATED_DATA ignoring data with redundant timestamp for frame odom at time 3349.709000 according to authority unknown_publisher\u001b[0m\n",
      "\u001b[33m[ WARN] [1667839413.925975552, 3351.763000000]: TF_REPEATED_DATA ignoring data with redundant timestamp for frame odom at time 3351.811000 according to authority /pose_integrator\u001b[0m\n",
      "\u001b[33m[ WARN] [1667839413.929539924, 3351.763000000]: TF_REPEATED_DATA ignoring data with redundant timestamp for frame odom at time 3351.811000 according to authority unknown_publisher\u001b[0m\n",
      "\u001b[33m[ WARN] [1667839426.369028114, 3353.878000000]: TF_REPEATED_DATA ignoring data with redundant timestamp for frame odom at time 3353.898000 according to authority /pose_integrator\u001b[0m\n",
      "\u001b[33m[ WARN] [1667839426.369708333, 3353.878000000]: TF_REPEATED_DATA ignoring data with redundant timestamp for frame odom at time 3353.898000 according to authority unknown_publisher\u001b[0m\n",
      "\u001b[33m[ WARN] [1667839444.203017835, 3356.619000000]: TF_REPEATED_DATA ignoring data with redundant timestamp for frame odom at time 3356.663000 according to authority unknown_publisher\u001b[0m\n",
      "\u001b[33m[ WARN] [1667839444.204656568, 3356.619000000]: TF_REPEATED_DATA ignoring data with redundant timestamp for frame odom at time 3356.663000 according to authority /pose_integrator\u001b[0m\n",
      "\u001b[33m[ WARN] [1667839471.329527407, 3361.949000000]: TF_REPEATED_DATA ignoring data with redundant timestamp for frame odom at time 3361.949000 according to authority unknown_publisher\u001b[0m\n",
      "\u001b[33m[ WARN] [1667839471.331716142, 3361.949000000]: TF_REPEATED_DATA ignoring data with redundant timestamp for frame odom at time 3361.949000 according to authority /pose_integrator\u001b[0m\n",
      "\u001b[33m[ WARN] [1667839479.579708076, 3363.461000000]: TF_REPEATED_DATA ignoring data with redundant timestamp for frame odom at time 3363.550000 according to authority /pose_integrator\u001b[0m\n",
      "\u001b[33m[ WARN] [1667839479.587649853, 3363.461000000]: TF_REPEATED_DATA ignoring data with redundant timestamp for frame odom at time 3363.550000 according to authority unknown_publisher\u001b[0m\n",
      "\u001b[33m[ WARN] [1667839492.163406704, 3366.128000000]: TF_REPEATED_DATA ignoring data with redundant timestamp for frame odom at time 3366.208000 according to authority /pose_integrator\u001b[0m\n",
      "\u001b[33m[ WARN] [1667839492.163667364, 3366.128000000]: TF_REPEATED_DATA ignoring data with redundant timestamp for frame odom at time 3366.208000 according to authority unknown_publisher\u001b[0m\n",
      "\u001b[33m[ WARN] [1667839494.064501806, 3366.542000000]: TF_REPEATED_DATA ignoring data with redundant timestamp for frame odom at time 3366.601000 according to authority /pose_integrator\u001b[0m\n",
      "\u001b[33m[ WARN] [1667839494.067801223, 3366.542000000]: TF_REPEATED_DATA ignoring data with redundant timestamp for frame odom at time 3366.601000 according to authority unknown_publisher\u001b[0m\n",
      "\u001b[33m[ WARN] [1667839499.502708966, 3367.649000000]: TF_REPEATED_DATA ignoring data with redundant timestamp for frame odom at time 3367.683000 according to authority unknown_publisher\u001b[0m\n",
      "\u001b[33m[ WARN] [1667839499.503583610, 3367.649000000]: TF_REPEATED_DATA ignoring data with redundant timestamp for frame odom at time 3367.683000 according to authority /pose_integrator\u001b[0m\n",
      "\u001b[33m[ WARN] [1667839525.828142988, 3372.869000000]: TF_REPEATED_DATA ignoring data with redundant timestamp for frame odom at time 3372.937000 according to authority /pose_integrator\u001b[0m\n",
      "\u001b[33m[ WARN] [1667839525.834289342, 3372.869000000]: TF_REPEATED_DATA ignoring data with redundant timestamp for frame odom at time 3372.937000 according to authority unknown_publisher\u001b[0m\n"
     ]
    },
    {
     "data": {
      "text/plain": [
       "True"
      ]
     },
     "execution_count": 28,
     "metadata": {},
     "output_type": "execute_result"
    },
    {
     "name": "stderr",
     "output_type": "stream",
     "text": [
      "\u001b[33m[ WARN] [1667839552.789893568, 3377.522000000]: TF_REPEATED_DATA ignoring data with redundant timestamp for frame odom at time 3377.548000 according to authority /pose_integrator\u001b[0m\n",
      "\u001b[33m[ WARN] [1667839552.790233160, 3377.522000000]: TF_REPEATED_DATA ignoring data with redundant timestamp for frame odom at time 3377.548000 according to authority unknown_publisher\u001b[0m\n",
      "\u001b[33m[ WARN] [1667839561.851528369, 3379.173000000]: TF_REPEATED_DATA ignoring data with redundant timestamp for frame odom at time 3379.210000 according to authority unknown_publisher\u001b[0m\n",
      "\u001b[33m[ WARN] [1667839561.852274297, 3379.173000000]: TF_REPEATED_DATA ignoring data with redundant timestamp for frame odom at time 3379.210000 according to authority /pose_integrator\u001b[0m\n"
     ]
    }
   ],
   "source": [
    "trans, rot = tf_man.getTF(target_frame='grasp', ref_frame='odom')\n",
    "pose_goal = geometry_msgs.msg.Pose()\n",
    "pose_goal.orientation.w = rot[3]\n",
    "pose_goal.orientation.x = rot[0]\n",
    "pose_goal.orientation.y = rot[1]\n",
    "pose_goal.orientation.z = rot[2]\n",
    "# pose_goal.orientation.\n",
    "pose_goal.position.x = trans[0]\n",
    "pose_goal.position.y = trans[1]\n",
    "pose_goal.position.z = trans[2]\n",
    "\n",
    "whole_body.set_start_state_to_current_state()\n",
    "whole_body.set_pose_target(pose_goal)\n",
    "whole_body.go()"
   ]
  },
  {
   "cell_type": "code",
   "execution_count": 27,
   "id": "413f988e",
   "metadata": {
    "scrolled": true
   },
   "outputs": [
    {
     "name": "stderr",
     "output_type": "stream",
     "text": [
      "\u001b[33m[ WARN] [1667837953.705212932, 3018.051000000]: TF_REPEATED_DATA ignoring data with redundant timestamp for frame odom at time 3018.081000 according to authority /pose_integrator\u001b[0m\n",
      "\u001b[33m[ WARN] [1667837953.705381052, 3018.051000000]: TF_REPEATED_DATA ignoring data with redundant timestamp for frame odom at time 3018.081000 according to authority unknown_publisher\u001b[0m\n",
      "\u001b[33m[ WARN] [1667837976.185259636, 3022.617000000]: TF_REPEATED_DATA ignoring data with redundant timestamp for frame odom at time 3022.675000 according to authority /pose_integrator\u001b[0m\n",
      "\u001b[33m[ WARN] [1667837976.185439401, 3022.617000000]: TF_REPEATED_DATA ignoring data with redundant timestamp for frame odom at time 3022.675000 according to authority unknown_publisher\u001b[0m\n",
      "\u001b[33m[ WARN] [1667837977.950027824, 3023.070000000]: TF_REPEATED_DATA ignoring data with redundant timestamp for frame odom at time 3023.112000 according to authority /pose_integrator\u001b[0m\n",
      "\u001b[33m[ WARN] [1667837977.952755108, 3023.070000000]: TF_REPEATED_DATA ignoring data with redundant timestamp for frame odom at time 3023.112000 according to authority unknown_publisher\u001b[0m\n",
      "\u001b[33m[ WARN] [1667837984.958423427, 3024.447000000]: TF_REPEATED_DATA ignoring data with redundant timestamp for frame odom at time 3024.504000 according to authority unknown_publisher\u001b[0m\n",
      "\u001b[33m[ WARN] [1667837984.959768414, 3024.447000000]: TF_REPEATED_DATA ignoring data with redundant timestamp for frame odom at time 3024.504000 according to authority /pose_integrator\u001b[0m\n",
      "\u001b[33m[ WARN] [1667837987.157082088, 3024.995000000]: TF_REPEATED_DATA ignoring data with redundant timestamp for frame odom at time 3025.023000 according to authority /pose_integrator\u001b[0m\n",
      "\u001b[33m[ WARN] [1667837987.157255182, 3024.995000000]: TF_REPEATED_DATA ignoring data with redundant timestamp for frame odom at time 3025.023000 according to authority unknown_publisher\u001b[0m\n",
      "\u001b[33m[ WARN] [1667838007.511996844, 3029.794000000]: TF_REPEATED_DATA ignoring data with redundant timestamp for frame odom at time 3029.841000 according to authority /pose_integrator\u001b[0m\n",
      "\u001b[33m[ WARN] [1667838007.517078847, 3029.794000000]: TF_REPEATED_DATA ignoring data with redundant timestamp for frame odom at time 3029.841000 according to authority unknown_publisher\u001b[0m\n",
      "\u001b[33m[ WARN] [1667838011.331955375, 3030.706000000]: TF_REPEATED_DATA ignoring data with redundant timestamp for frame odom at time 3030.742000 according to authority /pose_integrator\u001b[0m\n",
      "\u001b[33m[ WARN] [1667838011.333675578, 3030.706000000]: TF_REPEATED_DATA ignoring data with redundant timestamp for frame odom at time 3030.742000 according to authority unknown_publisher\u001b[0m\n",
      "\u001b[33m[ WARN] [1667838030.704269924, 3034.716000000]: TF_REPEATED_DATA ignoring data with redundant timestamp for frame odom at time 3034.751000 according to authority /pose_integrator\u001b[0m\n",
      "\u001b[33m[ WARN] [1667838030.704484198, 3034.716000000]: TF_REPEATED_DATA ignoring data with redundant timestamp for frame odom at time 3034.751000 according to authority unknown_publisher\u001b[0m\n",
      "\u001b[33m[ WARN] [1667838041.194586211, 3036.850000000]: TF_REPEATED_DATA ignoring data with redundant timestamp for frame odom at time 3036.881000 according to authority /pose_integrator\u001b[0m\n",
      "\u001b[33m[ WARN] [1667838041.195185749, 3036.850000000]: TF_REPEATED_DATA ignoring data with redundant timestamp for frame odom at time 3036.881000 according to authority unknown_publisher\u001b[0m\n",
      "\u001b[33m[ WARN] [1667838042.810797827, 3037.138000000]: TF_REPEATED_DATA ignoring data with redundant timestamp for frame odom at time 3037.195000 according to authority /pose_integrator\u001b[0m\n",
      "\u001b[33m[ WARN] [1667838042.810878230, 3037.138000000]: TF_REPEATED_DATA ignoring data with redundant timestamp for frame odom at time 3037.195000 according to authority unknown_publisher\u001b[0m\n",
      "\u001b[33m[ WARN] [1667838047.359861432, 3038.112000000]: TF_REPEATED_DATA ignoring data with redundant timestamp for frame odom at time 3038.145000 according to authority /pose_integrator\u001b[0m\n",
      "\u001b[33m[ WARN] [1667838047.360785304, 3038.112000000]: TF_REPEATED_DATA ignoring data with redundant timestamp for frame odom at time 3038.145000 according to authority unknown_publisher\u001b[0m\n",
      "\u001b[33m[ WARN] [1667838053.077698526, 3039.606000000]: TF_REPEATED_DATA ignoring data with redundant timestamp for frame odom at time 3039.635000 according to authority /pose_integrator\u001b[0m\n",
      "\u001b[33m[ WARN] [1667838053.078263061, 3039.606000000]: TF_REPEATED_DATA ignoring data with redundant timestamp for frame odom at time 3039.635000 according to authority unknown_publisher\u001b[0m\n",
      "\u001b[33m[ WARN] [1667838058.400932456, 3040.660000000]: TF_REPEATED_DATA ignoring data with redundant timestamp for frame odom at time 3040.704000 according to authority unknown_publisher\u001b[0m\n",
      "\u001b[33m[ WARN] [1667838058.401479605, 3040.660000000]: TF_REPEATED_DATA ignoring data with redundant timestamp for frame odom at time 3040.704000 according to authority /pose_integrator\u001b[0m\n",
      "\u001b[33m[ WARN] [1667838088.747457152, 3047.700000000]: TF_REPEATED_DATA ignoring data with redundant timestamp for frame odom at time 3047.732000 according to authority unknown_publisher\u001b[0m\n",
      "\u001b[33m[ WARN] [1667838088.748077814, 3047.700000000]: TF_REPEATED_DATA ignoring data with redundant timestamp for frame odom at time 3047.732000 according to authority /pose_integrator\u001b[0m\n",
      "\u001b[33m[ WARN] [1667838090.664688314, 3048.069000000]: TF_REPEATED_DATA ignoring data with redundant timestamp for frame odom at time 3048.092000 according to authority unknown_publisher\u001b[0m\n",
      "\u001b[33m[ WARN] [1667838090.664810528, 3048.069000000]: TF_REPEATED_DATA ignoring data with redundant timestamp for frame odom at time 3048.092000 according to authority /pose_integrator\u001b[0m\n",
      "\u001b[33m[ WARN] [1667838097.943869901, 3049.735000000]: TF_REPEATED_DATA ignoring data with redundant timestamp for frame odom at time 3049.777000 according to authority /pose_integrator\u001b[0m\n",
      "\u001b[33m[ WARN] [1667838097.944013681, 3049.735000000]: TF_REPEATED_DATA ignoring data with redundant timestamp for frame odom at time 3049.777000 according to authority unknown_publisher\u001b[0m\n",
      "\u001b[33m[ WARN] [1667838102.076877529, 3050.745000000]: TF_REPEATED_DATA ignoring data with redundant timestamp for frame odom at time 3050.792000 according to authority /pose_integrator\u001b[0m\n",
      "\u001b[33m[ WARN] [1667838102.077152950, 3050.745000000]: TF_REPEATED_DATA ignoring data with redundant timestamp for frame odom at time 3050.792000 according to authority unknown_publisher\u001b[0m\n",
      "\u001b[33m[ WARN] [1667838108.718706485, 3052.210000000]: TF_REPEATED_DATA ignoring data with redundant timestamp for frame odom at time 3052.210000 according to authority /pose_integrator\u001b[0m\n",
      "\u001b[33m[ WARN] [1667838108.719390339, 3052.210000000]: TF_REPEATED_DATA ignoring data with redundant timestamp for frame odom at time 3052.210000 according to authority unknown_publisher\u001b[0m\n",
      "\u001b[33m[ WARN] [1667838109.994782496, 3052.429000000]: TF_REPEATED_DATA ignoring data with redundant timestamp for frame odom at time 3052.470000 according to authority /pose_integrator\u001b[0m\n",
      "\u001b[33m[ WARN] [1667838109.995271159, 3052.429000000]: TF_REPEATED_DATA ignoring data with redundant timestamp for frame odom at time 3052.470000 according to authority unknown_publisher\u001b[0m\n",
      "\u001b[33m[ WARN] [1667838116.833861915, 3054.133000000]: TF_REPEATED_DATA ignoring data with redundant timestamp for frame odom at time 3054.165000 according to authority /pose_integrator\u001b[0m\n",
      "\u001b[33m[ WARN] [1667838116.834219052, 3054.133000000]: TF_REPEATED_DATA ignoring data with redundant timestamp for frame odom at time 3054.165000 according to authority unknown_publisher\u001b[0m\n",
      "\u001b[33m[ WARN] [1667838157.624403350, 3063.074000000]: TF_REPEATED_DATA ignoring data with redundant timestamp for frame odom at time 3063.108000 according to authority /pose_integrator\u001b[0m\n",
      "\u001b[33m[ WARN] [1667838157.624955550, 3063.074000000]: TF_REPEATED_DATA ignoring data with redundant timestamp for frame odom at time 3063.108000 according to authority unknown_publisher\u001b[0m\n",
      "\u001b[33m[ WARN] [1667838179.256098842, 3067.647000000]: TF_REPEATED_DATA ignoring data with redundant timestamp for frame odom at time 3067.673000 according to authority /pose_integrator\u001b[0m\n",
      "\u001b[33m[ WARN] [1667838179.257022103, 3067.647000000]: TF_REPEATED_DATA ignoring data with redundant timestamp for frame odom at time 3067.673000 according to authority unknown_publisher\u001b[0m\n"
     ]
    },
    {
     "name": "stderr",
     "output_type": "stream",
     "text": [
      "\u001b[33m[ WARN] [1667838184.131470007, 3068.597000000]: TF_REPEATED_DATA ignoring data with redundant timestamp for frame odom at time 3068.634000 according to authority /pose_integrator\u001b[0m\n",
      "\u001b[33m[ WARN] [1667838184.131941451, 3068.597000000]: TF_REPEATED_DATA ignoring data with redundant timestamp for frame odom at time 3068.634000 according to authority unknown_publisher\u001b[0m\n",
      "\u001b[33m[ WARN] [1667838186.199684180, 3069.048000000]: TF_REPEATED_DATA ignoring data with redundant timestamp for frame odom at time 3069.064000 according to authority /pose_integrator\u001b[0m\n",
      "\u001b[33m[ WARN] [1667838186.200890296, 3069.048000000]: TF_REPEATED_DATA ignoring data with redundant timestamp for frame odom at time 3069.064000 according to authority unknown_publisher\u001b[0m\n",
      "\u001b[33m[ WARN] [1667838202.239494181, 3072.448000000]: TF_REPEATED_DATA ignoring data with redundant timestamp for frame odom at time 3072.481000 according to authority /pose_integrator\u001b[0m\n",
      "\u001b[33m[ WARN] [1667838202.241008935, 3072.448000000]: TF_REPEATED_DATA ignoring data with redundant timestamp for frame odom at time 3072.481000 according to authority unknown_publisher\u001b[0m\n",
      "\u001b[33m[ WARN] [1667838205.166158889, 3073.044000000]: TF_REPEATED_DATA ignoring data with redundant timestamp for frame odom at time 3073.094000 according to authority /pose_integrator\u001b[0m\n",
      "\u001b[33m[ WARN] [1667838205.166497715, 3073.044000000]: TF_REPEATED_DATA ignoring data with redundant timestamp for frame odom at time 3073.094000 according to authority unknown_publisher\u001b[0m\n",
      "\u001b[33m[ WARN] [1667838239.220099030, 3080.047000000]: TF_REPEATED_DATA ignoring data with redundant timestamp for frame odom at time 3080.125000 according to authority /pose_integrator\u001b[0m\n",
      "\u001b[33m[ WARN] [1667838239.221563983, 3080.125000000]: TF_REPEATED_DATA ignoring data with redundant timestamp for frame odom at time 3080.125000 according to authority unknown_publisher\u001b[0m\n",
      "\u001b[33m[ WARN] [1667838251.321127080, 3082.748000000]: TF_REPEATED_DATA ignoring data with redundant timestamp for frame odom at time 3082.769000 according to authority /pose_integrator\u001b[0m\n",
      "\u001b[33m[ WARN] [1667838251.321437492, 3082.748000000]: TF_REPEATED_DATA ignoring data with redundant timestamp for frame odom at time 3082.769000 according to authority unknown_publisher\u001b[0m\n",
      "\u001b[33m[ WARN] [1667838261.612821222, 3084.915000000]: TF_REPEATED_DATA ignoring data with redundant timestamp for frame odom at time 3084.968000 according to authority /pose_integrator\u001b[0m\n",
      "\u001b[33m[ WARN] [1667838261.614621498, 3084.915000000]: TF_REPEATED_DATA ignoring data with redundant timestamp for frame odom at time 3084.968000 according to authority unknown_publisher\u001b[0m\n",
      "\u001b[33m[ WARN] [1667838303.260160957, 3094.200000000]: TF_REPEATED_DATA ignoring data with redundant timestamp for frame odom at time 3094.244000 according to authority /pose_integrator\u001b[0m\n",
      "\u001b[33m[ WARN] [1667838303.260436572, 3094.200000000]: TF_REPEATED_DATA ignoring data with redundant timestamp for frame odom at time 3094.244000 according to authority unknown_publisher\u001b[0m\n",
      "\u001b[33m[ WARN] [1667838312.547096312, 3096.125000000]: TF_REPEATED_DATA ignoring data with redundant timestamp for frame odom at time 3096.152000 according to authority /pose_integrator\u001b[0m\n",
      "\u001b[33m[ WARN] [1667838312.549595009, 3096.125000000]: TF_REPEATED_DATA ignoring data with redundant timestamp for frame odom at time 3096.152000 according to authority unknown_publisher\u001b[0m\n",
      "\u001b[33m[ WARN] [1667838351.454807380, 3105.491000000]: TF_REPEATED_DATA ignoring data with redundant timestamp for frame odom at time 3105.529000 according to authority /pose_integrator\u001b[0m\n",
      "\u001b[33m[ WARN] [1667838351.454916650, 3105.491000000]: TF_REPEATED_DATA ignoring data with redundant timestamp for frame odom at time 3105.529000 according to authority unknown_publisher\u001b[0m\n",
      "\u001b[33m[ WARN] [1667838362.600601500, 3108.242000000]: TF_REPEATED_DATA ignoring data with redundant timestamp for frame odom at time 3108.323000 according to authority /pose_integrator\u001b[0m\n",
      "\u001b[33m[ WARN] [1667838362.607205028, 3108.242000000]: TF_REPEATED_DATA ignoring data with redundant timestamp for frame odom at time 3108.323000 according to authority unknown_publisher\u001b[0m\n",
      "\u001b[33m[ WARN] [1667838381.153136331, 3113.019000000]: TF_REPEATED_DATA ignoring data with redundant timestamp for frame odom at time 3113.086000 according to authority /pose_integrator\u001b[0m\n",
      "\u001b[33m[ WARN] [1667838381.153639473, 3113.019000000]: TF_REPEATED_DATA ignoring data with redundant timestamp for frame odom at time 3113.086000 according to authority unknown_publisher\u001b[0m\n",
      "\u001b[33m[ WARN] [1667838384.077151712, 3113.811000000]: TF_REPEATED_DATA ignoring data with redundant timestamp for frame odom at time 3113.860000 according to authority /pose_integrator\u001b[0m\n",
      "\u001b[33m[ WARN] [1667838384.077578338, 3113.811000000]: TF_REPEATED_DATA ignoring data with redundant timestamp for frame odom at time 3113.860000 according to authority unknown_publisher\u001b[0m\n",
      "\u001b[33m[ WARN] [1667838391.166689915, 3115.612000000]: TF_REPEATED_DATA ignoring data with redundant timestamp for frame odom at time 3115.633000 according to authority unknown_publisher\u001b[0m\n",
      "\u001b[33m[ WARN] [1667838391.167714395, 3115.612000000]: TF_REPEATED_DATA ignoring data with redundant timestamp for frame odom at time 3115.633000 according to authority /pose_integrator\u001b[0m\n",
      "\u001b[33m[ WARN] [1667838409.298482541, 3120.499000000]: TF_REPEATED_DATA ignoring data with redundant timestamp for frame odom at time 3120.527000 according to authority /pose_integrator\u001b[0m\n",
      "\u001b[33m[ WARN] [1667838409.303430209, 3120.499000000]: TF_REPEATED_DATA ignoring data with redundant timestamp for frame odom at time 3120.527000 according to authority unknown_publisher\u001b[0m\n",
      "\u001b[33m[ WARN] [1667838411.351476220, 3121.078000000]: TF_REPEATED_DATA ignoring data with redundant timestamp for frame odom at time 3121.099000 according to authority /pose_integrator\u001b[0m\n",
      "\u001b[33m[ WARN] [1667838411.353127417, 3121.078000000]: TF_REPEATED_DATA ignoring data with redundant timestamp for frame odom at time 3121.099000 according to authority unknown_publisher\u001b[0m\n",
      "\u001b[33m[ WARN] [1667838417.872489684, 3122.958000000]: TF_REPEATED_DATA ignoring data with redundant timestamp for frame odom at time 3123.011000 according to authority /pose_integrator\u001b[0m\n",
      "\u001b[33m[ WARN] [1667838417.874290193, 3122.958000000]: TF_REPEATED_DATA ignoring data with redundant timestamp for frame odom at time 3123.011000 according to authority unknown_publisher\u001b[0m\n",
      "\u001b[33m[ WARN] [1667838421.983225347, 3124.109000000]: TF_REPEATED_DATA ignoring data with redundant timestamp for frame odom at time 3124.135000 according to authority /pose_integrator\u001b[0m\n",
      "\u001b[33m[ WARN] [1667838421.984998590, 3124.109000000]: TF_REPEATED_DATA ignoring data with redundant timestamp for frame odom at time 3124.135000 according to authority unknown_publisher\u001b[0m\n",
      "\u001b[33m[ WARN] [1667838457.044015610, 3133.340000000]: TF_REPEATED_DATA ignoring data with redundant timestamp for frame odom at time 3133.387000 according to authority /pose_integrator\u001b[0m\n",
      "\u001b[33m[ WARN] [1667838457.046755900, 3133.340000000]: TF_REPEATED_DATA ignoring data with redundant timestamp for frame odom at time 3133.387000 according to authority unknown_publisher\u001b[0m\n",
      "\u001b[33m[ WARN] [1667838457.277013576, 3133.424000000]: TF_REPEATED_DATA ignoring data with redundant timestamp for frame odom at time 3133.480000 according to authority unknown_publisher\u001b[0m\n",
      "\u001b[33m[ WARN] [1667838457.277647280, 3133.424000000]: TF_REPEATED_DATA ignoring data with redundant timestamp for frame odom at time 3133.480000 according to authority /pose_integrator\u001b[0m\n",
      "\u001b[33m[ WARN] [1667838469.618081819, 3136.792000000]: TF_REPEATED_DATA ignoring data with redundant timestamp for frame odom at time 3136.818000 according to authority /pose_integrator\u001b[0m\n",
      "\u001b[33m[ WARN] [1667838469.621403215, 3136.792000000]: TF_REPEATED_DATA ignoring data with redundant timestamp for frame odom at time 3136.818000 according to authority unknown_publisher\u001b[0m\n",
      "\u001b[33m[ WARN] [1667838471.405440843, 3137.219000000]: TF_REPEATED_DATA ignoring data with redundant timestamp for frame odom at time 3137.255000 according to authority /pose_integrator\u001b[0m\n",
      "\u001b[33m[ WARN] [1667838471.408026885, 3137.219000000]: TF_REPEATED_DATA ignoring data with redundant timestamp for frame odom at time 3137.255000 according to authority unknown_publisher\u001b[0m\n"
     ]
    },
    {
     "name": "stderr",
     "output_type": "stream",
     "text": [
      "\u001b[33m[ WARN] [1667838474.051744683, 3138.003000000]: TF_REPEATED_DATA ignoring data with redundant timestamp for frame odom at time 3138.026000 according to authority /pose_integrator\u001b[0m\n",
      "\u001b[33m[ WARN] [1667838474.051894400, 3138.003000000]: TF_REPEATED_DATA ignoring data with redundant timestamp for frame odom at time 3138.026000 according to authority unknown_publisher\u001b[0m\n",
      "\u001b[33m[ WARN] [1667838500.350564181, 3145.052000000]: TF_REPEATED_DATA ignoring data with redundant timestamp for frame odom at time 3145.052000 according to authority unknown_publisher\u001b[0m\n",
      "\u001b[33m[ WARN] [1667838500.352426041, 3145.052000000]: TF_REPEATED_DATA ignoring data with redundant timestamp for frame odom at time 3145.052000 according to authority /pose_integrator\u001b[0m\n",
      "\u001b[33m[ WARN] [1667838502.347291394, 3145.581000000]: TF_REPEATED_DATA ignoring data with redundant timestamp for frame odom at time 3145.650000 according to authority /pose_integrator\u001b[0m\n",
      "\u001b[33m[ WARN] [1667838502.349961351, 3145.581000000]: TF_REPEATED_DATA ignoring data with redundant timestamp for frame odom at time 3145.650000 according to authority unknown_publisher\u001b[0m\n",
      "\u001b[33m[ WARN] [1667838505.501263991, 3146.409000000]: TF_REPEATED_DATA ignoring data with redundant timestamp for frame odom at time 3146.507000 according to authority /pose_integrator\u001b[0m\n",
      "\u001b[33m[ WARN] [1667838505.502159596, 3146.409000000]: TF_REPEATED_DATA ignoring data with redundant timestamp for frame odom at time 3146.507000 according to authority unknown_publisher\u001b[0m\n",
      "\u001b[33m[ WARN] [1667838513.155036844, 3148.335000000]: TF_REPEATED_DATA ignoring data with redundant timestamp for frame odom at time 3148.377000 according to authority /pose_integrator\u001b[0m\n",
      "\u001b[33m[ WARN] [1667838513.155141709, 3148.335000000]: TF_REPEATED_DATA ignoring data with redundant timestamp for frame odom at time 3148.377000 according to authority unknown_publisher\u001b[0m\n",
      "\u001b[33m[ WARN] [1667838545.411564374, 3156.656000000]: TF_REPEATED_DATA ignoring data with redundant timestamp for frame odom at time 3156.689000 according to authority /pose_integrator\u001b[0m\n",
      "\u001b[33m[ WARN] [1667838545.412108650, 3156.656000000]: TF_REPEATED_DATA ignoring data with redundant timestamp for frame odom at time 3156.689000 according to authority unknown_publisher\u001b[0m\n",
      "\u001b[33m[ WARN] [1667838569.016299102, 3162.571000000]: TF_REPEATED_DATA ignoring data with redundant timestamp for frame odom at time 3162.609000 according to authority /pose_integrator\u001b[0m\n",
      "\u001b[33m[ WARN] [1667838569.018739132, 3162.571000000]: TF_REPEATED_DATA ignoring data with redundant timestamp for frame odom at time 3162.609000 according to authority unknown_publisher\u001b[0m\n",
      "\u001b[33m[ WARN] [1667838573.071984961, 3163.491000000]: TF_REPEATED_DATA ignoring data with redundant timestamp for frame odom at time 3163.524000 according to authority /pose_integrator\u001b[0m\n",
      "\u001b[33m[ WARN] [1667838573.073762302, 3163.491000000]: TF_REPEATED_DATA ignoring data with redundant timestamp for frame odom at time 3163.524000 according to authority unknown_publisher\u001b[0m\n",
      "\u001b[33m[ WARN] [1667838593.073652248, 3168.476000000]: TF_REPEATED_DATA ignoring data with redundant timestamp for frame odom at time 3168.509000 according to authority unknown_publisher\u001b[0m\n",
      "\u001b[33m[ WARN] [1667838593.074855284, 3168.476000000]: TF_REPEATED_DATA ignoring data with redundant timestamp for frame odom at time 3168.509000 according to authority /pose_integrator\u001b[0m\n",
      "\u001b[33m[ WARN] [1667838619.171785859, 3174.558000000]: TF_REPEATED_DATA ignoring data with redundant timestamp for frame odom at time 3174.589000 according to authority /pose_integrator\u001b[0m\n",
      "\u001b[33m[ WARN] [1667838619.174830890, 3174.589000000]: TF_REPEATED_DATA ignoring data with redundant timestamp for frame odom at time 3174.589000 according to authority unknown_publisher\u001b[0m\n",
      "\u001b[33m[ WARN] [1667838627.772362251, 3176.698000000]: TF_REPEATED_DATA ignoring data with redundant timestamp for frame odom at time 3176.721000 according to authority /pose_integrator\u001b[0m\n",
      "\u001b[33m[ WARN] [1667838627.778281367, 3176.698000000]: TF_REPEATED_DATA ignoring data with redundant timestamp for frame odom at time 3176.721000 according to authority unknown_publisher\u001b[0m\n",
      "\u001b[33m[ WARN] [1667838632.888872305, 3178.109000000]: TF_REPEATED_DATA ignoring data with redundant timestamp for frame odom at time 3178.132000 according to authority /pose_integrator\u001b[0m\n",
      "\u001b[33m[ WARN] [1667838632.889416550, 3178.109000000]: TF_REPEATED_DATA ignoring data with redundant timestamp for frame odom at time 3178.132000 according to authority unknown_publisher\u001b[0m\n",
      "\u001b[33m[ WARN] [1667838637.661644924, 3179.242000000]: TF_REPEATED_DATA ignoring data with redundant timestamp for frame odom at time 3179.295000 according to authority /pose_integrator\u001b[0m\n",
      "\u001b[33m[ WARN] [1667838637.663706262, 3179.242000000]: TF_REPEATED_DATA ignoring data with redundant timestamp for frame odom at time 3179.295000 according to authority unknown_publisher\u001b[0m\n",
      "\u001b[33m[ WARN] [1667838670.185321437, 3187.490000000]: TF_REPEATED_DATA ignoring data with redundant timestamp for frame odom at time 3187.519000 according to authority /pose_integrator\u001b[0m\n",
      "\u001b[33m[ WARN] [1667838670.186895655, 3187.490000000]: TF_REPEATED_DATA ignoring data with redundant timestamp for frame odom at time 3187.519000 according to authority unknown_publisher\u001b[0m\n",
      "\u001b[33m[ WARN] [1667838689.339435824, 3192.386000000]: TF_REPEATED_DATA ignoring data with redundant timestamp for frame odom at time 3192.434000 according to authority /pose_integrator\u001b[0m\n",
      "\u001b[33m[ WARN] [1667838689.339932561, 3192.386000000]: TF_REPEATED_DATA ignoring data with redundant timestamp for frame odom at time 3192.434000 according to authority unknown_publisher\u001b[0m\n",
      "\u001b[33m[ WARN] [1667838706.082392439, 3196.613000000]: TF_REPEATED_DATA ignoring data with redundant timestamp for frame odom at time 3196.627000 according to authority /pose_integrator\u001b[0m\n",
      "\u001b[33m[ WARN] [1667838706.082535438, 3196.613000000]: TF_REPEATED_DATA ignoring data with redundant timestamp for frame odom at time 3196.627000 according to authority unknown_publisher\u001b[0m\n",
      "\u001b[33m[ WARN] [1667838709.303502773, 3197.468000000]: TF_REPEATED_DATA ignoring data with redundant timestamp for frame odom at time 3197.490000 according to authority unknown_publisher\u001b[0m\n",
      "\u001b[33m[ WARN] [1667838709.304550763, 3197.468000000]: TF_REPEATED_DATA ignoring data with redundant timestamp for frame odom at time 3197.490000 according to authority /pose_integrator\u001b[0m\n",
      "\u001b[33m[ WARN] [1667838725.078807790, 3201.433000000]: TF_REPEATED_DATA ignoring data with redundant timestamp for frame odom at time 3201.433000 according to authority /pose_integrator\u001b[0m\n",
      "\u001b[33m[ WARN] [1667838725.079104894, 3201.433000000]: TF_REPEATED_DATA ignoring data with redundant timestamp for frame odom at time 3201.433000 according to authority unknown_publisher\u001b[0m\n",
      "\u001b[33m[ WARN] [1667838729.249236541, 3202.279000000]: TF_REPEATED_DATA ignoring data with redundant timestamp for frame odom at time 3202.344000 according to authority /pose_integrator\u001b[0m\n",
      "\u001b[33m[ WARN] [1667838729.249697469, 3202.279000000]: TF_REPEATED_DATA ignoring data with redundant timestamp for frame odom at time 3202.344000 according to authority unknown_publisher\u001b[0m\n",
      "\u001b[33m[ WARN] [1667838750.255221992, 3207.484000000]: TF_REPEATED_DATA ignoring data with redundant timestamp for frame odom at time 3207.515000 according to authority unknown_publisher\u001b[0m\n",
      "\u001b[33m[ WARN] [1667838750.255310635, 3207.484000000]: TF_REPEATED_DATA ignoring data with redundant timestamp for frame odom at time 3207.515000 according to authority /pose_integrator\u001b[0m\n",
      "\u001b[33m[ WARN] [1667838750.762275278, 3207.614000000]: TF_REPEATED_DATA ignoring data with redundant timestamp for frame odom at time 3207.653000 according to authority /pose_integrator\u001b[0m\n",
      "\u001b[33m[ WARN] [1667838750.765369655, 3207.614000000]: TF_REPEATED_DATA ignoring data with redundant timestamp for frame odom at time 3207.653000 according to authority unknown_publisher\u001b[0m\n",
      "\u001b[33m[ WARN] [1667838760.205939367, 3209.678000000]: TF_REPEATED_DATA ignoring data with redundant timestamp for frame odom at time 3209.717000 according to authority /pose_integrator\u001b[0m\n",
      "\u001b[33m[ WARN] [1667838760.208235241, 3209.678000000]: TF_REPEATED_DATA ignoring data with redundant timestamp for frame odom at time 3209.717000 according to authority unknown_publisher\u001b[0m\n"
     ]
    },
    {
     "name": "stderr",
     "output_type": "stream",
     "text": [
      "\u001b[33m[ WARN] [1667838784.105269588, 3215.730000000]: TF_REPEATED_DATA ignoring data with redundant timestamp for frame odom at time 3215.769000 according to authority /pose_integrator\u001b[0m\n",
      "\u001b[33m[ WARN] [1667838784.109251135, 3215.730000000]: TF_REPEATED_DATA ignoring data with redundant timestamp for frame odom at time 3215.769000 according to authority unknown_publisher\u001b[0m\n",
      "\u001b[33m[ WARN] [1667838785.463593332, 3216.083000000]: TF_REPEATED_DATA ignoring data with redundant timestamp for frame odom at time 3216.111000 according to authority /pose_integrator\u001b[0m\n",
      "\u001b[33m[ WARN] [1667838785.464192647, 3216.083000000]: TF_REPEATED_DATA ignoring data with redundant timestamp for frame odom at time 3216.111000 according to authority unknown_publisher\u001b[0m\n",
      "\u001b[33m[ WARN] [1667838788.656141449, 3216.877000000]: TF_REPEATED_DATA ignoring data with redundant timestamp for frame odom at time 3216.898000 according to authority /pose_integrator\u001b[0m\n",
      "\u001b[33m[ WARN] [1667838788.656306765, 3216.877000000]: TF_REPEATED_DATA ignoring data with redundant timestamp for frame odom at time 3216.898000 according to authority unknown_publisher\u001b[0m\n",
      "\u001b[33m[ WARN] [1667838812.195054827, 3222.608000000]: TF_REPEATED_DATA ignoring data with redundant timestamp for frame odom at time 3222.642000 according to authority /pose_integrator\u001b[0m\n",
      "\u001b[33m[ WARN] [1667838812.195182063, 3222.608000000]: TF_REPEATED_DATA ignoring data with redundant timestamp for frame odom at time 3222.642000 according to authority unknown_publisher\u001b[0m\n",
      "\u001b[33m[ WARN] [1667838832.230373300, 3227.991000000]: TF_REPEATED_DATA ignoring data with redundant timestamp for frame odom at time 3228.058000 according to authority /pose_integrator\u001b[0m\n",
      "\u001b[33m[ WARN] [1667838832.231693531, 3227.991000000]: TF_REPEATED_DATA ignoring data with redundant timestamp for frame odom at time 3228.058000 according to authority unknown_publisher\u001b[0m\n",
      "\u001b[33m[ WARN] [1667838833.627975042, 3228.342000000]: TF_REPEATED_DATA ignoring data with redundant timestamp for frame odom at time 3228.364000 according to authority /pose_integrator\u001b[0m\n",
      "\u001b[33m[ WARN] [1667838833.630496220, 3228.342000000]: TF_REPEATED_DATA ignoring data with redundant timestamp for frame odom at time 3228.364000 according to authority unknown_publisher\u001b[0m\n",
      "\u001b[33m[ WARN] [1667838834.222751843, 3228.475000000]: TF_REPEATED_DATA ignoring data with redundant timestamp for frame odom at time 3228.525000 according to authority unknown_publisher\u001b[0m\n",
      "\u001b[33m[ WARN] [1667838834.224839691, 3228.475000000]: TF_REPEATED_DATA ignoring data with redundant timestamp for frame odom at time 3228.525000 according to authority /pose_integrator\u001b[0m\n",
      "\u001b[33m[ WARN] [1667838850.643122121, 3232.242000000]: TF_REPEATED_DATA ignoring data with redundant timestamp for frame odom at time 3232.321000 according to authority /pose_integrator\u001b[0m\n",
      "\u001b[33m[ WARN] [1667838850.647366638, 3232.242000000]: TF_REPEATED_DATA ignoring data with redundant timestamp for frame odom at time 3232.321000 according to authority unknown_publisher\u001b[0m\n",
      "\u001b[33m[ WARN] [1667838853.357227832, 3233.033000000]: TF_REPEATED_DATA ignoring data with redundant timestamp for frame odom at time 3233.093000 according to authority /pose_integrator\u001b[0m\n",
      "\u001b[33m[ WARN] [1667838853.359519769, 3233.033000000]: TF_REPEATED_DATA ignoring data with redundant timestamp for frame odom at time 3233.093000 according to authority unknown_publisher\u001b[0m\n",
      "\u001b[33m[ WARN] [1667838861.280258695, 3234.799000000]: TF_REPEATED_DATA ignoring data with redundant timestamp for frame odom at time 3234.819000 according to authority /pose_integrator\u001b[0m\n",
      "\u001b[33m[ WARN] [1667838861.282363942, 3234.799000000]: TF_REPEATED_DATA ignoring data with redundant timestamp for frame odom at time 3234.819000 according to authority unknown_publisher\u001b[0m\n",
      "\u001b[33m[ WARN] [1667838864.747312656, 3235.594000000]: TF_REPEATED_DATA ignoring data with redundant timestamp for frame odom at time 3235.641000 according to authority /pose_integrator\u001b[0m\n",
      "\u001b[33m[ WARN] [1667838864.748543755, 3235.594000000]: TF_REPEATED_DATA ignoring data with redundant timestamp for frame odom at time 3235.641000 according to authority unknown_publisher\u001b[0m\n",
      "\u001b[33m[ WARN] [1667838905.409050626, 3245.897000000]: TF_REPEATED_DATA ignoring data with redundant timestamp for frame odom at time 3245.929000 according to authority /pose_integrator\u001b[0m\n",
      "\u001b[33m[ WARN] [1667838905.410365688, 3245.897000000]: TF_REPEATED_DATA ignoring data with redundant timestamp for frame odom at time 3245.929000 according to authority unknown_publisher\u001b[0m\n",
      "\u001b[33m[ WARN] [1667838922.704293316, 3250.270000000]: TF_REPEATED_DATA ignoring data with redundant timestamp for frame odom at time 3250.376000 according to authority /pose_integrator\u001b[0m\n",
      "\u001b[33m[ WARN] [1667838922.706623945, 3250.270000000]: TF_REPEATED_DATA ignoring data with redundant timestamp for frame odom at time 3250.376000 according to authority unknown_publisher\u001b[0m\n",
      "\u001b[33m[ WARN] [1667838930.063815424, 3252.045000000]: TF_REPEATED_DATA ignoring data with redundant timestamp for frame odom at time 3252.076000 according to authority /pose_integrator\u001b[0m\n",
      "\u001b[33m[ WARN] [1667838930.063980595, 3252.045000000]: TF_REPEATED_DATA ignoring data with redundant timestamp for frame odom at time 3252.076000 according to authority unknown_publisher\u001b[0m\n",
      "\u001b[33m[ WARN] [1667838937.366550906, 3253.841000000]: TF_REPEATED_DATA ignoring data with redundant timestamp for frame odom at time 3253.841000 according to authority unknown_publisher\u001b[0m\n",
      "\u001b[33m[ WARN] [1667838937.366839886, 3253.841000000]: TF_REPEATED_DATA ignoring data with redundant timestamp for frame odom at time 3253.841000 according to authority /pose_integrator\u001b[0m\n",
      "\u001b[33m[ WARN] [1667838975.362340520, 3263.240000000]: TF_REPEATED_DATA ignoring data with redundant timestamp for frame odom at time 3263.256000 according to authority unknown_publisher\u001b[0m\n",
      "\u001b[33m[ WARN] [1667838975.364437288, 3263.240000000]: TF_REPEATED_DATA ignoring data with redundant timestamp for frame odom at time 3263.256000 according to authority /pose_integrator\u001b[0m\n",
      "\u001b[33m[ WARN] [1667838983.527839146, 3264.956000000]: TF_REPEATED_DATA ignoring data with redundant timestamp for frame odom at time 3264.981000 according to authority unknown_publisher\u001b[0m\n",
      "\u001b[33m[ WARN] [1667838983.528535852, 3264.956000000]: TF_REPEATED_DATA ignoring data with redundant timestamp for frame odom at time 3264.981000 according to authority /pose_integrator\u001b[0m\n",
      "\u001b[33m[ WARN] [1667839001.569823608, 3268.337000000]: TF_REPEATED_DATA ignoring data with redundant timestamp for frame odom at time 3268.357000 according to authority /pose_integrator\u001b[0m\n",
      "\u001b[33m[ WARN] [1667839001.570431122, 3268.337000000]: TF_REPEATED_DATA ignoring data with redundant timestamp for frame odom at time 3268.357000 according to authority unknown_publisher\u001b[0m\n",
      "\u001b[33m[ WARN] [1667839001.839011092, 3268.376000000]: TF_REPEATED_DATA ignoring data with redundant timestamp for frame odom at time 3268.434000 according to authority /pose_integrator\u001b[0m\n",
      "\u001b[33m[ WARN] [1667839001.839483677, 3268.376000000]: TF_REPEATED_DATA ignoring data with redundant timestamp for frame odom at time 3268.434000 according to authority unknown_publisher\u001b[0m\n",
      "\u001b[33m[ WARN] [1667839002.153247825, 3268.513000000]: TF_REPEATED_DATA ignoring data with redundant timestamp for frame odom at time 3268.560000 according to authority /pose_integrator\u001b[0m\n",
      "\u001b[33m[ WARN] [1667839002.154744911, 3268.513000000]: TF_REPEATED_DATA ignoring data with redundant timestamp for frame odom at time 3268.560000 according to authority unknown_publisher\u001b[0m\n",
      "\u001b[33m[ WARN] [1667839041.357253153, 3275.462000000]: TF_REPEATED_DATA ignoring data with redundant timestamp for frame odom at time 3275.534000 according to authority /pose_integrator\u001b[0m\n",
      "\u001b[33m[ WARN] [1667839041.357810845, 3275.462000000]: TF_REPEATED_DATA ignoring data with redundant timestamp for frame odom at time 3275.534000 according to authority unknown_publisher\u001b[0m\n",
      "\u001b[33m[ WARN] [1667839041.786165178, 3275.649000000]: TF_REPEATED_DATA ignoring data with redundant timestamp for frame odom at time 3275.668000 according to authority /pose_integrator\u001b[0m\n",
      "\u001b[33m[ WARN] [1667839041.787011501, 3275.649000000]: TF_REPEATED_DATA ignoring data with redundant timestamp for frame odom at time 3275.668000 according to authority unknown_publisher\u001b[0m\n"
     ]
    },
    {
     "name": "stderr",
     "output_type": "stream",
     "text": [
      "\u001b[33m[ WARN] [1667839047.788934365, 3276.596000000]: TF_REPEATED_DATA ignoring data with redundant timestamp for frame odom at time 3276.634000 according to authority unknown_publisher\u001b[0m\n",
      "\u001b[33m[ WARN] [1667839047.789085307, 3276.596000000]: TF_REPEATED_DATA ignoring data with redundant timestamp for frame odom at time 3276.634000 according to authority /pose_integrator\u001b[0m\n",
      "\u001b[33m[ WARN] [1667839051.267447092, 3277.224000000]: TF_REPEATED_DATA ignoring data with redundant timestamp for frame odom at time 3277.284000 according to authority /pose_integrator\u001b[0m\n",
      "\u001b[33m[ WARN] [1667839051.268409059, 3277.224000000]: TF_REPEATED_DATA ignoring data with redundant timestamp for frame odom at time 3277.284000 according to authority unknown_publisher\u001b[0m\n",
      "\u001b[33m[ WARN] [1667839063.120903174, 3279.182000000]: TF_REPEATED_DATA ignoring data with redundant timestamp for frame odom at time 3279.217000 according to authority /pose_integrator\u001b[0m\n",
      "\u001b[33m[ WARN] [1667839063.121515402, 3279.182000000]: TF_REPEATED_DATA ignoring data with redundant timestamp for frame odom at time 3279.217000 according to authority unknown_publisher\u001b[0m\n",
      "\u001b[33m[ WARN] [1667839063.487999593, 3279.270000000]: TF_REPEATED_DATA ignoring data with redundant timestamp for frame odom at time 3279.309000 according to authority /pose_integrator\u001b[0m\n",
      "\u001b[33m[ WARN] [1667839063.488734387, 3279.270000000]: TF_REPEATED_DATA ignoring data with redundant timestamp for frame odom at time 3279.309000 according to authority unknown_publisher\u001b[0m\n",
      "\u001b[33m[ WARN] [1667839082.576377321, 3282.588000000]: TF_REPEATED_DATA ignoring data with redundant timestamp for frame odom at time 3282.624000 according to authority /pose_integrator\u001b[0m\n",
      "\u001b[33m[ WARN] [1667839082.579504510, 3282.588000000]: TF_REPEATED_DATA ignoring data with redundant timestamp for frame odom at time 3282.624000 according to authority unknown_publisher\u001b[0m\n",
      "\u001b[33m[ WARN] [1667839090.288792594, 3283.906000000]: TF_REPEATED_DATA ignoring data with redundant timestamp for frame odom at time 3283.945000 according to authority /pose_integrator\u001b[0m\n",
      "\u001b[33m[ WARN] [1667839090.291825859, 3283.906000000]: TF_REPEATED_DATA ignoring data with redundant timestamp for frame odom at time 3283.945000 according to authority unknown_publisher\u001b[0m\n",
      "\u001b[33m[ WARN] [1667839095.597111776, 3284.830000000]: TF_REPEATED_DATA ignoring data with redundant timestamp for frame odom at time 3284.858000 according to authority /pose_integrator\u001b[0m\n",
      "\u001b[33m[ WARN] [1667839095.598808827, 3284.830000000]: TF_REPEATED_DATA ignoring data with redundant timestamp for frame odom at time 3284.858000 according to authority unknown_publisher\u001b[0m\n",
      "\u001b[33m[ WARN] [1667839097.113192526, 3285.155000000]: TF_REPEATED_DATA ignoring data with redundant timestamp for frame odom at time 3285.190000 according to authority /pose_integrator\u001b[0m\n",
      "\u001b[33m[ WARN] [1667839097.113758934, 3285.155000000]: TF_REPEATED_DATA ignoring data with redundant timestamp for frame odom at time 3285.190000 according to authority unknown_publisher\u001b[0m\n",
      "\u001b[33m[ WARN] [1667839123.513869340, 3290.064000000]: TF_REPEATED_DATA ignoring data with redundant timestamp for frame odom at time 3290.109000 according to authority /pose_integrator\u001b[0m\n",
      "\u001b[33m[ WARN] [1667839123.514042168, 3290.064000000]: TF_REPEATED_DATA ignoring data with redundant timestamp for frame odom at time 3290.109000 according to authority unknown_publisher\u001b[0m\n",
      "\u001b[33m[ WARN] [1667839160.319268651, 3296.793000000]: TF_REPEATED_DATA ignoring data with redundant timestamp for frame odom at time 3296.829000 according to authority unknown_publisher\u001b[0m\n",
      "\u001b[33m[ WARN] [1667839160.320093291, 3296.793000000]: TF_REPEATED_DATA ignoring data with redundant timestamp for frame odom at time 3296.829000 according to authority /pose_integrator\u001b[0m\n",
      "\u001b[33m[ WARN] [1667839168.828757517, 3298.335000000]: TF_REPEATED_DATA ignoring data with redundant timestamp for frame odom at time 3298.353000 according to authority unknown_publisher\u001b[0m\n",
      "\u001b[33m[ WARN] [1667839168.828948260, 3298.335000000]: TF_REPEATED_DATA ignoring data with redundant timestamp for frame odom at time 3298.353000 according to authority /pose_integrator\u001b[0m\n",
      "\u001b[33m[ WARN] [1667839231.758586710, 3310.329000000]: TF_REPEATED_DATA ignoring data with redundant timestamp for frame odom at time 3310.369000 according to authority /pose_integrator\u001b[0m\n",
      "\u001b[33m[ WARN] [1667839231.758690659, 3310.329000000]: TF_REPEATED_DATA ignoring data with redundant timestamp for frame odom at time 3310.369000 according to authority unknown_publisher\u001b[0m\n",
      "\u001b[33m[ WARN] [1667839242.959801156, 3313.056000000]: TF_REPEATED_DATA ignoring data with redundant timestamp for frame odom at time 3313.083000 according to authority /pose_integrator\u001b[0m\n",
      "\u001b[33m[ WARN] [1667839242.960447390, 3313.056000000]: TF_REPEATED_DATA ignoring data with redundant timestamp for frame odom at time 3313.083000 according to authority unknown_publisher\u001b[0m\n",
      "\u001b[33m[ WARN] [1667839256.279524938, 3316.585000000]: TF_REPEATED_DATA ignoring data with redundant timestamp for frame odom at time 3316.617000 according to authority /pose_integrator\u001b[0m\n",
      "\u001b[33m[ WARN] [1667839256.280042797, 3316.585000000]: TF_REPEATED_DATA ignoring data with redundant timestamp for frame odom at time 3316.617000 according to authority unknown_publisher\u001b[0m\n",
      "\u001b[33m[ WARN] [1667839259.396802158, 3317.423000000]: TF_REPEATED_DATA ignoring data with redundant timestamp for frame odom at time 3317.468000 according to authority /pose_integrator\u001b[0m\n",
      "\u001b[33m[ WARN] [1667839259.399102166, 3317.423000000]: TF_REPEATED_DATA ignoring data with redundant timestamp for frame odom at time 3317.468000 according to authority unknown_publisher\u001b[0m\n",
      "\u001b[33m[ WARN] [1667839263.867551056, 3318.602000000]: TF_REPEATED_DATA ignoring data with redundant timestamp for frame odom at time 3318.624000 according to authority /pose_integrator\u001b[0m\n",
      "\u001b[33m[ WARN] [1667839263.869608273, 3318.602000000]: TF_REPEATED_DATA ignoring data with redundant timestamp for frame odom at time 3318.624000 according to authority unknown_publisher\u001b[0m\n",
      "\u001b[33m[ WARN] [1667839264.173352698, 3318.674000000]: TF_REPEATED_DATA ignoring data with redundant timestamp for frame odom at time 3318.726000 according to authority /pose_integrator\u001b[0m\n",
      "\u001b[33m[ WARN] [1667839264.175220586, 3318.674000000]: TF_REPEATED_DATA ignoring data with redundant timestamp for frame odom at time 3318.726000 according to authority unknown_publisher\u001b[0m\n",
      "\u001b[33m[ WARN] [1667839284.702130118, 3323.902000000]: TF_REPEATED_DATA ignoring data with redundant timestamp for frame odom at time 3323.936000 according to authority /pose_integrator\u001b[0m\n",
      "\u001b[33m[ WARN] [1667839284.704088828, 3323.902000000]: TF_REPEATED_DATA ignoring data with redundant timestamp for frame odom at time 3323.936000 according to authority unknown_publisher\u001b[0m\n",
      "\u001b[33m[ WARN] [1667839290.787071711, 3325.628000000]: TF_REPEATED_DATA ignoring data with redundant timestamp for frame odom at time 3325.678000 according to authority /pose_integrator\u001b[0m\n",
      "\u001b[33m[ WARN] [1667839290.787661672, 3325.628000000]: TF_REPEATED_DATA ignoring data with redundant timestamp for frame odom at time 3325.678000 according to authority unknown_publisher\u001b[0m\n",
      "\u001b[33m[ WARN] [1667839297.449170198, 3327.300000000]: TF_REPEATED_DATA ignoring data with redundant timestamp for frame odom at time 3327.342000 according to authority /pose_integrator\u001b[0m\n",
      "\u001b[33m[ WARN] [1667839297.451238532, 3327.300000000]: TF_REPEATED_DATA ignoring data with redundant timestamp for frame odom at time 3327.342000 according to authority unknown_publisher\u001b[0m\n",
      "\u001b[33m[ WARN] [1667839309.578100240, 3330.045000000]: TF_REPEATED_DATA ignoring data with redundant timestamp for frame odom at time 3330.085000 according to authority /pose_integrator\u001b[0m\n",
      "\u001b[33m[ WARN] [1667839309.579036140, 3330.045000000]: TF_REPEATED_DATA ignoring data with redundant timestamp for frame odom at time 3330.085000 according to authority unknown_publisher\u001b[0m\n",
      "\u001b[33m[ WARN] [1667839313.122680819, 3330.873000000]: TF_REPEATED_DATA ignoring data with redundant timestamp for frame odom at time 3330.873000 according to authority /pose_integrator\u001b[0m\n",
      "\u001b[33m[ WARN] [1667839313.130650136, 3330.873000000]: TF_REPEATED_DATA ignoring data with redundant timestamp for frame odom at time 3330.873000 according to authority unknown_publisher\u001b[0m\n"
     ]
    },
    {
     "name": "stderr",
     "output_type": "stream",
     "text": [
      "\u001b[33m[ WARN] [1667839336.179543165, 3336.485000000]: TF_REPEATED_DATA ignoring data with redundant timestamp for frame odom at time 3336.537000 according to authority /pose_integrator\u001b[0m\n",
      "\u001b[33m[ WARN] [1667839336.180311208, 3336.485000000]: TF_REPEATED_DATA ignoring data with redundant timestamp for frame odom at time 3336.537000 according to authority unknown_publisher\u001b[0m\n",
      "\u001b[33m[ WARN] [1667839361.600646801, 3341.680000000]: TF_REPEATED_DATA ignoring data with redundant timestamp for frame odom at time 3341.705000 according to authority /pose_integrator\u001b[0m\n",
      "\u001b[33m[ WARN] [1667839361.603569607, 3341.680000000]: TF_REPEATED_DATA ignoring data with redundant timestamp for frame odom at time 3341.705000 according to authority unknown_publisher\u001b[0m\n"
     ]
    }
   ],
   "source": [
    "grip.close()"
   ]
  },
  {
   "cell_type": "code",
   "execution_count": 29,
   "id": "f323dec0",
   "metadata": {
    "scrolled": true
   },
   "outputs": [
    {
     "name": "stderr",
     "output_type": "stream",
     "text": [
      "\u001b[33m[ WARN] [1667839574.917759678, 3381.283000000]: TF_REPEATED_DATA ignoring data with redundant timestamp for frame odom at time 3381.321000 according to authority /pose_integrator\u001b[0m\n",
      "\u001b[33m[ WARN] [1667839574.918010416, 3381.283000000]: TF_REPEATED_DATA ignoring data with redundant timestamp for frame odom at time 3381.321000 according to authority unknown_publisher\u001b[0m\n",
      "\u001b[33m[ WARN] [1667839584.325654617, 3382.738000000]: TF_REPEATED_DATA ignoring data with redundant timestamp for frame odom at time 3382.754000 according to authority /pose_integrator\u001b[0m\n",
      "\u001b[33m[ WARN] [1667839584.326653329, 3382.738000000]: TF_REPEATED_DATA ignoring data with redundant timestamp for frame odom at time 3382.754000 according to authority unknown_publisher\u001b[0m\n",
      "\u001b[33m[ WARN] [1667839586.156906879, 3382.951000000]: TF_REPEATED_DATA ignoring data with redundant timestamp for frame odom at time 3382.990000 according to authority /pose_integrator\u001b[0m\n",
      "\u001b[33m[ WARN] [1667839586.158570626, 3382.951000000]: TF_REPEATED_DATA ignoring data with redundant timestamp for frame odom at time 3382.990000 according to authority unknown_publisher\u001b[0m\n",
      "\u001b[33m[ WARN] [1667839593.868205609, 3384.042000000]: TF_REPEATED_DATA ignoring data with redundant timestamp for frame odom at time 3384.120000 according to authority /pose_integrator\u001b[0m\n",
      "\u001b[33m[ WARN] [1667839593.869364420, 3384.042000000]: TF_REPEATED_DATA ignoring data with redundant timestamp for frame odom at time 3384.120000 according to authority unknown_publisher\u001b[0m\n",
      "\u001b[33m[ WARN] [1667839599.393695852, 3384.989000000]: TF_REPEATED_DATA ignoring data with redundant timestamp for frame odom at time 3385.034000 according to authority unknown_publisher\u001b[0m\n",
      "\u001b[33m[ WARN] [1667839599.394336253, 3384.989000000]: TF_REPEATED_DATA ignoring data with redundant timestamp for frame odom at time 3385.034000 according to authority /pose_integrator\u001b[0m\n",
      "\u001b[33m[ WARN] [1667839636.025933827, 3392.126000000]: TF_REPEATED_DATA ignoring data with redundant timestamp for frame odom at time 3392.161000 according to authority /pose_integrator\u001b[0m\n",
      "\u001b[33m[ WARN] [1667839636.026112808, 3392.126000000]: TF_REPEATED_DATA ignoring data with redundant timestamp for frame odom at time 3392.161000 according to authority unknown_publisher\u001b[0m\n"
     ]
    },
    {
     "data": {
      "text/plain": [
       "True"
      ]
     },
     "execution_count": 29,
     "metadata": {},
     "output_type": "execute_result"
    },
    {
     "name": "stderr",
     "output_type": "stream",
     "text": [
      "\u001b[33m[ WARN] [1667839667.141461818, 3397.170000000]: TF_REPEATED_DATA ignoring data with redundant timestamp for frame odom at time 3397.218000 according to authority /pose_integrator\u001b[0m\n",
      "\u001b[33m[ WARN] [1667839667.144189727, 3397.170000000]: TF_REPEATED_DATA ignoring data with redundant timestamp for frame odom at time 3397.218000 according to authority unknown_publisher\u001b[0m\n",
      "\u001b[33m[ WARN] [1667839668.495620269, 3397.447000000]: TF_REPEATED_DATA ignoring data with redundant timestamp for frame odom at time 3397.518000 according to authority unknown_publisher\u001b[0m\n",
      "\u001b[33m[ WARN] [1667839668.495778161, 3397.447000000]: TF_REPEATED_DATA ignoring data with redundant timestamp for frame odom at time 3397.518000 according to authority /pose_integrator\u001b[0m\n",
      "\u001b[33m[ WARN] [1667839670.978788791, 3397.906000000]: TF_REPEATED_DATA ignoring data with redundant timestamp for frame odom at time 3397.922000 according to authority /pose_integrator\u001b[0m\n",
      "\u001b[33m[ WARN] [1667839670.984997395, 3397.906000000]: TF_REPEATED_DATA ignoring data with redundant timestamp for frame odom at time 3397.922000 according to authority unknown_publisher\u001b[0m\n",
      "\u001b[33m[ WARN] [1667839679.636812165, 3399.169000000]: TF_REPEATED_DATA ignoring data with redundant timestamp for frame odom at time 3399.201000 according to authority /pose_integrator\u001b[0m\n",
      "\u001b[33m[ WARN] [1667839679.637030164, 3399.169000000]: TF_REPEATED_DATA ignoring data with redundant timestamp for frame odom at time 3399.201000 according to authority unknown_publisher\u001b[0m\n",
      "\u001b[33m[ WARN] [1667839683.338230472, 3399.846000000]: TF_REPEATED_DATA ignoring data with redundant timestamp for frame odom at time 3399.919000 according to authority unknown_publisher\u001b[0m\n",
      "\u001b[33m[ WARN] [1667839683.339223769, 3399.846000000]: TF_REPEATED_DATA ignoring data with redundant timestamp for frame odom at time 3399.919000 according to authority /pose_integrator\u001b[0m\n",
      "\u001b[33m[ WARN] [1667839697.135390250, 3402.150000000]: TF_REPEATED_DATA ignoring data with redundant timestamp for frame odom at time 3402.185000 according to authority /pose_integrator\u001b[0m\n",
      "\u001b[33m[ WARN] [1667839697.135714706, 3402.150000000]: TF_REPEATED_DATA ignoring data with redundant timestamp for frame odom at time 3402.185000 according to authority unknown_publisher\u001b[0m\n",
      "\u001b[33m[ WARN] [1667839714.475321101, 3404.989000000]: TF_REPEATED_DATA ignoring data with redundant timestamp for frame odom at time 3405.024000 according to authority /pose_integrator\u001b[0m\n",
      "\u001b[33m[ WARN] [1667839714.475897991, 3404.989000000]: TF_REPEATED_DATA ignoring data with redundant timestamp for frame odom at time 3405.024000 according to authority unknown_publisher\u001b[0m\n",
      "\u001b[33m[ WARN] [1667839726.507873561, 3407.072000000]: TF_REPEATED_DATA ignoring data with redundant timestamp for frame odom at time 3407.104000 according to authority unknown_publisher\u001b[0m\n",
      "\u001b[33m[ WARN] [1667839726.508653728, 3407.072000000]: TF_REPEATED_DATA ignoring data with redundant timestamp for frame odom at time 3407.104000 according to authority /pose_integrator\u001b[0m\n",
      "\u001b[33m[ WARN] [1667839726.631169131, 3407.104000000]: TF_REPEATED_DATA ignoring data with redundant timestamp for frame odom at time 3407.160000 according to authority unknown_publisher\u001b[0m\n",
      "\u001b[33m[ WARN] [1667839726.631413165, 3407.104000000]: TF_REPEATED_DATA ignoring data with redundant timestamp for frame odom at time 3407.160000 according to authority /pose_integrator\u001b[0m\n",
      "\u001b[33m[ WARN] [1667839751.817774570, 3411.348000000]: TF_REPEATED_DATA ignoring data with redundant timestamp for frame odom at time 3411.371000 according to authority /pose_integrator\u001b[0m\n",
      "\u001b[33m[ WARN] [1667839751.819777463, 3411.348000000]: TF_REPEATED_DATA ignoring data with redundant timestamp for frame odom at time 3411.371000 according to authority unknown_publisher\u001b[0m\n",
      "\u001b[33m[ WARN] [1667839752.142159642, 3411.457000000]: TF_REPEATED_DATA ignoring data with redundant timestamp for frame odom at time 3411.457000 according to authority /pose_integrator\u001b[0m\n",
      "\u001b[33m[ WARN] [1667839752.142239343, 3411.457000000]: TF_REPEATED_DATA ignoring data with redundant timestamp for frame odom at time 3411.457000 according to authority unknown_publisher\u001b[0m\n",
      "\u001b[33m[ WARN] [1667839759.700509284, 3412.956000000]: TF_REPEATED_DATA ignoring data with redundant timestamp for frame odom at time 3412.981000 according to authority /pose_integrator\u001b[0m\n",
      "\u001b[33m[ WARN] [1667839759.701175816, 3412.956000000]: TF_REPEATED_DATA ignoring data with redundant timestamp for frame odom at time 3412.981000 according to authority unknown_publisher\u001b[0m\n",
      "\u001b[33m[ WARN] [1667839760.165725346, 3413.046000000]: TF_REPEATED_DATA ignoring data with redundant timestamp for frame odom at time 3413.086000 according to authority unknown_publisher\u001b[0m\n",
      "\u001b[33m[ WARN] [1667839760.166779272, 3413.046000000]: TF_REPEATED_DATA ignoring data with redundant timestamp for frame odom at time 3413.086000 according to authority /pose_integrator\u001b[0m\n",
      "\u001b[33m[ WARN] [1667839768.081110156, 3414.443000000]: TF_REPEATED_DATA ignoring data with redundant timestamp for frame odom at time 3414.504000 according to authority unknown_publisher\u001b[0m\n",
      "\u001b[33m[ WARN] [1667839768.081852762, 3414.443000000]: TF_REPEATED_DATA ignoring data with redundant timestamp for frame odom at time 3414.504000 according to authority /pose_integrator\u001b[0m\n",
      "\u001b[33m[ WARN] [1667839775.255811682, 3415.707000000]: TF_REPEATED_DATA ignoring data with redundant timestamp for frame odom at time 3415.762000 according to authority /pose_integrator\u001b[0m\n",
      "\u001b[33m[ WARN] [1667839775.259470782, 3415.707000000]: TF_REPEATED_DATA ignoring data with redundant timestamp for frame odom at time 3415.762000 according to authority unknown_publisher\u001b[0m\n",
      "\u001b[33m[ WARN] [1667839777.758334128, 3416.166000000]: TF_REPEATED_DATA ignoring data with redundant timestamp for frame odom at time 3416.203000 according to authority /pose_integrator\u001b[0m\n",
      "\u001b[33m[ WARN] [1667839777.759098398, 3416.166000000]: TF_REPEATED_DATA ignoring data with redundant timestamp for frame odom at time 3416.203000 according to authority unknown_publisher\u001b[0m\n",
      "\u001b[33m[ WARN] [1667839790.900866260, 3418.527000000]: TF_REPEATED_DATA ignoring data with redundant timestamp for frame odom at time 3418.582000 according to authority /pose_integrator\u001b[0m\n",
      "\u001b[33m[ WARN] [1667839790.901613673, 3418.527000000]: TF_REPEATED_DATA ignoring data with redundant timestamp for frame odom at time 3418.582000 according to authority unknown_publisher\u001b[0m\n",
      "\u001b[33m[ WARN] [1667839812.487798232, 3421.931000000]: TF_REPEATED_DATA ignoring data with redundant timestamp for frame odom at time 3421.969000 according to authority /pose_integrator\u001b[0m\n",
      "\u001b[33m[ WARN] [1667839812.488731802, 3421.931000000]: TF_REPEATED_DATA ignoring data with redundant timestamp for frame odom at time 3421.969000 according to authority unknown_publisher\u001b[0m\n",
      "\u001b[33m[ WARN] [1667839833.108905952, 3425.003000000]: TF_REPEATED_DATA ignoring data with redundant timestamp for frame odom at time 3425.025000 according to authority /pose_integrator\u001b[0m\n",
      "\u001b[33m[ WARN] [1667839833.110199055, 3425.003000000]: TF_REPEATED_DATA ignoring data with redundant timestamp for frame odom at time 3425.025000 according to authority unknown_publisher\u001b[0m\n",
      "\u001b[33m[ WARN] [1667839840.244253943, 3426.028000000]: TF_REPEATED_DATA ignoring data with redundant timestamp for frame odom at time 3426.057000 according to authority /pose_integrator\u001b[0m\n",
      "\u001b[33m[ WARN] [1667839840.244507647, 3426.028000000]: TF_REPEATED_DATA ignoring data with redundant timestamp for frame odom at time 3426.057000 according to authority unknown_publisher\u001b[0m\n",
      "\u001b[33m[ WARN] [1667839848.783598984, 3427.322000000]: TF_REPEATED_DATA ignoring data with redundant timestamp for frame odom at time 3427.340000 according to authority unknown_publisher\u001b[0m\n",
      "\u001b[33m[ WARN] [1667839848.784767158, 3427.322000000]: TF_REPEATED_DATA ignoring data with redundant timestamp for frame odom at time 3427.340000 according to authority /pose_integrator\u001b[0m\n",
      "\u001b[33m[ WARN] [1667839857.604461151, 3428.573000000]: TF_REPEATED_DATA ignoring data with redundant timestamp for frame odom at time 3428.618000 according to authority /pose_integrator\u001b[0m\n",
      "\u001b[33m[ WARN] [1667839857.605084877, 3428.573000000]: TF_REPEATED_DATA ignoring data with redundant timestamp for frame odom at time 3428.618000 according to authority unknown_publisher\u001b[0m\n"
     ]
    },
    {
     "name": "stderr",
     "output_type": "stream",
     "text": [
      "\u001b[33m[ WARN] [1667839862.333518484, 3429.386000000]: TF_REPEATED_DATA ignoring data with redundant timestamp for frame odom at time 3429.439000 according to authority unknown_publisher\u001b[0m\n",
      "\u001b[33m[ WARN] [1667839862.334602217, 3429.386000000]: TF_REPEATED_DATA ignoring data with redundant timestamp for frame odom at time 3429.439000 according to authority /pose_integrator\u001b[0m\n",
      "\u001b[33m[ WARN] [1667839866.196829629, 3430.153000000]: TF_REPEATED_DATA ignoring data with redundant timestamp for frame odom at time 3430.185000 according to authority /pose_integrator\u001b[0m\n",
      "\u001b[33m[ WARN] [1667839866.198244526, 3430.153000000]: TF_REPEATED_DATA ignoring data with redundant timestamp for frame odom at time 3430.185000 according to authority unknown_publisher\u001b[0m\n",
      "\u001b[33m[ WARN] [1667839873.242477705, 3431.421000000]: TF_REPEATED_DATA ignoring data with redundant timestamp for frame odom at time 3431.463000 according to authority unknown_publisher\u001b[0m\n",
      "\u001b[33m[ WARN] [1667839873.246745221, 3431.421000000]: TF_REPEATED_DATA ignoring data with redundant timestamp for frame odom at time 3431.463000 according to authority /pose_integrator\u001b[0m\n",
      "\u001b[33m[ WARN] [1667839874.922775364, 3431.795000000]: TF_REPEATED_DATA ignoring data with redundant timestamp for frame odom at time 3431.833000 according to authority /pose_integrator\u001b[0m\n",
      "\u001b[33m[ WARN] [1667839874.926206689, 3431.795000000]: TF_REPEATED_DATA ignoring data with redundant timestamp for frame odom at time 3431.833000 according to authority unknown_publisher\u001b[0m\n",
      "\u001b[33m[ WARN] [1667839881.388948233, 3433.245000000]: TF_REPEATED_DATA ignoring data with redundant timestamp for frame odom at time 3433.300000 according to authority /pose_integrator\u001b[0m\n",
      "\u001b[33m[ WARN] [1667839881.389592941, 3433.245000000]: TF_REPEATED_DATA ignoring data with redundant timestamp for frame odom at time 3433.300000 according to authority unknown_publisher\u001b[0m\n",
      "\u001b[33m[ WARN] [1667839882.788335029, 3433.479000000]: TF_REPEATED_DATA ignoring data with redundant timestamp for frame odom at time 3433.558000 according to authority /pose_integrator\u001b[0m\n",
      "\u001b[33m[ WARN] [1667839882.793895907, 3433.479000000]: TF_REPEATED_DATA ignoring data with redundant timestamp for frame odom at time 3433.558000 according to authority unknown_publisher\u001b[0m\n",
      "\u001b[33m[ WARN] [1667839892.972857686, 3435.543000000]: TF_REPEATED_DATA ignoring data with redundant timestamp for frame odom at time 3435.568000 according to authority unknown_publisher\u001b[0m\n",
      "\u001b[33m[ WARN] [1667839892.974182613, 3435.543000000]: TF_REPEATED_DATA ignoring data with redundant timestamp for frame odom at time 3435.568000 according to authority /pose_integrator\u001b[0m\n",
      "\u001b[33m[ WARN] [1667839895.515241490, 3436.170000000]: TF_REPEATED_DATA ignoring data with redundant timestamp for frame odom at time 3436.170000 according to authority /pose_integrator\u001b[0m\n",
      "\u001b[33m[ WARN] [1667839895.516017454, 3436.170000000]: TF_REPEATED_DATA ignoring data with redundant timestamp for frame odom at time 3436.170000 according to authority unknown_publisher\u001b[0m\n",
      "\u001b[33m[ WARN] [1667839902.438305316, 3437.604000000]: TF_REPEATED_DATA ignoring data with redundant timestamp for frame odom at time 3437.643000 according to authority /pose_integrator\u001b[0m\n",
      "\u001b[33m[ WARN] [1667839902.442025585, 3437.604000000]: TF_REPEATED_DATA ignoring data with redundant timestamp for frame odom at time 3437.643000 according to authority unknown_publisher\u001b[0m\n",
      "\u001b[33m[ WARN] [1667839929.783518392, 3443.583000000]: TF_REPEATED_DATA ignoring data with redundant timestamp for frame odom at time 3443.609000 according to authority /pose_integrator\u001b[0m\n",
      "\u001b[33m[ WARN] [1667839929.785495929, 3443.583000000]: TF_REPEATED_DATA ignoring data with redundant timestamp for frame odom at time 3443.609000 according to authority unknown_publisher\u001b[0m\n",
      "\u001b[33m[ WARN] [1667839949.082737565, 3447.980000000]: TF_REPEATED_DATA ignoring data with redundant timestamp for frame odom at time 3448.011000 according to authority unknown_publisher\u001b[0m\n",
      "\u001b[33m[ WARN] [1667839949.084043082, 3447.980000000]: TF_REPEATED_DATA ignoring data with redundant timestamp for frame odom at time 3448.011000 according to authority /pose_integrator\u001b[0m\n",
      "\u001b[33m[ WARN] [1667839989.516530218, 3456.354000000]: TF_REPEATED_DATA ignoring data with redundant timestamp for frame odom at time 3456.403000 according to authority /pose_integrator\u001b[0m\n",
      "\u001b[33m[ WARN] [1667839989.517621661, 3456.354000000]: TF_REPEATED_DATA ignoring data with redundant timestamp for frame odom at time 3456.403000 according to authority unknown_publisher\u001b[0m\n",
      "\u001b[33m[ WARN] [1667840006.509970668, 3459.986000000]: TF_REPEATED_DATA ignoring data with redundant timestamp for frame odom at time 3460.008000 according to authority /pose_integrator\u001b[0m\n",
      "\u001b[33m[ WARN] [1667840006.510170211, 3459.986000000]: TF_REPEATED_DATA ignoring data with redundant timestamp for frame odom at time 3460.008000 according to authority unknown_publisher\u001b[0m\n",
      "\u001b[33m[ WARN] [1667840007.302377280, 3460.205000000]: TF_REPEATED_DATA ignoring data with redundant timestamp for frame odom at time 3460.205000 according to authority /pose_integrator\u001b[0m\n",
      "\u001b[33m[ WARN] [1667840007.311891154, 3460.205000000]: TF_REPEATED_DATA ignoring data with redundant timestamp for frame odom at time 3460.205000 according to authority unknown_publisher\u001b[0m\n",
      "\u001b[33m[ WARN] [1667840013.102806688, 3461.381000000]: TF_REPEATED_DATA ignoring data with redundant timestamp for frame odom at time 3461.402000 according to authority /pose_integrator\u001b[0m\n",
      "\u001b[33m[ WARN] [1667840013.105234745, 3461.397000000]: TF_REPEATED_DATA ignoring data with redundant timestamp for frame odom at time 3461.402000 according to authority unknown_publisher\u001b[0m\n",
      "\u001b[33m[ WARN] [1667840048.750425749, 3468.968000000]: TF_REPEATED_DATA ignoring data with redundant timestamp for frame odom at time 3468.989000 according to authority /pose_integrator\u001b[0m\n",
      "\u001b[33m[ WARN] [1667840048.750691183, 3468.968000000]: TF_REPEATED_DATA ignoring data with redundant timestamp for frame odom at time 3468.989000 according to authority unknown_publisher\u001b[0m\n",
      "\u001b[33m[ WARN] [1667840052.314639343, 3469.767000000]: TF_REPEATED_DATA ignoring data with redundant timestamp for frame odom at time 3469.832000 according to authority /pose_integrator\u001b[0m\n",
      "\u001b[33m[ WARN] [1667840052.316019843, 3469.767000000]: TF_REPEATED_DATA ignoring data with redundant timestamp for frame odom at time 3469.832000 according to authority unknown_publisher\u001b[0m\n",
      "\u001b[33m[ WARN] [1667840088.249480617, 3476.892000000]: TF_REPEATED_DATA ignoring data with redundant timestamp for frame odom at time 3476.938000 according to authority /pose_integrator\u001b[0m\n",
      "\u001b[33m[ WARN] [1667840088.249752503, 3476.892000000]: TF_REPEATED_DATA ignoring data with redundant timestamp for frame odom at time 3476.938000 according to authority unknown_publisher\u001b[0m\n",
      "\u001b[33m[ WARN] [1667840110.540758004, 3481.562000000]: TF_REPEATED_DATA ignoring data with redundant timestamp for frame odom at time 3481.586000 according to authority /pose_integrator\u001b[0m\n",
      "\u001b[33m[ WARN] [1667840110.541303055, 3481.562000000]: TF_REPEATED_DATA ignoring data with redundant timestamp for frame odom at time 3481.586000 according to authority unknown_publisher\u001b[0m\n",
      "\u001b[33m[ WARN] [1667840114.142399523, 3482.453000000]: TF_REPEATED_DATA ignoring data with redundant timestamp for frame odom at time 3482.497000 according to authority /pose_integrator\u001b[0m\n",
      "\u001b[33m[ WARN] [1667840114.144159163, 3482.453000000]: TF_REPEATED_DATA ignoring data with redundant timestamp for frame odom at time 3482.497000 according to authority unknown_publisher\u001b[0m\n",
      "\u001b[33m[ WARN] [1667840129.458730425, 3485.522000000]: TF_REPEATED_DATA ignoring data with redundant timestamp for frame odom at time 3485.565000 according to authority /pose_integrator\u001b[0m\n",
      "\u001b[33m[ WARN] [1667840129.459366172, 3485.522000000]: TF_REPEATED_DATA ignoring data with redundant timestamp for frame odom at time 3485.565000 according to authority unknown_publisher\u001b[0m\n",
      "\u001b[33m[ WARN] [1667840139.258723907, 3487.467000000]: TF_REPEATED_DATA ignoring data with redundant timestamp for frame odom at time 3487.495000 according to authority /pose_integrator\u001b[0m\n",
      "\u001b[33m[ WARN] [1667840139.259414575, 3487.467000000]: TF_REPEATED_DATA ignoring data with redundant timestamp for frame odom at time 3487.495000 according to authority unknown_publisher\u001b[0m\n"
     ]
    },
    {
     "name": "stderr",
     "output_type": "stream",
     "text": [
      "\u001b[33m[ WARN] [1667840140.588557680, 3487.762000000]: TF_REPEATED_DATA ignoring data with redundant timestamp for frame odom at time 3487.804000 according to authority /pose_integrator\u001b[0m\n",
      "\u001b[33m[ WARN] [1667840140.588940751, 3487.762000000]: TF_REPEATED_DATA ignoring data with redundant timestamp for frame odom at time 3487.804000 according to authority unknown_publisher\u001b[0m\n",
      "\u001b[33m[ WARN] [1667840145.712868822, 3488.859000000]: TF_REPEATED_DATA ignoring data with redundant timestamp for frame odom at time 3488.901000 according to authority /pose_integrator\u001b[0m\n",
      "\u001b[33m[ WARN] [1667840145.713241563, 3488.859000000]: TF_REPEATED_DATA ignoring data with redundant timestamp for frame odom at time 3488.901000 according to authority unknown_publisher\u001b[0m\n",
      "\u001b[33m[ WARN] [1667840152.699318934, 3490.475000000]: TF_REPEATED_DATA ignoring data with redundant timestamp for frame odom at time 3490.506000 according to authority unknown_publisher\u001b[0m\n",
      "\u001b[33m[ WARN] [1667840152.701201247, 3490.475000000]: TF_REPEATED_DATA ignoring data with redundant timestamp for frame odom at time 3490.506000 according to authority /pose_integrator\u001b[0m\n",
      "\u001b[33m[ WARN] [1667840163.751371645, 3493.027000000]: TF_REPEATED_DATA ignoring data with redundant timestamp for frame odom at time 3493.059000 according to authority unknown_publisher\u001b[0m\n",
      "\u001b[33m[ WARN] [1667840163.752498392, 3493.027000000]: TF_REPEATED_DATA ignoring data with redundant timestamp for frame odom at time 3493.059000 according to authority /pose_integrator\u001b[0m\n",
      "\u001b[33m[ WARN] [1667840168.593703494, 3494.109000000]: TF_REPEATED_DATA ignoring data with redundant timestamp for frame odom at time 3494.165000 according to authority /pose_integrator\u001b[0m\n",
      "\u001b[33m[ WARN] [1667840168.597634041, 3494.109000000]: TF_REPEATED_DATA ignoring data with redundant timestamp for frame odom at time 3494.165000 according to authority unknown_publisher\u001b[0m\n",
      "\u001b[33m[ WARN] [1667840169.294815051, 3494.259000000]: TF_REPEATED_DATA ignoring data with redundant timestamp for frame odom at time 3494.300000 according to authority /pose_integrator\u001b[0m\n",
      "\u001b[33m[ WARN] [1667840169.296019464, 3494.259000000]: TF_REPEATED_DATA ignoring data with redundant timestamp for frame odom at time 3494.300000 according to authority unknown_publisher\u001b[0m\n",
      "\u001b[33m[ WARN] [1667840195.859147415, 3500.014000000]: TF_REPEATED_DATA ignoring data with redundant timestamp for frame odom at time 3500.056000 according to authority unknown_publisher\u001b[0m\n",
      "\u001b[33m[ WARN] [1667840195.861668772, 3500.014000000]: TF_REPEATED_DATA ignoring data with redundant timestamp for frame odom at time 3500.056000 according to authority /pose_integrator\u001b[0m\n",
      "\u001b[33m[ WARN] [1667840213.911207572, 3504.817000000]: TF_REPEATED_DATA ignoring data with redundant timestamp for frame odom at time 3504.830000 according to authority /pose_integrator\u001b[0m\n",
      "\u001b[33m[ WARN] [1667840213.911303482, 3504.817000000]: TF_REPEATED_DATA ignoring data with redundant timestamp for frame odom at time 3504.830000 according to authority unknown_publisher\u001b[0m\n",
      "\u001b[33m[ WARN] [1667840223.779855403, 3507.237000000]: TF_REPEATED_DATA ignoring data with redundant timestamp for frame odom at time 3507.294000 according to authority /pose_integrator\u001b[0m\n",
      "\u001b[33m[ WARN] [1667840223.782578456, 3507.237000000]: TF_REPEATED_DATA ignoring data with redundant timestamp for frame odom at time 3507.294000 according to authority unknown_publisher\u001b[0m\n",
      "\u001b[33m[ WARN] [1667840233.341563140, 3509.545000000]: TF_REPEATED_DATA ignoring data with redundant timestamp for frame odom at time 3509.568000 according to authority /pose_integrator\u001b[0m\n",
      "\u001b[33m[ WARN] [1667840233.342039582, 3509.545000000]: TF_REPEATED_DATA ignoring data with redundant timestamp for frame odom at time 3509.568000 according to authority unknown_publisher\u001b[0m\n",
      "\u001b[33m[ WARN] [1667840237.591191286, 3510.496000000]: TF_REPEATED_DATA ignoring data with redundant timestamp for frame odom at time 3510.496000 according to authority /pose_integrator\u001b[0m\n",
      "\u001b[33m[ WARN] [1667840237.596354819, 3510.496000000]: TF_REPEATED_DATA ignoring data with redundant timestamp for frame odom at time 3510.496000 according to authority unknown_publisher\u001b[0m\n",
      "\u001b[33m[ WARN] [1667840246.505272956, 3512.459000000]: TF_REPEATED_DATA ignoring data with redundant timestamp for frame odom at time 3512.491000 according to authority unknown_publisher\u001b[0m\n",
      "\u001b[33m[ WARN] [1667840246.509387777, 3512.459000000]: TF_REPEATED_DATA ignoring data with redundant timestamp for frame odom at time 3512.491000 according to authority /pose_integrator\u001b[0m\n",
      "\u001b[33m[ WARN] [1667840259.985356511, 3515.708000000]: TF_REPEATED_DATA ignoring data with redundant timestamp for frame odom at time 3515.772000 according to authority /pose_integrator\u001b[0m\n",
      "\u001b[33m[ WARN] [1667840259.985944461, 3515.708000000]: TF_REPEATED_DATA ignoring data with redundant timestamp for frame odom at time 3515.772000 according to authority unknown_publisher\u001b[0m\n",
      "\u001b[33m[ WARN] [1667840272.319912570, 3518.526000000]: TF_REPEATED_DATA ignoring data with redundant timestamp for frame odom at time 3518.588000 according to authority unknown_publisher\u001b[0m\n",
      "\u001b[33m[ WARN] [1667840272.320549797, 3518.526000000]: TF_REPEATED_DATA ignoring data with redundant timestamp for frame odom at time 3518.588000 according to authority /pose_integrator\u001b[0m\n",
      "\u001b[33m[ WARN] [1667840293.398906341, 3523.565000000]: TF_REPEATED_DATA ignoring data with redundant timestamp for frame odom at time 3523.601000 according to authority /pose_integrator\u001b[0m\n",
      "\u001b[33m[ WARN] [1667840293.402006170, 3523.565000000]: TF_REPEATED_DATA ignoring data with redundant timestamp for frame odom at time 3523.601000 according to authority unknown_publisher\u001b[0m\n",
      "\u001b[33m[ WARN] [1667840295.125543519, 3524.001000000]: TF_REPEATED_DATA ignoring data with redundant timestamp for frame odom at time 3524.037000 according to authority /pose_integrator\u001b[0m\n",
      "\u001b[33m[ WARN] [1667840295.130772466, 3524.001000000]: TF_REPEATED_DATA ignoring data with redundant timestamp for frame odom at time 3524.037000 according to authority unknown_publisher\u001b[0m\n",
      "\u001b[33m[ WARN] [1667840315.458867098, 3528.519000000]: TF_REPEATED_DATA ignoring data with redundant timestamp for frame odom at time 3528.565000 according to authority /pose_integrator\u001b[0m\n",
      "\u001b[33m[ WARN] [1667840315.459431459, 3528.519000000]: TF_REPEATED_DATA ignoring data with redundant timestamp for frame odom at time 3528.565000 according to authority unknown_publisher\u001b[0m\n",
      "\u001b[33m[ WARN] [1667840320.783263021, 3529.941000000]: TF_REPEATED_DATA ignoring data with redundant timestamp for frame odom at time 3529.967000 according to authority /pose_integrator\u001b[0m\n",
      "\u001b[33m[ WARN] [1667840320.785837122, 3529.941000000]: TF_REPEATED_DATA ignoring data with redundant timestamp for frame odom at time 3529.967000 according to authority unknown_publisher\u001b[0m\n",
      "\u001b[33m[ WARN] [1667840340.121185866, 3533.161000000]: TF_REPEATED_DATA ignoring data with redundant timestamp for frame odom at time 3533.189000 according to authority /pose_integrator\u001b[0m\n",
      "\u001b[33m[ WARN] [1667840340.125400205, 3533.161000000]: TF_REPEATED_DATA ignoring data with redundant timestamp for frame odom at time 3533.189000 according to authority unknown_publisher\u001b[0m\n",
      "\u001b[33m[ WARN] [1667840349.694153692, 3534.763000000]: TF_REPEATED_DATA ignoring data with redundant timestamp for frame odom at time 3534.788000 according to authority /pose_integrator\u001b[0m\n",
      "\u001b[33m[ WARN] [1667840349.694957073, 3534.763000000]: TF_REPEATED_DATA ignoring data with redundant timestamp for frame odom at time 3534.788000 according to authority unknown_publisher\u001b[0m\n",
      "\u001b[33m[ WARN] [1667840365.741597422, 3537.585000000]: TF_REPEATED_DATA ignoring data with redundant timestamp for frame odom at time 3537.634000 according to authority /pose_integrator\u001b[0m\n",
      "\u001b[33m[ WARN] [1667840365.742042152, 3537.585000000]: TF_REPEATED_DATA ignoring data with redundant timestamp for frame odom at time 3537.634000 according to authority unknown_publisher\u001b[0m\n",
      "\u001b[33m[ WARN] [1667840370.038403653, 3538.486000000]: TF_REPEATED_DATA ignoring data with redundant timestamp for frame odom at time 3538.518000 according to authority /pose_integrator\u001b[0m\n",
      "\u001b[33m[ WARN] [1667840370.040103705, 3538.486000000]: TF_REPEATED_DATA ignoring data with redundant timestamp for frame odom at time 3538.518000 according to authority unknown_publisher\u001b[0m\n"
     ]
    },
    {
     "name": "stderr",
     "output_type": "stream",
     "text": [
      "\u001b[33m[ WARN] [1667840385.832100484, 3541.199000000]: TF_REPEATED_DATA ignoring data with redundant timestamp for frame odom at time 3541.227000 according to authority unknown_publisher\u001b[0m\n",
      "\u001b[33m[ WARN] [1667840385.832311591, 3541.199000000]: TF_REPEATED_DATA ignoring data with redundant timestamp for frame odom at time 3541.227000 according to authority /pose_integrator\u001b[0m\n",
      "\u001b[33m[ WARN] [1667840386.185087235, 3541.303000000]: TF_REPEATED_DATA ignoring data with redundant timestamp for frame odom at time 3541.325000 according to authority /pose_integrator\u001b[0m\n",
      "\u001b[33m[ WARN] [1667840386.186248432, 3541.303000000]: TF_REPEATED_DATA ignoring data with redundant timestamp for frame odom at time 3541.325000 according to authority unknown_publisher\u001b[0m\n",
      "\u001b[33m[ WARN] [1667840391.775830486, 3542.094000000]: TF_REPEATED_DATA ignoring data with redundant timestamp for frame odom at time 3542.135000 according to authority /pose_integrator\u001b[0m\n",
      "\u001b[33m[ WARN] [1667840391.776792650, 3542.094000000]: TF_REPEATED_DATA ignoring data with redundant timestamp for frame odom at time 3542.135000 according to authority unknown_publisher\u001b[0m\n"
     ]
    }
   ],
   "source": [
    "arm.set_named_target('neutral')\n",
    "arm.go()"
   ]
  },
  {
   "cell_type": "code",
   "execution_count": null,
   "id": "0b010585",
   "metadata": {},
   "outputs": [],
   "source": [
    "wb = moveit_commander.MoveGroupCommander('whole_body_weighted')"
   ]
  },
  {
   "cell_type": "code",
   "execution_count": null,
   "id": "37ec9cb9",
   "metadata": {},
   "outputs": [],
   "source": [
    "trans, rot = tf_man.getTF(target_frame='goal', ref_frame='odom')\n",
    "wb.set_position_target(trans)\n",
    "wb.go()"
   ]
  },
  {
   "cell_type": "code",
   "execution_count": null,
   "id": "adbd9ee2",
   "metadata": {},
   "outputs": [],
   "source": [
    "trans, _ = tf_man.getTF(target_frame='goal', ref_frame='odom')\n",
    "_, rot = tf_man.getTF(target_frame='hand_palm_link', ref_frame='odom')\n",
    "tf_man.pub_static_tf(pos=trans, rot=rot, point_name='goal', ref='odom',)"
   ]
  },
  {
   "cell_type": "code",
   "execution_count": null,
   "id": "903c7c09",
   "metadata": {},
   "outputs": [],
   "source": []
  }
 ],
 "metadata": {
  "kernelspec": {
   "display_name": "Python 3 (ipykernel)",
   "language": "python",
   "name": "python3"
  },
  "language_info": {
   "codemirror_mode": {
    "name": "ipython",
    "version": 3
   },
   "file_extension": ".py",
   "mimetype": "text/x-python",
   "name": "python",
   "nbconvert_exporter": "python",
   "pygments_lexer": "ipython3",
   "version": "3.8.10"
  }
 },
 "nbformat": 4,
 "nbformat_minor": 5
}
