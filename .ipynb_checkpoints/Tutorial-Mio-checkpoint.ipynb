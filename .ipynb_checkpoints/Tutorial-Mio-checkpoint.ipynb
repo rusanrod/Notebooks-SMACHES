{
 "cells": [
  {
   "cell_type": "code",
   "execution_count": 1,
   "id": "0c66cc59",
   "metadata": {},
   "outputs": [],
   "source": [
    "import sys\n",
    "import copy\n",
    "import rospy\n",
    "import moveit_commander\n",
    "import moveit_msgs.msg\n",
    "import geometry_msgs.msg\n",
    "from std_msgs.msg import String\n",
    "from moveit_commander.conversions import pose_to_list"
   ]
  },
  {
   "cell_type": "code",
   "execution_count": 2,
   "id": "aa1b866a",
   "metadata": {},
   "outputs": [],
   "source": [
    "import cv2 \n",
    "import tf as tf\n",
    "import tf2_ros as tf2\n",
    "import rospy\n",
    "import numpy as np\n",
    "import ros_numpy\n",
    "from std_msgs.msg import String\n",
    "from tmc_msgs.msg import Voice\n",
    "from geometry_msgs.msg import Twist, WrenchStamped, TransformStamped\n",
    "from sensor_msgs.msg import Image as ImageMsg, PointCloud2\n",
    "import tmc_control_msgs.msg\n",
    "import trajectory_msgs.msg\n",
    "class TF_MANAGER():\n",
    "    def __init__(self):\n",
    "        self._tfbuff = tf2.Buffer()\n",
    "        self._lis = tf2.TransformListener(self._tfbuff)\n",
    "        self._tf_static_broad = tf2.StaticTransformBroadcaster()\n",
    "        self._broad = tf2.TransformBroadcaster()\n",
    "\n",
    "    def _fillMsg(self, pos = [0,0,0], rot = [0,0,0,1] ,point_name ='', ref=\"map\"):\n",
    "        TS = TransformStamped()\n",
    "        TS.header.stamp = rospy.Time.now()\n",
    "        TS.header.frame_id = ref\n",
    "        TS.child_frame_id = point_name\n",
    "        TS.transform.translation.x = pos[0]\n",
    "        TS.transform.translation.y = pos[1]\n",
    "        TS.transform.translation.z = pos[2]\n",
    "        TS.transform.rotation.x = rot[0]\n",
    "        TS.transform.rotation.y = rot[1]\n",
    "        TS.transform.rotation.z = rot[2]\n",
    "        TS.transform.rotation.w = rot[3]\n",
    "        return TS\n",
    "\n",
    "    def pub_tf(self, pos = [0,0,0], rot = [0,0,0,1] ,point_name ='', ref=\"map\"):\n",
    "        dinamic_ts = self._fillMsg(pos, rot, point_name, ref)\n",
    "        self._broad.sendTransform(dinamic_ts)\n",
    "\n",
    "    def pub_static_tf(self, pos = [0,0,0], rot = [0,0,0,1] ,point_name ='', ref=\"map\"):\n",
    "        static_ts = self._fillMsg(pos, rot, point_name, ref)\n",
    "        self._tf_static_broad.sendTransform(static_ts)\n",
    "\n",
    "    def change_ref_frame_tf(self, point_name = '', new_frame = 'map'):\n",
    "        try:\n",
    "            traf = self._tfbuff.lookup_transform(new_frame, point_name, rospy.Time(0))\n",
    "            translation, rotational = self.tf2_obj_2_arr(traf)\n",
    "            self.pub_static_tf(pos = translation, rot = rotational, point_name = point_name, ref = new_frame)\n",
    "            return True\n",
    "        except:\n",
    "            return False\n",
    "\n",
    "    def getTF(self, target_frame='', ref_frame='map'):\n",
    "        try:\n",
    "            tf = self._tfbuff.lookup_transform(ref_frame, target_frame, rospy.Time(0))\n",
    "            return self.tf2_obj_2_arr(tf)\n",
    "        except:\n",
    "            return [False,False]\n",
    "\n",
    "    def tf2_obj_2_arr(self, transf):\n",
    "        pos = []\n",
    "        pos.append(transf.transform.translation.x)\n",
    "        pos.append(transf.transform.translation.y)\n",
    "        pos.append(transf.transform.translation.z)\n",
    "    \n",
    "        rot = []\n",
    "        rot.append(transf.transform.rotation.x)\n",
    "        rot.append(transf.transform.rotation.y)\n",
    "        rot.append(transf.transform.rotation.z)\n",
    "        rot.append(transf.transform.rotation.w)\n",
    "\n",
    "        return [pos, rot]\n",
    "class GRIPPER():\n",
    "    def __init__(self):\n",
    "        self._grip_cmd_pub = rospy.Publisher('/hsrb/gripper_controller/command',\n",
    "                               trajectory_msgs.msg.JointTrajectory, queue_size=100)\n",
    "        self._grip_cmd_force = rospy.Publisher('/hsrb/gripper_controller/grasp/goal',\n",
    "        \t\t\ttmc_control_msgs.msg.GripperApplyEffortActionGoal, queue_size=100)\n",
    "        \t\t\t\n",
    "        self._joint_name = \"hand_motor_joint\"\n",
    "        self._position = 0.5\n",
    "        self._velocity = 0.5\n",
    "        self._effort = 0.0\n",
    "        self._duration = 1\n",
    "\n",
    "    def _manipulate_gripper(self):\n",
    "        traj = trajectory_msgs.msg.JointTrajectory()\n",
    "        traj.joint_names = [self._joint_name]\n",
    "        p = trajectory_msgs.msg.JointTrajectoryPoint()\n",
    "        p.positions = [self._position]\n",
    "        p.velocities = [self._velocity]\n",
    "        p.accelerations = []\n",
    "        p.effort = [self._effort]\n",
    "        p.time_from_start = rospy.Duration(self._duration)\n",
    "        traj.points = [p]\n",
    "        self._grip_cmd_pub.publish(traj)\n",
    "        \n",
    "    def _apply_force(self):\n",
    "        app_force = tmc_control_msgs.msg.GripperApplyEffortActionGoal()\n",
    "        app_force.goal.effort = -0.5\n",
    "        self._grip_cmd_force.publish(app_force)\n",
    "        \n",
    "    def change_velocity(self, newVel):\n",
    "        self._velocity = newVel\n",
    "    \n",
    "    def open(self):\n",
    "        self._position = 1.23\n",
    "        self._effort = 0\n",
    "        self._manipulate_gripper()\n",
    "\n",
    "    def steady(self):\n",
    "        self._position = -0.82\n",
    "        self._effort = -0.3\n",
    "        self._manipulate_gripper()\n",
    "        \n",
    "    def close(self):\n",
    "        self._position = -0.82\n",
    "        self._effort = -0.3\n",
    "        self._manipulate_gripper()\n",
    "        self._apply_force()\n",
    "        rospy.sleep(0.8)"
   ]
  },
  {
   "cell_type": "code",
   "execution_count": 3,
   "id": "caff30c9",
   "metadata": {
    "scrolled": true
   },
   "outputs": [
    {
     "name": "stderr",
     "output_type": "stream",
     "text": [
      "\u001b[33m[ WARN] [1667830355.416283458, 3566.934000000]: Link hand_l_finger_vacuum_frame has visual geometry but no collision geometry. Collision geometry will be left empty. Fix your URDF file by explicitly specifying collision geometry.\u001b[0m\n",
      "\u001b[33m[ WARN] [1667830355.421786783, 3566.934000000]: Link head_l_stereo_camera_link has visual geometry but no collision geometry. Collision geometry will be left empty. Fix your URDF file by explicitly specifying collision geometry.\u001b[0m\n",
      "\u001b[33m[ WARN] [1667830355.422055219, 3566.934000000]: Link head_r_stereo_camera_link has visual geometry but no collision geometry. Collision geometry will be left empty. Fix your URDF file by explicitly specifying collision geometry.\u001b[0m\n",
      "\u001b[33m[ WARN] [1667830355.423192520, 3566.938000000]: Group state 'neutral' doesn't specify all group joints in group 'arm'. wrist_ft_sensor_frame_joint is missing.\u001b[0m\n",
      "\u001b[33m[ WARN] [1667830355.423242269, 3566.938000000]: Group state 'go' doesn't specify all group joints in group 'arm'. wrist_ft_sensor_frame_joint is missing.\u001b[0m\n",
      "\u001b[33m[ WARN] [1667830355.608507698, 3566.979000000]: Kinematics solver doesn't support #attempts anymore, but only a timeout.\n",
      "Please remove the parameter '/robot_description_kinematics/arm/kinematics_solver_attempts' from your configuration.\u001b[0m\n",
      "\u001b[33m[ WARN] [1667830355.673873289, 3566.984000000]: IK plugin for group 'whole_body' relies on deprecated API. Please implement initialize(RobotModel, ...).\u001b[0m\n",
      "\u001b[33m[ WARN] [1667830355.686998289, 3566.992000000]: IK plugin for group 'whole_body_weighted' relies on deprecated API. Please implement initialize(RobotModel, ...).\u001b[0m\n",
      "\u001b[33m[ WARN] [1667830355.705179639, 3566.992000000]: IK plugin for group 'whole_body_light' relies on deprecated API. Please implement initialize(RobotModel, ...).\u001b[0m\n"
     ]
    }
   ],
   "source": [
    "moveit_commander.roscpp_initialize(sys.argv)\n",
    "rospy.init_node(\"Tutorial\", anonymous=True)\n",
    "robot = moveit_commander.RobotCommander()\n",
    "scene = moveit_commander.PlanningSceneInterface()\n"
   ]
  },
  {
   "cell_type": "code",
   "execution_count": 4,
   "id": "218028c1",
   "metadata": {},
   "outputs": [
    {
     "name": "stderr",
     "output_type": "stream",
     "text": [
      "\u001b[33m[ WARN] [1667830357.445084369, 3567.465000000]: TF_REPEATED_DATA ignoring data with redundant timestamp for frame odom at time 3567.494000 according to authority unknown_publisher\u001b[0m\n"
     ]
    }
   ],
   "source": [
    "display_trajectory_publisher = rospy.Publisher(\n",
    "    \"/move_group/display_planned_path\",\n",
    "    moveit_msgs.msg.DisplayTrajectory,\n",
    "    queue_size=20,\n",
    ")"
   ]
  },
  {
   "cell_type": "code",
   "execution_count": 5,
   "id": "49a57a1a",
   "metadata": {},
   "outputs": [
    {
     "name": "stdout",
     "output_type": "stream",
     "text": [
      ">>>Available Planning Groups: ['arm', 'base', 'gripper', 'head', 'whole_body', 'whole_body_light', 'whole_body_weighted']\n",
      ">>>Printing robot state\n",
      "joint_state: \n",
      "  header: \n",
      "    seq: 0\n",
      "    stamp: \n",
      "      secs: 0\n",
      "      nsecs:         0\n",
      "    frame_id: \"odom\"\n",
      "  name: \n",
      "    - arm_lift_joint\n",
      "    - arm_flex_joint\n",
      "    - arm_roll_joint\n",
      "    - wrist_flex_joint\n",
      "    - wrist_roll_joint\n",
      "    - wrist_ft_sensor_frame_joint\n",
      "    - hand_l_proximal_joint\n",
      "    - hand_l_spring_proximal_joint\n",
      "    - hand_l_mimic_distal_joint\n",
      "    - hand_l_distal_joint\n",
      "    - hand_motor_joint\n",
      "    - hand_r_proximal_joint\n",
      "    - hand_r_spring_proximal_joint\n",
      "    - hand_r_mimic_distal_joint\n",
      "    - hand_r_distal_joint\n",
      "    - base_b_bumper_joint\n",
      "    - base_f_bumper_joint\n",
      "    - base_roll_joint\n",
      "    - base_l_drive_wheel_joint\n",
      "    - base_l_passive_wheel_x_frame_joint\n",
      "    - base_l_passive_wheel_y_frame_joint\n",
      "    - base_l_passive_wheel_z_joint\n",
      "    - base_r_drive_wheel_joint\n",
      "    - base_r_passive_wheel_x_frame_joint\n",
      "    - base_r_passive_wheel_y_frame_joint\n",
      "    - base_r_passive_wheel_z_joint\n",
      "    - torso_lift_joint\n",
      "    - head_pan_joint\n",
      "    - head_tilt_joint\n",
      "  position: [-5.547121222371398e-06, -6.300772093137397e-05, 7.3288600859200415e-06, -6.75627890958097e-05, -5.9283089957062884e-06, 0.0, -0.03770043150394731, 0.006276276706370432, -0.006276276706370432, -0.04929956849605269, -0.03770043150394731, -0.03770043150394731, 0.03533918168568562, -0.03533918168568562, -0.04929956849605269, 0.0, 0.0, 3.2982117841307e-05, 0.5096274586785636, 0.0, 0.0, 0.0, 0.4804244119525256, 0.0, 0.0, 0.0, -2.773560611185699e-06, 1.3224882055240528e-05, 0.001921899152655726]\n",
      "  velocity: []\n",
      "  effort: []\n",
      "multi_dof_joint_state: \n",
      "  header: \n",
      "    seq: 0\n",
      "    stamp: \n",
      "      secs: 0\n",
      "      nsecs:         0\n",
      "    frame_id: \"odom\"\n",
      "  joint_names: \n",
      "    - world_joint\n",
      "  transforms: \n",
      "    - \n",
      "      translation: \n",
      "        x: 0.02001970746346249\n",
      "        y: -0.0005780503343806171\n",
      "        z: 0.0\n",
      "      rotation: \n",
      "        x: 0.0\n",
      "        y: 0.0\n",
      "        z: -0.0022215455333705982\n",
      "        w: 0.999997532364677\n",
      "  twist: []\n",
      "  wrench: []\n",
      "attached_collision_objects: []\n",
      "is_diff: False\n"
     ]
    },
    {
     "name": "stderr",
     "output_type": "stream",
     "text": [
      "\u001b[33m[ WARN] [1667830361.754259373, 3568.622000000]: Joint values for monitored state are requested but the full state is not known\u001b[0m\n"
     ]
    }
   ],
   "source": [
    "# We can get a list of all the groups in the robot:\n",
    "group_names = robot.get_group_names()\n",
    "print(\">>>Available Planning Groups:\", robot.get_group_names())\n",
    "\n",
    "# Sometimes for debugging it is useful to print the entire state of the\n",
    "# robot:\n",
    "print(\">>>Printing robot state\")\n",
    "print(robot.get_current_state())\n"
   ]
  },
  {
   "cell_type": "code",
   "execution_count": 6,
   "id": "bdad739b",
   "metadata": {
    "scrolled": true
   },
   "outputs": [
    {
     "name": "stderr",
     "output_type": "stream",
     "text": [
      "\u001b[33m[ WARN] [1667830365.203044296, 3569.466000000]: TF_REPEATED_DATA ignoring data with redundant timestamp for frame odom at time 3569.492000 according to authority unknown_publisher\u001b[0m\n",
      "\u001b[33m[ WARN] [1667830375.693334122, 3572.323000000]: TF_REPEATED_DATA ignoring data with redundant timestamp for frame odom at time 3572.349000 according to authority unknown_publisher\u001b[0m\n",
      "\u001b[33m[ WARN] [1667830387.657655924, 3575.872000000]: TF_REPEATED_DATA ignoring data with redundant timestamp for frame odom at time 3575.925000 according to authority unknown_publisher\u001b[0m\n",
      "\u001b[33m[ WARN] [1667830402.789682890, 3580.214000000]: TF_REPEATED_DATA ignoring data with redundant timestamp for frame odom at time 3580.249000 according to authority unknown_publisher\u001b[0m\n",
      "\u001b[33m[ WARN] [1667830407.597949607, 3581.730000000]: TF_REPEATED_DATA ignoring data with redundant timestamp for frame odom at time 3581.765000 according to authority unknown_publisher\u001b[0m\n",
      "\u001b[33m[ WARN] [1667830415.923644207, 3584.225000000]: TF_REPEATED_DATA ignoring data with redundant timestamp for frame odom at time 3584.259000 according to authority unknown_publisher\u001b[0m\n",
      "\u001b[33m[ WARN] [1667830417.951710698, 3584.925000000]: TF_REPEATED_DATA ignoring data with redundant timestamp for frame odom at time 3584.954000 according to authority unknown_publisher\u001b[0m\n"
     ]
    }
   ],
   "source": [
    "head = moveit_commander.MoveGroupCommander('head')\n",
    "whole_body = moveit_commander.MoveGroupCommander('whole_body_light')\n",
    "# wb = moveit_commander.MoveGroupCommander('whole_body')\n",
    "# wbw = moveit_commander.MoveGroupCommander('whole_body_weighted')\n",
    "arm =  moveit_commander.MoveGroupCommander('arm')\n",
    "#gripper =  moveit_commander.MoveGroupCommander('gripper')"
   ]
  },
  {
   "cell_type": "code",
   "execution_count": 7,
   "id": "49a8415a",
   "metadata": {
    "scrolled": true
   },
   "outputs": [
    {
     "data": {
      "text/plain": [
       "[-3.305464391025027e-06,\n",
       " -6.336427916764364e-05,\n",
       " 4.094817067645806e-06,\n",
       " -7.163675448751405e-05,\n",
       " -9.190033988915047e-06,\n",
       " 0.0]"
      ]
     },
     "execution_count": 7,
     "metadata": {},
     "output_type": "execute_result"
    }
   ],
   "source": [
    "arm.get_current_joint_values()"
   ]
  },
  {
   "cell_type": "code",
   "execution_count": 8,
   "id": "b59333dc",
   "metadata": {},
   "outputs": [
    {
     "name": "stdout",
     "output_type": "stream",
     "text": [
      ">>>Planning frame: odom, odom, odom\n",
      ">>>End effector link: hand_palm_link\n"
     ]
    },
    {
     "name": "stderr",
     "output_type": "stream",
     "text": [
      "\u001b[33m[ WARN] [1667830443.565208946, 3592.236000000]: TF_REPEATED_DATA ignoring data with redundant timestamp for frame odom at time 3592.297000 according to authority unknown_publisher\u001b[0m\n"
     ]
    }
   ],
   "source": [
    "# We can get the name of the reference frame for this robot:\n",
    "arm_planning_frame = arm.get_planning_frame()\n",
    "head_planning_frame = head.get_planning_frame()\n",
    "wb_planning_frame = whole_body.get_planning_frame()\n",
    "\n",
    "print(f\">>>Planning frame: {arm_planning_frame}, {head_planning_frame}, {wb_planning_frame}\")\n",
    "\n",
    "# We can also print the name of the end-effector link for this group:\n",
    "eef_link = arm.get_end_effector_link()\n",
    "print(f\">>>End effector link: {eef_link}\")"
   ]
  },
  {
   "cell_type": "code",
   "execution_count": 10,
   "id": "19ef5f21",
   "metadata": {
    "scrolled": true
   },
   "outputs": [
    {
     "name": "stderr",
     "output_type": "stream",
     "text": [
      "\u001b[33m[ WARN] [1667830488.914485211, 3605.159000000]: TF_REPEATED_DATA ignoring data with redundant timestamp for frame odom at time 3605.206000 according to authority /pose_integrator\u001b[0m\n",
      "\u001b[33m[ WARN] [1667830488.914623371, 3605.159000000]: TF_REPEATED_DATA ignoring data with redundant timestamp for frame odom at time 3605.206000 according to authority unknown_publisher\u001b[0m\n",
      "\u001b[33m[ WARN] [1667830489.672801392, 3605.478000000]: TF_REPEATED_DATA ignoring data with redundant timestamp for frame odom at time 3605.498000 according to authority /pose_integrator\u001b[0m\n",
      "\u001b[33m[ WARN] [1667830489.674247162, 3605.478000000]: TF_REPEATED_DATA ignoring data with redundant timestamp for frame odom at time 3605.498000 according to authority unknown_publisher\u001b[0m\n",
      "\u001b[33m[ WARN] [1667830496.462313940, 3607.432000000]: TF_REPEATED_DATA ignoring data with redundant timestamp for frame odom at time 3607.477000 according to authority /pose_integrator\u001b[0m\n",
      "\u001b[33m[ WARN] [1667830496.462482760, 3607.432000000]: TF_REPEATED_DATA ignoring data with redundant timestamp for frame odom at time 3607.477000 according to authority unknown_publisher\u001b[0m\n",
      "\u001b[33m[ WARN] [1667830502.083877669, 3609.112000000]: TF_REPEATED_DATA ignoring data with redundant timestamp for frame odom at time 3609.150000 according to authority /pose_integrator\u001b[0m\n",
      "\u001b[33m[ WARN] [1667830502.086488943, 3609.112000000]: TF_REPEATED_DATA ignoring data with redundant timestamp for frame odom at time 3609.150000 according to authority unknown_publisher\u001b[0m\n",
      "\u001b[33m[ WARN] [1667830517.448146398, 3613.451000000]: TF_REPEATED_DATA ignoring data with redundant timestamp for frame odom at time 3613.471000 according to authority /pose_integrator\u001b[0m\n",
      "\u001b[33m[ WARN] [1667830517.448357149, 3613.451000000]: TF_REPEATED_DATA ignoring data with redundant timestamp for frame odom at time 3613.471000 according to authority unknown_publisher\u001b[0m\n"
     ]
    },
    {
     "data": {
      "text/plain": [
       "True"
      ]
     },
     "execution_count": 10,
     "metadata": {},
     "output_type": "execute_result"
    }
   ],
   "source": [
    "# We get the joint values from the group and change some of the values:\n",
    "joint_goal = arm.get_current_joint_values()\n",
    "joint_goal[0] = 0.0\n",
    "joint_goal[1] = 0.0\n",
    "joint_goal[2] = 0.0\n",
    "joint_goal[3] = -1.57\n",
    "joint_goal[4] = 0.0\n",
    "joint_goal[5] = 0.0\n",
    "arm.set_joint_value_target(joint_goal)\n",
    "arm.go()"
   ]
  },
  {
   "cell_type": "code",
   "execution_count": 11,
   "id": "391b8929",
   "metadata": {},
   "outputs": [],
   "source": [
    "tf_man = TF_MANAGER()"
   ]
  },
  {
   "cell_type": "code",
   "execution_count": 12,
   "id": "555bcac3",
   "metadata": {},
   "outputs": [
    {
     "name": "stdout",
     "output_type": "stream",
     "text": [
      "[0.4, 0.1, 0.8]\n"
     ]
    }
   ],
   "source": [
    "# rospy.sleep(0.5)\n",
    "_, rot = tf_man.getTF(target_frame='hand_palm_link', ref_frame='odom')\n",
    "tf_man.pub_static_tf(pos=[0.4,0.1,0.8], rot = rot, point_name='goal', ref='odom')\n",
    "trans, rot = tf_man.getTF(target_frame='goal', ref_frame='odom')\n",
    "\n",
    "print(trans)\n",
    "pose_goal = geometry_msgs.msg.Pose()\n",
    "pose_goal.orientation.w = rot[3]\n",
    "pose_goal.orientation.x = rot[0]\n",
    "pose_goal.orientation.y = rot[1]\n",
    "pose_goal.orientation.z = rot[2]\n",
    "# pose_goal.orientation.\n",
    "pose_goal.position.x = trans[0]\n",
    "pose_goal.position.y = trans[1]\n",
    "pose_goal.position.z = trans[2]\n",
    "\n",
    "whole_body.set_start_state_to_current_state()\n",
    "whole_body.set_pose_target(pose_goal)"
   ]
  },
  {
   "cell_type": "code",
   "execution_count": 13,
   "id": "6a10e59b",
   "metadata": {
    "scrolled": true
   },
   "outputs": [
    {
     "name": "stderr",
     "output_type": "stream",
     "text": [
      "\u001b[33m[ WARN] [1667830534.524051777, 3618.267000000]: TF_REPEATED_DATA ignoring data with redundant timestamp for frame odom at time 3618.309000 according to authority /pose_integrator\u001b[0m\n",
      "\u001b[33m[ WARN] [1667830534.524135343, 3618.267000000]: TF_REPEATED_DATA ignoring data with redundant timestamp for frame odom at time 3618.309000 according to authority /pose_integrator\u001b[0m\n",
      "\u001b[33m[ WARN] [1667830534.526547916, 3618.267000000]: TF_REPEATED_DATA ignoring data with redundant timestamp for frame odom at time 3618.309000 according to authority unknown_publisher\u001b[0m\n",
      "\u001b[33m[ WARN] [1667830540.993486583, 3620.101000000]: TF_REPEATED_DATA ignoring data with redundant timestamp for frame odom at time 3620.125000 according to authority /pose_integrator\u001b[0m\n",
      "\u001b[33m[ WARN] [1667830540.993578760, 3620.101000000]: TF_REPEATED_DATA ignoring data with redundant timestamp for frame odom at time 3620.125000 according to authority /pose_integrator\u001b[0m\n",
      "\u001b[33m[ WARN] [1667830540.993747414, 3620.101000000]: TF_REPEATED_DATA ignoring data with redundant timestamp for frame odom at time 3620.125000 according to authority unknown_publisher\u001b[0m\n",
      "\u001b[33m[ WARN] [1667830544.701585545, 3621.076000000]: TF_REPEATED_DATA ignoring data with redundant timestamp for frame odom at time 3621.107000 according to authority /pose_integrator\u001b[0m\n",
      "\u001b[33m[ WARN] [1667830544.701662143, 3621.076000000]: TF_REPEATED_DATA ignoring data with redundant timestamp for frame odom at time 3621.107000 according to authority /pose_integrator\u001b[0m\n",
      "\u001b[33m[ WARN] [1667830544.703023702, 3621.076000000]: TF_REPEATED_DATA ignoring data with redundant timestamp for frame odom at time 3621.107000 according to authority unknown_publisher\u001b[0m\n",
      "\u001b[33m[ WARN] [1667830570.551930179, 3628.737000000]: TF_REPEATED_DATA ignoring data with redundant timestamp for frame odom at time 3628.799000 according to authority /pose_integrator\u001b[0m\n",
      "\u001b[33m[ WARN] [1667830570.552009022, 3628.737000000]: TF_REPEATED_DATA ignoring data with redundant timestamp for frame odom at time 3628.799000 according to authority /pose_integrator\u001b[0m\n",
      "\u001b[33m[ WARN] [1667830570.552773053, 3628.799000000]: TF_REPEATED_DATA ignoring data with redundant timestamp for frame odom at time 3628.799000 according to authority unknown_publisher\u001b[0m\n",
      "\u001b[33m[ WARN] [1667830590.996865703, 3634.656000000]: TF_REPEATED_DATA ignoring data with redundant timestamp for frame odom at time 3634.700000 according to authority /pose_integrator\u001b[0m\n",
      "\u001b[33m[ WARN] [1667830590.996951395, 3634.656000000]: TF_REPEATED_DATA ignoring data with redundant timestamp for frame odom at time 3634.700000 according to authority /pose_integrator\u001b[0m\n",
      "\u001b[33m[ WARN] [1667830590.997651010, 3634.656000000]: TF_REPEATED_DATA ignoring data with redundant timestamp for frame odom at time 3634.700000 according to authority unknown_publisher\u001b[0m\n",
      "\u001b[33m[ WARN] [1667830616.938541440, 3642.289000000]: TF_REPEATED_DATA ignoring data with redundant timestamp for frame odom at time 3642.319000 according to authority /pose_integrator\u001b[0m\n",
      "\u001b[33m[ WARN] [1667830616.938623761, 3642.289000000]: TF_REPEATED_DATA ignoring data with redundant timestamp for frame odom at time 3642.319000 according to authority /pose_integrator\u001b[0m\n",
      "\u001b[33m[ WARN] [1667830616.940849055, 3642.289000000]: TF_REPEATED_DATA ignoring data with redundant timestamp for frame odom at time 3642.319000 according to authority unknown_publisher\u001b[0m\n",
      "\u001b[33m[ WARN] [1667830619.476090358, 3643.138000000]: TF_REPEATED_DATA ignoring data with redundant timestamp for frame odom at time 3643.161000 according to authority unknown_publisher\u001b[0m\n",
      "\u001b[33m[ WARN] [1667830619.476161803, 3643.138000000]: TF_REPEATED_DATA ignoring data with redundant timestamp for frame odom at time 3643.161000 according to authority /pose_integrator\u001b[0m\n",
      "\u001b[33m[ WARN] [1667830619.476217497, 3643.138000000]: TF_REPEATED_DATA ignoring data with redundant timestamp for frame odom at time 3643.161000 according to authority /pose_integrator\u001b[0m\n",
      "\u001b[33m[ WARN] [1667830627.217385678, 3645.250000000]: TF_REPEATED_DATA ignoring data with redundant timestamp for frame odom at time 3645.318000 according to authority /pose_integrator\u001b[0m\n",
      "\u001b[33m[ WARN] [1667830627.217468525, 3645.250000000]: TF_REPEATED_DATA ignoring data with redundant timestamp for frame odom at time 3645.318000 according to authority /pose_integrator\u001b[0m\n",
      "\u001b[33m[ WARN] [1667830627.217812578, 3645.250000000]: TF_REPEATED_DATA ignoring data with redundant timestamp for frame odom at time 3645.318000 according to authority unknown_publisher\u001b[0m\n",
      "\u001b[33m[ WARN] [1667830647.850790021, 3651.325000000]: TF_REPEATED_DATA ignoring data with redundant timestamp for frame odom at time 3651.373000 according to authority /pose_integrator\u001b[0m\n",
      "\u001b[33m[ WARN] [1667830647.850867075, 3651.325000000]: TF_REPEATED_DATA ignoring data with redundant timestamp for frame odom at time 3651.373000 according to authority /pose_integrator\u001b[0m\n",
      "\u001b[33m[ WARN] [1667830647.850975910, 3651.325000000]: TF_REPEATED_DATA ignoring data with redundant timestamp for frame odom at time 3651.373000 according to authority unknown_publisher\u001b[0m\n",
      "\u001b[33m[ WARN] [1667830655.913830357, 3653.454000000]: TF_REPEATED_DATA ignoring data with redundant timestamp for frame odom at time 3653.487000 according to authority /pose_integrator\u001b[0m\n",
      "\u001b[33m[ WARN] [1667830655.914029258, 3653.454000000]: TF_REPEATED_DATA ignoring data with redundant timestamp for frame odom at time 3653.487000 according to authority /pose_integrator\u001b[0m\n",
      "\u001b[33m[ WARN] [1667830655.914668588, 3653.454000000]: TF_REPEATED_DATA ignoring data with redundant timestamp for frame odom at time 3653.487000 according to authority unknown_publisher\u001b[0m\n"
     ]
    }
   ],
   "source": [
    "# `go()` returns a boolean indicating whether the planning and execution was successful.\n",
    "whole_body.go(wait=True)\n",
    "# Calling `stop()` ensures that there is no residual movement\n",
    "#whole_body.stop()\n",
    "# It is always good to clear your targets after planning with poses.\n",
    "# Note: there is no equivalent function for clear_joint_value_targets().\n",
    "whole_body.clear_pose_targets()"
   ]
  },
  {
   "cell_type": "code",
   "execution_count": 14,
   "id": "e68e3176",
   "metadata": {
    "scrolled": true
   },
   "outputs": [
    {
     "name": "stderr",
     "output_type": "stream",
     "text": [
      "\u001b[33m[ WARN] [1667830680.848158846, 3660.214000000]: TF_REPEATED_DATA ignoring data with redundant timestamp for frame odom at time 3660.262000 according to authority /pose_integrator\u001b[0m\n",
      "\u001b[33m[ WARN] [1667830680.848269685, 3660.214000000]: TF_REPEATED_DATA ignoring data with redundant timestamp for frame odom at time 3660.262000 according to authority /pose_integrator\u001b[0m\n",
      "\u001b[33m[ WARN] [1667830680.849999411, 3660.214000000]: TF_REPEATED_DATA ignoring data with redundant timestamp for frame odom at time 3660.262000 according to authority unknown_publisher\u001b[0m\n",
      "\u001b[33m[ WARN] [1667830681.907757610, 3660.593000000]: TF_REPEATED_DATA ignoring data with redundant timestamp for frame odom at time 3660.628000 according to authority /pose_integrator\u001b[0m\n",
      "\u001b[33m[ WARN] [1667830681.907831629, 3660.593000000]: TF_REPEATED_DATA ignoring data with redundant timestamp for frame odom at time 3660.628000 according to authority /pose_integrator\u001b[0m\n",
      "\u001b[33m[ WARN] [1667830681.909362870, 3660.593000000]: TF_REPEATED_DATA ignoring data with redundant timestamp for frame odom at time 3660.628000 according to authority unknown_publisher\u001b[0m\n",
      "\u001b[33m[ WARN] [1667830690.328803113, 3662.869000000]: TF_REPEATED_DATA ignoring data with redundant timestamp for frame odom at time 3662.880000 according to authority /pose_integrator\u001b[0m\n",
      "\u001b[33m[ WARN] [1667830690.328893661, 3662.869000000]: TF_REPEATED_DATA ignoring data with redundant timestamp for frame odom at time 3662.880000 according to authority /pose_integrator\u001b[0m\n",
      "\u001b[33m[ WARN] [1667830690.329512869, 3662.880000000]: TF_REPEATED_DATA ignoring data with redundant timestamp for frame odom at time 3662.880000 according to authority unknown_publisher\u001b[0m\n"
     ]
    },
    {
     "data": {
      "text/plain": [
       "True"
      ]
     },
     "execution_count": 14,
     "metadata": {},
     "output_type": "execute_result"
    },
    {
     "name": "stderr",
     "output_type": "stream",
     "text": [
      "\u001b[33m[ WARN] [1667830694.050749168, 3663.927000000]: TF_REPEATED_DATA ignoring data with redundant timestamp for frame odom at time 3663.958000 according to authority /pose_integrator\u001b[0m\n",
      "\u001b[33m[ WARN] [1667830694.050891117, 3663.927000000]: TF_REPEATED_DATA ignoring data with redundant timestamp for frame odom at time 3663.958000 according to authority /pose_integrator\u001b[0m\n",
      "\u001b[33m[ WARN] [1667830694.053842305, 3663.927000000]: TF_REPEATED_DATA ignoring data with redundant timestamp for frame odom at time 3663.958000 according to authority unknown_publisher\u001b[0m\n",
      "\u001b[33m[ WARN] [1667830694.644550411, 3664.116000000]: TF_REPEATED_DATA ignoring data with redundant timestamp for frame odom at time 3664.141000 according to authority /pose_integrator\u001b[0m\n",
      "\u001b[33m[ WARN] [1667830694.644695349, 3664.116000000]: TF_REPEATED_DATA ignoring data with redundant timestamp for frame odom at time 3664.141000 according to authority /pose_integrator\u001b[0m\n",
      "\u001b[33m[ WARN] [1667830694.644884931, 3664.116000000]: TF_REPEATED_DATA ignoring data with redundant timestamp for frame odom at time 3664.141000 according to authority unknown_publisher\u001b[0m\n",
      "\u001b[33m[ WARN] [1667830711.825676919, 3668.520000000]: TF_REPEATED_DATA ignoring data with redundant timestamp for frame odom at time 3668.540000 according to authority /pose_integrator\u001b[0m\n",
      "\u001b[33m[ WARN] [1667830711.825765174, 3668.520000000]: TF_REPEATED_DATA ignoring data with redundant timestamp for frame odom at time 3668.540000 according to authority /pose_integrator\u001b[0m\n",
      "\u001b[33m[ WARN] [1667830711.831450145, 3668.520000000]: TF_REPEATED_DATA ignoring data with redundant timestamp for frame odom at time 3668.540000 according to authority unknown_publisher\u001b[0m\n",
      "\u001b[33m[ WARN] [1667830725.229296173, 3672.174000000]: TF_REPEATED_DATA ignoring data with redundant timestamp for frame odom at time 3672.205000 according to authority /pose_integrator\u001b[0m\n",
      "\u001b[33m[ WARN] [1667830725.229371684, 3672.174000000]: TF_REPEATED_DATA ignoring data with redundant timestamp for frame odom at time 3672.205000 according to authority /pose_integrator\u001b[0m\n",
      "\u001b[33m[ WARN] [1667830725.229525071, 3672.174000000]: TF_REPEATED_DATA ignoring data with redundant timestamp for frame odom at time 3672.205000 according to authority unknown_publisher\u001b[0m\n",
      "\u001b[33m[ WARN] [1667830735.490965877, 3674.901000000]: TF_REPEATED_DATA ignoring data with redundant timestamp for frame odom at time 3674.929000 according to authority unknown_publisher\u001b[0m\n",
      "\u001b[33m[ WARN] [1667830735.491107102, 3674.901000000]: TF_REPEATED_DATA ignoring data with redundant timestamp for frame odom at time 3674.929000 according to authority /pose_integrator\u001b[0m\n",
      "\u001b[33m[ WARN] [1667830735.491161407, 3674.901000000]: TF_REPEATED_DATA ignoring data with redundant timestamp for frame odom at time 3674.929000 according to authority /pose_integrator\u001b[0m\n",
      "\u001b[33m[ WARN] [1667830738.668698370, 3675.784000000]: TF_REPEATED_DATA ignoring data with redundant timestamp for frame odom at time 3675.808000 according to authority /pose_integrator\u001b[0m\n",
      "\u001b[33m[ WARN] [1667830738.668806851, 3675.784000000]: TF_REPEATED_DATA ignoring data with redundant timestamp for frame odom at time 3675.808000 according to authority /pose_integrator\u001b[0m\n",
      "\u001b[33m[ WARN] [1667830738.669025439, 3675.784000000]: TF_REPEATED_DATA ignoring data with redundant timestamp for frame odom at time 3675.808000 according to authority unknown_publisher\u001b[0m\n"
     ]
    }
   ],
   "source": [
    "arm.set_named_target('neutral')\n",
    "arm.go()\n"
   ]
  },
  {
   "cell_type": "code",
   "execution_count": 15,
   "id": "7a6358dd",
   "metadata": {},
   "outputs": [
    {
     "name": "stdout",
     "output_type": "stream",
     "text": [
      "fraction : 100.0%\n"
     ]
    },
    {
     "name": "stderr",
     "output_type": "stream",
     "text": [
      "\u001b[33m[ WARN] [1667830798.799286517, 3692.163000000]: TF_REPEATED_DATA ignoring data with redundant timestamp for frame odom at time 3692.211000 according to authority /pose_integrator\u001b[0m\n",
      "\u001b[33m[ WARN] [1667830798.799372174, 3692.163000000]: TF_REPEATED_DATA ignoring data with redundant timestamp for frame odom at time 3692.211000 according to authority /pose_integrator\u001b[0m\n",
      "\u001b[33m[ WARN] [1667830798.799853574, 3692.163000000]: TF_REPEATED_DATA ignoring data with redundant timestamp for frame odom at time 3692.211000 according to authority unknown_publisher\u001b[0m\n"
     ]
    }
   ],
   "source": [
    "# Cartesian Paths\n",
    "waypoints = []\n",
    "scale = 1\n",
    "\n",
    "wpose = whole_body.get_current_pose().pose\n",
    "wpose.position.z -= scale * 0.1  # First move up (z)\n",
    "wpose.position.y += scale * 0.2  # and sideways (y)\n",
    "waypoints.append(copy.deepcopy(wpose))\n",
    "\n",
    "wpose.position.x += scale * 0.1  # Second move forward/backwards in (x)\n",
    "waypoints.append(copy.deepcopy(wpose))\n",
    "\n",
    "wpose.position.y -= scale * 0.1  # Third move sideways (y)\n",
    "waypoints.append(copy.deepcopy(wpose))\n",
    "\n",
    "# We want the Cartesian path to be interpolated at a resolution of 1 cm\n",
    "# which is why we will specify 0.01 as the eef_step in Cartesian\n",
    "# translation.  We will disable the jump threshold by setting it to 0.0,\n",
    "# ignoring the check for infeasible jumps in joint space, which is sufficient\n",
    "# for this tutorial.\n",
    "(plan, fraction) = whole_body.compute_cartesian_path(\n",
    "    waypoints, 0.01, 0.0  # waypoints to follow  # eef_step\n",
    ")  # jump_threshold\n",
    "\n",
    "# Note: We are just planning, not asking move_group to actually move the robot yet:\n",
    "print(f'fraction : {fraction*100}%')"
   ]
  },
  {
   "cell_type": "code",
   "execution_count": 16,
   "id": "97a67f4b",
   "metadata": {
    "scrolled": true
   },
   "outputs": [
    {
     "name": "stderr",
     "output_type": "stream",
     "text": [
      "\u001b[33m[ WARN] [1667830819.848703116, 3697.619000000]: TF_REPEATED_DATA ignoring data with redundant timestamp for frame odom at time 3697.656000 according to authority unknown_publisher\u001b[0m\n",
      "\u001b[33m[ WARN] [1667830819.851896198, 3697.619000000]: TF_REPEATED_DATA ignoring data with redundant timestamp for frame odom at time 3697.656000 according to authority /pose_integrator\u001b[0m\n",
      "\u001b[33m[ WARN] [1667830819.851972867, 3697.619000000]: TF_REPEATED_DATA ignoring data with redundant timestamp for frame odom at time 3697.656000 according to authority /pose_integrator\u001b[0m\n",
      "\u001b[33m[ WARN] [1667830825.863919725, 3699.202000000]: TF_REPEATED_DATA ignoring data with redundant timestamp for frame odom at time 3699.237000 according to authority unknown_publisher\u001b[0m\n",
      "\u001b[33m[ WARN] [1667830825.864508504, 3699.202000000]: TF_REPEATED_DATA ignoring data with redundant timestamp for frame odom at time 3699.237000 according to authority /pose_integrator\u001b[0m\n",
      "\u001b[33m[ WARN] [1667830825.864574515, 3699.202000000]: TF_REPEATED_DATA ignoring data with redundant timestamp for frame odom at time 3699.237000 according to authority /pose_integrator\u001b[0m\n",
      "\u001b[33m[ WARN] [1667830829.597524144, 3700.073000000]: TF_REPEATED_DATA ignoring data with redundant timestamp for frame odom at time 3700.092000 according to authority /pose_integrator\u001b[0m\n",
      "\u001b[33m[ WARN] [1667830829.597604851, 3700.073000000]: TF_REPEATED_DATA ignoring data with redundant timestamp for frame odom at time 3700.092000 according to authority /pose_integrator\u001b[0m\n",
      "\u001b[33m[ WARN] [1667830829.597847463, 3700.073000000]: TF_REPEATED_DATA ignoring data with redundant timestamp for frame odom at time 3700.092000 according to authority unknown_publisher\u001b[0m\n"
     ]
    }
   ],
   "source": [
    "##Display trajectory\n",
    "display_trajectory = moveit_msgs.msg.DisplayTrajectory()\n",
    "display_trajectory.trajectory_start = robot.get_current_state()\n",
    "display_trajectory.trajectory.append(plan)\n",
    "# Publish\n",
    "display_trajectory_publisher.publish(display_trajectory)"
   ]
  },
  {
   "cell_type": "code",
   "execution_count": 17,
   "id": "55d75636",
   "metadata": {
    "scrolled": true
   },
   "outputs": [
    {
     "name": "stderr",
     "output_type": "stream",
     "text": [
      "\u001b[33m[ WARN] [1667830829.802376366, 3700.169000000]: TF_REPEATED_DATA ignoring data with redundant timestamp for frame odom at time 3700.169000 according to authority /pose_integrator\u001b[0m\n",
      "\u001b[33m[ WARN] [1667830829.802516766, 3700.169000000]: TF_REPEATED_DATA ignoring data with redundant timestamp for frame odom at time 3700.169000 according to authority /pose_integrator\u001b[0m\n",
      "\u001b[33m[ WARN] [1667830829.802784434, 3700.169000000]: TF_REPEATED_DATA ignoring data with redundant timestamp for frame odom at time 3700.169000 according to authority unknown_publisher\u001b[0m\n",
      "\u001b[33m[ WARN] [1667830850.439219764, 3705.939000000]: TF_REPEATED_DATA ignoring data with redundant timestamp for frame odom at time 3705.981000 according to authority /pose_integrator\u001b[0m\n",
      "\u001b[33m[ WARN] [1667830850.439293676, 3705.939000000]: TF_REPEATED_DATA ignoring data with redundant timestamp for frame odom at time 3705.981000 according to authority /pose_integrator\u001b[0m\n",
      "\u001b[33m[ WARN] [1667830850.439545073, 3705.939000000]: TF_REPEATED_DATA ignoring data with redundant timestamp for frame odom at time 3705.981000 according to authority unknown_publisher\u001b[0m\n",
      "\u001b[33m[ WARN] [1667830856.367955255, 3707.578000000]: TF_REPEATED_DATA ignoring data with redundant timestamp for frame odom at time 3707.614000 according to authority /pose_integrator\u001b[0m\n",
      "\u001b[33m[ WARN] [1667830856.368058862, 3707.578000000]: TF_REPEATED_DATA ignoring data with redundant timestamp for frame odom at time 3707.614000 according to authority /pose_integrator\u001b[0m\n",
      "\u001b[33m[ WARN] [1667830856.368391289, 3707.578000000]: TF_REPEATED_DATA ignoring data with redundant timestamp for frame odom at time 3707.614000 according to authority unknown_publisher\u001b[0m\n",
      "\u001b[33m[ WARN] [1667830866.004670227, 3710.043000000]: TF_REPEATED_DATA ignoring data with redundant timestamp for frame odom at time 3710.063000 according to authority /pose_integrator\u001b[0m\n",
      "\u001b[33m[ WARN] [1667830866.004731111, 3710.043000000]: TF_REPEATED_DATA ignoring data with redundant timestamp for frame odom at time 3710.063000 according to authority /pose_integrator\u001b[0m\n",
      "\u001b[33m[ WARN] [1667830866.005216279, 3710.043000000]: TF_REPEATED_DATA ignoring data with redundant timestamp for frame odom at time 3710.063000 according to authority unknown_publisher\u001b[0m\n",
      "\u001b[33m[ WARN] [1667830875.402266820, 3712.625000000]: TF_REPEATED_DATA ignoring data with redundant timestamp for frame odom at time 3712.645000 according to authority /pose_integrator\u001b[0m\n",
      "\u001b[33m[ WARN] [1667830875.402361134, 3712.625000000]: TF_REPEATED_DATA ignoring data with redundant timestamp for frame odom at time 3712.645000 according to authority /pose_integrator\u001b[0m\n",
      "\u001b[33m[ WARN] [1667830875.403259550, 3712.625000000]: TF_REPEATED_DATA ignoring data with redundant timestamp for frame odom at time 3712.645000 according to authority unknown_publisher\u001b[0m\n"
     ]
    },
    {
     "data": {
      "text/plain": [
       "True"
      ]
     },
     "execution_count": 17,
     "metadata": {},
     "output_type": "execute_result"
    },
    {
     "name": "stderr",
     "output_type": "stream",
     "text": [
      "\u001b[33m[ WARN] [1667830877.612394573, 3713.180000000]: TF_REPEATED_DATA ignoring data with redundant timestamp for frame odom at time 3713.208000 according to authority unknown_publisher\u001b[0m\n",
      "\u001b[33m[ WARN] [1667830877.612642657, 3713.180000000]: TF_REPEATED_DATA ignoring data with redundant timestamp for frame odom at time 3713.208000 according to authority /pose_integrator\u001b[0m\n",
      "\u001b[33m[ WARN] [1667830877.612698861, 3713.180000000]: TF_REPEATED_DATA ignoring data with redundant timestamp for frame odom at time 3713.208000 according to authority /pose_integrator\u001b[0m\n",
      "\u001b[33m[ WARN] [1667830891.780852190, 3716.857000000]: TF_REPEATED_DATA ignoring data with redundant timestamp for frame odom at time 3716.895000 according to authority /pose_integrator\u001b[0m\n",
      "\u001b[33m[ WARN] [1667830891.780930028, 3716.857000000]: TF_REPEATED_DATA ignoring data with redundant timestamp for frame odom at time 3716.895000 according to authority /pose_integrator\u001b[0m\n",
      "\u001b[33m[ WARN] [1667830891.783855745, 3716.857000000]: TF_REPEATED_DATA ignoring data with redundant timestamp for frame odom at time 3716.895000 according to authority unknown_publisher\u001b[0m\n",
      "\u001b[33m[ WARN] [1667830897.901993381, 3718.589000000]: TF_REPEATED_DATA ignoring data with redundant timestamp for frame odom at time 3718.589000 according to authority /pose_integrator\u001b[0m\n",
      "\u001b[33m[ WARN] [1667830897.902054543, 3718.589000000]: TF_REPEATED_DATA ignoring data with redundant timestamp for frame odom at time 3718.589000 according to authority /pose_integrator\u001b[0m\n",
      "\u001b[33m[ WARN] [1667830897.903319907, 3718.589000000]: TF_REPEATED_DATA ignoring data with redundant timestamp for frame odom at time 3718.589000 according to authority unknown_publisher\u001b[0m\n",
      "\u001b[33m[ WARN] [1667830898.912855500, 3718.814000000]: TF_REPEATED_DATA ignoring data with redundant timestamp for frame odom at time 3718.857000 according to authority /pose_integrator\u001b[0m\n",
      "\u001b[33m[ WARN] [1667830898.912973088, 3718.814000000]: TF_REPEATED_DATA ignoring data with redundant timestamp for frame odom at time 3718.857000 according to authority /pose_integrator\u001b[0m\n",
      "\u001b[33m[ WARN] [1667830898.917411251, 3718.814000000]: TF_REPEATED_DATA ignoring data with redundant timestamp for frame odom at time 3718.857000 according to authority unknown_publisher\u001b[0m\n",
      "\u001b[33m[ WARN] [1667830900.668767095, 3719.383000000]: TF_REPEATED_DATA ignoring data with redundant timestamp for frame odom at time 3719.404000 according to authority /pose_integrator\u001b[0m\n",
      "\u001b[33m[ WARN] [1667830900.668847895, 3719.383000000]: TF_REPEATED_DATA ignoring data with redundant timestamp for frame odom at time 3719.404000 according to authority /pose_integrator\u001b[0m\n",
      "\u001b[33m[ WARN] [1667830900.669040190, 3719.383000000]: TF_REPEATED_DATA ignoring data with redundant timestamp for frame odom at time 3719.404000 according to authority unknown_publisher\u001b[0m\n",
      "\u001b[33m[ WARN] [1667830902.636911432, 3719.954000000]: TF_REPEATED_DATA ignoring data with redundant timestamp for frame odom at time 3719.968000 according to authority /pose_integrator\u001b[0m\n",
      "\u001b[33m[ WARN] [1667830902.636997033, 3719.954000000]: TF_REPEATED_DATA ignoring data with redundant timestamp for frame odom at time 3719.968000 according to authority /pose_integrator\u001b[0m\n",
      "\u001b[33m[ WARN] [1667830902.638996324, 3719.954000000]: TF_REPEATED_DATA ignoring data with redundant timestamp for frame odom at time 3719.968000 according to authority unknown_publisher\u001b[0m\n",
      "\u001b[33m[ WARN] [1667830911.707643424, 3722.377000000]: TF_REPEATED_DATA ignoring data with redundant timestamp for frame odom at time 3722.399000 according to authority /pose_integrator\u001b[0m\n",
      "\u001b[33m[ WARN] [1667830911.707708929, 3722.377000000]: TF_REPEATED_DATA ignoring data with redundant timestamp for frame odom at time 3722.399000 according to authority /pose_integrator\u001b[0m\n",
      "\u001b[33m[ WARN] [1667830911.708027359, 3722.377000000]: TF_REPEATED_DATA ignoring data with redundant timestamp for frame odom at time 3722.399000 according to authority unknown_publisher\u001b[0m\n",
      "\u001b[33m[ WARN] [1667830917.856934146, 3723.997000000]: TF_REPEATED_DATA ignoring data with redundant timestamp for frame odom at time 3724.033000 according to authority /pose_integrator\u001b[0m\n",
      "\u001b[33m[ WARN] [1667830917.857095847, 3723.997000000]: TF_REPEATED_DATA ignoring data with redundant timestamp for frame odom at time 3724.033000 according to authority /pose_integrator\u001b[0m\n",
      "\u001b[33m[ WARN] [1667830917.860029618, 3724.033000000]: TF_REPEATED_DATA ignoring data with redundant timestamp for frame odom at time 3724.033000 according to authority unknown_publisher\u001b[0m\n",
      "\u001b[33m[ WARN] [1667830938.347763256, 3729.703000000]: TF_REPEATED_DATA ignoring data with redundant timestamp for frame odom at time 3729.730000 according to authority unknown_publisher\u001b[0m\n",
      "\u001b[33m[ WARN] [1667830938.348410298, 3729.703000000]: TF_REPEATED_DATA ignoring data with redundant timestamp for frame odom at time 3729.730000 according to authority /pose_integrator\u001b[0m\n",
      "\u001b[33m[ WARN] [1667830938.348493160, 3729.703000000]: TF_REPEATED_DATA ignoring data with redundant timestamp for frame odom at time 3729.730000 according to authority /pose_integrator\u001b[0m\n",
      "\u001b[33m[ WARN] [1667830945.374238102, 3731.555000000]: TF_REPEATED_DATA ignoring data with redundant timestamp for frame odom at time 3731.630000 according to authority /pose_integrator\u001b[0m\n",
      "\u001b[33m[ WARN] [1667830945.374305356, 3731.555000000]: TF_REPEATED_DATA ignoring data with redundant timestamp for frame odom at time 3731.630000 according to authority /pose_integrator\u001b[0m\n",
      "\u001b[33m[ WARN] [1667830945.376635090, 3731.555000000]: TF_REPEATED_DATA ignoring data with redundant timestamp for frame odom at time 3731.630000 according to authority unknown_publisher\u001b[0m\n",
      "\u001b[33m[ WARN] [1667830952.453156195, 3733.526000000]: TF_REPEATED_DATA ignoring data with redundant timestamp for frame odom at time 3733.551000 according to authority /pose_integrator\u001b[0m\n",
      "\u001b[33m[ WARN] [1667830952.453251655, 3733.526000000]: TF_REPEATED_DATA ignoring data with redundant timestamp for frame odom at time 3733.551000 according to authority /pose_integrator\u001b[0m\n",
      "\u001b[33m[ WARN] [1667830952.454102280, 3733.526000000]: TF_REPEATED_DATA ignoring data with redundant timestamp for frame odom at time 3733.551000 according to authority unknown_publisher\u001b[0m\n",
      "\u001b[33m[ WARN] [1667830954.305236132, 3734.062000000]: TF_REPEATED_DATA ignoring data with redundant timestamp for frame odom at time 3734.105000 according to authority /pose_integrator\u001b[0m\n",
      "\u001b[33m[ WARN] [1667830954.305310470, 3734.062000000]: TF_REPEATED_DATA ignoring data with redundant timestamp for frame odom at time 3734.105000 according to authority /pose_integrator\u001b[0m\n",
      "\u001b[33m[ WARN] [1667830954.306031494, 3734.062000000]: TF_REPEATED_DATA ignoring data with redundant timestamp for frame odom at time 3734.105000 according to authority unknown_publisher\u001b[0m\n",
      "\u001b[33m[ WARN] [1667830956.381704891, 3734.730000000]: TF_REPEATED_DATA ignoring data with redundant timestamp for frame odom at time 3734.771000 according to authority /pose_integrator\u001b[0m\n",
      "\u001b[33m[ WARN] [1667830956.381804826, 3734.730000000]: TF_REPEATED_DATA ignoring data with redundant timestamp for frame odom at time 3734.771000 according to authority /pose_integrator\u001b[0m\n",
      "\u001b[33m[ WARN] [1667830956.381976974, 3734.730000000]: TF_REPEATED_DATA ignoring data with redundant timestamp for frame odom at time 3734.771000 according to authority unknown_publisher\u001b[0m\n"
     ]
    }
   ],
   "source": [
    "##Execute plan\n",
    "whole_body.execute(plan, wait=True)"
   ]
  },
  {
   "cell_type": "code",
   "execution_count": 18,
   "id": "71f554ef",
   "metadata": {
    "scrolled": true
   },
   "outputs": [
    {
     "name": "stderr",
     "output_type": "stream",
     "text": [
      "\u001b[33m[ WARN] [1667830965.121306906, 3737.126000000]: TF_REPEATED_DATA ignoring data with redundant timestamp for frame odom at time 3737.154000 according to authority /pose_integrator\u001b[0m\n",
      "\u001b[33m[ WARN] [1667830965.121491211, 3737.126000000]: TF_REPEATED_DATA ignoring data with redundant timestamp for frame odom at time 3737.154000 according to authority /pose_integrator\u001b[0m\n",
      "\u001b[33m[ WARN] [1667830965.122448793, 3737.126000000]: TF_REPEATED_DATA ignoring data with redundant timestamp for frame odom at time 3737.154000 according to authority unknown_publisher\u001b[0m\n",
      "\u001b[33m[ WARN] [1667830966.564501787, 3737.500000000]: TF_REPEATED_DATA ignoring data with redundant timestamp for frame odom at time 3737.551000 according to authority /pose_integrator\u001b[0m\n",
      "\u001b[33m[ WARN] [1667830966.564637262, 3737.500000000]: TF_REPEATED_DATA ignoring data with redundant timestamp for frame odom at time 3737.551000 according to authority /pose_integrator\u001b[0m\n",
      "\u001b[33m[ WARN] [1667830966.565868190, 3737.500000000]: TF_REPEATED_DATA ignoring data with redundant timestamp for frame odom at time 3737.551000 according to authority unknown_publisher\u001b[0m\n",
      "\u001b[33m[ WARN] [1667830986.075440492, 3742.771000000]: TF_REPEATED_DATA ignoring data with redundant timestamp for frame odom at time 3742.784000 according to authority /pose_integrator\u001b[0m\n",
      "\u001b[33m[ WARN] [1667830986.075522897, 3742.771000000]: TF_REPEATED_DATA ignoring data with redundant timestamp for frame odom at time 3742.784000 according to authority /pose_integrator\u001b[0m\n",
      "\u001b[33m[ WARN] [1667830986.076159451, 3742.784000000]: TF_REPEATED_DATA ignoring data with redundant timestamp for frame odom at time 3742.784000 according to authority unknown_publisher\u001b[0m\n",
      "\u001b[33m[ WARN] [1667831016.161474948, 3750.919000000]: TF_REPEATED_DATA ignoring data with redundant timestamp for frame odom at time 3750.942000 according to authority /pose_integrator\u001b[0m\n",
      "\u001b[33m[ WARN] [1667831016.161549364, 3750.919000000]: TF_REPEATED_DATA ignoring data with redundant timestamp for frame odom at time 3750.942000 according to authority /pose_integrator\u001b[0m\n",
      "\u001b[33m[ WARN] [1667831016.163057987, 3750.919000000]: TF_REPEATED_DATA ignoring data with redundant timestamp for frame odom at time 3750.942000 according to authority unknown_publisher\u001b[0m\n",
      "\u001b[33m[ WARN] [1667831019.821638279, 3751.873000000]: TF_REPEATED_DATA ignoring data with redundant timestamp for frame odom at time 3751.917000 according to authority /pose_integrator\u001b[0m\n",
      "\u001b[33m[ WARN] [1667831019.821712476, 3751.873000000]: TF_REPEATED_DATA ignoring data with redundant timestamp for frame odom at time 3751.917000 according to authority /pose_integrator\u001b[0m\n",
      "\u001b[33m[ WARN] [1667831019.828164009, 3751.917000000]: TF_REPEATED_DATA ignoring data with redundant timestamp for frame odom at time 3751.917000 according to authority unknown_publisher\u001b[0m\n"
     ]
    }
   ],
   "source": [
    "##Adding objects to planning scene\n",
    "box_pose = geometry_msgs.msg.PoseStamped()\n",
    "box_pose.header.frame_id = \"hand_palm_link\"\n",
    "box_pose.pose.orientation.w = 1.0\n",
    "box_pose.pose.position.z =  0.20  # below the panda_hand frame\n",
    "box_name = \"box\"\n",
    "scene.add_box(box_name, box_pose, size=(0.075, 0.05, 0.075))"
   ]
  },
  {
   "cell_type": "code",
   "execution_count": 19,
   "id": "f7bc72a6",
   "metadata": {
    "scrolled": true
   },
   "outputs": [
    {
     "name": "stderr",
     "output_type": "stream",
     "text": [
      "\u001b[33m[ WARN] [1667831027.442711868, 3754.011000000]: TF_REPEATED_DATA ignoring data with redundant timestamp for frame odom at time 3754.054000 according to authority unknown_publisher\u001b[0m\n",
      "\u001b[33m[ WARN] [1667831027.444142655, 3754.011000000]: TF_REPEATED_DATA ignoring data with redundant timestamp for frame odom at time 3754.054000 according to authority /pose_integrator\u001b[0m\n",
      "\u001b[33m[ WARN] [1667831027.444224185, 3754.011000000]: TF_REPEATED_DATA ignoring data with redundant timestamp for frame odom at time 3754.054000 according to authority /pose_integrator\u001b[0m\n"
     ]
    }
   ],
   "source": [
    "##attaching object to the gripper\n",
    "grasping_group = \"gripper\"\n",
    "touch_links = robot.get_link_names(group=grasping_group)\n",
    "scene.attach_box(eef_link, box_name, touch_links=touch_links)"
   ]
  },
  {
   "cell_type": "code",
   "execution_count": 21,
   "id": "08065dbb",
   "metadata": {
    "scrolled": true
   },
   "outputs": [
    {
     "name": "stderr",
     "output_type": "stream",
     "text": [
      "\u001b[33m[ WARN] [1667831045.404866115, 3758.638000000]: TF_REPEATED_DATA ignoring data with redundant timestamp for frame odom at time 3758.654000 according to authority unknown_publisher\u001b[0m\n",
      "\u001b[33m[ WARN] [1667831045.405865768, 3758.638000000]: TF_REPEATED_DATA ignoring data with redundant timestamp for frame odom at time 3758.654000 according to authority /pose_integrator\u001b[0m\n",
      "\u001b[33m[ WARN] [1667831045.406033317, 3758.638000000]: TF_REPEATED_DATA ignoring data with redundant timestamp for frame odom at time 3758.654000 according to authority /pose_integrator\u001b[0m\n"
     ]
    }
   ],
   "source": [
    "##Detaching objects\n",
    "# scene.remove_attached_object(eef_link, name=box_name)\n",
    "\n",
    "##Remove objects\n",
    "scene.remove_world_object(box_name)"
   ]
  },
  {
   "cell_type": "code",
   "execution_count": 22,
   "id": "a675de30",
   "metadata": {
    "scrolled": false
   },
   "outputs": [],
   "source": [
    "grip = GRIPPER()"
   ]
  },
  {
   "cell_type": "code",
   "execution_count": 23,
   "id": "a6752258",
   "metadata": {
    "scrolled": true
   },
   "outputs": [
    {
     "name": "stderr",
     "output_type": "stream",
     "text": [
      "\u001b[33m[ WARN] [1667831060.263837763, 3762.478000000]: TF_REPEATED_DATA ignoring data with redundant timestamp for frame odom at time 3762.518000 according to authority /pose_integrator\u001b[0m\n",
      "\u001b[33m[ WARN] [1667831060.263953567, 3762.478000000]: TF_REPEATED_DATA ignoring data with redundant timestamp for frame odom at time 3762.518000 according to authority /pose_integrator\u001b[0m\n",
      "\u001b[33m[ WARN] [1667831060.264853750, 3762.478000000]: TF_REPEATED_DATA ignoring data with redundant timestamp for frame odom at time 3762.518000 according to authority unknown_publisher\u001b[0m\n",
      "\u001b[33m[ WARN] [1667831084.723765994, 3769.231000000]: TF_REPEATED_DATA ignoring data with redundant timestamp for frame odom at time 3769.308000 according to authority /pose_integrator\u001b[0m\n",
      "\u001b[33m[ WARN] [1667831084.723848191, 3769.231000000]: TF_REPEATED_DATA ignoring data with redundant timestamp for frame odom at time 3769.308000 according to authority /pose_integrator\u001b[0m\n",
      "\u001b[33m[ WARN] [1667831084.724125844, 3769.231000000]: TF_REPEATED_DATA ignoring data with redundant timestamp for frame odom at time 3769.308000 according to authority unknown_publisher\u001b[0m\n",
      "\u001b[33m[ WARN] [1667831087.011657520, 3769.983000000]: TF_REPEATED_DATA ignoring data with redundant timestamp for frame odom at time 3769.983000 according to authority /pose_integrator\u001b[0m\n",
      "\u001b[33m[ WARN] [1667831087.011735143, 3769.983000000]: TF_REPEATED_DATA ignoring data with redundant timestamp for frame odom at time 3769.983000 according to authority /pose_integrator\u001b[0m\n",
      "\u001b[33m[ WARN] [1667831087.011908778, 3769.983000000]: TF_REPEATED_DATA ignoring data with redundant timestamp for frame odom at time 3769.983000 according to authority unknown_publisher\u001b[0m\n",
      "\u001b[33m[ WARN] [1667831091.224580235, 3770.989000000]: TF_REPEATED_DATA ignoring data with redundant timestamp for frame odom at time 3771.011000 according to authority unknown_publisher\u001b[0m\n",
      "\u001b[33m[ WARN] [1667831091.225453146, 3770.989000000]: TF_REPEATED_DATA ignoring data with redundant timestamp for frame odom at time 3771.011000 according to authority /pose_integrator\u001b[0m\n",
      "\u001b[33m[ WARN] [1667831091.225531423, 3770.989000000]: TF_REPEATED_DATA ignoring data with redundant timestamp for frame odom at time 3771.011000 according to authority /pose_integrator\u001b[0m\n",
      "\u001b[33m[ WARN] [1667831092.272980551, 3771.247000000]: TF_REPEATED_DATA ignoring data with redundant timestamp for frame odom at time 3771.287000 according to authority /pose_integrator\u001b[0m\n",
      "\u001b[33m[ WARN] [1667831092.273075158, 3771.247000000]: TF_REPEATED_DATA ignoring data with redundant timestamp for frame odom at time 3771.287000 according to authority /pose_integrator\u001b[0m\n",
      "\u001b[33m[ WARN] [1667831092.273874259, 3771.247000000]: TF_REPEATED_DATA ignoring data with redundant timestamp for frame odom at time 3771.287000 according to authority unknown_publisher\u001b[0m\n",
      "\u001b[33m[ WARN] [1667831119.435942643, 3778.889000000]: TF_REPEATED_DATA ignoring data with redundant timestamp for frame odom at time 3778.889000 according to authority /pose_integrator\u001b[0m\n",
      "\u001b[33m[ WARN] [1667831119.436021358, 3778.889000000]: TF_REPEATED_DATA ignoring data with redundant timestamp for frame odom at time 3778.889000 according to authority /pose_integrator\u001b[0m\n",
      "\u001b[33m[ WARN] [1667831119.436296047, 3778.889000000]: TF_REPEATED_DATA ignoring data with redundant timestamp for frame odom at time 3778.889000 according to authority unknown_publisher\u001b[0m\n",
      "\u001b[33m[ WARN] [1667831121.321344817, 3779.470000000]: TF_REPEATED_DATA ignoring data with redundant timestamp for frame odom at time 3779.531000 according to authority /pose_integrator\u001b[0m\n",
      "\u001b[33m[ WARN] [1667831121.321479115, 3779.470000000]: TF_REPEATED_DATA ignoring data with redundant timestamp for frame odom at time 3779.531000 according to authority /pose_integrator\u001b[0m\n",
      "\u001b[33m[ WARN] [1667831121.322433702, 3779.470000000]: TF_REPEATED_DATA ignoring data with redundant timestamp for frame odom at time 3779.531000 according to authority unknown_publisher\u001b[0m\n"
     ]
    }
   ],
   "source": [
    "grip.open()"
   ]
  },
  {
   "cell_type": "code",
   "execution_count": null,
   "id": "272e4032",
   "metadata": {
    "scrolled": true
   },
   "outputs": [],
   "source": [
    "arm.set_named_target('neutral')\n",
    "arm.go()"
   ]
  },
  {
   "cell_type": "code",
   "execution_count": null,
   "id": "2a6cf7df",
   "metadata": {},
   "outputs": [],
   "source": [
    "whole_body.set_num_planning_attempts(10)\n",
    "whole_body.set_planning_time(5)"
   ]
  },
  {
   "cell_type": "code",
   "execution_count": 25,
   "id": "dca8578a",
   "metadata": {},
   "outputs": [
    {
     "data": {
      "text/plain": [
       "''"
      ]
     },
     "execution_count": 25,
     "metadata": {},
     "output_type": "execute_result"
    },
    {
     "name": "stderr",
     "output_type": "stream",
     "text": [
      "\u001b[33m[ WARN] [1667831172.238001800, 3793.409000000]: TF_REPEATED_DATA ignoring data with redundant timestamp for frame odom at time 3793.450000 according to authority unknown_publisher\u001b[0m\n",
      "\u001b[33m[ WARN] [1667831172.238105419, 3793.409000000]: TF_REPEATED_DATA ignoring data with redundant timestamp for frame odom at time 3793.450000 according to authority /pose_integrator\u001b[0m\n",
      "\u001b[33m[ WARN] [1667831172.238181440, 3793.409000000]: TF_REPEATED_DATA ignoring data with redundant timestamp for frame odom at time 3793.450000 according to authority /pose_integrator\u001b[0m\n",
      "\u001b[33m[ WARN] [1667831189.630263775, 3798.313000000]: TF_REPEATED_DATA ignoring data with redundant timestamp for frame odom at time 3798.369000 according to authority unknown_publisher\u001b[0m\n",
      "\u001b[33m[ WARN] [1667831189.630860648, 3798.369000000]: TF_REPEATED_DATA ignoring data with redundant timestamp for frame odom at time 3798.369000 according to authority /pose_integrator\u001b[0m\n",
      "\u001b[33m[ WARN] [1667831189.631005252, 3798.369000000]: TF_REPEATED_DATA ignoring data with redundant timestamp for frame odom at time 3798.369000 according to authority /pose_integrator\u001b[0m\n",
      "\u001b[33m[ WARN] [1667831201.785894913, 3801.811000000]: TF_REPEATED_DATA ignoring data with redundant timestamp for frame odom at time 3801.841000 according to authority /pose_integrator\u001b[0m\n",
      "\u001b[33m[ WARN] [1667831201.785969674, 3801.811000000]: TF_REPEATED_DATA ignoring data with redundant timestamp for frame odom at time 3801.841000 according to authority /pose_integrator\u001b[0m\n",
      "\u001b[33m[ WARN] [1667831201.787667188, 3801.811000000]: TF_REPEATED_DATA ignoring data with redundant timestamp for frame odom at time 3801.841000 according to authority unknown_publisher\u001b[0m\n"
     ]
    }
   ],
   "source": []
  },
  {
   "cell_type": "code",
   "execution_count": null,
   "id": "f787e467",
   "metadata": {},
   "outputs": [],
   "source": [
    "# Cartesian Paths\n",
    "waypoints = []\n",
    "scale = 1\n",
    "\n",
    "wpose = whole_body.get_current_pose().pose\n",
    "wpose.position.x += scale * 0.2  # First move up (z)\n",
    "# wpose.position.y += scale * 0.2  # and sideways (y)\n",
    "waypoints.append(copy.deepcopy(wpose))\n",
    "\n",
    "# wpose.position.x += scale * 0.1  # Second move forward/backwards in (x)\n",
    "# waypoints.append(copy.deepcopy(wpose))\n",
    "\n",
    "# wpose.position.y -= scale * 0.1  # Third move sideways (y)\n",
    "# waypoints.append(copy.deepcopy(wpose))\n",
    "\n",
    "# We want the Cartesian path to be interpolated at a resolution of 1 cm\n",
    "# which is why we will specify 0.01 as the eef_step in Cartesian\n",
    "# translation.  We will disable the jump threshold by setting it to 0.0,\n",
    "# ignoring the check for infeasible jumps in joint space, which is sufficient\n",
    "# for this tutorial.\n",
    "(plan, fraction) = whole_body.compute_cartesian_path(\n",
    "    waypoints, 0.01, 0.0  # waypoints to follow  # eef_step\n",
    ")  # jump_threshold\n",
    "\n",
    "# Note: We are just planning, not asking move_group to actually move the robot yet:\n",
    "print(f'fraction : {fraction*100}%')"
   ]
  },
  {
   "cell_type": "code",
   "execution_count": 26,
   "id": "477ae714",
   "metadata": {},
   "outputs": [],
   "source": [
    "# trans, rot  = tf_man.getTF(target_frame='hand_palm_link',ref_frame='odom')\n",
    "tf_man.pub_static_tf(point_name='grasp', ref='hand_palm_link', pos=[-0.1,0,0])"
   ]
  },
  {
   "cell_type": "code",
   "execution_count": 27,
   "id": "ab1af5fd",
   "metadata": {},
   "outputs": [
    {
     "data": {
      "text/plain": [
       "True"
      ]
     },
     "execution_count": 27,
     "metadata": {},
     "output_type": "execute_result"
    }
   ],
   "source": [
    "tf_man.change_ref_frame_tf(point_name='grasp',new_frame='odom')"
   ]
  },
  {
   "cell_type": "code",
   "execution_count": 28,
   "id": "f21f3dd3",
   "metadata": {
    "scrolled": true
   },
   "outputs": [
    {
     "name": "stderr",
     "output_type": "stream",
     "text": [
      "\u001b[33m[ WARN] [1667831241.824948703, 3812.816000000]: TF_REPEATED_DATA ignoring data with redundant timestamp for frame odom at time 3812.832000 according to authority unknown_publisher\u001b[0m\n",
      "\u001b[33m[ WARN] [1667831241.826437239, 3812.816000000]: TF_REPEATED_DATA ignoring data with redundant timestamp for frame odom at time 3812.832000 according to authority /pose_integrator\u001b[0m\n",
      "\u001b[33m[ WARN] [1667831241.838474978, 3812.832000000]: TF_REPEATED_DATA ignoring data with redundant timestamp for frame odom at time 3812.832000 according to authority /pose_integrator\u001b[0m\n",
      "\u001b[33m[ WARN] [1667831251.309533960, 3815.413000000]: TF_REPEATED_DATA ignoring data with redundant timestamp for frame odom at time 3815.463000 according to authority unknown_publisher\u001b[0m\n",
      "\u001b[33m[ WARN] [1667831251.309863689, 3815.413000000]: TF_REPEATED_DATA ignoring data with redundant timestamp for frame odom at time 3815.463000 according to authority /pose_integrator\u001b[0m\n",
      "\u001b[33m[ WARN] [1667831251.309985398, 3815.413000000]: TF_REPEATED_DATA ignoring data with redundant timestamp for frame odom at time 3815.463000 according to authority /pose_integrator\u001b[0m\n",
      "\u001b[33m[ WARN] [1667831259.941320183, 3817.738000000]: TF_REPEATED_DATA ignoring data with redundant timestamp for frame odom at time 3817.787000 according to authority /pose_integrator\u001b[0m\n",
      "\u001b[33m[ WARN] [1667831259.941443250, 3817.738000000]: TF_REPEATED_DATA ignoring data with redundant timestamp for frame odom at time 3817.787000 according to authority /pose_integrator\u001b[0m\n",
      "\u001b[33m[ WARN] [1667831259.945393313, 3817.738000000]: TF_REPEATED_DATA ignoring data with redundant timestamp for frame odom at time 3817.787000 according to authority unknown_publisher\u001b[0m\n",
      "\u001b[33m[ WARN] [1667831283.350333805, 3823.747000000]: TF_REPEATED_DATA ignoring data with redundant timestamp for frame odom at time 3823.790000 according to authority unknown_publisher\u001b[0m\n",
      "\u001b[33m[ WARN] [1667831283.352543419, 3823.747000000]: TF_REPEATED_DATA ignoring data with redundant timestamp for frame odom at time 3823.790000 according to authority /pose_integrator\u001b[0m\n",
      "\u001b[33m[ WARN] [1667831283.352609227, 3823.747000000]: TF_REPEATED_DATA ignoring data with redundant timestamp for frame odom at time 3823.790000 according to authority /pose_integrator\u001b[0m\n",
      "\u001b[33m[ WARN] [1667831295.904899661, 3827.162000000]: TF_REPEATED_DATA ignoring data with redundant timestamp for frame odom at time 3827.178000 according to authority unknown_publisher\u001b[0m\n",
      "\u001b[33m[ WARN] [1667831295.906149314, 3827.162000000]: TF_REPEATED_DATA ignoring data with redundant timestamp for frame odom at time 3827.178000 according to authority /pose_integrator\u001b[0m\n",
      "\u001b[33m[ WARN] [1667831295.906212493, 3827.162000000]: TF_REPEATED_DATA ignoring data with redundant timestamp for frame odom at time 3827.178000 according to authority /pose_integrator\u001b[0m\n"
     ]
    },
    {
     "data": {
      "text/plain": [
       "True"
      ]
     },
     "execution_count": 28,
     "metadata": {},
     "output_type": "execute_result"
    }
   ],
   "source": [
    "trans, rot = tf_man.getTF(target_frame='grasp', ref_frame='odom')\n",
    "pose_goal = geometry_msgs.msg.Pose()\n",
    "pose_goal.orientation.w = rot[3]\n",
    "pose_goal.orientation.x = rot[0]\n",
    "pose_goal.orientation.y = rot[1]\n",
    "pose_goal.orientation.z = rot[2]\n",
    "# pose_goal.orientation.\n",
    "pose_goal.position.x = trans[0]\n",
    "pose_goal.position.y = trans[1]\n",
    "pose_goal.position.z = trans[2]\n",
    "\n",
    "whole_body.set_start_state_to_current_state()\n",
    "whole_body.set_pose_target(pose_goal)\n",
    "whole_body.go()"
   ]
  },
  {
   "cell_type": "code",
   "execution_count": null,
   "id": "f323dec0",
   "metadata": {
    "scrolled": true
   },
   "outputs": [],
   "source": [
    "arm.set_named_target('neutral')\n",
    "arm.go()"
   ]
  },
  {
   "cell_type": "code",
   "execution_count": null,
   "id": "0b010585",
   "metadata": {},
   "outputs": [],
   "source": [
    "wb = moveit_commander.MoveGroupCommander('whole_body_weighted')"
   ]
  },
  {
   "cell_type": "code",
   "execution_count": null,
   "id": "37ec9cb9",
   "metadata": {},
   "outputs": [],
   "source": [
    "trans, rot = tf_man.getTF(target_frame='goal', ref_frame='odom')\n",
    "wb.set_position_target(trans)\n",
    "wb.go()"
   ]
  },
  {
   "cell_type": "code",
   "execution_count": null,
   "id": "adbd9ee2",
   "metadata": {},
   "outputs": [],
   "source": [
    "trans, _ = tf_man.getTF(target_frame='goal', ref_frame='odom')\n",
    "_, rot = tf_man.getTF(target_frame='hand_palm_link', ref_frame='odom')\n",
    "tf_man.pub_static_tf(pos=trans, rot=rot, point_name='goal', ref='odom',)"
   ]
  },
  {
   "cell_type": "code",
   "execution_count": null,
   "id": "903c7c09",
   "metadata": {},
   "outputs": [],
   "source": []
  }
 ],
 "metadata": {
  "kernelspec": {
   "display_name": "Python 3 (ipykernel)",
   "language": "python",
   "name": "python3"
  },
  "language_info": {
   "codemirror_mode": {
    "name": "ipython",
    "version": 3
   },
   "file_extension": ".py",
   "mimetype": "text/x-python",
   "name": "python",
   "nbconvert_exporter": "python",
   "pygments_lexer": "ipython3",
   "version": "3.8.10"
  }
 },
 "nbformat": 4,
 "nbformat_minor": 5
}
