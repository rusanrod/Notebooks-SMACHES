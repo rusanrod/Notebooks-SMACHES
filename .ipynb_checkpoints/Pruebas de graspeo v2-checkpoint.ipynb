{
 "cells": [
  {
   "cell_type": "code",
   "execution_count": 1,
   "id": "b04a278d",
   "metadata": {},
   "outputs": [],
   "source": [
    "#!/usr/bin/env python3\n",
    "import sys\n",
    "import smach\n",
    "import rospy\n",
    "import cv2 as cv\n",
    "import numpy as np\n",
    "from std_srvs.srv import Empty\n",
    "import moveit_commander\n",
    "import moveit_msgs.msg\n",
    "import tf2_ros as tf2\n",
    "from tf2_sensor_msgs.tf2_sensor_msgs import do_transform_cloud\n",
    "from utils_takeshi import *\n",
    "from grasp_utils import *"
   ]
  },
  {
   "cell_type": "code",
   "execution_count": 2,
   "id": "d3e23c1d",
   "metadata": {
    "scrolled": true
   },
   "outputs": [
    {
     "name": "stderr",
     "output_type": "stream",
     "text": [
      "\u001b[33m[ WARN] [1666232180.869580050, 2532.536000000]: Link hand_l_finger_vacuum_frame has visual geometry but no collision geometry. Collision geometry will be left empty. Fix your URDF file by explicitly specifying collision geometry.\u001b[0m\n",
      "\u001b[33m[ WARN] [1666232180.881511077, 2532.537000000]: Link head_l_stereo_camera_link has visual geometry but no collision geometry. Collision geometry will be left empty. Fix your URDF file by explicitly specifying collision geometry.\u001b[0m\n",
      "\u001b[33m[ WARN] [1666232180.881949762, 2532.537000000]: Link head_r_stereo_camera_link has visual geometry but no collision geometry. Collision geometry will be left empty. Fix your URDF file by explicitly specifying collision geometry.\u001b[0m\n",
      "\u001b[33m[ WARN] [1666232180.885782642, 2532.537000000]: Group state 'neutral' doesn't specify all group joints in group 'arm'. wrist_ft_sensor_frame_joint is missing.\u001b[0m\n",
      "\u001b[33m[ WARN] [1666232180.886320979, 2532.537000000]: Group state 'go' doesn't specify all group joints in group 'arm'. wrist_ft_sensor_frame_joint is missing.\u001b[0m\n",
      "\u001b[33m[ WARN] [1666232181.099362386, 2532.537000000]: Kinematics solver doesn't support #attempts anymore, but only a timeout.\n",
      "Please remove the parameter '/robot_description_kinematics/arm/kinematics_solver_attempts' from your configuration.\u001b[0m\n",
      "\u001b[33m[ WARN] [1666232181.209063402, 2532.537000000]: IK plugin for group 'whole_body' relies on deprecated API. Please implement initialize(RobotModel, ...).\u001b[0m\n",
      "\u001b[33m[ WARN] [1666232181.229380153, 2532.537000000]: IK plugin for group 'whole_body_weighted' relies on deprecated API. Please implement initialize(RobotModel, ...).\u001b[0m\n",
      "\u001b[33m[ WARN] [1666232181.246218901, 2532.537000000]: IK plugin for group 'whole_body_light' relies on deprecated API. Please implement initialize(RobotModel, ...).\u001b[0m\n",
      "\u001b[33m[ WARN] [1666232220.419657236, 2537.954000000]: TF_REPEATED_DATA ignoring data with redundant timestamp for frame odom at time 2537.999000 according to authority unknown_publisher\u001b[0m\n",
      "\u001b[33m[ WARN] [1666232222.603304091, 2538.253000000]: TF_REPEATED_DATA ignoring data with redundant timestamp for frame odom at time 2538.334000 according to authority unknown_publisher\u001b[0m\n",
      "\u001b[33m[ WARN] [1666232259.278833420, 2543.206000000]: TF_REPEATED_DATA ignoring data with redundant timestamp for frame odom at time 2543.239000 according to authority unknown_publisher\u001b[0m\n",
      "\u001b[33m[ WARN] [1666232287.843898110, 2547.005000000]: TF_REPEATED_DATA ignoring data with redundant timestamp for frame odom at time 2547.035000 according to authority unknown_publisher\u001b[0m\n",
      "\u001b[33m[ WARN] [1666232303.308940767, 2549.009000000]: TF_REPEATED_DATA ignoring data with redundant timestamp for frame odom at time 2549.026000 according to authority /pose_integrator\u001b[0m\n",
      "\u001b[33m[ WARN] [1666232303.309047105, 2549.009000000]: TF_REPEATED_DATA ignoring data with redundant timestamp for frame odom at time 2549.026000 according to authority /pose_integrator\u001b[0m\n",
      "\u001b[33m[ WARN] [1666232303.310411871, 2549.009000000]: TF_REPEATED_DATA ignoring data with redundant timestamp for frame odom at time 2549.026000 according to authority unknown_publisher\u001b[0m\n",
      "\u001b[33m[ WARN] [1666232307.218202446, 2549.630000000]: TF_REPEATED_DATA ignoring data with redundant timestamp for frame odom at time 2549.630000 according to authority /pose_integrator\u001b[0m\n",
      "\u001b[33m[ WARN] [1666232307.218283131, 2549.630000000]: TF_REPEATED_DATA ignoring data with redundant timestamp for frame odom at time 2549.630000 according to authority /pose_integrator\u001b[0m\n",
      "\u001b[33m[ WARN] [1666232307.221289899, 2549.630000000]: TF_REPEATED_DATA ignoring data with redundant timestamp for frame odom at time 2549.630000 according to authority unknown_publisher\u001b[0m\n"
     ]
    }
   ],
   "source": [
    "    global head, whole_body, arm, tfbuff, lis, broad, tf_static_broad, gaze\n",
    "    global rgbd, hand_cam, wrist, gripper, grasp_base, clear_octo_client, service_client, AR_starter, AR_stopper\n",
    "\n",
    "    moveit_commander.roscpp_initialize(sys.argv)\n",
    "    rospy.init_node('Pruebas_de_placeo_v2')\n",
    "    head = moveit_commander.MoveGroupCommander('head')\n",
    "    whole_body = moveit_commander.MoveGroupCommander('whole_body_light')\n",
    "    arm =  moveit_commander.MoveGroupCommander('arm')\n",
    "    \n",
    "    tfbuff = tf2.Buffer()\n",
    "    lis = tf2.TransformListener(tfbuff)\n",
    "    \n",
    "    broad = tf2.TransformBroadcaster()\n",
    "    whole_body.set_workspace([-6.0, -6.0, 6.0, 6.0]) \n",
    "    \n",
    "    tf_man = TF_MANAGER()\n",
    "    rgbd = RGBD()\n",
    "    hand_cam = HAND_RGB()\n",
    "    wrist = WRIST_SENSOR()\n",
    "    gripper = GRIPPER()\n",
    "    grasp_base = OMNIBASE()\n",
    "    gaze = GAZE()\n",
    "\n",
    "    clear_octo_client = rospy.ServiceProxy('/clear_octomap', Empty)\n",
    "    AR_starter = rospy.ServiceProxy('/marker/start_recognition',Empty)\n",
    "    AR_stopper = rospy.ServiceProxy('/marker/stop_recognition',Empty)\n",
    "    \n",
    "    head.set_planning_time(0.3)\n",
    "    head.set_num_planning_attempts(1)"
   ]
  },
  {
   "cell_type": "code",
   "execution_count": 3,
   "id": "ac2f79dc",
   "metadata": {
    "scrolled": true
   },
   "outputs": [
    {
     "name": "stderr",
     "output_type": "stream",
     "text": [
      "\u001b[33m[ WARN] [1666232314.045005392, 2550.497000000]: TF_REPEATED_DATA ignoring data with redundant timestamp for frame odom at time 2550.540000 according to authority unknown_publisher\u001b[0m\n",
      "\u001b[33m[ WARN] [1666232314.045323026, 2550.497000000]: TF_REPEATED_DATA ignoring data with redundant timestamp for frame odom at time 2550.540000 according to authority /pose_integrator\u001b[0m\n",
      "\u001b[33m[ WARN] [1666232314.045375275, 2550.497000000]: TF_REPEATED_DATA ignoring data with redundant timestamp for frame odom at time 2550.540000 according to authority /pose_integrator\u001b[0m\n",
      "\u001b[33m[ WARN] [1666232336.057329307, 2553.906000000]: TF_REPEATED_DATA ignoring data with redundant timestamp for frame odom at time 2553.928000 according to authority /pose_integrator\u001b[0m\n",
      "\u001b[33m[ WARN] [1666232336.057479498, 2553.906000000]: TF_REPEATED_DATA ignoring data with redundant timestamp for frame odom at time 2553.928000 according to authority /pose_integrator\u001b[0m\n",
      "\u001b[33m[ WARN] [1666232336.069063171, 2553.906000000]: TF_REPEATED_DATA ignoring data with redundant timestamp for frame odom at time 2553.928000 according to authority unknown_publisher\u001b[0m\n",
      "\u001b[33m[ WARN] [1666232341.931954451, 2554.685000000]: TF_REPEATED_DATA ignoring data with redundant timestamp for frame odom at time 2554.718000 according to authority /pose_integrator\u001b[0m\n",
      "\u001b[33m[ WARN] [1666232341.932102674, 2554.685000000]: TF_REPEATED_DATA ignoring data with redundant timestamp for frame odom at time 2554.718000 according to authority /pose_integrator\u001b[0m\n",
      "\u001b[33m[ WARN] [1666232341.932497180, 2554.685000000]: TF_REPEATED_DATA ignoring data with redundant timestamp for frame odom at time 2554.718000 according to authority unknown_publisher\u001b[0m\n",
      "\u001b[33m[ WARN] [1666232352.264131726, 2556.433000000]: TF_REPEATED_DATA ignoring data with redundant timestamp for frame odom at time 2556.503000 according to authority /pose_integrator\u001b[0m\n",
      "\u001b[33m[ WARN] [1666232352.264209427, 2556.433000000]: TF_REPEATED_DATA ignoring data with redundant timestamp for frame odom at time 2556.503000 according to authority /pose_integrator\u001b[0m\n",
      "\u001b[33m[ WARN] [1666232352.264776317, 2556.433000000]: TF_REPEATED_DATA ignoring data with redundant timestamp for frame odom at time 2556.503000 according to authority unknown_publisher\u001b[0m\n",
      "\u001b[33m[ WARN] [1666232354.423723974, 2556.861000000]: TF_REPEATED_DATA ignoring data with redundant timestamp for frame odom at time 2556.882000 according to authority /pose_integrator\u001b[0m\n",
      "\u001b[33m[ WARN] [1666232354.423843171, 2556.861000000]: TF_REPEATED_DATA ignoring data with redundant timestamp for frame odom at time 2556.882000 according to authority /pose_integrator\u001b[0m\n",
      "\u001b[33m[ WARN] [1666232354.423914317, 2556.861000000]: TF_REPEATED_DATA ignoring data with redundant timestamp for frame odom at time 2556.882000 according to authority unknown_publisher\u001b[0m\n",
      "\u001b[33m[ WARN] [1666232357.458360064, 2557.280000000]: TF_REPEATED_DATA ignoring data with redundant timestamp for frame odom at time 2557.324000 according to authority unknown_publisher\u001b[0m\n",
      "\u001b[33m[ WARN] [1666232357.459282194, 2557.280000000]: TF_REPEATED_DATA ignoring data with redundant timestamp for frame odom at time 2557.324000 according to authority /pose_integrator\u001b[0m\n",
      "\u001b[33m[ WARN] [1666232357.459379692, 2557.280000000]: TF_REPEATED_DATA ignoring data with redundant timestamp for frame odom at time 2557.324000 according to authority /pose_integrator\u001b[0m\n",
      "\u001b[33m[ WARN] [1666232359.905646589, 2557.694000000]: TF_REPEATED_DATA ignoring data with redundant timestamp for frame odom at time 2557.728000 according to authority /pose_integrator\u001b[0m\n",
      "\u001b[33m[ WARN] [1666232359.905810937, 2557.694000000]: TF_REPEATED_DATA ignoring data with redundant timestamp for frame odom at time 2557.728000 according to authority /pose_integrator\u001b[0m\n",
      "\u001b[33m[ WARN] [1666232359.906277123, 2557.694000000]: TF_REPEATED_DATA ignoring data with redundant timestamp for frame odom at time 2557.728000 according to authority unknown_publisher\u001b[0m\n",
      "\u001b[33m[ WARN] [1666232384.242918407, 2561.413000000]: TF_REPEATED_DATA ignoring data with redundant timestamp for frame odom at time 2561.464000 according to authority /pose_integrator\u001b[0m\n",
      "\u001b[33m[ WARN] [1666232384.243251503, 2561.413000000]: TF_REPEATED_DATA ignoring data with redundant timestamp for frame odom at time 2561.464000 according to authority /pose_integrator\u001b[0m\n",
      "\u001b[33m[ WARN] [1666232384.243875645, 2561.413000000]: TF_REPEATED_DATA ignoring data with redundant timestamp for frame odom at time 2561.464000 according to authority unknown_publisher\u001b[0m\n",
      "\u001b[33m[ WARN] [1666232409.350605033, 2565.278000000]: TF_REPEATED_DATA ignoring data with redundant timestamp for frame odom at time 2565.320000 according to authority /pose_integrator\u001b[0m\n",
      "\u001b[33m[ WARN] [1666232409.350792010, 2565.278000000]: TF_REPEATED_DATA ignoring data with redundant timestamp for frame odom at time 2565.320000 according to authority /pose_integrator\u001b[0m\n",
      "\u001b[33m[ WARN] [1666232409.351823070, 2565.278000000]: TF_REPEATED_DATA ignoring data with redundant timestamp for frame odom at time 2565.320000 according to authority unknown_publisher\u001b[0m\n",
      "\u001b[33m[ WARN] [1666232428.294882817, 2568.191000000]: TF_REPEATED_DATA ignoring data with redundant timestamp for frame odom at time 2568.223000 according to authority unknown_publisher\u001b[0m\n",
      "\u001b[33m[ WARN] [1666232428.295805125, 2568.191000000]: TF_REPEATED_DATA ignoring data with redundant timestamp for frame odom at time 2568.223000 according to authority /pose_integrator\u001b[0m\n",
      "\u001b[33m[ WARN] [1666232428.295894958, 2568.191000000]: TF_REPEATED_DATA ignoring data with redundant timestamp for frame odom at time 2568.223000 according to authority /pose_integrator\u001b[0m\n"
     ]
    }
   ],
   "source": [
    "        # State initial\n",
    "        try:\n",
    "            clear_octo_client()\n",
    "        except:\n",
    "            print('cant clear octomap')\n",
    "        AR_stopper.call()\n",
    "        #Takeshi neutral\n",
    "        arm.set_named_target('go')\n",
    "        arm.go()\n",
    "        gripper.steady()\n",
    "        head.set_named_target('neutral')\n",
    "        succ = head.go()\n",
    "#         if succ:\n",
    "#             return 'succ'\n",
    "#         else:\n",
    "#             return 'failed'"
   ]
  },
  {
   "cell_type": "code",
   "execution_count": 6,
   "id": "e4d82a5e",
   "metadata": {},
   "outputs": [
    {
     "name": "stdout",
     "output_type": "stream",
     "text": [
      "0.026026329476792787\n"
     ]
    },
    {
     "ename": "SyntaxError",
     "evalue": "'return' outside function (2600629359.py, line 48)",
     "output_type": "error",
     "traceback": [
      "\u001b[0;36m  Input \u001b[0;32mIn [6]\u001b[0;36m\u001b[0m\n\u001b[0;31m    return 'succ'\u001b[0m\n\u001b[0m    ^\u001b[0m\n\u001b[0;31mSyntaxError\u001b[0m\u001b[0;31m:\u001b[0m 'return' outside function\n"
     ]
    }
   ],
   "source": [
    "        # State Find AR marker\n",
    "        try:\n",
    "            AR_starter.call()\n",
    "            clear_octo_client()\n",
    "        except:\n",
    "            print('cant clear octomap')\n",
    "        #Takeshi looks for AR marker\n",
    "        \n",
    "        rospy.sleep(0.1)\n",
    "        hcp = head.get_current_joint_values()\n",
    "        hcp[0] = 0.5\n",
    "        hcp[1] = -0.2\n",
    "        head.set_joint_value_target(hcp)\n",
    "        head.go()\n",
    "        succ = False\n",
    "        flag = True\n",
    "#         talk(\"I am going to find any AR marker\")\n",
    "        rospy.sleep(0.3)\n",
    "        t = tfbuff.lookup_transform('base_link', 'ar_marker/201', rospy.Time(0) )\n",
    "        rospy.sleep(0.3)\n",
    "        trans, rot = tf2_obj_2_arr(t)\n",
    "        publish_point_tf(trans, rot, 'AR', ref = 'map')\n",
    "        hcp = [0.0,0.0]\n",
    "        head.set_joint_value_target(hcp)\n",
    "        head.go()\n",
    "        while not succ:\n",
    "            try:\n",
    "                t = tfbuff.lookup_transform('base_link', 'Point AR', rospy.Time(0) )\n",
    "                rospy.sleep(0.3)\n",
    "                trans, rot = tf2_obj_2_arr(t)\n",
    "                distanceX = trans[0]\n",
    "                \n",
    "                print(distanceX)\n",
    "#                 flag = not flag\n",
    "#                 if distanceX < 0.60 and distanceX > 0.55 and flag:\n",
    "#                     hcp = head.get_current_joint_values()\n",
    "#                     hcp[0] += 0.4\n",
    "#                     hcp[1] = -0.2\n",
    "#                     head.set_joint_value_target(hcp)\n",
    "#                     head.go()\n",
    "                if distanceX < 0.10:\n",
    "                    succ = True\n",
    "                else:\n",
    "                    grasp_base.tiny_move(velX=0.6,std_time=0.1)\n",
    "            except:\n",
    "                grasp_base.tiny_move(velX=0.5,std_time=0.1)\n",
    "        if succ:\n",
    "            return 'succ'\n",
    "        else:\n",
    "            return 'failed'"
   ]
  },
  {
   "cell_type": "code",
   "execution_count": 11,
   "id": "35719edd",
   "metadata": {},
   "outputs": [
    {
     "name": "stdout",
     "output_type": "stream",
     "text": [
      "0.8860280059131496\n",
      "0.8934027819807039\n",
      "0.905347139928809\n",
      "0.8918680814420555\n",
      "0.5672625995371723\n",
      "0.532887902448232\n",
      "0.4932425607944644\n",
      "0.4932425607944644\n",
      "0.4932425607944644\n",
      "0.4932425607944644\n",
      "0.4932425607944644\n",
      "0.4932425607944644\n",
      "0.4932425607944644\n",
      "0.4932425607944644\n",
      "0.4932425607944644\n",
      "0.4932425607944644\n",
      "0.4932425607944644\n",
      "0.4932425607944644\n"
     ]
    },
    {
     "ename": "KeyboardInterrupt",
     "evalue": "",
     "output_type": "error",
     "traceback": [
      "\u001b[0;31m---------------------------------------------------------------------------\u001b[0m",
      "\u001b[0;31mExtrapolationException\u001b[0m                    Traceback (most recent call last)",
      "Input \u001b[0;32mIn [11]\u001b[0m, in \u001b[0;36m<cell line: 7>\u001b[0;34m()\u001b[0m\n\u001b[1;32m      8\u001b[0m \u001b[38;5;28;01mtry\u001b[39;00m:\n\u001b[0;32m----> 9\u001b[0m     t \u001b[38;5;241m=\u001b[39m \u001b[43mtfbuff\u001b[49m\u001b[38;5;241;43m.\u001b[39;49m\u001b[43mlookup_transform\u001b[49m\u001b[43m(\u001b[49m\u001b[38;5;124;43m'\u001b[39;49m\u001b[38;5;124;43mbase_link\u001b[39;49m\u001b[38;5;124;43m'\u001b[39;49m\u001b[43m,\u001b[49m\u001b[38;5;124;43m'\u001b[39;49m\u001b[38;5;124;43mar_marker/201\u001b[39;49m\u001b[38;5;124;43m'\u001b[39;49m\u001b[43m,\u001b[49m\u001b[43mrospy\u001b[49m\u001b[38;5;241;43m.\u001b[39;49m\u001b[43mTime\u001b[49m\u001b[43m(\u001b[49m\u001b[38;5;241;43m0\u001b[39;49m\u001b[43m)\u001b[49m\u001b[43m)\u001b[49m\n\u001b[1;32m     10\u001b[0m     trans, rot \u001b[38;5;241m=\u001b[39m tf2_obj_2_arr(t)\n",
      "File \u001b[0;32m/opt/ros/noetic/lib/python3/dist-packages/tf2_ros/buffer.py:86\u001b[0m, in \u001b[0;36mBuffer.lookup_transform\u001b[0;34m(self, target_frame, source_frame, time, timeout)\u001b[0m\n\u001b[1;32m     85\u001b[0m \u001b[38;5;28mself\u001b[39m\u001b[38;5;241m.\u001b[39mcan_transform(target_frame, source_frame, time, timeout)\n\u001b[0;32m---> 86\u001b[0m \u001b[38;5;28;01mreturn\u001b[39;00m \u001b[38;5;28;43mself\u001b[39;49m\u001b[38;5;241;43m.\u001b[39;49m\u001b[43mlookup_transform_core\u001b[49m\u001b[43m(\u001b[49m\u001b[43mtarget_frame\u001b[49m\u001b[43m,\u001b[49m\u001b[43m \u001b[49m\u001b[43msource_frame\u001b[49m\u001b[43m,\u001b[49m\u001b[43m \u001b[49m\u001b[43mtime\u001b[49m\u001b[43m)\u001b[49m\n",
      "\u001b[0;31mExtrapolationException\u001b[0m: Lookup would require extrapolation 516.505562305s into the past.  Requested time 1666206420.115770817 but the earliest data is at time 1666206936.621333122, when looking up transform from frame [ar_marker/201] to frame [base_link]",
      "\nDuring handling of the above exception, another exception occurred:\n",
      "\u001b[0;31mKeyboardInterrupt\u001b[0m                         Traceback (most recent call last)",
      "Input \u001b[0;32mIn [11]\u001b[0m, in \u001b[0;36m<cell line: 7>\u001b[0;34m()\u001b[0m\n\u001b[1;32m     31\u001b[0m             hcp[\u001b[38;5;241m0\u001b[39m] \u001b[38;5;241m=\u001b[39m \u001b[38;5;241m0.0\u001b[39m\n\u001b[1;32m     32\u001b[0m         head\u001b[38;5;241m.\u001b[39mset_joint_value_target(hcp)\n\u001b[0;32m---> 33\u001b[0m         \u001b[43mhead\u001b[49m\u001b[38;5;241;43m.\u001b[39;49m\u001b[43mgo\u001b[49m\u001b[43m(\u001b[49m\u001b[43m)\u001b[49m\n\u001b[1;32m     36\u001b[0m \u001b[38;5;28;01mif\u001b[39;00m succ:\n\u001b[1;32m     37\u001b[0m     \u001b[38;5;28;01mreturn\u001b[39;00m \u001b[38;5;124m'\u001b[39m\u001b[38;5;124msucc\u001b[39m\u001b[38;5;124m'\u001b[39m\n",
      "File \u001b[0;32m/opt/ros/noetic/lib/python3/dist-packages/moveit_commander/move_group.py:615\u001b[0m, in \u001b[0;36mMoveGroupCommander.go\u001b[0;34m(self, joints, wait)\u001b[0m\n\u001b[1;32m    613\u001b[0m         \u001b[38;5;28mself\u001b[39m\u001b[38;5;241m.\u001b[39mset_joint_value_target(joints)\n\u001b[1;32m    614\u001b[0m \u001b[38;5;28;01mif\u001b[39;00m wait:\n\u001b[0;32m--> 615\u001b[0m     \u001b[38;5;28;01mreturn\u001b[39;00m \u001b[38;5;28;43mself\u001b[39;49m\u001b[38;5;241;43m.\u001b[39;49m\u001b[43m_g\u001b[49m\u001b[38;5;241;43m.\u001b[39;49m\u001b[43mmove\u001b[49m\u001b[43m(\u001b[49m\u001b[43m)\u001b[49m\n\u001b[1;32m    616\u001b[0m \u001b[38;5;28;01melse\u001b[39;00m:\n\u001b[1;32m    617\u001b[0m     \u001b[38;5;28;01mreturn\u001b[39;00m \u001b[38;5;28mself\u001b[39m\u001b[38;5;241m.\u001b[39m_g\u001b[38;5;241m.\u001b[39masync_move()\n",
      "\u001b[0;31mKeyboardInterrupt\u001b[0m: "
     ]
    }
   ],
   "source": [
    "        # State AR alignment\n",
    "        succ = False\n",
    "        THRESHOLD = 0.09\n",
    "        hcp = [0.6,-0.1]\n",
    "        flag = True\n",
    "        #talk(\"I am going to align with the table\")\n",
    "        while not succ:\n",
    "            try:\n",
    "                t = tfbuff.lookup_transform('base_link','ar_marker/201',rospy.Time(0))\n",
    "                trans, rot = tf2_obj_2_arr(t)\n",
    "                euler = tf.transformations.euler_from_quaternion(rot)\n",
    "                theta = euler[2]\n",
    "                e = theta + 1.57\n",
    "                print(e)\n",
    "                if abs(e) < THRESHOLD:\n",
    "#                     talk(\"ready\")\n",
    "                    succ = True\n",
    "                else:\n",
    "                    rospy.sleep(0.55)\n",
    "                    grasp_base.tiny_move(velT = 0.2*e, std_time=0.2)\n",
    "                    flag = not flag\n",
    "                    if flag:\n",
    "                        hcp = gaze.relative(trans[0],trans[1],trans[2])\n",
    "#                         hcp[0] -= 0.1 * (e/abs(e))\n",
    "                        print(hcp)\n",
    "                        head.set_joint_value_target(hcp)\n",
    "                        head.go()\n",
    "            except:\n",
    "                hcp[0] -= 0.2\n",
    "                if hcp[0] > -1.2:\n",
    "                    hcp[0] = 0.0\n",
    "                head.set_joint_value_target(hcp)\n",
    "                head.go()\n",
    "                \n",
    "        \n",
    "        if succ:\n",
    "            return 'succ'\n",
    "        else:\n",
    "            return 'failed'"
   ]
  },
  {
   "cell_type": "code",
   "execution_count": 22,
   "id": "181ec37b",
   "metadata": {},
   "outputs": [
    {
     "name": "stdout",
     "output_type": "stream",
     "text": [
      "0.7769439040538094\n"
     ]
    },
    {
     "ename": "SyntaxError",
     "evalue": "'return' outside function (2998102668.py, line 18)",
     "output_type": "error",
     "traceback": [
      "\u001b[0;36m  Input \u001b[0;32mIn [22]\u001b[0;36m\u001b[0m\n\u001b[0;31m    return 'succ'\u001b[0m\n\u001b[0m    ^\u001b[0m\n\u001b[0;31mSyntaxError\u001b[0m\u001b[0;31m:\u001b[0m 'return' outside function\n"
     ]
    }
   ],
   "source": [
    "        # State Pre grasp pose\n",
    "        succ = False\n",
    "#         talk(\"I will reach the cassette\")\n",
    "        gripper.open()\n",
    "        height = 0\n",
    "        try:\n",
    "            t = tfbuff.lookup_transform('base_link','ar_marker/201',rospy.Time(0))\n",
    "            trans,_ = tf2_obj_2_arr(t)\n",
    "            height = trans[2]\n",
    "#         grasp_from_above_joints = [0.59,-1.3376,0,-1.8275,0.0,0.0]\n",
    "        except:\n",
    "            print('no pude bebe')\n",
    "        print(height)\n",
    "        grasp_from_above_joints = [height - 0.102,-1.3376,0,-1.8275,0.0,0.0]\n",
    "        arm.set_joint_value_target(grasp_from_above_joints)\n",
    "        succ = arm.go()\n",
    "        if succ:\n",
    "            return 'succ'\n",
    "        else:\n",
    "            return 'failed'"
   ]
  },
  {
   "cell_type": "code",
   "execution_count": 25,
   "id": "60af46fe",
   "metadata": {},
   "outputs": [
    {
     "name": "stdout",
     "output_type": "stream",
     "text": [
      "0.059632232431935384 -0.06474673001783732\n",
      "0.054802662942152525 -0.0662636480933218\n",
      "0.01577228061981839 -0.013003793896080224\n",
      "-0.10570690154699616\n",
      "-0.0016034904384321091 0.017272083415478534\n",
      "-0.10716390154699598\n",
      "-0.0016034904384321091 0.017272083415478534\n",
      "-0.10349790154699604\n",
      "-0.0016034904384321091 0.017272083415478534\n",
      "-0.10984790154699589\n",
      "-0.18958490154699606\n",
      "-0.287712901546996\n",
      "-0.004946757895945897 0.03301748338564889\n",
      "-0.00099578159547975 0.0332640329948459\n",
      "0.0002785311597117701 0.0036912659273853343\n",
      "-0.100828901546996\n",
      "-0.0008844766854152475 -0.03531892350132959\n",
      "-0.0012008608503484286 -0.03542449167850481\n",
      "-0.0005164636666894484 -0.017160470313466125\n",
      "-0.10165690154699583\n",
      "-0.0016295019424446 0.01588159417771215\n",
      "-0.10863690154699582\n",
      "-0.0016295019424446 0.01588159417771215\n",
      "-0.10136490154699587\n",
      "-0.19972390154699618\n",
      "-0.2957209015469958\n",
      "-0.39317390154699605\n",
      "-0.007732870228937427 0.051850417221427525\n",
      "-0.0027885023148632726 0.05257357667208559\n",
      "-0.0032060706979730735 0.02260229840844155\n",
      "-0.10292990154699613\n",
      "-0.0036065337642252615 -0.05084735699977186\n",
      "-0.0038651746067874804 -0.05110833428613301\n",
      "-0.002643268185611447 -0.013544074920931931\n",
      "-0.10633490154699601\n",
      "-0.007913714692267648 0.019053378115179015\n",
      "-0.10153390154699596\n",
      "-0.007913714692267648 0.019053378115179015\n",
      "-0.10176390154699613\n",
      "-0.19295890154699605\n",
      "-0.28875590154699615\n",
      "-0.3804579015469959\n",
      "-0.4699649015469961\n",
      "-0.565041901546996\n",
      "-0.005637470902321917 0.077220478994468\n",
      "-0.005361903109872168 0.07949253344450488\n",
      "-0.00433820767239701 0.056372119450354\n",
      "-0.004497789804899677 -0.005848370736882658\n",
      "-0.10337490154699616\n",
      "-0.002469149906362933 -0.06868194934194588\n",
      "-0.00450371937802041 -0.07383185166008693\n",
      "-0.004577853901997164 -0.044749374092871524\n",
      "-0.00638770637968511 -0.002088050890480586\n",
      "-0.10458690154699593\n",
      "-0.008803786598958752 0.019577716392043754\n",
      "-0.1108449015469958\n",
      "-0.008803786598958752 0.019577716392043754\n",
      "-0.10342090154699593\n",
      "-0.20007690154699578\n",
      "-0.29303590154699577\n",
      "-0.3898299015469958\n",
      "-0.487053901546996\n",
      "-0.5814859015469959\n",
      "-0.005533272862880745 0.07532017919699574\n",
      "-0.005533272862880745 0.07532017919699574\n",
      "-0.004744417806579859 0.031875688353664056\n",
      "-0.004968445082925044 -0.017037763258876376\n",
      "-0.10116590154699603\n",
      "-0.00521275226064799 -0.0628607829602244\n",
      "-0.005312835606563482 -0.06291276055593098\n",
      "-0.006658222294948057 -0.02802140064117009\n",
      "-0.0064909845176135406 0.011348004816334717\n",
      "-0.10470890154699611\n",
      "-0.0064909845176135406 0.011348004816334717\n",
      "-0.10779290154699597\n",
      "-0.0064909845176135406 0.011348004816334717\n",
      "-0.10593690154699589\n",
      "-0.20076690154699586\n",
      "-0.2962579015469958\n",
      "-0.394186901546996\n",
      "-0.46724990154699586\n",
      "-0.011039868853672363 0.06828999071679576\n",
      "-0.0076539726509674555 0.06896289743953876\n",
      "-0.007720434056395442 0.04064918257455591\n",
      "-0.007765534966369669 -0.006483996051255908\n",
      "-0.11121290154699617\n",
      "-0.008477035987789705 -0.06772035511557856\n",
      "-0.008646397513555337 -0.06863861658395587\n",
      "-0.00902842270594495 -0.040588920225134884\n",
      "-0.011542879144052165 -0.005541376456475566\n",
      "-0.10796090154699592\n",
      "-0.016601437300641786 0.022774623703077507\n",
      "-0.10245390154699577\n",
      "-0.016601437300641786 0.022774623703077507\n",
      "-0.11069190154699618\n",
      "-0.016601437300641786 0.022774623703077507\n",
      "-0.10774690154699576\n",
      "-0.20788490154699604\n",
      "-0.30493990154699613\n",
      "-0.40340590154699585\n",
      "-0.501534901546996\n",
      "-0.011957698395139271 0.06178625102173821\n",
      "-0.011957698395139271 0.06178625102173821\n",
      "-0.010983274023016465 0.00874928192542282\n",
      "-0.10122690154699612\n",
      "-0.008500118106549381 -0.022364713769142064\n",
      "-0.10553790154699608\n",
      "-0.007987828956510956 -0.019409161947129744\n",
      "-0.11515590154699576\n"
     ]
    },
    {
     "ename": "KeyboardInterrupt",
     "evalue": "",
     "output_type": "error",
     "traceback": [
      "\u001b[0;31m---------------------------------------------------------------------------\u001b[0m",
      "\u001b[0;31mNameError\u001b[0m                                 Traceback (most recent call last)",
      "Input \u001b[0;32mIn [25]\u001b[0m, in \u001b[0;36m<cell line: 23>\u001b[0;34m()\u001b[0m\n\u001b[1;32m     40\u001b[0m head\u001b[38;5;241m.\u001b[39mgo()\n\u001b[0;32m---> 41\u001b[0m \u001b[43mtalk\u001b[49m\u001b[43m(\u001b[49m\u001b[38;5;124;43m\"\u001b[39;49m\u001b[38;5;124;43mI am almost there\u001b[39;49m\u001b[38;5;124;43m\"\u001b[39;49m\u001b[43m)\u001b[49m\n\u001b[1;32m     42\u001b[0m succ \u001b[38;5;241m=\u001b[39m \u001b[38;5;28;01mTrue\u001b[39;00m\n",
      "Input \u001b[0;32mIn [6]\u001b[0m, in \u001b[0;36mtalk\u001b[0;34m(msg)\u001b[0m\n\u001b[1;32m      1\u001b[0m \u001b[38;5;28;01mdef\u001b[39;00m \u001b[38;5;21mtalk\u001b[39m(msg):\n\u001b[0;32m----> 2\u001b[0m     talker \u001b[38;5;241m=\u001b[39m rospy\u001b[38;5;241m.\u001b[39mPublisher(\u001b[38;5;124m'\u001b[39m\u001b[38;5;124m/talk_request\u001b[39m\u001b[38;5;124m'\u001b[39m, \u001b[43mVoice\u001b[49m, queue_size\u001b[38;5;241m=\u001b[39m\u001b[38;5;241m10\u001b[39m)\n\u001b[1;32m      3\u001b[0m     voice \u001b[38;5;241m=\u001b[39m Voice()\n",
      "\u001b[0;31mNameError\u001b[0m: name 'Voice' is not defined",
      "\nDuring handling of the above exception, another exception occurred:\n",
      "\u001b[0;31mKeyboardInterrupt\u001b[0m                         Traceback (most recent call last)",
      "Input \u001b[0;32mIn [25]\u001b[0m, in \u001b[0;36m<cell line: 23>\u001b[0;34m()\u001b[0m\n\u001b[1;32m     46\u001b[0m \u001b[38;5;28mprint\u001b[39m(hcp[\u001b[38;5;241m0\u001b[39m])\n\u001b[1;32m     47\u001b[0m head\u001b[38;5;241m.\u001b[39mset_joint_value_target(hcp)\n\u001b[0;32m---> 48\u001b[0m \u001b[43mhead\u001b[49m\u001b[38;5;241;43m.\u001b[39;49m\u001b[43mgo\u001b[49m\u001b[43m(\u001b[49m\u001b[43m)\u001b[49m\n\u001b[1;32m     49\u001b[0m \u001b[38;5;28;01mif\u001b[39;00m hcp[\u001b[38;5;241m0\u001b[39m] \u001b[38;5;241m<\u001b[39m \u001b[38;5;241m-\u001b[39m\u001b[38;5;241m1\u001b[39m:\n\u001b[1;32m     50\u001b[0m     hcp[\u001b[38;5;241m0\u001b[39m] \u001b[38;5;241m=\u001b[39m \u001b[38;5;241m0.1\u001b[39m\n",
      "File \u001b[0;32m/opt/ros/noetic/lib/python3/dist-packages/moveit_commander/move_group.py:615\u001b[0m, in \u001b[0;36mMoveGroupCommander.go\u001b[0;34m(self, joints, wait)\u001b[0m\n\u001b[1;32m    613\u001b[0m         \u001b[38;5;28mself\u001b[39m\u001b[38;5;241m.\u001b[39mset_joint_value_target(joints)\n\u001b[1;32m    614\u001b[0m \u001b[38;5;28;01mif\u001b[39;00m wait:\n\u001b[0;32m--> 615\u001b[0m     \u001b[38;5;28;01mreturn\u001b[39;00m \u001b[38;5;28;43mself\u001b[39;49m\u001b[38;5;241;43m.\u001b[39;49m\u001b[43m_g\u001b[49m\u001b[38;5;241;43m.\u001b[39;49m\u001b[43mmove\u001b[49m\u001b[43m(\u001b[49m\u001b[43m)\u001b[49m\n\u001b[1;32m    616\u001b[0m \u001b[38;5;28;01melse\u001b[39;00m:\n\u001b[1;32m    617\u001b[0m     \u001b[38;5;28;01mreturn\u001b[39;00m \u001b[38;5;28mself\u001b[39m\u001b[38;5;241m.\u001b[39m_g\u001b[38;5;241m.\u001b[39masync_move()\n",
      "\u001b[0;31mKeyboardInterrupt\u001b[0m: "
     ]
    }
   ],
   "source": [
    "        # State AR adjustment\n",
    "\n",
    "        try:\n",
    "            clear_octo_client()\n",
    "        except:\n",
    "            print('cant clear octomap')\n",
    "#         scene.remove_world_object()\n",
    "        #Takeshi gets close to the cassette\n",
    "        AR_starter.call()\n",
    "        succ = False\n",
    "        X_OFFSET = 0.0\n",
    "        Y_OFFSET = 0.19\n",
    "        Z_OFFSET = 0.135\n",
    "\n",
    "        THRESHOLD = 0.025\n",
    "\n",
    "        hcp = head.get_current_joint_values()\n",
    "        hcp[0] = -0.1\n",
    "        hcp[1] = -0.5\n",
    "        head.set_joint_value_target(hcp)\n",
    "        head.go()\n",
    "        succ = False\n",
    "        while not succ:\n",
    "            try:\n",
    "                t = tfbuff.lookup_transform('hand_palm_link', 'ar_marker/201', rospy.Time(0) )\n",
    "#         t = tfbuff.lookup_transform('hand_palm_link', 'ar_marker/4000', rospy.Time(0) )\n",
    "                traf = t.transform.translation\n",
    "                rospy.sleep(.6)\n",
    "        # tiny_move_base(y = 0.163)\n",
    "                ex = traf.x + X_OFFSET\n",
    "                ey = -traf.y + Y_OFFSET\n",
    "                print(ex, ey)\n",
    "                if abs(ex) > THRESHOLD:\n",
    "                    grasp_base.tiny_move(velX = ex, MAX_VEL = 0.05)#, y = -traf.y + Y_OFFSET)\n",
    "                if abs(ey) > THRESHOLD:\n",
    "                    grasp_base.tiny_move(velY = ey, MAX_VEL = 0.05)\n",
    "                if (abs(ex) <= THRESHOLD and abs(ey) <= THRESHOLD):\n",
    "                    hcp[0] = 0\n",
    "                    head.set_joint_value_target(hcp)\n",
    "                    head.go()\n",
    "                    talk(\"I am almost there\")\n",
    "                    succ = True\n",
    "            except:\n",
    "                hcp = head.get_current_joint_values()\n",
    "                hcp[0] -= 0.1   \n",
    "                print(hcp[0])\n",
    "                head.set_joint_value_target(hcp)\n",
    "                head.go()\n",
    "                if hcp[0] < -1:\n",
    "                    hcp[0] = 0.1\n",
    "                    head.set_joint_value_target(hcp)\n",
    "                    head.go()\n",
    "                    print('Ive lost the reference')\n",
    "                    succ = False\n",
    "                    break\n",
    "        if succ:\n",
    "            stopper.call()\n",
    "            return 'succ'\n",
    "        else:\n",
    "            return 'failed'"
   ]
  },
  {
   "cell_type": "code",
   "execution_count": 27,
   "id": "358e0b26",
   "metadata": {},
   "outputs": [
    {
     "name": "stdout",
     "output_type": "stream",
     "text": [
      "-73.56843015750067 74.09856700232379\n",
      "-71.61588154835181 74.84848173984406\n",
      "-73.28697283311772 74.14573091849934\n",
      "-71.76152727757773 74.39732559690543\n",
      "-69.41172054946583 74.68742195088109\n",
      "-66.8344425490435 74.62157304739856\n",
      "-53.65478952772074 58.475359342915795\n",
      "-52.643629270917415 57.449757869249396\n",
      "-34.54791802435261 42.92732807408677\n",
      "-28.6322459241201 36.50971354563464\n",
      "-25.498491547464255 36.269505851755525\n",
      "-1.9503912079048291 -2.9543758822343307\n"
     ]
    },
    {
     "ename": "SyntaxError",
     "evalue": "'return' outside function (1067665401.py, line 27)",
     "output_type": "error",
     "traceback": [
      "\u001b[0;36m  Input \u001b[0;32mIn [27]\u001b[0;36m\u001b[0m\n\u001b[0;31m    return 'succ'\u001b[0m\n\u001b[0m    ^\u001b[0m\n\u001b[0;31mSyntaxError\u001b[0m\u001b[0;31m:\u001b[0m 'return' outside function\n"
     ]
    }
   ],
   "source": [
    "        # State color adjustment\n",
    "        try:\n",
    "            clear_octo_client()\n",
    "        except:\n",
    "            print('cant clear octomap')\n",
    "\n",
    "        #Takeshi detects the cassette by color and go for it\n",
    "        succ = False\n",
    "        THRESHOLD = 15\n",
    "        goalPos = [258.61,261.75]\n",
    "        while not succ:\n",
    "            [currentPos] = hand_cam.color_segmentator(color = 'orange')\n",
    "#     print(currentPos)\n",
    "            ex = -(goalPos[0]-currentPos[0]) \n",
    "            ey = (goalPos[1]-currentPos[1])\n",
    "            print(ex, ey)\n",
    "            if abs(ex) > THRESHOLD:\n",
    "                grasp_base.tiny_move(velX = ex, std_time=0.1, MAX_VEL=0.01)#, y = -traf.y + Y_OFFSET)\n",
    "                rospy.sleep(0.5)\n",
    "            if abs(ey) > THRESHOLD:\n",
    "                grasp_base.tiny_move(velY = ey, std_time=0.1, MAX_VEL=0.01)\n",
    "                rospy.sleep(0.5)\n",
    "            if (abs(ex) <= THRESHOLD and abs(ey) <= THRESHOLD):\n",
    "#                 talk(\"done, now i will take it\")\n",
    "                succ = True\n",
    "        if succ:\n",
    "            return 'succ'\n",
    "        else:\n",
    "            return 'failed'"
   ]
  },
  {
   "cell_type": "code",
   "execution_count": 29,
   "id": "b76fd320",
   "metadata": {},
   "outputs": [
    {
     "ename": "SyntaxError",
     "evalue": "'return' outside function (1553936197.py, line 27)",
     "output_type": "error",
     "traceback": [
      "\u001b[0;36m  Input \u001b[0;32mIn [29]\u001b[0;36m\u001b[0m\n\u001b[0;31m    return 'succ'\u001b[0m\n\u001b[0m    ^\u001b[0m\n\u001b[0;31mSyntaxError\u001b[0m\u001b[0;31m:\u001b[0m 'return' outside function\n"
     ]
    }
   ],
   "source": [
    "        # State grasp table\n",
    "        gripper.open()\n",
    "        rospy.sleep(0.3)\n",
    "        acp = arm.get_current_joint_values()\n",
    "        acp[0] -= 0.03\n",
    "#         acp = [0.56,-1.3376,0,-1.8275,0.0,0.0]\n",
    "        arm.set_joint_value_target(acp)\n",
    "        arm.go()\n",
    "        gripper.close()\n",
    "        rospy.sleep(0.3)\n",
    "        \n",
    "        check_grasp_joints=[0.69,-1.3376,0,-1.8275,0.0,0.0]\n",
    "        arm.set_joint_value_target(check_grasp_joints)\n",
    "        arm.go()\n",
    "        \n",
    "        check_grasp_joints=[0.69,-1.3376,-0.8,-1.8275,0.0,0.0]\n",
    "        arm.set_joint_value_target(check_grasp_joints)\n",
    "        arm.go()\n",
    "\n",
    "        THRESHOLD = 30\n",
    "        goalPos = [233.80,268.74]\n",
    "        [currentPos] = hand_cam.color_segmentator(color = 'orange')\n",
    "        ex = -(goalPos[0]-currentPos[0]) \n",
    "        ey = (goalPos[1]-currentPos[1])\n",
    "        if (abs(ex) <= THRESHOLD and abs(ey) <= THRESHOLD):\n",
    "            talk(\"I have the cassete\")\n",
    "            return 'succ'\n",
    "        else:\n",
    "            talk(\"Something went wrong, i will try again\")\n",
    "            return 'tries'"
   ]
  },
  {
   "cell_type": "code",
   "execution_count": 30,
   "id": "ba8f3d8f",
   "metadata": {},
   "outputs": [
    {
     "ename": "SyntaxError",
     "evalue": "'return' outside function (760905894.py, line 11)",
     "output_type": "error",
     "traceback": [
      "\u001b[0;36m  Input \u001b[0;32mIn [30]\u001b[0;36m\u001b[0m\n\u001b[0;31m    return 'succ'\u001b[0m\n\u001b[0m    ^\u001b[0m\n\u001b[0;31mSyntaxError\u001b[0m\u001b[0;31m:\u001b[0m 'return' outside function\n"
     ]
    }
   ],
   "source": [
    "        # State post grasp pose\n",
    "        acp = arm.get_current_joint_values()\n",
    "        acp[0] = 0.69\n",
    "        arm.set_joint_value_target(acp)\n",
    "        arm.go()\n",
    "        rospy.sleep(0.3)\n",
    "        grasp_base.tiny_move(velX = -0.6, std_time=0.9)\n",
    "        arm.set_named_target('go')\n",
    "        succ = arm.go()\n",
    "        if succ:\n",
    "            return 'succ'\n",
    "        else:\n",
    "            return 'failed'"
   ]
  },
  {
   "cell_type": "code",
   "execution_count": null,
   "id": "77dc3c25",
   "metadata": {},
   "outputs": [],
   "source": [
    "# State right shift\n",
    "        grasp_base.tiny_move(velY = -0.8, std_time=0.8)\n",
    "        succ = True\n",
    "        if succ:\n",
    "            return 'succ'\n",
    "        else:\n",
    "            return 'failed'"
   ]
  },
  {
   "cell_type": "code",
   "execution_count": 10,
   "id": "5a9647a3",
   "metadata": {},
   "outputs": [],
   "source": [
    "gripper.steady()"
   ]
  },
  {
   "cell_type": "code",
   "execution_count": 9,
   "id": "05f6f7f6",
   "metadata": {
    "scrolled": true
   },
   "outputs": [],
   "source": [
    "# rospy.init_node('Pruebas_TF')\n",
    "# tf_man = TF_MANAGER()\n",
    "rospy.sleep(0.5)\n",
    "tf_man.pub_static_tf(trans = [1,0,1], pointName = 'marker', ref='head_rgbd_sensor_link')"
   ]
  },
  {
   "cell_type": "code",
   "execution_count": 7,
   "id": "2a031d2a",
   "metadata": {
    "scrolled": true
   },
   "outputs": [
    {
     "data": {
      "text/plain": [
       "True"
      ]
     },
     "execution_count": 7,
     "metadata": {},
     "output_type": "execute_result"
    }
   ],
   "source": [
    "tf_man.change_ref_frame_tf(tf_name='marker', newFrame='map')"
   ]
  },
  {
   "cell_type": "code",
   "execution_count": 9,
   "id": "0d1a9e92",
   "metadata": {},
   "outputs": [],
   "source": [
    "gripper = GRIPPER()\n",
    "gripper.steady()"
   ]
  },
  {
   "cell_type": "code",
   "execution_count": 8,
   "id": "49c24e3b",
   "metadata": {},
   "outputs": [
    {
     "name": "stdout",
     "output_type": "stream",
     "text": [
      "[0.9392966689769481, 1.0212325984889241, 0.972171211690557]\n"
     ]
    },
    {
     "data": {
      "text/plain": [
       "[0.7854678577699192, -5.104639176899594e-07]"
      ]
     },
     "execution_count": 8,
     "metadata": {},
     "output_type": "execute_result"
    }
   ],
   "source": [
    "trans, rot = tf_man.getTF('base_link', 'marker')\n",
    "# gaze = GAZE()\n",
    "print(trans)\n",
    "gaze.relative(trans[0],trans[1],trans[2])"
   ]
  },
  {
   "cell_type": "code",
   "execution_count": null,
   "id": "9d5b3b08",
   "metadata": {},
   "outputs": [],
   "source": []
  }
 ],
 "metadata": {
  "kernelspec": {
   "display_name": "Python 3 (ipykernel)",
   "language": "python",
   "name": "python3"
  },
  "language_info": {
   "codemirror_mode": {
    "name": "ipython",
    "version": 3
   },
   "file_extension": ".py",
   "mimetype": "text/x-python",
   "name": "python",
   "nbconvert_exporter": "python",
   "pygments_lexer": "ipython3",
   "version": "3.8.10"
  }
 },
 "nbformat": 4,
 "nbformat_minor": 5
}
