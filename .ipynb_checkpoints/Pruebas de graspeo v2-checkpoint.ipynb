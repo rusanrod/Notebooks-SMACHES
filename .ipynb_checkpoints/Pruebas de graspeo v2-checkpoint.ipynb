{
 "cells": [
  {
   "cell_type": "code",
   "execution_count": 1,
   "id": "b04a278d",
   "metadata": {},
   "outputs": [],
   "source": [
    "#!/usr/bin/env python3\n",
    "import sys\n",
    "import smach\n",
    "import rospy\n",
    "import cv2 as cv\n",
    "import numpy as np\n",
    "from std_srvs.srv import Empty\n",
    "import moveit_commander\n",
    "import moveit_msgs.msg\n",
    "import geometry_msgs.msg\n",
    "import tf2_ros as tf2\n",
    "from tf2_sensor_msgs.tf2_sensor_msgs import do_transform_cloud\n",
    "from utils_takeshi import *\n",
    "from grasp_utils import *"
   ]
  },
  {
   "cell_type": "code",
   "execution_count": 2,
   "id": "d3e23c1d",
   "metadata": {
    "scrolled": true
   },
   "outputs": [
    {
     "name": "stderr",
     "output_type": "stream",
     "text": [
      "\u001b[33m[ WARN] [1667925626.740431543]: Link hand_l_finger_vacuum_frame has visual geometry but no collision geometry. Collision geometry will be left empty. Fix your URDF file by explicitly specifying collision geometry.\u001b[0m\n",
      "\u001b[33m[ WARN] [1667925626.742946154]: Link head_l_stereo_camera_link has visual geometry but no collision geometry. Collision geometry will be left empty. Fix your URDF file by explicitly specifying collision geometry.\u001b[0m\n",
      "\u001b[33m[ WARN] [1667925626.742982946]: Link head_r_stereo_camera_link has visual geometry but no collision geometry. Collision geometry will be left empty. Fix your URDF file by explicitly specifying collision geometry.\u001b[0m\n",
      "\u001b[33m[ WARN] [1667925626.743638867]: Group state 'neutral' doesn't specify all group joints in group 'arm'. wrist_ft_sensor_frame_joint is missing.\u001b[0m\n",
      "\u001b[33m[ WARN] [1667925626.743669297]: Group state 'go' doesn't specify all group joints in group 'arm'. wrist_ft_sensor_frame_joint is missing.\u001b[0m\n",
      "\u001b[33m[ WARN] [1667925632.983658955]: Kinematics solver doesn't support #attempts anymore, but only a timeout.\n",
      "Please remove the parameter '/robot_description_kinematics/arm/kinematics_solver_attempts' from your configuration.\u001b[0m\n",
      "\u001b[33m[ WARN] [1667925634.575241106]: IK plugin for group 'whole_body' relies on deprecated API. Please implement initialize(RobotModel, ...).\u001b[0m\n",
      "\u001b[33m[ WARN] [1667925634.751371046]: IK plugin for group 'whole_body_weighted' relies on deprecated API. Please implement initialize(RobotModel, ...).\u001b[0m\n",
      "\u001b[33m[ WARN] [1667925635.009063928]: IK plugin for group 'whole_body_light' relies on deprecated API. Please implement initialize(RobotModel, ...).\u001b[0m\n"
     ]
    }
   ],
   "source": [
    "    global head, whole_body, arm, tfbuff, lis, broad, tf_static_broad, gaze\n",
    "    global rgbd, hand_cam, wrist, gripper, grasp_base, clear_octo_client, service_client, AR_starter, AR_stopper\n",
    "\n",
    "    moveit_commander.roscpp_initialize(sys.argv)\n",
    "    rospy.init_node('Pruebas_de_graspeo_v2')\n",
    "    head = moveit_commander.MoveGroupCommander('head')\n",
    "    whole_body = moveit_commander.MoveGroupCommander('whole_body_weighted')\n",
    "    arm =  moveit_commander.MoveGroupCommander('arm')\n",
    "    \n",
    "#     tfbuff = tf2.Buffer()\n",
    "#     lis = tf2.TransformListener(tfbuff)\n",
    "    \n",
    "#     broad = tf2.TransformBroadcaster()\n",
    "    whole_body.set_workspace([-6.0, -6.0, 6.0, 6.0]) \n",
    "    \n",
    "    tf_man = TF_MANAGER()\n",
    "    rgbd = RGBD()\n",
    "    hand_cam = HAND_RGB()\n",
    "    wrist = WRIST_SENSOR()\n",
    "    gripper = GRIPPER()\n",
    "    grasp_base = OMNIBASE()\n",
    "    gaze = GAZE()\n",
    "\n",
    "    clear_octo_client = rospy.ServiceProxy('/clear_octomap', Empty)\n",
    "    AR_starter = rospy.ServiceProxy('/marker/start_recognition',Empty)\n",
    "    AR_stopper = rospy.ServiceProxy('/marker/stop_recognition',Empty)\n",
    "    \n",
    "    head.set_planning_time(0.3)\n",
    "    head.set_num_planning_attempts(1)"
   ]
  },
  {
   "cell_type": "code",
   "execution_count": 48,
   "id": "9a3faa99",
   "metadata": {},
   "outputs": [],
   "source": [
    "wb = moveit_commander.MoveGroupCommander('whole_body')"
   ]
  },
  {
   "cell_type": "code",
   "execution_count": 49,
   "id": "ac2f79dc",
   "metadata": {
    "scrolled": true
   },
   "outputs": [],
   "source": [
    "        # State initial\n",
    "        try:\n",
    "            clear_octo_client()\n",
    "        except:\n",
    "            print('cant clear octomap')\n",
    "        AR_stopper.call()\n",
    "        #Takeshi neutral\n",
    "        arm.set_named_target('go')\n",
    "        arm.go()\n",
    "        gripper.steady()\n",
    "        head.set_named_target('neutral')\n",
    "        succ = head.go()\n",
    "#         if succ:\n",
    "#             return 'succ'\n",
    "#         else:\n",
    "#             return 'failed'"
   ]
  },
  {
   "cell_type": "code",
   "execution_count": 60,
   "id": "d9605243",
   "metadata": {
    "scrolled": true
   },
   "outputs": [
    {
     "name": "stdout",
     "output_type": "stream",
     "text": [
      "[0.6524365395534993, -0.03574515071194274, 0.7666717037353975]\n"
     ]
    }
   ],
   "source": [
    "        #State look for AR marker\n",
    "        try:\n",
    "            AR_starter.call()\n",
    "            clear_octo_client()\n",
    "        except:\n",
    "            print('cant clear octomap')\n",
    "        rospy.sleep(0.15)\n",
    "        arm.set_named_target('go')\n",
    "        arm.go()\n",
    "        acp = arm.get_current_joint_values()\n",
    "        acp[0] += 0.15\n",
    "        arm.set_joint_value_target(acp)\n",
    "        arm.go()\n",
    "        hcp = gaze.relative(1,0,0.6)\n",
    "        head.set_joint_value_target(hcp)\n",
    "        head.go()\n",
    "        succ = False\n",
    "        while not succ:\n",
    "            grasp_base.tiny_move(velT=0.3, std_time=0.3)\n",
    "            trans,rot = tf_man.getTF(target_frame='ar_marker/201', ref_frame='base_link')\n",
    "            print(trans)\n",
    "            succ = type(trans) is not bool\n",
    "            if succ:\n",
    "                tf_man.pub_static_tf(pos=trans, rot=rot, point_name='cassette', ref='base_link')\n",
    "                tf_man.change_ref_frame_tf(point_name='cassette', new_frame='map')\n",
    "                arm.set_named_target('go')\n",
    "                arm.go()\n",
    "        "
   ]
  },
  {
   "cell_type": "code",
   "execution_count": 89,
   "id": "35719edd",
   "metadata": {},
   "outputs": [
    {
     "name": "stdout",
     "output_type": "stream",
     "text": [
      "0.2247786474521707\n",
      "0.22538220661554664\n",
      "0.2207246003808101\n",
      "0.20081733469093632\n",
      "0.18653338894451732\n",
      "0.16856586255826955\n",
      "0.14157495864824376\n",
      "0.1255637449706548\n",
      "0.10599121108825282\n",
      "0.083825157930012\n",
      "0.07865704314972422\n"
     ]
    },
    {
     "ename": "SyntaxError",
     "evalue": "'return' outside function (1018355891.py, line 29)",
     "output_type": "error",
     "traceback": [
      "\u001b[0;36m  Input \u001b[0;32mIn [89]\u001b[0;36m\u001b[0m\n\u001b[0;31m    return 'succ'\u001b[0m\n\u001b[0m    ^\u001b[0m\n\u001b[0;31mSyntaxError\u001b[0m\u001b[0;31m:\u001b[0m 'return' outside function\n"
     ]
    }
   ],
   "source": [
    "        # State AR alignment\n",
    "        arm.set_named_target('go')\n",
    "        arm.go()\n",
    "        succ = False\n",
    "        THRESHOLD = 0.08\n",
    "        #talk(\"I am going to align with the table\")\n",
    "        while not succ:\n",
    "            try:\n",
    "                trans, rot = tf_man.getTF(target_frame='cassette', ref_frame='base_link')\n",
    "                euler = tf.transformations.euler_from_quaternion(rot)\n",
    "                theta = euler[2]\n",
    "                e = theta + 1.57\n",
    "                print(e)\n",
    "                if abs(e) < THRESHOLD:\n",
    "#                     talk(\"ready\")\n",
    "                    succ = True\n",
    "                else:\n",
    "                    rospy.sleep(0.1)\n",
    "                    grasp_base.tiny_move(velT = 0.5*e, std_time=0.1)\n",
    "            except:\n",
    "                hcp[0] -= 0.2\n",
    "                if hcp[0] > -1.2:\n",
    "                    hcp[0] = 0.0\n",
    "                head.set_joint_value_target(hcp)\n",
    "                head.go()\n",
    "                \n",
    "        \n",
    "        if succ:\n",
    "            return 'succ'\n",
    "        else:\n",
    "            return 'failed'"
   ]
  },
  {
   "cell_type": "code",
   "execution_count": 6,
   "id": "181ec37b",
   "metadata": {},
   "outputs": [
    {
     "name": "stdout",
     "output_type": "stream",
     "text": [
      "0.7764553632040696\n"
     ]
    },
    {
     "ename": "SyntaxError",
     "evalue": "'return' outside function (543396090.py, line 19)",
     "output_type": "error",
     "traceback": [
      "\u001b[0;36m  Input \u001b[0;32mIn [6]\u001b[0;36m\u001b[0m\n\u001b[0;31m    return 'succ'\u001b[0m\n\u001b[0m    ^\u001b[0m\n\u001b[0;31mSyntaxError\u001b[0m\u001b[0;31m:\u001b[0m 'return' outside function\n"
     ]
    }
   ],
   "source": [
    "        # State Pre grasp pose\n",
    "        succ = False\n",
    "#         talk(\"I will reach the cassette\")\n",
    "        gripper.open()\n",
    "        height = 0\n",
    "        try:\n",
    "#             t = tfbuff.lookup_transform('base_link','ar_marker/201',rospy.Time(0))\n",
    "#             trans,_ = tf2_obj_2_arr(t)\n",
    "            trans,_ =tf_man.getTF(target_frame='cassette', ref_frame='base_link')\n",
    "            height = trans[2]\n",
    "#         grasp_from_above_joints = [0.59,-1.3376,0,-1.8275,0.0,0.0]\n",
    "        except:\n",
    "            print('no pude bebe')\n",
    "        print(height)\n",
    "        grasp_from_above_joints = [height - 0.102,-1.3376,0,-1.8275,0.0,0.0]\n",
    "        arm.set_joint_value_target(grasp_from_above_joints)\n",
    "        succ = arm.go()\n",
    "        if succ:\n",
    "            return 'succ'\n",
    "        else:\n",
    "            return 'failed'"
   ]
  },
  {
   "cell_type": "code",
   "execution_count": 22,
   "id": "60af46fe",
   "metadata": {
    "scrolled": true
   },
   "outputs": [
    {
     "name": "stdout",
     "output_type": "stream",
     "text": [
      "0.25449319188131914 -0.0600909230943073\n",
      "0.225426367677928 -0.04532676883418807\n",
      "0.19642746599190586 -0.0072968416766170385\n",
      "0.18973336813340014 -0.0026452457462669\n",
      "0.15893307493255415 -0.00043370301788192567\n",
      "0.13710345156849368 -1.1791566008056975e-06\n",
      "0.11450885769888064 0.001322037950767574\n",
      "0.08564275329501458 0.0012587565277040191\n",
      "0.05588221769288704 0.0024829625674160916\n",
      "0.037870745147636775 0.0052587554484014865\n",
      "0.01427462841040783 0.004352266118229586\n"
     ]
    },
    {
     "ename": "SyntaxError",
     "evalue": "'return' outside function (4258470233.py, line 33)",
     "output_type": "error",
     "traceback": [
      "\u001b[0;36m  Input \u001b[0;32mIn [22]\u001b[0;36m\u001b[0m\n\u001b[0;31m    return 'succ'\u001b[0m\n\u001b[0m    ^\u001b[0m\n\u001b[0;31mSyntaxError\u001b[0m\u001b[0;31m:\u001b[0m 'return' outside function\n"
     ]
    }
   ],
   "source": [
    "        # State AR adjustment\n",
    "\n",
    "        try:\n",
    "            clear_octo_client()\n",
    "        except:\n",
    "            print('cant clear octomap')\n",
    "        #Takeshi gets close to the cassette\n",
    "        AR_starter.call()\n",
    "        succ = False\n",
    "        THRESHOLD = 0.025\n",
    "        succ = False\n",
    "        while not succ:\n",
    "            try:\n",
    "                trans,rot = tf_man.getTF(target_frame='cassette', ref_frame='hand_palm_link')\n",
    "                ex=trans[0]\n",
    "                ey=-trans[1]\n",
    "                print(ex, ey)\n",
    "                if abs(ex) > THRESHOLD:\n",
    "                    grasp_base.tiny_move(velX = ex, MAX_VEL = 0.05)#, y = -traf.y + Y_OFFSET)\n",
    "                if abs(ey) > THRESHOLD:\n",
    "                    grasp_base.tiny_move(velY = ey, MAX_VEL = 0.05)\n",
    "                if (abs(ex) <= THRESHOLD and abs(ey) <= THRESHOLD):\n",
    "                    hcp[0] = 0\n",
    "                    head.set_joint_value_target(hcp)\n",
    "                    head.go()\n",
    "                    talk(\"I am almost there\")\n",
    "                    succ = True\n",
    "            except:\n",
    "                print('lost')\n",
    "                break\n",
    "        if succ:\n",
    "            stopper.call()\n",
    "            return 'succ'\n",
    "        else:\n",
    "            return 'failed'"
   ]
  },
  {
   "cell_type": "code",
   "execution_count": 90,
   "id": "a05f4a4d",
   "metadata": {},
   "outputs": [
    {
     "data": {
      "text/plain": [
       "True"
      ]
     },
     "execution_count": 90,
     "metadata": {},
     "output_type": "execute_result"
    }
   ],
   "source": [
    "arm.set_named_target('neutral')\n",
    "arm.go()\n",
    "# AR_starter.call()\n",
    "# whole_body.set_num_planning_attempts(100)\n",
    "# whole_body.set_planning_time(2)\n",
    "# gripper.open()"
   ]
  },
  {
   "cell_type": "code",
   "execution_count": 91,
   "id": "37c0ed6f",
   "metadata": {},
   "outputs": [
    {
     "data": {
      "text/plain": [
       "True"
      ]
     },
     "execution_count": 91,
     "metadata": {},
     "output_type": "execute_result"
    }
   ],
   "source": [
    "# import geometry_msgs.msg\n",
    "trans,rot= tf_man.getTF(target_frame='cassette', ref_frame='odom')\n",
    "trans1, rot1 = tf_man.getTF(target_frame='hand_palm_link', ref_frame='odom')\n",
    "# print(trans, trans1)\n",
    "pose_goal = geometry_msgs.msg.Pose()\n",
    "pose_goal.orientation.w = rot1[3]\n",
    "pose_goal.orientation.x = rot1[0]\n",
    "pose_goal.orientation.y = rot1[1]\n",
    "pose_goal.orientation.z = rot1[2]\n",
    "# pose_goal.orientation.\n",
    "pose_goal.position.x = trans[0]\n",
    "pose_goal.position.y = trans[1]\n",
    "pose_goal.position.z = trans[2] + 0.1\n",
    "\n",
    "whole_body.set_start_state_to_current_state()\n",
    "whole_body.set_pose_target(pose_goal)\n",
    "whole_body.go()"
   ]
  },
  {
   "cell_type": "code",
   "execution_count": 88,
   "id": "3124f242",
   "metadata": {},
   "outputs": [
    {
     "data": {
      "text/plain": [
       "True"
      ]
     },
     "execution_count": 88,
     "metadata": {},
     "output_type": "execute_result"
    }
   ],
   "source": [
    "# scene.remove_world_object(box_name)\n",
    "arm.set_named_target('neutral')\n",
    "arm.go()"
   ]
  },
  {
   "cell_type": "code",
   "execution_count": 85,
   "id": "bc80caf7",
   "metadata": {
    "scrolled": true
   },
   "outputs": [
    {
     "name": "stdout",
     "output_type": "stream",
     "text": [
      "[0.6640376728731733, 1.7262400033720444, 0.8662077874271291] [-0.533359388618344, -0.4795525781775245, -0.5183525013415569, 0.4656906394688503]\n"
     ]
    },
    {
     "data": {
      "text/plain": [
       "False"
      ]
     },
     "execution_count": 85,
     "metadata": {},
     "output_type": "execute_result"
    }
   ],
   "source": [
    "# tf_man.getTF(target_frame=)\n",
    "# scene = moveit_commander.PlanningSceneInterface()\n",
    "##Adding objects to planning scene\n",
    "# box_pose = geometry_msgs.msg.PoseStamped()\n",
    "# box_pose.header.frame_id = \"hand_palm_link\"\n",
    "# box_pose.pose.orientation.w = 1.0\n",
    "# box_pose.pose.position.z =  0.11\n",
    "# box_name = \"box\"\n",
    "# scene.add_box(box_name, box_pose, size=(0.1, 0.02, 0.1))\n",
    "\n",
    "\n",
    "tf_man.pub_static_tf(point_name='grasp1', pos=[0,0,0.02], ref='hand_palm_link')\n",
    "# rospy.sleep(0.5)?\n",
    "trans, rot = tf_man.getTF(target_frame='grasp1', ref_frame='odom')\n",
    "print(trans,rot)\n",
    "# rospy.sleep(0.5)\n",
    "pose_goal = geometry_msgs.msg.Pose()\n",
    "# pose_goal.orientation.w = 1\n",
    "# pose_goal.orientation.x = rot[0]\n",
    "# pose_goal.orientation.y = rot[1]\n",
    "# pose_goal.orientation.z = rot[2]\n",
    "# pose_goal.orientation.\n",
    "pose_goal.position.x = trans[0]\n",
    "pose_goal.position.y = trans[1]\n",
    "pose_goal.position.z = trans[2]\n",
    "\n",
    "whole_body.set_start_state_to_current_state()\n",
    "# arm.set_pose_target(pose_goal)\n",
    "whole_body.set_position_target(trans)\n",
    "whole_body.go()"
   ]
  },
  {
   "cell_type": "code",
   "execution_count": 21,
   "id": "358e0b26",
   "metadata": {
    "scrolled": true
   },
   "outputs": [
    {
     "name": "stdout",
     "output_type": "stream",
     "text": [
      "154.2233333333333 -134.3611111111111\n",
      "165.1547058823529 -128.95588235294116\n",
      "155.39 -121.58333333333331\n",
      "146.89 -122.0\n",
      "178.89 -143.25\n",
      "154.11727272727273 -68.15909090909093\n",
      "129.59000000000003 -71.15000000000003\n"
     ]
    },
    {
     "ename": "KeyboardInterrupt",
     "evalue": "",
     "output_type": "error",
     "traceback": [
      "\u001b[0;31m---------------------------------------------------------------------------\u001b[0m",
      "\u001b[0;31mKeyboardInterrupt\u001b[0m                         Traceback (most recent call last)",
      "Input \u001b[0;32mIn [21]\u001b[0m, in \u001b[0;36m<cell line: 11>\u001b[0;34m()\u001b[0m\n\u001b[1;32m     19\u001b[0m         rospy\u001b[38;5;241m.\u001b[39msleep(\u001b[38;5;241m0.5\u001b[39m)\n\u001b[1;32m     20\u001b[0m     \u001b[38;5;28;01mif\u001b[39;00m \u001b[38;5;28mabs\u001b[39m(ey) \u001b[38;5;241m>\u001b[39m THRESHOLD:\n\u001b[0;32m---> 21\u001b[0m         \u001b[43mgrasp_base\u001b[49m\u001b[38;5;241;43m.\u001b[39;49m\u001b[43mtiny_move\u001b[49m\u001b[43m(\u001b[49m\u001b[43mvelY\u001b[49m\u001b[43m \u001b[49m\u001b[38;5;241;43m=\u001b[39;49m\u001b[43m \u001b[49m\u001b[43mey\u001b[49m\u001b[43m,\u001b[49m\u001b[43m \u001b[49m\u001b[43mstd_time\u001b[49m\u001b[38;5;241;43m=\u001b[39;49m\u001b[38;5;241;43m0.1\u001b[39;49m\u001b[43m,\u001b[49m\u001b[43m \u001b[49m\u001b[43mMAX_VEL\u001b[49m\u001b[38;5;241;43m=\u001b[39;49m\u001b[38;5;241;43m0.01\u001b[39;49m\u001b[43m)\u001b[49m\n\u001b[1;32m     22\u001b[0m         rospy\u001b[38;5;241m.\u001b[39msleep(\u001b[38;5;241m0.5\u001b[39m)\n\u001b[1;32m     23\u001b[0m     \u001b[38;5;28;01mif\u001b[39;00m (\u001b[38;5;28mabs\u001b[39m(ex) \u001b[38;5;241m<\u001b[39m\u001b[38;5;241m=\u001b[39m THRESHOLD \u001b[38;5;129;01mand\u001b[39;00m \u001b[38;5;28mabs\u001b[39m(ey) \u001b[38;5;241m<\u001b[39m\u001b[38;5;241m=\u001b[39m THRESHOLD):\n\u001b[1;32m     24\u001b[0m \u001b[38;5;66;03m#                 talk(\"done, now i will take it\")\u001b[39;00m\n",
      "File \u001b[0;32m~/Notebooks-SMACHES/grasp_utils.py:247\u001b[0m, in \u001b[0;36mOMNIBASE.tiny_move\u001b[0;34m(self, velX, velY, velT, std_time, MAX_VEL, MAX_VEL_THETA)\u001b[0m\n\u001b[1;32m    245\u001b[0m \u001b[38;5;28;01melse\u001b[39;00m:\n\u001b[1;32m    246\u001b[0m     \u001b[38;5;28mself\u001b[39m\u001b[38;5;241m.\u001b[39mvelT \u001b[38;5;241m=\u001b[39m velT\n\u001b[0;32m--> 247\u001b[0m \u001b[38;5;28;43mself\u001b[39;49m\u001b[38;5;241;43m.\u001b[39;49m\u001b[43m_move_base_time\u001b[49m\u001b[43m(\u001b[49m\u001b[43m)\u001b[49m\n",
      "File \u001b[0;32m~/Notebooks-SMACHES/grasp_utils.py:229\u001b[0m, in \u001b[0;36mOMNIBASE._move_base_time\u001b[0;34m(self)\u001b[0m\n\u001b[1;32m    227\u001b[0m start_time \u001b[38;5;241m=\u001b[39m rospy\u001b[38;5;241m.\u001b[39mTime\u001b[38;5;241m.\u001b[39mnow()\u001b[38;5;241m.\u001b[39mto_sec()\n\u001b[1;32m    228\u001b[0m \u001b[38;5;28;01mwhile\u001b[39;00m rospy\u001b[38;5;241m.\u001b[39mTime\u001b[38;5;241m.\u001b[39mnow()\u001b[38;5;241m.\u001b[39mto_sec() \u001b[38;5;241m-\u001b[39m start_time \u001b[38;5;241m<\u001b[39m \u001b[38;5;28mself\u001b[39m\u001b[38;5;241m.\u001b[39mtimeout:  \n\u001b[0;32m--> 229\u001b[0m     \u001b[38;5;28;43mself\u001b[39;49m\u001b[38;5;241;43m.\u001b[39;49m\u001b[43m_move_base_vel\u001b[49m\u001b[43m(\u001b[49m\u001b[43m)\u001b[49m\n",
      "\u001b[0;31mKeyboardInterrupt\u001b[0m: "
     ]
    }
   ],
   "source": [
    "        # State color adjustment\n",
    "        try:\n",
    "            clear_octo_client()\n",
    "        except:\n",
    "            print('cant clear octomap')\n",
    "\n",
    "        #Takeshi detects the cassette by color and go for it\n",
    "        succ = False\n",
    "        THRESHOLD = 15\n",
    "        goalPos = [258.61,261.75]\n",
    "        while not succ:\n",
    "            [currentPos] = hand_cam.color_segmentator(color = 'orange')\n",
    "#     print(currentPos)\n",
    "            ex = -(goalPos[0]-currentPos[0]) \n",
    "            ey = (goalPos[1]-currentPos[1])\n",
    "            print(ex, ey)\n",
    "            if abs(ex) > THRESHOLD:\n",
    "                grasp_base.tiny_move(velX = ex, std_time=0.1, MAX_VEL=0.01)#, y = -traf.y + Y_OFFSET)\n",
    "                rospy.sleep(0.5)\n",
    "            if abs(ey) > THRESHOLD:\n",
    "                grasp_base.tiny_move(velY = ey, std_time=0.1, MAX_VEL=0.01)\n",
    "                rospy.sleep(0.5)\n",
    "            if (abs(ex) <= THRESHOLD and abs(ey) <= THRESHOLD):\n",
    "#                 talk(\"done, now i will take it\")\n",
    "                succ = True\n",
    "        if succ:\n",
    "            return 'succ'\n",
    "        else:\n",
    "            return 'failed'"
   ]
  },
  {
   "cell_type": "code",
   "execution_count": 16,
   "id": "b76fd320",
   "metadata": {},
   "outputs": [
    {
     "ename": "SyntaxError",
     "evalue": "'return' outside function (1553936197.py, line 27)",
     "output_type": "error",
     "traceback": [
      "\u001b[0;36m  Input \u001b[0;32mIn [16]\u001b[0;36m\u001b[0m\n\u001b[0;31m    return 'succ'\u001b[0m\n\u001b[0m    ^\u001b[0m\n\u001b[0;31mSyntaxError\u001b[0m\u001b[0;31m:\u001b[0m 'return' outside function\n"
     ]
    }
   ],
   "source": [
    "        # State grasp table\n",
    "        gripper.open()\n",
    "        rospy.sleep(0.3)\n",
    "        acp = arm.get_current_joint_values()\n",
    "        acp[0] -= 0.03\n",
    "#         acp = [0.56,-1.3376,0,-1.8275,0.0,0.0]\n",
    "        arm.set_joint_value_target(acp)\n",
    "        arm.go()\n",
    "        gripper.close()\n",
    "        rospy.sleep(0.3)\n",
    "        \n",
    "        check_grasp_joints=[0.69,-1.3376,0,-1.8275,0.0,0.0]\n",
    "        arm.set_joint_value_target(check_grasp_joints)\n",
    "        arm.go()\n",
    "        \n",
    "        check_grasp_joints=[0.69,-1.3376,-0.8,-1.8275,0.0,0.0]\n",
    "        arm.set_joint_value_target(check_grasp_joints)\n",
    "        arm.go()\n",
    "\n",
    "        THRESHOLD = 30\n",
    "        goalPos = [233.80,268.74]\n",
    "        [currentPos] = hand_cam.color_segmentator(color = 'orange')\n",
    "        ex = -(goalPos[0]-currentPos[0]) \n",
    "        ey = (goalPos[1]-currentPos[1])\n",
    "        if (abs(ex) <= THRESHOLD and abs(ey) <= THRESHOLD):\n",
    "            talk(\"I have the cassete\")\n",
    "            return 'succ'\n",
    "        else:\n",
    "            talk(\"Something went wrong, i will try again\")\n",
    "            return 'tries'"
   ]
  },
  {
   "cell_type": "code",
   "execution_count": 31,
   "id": "d9388cd9",
   "metadata": {},
   "outputs": [],
   "source": [
    "gripper.open()"
   ]
  },
  {
   "cell_type": "code",
   "execution_count": 20,
   "id": "ba8f3d8f",
   "metadata": {},
   "outputs": [
    {
     "ename": "SyntaxError",
     "evalue": "'return' outside function (778409396.py, line 11)",
     "output_type": "error",
     "traceback": [
      "\u001b[0;36m  Input \u001b[0;32mIn [20]\u001b[0;36m\u001b[0m\n\u001b[0;31m    return 'succ'\u001b[0m\n\u001b[0m    ^\u001b[0m\n\u001b[0;31mSyntaxError\u001b[0m\u001b[0;31m:\u001b[0m 'return' outside function\n"
     ]
    },
    {
     "name": "stdout",
     "output_type": "stream",
     "text": [
      "shutdown request: [/Pruebas_de_graspeo_v2] Reason: new node registered with same name\n"
     ]
    }
   ],
   "source": [
    "        # State post grasp pose\n",
    "        acp = arm.get_current_joint_values()\n",
    "        acp[0] = 0.69\n",
    "        arm.set_joint_value_target(acp)\n",
    "        arm.go()\n",
    "        rospy.sleep(0.3)\n",
    "        grasp_base.tiny_move(velX = -0.8, std_time=0.8, MAX_VEL=0.08)\n",
    "        arm.set_named_target('go')\n",
    "        succ = arm.go()\n",
    "        if succ:\n",
    "            return 'succ'\n",
    "        else:\n",
    "            return 'failed'"
   ]
  },
  {
   "cell_type": "code",
   "execution_count": null,
   "id": "77dc3c25",
   "metadata": {},
   "outputs": [],
   "source": [
    "# State right shift\n",
    "        grasp_base.tiny_move(velY = -0.8, std_time=0.8)\n",
    "        succ = True\n",
    "        if succ:\n",
    "            return 'succ'\n",
    "        else:\n",
    "            return 'failed'"
   ]
  },
  {
   "cell_type": "code",
   "execution_count": 10,
   "id": "5a9647a3",
   "metadata": {},
   "outputs": [],
   "source": [
    "gripper.steady()"
   ]
  },
  {
   "cell_type": "code",
   "execution_count": 9,
   "id": "05f6f7f6",
   "metadata": {
    "scrolled": true
   },
   "outputs": [],
   "source": [
    "# rospy.init_node('Pruebas_TF')\n",
    "# tf_man = TF_MANAGER()\n",
    "rospy.sleep(0.5)\n",
    "tf_man.pub_static_tf(trans = [1,0,1], pointName = 'marker', ref='head_rgbd_sensor_link')"
   ]
  },
  {
   "cell_type": "code",
   "execution_count": 7,
   "id": "2a031d2a",
   "metadata": {
    "scrolled": true
   },
   "outputs": [
    {
     "data": {
      "text/plain": [
       "True"
      ]
     },
     "execution_count": 7,
     "metadata": {},
     "output_type": "execute_result"
    }
   ],
   "source": [
    "tf_man.change_ref_frame_tf(tf_name='marker', newFrame='map')"
   ]
  },
  {
   "cell_type": "code",
   "execution_count": 9,
   "id": "0d1a9e92",
   "metadata": {},
   "outputs": [],
   "source": [
    "gripper = GRIPPER()\n",
    "gripper.steady()"
   ]
  },
  {
   "cell_type": "code",
   "execution_count": 8,
   "id": "49c24e3b",
   "metadata": {},
   "outputs": [
    {
     "name": "stdout",
     "output_type": "stream",
     "text": [
      "[0.9392966689769481, 1.0212325984889241, 0.972171211690557]\n"
     ]
    },
    {
     "data": {
      "text/plain": [
       "[0.7854678577699192, -5.104639176899594e-07]"
      ]
     },
     "execution_count": 8,
     "metadata": {},
     "output_type": "execute_result"
    }
   ],
   "source": [
    "trans, rot = tf_man.getTF('base_link', 'marker')\n",
    "# gaze = GAZE()\n",
    "print(trans)\n",
    "gaze.relative(trans[0],trans[1],trans[2])"
   ]
  },
  {
   "cell_type": "code",
   "execution_count": null,
   "id": "9d5b3b08",
   "metadata": {},
   "outputs": [],
   "source": []
  }
 ],
 "metadata": {
  "kernelspec": {
   "display_name": "Python 3 (ipykernel)",
   "language": "python",
   "name": "python3"
  },
  "language_info": {
   "codemirror_mode": {
    "name": "ipython",
    "version": 3
   },
   "file_extension": ".py",
   "mimetype": "text/x-python",
   "name": "python",
   "nbconvert_exporter": "python",
   "pygments_lexer": "ipython3",
   "version": "3.8.10"
  }
 },
 "nbformat": 4,
 "nbformat_minor": 5
}
