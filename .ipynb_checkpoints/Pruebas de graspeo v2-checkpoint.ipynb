{
 "cells": [
  {
   "cell_type": "code",
   "execution_count": null,
   "id": "2176e6d5",
   "metadata": {},
   "outputs": [],
   "source": [
    "#!/usr/bin/env python3\n",
    "from std_srvs.srv import Empty, Trigger, TriggerRequest\n",
    "import smach\n",
    "from move_base_msgs.msg import MoveBaseAction, MoveBaseGoal\n",
    "from geometry_msgs.msg import PoseStamped, Point , Quaternion, Twist, WrenchStamped\n",
    "from actionlib_msgs.msg import GoalStatus\n",
    "import moveit_commander\n",
    "import moveit_msgs.msg\n",
    "import tf2_ros as tf2\n",
    "from tf2_sensor_msgs.tf2_sensor_msgs import do_transform_cloud\n",
    "import controller_manager_msgs.srv\n",
    "import rospy\n",
    "import trajectory_msgs.msg\n",
    "#from object_classification.srv import *\n",
    "from sensor_msgs.msg import Image as ImageMsg\n",
    "from cv_bridge import CvBridge, CvBridgeError\n",
    "\n",
    "import cv2 as cv\n",
    "import numpy as np\n",
    "\n",
    "from utils_notebooks import *\n",
    "from utils_takeshi import *\n",
    "from grasp_utils import *"
   ]
  },
  {
   "cell_type": "code",
   "execution_count": null,
   "id": "f9f4e94d",
   "metadata": {},
   "outputs": [],
   "source": [
    "global head, whole_body, arm, tfbuff, lis, broad, tf_static_broad, scene, robot\n",
    "global rgbd, hand_cam, gripper, clear_octo_client, service_client, AR_starter, AR_stopper\n",
    "\n",
    "moveit_commander.roscpp_initialize(sys.argv)\n",
    "rospy.init_node('Pruebas_de_graspeo')\n",
    "head = moveit_commander.MoveGroupCommander('head')\n",
    "whole_body = moveit_commander.MoveGroupCommander('whole_body_light')\n",
    "arm =  moveit_commander.MoveGroupCommander('arm')\n",
    "    \n",
    "tfbuff = tf2.Buffer()\n",
    "lis = tf2.TransformListener(tfbuff)\n",
    "broad = tf2.TransformBroadcaster()\n",
    "tf_static_broad = tf2.StaticTransformBroadcaster()\n",
    "whole_body.set_workspace([-6.0, -6.0, 6.0, 6.0]) \n",
    "    \n",
    "scene = moveit_commander.PlanningSceneInterface()\n",
    "robot = moveit_commander.RobotCommander()\n",
    "rgbd = RGBD()\n",
    "hand_cam = HAND_RGB()\n",
    "gripper = GRIPPER()\n",
    "\n",
    "clear_octo_client = rospy.ServiceProxy('/clear_octomap', Empty)\n",
    "service_client = rospy.ServiceProxy('/segment_2_tf', Trigger)\n",
    "AR_starter = rospy.ServiceProxy('/marker/start_recognition',Empty)\n",
    "AR_stopper = rospy.ServiceProxy('/marker/stop_recognition',Empty)"
   ]
  },
  {
   "cell_type": "code",
   "execution_count": null,
   "id": "397ce649",
   "metadata": {},
   "outputs": [],
   "source": [
    "def tf2_obj_2_arr(transf):\n",
    "    trans = []\n",
    "    trans.append(transf.transform.translation.x)\n",
    "    trans.append(transf.transform.translation.y)\n",
    "    trans.append(transf.transform.translation.z)\n",
    "    \n",
    "    rot = []\n",
    "    rot.append(transf.transform.rotation.x)\n",
    "    rot.append(transf.transform.rotation.y)\n",
    "    rot.append(transf.transform.rotation.z)\n",
    "    rot.append(transf.transform.rotation.w)\n",
    "    \n",
    "    return [trans, rot]"
   ]
  }
 ],
 "metadata": {
  "kernelspec": {
   "display_name": "Python 3 (ipykernel)",
   "language": "python",
   "name": "python3"
  },
  "language_info": {
   "codemirror_mode": {
    "name": "ipython",
    "version": 3
   },
   "file_extension": ".py",
   "mimetype": "text/x-python",
   "name": "python",
   "nbconvert_exporter": "python",
   "pygments_lexer": "ipython3",
   "version": "3.8.10"
  }
 },
 "nbformat": 4,
 "nbformat_minor": 5
}
