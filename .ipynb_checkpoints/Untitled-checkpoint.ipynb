{
 "cells": [
  {
   "cell_type": "code",
   "execution_count": 1,
   "id": "068504bf",
   "metadata": {},
   "outputs": [],
   "source": [
    "#!/usr/bin/env python3\n",
    "import sys\n",
    "import smach\n",
    "import rospy\n",
    "import cv2 as cv\n",
    "import numpy as np\n",
    "from std_srvs.srv import Empty\n",
    "import moveit_commander\n",
    "import moveit_msgs.msg\n",
    "from geometry_msgs.msg import PoseStamped\n",
    "import tf2_ros as tf2\n",
    "from tf2_sensor_msgs.tf2_sensor_msgs import do_transform_cloud\n",
    "from utils_takeshi import *\n",
    "from grasp_utils import *"
   ]
  },
  {
   "cell_type": "code",
   "execution_count": 2,
   "id": "ea5a8143",
   "metadata": {},
   "outputs": [
    {
     "name": "stderr",
     "output_type": "stream",
     "text": [
      "\u001b[33m[ WARN] [1668803411.799659028]: Link hand_l_finger_vacuum_frame has visual geometry but no collision geometry. Collision geometry will be left empty. Fix your URDF file by explicitly specifying collision geometry.\u001b[0m\n",
      "\u001b[33m[ WARN] [1668803411.803202338]: Link head_l_stereo_camera_link has visual geometry but no collision geometry. Collision geometry will be left empty. Fix your URDF file by explicitly specifying collision geometry.\u001b[0m\n",
      "\u001b[33m[ WARN] [1668803411.803235079]: Link head_r_stereo_camera_link has visual geometry but no collision geometry. Collision geometry will be left empty. Fix your URDF file by explicitly specifying collision geometry.\u001b[0m\n",
      "\u001b[33m[ WARN] [1668803411.803892505]: Group state 'neutral' doesn't specify all group joints in group 'arm'. wrist_ft_sensor_frame_joint is missing.\u001b[0m\n",
      "\u001b[33m[ WARN] [1668803411.803920972]: Group state 'go' doesn't specify all group joints in group 'arm'. wrist_ft_sensor_frame_joint is missing.\u001b[0m\n",
      "\u001b[33m[ WARN] [1668803427.335302937]: Kinematics solver doesn't support #attempts anymore, but only a timeout.\n",
      "Please remove the parameter '/robot_description_kinematics/arm/kinematics_solver_attempts' from your configuration.\u001b[0m\n",
      "\u001b[33m[ WARN] [1668803432.851700272]: IK plugin for group 'whole_body' relies on deprecated API. Please implement initialize(RobotModel, ...).\u001b[0m\n",
      "\u001b[33m[ WARN] [1668803433.486626865]: IK plugin for group 'whole_body_weighted' relies on deprecated API. Please implement initialize(RobotModel, ...).\u001b[0m\n",
      "\u001b[33m[ WARN] [1668803434.899859265]: IK plugin for group 'whole_body_light' relies on deprecated API. Please implement initialize(RobotModel, ...).\u001b[0m\n"
     ]
    }
   ],
   "source": [
    "    global head, wb, arm, tf_man, gaze, robot, scene, calibrate_wrist #wbw, wbl\n",
    "    global rgbd, hand_cam, wrist, gripper, grasp_base, clear_octo_client, service_client, AR_starter, AR_stopper\n",
    "\n",
    "    moveit_commander.roscpp_initialize(sys.argv)\n",
    "    rospy.init_node('pruebas_de_placeo')\n",
    "\n",
    "    head = moveit_commander.MoveGroupCommander('head')\n",
    "    wb = moveit_commander.MoveGroupCommander('whole_body')\n",
    "    arm =  moveit_commander.MoveGroupCommander('arm')\n",
    "    # wbl = moveit_commander.MoveGroupCommander('whole_body_light')\n",
    "    #wbw.set_workspace([-6.0, -6.0, 6.0, 6.0]) \n",
    "    #wbl.set_workspace([-6.0, -6.0, 6.0, 6.0])  \n",
    "    wb.set_workspace([-6.0, -6.0, 6.0, 6.0])  \n",
    "    \n",
    "    robot = moveit_commander.RobotCommander()\n",
    "    scene = moveit_commander.PlanningSceneInterface()\n",
    "    \n",
    "    tf_man = TF_MANAGER()\n",
    "    rgbd = RGBD()\n",
    "    hand_cam = HAND_RGB()\n",
    "    wrist = WRIST_SENSOR()\n",
    "    gripper = GRIPPER()\n",
    "    grasp_base = OMNIBASE()\n",
    "    gaze = GAZE()\n",
    "\n",
    "    clear_octo_client = rospy.ServiceProxy('/clear_octomap', Empty)\n",
    "    calibrate_wrist = rospy.ServiceProxy('/hsrb/wrist_wrench/readjust_offset',Empty)\n",
    "    AR_starter = rospy.ServiceProxy('/marker/start_recognition',Empty)\n",
    "    AR_stopper = rospy.ServiceProxy('/marker/stop_recognition',Empty)\n",
    "    \n",
    "    head.set_planning_time(0.3)\n",
    "    head.set_num_planning_attempts(1)\n",
    "    wb.set_num_planning_attempts(10)"
   ]
  },
  {
   "cell_type": "code",
   "execution_count": 10,
   "id": "cd35d19f",
   "metadata": {},
   "outputs": [
    {
     "data": {
      "text/plain": [
       "False"
      ]
     },
     "execution_count": 10,
     "metadata": {},
     "output_type": "execute_result"
    }
   ],
   "source": [
    "floor_pose = [0.0,-2.47,0.0,0.86,-0.032,0.0]\n",
    "arm.set_joint_value_target(floor_pose)\n",
    "arm.go()"
   ]
  },
  {
   "cell_type": "code",
   "execution_count": 7,
   "id": "e5229ff5",
   "metadata": {},
   "outputs": [
    {
     "data": {
      "text/plain": [
       "True"
      ]
     },
     "execution_count": 7,
     "metadata": {},
     "output_type": "execute_result"
    }
   ],
   "source": [
    "arm.set_named_target('neutral')\n",
    "arm.go()"
   ]
  },
  {
   "cell_type": "code",
   "execution_count": 11,
   "id": "4c0e0cc8",
   "metadata": {},
   "outputs": [
    {
     "data": {
      "text/plain": [
       "[-1.1676355245095887e-06,\n",
       " -2.471547528018885,\n",
       " 0.012318654656306105,\n",
       " 0.8659723697150343,\n",
       " -0.03251989177618375,\n",
       " 0.0]"
      ]
     },
     "execution_count": 11,
     "metadata": {},
     "output_type": "execute_result"
    }
   ],
   "source": [
    "arm.get_current_joint_values()"
   ]
  },
  {
   "cell_type": "code",
   "execution_count": null,
   "id": "69b86aa7",
   "metadata": {},
   "outputs": [],
   "source": []
  }
 ],
 "metadata": {
  "kernelspec": {
   "display_name": "Python 3 (ipykernel)",
   "language": "python",
   "name": "python3"
  },
  "language_info": {
   "codemirror_mode": {
    "name": "ipython",
    "version": 3
   },
   "file_extension": ".py",
   "mimetype": "text/x-python",
   "name": "python",
   "nbconvert_exporter": "python",
   "pygments_lexer": "ipython3",
   "version": "3.8.10"
  }
 },
 "nbformat": 4,
 "nbformat_minor": 5
}
