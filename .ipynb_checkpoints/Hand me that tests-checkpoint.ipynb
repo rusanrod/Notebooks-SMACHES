{
 "cells": [
  {
   "cell_type": "code",
   "execution_count": 1,
   "id": "31d00a1c",
   "metadata": {},
   "outputs": [],
   "source": [
    "#!/usr/bin/env python3\n",
    "import sys\n",
    "import smach\n",
    "import rospy\n",
    "import cv2 as cv\n",
    "import numpy as np\n",
    "from std_srvs.srv import Empty\n",
    "import moveit_commander\n",
    "import moveit_msgs.msg\n",
    "import geometry_msgs.msg\n",
    "import tf2_ros as tf2\n",
    "from tf2_sensor_msgs.tf2_sensor_msgs import do_transform_cloud\n",
    "from utils_takeshi import *\n",
    "from grasp_utils import *"
   ]
  },
  {
   "cell_type": "code",
   "execution_count": 3,
   "id": "f1fed1a5",
   "metadata": {},
   "outputs": [
    {
     "name": "stderr",
     "output_type": "stream",
     "text": [
      "\u001b[33m[ WARN] [1668026183.245835831]: Link hand_l_finger_vacuum_frame has visual geometry but no collision geometry. Collision geometry will be left empty. Fix your URDF file by explicitly specifying collision geometry.\u001b[0m\n",
      "\u001b[33m[ WARN] [1668026183.248374037]: Link head_l_stereo_camera_link has visual geometry but no collision geometry. Collision geometry will be left empty. Fix your URDF file by explicitly specifying collision geometry.\u001b[0m\n",
      "\u001b[33m[ WARN] [1668026183.248412250]: Link head_r_stereo_camera_link has visual geometry but no collision geometry. Collision geometry will be left empty. Fix your URDF file by explicitly specifying collision geometry.\u001b[0m\n",
      "\u001b[33m[ WARN] [1668026183.249069843]: Group state 'neutral' doesn't specify all group joints in group 'arm'. wrist_ft_sensor_frame_joint is missing.\u001b[0m\n",
      "\u001b[33m[ WARN] [1668026183.249101285]: Group state 'go' doesn't specify all group joints in group 'arm'. wrist_ft_sensor_frame_joint is missing.\u001b[0m\n",
      "\u001b[33m[ WARN] [1668026202.936655547]: Kinematics solver doesn't support #attempts anymore, but only a timeout.\n",
      "Please remove the parameter '/robot_description_kinematics/arm/kinematics_solver_attempts' from your configuration.\u001b[0m\n",
      "\u001b[33m[ WARN] [1668026207.152521338]: IK plugin for group 'whole_body' relies on deprecated API. Please implement initialize(RobotModel, ...).\u001b[0m\n",
      "\u001b[33m[ WARN] [1668026207.741346501]: IK plugin for group 'whole_body_weighted' relies on deprecated API. Please implement initialize(RobotModel, ...).\u001b[0m\n",
      "\u001b[33m[ WARN] [1668026208.240595168]: IK plugin for group 'whole_body_light' relies on deprecated API. Please implement initialize(RobotModel, ...).\u001b[0m\n"
     ]
    }
   ],
   "source": [
    "    #     rospy.init_node('Pruebas_de_graspeo_v2')\n",
    "    moveit_commander.roscpp_initialize(sys.argv)\n",
    "    rospy.init_node('Pruebas_hand_me_that')\n",
    "    head = moveit_commander.MoveGroupCommander('head')\n",
    "    tf_man = TF_MANAGER()\n",
    "    rgbd = RGBD()\n",
    "    hand_cam = HAND_RGB()\n",
    "    wrist = WRIST_SENSOR()\n",
    "    gripper = GRIPPER()\n",
    "    grasp_base = OMNIBASE()\n",
    "    gaze = GAZE()\n",
    "\n",
    "    clear_octo_client = rospy.ServiceProxy('/clear_octomap', Empty)"
   ]
  },
  {
   "cell_type": "code",
   "execution_count": 4,
   "id": "9d6d4eac",
   "metadata": {},
   "outputs": [],
   "source": [
    "# posMano, _ = tf_man.getTF(target_frame='mano', ref_frame='map')\n",
    "# posCodo, _ = tf_man.getTF(target_frame='codo', ref_frame='map')\n",
    "\n",
    "posMano = [-0.2882,0.2522,1.771]\n",
    "posCodo = [-0.1817,0.1759,1.9470]\n",
    "tf_man.pub_static_tf(point_name='c', ref='head_rgbd_sensor_link', pos=posCodo)\n",
    "tf_man.pub_static_tf(point_name='m', ref='head_rgbd_sensor_link', pos=posMano)\n",
    "# print(posCodo, posMano)\n",
    "# posMano = np.array(posMano)\n",
    "# posCodo = np.array(posCodo)\n",
    "# print(posCodo, posMano)\n",
    "# vectorCM = posCodo - posMano\n",
    "# print(vectorCM)"
   ]
  },
  {
   "cell_type": "code",
   "execution_count": 5,
   "id": "37458a57",
   "metadata": {},
   "outputs": [
    {
     "name": "stdout",
     "output_type": "stream",
     "text": [
      "CM [0.17539328537994237, 0.08654509326521231, -0.09943380851272843]\n"
     ]
    }
   ],
   "source": [
    "posMano, _ = tf_man.getTF(target_frame='m', ref_frame='map')\n",
    "posCodo, _ = tf_man.getTF(target_frame='c', ref_frame='map')\n",
    "# print(posCodo, posMano)\n",
    "# posMano = np.array(posMano)\n",
    "# posCodo = np.array(posCodo)\n",
    "# print(posCodo, posMano)\n",
    "\n",
    "vectorCM = [posMano[0] - posCodo[0], posMano[1] - posCodo[1],posMano[2] - posCodo[2]]\n",
    "print('CM',vectorCM)"
   ]
  },
  {
   "cell_type": "code",
   "execution_count": 6,
   "id": "2de3c9fe",
   "metadata": {},
   "outputs": [
    {
     "name": "stdout",
     "output_type": "stream",
     "text": [
      "10.547696012274603\n",
      "1.0945980858300675 -0.8386803504332954\n"
     ]
    }
   ],
   "source": [
    "#recta = vectorCM + alpha*posCodo\n",
    "# np.array([x,y,0]) = vectorCM + alpha \n",
    "# 0 = vectorCM[2]+alpha*posCodo[2]\n",
    "z=0\n",
    "alpha = (z-posCodo[2])/vectorCM[2]\n",
    "print(alpha)\n",
    "x = posCodo[0]+alpha*vectorCM[0]\n",
    "y = posCodo[1]+alpha*vectorCM[1]\n",
    "print(x,y)\n",
    "tf_man.pub_static_tf(point_name='pointing', ref='map', pos= [x,y,z])"
   ]
  },
  {
   "cell_type": "code",
   "execution_count": 7,
   "id": "8fb1c12e",
   "metadata": {},
   "outputs": [
    {
     "data": {
      "text/plain": [
       "True"
      ]
     },
     "execution_count": 7,
     "metadata": {},
     "output_type": "execute_result"
    }
   ],
   "source": [
    "tf_man.change_ref_frame_tf(point_name='c', new_frame='map')\n",
    "tf_man.change_ref_frame_tf(point_name='m', new_frame='map')"
   ]
  },
  {
   "cell_type": "code",
   "execution_count": 8,
   "id": "1ceab1cc",
   "metadata": {},
   "outputs": [],
   "source": [
    "pos, _ = tf_man.getTF(target_frame='pointing', ref_frame='map')\n",
    "hcp = gaze.absolute(pos[0],pos[1],pos[2])"
   ]
  },
  {
   "cell_type": "code",
   "execution_count": 9,
   "id": "2a99097a",
   "metadata": {},
   "outputs": [
    {
     "data": {
      "text/plain": [
       "True"
      ]
     },
     "execution_count": 9,
     "metadata": {},
     "output_type": "execute_result"
    }
   ],
   "source": [
    "head.set_joint_value_target(hcp)\n",
    "head.go()"
   ]
  },
  {
   "cell_type": "code",
   "execution_count": null,
   "id": "1c591c67",
   "metadata": {},
   "outputs": [],
   "source": []
  }
 ],
 "metadata": {
  "kernelspec": {
   "display_name": "Python 3 (ipykernel)",
   "language": "python",
   "name": "python3"
  },
  "language_info": {
   "codemirror_mode": {
    "name": "ipython",
    "version": 3
   },
   "file_extension": ".py",
   "mimetype": "text/x-python",
   "name": "python",
   "nbconvert_exporter": "python",
   "pygments_lexer": "ipython3",
   "version": "3.8.10"
  }
 },
 "nbformat": 4,
 "nbformat_minor": 5
}
