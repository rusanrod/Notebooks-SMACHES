{
 "cells": [
  {
   "cell_type": "code",
   "execution_count": 1,
   "id": "0c66cc59",
   "metadata": {},
   "outputs": [],
   "source": [
    "import sys\n",
    "import copy\n",
    "import rospy\n",
    "import moveit_commander\n",
    "import moveit_msgs.msg\n",
    "import geometry_msgs.msg\n",
    "from std_msgs.msg import String\n",
    "from moveit_commander.conversions import pose_to_list"
   ]
  },
  {
   "cell_type": "code",
   "execution_count": 2,
   "id": "aa1b866a",
   "metadata": {},
   "outputs": [],
   "source": [
    "import cv2 \n",
    "import tf as tf\n",
    "import tf2_ros as tf2\n",
    "import rospy\n",
    "import numpy as np\n",
    "import ros_numpy\n",
    "from std_msgs.msg import String\n",
    "from tmc_msgs.msg import Voice\n",
    "from geometry_msgs.msg import Twist, WrenchStamped, TransformStamped\n",
    "from sensor_msgs.msg import Image as ImageMsg, PointCloud2\n",
    "import tmc_control_msgs.msg\n",
    "import trajectory_msgs.msg\n",
    "class TF_MANAGER():\n",
    "    def __init__(self):\n",
    "        self._tfbuff = tf2.Buffer()\n",
    "        self._lis = tf2.TransformListener(self._tfbuff)\n",
    "        self._tf_static_broad = tf2.StaticTransformBroadcaster()\n",
    "        self._broad = tf2.TransformBroadcaster()\n",
    "\n",
    "    def _fillMsg(self, pos = [0,0,0], rot = [0,0,0,1] ,point_name ='', ref=\"map\"):\n",
    "        TS = TransformStamped()\n",
    "        TS.header.stamp = rospy.Time.now()\n",
    "        TS.header.frame_id = ref\n",
    "        TS.child_frame_id = point_name\n",
    "        TS.transform.translation.x = pos[0]\n",
    "        TS.transform.translation.y = pos[1]\n",
    "        TS.transform.translation.z = pos[2]\n",
    "        TS.transform.rotation.x = rot[0]\n",
    "        TS.transform.rotation.y = rot[1]\n",
    "        TS.transform.rotation.z = rot[2]\n",
    "        TS.transform.rotation.w = rot[3]\n",
    "        return TS\n",
    "\n",
    "    def pub_tf(self, pos = [0,0,0], rot = [0,0,0,1] ,point_name ='', ref=\"map\"):\n",
    "        dinamic_ts = self._fillMsg(pos, rot, point_name, ref)\n",
    "        self._broad.sendTransform(dinamic_ts)\n",
    "\n",
    "    def pub_static_tf(self, pos = [0,0,0], rot = [0,0,0,1] ,point_name ='', ref=\"map\"):\n",
    "        static_ts = self._fillMsg(pos, rot, point_name, ref)\n",
    "        self._tf_static_broad.sendTransform(static_ts)\n",
    "\n",
    "    def change_ref_frame_tf(self, point_name = '', new_frame = 'map'):\n",
    "        try:\n",
    "            traf = self._tfbuff.lookup_transform(new_frame, point_name, rospy.Time(0))\n",
    "            translation, rotational = self.tf2_obj_2_arr(traf)\n",
    "            self.pub_static_tf(pos = translation, rot = rotational, point_name = point_name, ref = new_frame)\n",
    "            return True\n",
    "        except:\n",
    "            return False\n",
    "\n",
    "    def getTF(self, target_frame='', ref_frame='map'):\n",
    "        try:\n",
    "            tf = self._tfbuff.lookup_transform(ref_frame, target_frame, rospy.Time(0))\n",
    "            return self.tf2_obj_2_arr(tf)\n",
    "        except:\n",
    "            return [False,False]\n",
    "\n",
    "    def tf2_obj_2_arr(self, transf):\n",
    "        pos = []\n",
    "        pos.append(transf.transform.translation.x)\n",
    "        pos.append(transf.transform.translation.y)\n",
    "        pos.append(transf.transform.translation.z)\n",
    "    \n",
    "        rot = []\n",
    "        rot.append(transf.transform.rotation.x)\n",
    "        rot.append(transf.transform.rotation.y)\n",
    "        rot.append(transf.transform.rotation.z)\n",
    "        rot.append(transf.transform.rotation.w)\n",
    "\n",
    "        return [pos, rot]\n",
    "class GRIPPER():\n",
    "    def __init__(self):\n",
    "        self._grip_cmd_pub = rospy.Publisher('/hsrb/gripper_controller/command',\n",
    "                               trajectory_msgs.msg.JointTrajectory, queue_size=100)\n",
    "        self._grip_cmd_force = rospy.Publisher('/hsrb/gripper_controller/grasp/goal',\n",
    "        \t\t\ttmc_control_msgs.msg.GripperApplyEffortActionGoal, queue_size=100)\n",
    "        \t\t\t\n",
    "        self._joint_name = \"hand_motor_joint\"\n",
    "        self._position = 0.5\n",
    "        self._velocity = 0.5\n",
    "        self._effort = 0.0\n",
    "        self._duration = 1\n",
    "\n",
    "    def _manipulate_gripper(self):\n",
    "        traj = trajectory_msgs.msg.JointTrajectory()\n",
    "        traj.joint_names = [self._joint_name]\n",
    "        p = trajectory_msgs.msg.JointTrajectoryPoint()\n",
    "        p.positions = [self._position]\n",
    "        p.velocities = [self._velocity]\n",
    "        p.accelerations = []\n",
    "        p.effort = [self._effort]\n",
    "        p.time_from_start = rospy.Duration(self._duration)\n",
    "        traj.points = [p]\n",
    "        self._grip_cmd_pub.publish(traj)\n",
    "        \n",
    "    def _apply_force(self):\n",
    "        app_force = tmc_control_msgs.msg.GripperApplyEffortActionGoal()\n",
    "        app_force.goal.effort = -0.5\n",
    "        self._grip_cmd_force.publish(app_force)\n",
    "        \n",
    "    def change_velocity(self, newVel):\n",
    "        self._velocity = newVel\n",
    "    \n",
    "    def open(self):\n",
    "        self._position = 1.23\n",
    "        self._effort = 0\n",
    "        self._manipulate_gripper()\n",
    "\n",
    "    def steady(self):\n",
    "        self._position = -0.82\n",
    "        self._effort = -0.3\n",
    "        self._manipulate_gripper()\n",
    "        \n",
    "    def close(self):\n",
    "        self._position = -0.82\n",
    "        self._effort = -0.3\n",
    "        self._manipulate_gripper()\n",
    "        self._apply_force()\n",
    "        rospy.sleep(0.8)"
   ]
  },
  {
   "cell_type": "code",
   "execution_count": 3,
   "id": "caff30c9",
   "metadata": {
    "scrolled": true
   },
   "outputs": [
    {
     "name": "stderr",
     "output_type": "stream",
     "text": [
      "\u001b[33m[ WARN] [1670431286.294305763]: Link hand_l_finger_vacuum_frame has visual geometry but no collision geometry. Collision geometry will be left empty. Fix your URDF file by explicitly specifying collision geometry.\u001b[0m\n",
      "\u001b[33m[ WARN] [1670431286.296984521]: Link head_l_stereo_camera_link has visual geometry but no collision geometry. Collision geometry will be left empty. Fix your URDF file by explicitly specifying collision geometry.\u001b[0m\n",
      "\u001b[33m[ WARN] [1670431286.297016101]: Link head_r_stereo_camera_link has visual geometry but no collision geometry. Collision geometry will be left empty. Fix your URDF file by explicitly specifying collision geometry.\u001b[0m\n",
      "\u001b[33m[ WARN] [1670431286.297647891]: Group state 'neutral' doesn't specify all group joints in group 'arm'. wrist_ft_sensor_frame_joint is missing.\u001b[0m\n",
      "\u001b[33m[ WARN] [1670431286.297669045]: Group state 'go' doesn't specify all group joints in group 'arm'. wrist_ft_sensor_frame_joint is missing.\u001b[0m\n",
      "\u001b[33m[ WARN] [1670431311.605128489]: Kinematics solver doesn't support #attempts anymore, but only a timeout.\n",
      "Please remove the parameter '/robot_description_kinematics/arm/kinematics_solver_attempts' from your configuration.\u001b[0m\n",
      "\u001b[33m[ WARN] [1670431322.817797472]: IK plugin for group 'whole_body' relies on deprecated API. Please implement initialize(RobotModel, ...).\u001b[0m\n",
      "\u001b[33m[ WARN] [1670431324.357954348]: IK plugin for group 'whole_body_weighted' relies on deprecated API. Please implement initialize(RobotModel, ...).\u001b[0m\n",
      "\u001b[33m[ WARN] [1670431325.690688268]: IK plugin for group 'whole_body_light' relies on deprecated API. Please implement initialize(RobotModel, ...).\u001b[0m\n"
     ]
    }
   ],
   "source": [
    "moveit_commander.roscpp_initialize(sys.argv)\n",
    "rospy.init_node(\"Tutorial\", anonymous=True)\n",
    "robot = moveit_commander.RobotCommander()\n",
    "scene = moveit_commander.PlanningSceneInterface()\n"
   ]
  },
  {
   "cell_type": "code",
   "execution_count": 4,
   "id": "218028c1",
   "metadata": {},
   "outputs": [
    {
     "name": "stderr",
     "output_type": "stream",
     "text": [
      "\u001b[33m[ WARN] [1667835892.861681281, 2559.973000000]: TF_REPEATED_DATA ignoring data with redundant timestamp for frame odom at time 2560.011000 according to authority unknown_publisher\u001b[0m\n"
     ]
    }
   ],
   "source": [
    "display_trajectory_publisher = rospy.Publisher(\n",
    "    \"/move_group/display_planned_path\",\n",
    "    moveit_msgs.msg.DisplayTrajectory,\n",
    "    queue_size=20,\n",
    ")"
   ]
  },
  {
   "cell_type": "code",
   "execution_count": 5,
   "id": "49a57a1a",
   "metadata": {},
   "outputs": [
    {
     "name": "stdout",
     "output_type": "stream",
     "text": [
      ">>>Available Planning Groups: ['arm', 'base', 'gripper', 'head', 'whole_body', 'whole_body_light', 'whole_body_weighted']\n",
      ">>>Printing robot state\n",
      "joint_state: \n",
      "  header: \n",
      "    seq: 0\n",
      "    stamp: \n",
      "      secs: 0\n",
      "      nsecs:         0\n",
      "    frame_id: \"odom\"\n",
      "  name: \n",
      "    - arm_lift_joint\n",
      "    - arm_flex_joint\n",
      "    - arm_roll_joint\n",
      "    - wrist_flex_joint\n",
      "    - wrist_roll_joint\n",
      "    - wrist_ft_sensor_frame_joint\n",
      "    - hand_l_proximal_joint\n",
      "    - hand_l_spring_proximal_joint\n",
      "    - hand_l_mimic_distal_joint\n",
      "    - hand_l_distal_joint\n",
      "    - hand_motor_joint\n",
      "    - hand_r_proximal_joint\n",
      "    - hand_r_spring_proximal_joint\n",
      "    - hand_r_mimic_distal_joint\n",
      "    - hand_r_distal_joint\n",
      "    - base_b_bumper_joint\n",
      "    - base_f_bumper_joint\n",
      "    - base_roll_joint\n",
      "    - base_l_drive_wheel_joint\n",
      "    - base_l_passive_wheel_x_frame_joint\n",
      "    - base_l_passive_wheel_y_frame_joint\n",
      "    - base_l_passive_wheel_z_joint\n",
      "    - base_r_drive_wheel_joint\n",
      "    - base_r_passive_wheel_x_frame_joint\n",
      "    - base_r_passive_wheel_y_frame_joint\n",
      "    - base_r_passive_wheel_z_joint\n",
      "    - torso_lift_joint\n",
      "    - head_pan_joint\n",
      "    - head_tilt_joint\n",
      "  position: [-6.562589545968385e-06, -9.19010612614457e-05, -3.1511962639285684e-06, -7.70116064812143e-05, 6.158596042027398e-06, 0.0, -0.049209007860179454, 0.018143325792105536, -0.018143325792105536, -0.03779099213982054, -0.049209007860179454, -0.049209007860179454, 0.03289177313478486, -0.03289177313478486, -0.03779099213982054, 0.0, 0.0, -2.5381567128945903e-05, 0.15379803974935058, 0.0, 0.0, 0.0, 0.0675213379619537, 0.0, 0.0, 0.0, -3.2812947729841925e-06, -1.3742934888760772e-05, 0.0019101190618933117]\n",
      "  velocity: []\n",
      "  effort: []\n",
      "multi_dof_joint_state: \n",
      "  header: \n",
      "    seq: 0\n",
      "    stamp: \n",
      "      secs: 0\n",
      "      nsecs:         0\n",
      "    frame_id: \"odom\"\n",
      "  joint_names: \n",
      "    - world_joint\n",
      "  transforms: \n",
      "    - \n",
      "      translation: \n",
      "        x: 0.004446922416572879\n",
      "        y: -0.0014592566123719174\n",
      "        z: 0.0\n",
      "      rotation: \n",
      "        x: 0.0\n",
      "        y: 0.0\n",
      "        z: -0.0064822315071358634\n",
      "        w: 0.9999789901166364\n",
      "  twist: []\n",
      "  wrench: []\n",
      "attached_collision_objects: []\n",
      "is_diff: False\n"
     ]
    },
    {
     "name": "stderr",
     "output_type": "stream",
     "text": [
      "\u001b[33m[ WARN] [1667835900.284779224, 2561.399000000]: Joint values for monitored state are requested but the full state is not known\u001b[0m\n"
     ]
    }
   ],
   "source": [
    "# We can get a list of all the groups in the robot:\n",
    "group_names = robot.get_group_names()\n",
    "print(\">>>Available Planning Groups:\", robot.get_group_names())\n",
    "\n",
    "# Sometimes for debugging it is useful to print the entire state of the\n",
    "# robot:\n",
    "print(\">>>Printing robot state\")\n",
    "print(robot.get_current_state())\n"
   ]
  },
  {
   "cell_type": "code",
   "execution_count": 4,
   "id": "bdad739b",
   "metadata": {
    "scrolled": true
   },
   "outputs": [
    {
     "name": "stderr",
     "output_type": "stream",
     "text": [
      "\u001b[33m[ WARN] [1670263604.868209445, 2353.901000000]: TF_REPEATED_DATA ignoring data with redundant timestamp for frame odom at time 2353.933000 according to authority unknown_publisher\u001b[0m\n",
      "\u001b[33m[ WARN] [1670263618.434195146, 2355.655000000]: TF_REPEATED_DATA ignoring data with redundant timestamp for frame odom at time 2355.683000 according to authority unknown_publisher\u001b[0m\n"
     ]
    }
   ],
   "source": [
    "head = moveit_commander.MoveGroupCommander('head')\n",
    "whole_body = moveit_commander.MoveGroupCommander('whole_body_light')\n",
    "# wb = moveit_commander.MoveGroupCommander('whole_body')\n",
    "# wbw = moveit_commander.MoveGroupCommander('whole_body_weighted')\n",
    "arm =  moveit_commander.MoveGroupCommander('arm')\n",
    "#gripper =  moveit_commander.MoveGroupCommander('gripper')"
   ]
  },
  {
   "cell_type": "code",
   "execution_count": 5,
   "id": "49a8415a",
   "metadata": {
    "scrolled": true
   },
   "outputs": [
    {
     "data": {
      "text/plain": [
       "[-3.4570746174830528e-06,\n",
       " -0.00010566412765911082,\n",
       " 9.799561571099957e-06,\n",
       " -0.00011270030975740752,\n",
       " -3.19085490332327e-05,\n",
       " 0.0]"
      ]
     },
     "execution_count": 5,
     "metadata": {},
     "output_type": "execute_result"
    }
   ],
   "source": [
    "arm.get_current_joint_values()\n"
   ]
  },
  {
   "cell_type": "code",
   "execution_count": 8,
   "id": "b59333dc",
   "metadata": {
    "scrolled": true
   },
   "outputs": [
    {
     "name": "stdout",
     "output_type": "stream",
     "text": [
      ">>>Planning frame: odom, odom, odom\n",
      ">>>End effector link: hand_palm_link\n"
     ]
    },
    {
     "name": "stderr",
     "output_type": "stream",
     "text": [
      "\u001b[33m[ WARN] [1667836697.903117480, 2750.419000000]: TF_REPEATED_DATA ignoring data with redundant timestamp for frame odom at time 2750.472000 according to authority unknown_publisher\u001b[0m\n",
      "\u001b[33m[ WARN] [1667836699.243316981, 2750.688000000]: TF_REPEATED_DATA ignoring data with redundant timestamp for frame odom at time 2750.722000 according to authority unknown_publisher\u001b[0m\n",
      "\u001b[33m[ WARN] [1667836728.476342306, 2757.544000000]: TF_REPEATED_DATA ignoring data with redundant timestamp for frame odom at time 2757.606000 according to authority unknown_publisher\u001b[0m\n",
      "\u001b[33m[ WARN] [1667836803.668930858, 2775.087000000]: TF_REPEATED_DATA ignoring data with redundant timestamp for frame odom at time 2775.111000 according to authority unknown_publisher\u001b[0m\n",
      "\u001b[33m[ WARN] [1667836810.312684831, 2776.498000000]: TF_REPEATED_DATA ignoring data with redundant timestamp for frame odom at time 2776.544000 according to authority unknown_publisher\u001b[0m\n"
     ]
    }
   ],
   "source": [
    "# We can get the name of the reference frame for this robot:\n",
    "arm_planning_frame = arm.get_planning_frame()\n",
    "head_planning_frame = head.get_planning_frame()\n",
    "wb_planning_frame = whole_body.get_planning_frame()\n",
    "\n",
    "print(f\">>>Planning frame: {arm_planning_frame}, {head_planning_frame}, {wb_planning_frame}\")\n",
    "\n",
    "# We can also print the name of the end-effector link for this group:\n",
    "eef_link = arm.get_end_effector_link()\n",
    "print(f\">>>End effector link: {eef_link}\")"
   ]
  },
  {
   "cell_type": "code",
   "execution_count": 6,
   "id": "19ef5f21",
   "metadata": {
    "scrolled": true
   },
   "outputs": [
    {
     "name": "stderr",
     "output_type": "stream",
     "text": [
      "\u001b[33m[ WARN] [1670263662.324063587, 2361.686000000]: TF_REPEATED_DATA ignoring data with redundant timestamp for frame odom at time 2361.730000 according to authority unknown_publisher\u001b[0m\n",
      "\u001b[33m[ WARN] [1670263683.455863144, 2364.463000000]: TF_REPEATED_DATA ignoring data with redundant timestamp for frame odom at time 2364.482000 according to authority unknown_publisher\u001b[0m\n"
     ]
    },
    {
     "data": {
      "text/plain": [
       "True"
      ]
     },
     "execution_count": 6,
     "metadata": {},
     "output_type": "execute_result"
    }
   ],
   "source": [
    "# We get the joint values from the group and change some of the values:\n",
    "joint_goal = arm.get_current_joint_values()\n",
    "joint_goal[0] = 0.0\n",
    "joint_goal[1] = 0.0\n",
    "joint_goal[2] = 0.0\n",
    "joint_goal[3] = -1.57\n",
    "joint_goal[4] = 0.0\n",
    "joint_goal[5] = 0.0\n",
    "arm.set_joint_value_target(joint_goal)\n",
    "arm.go()"
   ]
  },
  {
   "cell_type": "code",
   "execution_count": 7,
   "id": "391b8929",
   "metadata": {},
   "outputs": [],
   "source": [
    "tf_man = TF_MANAGER()"
   ]
  },
  {
   "cell_type": "code",
   "execution_count": 8,
   "id": "555bcac3",
   "metadata": {
    "scrolled": true
   },
   "outputs": [
    {
     "name": "stdout",
     "output_type": "stream",
     "text": [
      "[0.4, 0.1, 0.8]\n"
     ]
    },
    {
     "name": "stderr",
     "output_type": "stream",
     "text": [
      "\u001b[33m[ WARN] [1670263730.973660119, 2371.827000000]: TF_REPEATED_DATA ignoring data with redundant timestamp for frame odom at time 2371.854000 according to authority /pose_integrator\u001b[0m\n",
      "\u001b[33m[ WARN] [1670263730.976281880, 2371.827000000]: TF_REPEATED_DATA ignoring data with redundant timestamp for frame odom at time 2371.854000 according to authority unknown_publisher\u001b[0m\n"
     ]
    }
   ],
   "source": [
    "# rospy.sleep(0.5)\n",
    "_, rot = tf_man.getTF(target_frame='hand_palm_link', ref_frame='odom')\n",
    "tf_man.pub_static_tf(pos=[0.4,0.1,0.8], rot = rot, point_name='goal', ref='odom')\n",
    "trans, rot = tf_man.getTF(target_frame='goal', ref_frame='odom')\n",
    "\n",
    "print(trans)\n",
    "pose_goal = geometry_msgs.msg.Pose()\n",
    "pose_goal.orientation.w = rot[3]\n",
    "pose_goal.orientation.x = rot[0]\n",
    "pose_goal.orientation.y = rot[1]\n",
    "pose_goal.orientation.z = rot[2]\n",
    "# pose_goal.orientation.\n",
    "pose_goal.position.x = trans[0]\n",
    "pose_goal.position.y = trans[1]\n",
    "pose_goal.position.z = trans[2]\n",
    "\n",
    "whole_body.set_start_state_to_current_state()\n",
    "whole_body.set_pose_target(pose_goal)"
   ]
  },
  {
   "cell_type": "code",
   "execution_count": 9,
   "id": "6a10e59b",
   "metadata": {
    "scrolled": true
   },
   "outputs": [
    {
     "name": "stderr",
     "output_type": "stream",
     "text": [
      "\u001b[33m[ WARN] [1670263752.736890882, 2374.812000000]: TF_REPEATED_DATA ignoring data with redundant timestamp for frame odom at time 2374.833000 according to authority /pose_integrator\u001b[0m\n",
      "\u001b[33m[ WARN] [1670263752.737059904, 2374.812000000]: TF_REPEATED_DATA ignoring data with redundant timestamp for frame odom at time 2374.833000 according to authority unknown_publisher\u001b[0m\n",
      "\u001b[33m[ WARN] [1670263757.043198147, 2375.393000000]: TF_REPEATED_DATA ignoring data with redundant timestamp for frame odom at time 2375.432000 according to authority /pose_integrator\u001b[0m\n",
      "\u001b[33m[ WARN] [1670263757.049156578, 2375.393000000]: TF_REPEATED_DATA ignoring data with redundant timestamp for frame odom at time 2375.432000 according to authority unknown_publisher\u001b[0m\n",
      "\u001b[33m[ WARN] [1670263757.352991266, 2375.497000000]: TF_REPEATED_DATA ignoring data with redundant timestamp for frame odom at time 2375.567000 according to authority unknown_publisher\u001b[0m\n",
      "\u001b[33m[ WARN] [1670263757.353119872, 2375.497000000]: TF_REPEATED_DATA ignoring data with redundant timestamp for frame odom at time 2375.567000 according to authority /pose_integrator\u001b[0m\n",
      "\u001b[33m[ WARN] [1670263769.306819438, 2377.168000000]: TF_REPEATED_DATA ignoring data with redundant timestamp for frame odom at time 2377.239000 according to authority /pose_integrator\u001b[0m\n",
      "\u001b[33m[ WARN] [1670263769.307537569, 2377.168000000]: TF_REPEATED_DATA ignoring data with redundant timestamp for frame odom at time 2377.239000 according to authority unknown_publisher\u001b[0m\n",
      "\u001b[33m[ WARN] [1670263856.475733358, 2389.536000000]: TF_REPEATED_DATA ignoring data with redundant timestamp for frame odom at time 2389.566000 according to authority /pose_integrator\u001b[0m\n",
      "\u001b[33m[ WARN] [1670263856.475986601, 2389.536000000]: TF_REPEATED_DATA ignoring data with redundant timestamp for frame odom at time 2389.566000 according to authority unknown_publisher\u001b[0m\n",
      "\u001b[33m[ WARN] [1670263858.485458341, 2389.932000000]: TF_REPEATED_DATA ignoring data with redundant timestamp for frame odom at time 2389.963000 according to authority /pose_integrator\u001b[0m\n",
      "\u001b[33m[ WARN] [1670263858.487734996, 2389.932000000]: TF_REPEATED_DATA ignoring data with redundant timestamp for frame odom at time 2389.963000 according to authority unknown_publisher\u001b[0m\n",
      "\u001b[33m[ WARN] [1670263862.000071433, 2390.503000000]: TF_REPEATED_DATA ignoring data with redundant timestamp for frame odom at time 2390.539000 according to authority /pose_integrator\u001b[0m\n",
      "\u001b[33m[ WARN] [1670263862.002257148, 2390.503000000]: TF_REPEATED_DATA ignoring data with redundant timestamp for frame odom at time 2390.539000 according to authority unknown_publisher\u001b[0m\n",
      "\u001b[33m[ WARN] [1670263897.181342673, 2395.627000000]: TF_REPEATED_DATA ignoring data with redundant timestamp for frame odom at time 2395.648000 according to authority /pose_integrator\u001b[0m\n",
      "\u001b[33m[ WARN] [1670263897.183220584, 2395.627000000]: TF_REPEATED_DATA ignoring data with redundant timestamp for frame odom at time 2395.648000 according to authority unknown_publisher\u001b[0m\n",
      "\u001b[33m[ WARN] [1670263901.689756122, 2396.388000000]: TF_REPEATED_DATA ignoring data with redundant timestamp for frame odom at time 2396.423000 according to authority /pose_integrator\u001b[0m\n",
      "\u001b[33m[ WARN] [1670263901.690623638, 2396.388000000]: TF_REPEATED_DATA ignoring data with redundant timestamp for frame odom at time 2396.423000 according to authority unknown_publisher\u001b[0m\n",
      "\u001b[33m[ WARN] [1670263906.855610064, 2397.233000000]: TF_REPEATED_DATA ignoring data with redundant timestamp for frame odom at time 2397.261000 according to authority /pose_integrator\u001b[0m\n",
      "\u001b[33m[ WARN] [1670263906.856949660, 2397.233000000]: TF_REPEATED_DATA ignoring data with redundant timestamp for frame odom at time 2397.261000 according to authority unknown_publisher\u001b[0m\n",
      "\u001b[33m[ WARN] [1670263982.543961831, 2408.140000000]: TF_REPEATED_DATA ignoring data with redundant timestamp for frame odom at time 2408.167000 according to authority /pose_integrator\u001b[0m\n",
      "\u001b[33m[ WARN] [1670263982.549462291, 2408.140000000]: TF_REPEATED_DATA ignoring data with redundant timestamp for frame odom at time 2408.167000 according to authority unknown_publisher\u001b[0m\n",
      "\u001b[33m[ WARN] [1670264016.233312690, 2412.887000000]: TF_REPEATED_DATA ignoring data with redundant timestamp for frame odom at time 2412.950000 according to authority /pose_integrator\u001b[0m\n",
      "\u001b[33m[ WARN] [1670264016.234769577, 2412.887000000]: TF_REPEATED_DATA ignoring data with redundant timestamp for frame odom at time 2412.950000 according to authority unknown_publisher\u001b[0m\n",
      "\u001b[33m[ WARN] [1670264016.681805352, 2413.024000000]: TF_REPEATED_DATA ignoring data with redundant timestamp for frame odom at time 2413.024000 according to authority unknown_publisher\u001b[0m\n",
      "\u001b[33m[ WARN] [1670264016.682456550, 2413.024000000]: TF_REPEATED_DATA ignoring data with redundant timestamp for frame odom at time 2413.024000 according to authority /pose_integrator\u001b[0m\n",
      "\u001b[33m[ WARN] [1670264059.618540031, 2418.756000000]: TF_REPEATED_DATA ignoring data with redundant timestamp for frame odom at time 2418.779000 according to authority /pose_integrator\u001b[0m\n",
      "\u001b[33m[ WARN] [1670264059.622091552, 2418.756000000]: TF_REPEATED_DATA ignoring data with redundant timestamp for frame odom at time 2418.779000 according to authority unknown_publisher\u001b[0m\n",
      "\u001b[33m[ WARN] [1670264069.332105360, 2420.238000000]: TF_REPEATED_DATA ignoring data with redundant timestamp for frame odom at time 2420.259000 according to authority unknown_publisher\u001b[0m\n",
      "\u001b[33m[ WARN] [1670264069.332883865, 2420.238000000]: TF_REPEATED_DATA ignoring data with redundant timestamp for frame odom at time 2420.259000 according to authority /pose_integrator\u001b[0m\n",
      "\u001b[33m[ WARN] [1670264072.383905634, 2420.840000000]: TF_REPEATED_DATA ignoring data with redundant timestamp for frame odom at time 2420.881000 according to authority /pose_integrator\u001b[0m\n",
      "\u001b[33m[ WARN] [1670264072.384877096, 2420.840000000]: TF_REPEATED_DATA ignoring data with redundant timestamp for frame odom at time 2420.881000 according to authority unknown_publisher\u001b[0m\n",
      "\u001b[33m[ WARN] [1670264079.787061132, 2422.125000000]: TF_REPEATED_DATA ignoring data with redundant timestamp for frame odom at time 2422.166000 according to authority /pose_integrator\u001b[0m\n",
      "\u001b[33m[ WARN] [1670264079.789174600, 2422.125000000]: TF_REPEATED_DATA ignoring data with redundant timestamp for frame odom at time 2422.166000 according to authority unknown_publisher\u001b[0m\n",
      "\u001b[33m[ WARN] [1670264087.125953725, 2423.450000000]: TF_REPEATED_DATA ignoring data with redundant timestamp for frame odom at time 2423.475000 according to authority /pose_integrator\u001b[0m\n",
      "\u001b[33m[ WARN] [1670264087.126563074, 2423.450000000]: TF_REPEATED_DATA ignoring data with redundant timestamp for frame odom at time 2423.475000 according to authority unknown_publisher\u001b[0m\n",
      "\u001b[33m[ WARN] [1670264093.200604084, 2424.275000000]: TF_REPEATED_DATA ignoring data with redundant timestamp for frame odom at time 2424.339000 according to authority unknown_publisher\u001b[0m\n",
      "\u001b[33m[ WARN] [1670264093.204504991, 2424.275000000]: TF_REPEATED_DATA ignoring data with redundant timestamp for frame odom at time 2424.339000 according to authority /pose_integrator\u001b[0m\n",
      "\u001b[33m[ WARN] [1670264102.161637110, 2425.709000000]: TF_REPEATED_DATA ignoring data with redundant timestamp for frame odom at time 2425.748000 according to authority unknown_publisher\u001b[0m\n",
      "\u001b[33m[ WARN] [1670264102.166452093, 2425.709000000]: TF_REPEATED_DATA ignoring data with redundant timestamp for frame odom at time 2425.748000 according to authority /pose_integrator\u001b[0m\n",
      "\u001b[33m[ WARN] [1670264138.860374476, 2431.317000000]: TF_REPEATED_DATA ignoring data with redundant timestamp for frame odom at time 2431.380000 according to authority /pose_integrator\u001b[0m\n",
      "\u001b[33m[ WARN] [1670264138.863903423, 2431.317000000]: TF_REPEATED_DATA ignoring data with redundant timestamp for frame odom at time 2431.380000 according to authority unknown_publisher\u001b[0m\n",
      "\u001b[33m[ WARN] [1670264154.276928749, 2433.801000000]: TF_REPEATED_DATA ignoring data with redundant timestamp for frame odom at time 2433.860000 according to authority /pose_integrator\u001b[0m\n",
      "\u001b[33m[ WARN] [1670264154.278734528, 2433.801000000]: TF_REPEATED_DATA ignoring data with redundant timestamp for frame odom at time 2433.860000 according to authority unknown_publisher\u001b[0m\n"
     ]
    },
    {
     "name": "stderr",
     "output_type": "stream",
     "text": [
      "\u001b[33m[ WARN] [1670264220.304634542, 2444.491000000]: TF_REPEATED_DATA ignoring data with redundant timestamp for frame odom at time 2444.530000 according to authority unknown_publisher\u001b[0m\n",
      "\u001b[33m[ WARN] [1670264220.309741160, 2444.491000000]: TF_REPEATED_DATA ignoring data with redundant timestamp for frame odom at time 2444.530000 according to authority /pose_integrator\u001b[0m\n",
      "\u001b[33m[ WARN] [1670264242.397133276, 2448.512000000]: TF_REPEATED_DATA ignoring data with redundant timestamp for frame odom at time 2448.512000 according to authority unknown_publisher\u001b[0m\n",
      "\u001b[33m[ WARN] [1670264242.403290404, 2448.512000000]: TF_REPEATED_DATA ignoring data with redundant timestamp for frame odom at time 2448.512000 according to authority /pose_integrator\u001b[0m\n"
     ]
    }
   ],
   "source": [
    "# `go()` returns a boolean indicating whether the planning and execution was successful.\n",
    "whole_body.go(wait=True)\n",
    "# Calling `stop()` ensures that there is no residual movement\n",
    "#whole_body.stop()\n",
    "# It is always good to clear your targets after planning with poses.\n",
    "# Note: there is no equivalent function for clear_joint_value_targets().\n",
    "whole_body.clear_pose_targets()"
   ]
  },
  {
   "cell_type": "code",
   "execution_count": 13,
   "id": "e68e3176",
   "metadata": {
    "scrolled": true
   },
   "outputs": [
    {
     "name": "stderr",
     "output_type": "stream",
     "text": [
      "\u001b[33m[ WARN] [1667837189.069014609, 2860.606000000]: TF_REPEATED_DATA ignoring data with redundant timestamp for frame odom at time 2860.638000 according to authority /pose_integrator\u001b[0m\n",
      "\u001b[33m[ WARN] [1667837189.069355584, 2860.606000000]: TF_REPEATED_DATA ignoring data with redundant timestamp for frame odom at time 2860.638000 according to authority unknown_publisher\u001b[0m\n",
      "\u001b[33m[ WARN] [1667837206.786694750, 2864.330000000]: TF_REPEATED_DATA ignoring data with redundant timestamp for frame odom at time 2864.348000 according to authority /pose_integrator\u001b[0m\n",
      "\u001b[33m[ WARN] [1667837206.788579540, 2864.330000000]: TF_REPEATED_DATA ignoring data with redundant timestamp for frame odom at time 2864.348000 according to authority unknown_publisher\u001b[0m\n",
      "\u001b[33m[ WARN] [1667837226.062723227, 2868.661000000]: TF_REPEATED_DATA ignoring data with redundant timestamp for frame odom at time 2868.752000 according to authority /pose_integrator\u001b[0m\n",
      "\u001b[33m[ WARN] [1667837226.062881704, 2868.661000000]: TF_REPEATED_DATA ignoring data with redundant timestamp for frame odom at time 2868.752000 according to authority unknown_publisher\u001b[0m\n",
      "\u001b[33m[ WARN] [1667837232.747949004, 2870.161000000]: TF_REPEATED_DATA ignoring data with redundant timestamp for frame odom at time 2870.178000 according to authority /pose_integrator\u001b[0m\n",
      "\u001b[33m[ WARN] [1667837232.753308883, 2870.161000000]: TF_REPEATED_DATA ignoring data with redundant timestamp for frame odom at time 2870.178000 according to authority unknown_publisher\u001b[0m\n"
     ]
    },
    {
     "data": {
      "text/plain": [
       "True"
      ]
     },
     "execution_count": 13,
     "metadata": {},
     "output_type": "execute_result"
    },
    {
     "name": "stderr",
     "output_type": "stream",
     "text": [
      "\u001b[33m[ WARN] [1667837256.760109281, 2875.419000000]: TF_REPEATED_DATA ignoring data with redundant timestamp for frame odom at time 2875.454000 according to authority /pose_integrator\u001b[0m\n",
      "\u001b[33m[ WARN] [1667837256.763198630, 2875.419000000]: TF_REPEATED_DATA ignoring data with redundant timestamp for frame odom at time 2875.454000 according to authority unknown_publisher\u001b[0m\n",
      "\u001b[33m[ WARN] [1667837300.081208869, 2884.307000000]: TF_REPEATED_DATA ignoring data with redundant timestamp for frame odom at time 2884.353000 according to authority /pose_integrator\u001b[0m\n",
      "\u001b[33m[ WARN] [1667837300.081766553, 2884.307000000]: TF_REPEATED_DATA ignoring data with redundant timestamp for frame odom at time 2884.353000 according to authority unknown_publisher\u001b[0m\n",
      "\u001b[33m[ WARN] [1667837307.347098638, 2885.736000000]: TF_REPEATED_DATA ignoring data with redundant timestamp for frame odom at time 2885.785000 according to authority /pose_integrator\u001b[0m\n",
      "\u001b[33m[ WARN] [1667837307.347384168, 2885.736000000]: TF_REPEATED_DATA ignoring data with redundant timestamp for frame odom at time 2885.785000 according to authority unknown_publisher\u001b[0m\n",
      "\u001b[33m[ WARN] [1667837311.548525951, 2886.688000000]: TF_REPEATED_DATA ignoring data with redundant timestamp for frame odom at time 2886.729000 according to authority /pose_integrator\u001b[0m\n",
      "\u001b[33m[ WARN] [1667837311.549448477, 2886.688000000]: TF_REPEATED_DATA ignoring data with redundant timestamp for frame odom at time 2886.729000 according to authority unknown_publisher\u001b[0m\n",
      "\u001b[33m[ WARN] [1667837313.650095004, 2887.260000000]: TF_REPEATED_DATA ignoring data with redundant timestamp for frame odom at time 2887.285000 according to authority /pose_integrator\u001b[0m\n",
      "\u001b[33m[ WARN] [1667837313.650295278, 2887.260000000]: TF_REPEATED_DATA ignoring data with redundant timestamp for frame odom at time 2887.285000 according to authority unknown_publisher\u001b[0m\n",
      "\u001b[33m[ WARN] [1667837324.208165084, 2889.737000000]: TF_REPEATED_DATA ignoring data with redundant timestamp for frame odom at time 2889.763000 according to authority /pose_integrator\u001b[0m\n",
      "\u001b[33m[ WARN] [1667837324.208369804, 2889.737000000]: TF_REPEATED_DATA ignoring data with redundant timestamp for frame odom at time 2889.763000 according to authority unknown_publisher\u001b[0m\n",
      "\u001b[33m[ WARN] [1667837327.899368076, 2890.539000000]: TF_REPEATED_DATA ignoring data with redundant timestamp for frame odom at time 2890.591000 according to authority /pose_integrator\u001b[0m\n",
      "\u001b[33m[ WARN] [1667837327.899546939, 2890.539000000]: TF_REPEATED_DATA ignoring data with redundant timestamp for frame odom at time 2890.591000 according to authority unknown_publisher\u001b[0m\n",
      "\u001b[33m[ WARN] [1667837336.817145705, 2892.329000000]: TF_REPEATED_DATA ignoring data with redundant timestamp for frame odom at time 2892.363000 according to authority unknown_publisher\u001b[0m\n",
      "\u001b[33m[ WARN] [1667837336.818592468, 2892.329000000]: TF_REPEATED_DATA ignoring data with redundant timestamp for frame odom at time 2892.363000 according to authority /pose_integrator\u001b[0m\n"
     ]
    }
   ],
   "source": [
    "arm.set_named_target('neutral')\n",
    "arm.go()\n"
   ]
  },
  {
   "cell_type": "code",
   "execution_count": 10,
   "id": "7a6358dd",
   "metadata": {
    "scrolled": true
   },
   "outputs": [
    {
     "name": "stdout",
     "output_type": "stream",
     "text": [
      "fraction : 100.0%\n"
     ]
    }
   ],
   "source": [
    "# Cartesian Paths\n",
    "waypoints = []\n",
    "scale = 1\n",
    "\n",
    "wpose = whole_body.get_current_pose().pose\n",
    "wpose.position.z -= scale * 0.1  # First move up (z)\n",
    "wpose.position.y += scale * 0.2  # and sideways (y)\n",
    "waypoints.append(copy.deepcopy(wpose))\n",
    "\n",
    "wpose.position.x += scale * 0.1  # Second move forward/backwards in (x)\n",
    "waypoints.append(copy.deepcopy(wpose))\n",
    "\n",
    "wpose.position.y -= scale * 0.1  # Third move sideways (y)\n",
    "waypoints.append(copy.deepcopy(wpose))\n",
    "\n",
    "# We want the Cartesian path to be interpolated at a resolution of 1 cm\n",
    "# which is why we will specify 0.01 as the eef_step in Cartesian\n",
    "# translation.  We will disable the jump threshold by setting it to 0.0,\n",
    "# ignoring the check for infeasible jumps in joint space, which is sufficient\n",
    "# for this tutorial.\n",
    "(plan, fraction) = whole_body.compute_cartesian_path(\n",
    "    waypoints, 0.01, 0.0  # waypoints to follow  # eef_step\n",
    ")  # jump_threshold\n",
    "\n",
    "# Note: We are just planning, not asking move_group to actually move the robot yet:\n",
    "print(f'fraction : {fraction*100}%')"
   ]
  },
  {
   "cell_type": "code",
   "execution_count": 11,
   "id": "97a67f4b",
   "metadata": {
    "scrolled": true
   },
   "outputs": [
    {
     "ename": "NameError",
     "evalue": "name 'display_trajectory_publisher' is not defined",
     "output_type": "error",
     "traceback": [
      "\u001b[0;31m---------------------------------------------------------------------------\u001b[0m",
      "\u001b[0;31mNameError\u001b[0m                                 Traceback (most recent call last)",
      "Input \u001b[0;32mIn [11]\u001b[0m, in \u001b[0;36m<cell line: 6>\u001b[0;34m()\u001b[0m\n\u001b[1;32m      4\u001b[0m display_trajectory\u001b[38;5;241m.\u001b[39mtrajectory\u001b[38;5;241m.\u001b[39mappend(plan)\n\u001b[1;32m      5\u001b[0m \u001b[38;5;66;03m# Publish\u001b[39;00m\n\u001b[0;32m----> 6\u001b[0m \u001b[43mdisplay_trajectory_publisher\u001b[49m\u001b[38;5;241m.\u001b[39mpublish(display_trajectory)\n",
      "\u001b[0;31mNameError\u001b[0m: name 'display_trajectory_publisher' is not defined"
     ]
    },
    {
     "name": "stderr",
     "output_type": "stream",
     "text": [
      "\u001b[33m[ WARN] [1670264283.113627825, 2454.370000000]: TF_REPEATED_DATA ignoring data with redundant timestamp for frame odom at time 2454.395000 according to authority unknown_publisher\u001b[0m\n",
      "\u001b[33m[ WARN] [1670264283.115522512, 2454.370000000]: TF_REPEATED_DATA ignoring data with redundant timestamp for frame odom at time 2454.395000 according to authority /pose_integrator\u001b[0m\n"
     ]
    }
   ],
   "source": [
    "##Display trajectory\n",
    "display_trajectory = moveit_msgs.msg.DisplayTrajectory()\n",
    "display_trajectory.trajectory_start = robot.get_current_state()\n",
    "display_trajectory.trajectory.append(plan)\n",
    "# Publish\n",
    "display_trajectory_publisher.publish(display_trajectory)"
   ]
  },
  {
   "cell_type": "code",
   "execution_count": 12,
   "id": "55d75636",
   "metadata": {
    "scrolled": true
   },
   "outputs": [
    {
     "name": "stderr",
     "output_type": "stream",
     "text": [
      "\u001b[33m[ WARN] [1670264311.636685848, 2458.113000000]: TF_REPEATED_DATA ignoring data with redundant timestamp for frame odom at time 2458.131000 according to authority /pose_integrator\u001b[0m\n",
      "\u001b[33m[ WARN] [1670264311.638084823, 2458.113000000]: TF_REPEATED_DATA ignoring data with redundant timestamp for frame odom at time 2458.131000 according to authority unknown_publisher\u001b[0m\n",
      "\u001b[33m[ WARN] [1670264322.280984324, 2459.941000000]: TF_REPEATED_DATA ignoring data with redundant timestamp for frame odom at time 2459.968000 according to authority /pose_integrator\u001b[0m\n",
      "\u001b[33m[ WARN] [1670264322.281999155, 2459.941000000]: TF_REPEATED_DATA ignoring data with redundant timestamp for frame odom at time 2459.968000 according to authority unknown_publisher\u001b[0m\n",
      "\u001b[33m[ WARN] [1670264340.539852869, 2462.674000000]: TF_REPEATED_DATA ignoring data with redundant timestamp for frame odom at time 2462.714000 according to authority /pose_integrator\u001b[0m\n",
      "\u001b[33m[ WARN] [1670264340.540138298, 2462.674000000]: TF_REPEATED_DATA ignoring data with redundant timestamp for frame odom at time 2462.714000 according to authority unknown_publisher\u001b[0m\n",
      "\u001b[33m[ WARN] [1670264348.567213379, 2463.998000000]: TF_REPEATED_DATA ignoring data with redundant timestamp for frame odom at time 2464.023000 according to authority /pose_integrator\u001b[0m\n",
      "\u001b[33m[ WARN] [1670264348.567904887, 2463.998000000]: TF_REPEATED_DATA ignoring data with redundant timestamp for frame odom at time 2464.023000 according to authority unknown_publisher\u001b[0m\n",
      "\u001b[33m[ WARN] [1670264367.922787316, 2467.041000000]: TF_REPEATED_DATA ignoring data with redundant timestamp for frame odom at time 2467.060000 according to authority unknown_publisher\u001b[0m\n",
      "\u001b[33m[ WARN] [1670264367.925228894, 2467.041000000]: TF_REPEATED_DATA ignoring data with redundant timestamp for frame odom at time 2467.060000 according to authority /pose_integrator\u001b[0m\n"
     ]
    },
    {
     "data": {
      "text/plain": [
       "True"
      ]
     },
     "execution_count": 12,
     "metadata": {},
     "output_type": "execute_result"
    },
    {
     "name": "stderr",
     "output_type": "stream",
     "text": [
      "\u001b[33m[ WARN] [1670264383.122084868, 2469.240000000]: TF_REPEATED_DATA ignoring data with redundant timestamp for frame odom at time 2469.267000 according to authority /pose_integrator\u001b[0m\n",
      "\u001b[33m[ WARN] [1670264383.122382432, 2469.240000000]: TF_REPEATED_DATA ignoring data with redundant timestamp for frame odom at time 2469.267000 according to authority unknown_publisher\u001b[0m\n"
     ]
    }
   ],
   "source": [
    "##Execute plan\n",
    "whole_body.execute(plan, wait=True)"
   ]
  },
  {
   "cell_type": "code",
   "execution_count": 17,
   "id": "71f554ef",
   "metadata": {
    "scrolled": true
   },
   "outputs": [
    {
     "name": "stderr",
     "output_type": "stream",
     "text": [
      "\u001b[33m[ WARN] [1667837502.279902097, 2925.907000000]: TF_REPEATED_DATA ignoring data with redundant timestamp for frame odom at time 2925.962000 according to authority /pose_integrator\u001b[0m\n",
      "\u001b[33m[ WARN] [1667837502.280575207, 2925.907000000]: TF_REPEATED_DATA ignoring data with redundant timestamp for frame odom at time 2925.962000 according to authority unknown_publisher\u001b[0m\n",
      "\u001b[33m[ WARN] [1667837507.058339141, 2926.974000000]: TF_REPEATED_DATA ignoring data with redundant timestamp for frame odom at time 2926.974000 according to authority /pose_integrator\u001b[0m\n",
      "\u001b[33m[ WARN] [1667837507.058671602, 2926.974000000]: TF_REPEATED_DATA ignoring data with redundant timestamp for frame odom at time 2926.974000 according to authority unknown_publisher\u001b[0m\n",
      "\u001b[33m[ WARN] [1667837522.278307745, 2930.089000000]: TF_REPEATED_DATA ignoring data with redundant timestamp for frame odom at time 2930.148000 according to authority /pose_integrator\u001b[0m\n",
      "\u001b[33m[ WARN] [1667837522.278472764, 2930.089000000]: TF_REPEATED_DATA ignoring data with redundant timestamp for frame odom at time 2930.148000 according to authority unknown_publisher\u001b[0m\n"
     ]
    }
   ],
   "source": [
    "##Adding objects to planning scene\n",
    "box_pose = geometry_msgs.msg.PoseStamped()\n",
    "box_pose.header.frame_id = \"hand_palm_link\"\n",
    "box_pose.pose.orientation.w = 1.0\n",
    "box_pose.pose.position.z =  0.20  # below the panda_hand frame\n",
    "box_name = \"box\"\n",
    "scene.add_box(box_name, box_pose, size=(0.075, 0.05, 0.075))"
   ]
  },
  {
   "cell_type": "code",
   "execution_count": 18,
   "id": "f7bc72a6",
   "metadata": {
    "scrolled": true
   },
   "outputs": [
    {
     "name": "stderr",
     "output_type": "stream",
     "text": [
      "\u001b[33m[ WARN] [1667837549.671811358, 2935.454000000]: TF_REPEATED_DATA ignoring data with redundant timestamp for frame odom at time 2935.489000 according to authority unknown_publisher\u001b[0m\n",
      "\u001b[33m[ WARN] [1667837549.674718782, 2935.454000000]: TF_REPEATED_DATA ignoring data with redundant timestamp for frame odom at time 2935.489000 according to authority /pose_integrator\u001b[0m\n",
      "\u001b[33m[ WARN] [1667837559.378000713, 2937.294000000]: TF_REPEATED_DATA ignoring data with redundant timestamp for frame odom at time 2937.332000 according to authority unknown_publisher\u001b[0m\n",
      "\u001b[33m[ WARN] [1667837559.380357403, 2937.294000000]: TF_REPEATED_DATA ignoring data with redundant timestamp for frame odom at time 2937.332000 according to authority /pose_integrator\u001b[0m\n",
      "\u001b[33m[ WARN] [1667837563.409624524, 2938.238000000]: TF_REPEATED_DATA ignoring data with redundant timestamp for frame odom at time 2938.281000 according to authority /pose_integrator\u001b[0m\n",
      "\u001b[33m[ WARN] [1667837563.412051428, 2938.238000000]: TF_REPEATED_DATA ignoring data with redundant timestamp for frame odom at time 2938.281000 according to authority unknown_publisher\u001b[0m\n",
      "\u001b[33m[ WARN] [1667837586.066660288, 2942.967000000]: TF_REPEATED_DATA ignoring data with redundant timestamp for frame odom at time 2942.991000 according to authority /pose_integrator\u001b[0m\n",
      "\u001b[33m[ WARN] [1667837586.070058779, 2942.967000000]: TF_REPEATED_DATA ignoring data with redundant timestamp for frame odom at time 2942.991000 according to authority unknown_publisher\u001b[0m\n"
     ]
    }
   ],
   "source": [
    "##attaching object to the gripper\n",
    "grasping_group = \"gripper\"\n",
    "touch_links = robot.get_link_names(group=grasping_group)\n",
    "scene.attach_box(eef_link, box_name, touch_links=touch_links)"
   ]
  },
  {
   "cell_type": "code",
   "execution_count": 20,
   "id": "08065dbb",
   "metadata": {
    "scrolled": true
   },
   "outputs": [],
   "source": [
    "##Detaching objects\n",
    "# scene.remove_attached_object(eef_link, name=box_name)\n",
    "\n",
    "##Remove objects\n",
    "scene.remove_world_object(box_name)"
   ]
  },
  {
   "cell_type": "code",
   "execution_count": 21,
   "id": "a675de30",
   "metadata": {
    "scrolled": false
   },
   "outputs": [
    {
     "name": "stderr",
     "output_type": "stream",
     "text": [
      "\u001b[33m[ WARN] [1667837627.000788691, 2951.227000000]: TF_REPEATED_DATA ignoring data with redundant timestamp for frame odom at time 2951.255000 according to authority /pose_integrator\u001b[0m\n",
      "\u001b[33m[ WARN] [1667837627.004142522, 2951.227000000]: TF_REPEATED_DATA ignoring data with redundant timestamp for frame odom at time 2951.255000 according to authority unknown_publisher\u001b[0m\n",
      "\u001b[33m[ WARN] [1667837637.413453275, 2953.120000000]: TF_REPEATED_DATA ignoring data with redundant timestamp for frame odom at time 2953.157000 according to authority /pose_integrator\u001b[0m\n",
      "\u001b[33m[ WARN] [1667837637.415793597, 2953.120000000]: TF_REPEATED_DATA ignoring data with redundant timestamp for frame odom at time 2953.157000 according to authority unknown_publisher\u001b[0m\n"
     ]
    }
   ],
   "source": [
    "grip = GRIPPER()"
   ]
  },
  {
   "cell_type": "code",
   "execution_count": 22,
   "id": "a6752258",
   "metadata": {
    "scrolled": true
   },
   "outputs": [
    {
     "name": "stderr",
     "output_type": "stream",
     "text": [
      "\u001b[33m[ WARN] [1667837652.016656838, 2956.250000000]: TF_REPEATED_DATA ignoring data with redundant timestamp for frame odom at time 2956.301000 according to authority /pose_integrator\u001b[0m\n",
      "\u001b[33m[ WARN] [1667837652.016935439, 2956.250000000]: TF_REPEATED_DATA ignoring data with redundant timestamp for frame odom at time 2956.301000 according to authority unknown_publisher\u001b[0m\n",
      "\u001b[33m[ WARN] [1667837665.241479325, 2958.675000000]: TF_REPEATED_DATA ignoring data with redundant timestamp for frame odom at time 2958.721000 according to authority /pose_integrator\u001b[0m\n",
      "\u001b[33m[ WARN] [1667837665.242194364, 2958.675000000]: TF_REPEATED_DATA ignoring data with redundant timestamp for frame odom at time 2958.721000 according to authority unknown_publisher\u001b[0m\n",
      "\u001b[33m[ WARN] [1667837665.537795807, 2958.788000000]: TF_REPEATED_DATA ignoring data with redundant timestamp for frame odom at time 2958.833000 according to authority /pose_integrator\u001b[0m\n",
      "\u001b[33m[ WARN] [1667837665.538775294, 2958.788000000]: TF_REPEATED_DATA ignoring data with redundant timestamp for frame odom at time 2958.833000 according to authority unknown_publisher\u001b[0m\n",
      "\u001b[33m[ WARN] [1667837665.974264664, 2958.925000000]: TF_REPEATED_DATA ignoring data with redundant timestamp for frame odom at time 2958.960000 according to authority unknown_publisher\u001b[0m\n",
      "\u001b[33m[ WARN] [1667837665.974559218, 2958.925000000]: TF_REPEATED_DATA ignoring data with redundant timestamp for frame odom at time 2958.960000 according to authority /pose_integrator\u001b[0m\n",
      "\u001b[33m[ WARN] [1667837671.373176654, 2959.738000000]: TF_REPEATED_DATA ignoring data with redundant timestamp for frame odom at time 2959.773000 according to authority /pose_integrator\u001b[0m\n",
      "\u001b[33m[ WARN] [1667837671.376372268, 2959.738000000]: TF_REPEATED_DATA ignoring data with redundant timestamp for frame odom at time 2959.773000 according to authority unknown_publisher\u001b[0m\n",
      "\u001b[33m[ WARN] [1667837690.195545757, 2963.449000000]: TF_REPEATED_DATA ignoring data with redundant timestamp for frame odom at time 2963.494000 according to authority /pose_integrator\u001b[0m\n",
      "\u001b[33m[ WARN] [1667837690.205847682, 2963.449000000]: TF_REPEATED_DATA ignoring data with redundant timestamp for frame odom at time 2963.494000 according to authority unknown_publisher\u001b[0m\n",
      "\u001b[33m[ WARN] [1667837702.283216489, 2965.770000000]: TF_REPEATED_DATA ignoring data with redundant timestamp for frame odom at time 2965.796000 according to authority /pose_integrator\u001b[0m\n",
      "\u001b[33m[ WARN] [1667837702.283599493, 2965.770000000]: TF_REPEATED_DATA ignoring data with redundant timestamp for frame odom at time 2965.796000 according to authority unknown_publisher\u001b[0m\n",
      "\u001b[33m[ WARN] [1667837709.083048157, 2967.207000000]: TF_REPEATED_DATA ignoring data with redundant timestamp for frame odom at time 2967.240000 according to authority /pose_integrator\u001b[0m\n",
      "\u001b[33m[ WARN] [1667837709.084999116, 2967.207000000]: TF_REPEATED_DATA ignoring data with redundant timestamp for frame odom at time 2967.240000 according to authority unknown_publisher\u001b[0m\n",
      "\u001b[33m[ WARN] [1667837716.839667829, 2968.731000000]: TF_REPEATED_DATA ignoring data with redundant timestamp for frame odom at time 2968.797000 according to authority /pose_integrator\u001b[0m\n",
      "\u001b[33m[ WARN] [1667837716.840942033, 2968.731000000]: TF_REPEATED_DATA ignoring data with redundant timestamp for frame odom at time 2968.797000 according to authority unknown_publisher\u001b[0m\n",
      "\u001b[33m[ WARN] [1667837730.376642872, 2971.502000000]: TF_REPEATED_DATA ignoring data with redundant timestamp for frame odom at time 2971.531000 according to authority /pose_integrator\u001b[0m\n",
      "\u001b[33m[ WARN] [1667837730.376953217, 2971.502000000]: TF_REPEATED_DATA ignoring data with redundant timestamp for frame odom at time 2971.531000 according to authority unknown_publisher\u001b[0m\n",
      "\u001b[33m[ WARN] [1667837763.166822956, 2977.774000000]: TF_REPEATED_DATA ignoring data with redundant timestamp for frame odom at time 2977.800000 according to authority unknown_publisher\u001b[0m\n",
      "\u001b[33m[ WARN] [1667837763.166982442, 2977.774000000]: TF_REPEATED_DATA ignoring data with redundant timestamp for frame odom at time 2977.800000 according to authority /pose_integrator\u001b[0m\n",
      "\u001b[33m[ WARN] [1667837765.019741966, 2978.117000000]: TF_REPEATED_DATA ignoring data with redundant timestamp for frame odom at time 2978.163000 according to authority /pose_integrator\u001b[0m\n",
      "\u001b[33m[ WARN] [1667837765.019930835, 2978.117000000]: TF_REPEATED_DATA ignoring data with redundant timestamp for frame odom at time 2978.163000 according to authority unknown_publisher\u001b[0m\n",
      "\u001b[33m[ WARN] [1667837787.027146862, 2982.935000000]: TF_REPEATED_DATA ignoring data with redundant timestamp for frame odom at time 2982.958000 according to authority /pose_integrator\u001b[0m\n",
      "\u001b[33m[ WARN] [1667837787.027741779, 2982.935000000]: TF_REPEATED_DATA ignoring data with redundant timestamp for frame odom at time 2982.958000 according to authority unknown_publisher\u001b[0m\n",
      "\u001b[33m[ WARN] [1667837790.561760764, 2983.622000000]: TF_REPEATED_DATA ignoring data with redundant timestamp for frame odom at time 2983.656000 according to authority /pose_integrator\u001b[0m\n",
      "\u001b[33m[ WARN] [1667837790.564122975, 2983.622000000]: TF_REPEATED_DATA ignoring data with redundant timestamp for frame odom at time 2983.656000 according to authority unknown_publisher\u001b[0m\n"
     ]
    }
   ],
   "source": [
    "grip.open()"
   ]
  },
  {
   "cell_type": "code",
   "execution_count": null,
   "id": "272e4032",
   "metadata": {
    "scrolled": true
   },
   "outputs": [],
   "source": [
    "arm.set_named_target('neutral')\n",
    "arm.go()"
   ]
  },
  {
   "cell_type": "code",
   "execution_count": null,
   "id": "2a6cf7df",
   "metadata": {},
   "outputs": [],
   "source": [
    "whole_body.set_num_planning_attempts(10)\n",
    "whole_body.set_planning_time(5)"
   ]
  },
  {
   "cell_type": "code",
   "execution_count": null,
   "id": "dca8578a",
   "metadata": {},
   "outputs": [],
   "source": []
  },
  {
   "cell_type": "code",
   "execution_count": null,
   "id": "f787e467",
   "metadata": {},
   "outputs": [],
   "source": [
    "# Cartesian Paths\n",
    "waypoints = []\n",
    "scale = 1\n",
    "\n",
    "wpose = whole_body.get_current_pose().pose\n",
    "wpose.position.x += scale * 0.2  # First move up (z)\n",
    "# wpose.position.y += scale * 0.2  # and sideways (y)\n",
    "waypoints.append(copy.deepcopy(wpose))\n",
    "\n",
    "# wpose.position.x += scale * 0.1  # Second move forward/backwards in (x)\n",
    "# waypoints.append(copy.deepcopy(wpose))\n",
    "\n",
    "# wpose.position.y -= scale * 0.1  # Third move sideways (y)\n",
    "# waypoints.append(copy.deepcopy(wpose))\n",
    "\n",
    "# We want the Cartesian path to be interpolated at a resolution of 1 cm\n",
    "# which is why we will specify 0.01 as the eef_step in Cartesian\n",
    "# translation.  We will disable the jump threshold by setting it to 0.0,\n",
    "# ignoring the check for infeasible jumps in joint space, which is sufficient\n",
    "# for this tutorial.\n",
    "(plan, fraction) = whole_body.compute_cartesian_path(\n",
    "    waypoints, 0.01, 0.0  # waypoints to follow  # eef_step\n",
    ")  # jump_threshold\n",
    "\n",
    "# Note: We are just planning, not asking move_group to actually move the robot yet:\n",
    "print(f'fraction : {fraction*100}%')"
   ]
  },
  {
   "cell_type": "code",
   "execution_count": 13,
   "id": "477ae714",
   "metadata": {},
   "outputs": [],
   "source": [
    "# trans, rot  = tf_man.getTF(target_frame='hand_palm_link',ref_frame='odom')\n",
    "tf_man.pub_static_tf(point_name='grasp', ref='hand_palm_link', pos=[0,0,0.1])"
   ]
  },
  {
   "cell_type": "code",
   "execution_count": 14,
   "id": "ab1af5fd",
   "metadata": {},
   "outputs": [
    {
     "data": {
      "text/plain": [
       "True"
      ]
     },
     "execution_count": 14,
     "metadata": {},
     "output_type": "execute_result"
    },
    {
     "name": "stderr",
     "output_type": "stream",
     "text": [
      "\u001b[33m[ WARN] [1670264397.452075797, 2471.210000000]: TF_REPEATED_DATA ignoring data with redundant timestamp for frame odom at time 2471.237000 according to authority /pose_integrator\u001b[0m\n",
      "\u001b[33m[ WARN] [1670264397.452215147, 2471.210000000]: TF_REPEATED_DATA ignoring data with redundant timestamp for frame odom at time 2471.237000 according to authority unknown_publisher\u001b[0m\n"
     ]
    }
   ],
   "source": [
    "tf_man.change_ref_frame_tf(point_name='grasp',new_frame='odom')"
   ]
  },
  {
   "cell_type": "code",
   "execution_count": 15,
   "id": "f21f3dd3",
   "metadata": {
    "scrolled": true
   },
   "outputs": [
    {
     "name": "stderr",
     "output_type": "stream",
     "text": [
      "\u001b[33m[ WARN] [1670264423.101147050, 2474.880000000]: TF_REPEATED_DATA ignoring data with redundant timestamp for frame odom at time 2474.935000 according to authority unknown_publisher\u001b[0m\n",
      "\u001b[33m[ WARN] [1670264423.101238376, 2474.880000000]: TF_REPEATED_DATA ignoring data with redundant timestamp for frame odom at time 2474.935000 according to authority /pose_integrator\u001b[0m\n",
      "\u001b[33m[ WARN] [1670264424.246895527, 2475.095000000]: TF_REPEATED_DATA ignoring data with redundant timestamp for frame odom at time 2475.149000 according to authority /pose_integrator\u001b[0m\n",
      "\u001b[33m[ WARN] [1670264424.250402517, 2475.095000000]: TF_REPEATED_DATA ignoring data with redundant timestamp for frame odom at time 2475.149000 according to authority unknown_publisher\u001b[0m\n",
      "\u001b[33m[ WARN] [1670264427.318557486, 2475.647000000]: TF_REPEATED_DATA ignoring data with redundant timestamp for frame odom at time 2475.684000 according to authority /pose_integrator\u001b[0m\n",
      "\u001b[33m[ WARN] [1670264427.319322648, 2475.647000000]: TF_REPEATED_DATA ignoring data with redundant timestamp for frame odom at time 2475.684000 according to authority unknown_publisher\u001b[0m\n"
     ]
    },
    {
     "data": {
      "text/plain": [
       "True"
      ]
     },
     "execution_count": 15,
     "metadata": {},
     "output_type": "execute_result"
    },
    {
     "name": "stderr",
     "output_type": "stream",
     "text": [
      "\u001b[33m[ WARN] [1670264464.443976364, 2480.471000000]: TF_REPEATED_DATA ignoring data with redundant timestamp for frame odom at time 2480.511000 according to authority /pose_integrator\u001b[0m\n",
      "\u001b[33m[ WARN] [1670264464.446710544, 2480.471000000]: TF_REPEATED_DATA ignoring data with redundant timestamp for frame odom at time 2480.511000 according to authority unknown_publisher\u001b[0m\n"
     ]
    }
   ],
   "source": [
    "trans, rot = tf_man.getTF(target_frame='grasp', ref_frame='odom')\n",
    "pose_goal = geometry_msgs.msg.Pose()\n",
    "pose_goal.orientation.w = rot[3]\n",
    "pose_goal.orientation.x = rot[0]\n",
    "pose_goal.orientation.y = rot[1]\n",
    "pose_goal.orientation.z = rot[2]\n",
    "# pose_goal.orientation.\n",
    "pose_goal.position.x = trans[0]\n",
    "pose_goal.position.y = trans[1]\n",
    "pose_goal.position.z = trans[2]\n",
    "\n",
    "whole_body.set_start_state_to_current_state()\n",
    "whole_body.set_pose_target(pose_goal)\n",
    "whole_body.go()"
   ]
  },
  {
   "cell_type": "code",
   "execution_count": 27,
   "id": "413f988e",
   "metadata": {
    "scrolled": true
   },
   "outputs": [
    {
     "name": "stderr",
     "output_type": "stream",
     "text": [
      "\u001b[33m[ WARN] [1667837953.705212932, 3018.051000000]: TF_REPEATED_DATA ignoring data with redundant timestamp for frame odom at time 3018.081000 according to authority /pose_integrator\u001b[0m\n",
      "\u001b[33m[ WARN] [1667837953.705381052, 3018.051000000]: TF_REPEATED_DATA ignoring data with redundant timestamp for frame odom at time 3018.081000 according to authority unknown_publisher\u001b[0m\n",
      "\u001b[33m[ WARN] [1667837976.185259636, 3022.617000000]: TF_REPEATED_DATA ignoring data with redundant timestamp for frame odom at time 3022.675000 according to authority /pose_integrator\u001b[0m\n",
      "\u001b[33m[ WARN] [1667837976.185439401, 3022.617000000]: TF_REPEATED_DATA ignoring data with redundant timestamp for frame odom at time 3022.675000 according to authority unknown_publisher\u001b[0m\n",
      "\u001b[33m[ WARN] [1667837977.950027824, 3023.070000000]: TF_REPEATED_DATA ignoring data with redundant timestamp for frame odom at time 3023.112000 according to authority /pose_integrator\u001b[0m\n",
      "\u001b[33m[ WARN] [1667837977.952755108, 3023.070000000]: TF_REPEATED_DATA ignoring data with redundant timestamp for frame odom at time 3023.112000 according to authority unknown_publisher\u001b[0m\n",
      "\u001b[33m[ WARN] [1667837984.958423427, 3024.447000000]: TF_REPEATED_DATA ignoring data with redundant timestamp for frame odom at time 3024.504000 according to authority unknown_publisher\u001b[0m\n",
      "\u001b[33m[ WARN] [1667837984.959768414, 3024.447000000]: TF_REPEATED_DATA ignoring data with redundant timestamp for frame odom at time 3024.504000 according to authority /pose_integrator\u001b[0m\n",
      "\u001b[33m[ WARN] [1667837987.157082088, 3024.995000000]: TF_REPEATED_DATA ignoring data with redundant timestamp for frame odom at time 3025.023000 according to authority /pose_integrator\u001b[0m\n",
      "\u001b[33m[ WARN] [1667837987.157255182, 3024.995000000]: TF_REPEATED_DATA ignoring data with redundant timestamp for frame odom at time 3025.023000 according to authority unknown_publisher\u001b[0m\n",
      "\u001b[33m[ WARN] [1667838007.511996844, 3029.794000000]: TF_REPEATED_DATA ignoring data with redundant timestamp for frame odom at time 3029.841000 according to authority /pose_integrator\u001b[0m\n",
      "\u001b[33m[ WARN] [1667838007.517078847, 3029.794000000]: TF_REPEATED_DATA ignoring data with redundant timestamp for frame odom at time 3029.841000 according to authority unknown_publisher\u001b[0m\n",
      "\u001b[33m[ WARN] [1667838011.331955375, 3030.706000000]: TF_REPEATED_DATA ignoring data with redundant timestamp for frame odom at time 3030.742000 according to authority /pose_integrator\u001b[0m\n",
      "\u001b[33m[ WARN] [1667838011.333675578, 3030.706000000]: TF_REPEATED_DATA ignoring data with redundant timestamp for frame odom at time 3030.742000 according to authority unknown_publisher\u001b[0m\n",
      "\u001b[33m[ WARN] [1667838030.704269924, 3034.716000000]: TF_REPEATED_DATA ignoring data with redundant timestamp for frame odom at time 3034.751000 according to authority /pose_integrator\u001b[0m\n",
      "\u001b[33m[ WARN] [1667838030.704484198, 3034.716000000]: TF_REPEATED_DATA ignoring data with redundant timestamp for frame odom at time 3034.751000 according to authority unknown_publisher\u001b[0m\n",
      "\u001b[33m[ WARN] [1667838041.194586211, 3036.850000000]: TF_REPEATED_DATA ignoring data with redundant timestamp for frame odom at time 3036.881000 according to authority /pose_integrator\u001b[0m\n",
      "\u001b[33m[ WARN] [1667838041.195185749, 3036.850000000]: TF_REPEATED_DATA ignoring data with redundant timestamp for frame odom at time 3036.881000 according to authority unknown_publisher\u001b[0m\n",
      "\u001b[33m[ WARN] [1667838042.810797827, 3037.138000000]: TF_REPEATED_DATA ignoring data with redundant timestamp for frame odom at time 3037.195000 according to authority /pose_integrator\u001b[0m\n",
      "\u001b[33m[ WARN] [1667838042.810878230, 3037.138000000]: TF_REPEATED_DATA ignoring data with redundant timestamp for frame odom at time 3037.195000 according to authority unknown_publisher\u001b[0m\n",
      "\u001b[33m[ WARN] [1667838047.359861432, 3038.112000000]: TF_REPEATED_DATA ignoring data with redundant timestamp for frame odom at time 3038.145000 according to authority /pose_integrator\u001b[0m\n",
      "\u001b[33m[ WARN] [1667838047.360785304, 3038.112000000]: TF_REPEATED_DATA ignoring data with redundant timestamp for frame odom at time 3038.145000 according to authority unknown_publisher\u001b[0m\n",
      "\u001b[33m[ WARN] [1667838053.077698526, 3039.606000000]: TF_REPEATED_DATA ignoring data with redundant timestamp for frame odom at time 3039.635000 according to authority /pose_integrator\u001b[0m\n",
      "\u001b[33m[ WARN] [1667838053.078263061, 3039.606000000]: TF_REPEATED_DATA ignoring data with redundant timestamp for frame odom at time 3039.635000 according to authority unknown_publisher\u001b[0m\n",
      "\u001b[33m[ WARN] [1667838058.400932456, 3040.660000000]: TF_REPEATED_DATA ignoring data with redundant timestamp for frame odom at time 3040.704000 according to authority unknown_publisher\u001b[0m\n",
      "\u001b[33m[ WARN] [1667838058.401479605, 3040.660000000]: TF_REPEATED_DATA ignoring data with redundant timestamp for frame odom at time 3040.704000 according to authority /pose_integrator\u001b[0m\n",
      "\u001b[33m[ WARN] [1667838088.747457152, 3047.700000000]: TF_REPEATED_DATA ignoring data with redundant timestamp for frame odom at time 3047.732000 according to authority unknown_publisher\u001b[0m\n",
      "\u001b[33m[ WARN] [1667838088.748077814, 3047.700000000]: TF_REPEATED_DATA ignoring data with redundant timestamp for frame odom at time 3047.732000 according to authority /pose_integrator\u001b[0m\n",
      "\u001b[33m[ WARN] [1667838090.664688314, 3048.069000000]: TF_REPEATED_DATA ignoring data with redundant timestamp for frame odom at time 3048.092000 according to authority unknown_publisher\u001b[0m\n",
      "\u001b[33m[ WARN] [1667838090.664810528, 3048.069000000]: TF_REPEATED_DATA ignoring data with redundant timestamp for frame odom at time 3048.092000 according to authority /pose_integrator\u001b[0m\n",
      "\u001b[33m[ WARN] [1667838097.943869901, 3049.735000000]: TF_REPEATED_DATA ignoring data with redundant timestamp for frame odom at time 3049.777000 according to authority /pose_integrator\u001b[0m\n",
      "\u001b[33m[ WARN] [1667838097.944013681, 3049.735000000]: TF_REPEATED_DATA ignoring data with redundant timestamp for frame odom at time 3049.777000 according to authority unknown_publisher\u001b[0m\n",
      "\u001b[33m[ WARN] [1667838102.076877529, 3050.745000000]: TF_REPEATED_DATA ignoring data with redundant timestamp for frame odom at time 3050.792000 according to authority /pose_integrator\u001b[0m\n",
      "\u001b[33m[ WARN] [1667838102.077152950, 3050.745000000]: TF_REPEATED_DATA ignoring data with redundant timestamp for frame odom at time 3050.792000 according to authority unknown_publisher\u001b[0m\n",
      "\u001b[33m[ WARN] [1667838108.718706485, 3052.210000000]: TF_REPEATED_DATA ignoring data with redundant timestamp for frame odom at time 3052.210000 according to authority /pose_integrator\u001b[0m\n",
      "\u001b[33m[ WARN] [1667838108.719390339, 3052.210000000]: TF_REPEATED_DATA ignoring data with redundant timestamp for frame odom at time 3052.210000 according to authority unknown_publisher\u001b[0m\n",
      "\u001b[33m[ WARN] [1667838109.994782496, 3052.429000000]: TF_REPEATED_DATA ignoring data with redundant timestamp for frame odom at time 3052.470000 according to authority /pose_integrator\u001b[0m\n",
      "\u001b[33m[ WARN] [1667838109.995271159, 3052.429000000]: TF_REPEATED_DATA ignoring data with redundant timestamp for frame odom at time 3052.470000 according to authority unknown_publisher\u001b[0m\n",
      "\u001b[33m[ WARN] [1667838116.833861915, 3054.133000000]: TF_REPEATED_DATA ignoring data with redundant timestamp for frame odom at time 3054.165000 according to authority /pose_integrator\u001b[0m\n",
      "\u001b[33m[ WARN] [1667838116.834219052, 3054.133000000]: TF_REPEATED_DATA ignoring data with redundant timestamp for frame odom at time 3054.165000 according to authority unknown_publisher\u001b[0m\n",
      "\u001b[33m[ WARN] [1667838157.624403350, 3063.074000000]: TF_REPEATED_DATA ignoring data with redundant timestamp for frame odom at time 3063.108000 according to authority /pose_integrator\u001b[0m\n",
      "\u001b[33m[ WARN] [1667838157.624955550, 3063.074000000]: TF_REPEATED_DATA ignoring data with redundant timestamp for frame odom at time 3063.108000 according to authority unknown_publisher\u001b[0m\n",
      "\u001b[33m[ WARN] [1667838179.256098842, 3067.647000000]: TF_REPEATED_DATA ignoring data with redundant timestamp for frame odom at time 3067.673000 according to authority /pose_integrator\u001b[0m\n",
      "\u001b[33m[ WARN] [1667838179.257022103, 3067.647000000]: TF_REPEATED_DATA ignoring data with redundant timestamp for frame odom at time 3067.673000 according to authority unknown_publisher\u001b[0m\n"
     ]
    },
    {
     "name": "stderr",
     "output_type": "stream",
     "text": [
      "\u001b[33m[ WARN] [1667838184.131470007, 3068.597000000]: TF_REPEATED_DATA ignoring data with redundant timestamp for frame odom at time 3068.634000 according to authority /pose_integrator\u001b[0m\n",
      "\u001b[33m[ WARN] [1667838184.131941451, 3068.597000000]: TF_REPEATED_DATA ignoring data with redundant timestamp for frame odom at time 3068.634000 according to authority unknown_publisher\u001b[0m\n",
      "\u001b[33m[ WARN] [1667838186.199684180, 3069.048000000]: TF_REPEATED_DATA ignoring data with redundant timestamp for frame odom at time 3069.064000 according to authority /pose_integrator\u001b[0m\n",
      "\u001b[33m[ WARN] [1667838186.200890296, 3069.048000000]: TF_REPEATED_DATA ignoring data with redundant timestamp for frame odom at time 3069.064000 according to authority unknown_publisher\u001b[0m\n",
      "\u001b[33m[ WARN] [1667838202.239494181, 3072.448000000]: TF_REPEATED_DATA ignoring data with redundant timestamp for frame odom at time 3072.481000 according to authority /pose_integrator\u001b[0m\n",
      "\u001b[33m[ WARN] [1667838202.241008935, 3072.448000000]: TF_REPEATED_DATA ignoring data with redundant timestamp for frame odom at time 3072.481000 according to authority unknown_publisher\u001b[0m\n",
      "\u001b[33m[ WARN] [1667838205.166158889, 3073.044000000]: TF_REPEATED_DATA ignoring data with redundant timestamp for frame odom at time 3073.094000 according to authority /pose_integrator\u001b[0m\n",
      "\u001b[33m[ WARN] [1667838205.166497715, 3073.044000000]: TF_REPEATED_DATA ignoring data with redundant timestamp for frame odom at time 3073.094000 according to authority unknown_publisher\u001b[0m\n",
      "\u001b[33m[ WARN] [1667838239.220099030, 3080.047000000]: TF_REPEATED_DATA ignoring data with redundant timestamp for frame odom at time 3080.125000 according to authority /pose_integrator\u001b[0m\n",
      "\u001b[33m[ WARN] [1667838239.221563983, 3080.125000000]: TF_REPEATED_DATA ignoring data with redundant timestamp for frame odom at time 3080.125000 according to authority unknown_publisher\u001b[0m\n",
      "\u001b[33m[ WARN] [1667838251.321127080, 3082.748000000]: TF_REPEATED_DATA ignoring data with redundant timestamp for frame odom at time 3082.769000 according to authority /pose_integrator\u001b[0m\n",
      "\u001b[33m[ WARN] [1667838251.321437492, 3082.748000000]: TF_REPEATED_DATA ignoring data with redundant timestamp for frame odom at time 3082.769000 according to authority unknown_publisher\u001b[0m\n",
      "\u001b[33m[ WARN] [1667838261.612821222, 3084.915000000]: TF_REPEATED_DATA ignoring data with redundant timestamp for frame odom at time 3084.968000 according to authority /pose_integrator\u001b[0m\n",
      "\u001b[33m[ WARN] [1667838261.614621498, 3084.915000000]: TF_REPEATED_DATA ignoring data with redundant timestamp for frame odom at time 3084.968000 according to authority unknown_publisher\u001b[0m\n",
      "\u001b[33m[ WARN] [1667838303.260160957, 3094.200000000]: TF_REPEATED_DATA ignoring data with redundant timestamp for frame odom at time 3094.244000 according to authority /pose_integrator\u001b[0m\n",
      "\u001b[33m[ WARN] [1667838303.260436572, 3094.200000000]: TF_REPEATED_DATA ignoring data with redundant timestamp for frame odom at time 3094.244000 according to authority unknown_publisher\u001b[0m\n",
      "\u001b[33m[ WARN] [1667838312.547096312, 3096.125000000]: TF_REPEATED_DATA ignoring data with redundant timestamp for frame odom at time 3096.152000 according to authority /pose_integrator\u001b[0m\n",
      "\u001b[33m[ WARN] [1667838312.549595009, 3096.125000000]: TF_REPEATED_DATA ignoring data with redundant timestamp for frame odom at time 3096.152000 according to authority unknown_publisher\u001b[0m\n",
      "\u001b[33m[ WARN] [1667838351.454807380, 3105.491000000]: TF_REPEATED_DATA ignoring data with redundant timestamp for frame odom at time 3105.529000 according to authority /pose_integrator\u001b[0m\n",
      "\u001b[33m[ WARN] [1667838351.454916650, 3105.491000000]: TF_REPEATED_DATA ignoring data with redundant timestamp for frame odom at time 3105.529000 according to authority unknown_publisher\u001b[0m\n",
      "\u001b[33m[ WARN] [1667838362.600601500, 3108.242000000]: TF_REPEATED_DATA ignoring data with redundant timestamp for frame odom at time 3108.323000 according to authority /pose_integrator\u001b[0m\n",
      "\u001b[33m[ WARN] [1667838362.607205028, 3108.242000000]: TF_REPEATED_DATA ignoring data with redundant timestamp for frame odom at time 3108.323000 according to authority unknown_publisher\u001b[0m\n",
      "\u001b[33m[ WARN] [1667838381.153136331, 3113.019000000]: TF_REPEATED_DATA ignoring data with redundant timestamp for frame odom at time 3113.086000 according to authority /pose_integrator\u001b[0m\n",
      "\u001b[33m[ WARN] [1667838381.153639473, 3113.019000000]: TF_REPEATED_DATA ignoring data with redundant timestamp for frame odom at time 3113.086000 according to authority unknown_publisher\u001b[0m\n",
      "\u001b[33m[ WARN] [1667838384.077151712, 3113.811000000]: TF_REPEATED_DATA ignoring data with redundant timestamp for frame odom at time 3113.860000 according to authority /pose_integrator\u001b[0m\n",
      "\u001b[33m[ WARN] [1667838384.077578338, 3113.811000000]: TF_REPEATED_DATA ignoring data with redundant timestamp for frame odom at time 3113.860000 according to authority unknown_publisher\u001b[0m\n",
      "\u001b[33m[ WARN] [1667838391.166689915, 3115.612000000]: TF_REPEATED_DATA ignoring data with redundant timestamp for frame odom at time 3115.633000 according to authority unknown_publisher\u001b[0m\n",
      "\u001b[33m[ WARN] [1667838391.167714395, 3115.612000000]: TF_REPEATED_DATA ignoring data with redundant timestamp for frame odom at time 3115.633000 according to authority /pose_integrator\u001b[0m\n",
      "\u001b[33m[ WARN] [1667838409.298482541, 3120.499000000]: TF_REPEATED_DATA ignoring data with redundant timestamp for frame odom at time 3120.527000 according to authority /pose_integrator\u001b[0m\n",
      "\u001b[33m[ WARN] [1667838409.303430209, 3120.499000000]: TF_REPEATED_DATA ignoring data with redundant timestamp for frame odom at time 3120.527000 according to authority unknown_publisher\u001b[0m\n",
      "\u001b[33m[ WARN] [1667838411.351476220, 3121.078000000]: TF_REPEATED_DATA ignoring data with redundant timestamp for frame odom at time 3121.099000 according to authority /pose_integrator\u001b[0m\n",
      "\u001b[33m[ WARN] [1667838411.353127417, 3121.078000000]: TF_REPEATED_DATA ignoring data with redundant timestamp for frame odom at time 3121.099000 according to authority unknown_publisher\u001b[0m\n",
      "\u001b[33m[ WARN] [1667838417.872489684, 3122.958000000]: TF_REPEATED_DATA ignoring data with redundant timestamp for frame odom at time 3123.011000 according to authority /pose_integrator\u001b[0m\n",
      "\u001b[33m[ WARN] [1667838417.874290193, 3122.958000000]: TF_REPEATED_DATA ignoring data with redundant timestamp for frame odom at time 3123.011000 according to authority unknown_publisher\u001b[0m\n",
      "\u001b[33m[ WARN] [1667838421.983225347, 3124.109000000]: TF_REPEATED_DATA ignoring data with redundant timestamp for frame odom at time 3124.135000 according to authority /pose_integrator\u001b[0m\n",
      "\u001b[33m[ WARN] [1667838421.984998590, 3124.109000000]: TF_REPEATED_DATA ignoring data with redundant timestamp for frame odom at time 3124.135000 according to authority unknown_publisher\u001b[0m\n",
      "\u001b[33m[ WARN] [1667838457.044015610, 3133.340000000]: TF_REPEATED_DATA ignoring data with redundant timestamp for frame odom at time 3133.387000 according to authority /pose_integrator\u001b[0m\n",
      "\u001b[33m[ WARN] [1667838457.046755900, 3133.340000000]: TF_REPEATED_DATA ignoring data with redundant timestamp for frame odom at time 3133.387000 according to authority unknown_publisher\u001b[0m\n",
      "\u001b[33m[ WARN] [1667838457.277013576, 3133.424000000]: TF_REPEATED_DATA ignoring data with redundant timestamp for frame odom at time 3133.480000 according to authority unknown_publisher\u001b[0m\n",
      "\u001b[33m[ WARN] [1667838457.277647280, 3133.424000000]: TF_REPEATED_DATA ignoring data with redundant timestamp for frame odom at time 3133.480000 according to authority /pose_integrator\u001b[0m\n",
      "\u001b[33m[ WARN] [1667838469.618081819, 3136.792000000]: TF_REPEATED_DATA ignoring data with redundant timestamp for frame odom at time 3136.818000 according to authority /pose_integrator\u001b[0m\n",
      "\u001b[33m[ WARN] [1667838469.621403215, 3136.792000000]: TF_REPEATED_DATA ignoring data with redundant timestamp for frame odom at time 3136.818000 according to authority unknown_publisher\u001b[0m\n",
      "\u001b[33m[ WARN] [1667838471.405440843, 3137.219000000]: TF_REPEATED_DATA ignoring data with redundant timestamp for frame odom at time 3137.255000 according to authority /pose_integrator\u001b[0m\n",
      "\u001b[33m[ WARN] [1667838471.408026885, 3137.219000000]: TF_REPEATED_DATA ignoring data with redundant timestamp for frame odom at time 3137.255000 according to authority unknown_publisher\u001b[0m\n"
     ]
    },
    {
     "name": "stderr",
     "output_type": "stream",
     "text": [
      "\u001b[33m[ WARN] [1667838474.051744683, 3138.003000000]: TF_REPEATED_DATA ignoring data with redundant timestamp for frame odom at time 3138.026000 according to authority /pose_integrator\u001b[0m\n",
      "\u001b[33m[ WARN] [1667838474.051894400, 3138.003000000]: TF_REPEATED_DATA ignoring data with redundant timestamp for frame odom at time 3138.026000 according to authority unknown_publisher\u001b[0m\n",
      "\u001b[33m[ WARN] [1667838500.350564181, 3145.052000000]: TF_REPEATED_DATA ignoring data with redundant timestamp for frame odom at time 3145.052000 according to authority unknown_publisher\u001b[0m\n",
      "\u001b[33m[ WARN] [1667838500.352426041, 3145.052000000]: TF_REPEATED_DATA ignoring data with redundant timestamp for frame odom at time 3145.052000 according to authority /pose_integrator\u001b[0m\n",
      "\u001b[33m[ WARN] [1667838502.347291394, 3145.581000000]: TF_REPEATED_DATA ignoring data with redundant timestamp for frame odom at time 3145.650000 according to authority /pose_integrator\u001b[0m\n",
      "\u001b[33m[ WARN] [1667838502.349961351, 3145.581000000]: TF_REPEATED_DATA ignoring data with redundant timestamp for frame odom at time 3145.650000 according to authority unknown_publisher\u001b[0m\n",
      "\u001b[33m[ WARN] [1667838505.501263991, 3146.409000000]: TF_REPEATED_DATA ignoring data with redundant timestamp for frame odom at time 3146.507000 according to authority /pose_integrator\u001b[0m\n",
      "\u001b[33m[ WARN] [1667838505.502159596, 3146.409000000]: TF_REPEATED_DATA ignoring data with redundant timestamp for frame odom at time 3146.507000 according to authority unknown_publisher\u001b[0m\n",
      "\u001b[33m[ WARN] [1667838513.155036844, 3148.335000000]: TF_REPEATED_DATA ignoring data with redundant timestamp for frame odom at time 3148.377000 according to authority /pose_integrator\u001b[0m\n",
      "\u001b[33m[ WARN] [1667838513.155141709, 3148.335000000]: TF_REPEATED_DATA ignoring data with redundant timestamp for frame odom at time 3148.377000 according to authority unknown_publisher\u001b[0m\n",
      "\u001b[33m[ WARN] [1667838545.411564374, 3156.656000000]: TF_REPEATED_DATA ignoring data with redundant timestamp for frame odom at time 3156.689000 according to authority /pose_integrator\u001b[0m\n",
      "\u001b[33m[ WARN] [1667838545.412108650, 3156.656000000]: TF_REPEATED_DATA ignoring data with redundant timestamp for frame odom at time 3156.689000 according to authority unknown_publisher\u001b[0m\n",
      "\u001b[33m[ WARN] [1667838569.016299102, 3162.571000000]: TF_REPEATED_DATA ignoring data with redundant timestamp for frame odom at time 3162.609000 according to authority /pose_integrator\u001b[0m\n",
      "\u001b[33m[ WARN] [1667838569.018739132, 3162.571000000]: TF_REPEATED_DATA ignoring data with redundant timestamp for frame odom at time 3162.609000 according to authority unknown_publisher\u001b[0m\n",
      "\u001b[33m[ WARN] [1667838573.071984961, 3163.491000000]: TF_REPEATED_DATA ignoring data with redundant timestamp for frame odom at time 3163.524000 according to authority /pose_integrator\u001b[0m\n",
      "\u001b[33m[ WARN] [1667838573.073762302, 3163.491000000]: TF_REPEATED_DATA ignoring data with redundant timestamp for frame odom at time 3163.524000 according to authority unknown_publisher\u001b[0m\n",
      "\u001b[33m[ WARN] [1667838593.073652248, 3168.476000000]: TF_REPEATED_DATA ignoring data with redundant timestamp for frame odom at time 3168.509000 according to authority unknown_publisher\u001b[0m\n",
      "\u001b[33m[ WARN] [1667838593.074855284, 3168.476000000]: TF_REPEATED_DATA ignoring data with redundant timestamp for frame odom at time 3168.509000 according to authority /pose_integrator\u001b[0m\n",
      "\u001b[33m[ WARN] [1667838619.171785859, 3174.558000000]: TF_REPEATED_DATA ignoring data with redundant timestamp for frame odom at time 3174.589000 according to authority /pose_integrator\u001b[0m\n",
      "\u001b[33m[ WARN] [1667838619.174830890, 3174.589000000]: TF_REPEATED_DATA ignoring data with redundant timestamp for frame odom at time 3174.589000 according to authority unknown_publisher\u001b[0m\n",
      "\u001b[33m[ WARN] [1667838627.772362251, 3176.698000000]: TF_REPEATED_DATA ignoring data with redundant timestamp for frame odom at time 3176.721000 according to authority /pose_integrator\u001b[0m\n",
      "\u001b[33m[ WARN] [1667838627.778281367, 3176.698000000]: TF_REPEATED_DATA ignoring data with redundant timestamp for frame odom at time 3176.721000 according to authority unknown_publisher\u001b[0m\n",
      "\u001b[33m[ WARN] [1667838632.888872305, 3178.109000000]: TF_REPEATED_DATA ignoring data with redundant timestamp for frame odom at time 3178.132000 according to authority /pose_integrator\u001b[0m\n",
      "\u001b[33m[ WARN] [1667838632.889416550, 3178.109000000]: TF_REPEATED_DATA ignoring data with redundant timestamp for frame odom at time 3178.132000 according to authority unknown_publisher\u001b[0m\n",
      "\u001b[33m[ WARN] [1667838637.661644924, 3179.242000000]: TF_REPEATED_DATA ignoring data with redundant timestamp for frame odom at time 3179.295000 according to authority /pose_integrator\u001b[0m\n",
      "\u001b[33m[ WARN] [1667838637.663706262, 3179.242000000]: TF_REPEATED_DATA ignoring data with redundant timestamp for frame odom at time 3179.295000 according to authority unknown_publisher\u001b[0m\n",
      "\u001b[33m[ WARN] [1667838670.185321437, 3187.490000000]: TF_REPEATED_DATA ignoring data with redundant timestamp for frame odom at time 3187.519000 according to authority /pose_integrator\u001b[0m\n",
      "\u001b[33m[ WARN] [1667838670.186895655, 3187.490000000]: TF_REPEATED_DATA ignoring data with redundant timestamp for frame odom at time 3187.519000 according to authority unknown_publisher\u001b[0m\n",
      "\u001b[33m[ WARN] [1667838689.339435824, 3192.386000000]: TF_REPEATED_DATA ignoring data with redundant timestamp for frame odom at time 3192.434000 according to authority /pose_integrator\u001b[0m\n",
      "\u001b[33m[ WARN] [1667838689.339932561, 3192.386000000]: TF_REPEATED_DATA ignoring data with redundant timestamp for frame odom at time 3192.434000 according to authority unknown_publisher\u001b[0m\n",
      "\u001b[33m[ WARN] [1667838706.082392439, 3196.613000000]: TF_REPEATED_DATA ignoring data with redundant timestamp for frame odom at time 3196.627000 according to authority /pose_integrator\u001b[0m\n",
      "\u001b[33m[ WARN] [1667838706.082535438, 3196.613000000]: TF_REPEATED_DATA ignoring data with redundant timestamp for frame odom at time 3196.627000 according to authority unknown_publisher\u001b[0m\n",
      "\u001b[33m[ WARN] [1667838709.303502773, 3197.468000000]: TF_REPEATED_DATA ignoring data with redundant timestamp for frame odom at time 3197.490000 according to authority unknown_publisher\u001b[0m\n",
      "\u001b[33m[ WARN] [1667838709.304550763, 3197.468000000]: TF_REPEATED_DATA ignoring data with redundant timestamp for frame odom at time 3197.490000 according to authority /pose_integrator\u001b[0m\n",
      "\u001b[33m[ WARN] [1667838725.078807790, 3201.433000000]: TF_REPEATED_DATA ignoring data with redundant timestamp for frame odom at time 3201.433000 according to authority /pose_integrator\u001b[0m\n",
      "\u001b[33m[ WARN] [1667838725.079104894, 3201.433000000]: TF_REPEATED_DATA ignoring data with redundant timestamp for frame odom at time 3201.433000 according to authority unknown_publisher\u001b[0m\n",
      "\u001b[33m[ WARN] [1667838729.249236541, 3202.279000000]: TF_REPEATED_DATA ignoring data with redundant timestamp for frame odom at time 3202.344000 according to authority /pose_integrator\u001b[0m\n",
      "\u001b[33m[ WARN] [1667838729.249697469, 3202.279000000]: TF_REPEATED_DATA ignoring data with redundant timestamp for frame odom at time 3202.344000 according to authority unknown_publisher\u001b[0m\n",
      "\u001b[33m[ WARN] [1667838750.255221992, 3207.484000000]: TF_REPEATED_DATA ignoring data with redundant timestamp for frame odom at time 3207.515000 according to authority unknown_publisher\u001b[0m\n",
      "\u001b[33m[ WARN] [1667838750.255310635, 3207.484000000]: TF_REPEATED_DATA ignoring data with redundant timestamp for frame odom at time 3207.515000 according to authority /pose_integrator\u001b[0m\n",
      "\u001b[33m[ WARN] [1667838750.762275278, 3207.614000000]: TF_REPEATED_DATA ignoring data with redundant timestamp for frame odom at time 3207.653000 according to authority /pose_integrator\u001b[0m\n",
      "\u001b[33m[ WARN] [1667838750.765369655, 3207.614000000]: TF_REPEATED_DATA ignoring data with redundant timestamp for frame odom at time 3207.653000 according to authority unknown_publisher\u001b[0m\n",
      "\u001b[33m[ WARN] [1667838760.205939367, 3209.678000000]: TF_REPEATED_DATA ignoring data with redundant timestamp for frame odom at time 3209.717000 according to authority /pose_integrator\u001b[0m\n",
      "\u001b[33m[ WARN] [1667838760.208235241, 3209.678000000]: TF_REPEATED_DATA ignoring data with redundant timestamp for frame odom at time 3209.717000 according to authority unknown_publisher\u001b[0m\n"
     ]
    },
    {
     "name": "stderr",
     "output_type": "stream",
     "text": [
      "\u001b[33m[ WARN] [1667838784.105269588, 3215.730000000]: TF_REPEATED_DATA ignoring data with redundant timestamp for frame odom at time 3215.769000 according to authority /pose_integrator\u001b[0m\n",
      "\u001b[33m[ WARN] [1667838784.109251135, 3215.730000000]: TF_REPEATED_DATA ignoring data with redundant timestamp for frame odom at time 3215.769000 according to authority unknown_publisher\u001b[0m\n",
      "\u001b[33m[ WARN] [1667838785.463593332, 3216.083000000]: TF_REPEATED_DATA ignoring data with redundant timestamp for frame odom at time 3216.111000 according to authority /pose_integrator\u001b[0m\n",
      "\u001b[33m[ WARN] [1667838785.464192647, 3216.083000000]: TF_REPEATED_DATA ignoring data with redundant timestamp for frame odom at time 3216.111000 according to authority unknown_publisher\u001b[0m\n",
      "\u001b[33m[ WARN] [1667838788.656141449, 3216.877000000]: TF_REPEATED_DATA ignoring data with redundant timestamp for frame odom at time 3216.898000 according to authority /pose_integrator\u001b[0m\n",
      "\u001b[33m[ WARN] [1667838788.656306765, 3216.877000000]: TF_REPEATED_DATA ignoring data with redundant timestamp for frame odom at time 3216.898000 according to authority unknown_publisher\u001b[0m\n",
      "\u001b[33m[ WARN] [1667838812.195054827, 3222.608000000]: TF_REPEATED_DATA ignoring data with redundant timestamp for frame odom at time 3222.642000 according to authority /pose_integrator\u001b[0m\n",
      "\u001b[33m[ WARN] [1667838812.195182063, 3222.608000000]: TF_REPEATED_DATA ignoring data with redundant timestamp for frame odom at time 3222.642000 according to authority unknown_publisher\u001b[0m\n",
      "\u001b[33m[ WARN] [1667838832.230373300, 3227.991000000]: TF_REPEATED_DATA ignoring data with redundant timestamp for frame odom at time 3228.058000 according to authority /pose_integrator\u001b[0m\n",
      "\u001b[33m[ WARN] [1667838832.231693531, 3227.991000000]: TF_REPEATED_DATA ignoring data with redundant timestamp for frame odom at time 3228.058000 according to authority unknown_publisher\u001b[0m\n",
      "\u001b[33m[ WARN] [1667838833.627975042, 3228.342000000]: TF_REPEATED_DATA ignoring data with redundant timestamp for frame odom at time 3228.364000 according to authority /pose_integrator\u001b[0m\n",
      "\u001b[33m[ WARN] [1667838833.630496220, 3228.342000000]: TF_REPEATED_DATA ignoring data with redundant timestamp for frame odom at time 3228.364000 according to authority unknown_publisher\u001b[0m\n",
      "\u001b[33m[ WARN] [1667838834.222751843, 3228.475000000]: TF_REPEATED_DATA ignoring data with redundant timestamp for frame odom at time 3228.525000 according to authority unknown_publisher\u001b[0m\n",
      "\u001b[33m[ WARN] [1667838834.224839691, 3228.475000000]: TF_REPEATED_DATA ignoring data with redundant timestamp for frame odom at time 3228.525000 according to authority /pose_integrator\u001b[0m\n",
      "\u001b[33m[ WARN] [1667838850.643122121, 3232.242000000]: TF_REPEATED_DATA ignoring data with redundant timestamp for frame odom at time 3232.321000 according to authority /pose_integrator\u001b[0m\n",
      "\u001b[33m[ WARN] [1667838850.647366638, 3232.242000000]: TF_REPEATED_DATA ignoring data with redundant timestamp for frame odom at time 3232.321000 according to authority unknown_publisher\u001b[0m\n",
      "\u001b[33m[ WARN] [1667838853.357227832, 3233.033000000]: TF_REPEATED_DATA ignoring data with redundant timestamp for frame odom at time 3233.093000 according to authority /pose_integrator\u001b[0m\n",
      "\u001b[33m[ WARN] [1667838853.359519769, 3233.033000000]: TF_REPEATED_DATA ignoring data with redundant timestamp for frame odom at time 3233.093000 according to authority unknown_publisher\u001b[0m\n",
      "\u001b[33m[ WARN] [1667838861.280258695, 3234.799000000]: TF_REPEATED_DATA ignoring data with redundant timestamp for frame odom at time 3234.819000 according to authority /pose_integrator\u001b[0m\n",
      "\u001b[33m[ WARN] [1667838861.282363942, 3234.799000000]: TF_REPEATED_DATA ignoring data with redundant timestamp for frame odom at time 3234.819000 according to authority unknown_publisher\u001b[0m\n",
      "\u001b[33m[ WARN] [1667838864.747312656, 3235.594000000]: TF_REPEATED_DATA ignoring data with redundant timestamp for frame odom at time 3235.641000 according to authority /pose_integrator\u001b[0m\n",
      "\u001b[33m[ WARN] [1667838864.748543755, 3235.594000000]: TF_REPEATED_DATA ignoring data with redundant timestamp for frame odom at time 3235.641000 according to authority unknown_publisher\u001b[0m\n",
      "\u001b[33m[ WARN] [1667838905.409050626, 3245.897000000]: TF_REPEATED_DATA ignoring data with redundant timestamp for frame odom at time 3245.929000 according to authority /pose_integrator\u001b[0m\n",
      "\u001b[33m[ WARN] [1667838905.410365688, 3245.897000000]: TF_REPEATED_DATA ignoring data with redundant timestamp for frame odom at time 3245.929000 according to authority unknown_publisher\u001b[0m\n",
      "\u001b[33m[ WARN] [1667838922.704293316, 3250.270000000]: TF_REPEATED_DATA ignoring data with redundant timestamp for frame odom at time 3250.376000 according to authority /pose_integrator\u001b[0m\n",
      "\u001b[33m[ WARN] [1667838922.706623945, 3250.270000000]: TF_REPEATED_DATA ignoring data with redundant timestamp for frame odom at time 3250.376000 according to authority unknown_publisher\u001b[0m\n",
      "\u001b[33m[ WARN] [1667838930.063815424, 3252.045000000]: TF_REPEATED_DATA ignoring data with redundant timestamp for frame odom at time 3252.076000 according to authority /pose_integrator\u001b[0m\n",
      "\u001b[33m[ WARN] [1667838930.063980595, 3252.045000000]: TF_REPEATED_DATA ignoring data with redundant timestamp for frame odom at time 3252.076000 according to authority unknown_publisher\u001b[0m\n",
      "\u001b[33m[ WARN] [1667838937.366550906, 3253.841000000]: TF_REPEATED_DATA ignoring data with redundant timestamp for frame odom at time 3253.841000 according to authority unknown_publisher\u001b[0m\n",
      "\u001b[33m[ WARN] [1667838937.366839886, 3253.841000000]: TF_REPEATED_DATA ignoring data with redundant timestamp for frame odom at time 3253.841000 according to authority /pose_integrator\u001b[0m\n",
      "\u001b[33m[ WARN] [1667838975.362340520, 3263.240000000]: TF_REPEATED_DATA ignoring data with redundant timestamp for frame odom at time 3263.256000 according to authority unknown_publisher\u001b[0m\n",
      "\u001b[33m[ WARN] [1667838975.364437288, 3263.240000000]: TF_REPEATED_DATA ignoring data with redundant timestamp for frame odom at time 3263.256000 according to authority /pose_integrator\u001b[0m\n",
      "\u001b[33m[ WARN] [1667838983.527839146, 3264.956000000]: TF_REPEATED_DATA ignoring data with redundant timestamp for frame odom at time 3264.981000 according to authority unknown_publisher\u001b[0m\n",
      "\u001b[33m[ WARN] [1667838983.528535852, 3264.956000000]: TF_REPEATED_DATA ignoring data with redundant timestamp for frame odom at time 3264.981000 according to authority /pose_integrator\u001b[0m\n",
      "\u001b[33m[ WARN] [1667839001.569823608, 3268.337000000]: TF_REPEATED_DATA ignoring data with redundant timestamp for frame odom at time 3268.357000 according to authority /pose_integrator\u001b[0m\n",
      "\u001b[33m[ WARN] [1667839001.570431122, 3268.337000000]: TF_REPEATED_DATA ignoring data with redundant timestamp for frame odom at time 3268.357000 according to authority unknown_publisher\u001b[0m\n",
      "\u001b[33m[ WARN] [1667839001.839011092, 3268.376000000]: TF_REPEATED_DATA ignoring data with redundant timestamp for frame odom at time 3268.434000 according to authority /pose_integrator\u001b[0m\n",
      "\u001b[33m[ WARN] [1667839001.839483677, 3268.376000000]: TF_REPEATED_DATA ignoring data with redundant timestamp for frame odom at time 3268.434000 according to authority unknown_publisher\u001b[0m\n",
      "\u001b[33m[ WARN] [1667839002.153247825, 3268.513000000]: TF_REPEATED_DATA ignoring data with redundant timestamp for frame odom at time 3268.560000 according to authority /pose_integrator\u001b[0m\n",
      "\u001b[33m[ WARN] [1667839002.154744911, 3268.513000000]: TF_REPEATED_DATA ignoring data with redundant timestamp for frame odom at time 3268.560000 according to authority unknown_publisher\u001b[0m\n",
      "\u001b[33m[ WARN] [1667839041.357253153, 3275.462000000]: TF_REPEATED_DATA ignoring data with redundant timestamp for frame odom at time 3275.534000 according to authority /pose_integrator\u001b[0m\n",
      "\u001b[33m[ WARN] [1667839041.357810845, 3275.462000000]: TF_REPEATED_DATA ignoring data with redundant timestamp for frame odom at time 3275.534000 according to authority unknown_publisher\u001b[0m\n",
      "\u001b[33m[ WARN] [1667839041.786165178, 3275.649000000]: TF_REPEATED_DATA ignoring data with redundant timestamp for frame odom at time 3275.668000 according to authority /pose_integrator\u001b[0m\n",
      "\u001b[33m[ WARN] [1667839041.787011501, 3275.649000000]: TF_REPEATED_DATA ignoring data with redundant timestamp for frame odom at time 3275.668000 according to authority unknown_publisher\u001b[0m\n"
     ]
    },
    {
     "name": "stderr",
     "output_type": "stream",
     "text": [
      "\u001b[33m[ WARN] [1667839047.788934365, 3276.596000000]: TF_REPEATED_DATA ignoring data with redundant timestamp for frame odom at time 3276.634000 according to authority unknown_publisher\u001b[0m\n",
      "\u001b[33m[ WARN] [1667839047.789085307, 3276.596000000]: TF_REPEATED_DATA ignoring data with redundant timestamp for frame odom at time 3276.634000 according to authority /pose_integrator\u001b[0m\n",
      "\u001b[33m[ WARN] [1667839051.267447092, 3277.224000000]: TF_REPEATED_DATA ignoring data with redundant timestamp for frame odom at time 3277.284000 according to authority /pose_integrator\u001b[0m\n",
      "\u001b[33m[ WARN] [1667839051.268409059, 3277.224000000]: TF_REPEATED_DATA ignoring data with redundant timestamp for frame odom at time 3277.284000 according to authority unknown_publisher\u001b[0m\n",
      "\u001b[33m[ WARN] [1667839063.120903174, 3279.182000000]: TF_REPEATED_DATA ignoring data with redundant timestamp for frame odom at time 3279.217000 according to authority /pose_integrator\u001b[0m\n",
      "\u001b[33m[ WARN] [1667839063.121515402, 3279.182000000]: TF_REPEATED_DATA ignoring data with redundant timestamp for frame odom at time 3279.217000 according to authority unknown_publisher\u001b[0m\n",
      "\u001b[33m[ WARN] [1667839063.487999593, 3279.270000000]: TF_REPEATED_DATA ignoring data with redundant timestamp for frame odom at time 3279.309000 according to authority /pose_integrator\u001b[0m\n",
      "\u001b[33m[ WARN] [1667839063.488734387, 3279.270000000]: TF_REPEATED_DATA ignoring data with redundant timestamp for frame odom at time 3279.309000 according to authority unknown_publisher\u001b[0m\n",
      "\u001b[33m[ WARN] [1667839082.576377321, 3282.588000000]: TF_REPEATED_DATA ignoring data with redundant timestamp for frame odom at time 3282.624000 according to authority /pose_integrator\u001b[0m\n",
      "\u001b[33m[ WARN] [1667839082.579504510, 3282.588000000]: TF_REPEATED_DATA ignoring data with redundant timestamp for frame odom at time 3282.624000 according to authority unknown_publisher\u001b[0m\n",
      "\u001b[33m[ WARN] [1667839090.288792594, 3283.906000000]: TF_REPEATED_DATA ignoring data with redundant timestamp for frame odom at time 3283.945000 according to authority /pose_integrator\u001b[0m\n",
      "\u001b[33m[ WARN] [1667839090.291825859, 3283.906000000]: TF_REPEATED_DATA ignoring data with redundant timestamp for frame odom at time 3283.945000 according to authority unknown_publisher\u001b[0m\n",
      "\u001b[33m[ WARN] [1667839095.597111776, 3284.830000000]: TF_REPEATED_DATA ignoring data with redundant timestamp for frame odom at time 3284.858000 according to authority /pose_integrator\u001b[0m\n",
      "\u001b[33m[ WARN] [1667839095.598808827, 3284.830000000]: TF_REPEATED_DATA ignoring data with redundant timestamp for frame odom at time 3284.858000 according to authority unknown_publisher\u001b[0m\n",
      "\u001b[33m[ WARN] [1667839097.113192526, 3285.155000000]: TF_REPEATED_DATA ignoring data with redundant timestamp for frame odom at time 3285.190000 according to authority /pose_integrator\u001b[0m\n",
      "\u001b[33m[ WARN] [1667839097.113758934, 3285.155000000]: TF_REPEATED_DATA ignoring data with redundant timestamp for frame odom at time 3285.190000 according to authority unknown_publisher\u001b[0m\n",
      "\u001b[33m[ WARN] [1667839123.513869340, 3290.064000000]: TF_REPEATED_DATA ignoring data with redundant timestamp for frame odom at time 3290.109000 according to authority /pose_integrator\u001b[0m\n",
      "\u001b[33m[ WARN] [1667839123.514042168, 3290.064000000]: TF_REPEATED_DATA ignoring data with redundant timestamp for frame odom at time 3290.109000 according to authority unknown_publisher\u001b[0m\n",
      "\u001b[33m[ WARN] [1667839160.319268651, 3296.793000000]: TF_REPEATED_DATA ignoring data with redundant timestamp for frame odom at time 3296.829000 according to authority unknown_publisher\u001b[0m\n",
      "\u001b[33m[ WARN] [1667839160.320093291, 3296.793000000]: TF_REPEATED_DATA ignoring data with redundant timestamp for frame odom at time 3296.829000 according to authority /pose_integrator\u001b[0m\n",
      "\u001b[33m[ WARN] [1667839168.828757517, 3298.335000000]: TF_REPEATED_DATA ignoring data with redundant timestamp for frame odom at time 3298.353000 according to authority unknown_publisher\u001b[0m\n",
      "\u001b[33m[ WARN] [1667839168.828948260, 3298.335000000]: TF_REPEATED_DATA ignoring data with redundant timestamp for frame odom at time 3298.353000 according to authority /pose_integrator\u001b[0m\n",
      "\u001b[33m[ WARN] [1667839231.758586710, 3310.329000000]: TF_REPEATED_DATA ignoring data with redundant timestamp for frame odom at time 3310.369000 according to authority /pose_integrator\u001b[0m\n",
      "\u001b[33m[ WARN] [1667839231.758690659, 3310.329000000]: TF_REPEATED_DATA ignoring data with redundant timestamp for frame odom at time 3310.369000 according to authority unknown_publisher\u001b[0m\n",
      "\u001b[33m[ WARN] [1667839242.959801156, 3313.056000000]: TF_REPEATED_DATA ignoring data with redundant timestamp for frame odom at time 3313.083000 according to authority /pose_integrator\u001b[0m\n",
      "\u001b[33m[ WARN] [1667839242.960447390, 3313.056000000]: TF_REPEATED_DATA ignoring data with redundant timestamp for frame odom at time 3313.083000 according to authority unknown_publisher\u001b[0m\n",
      "\u001b[33m[ WARN] [1667839256.279524938, 3316.585000000]: TF_REPEATED_DATA ignoring data with redundant timestamp for frame odom at time 3316.617000 according to authority /pose_integrator\u001b[0m\n",
      "\u001b[33m[ WARN] [1667839256.280042797, 3316.585000000]: TF_REPEATED_DATA ignoring data with redundant timestamp for frame odom at time 3316.617000 according to authority unknown_publisher\u001b[0m\n",
      "\u001b[33m[ WARN] [1667839259.396802158, 3317.423000000]: TF_REPEATED_DATA ignoring data with redundant timestamp for frame odom at time 3317.468000 according to authority /pose_integrator\u001b[0m\n",
      "\u001b[33m[ WARN] [1667839259.399102166, 3317.423000000]: TF_REPEATED_DATA ignoring data with redundant timestamp for frame odom at time 3317.468000 according to authority unknown_publisher\u001b[0m\n",
      "\u001b[33m[ WARN] [1667839263.867551056, 3318.602000000]: TF_REPEATED_DATA ignoring data with redundant timestamp for frame odom at time 3318.624000 according to authority /pose_integrator\u001b[0m\n",
      "\u001b[33m[ WARN] [1667839263.869608273, 3318.602000000]: TF_REPEATED_DATA ignoring data with redundant timestamp for frame odom at time 3318.624000 according to authority unknown_publisher\u001b[0m\n",
      "\u001b[33m[ WARN] [1667839264.173352698, 3318.674000000]: TF_REPEATED_DATA ignoring data with redundant timestamp for frame odom at time 3318.726000 according to authority /pose_integrator\u001b[0m\n",
      "\u001b[33m[ WARN] [1667839264.175220586, 3318.674000000]: TF_REPEATED_DATA ignoring data with redundant timestamp for frame odom at time 3318.726000 according to authority unknown_publisher\u001b[0m\n",
      "\u001b[33m[ WARN] [1667839284.702130118, 3323.902000000]: TF_REPEATED_DATA ignoring data with redundant timestamp for frame odom at time 3323.936000 according to authority /pose_integrator\u001b[0m\n",
      "\u001b[33m[ WARN] [1667839284.704088828, 3323.902000000]: TF_REPEATED_DATA ignoring data with redundant timestamp for frame odom at time 3323.936000 according to authority unknown_publisher\u001b[0m\n",
      "\u001b[33m[ WARN] [1667839290.787071711, 3325.628000000]: TF_REPEATED_DATA ignoring data with redundant timestamp for frame odom at time 3325.678000 according to authority /pose_integrator\u001b[0m\n",
      "\u001b[33m[ WARN] [1667839290.787661672, 3325.628000000]: TF_REPEATED_DATA ignoring data with redundant timestamp for frame odom at time 3325.678000 according to authority unknown_publisher\u001b[0m\n",
      "\u001b[33m[ WARN] [1667839297.449170198, 3327.300000000]: TF_REPEATED_DATA ignoring data with redundant timestamp for frame odom at time 3327.342000 according to authority /pose_integrator\u001b[0m\n",
      "\u001b[33m[ WARN] [1667839297.451238532, 3327.300000000]: TF_REPEATED_DATA ignoring data with redundant timestamp for frame odom at time 3327.342000 according to authority unknown_publisher\u001b[0m\n",
      "\u001b[33m[ WARN] [1667839309.578100240, 3330.045000000]: TF_REPEATED_DATA ignoring data with redundant timestamp for frame odom at time 3330.085000 according to authority /pose_integrator\u001b[0m\n",
      "\u001b[33m[ WARN] [1667839309.579036140, 3330.045000000]: TF_REPEATED_DATA ignoring data with redundant timestamp for frame odom at time 3330.085000 according to authority unknown_publisher\u001b[0m\n",
      "\u001b[33m[ WARN] [1667839313.122680819, 3330.873000000]: TF_REPEATED_DATA ignoring data with redundant timestamp for frame odom at time 3330.873000 according to authority /pose_integrator\u001b[0m\n",
      "\u001b[33m[ WARN] [1667839313.130650136, 3330.873000000]: TF_REPEATED_DATA ignoring data with redundant timestamp for frame odom at time 3330.873000 according to authority unknown_publisher\u001b[0m\n"
     ]
    },
    {
     "name": "stderr",
     "output_type": "stream",
     "text": [
      "\u001b[33m[ WARN] [1667839336.179543165, 3336.485000000]: TF_REPEATED_DATA ignoring data with redundant timestamp for frame odom at time 3336.537000 according to authority /pose_integrator\u001b[0m\n",
      "\u001b[33m[ WARN] [1667839336.180311208, 3336.485000000]: TF_REPEATED_DATA ignoring data with redundant timestamp for frame odom at time 3336.537000 according to authority unknown_publisher\u001b[0m\n",
      "\u001b[33m[ WARN] [1667839361.600646801, 3341.680000000]: TF_REPEATED_DATA ignoring data with redundant timestamp for frame odom at time 3341.705000 according to authority /pose_integrator\u001b[0m\n",
      "\u001b[33m[ WARN] [1667839361.603569607, 3341.680000000]: TF_REPEATED_DATA ignoring data with redundant timestamp for frame odom at time 3341.705000 according to authority unknown_publisher\u001b[0m\n"
     ]
    }
   ],
   "source": [
    "grip.close()"
   ]
  },
  {
   "cell_type": "code",
   "execution_count": null,
   "id": "f323dec0",
   "metadata": {
    "scrolled": true
   },
   "outputs": [
    {
     "name": "stderr",
     "output_type": "stream",
     "text": [
      "\u001b[33m[ WARN] [1670264520.207745480, 2488.672000000]: TF_REPEATED_DATA ignoring data with redundant timestamp for frame odom at time 2488.704000 according to authority unknown_publisher\u001b[0m\n",
      "\u001b[33m[ WARN] [1670264520.208097141, 2488.672000000]: TF_REPEATED_DATA ignoring data with redundant timestamp for frame odom at time 2488.704000 according to authority /pose_integrator\u001b[0m\n"
     ]
    }
   ],
   "source": [
    "arm.set_named_target('neutral')\n",
    "arm.go()"
   ]
  },
  {
   "cell_type": "code",
   "execution_count": null,
   "id": "0b010585",
   "metadata": {},
   "outputs": [],
   "source": [
    "wb = moveit_commander.MoveGroupCommander('whole_body_weighted')"
   ]
  },
  {
   "cell_type": "code",
   "execution_count": null,
   "id": "37ec9cb9",
   "metadata": {},
   "outputs": [],
   "source": [
    "trans, rot = tf_man.getTF(target_frame='goal', ref_frame='odom')\n",
    "wb.set_position_target(trans)\n",
    "wb.go()"
   ]
  },
  {
   "cell_type": "code",
   "execution_count": null,
   "id": "adbd9ee2",
   "metadata": {},
   "outputs": [],
   "source": [
    "trans, _ = tf_man.getTF(target_frame='goal', ref_frame='odom')\n",
    "_, rot = tf_man.getTF(target_frame='hand_palm_link', ref_frame='odom')\n",
    "tf_man.pub_static_tf(pos=trans, rot=rot, point_name='goal', ref='odom',)"
   ]
  },
  {
   "cell_type": "code",
   "execution_count": null,
   "id": "903c7c09",
   "metadata": {},
   "outputs": [],
   "source": []
  }
 ],
 "metadata": {
  "kernelspec": {
   "display_name": "Python 3 (ipykernel)",
   "language": "python",
   "name": "python3"
  },
  "language_info": {
   "codemirror_mode": {
    "name": "ipython",
    "version": 3
   },
   "file_extension": ".py",
   "mimetype": "text/x-python",
   "name": "python",
   "nbconvert_exporter": "python",
   "pygments_lexer": "ipython3",
   "version": "3.8.10"
  }
 },
 "nbformat": 4,
 "nbformat_minor": 5
}
