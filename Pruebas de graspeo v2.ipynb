{
 "cells": [
  {
   "cell_type": "code",
   "execution_count": 1,
   "id": "b04a278d",
   "metadata": {},
   "outputs": [],
   "source": [
    "#!/usr/bin/env python3\n",
    "import sys\n",
    "import smach\n",
    "import rospy\n",
    "import cv2 as cv\n",
    "import numpy as np\n",
    "from std_srvs.srv import Empty\n",
    "import moveit_commander\n",
    "import moveit_msgs.msg\n",
    "import geometry_msgs.msg\n",
    "import tf2_ros as tf2\n",
    "from tf2_sensor_msgs.tf2_sensor_msgs import do_transform_cloud\n",
    "from utils_takeshi import *\n",
    "from grasp_utils import *"
   ]
  },
  {
   "cell_type": "code",
   "execution_count": 2,
   "id": "d3e23c1d",
   "metadata": {
    "scrolled": true
   },
   "outputs": [
    {
     "name": "stderr",
     "output_type": "stream",
     "text": [
      "\u001b[33m[ WARN] [1667940213.146627385]: Link hand_l_finger_vacuum_frame has visual geometry but no collision geometry. Collision geometry will be left empty. Fix your URDF file by explicitly specifying collision geometry.\u001b[0m\n",
      "\u001b[33m[ WARN] [1667940213.149077386]: Link head_l_stereo_camera_link has visual geometry but no collision geometry. Collision geometry will be left empty. Fix your URDF file by explicitly specifying collision geometry.\u001b[0m\n",
      "\u001b[33m[ WARN] [1667940213.149116156]: Link head_r_stereo_camera_link has visual geometry but no collision geometry. Collision geometry will be left empty. Fix your URDF file by explicitly specifying collision geometry.\u001b[0m\n",
      "\u001b[33m[ WARN] [1667940213.149860767]: Group state 'neutral' doesn't specify all group joints in group 'arm'. wrist_ft_sensor_frame_joint is missing.\u001b[0m\n",
      "\u001b[33m[ WARN] [1667940213.149893097]: Group state 'go' doesn't specify all group joints in group 'arm'. wrist_ft_sensor_frame_joint is missing.\u001b[0m\n",
      "\u001b[33m[ WARN] [1667940233.087215323]: Kinematics solver doesn't support #attempts anymore, but only a timeout.\n",
      "Please remove the parameter '/robot_description_kinematics/arm/kinematics_solver_attempts' from your configuration.\u001b[0m\n",
      "\u001b[33m[ WARN] [1667940245.648156892]: IK plugin for group 'whole_body' relies on deprecated API. Please implement initialize(RobotModel, ...).\u001b[0m\n",
      "\u001b[33m[ WARN] [1667940247.538936258]: IK plugin for group 'whole_body_weighted' relies on deprecated API. Please implement initialize(RobotModel, ...).\u001b[0m\n",
      "\u001b[33m[ WARN] [1667940249.139809603]: IK plugin for group 'whole_body_light' relies on deprecated API. Please implement initialize(RobotModel, ...).\u001b[0m\n"
     ]
    }
   ],
   "source": [
    "    global head, whole_body, arm, tfbuff, lis, broad, tf_static_broad, gaze\n",
    "    global rgbd, hand_cam, wrist, gripper, grasp_base, clear_octo_client, service_client, AR_starter, AR_stopper\n",
    "\n",
    "    moveit_commander.roscpp_initialize(sys.argv)\n",
    "    rospy.init_node('Pruebas_de_graspeo_v2')\n",
    "    head = moveit_commander.MoveGroupCommander('head')\n",
    "    wbw = moveit_commander.MoveGroupCommander('whole_body_weighted')\n",
    "    wbl = moveit_commander.MoveGroupCommander('whole_body_light')\n",
    "    arm =  moveit_commander.MoveGroupCommander('arm')\n",
    "    wbw.set_workspace([-6.0, -6.0, 6.0, 6.0]) \n",
    "    wbl.set_workspace([-6.0, -6.0, 6.0, 6.0]) \n",
    "    \n",
    "    tf_man = TF_MANAGER()\n",
    "    rgbd = RGBD()\n",
    "    hand_cam = HAND_RGB()\n",
    "    wrist = WRIST_SENSOR()\n",
    "    gripper = GRIPPER()\n",
    "    grasp_base = OMNIBASE()\n",
    "    gaze = GAZE()\n",
    "\n",
    "    clear_octo_client = rospy.ServiceProxy('/clear_octomap', Empty)\n",
    "    AR_starter = rospy.ServiceProxy('/marker/start_recognition',Empty)\n",
    "    AR_stopper = rospy.ServiceProxy('/marker/stop_recognition',Empty)\n",
    "    \n",
    "    head.set_planning_time(0.3)\n",
    "    head.set_num_planning_attempts(1)"
   ]
  },
  {
   "cell_type": "code",
   "execution_count": 3,
   "id": "ac2f79dc",
   "metadata": {
    "scrolled": true
   },
   "outputs": [],
   "source": [
    "        # State initial\n",
    "        try:\n",
    "            clear_octo_client()\n",
    "        except:\n",
    "            print('cant clear octomap')\n",
    "        AR_stopper.call()\n",
    "        #Takeshi neutral\n",
    "        arm.set_named_target('go')\n",
    "        arm.go()\n",
    "        gripper.steady()\n",
    "        head.set_named_target('neutral')\n",
    "        succ = head.go()\n",
    "#         if succ:\n",
    "#             return 'succ'\n",
    "#         else:\n",
    "#             return 'failed'"
   ]
  },
  {
   "cell_type": "code",
   "execution_count": 5,
   "id": "d9605243",
   "metadata": {
    "scrolled": true
   },
   "outputs": [
    {
     "name": "stdout",
     "output_type": "stream",
     "text": [
      "[0.5594506360855734, 0.038678126954500944, 0.7706026943592809]\n"
     ]
    }
   ],
   "source": [
    "        #State look for AR marker\n",
    "        try:\n",
    "            AR_starter.call()\n",
    "            clear_octo_client()\n",
    "        except:\n",
    "            print('cant clear octomap')\n",
    "        rospy.sleep(0.15)\n",
    "        arm.set_named_target('go')\n",
    "        arm.go()\n",
    "        acp = arm.get_current_joint_values()\n",
    "        acp[0] += 0.15\n",
    "        arm.set_joint_value_target(acp)\n",
    "        arm.go()\n",
    "        hcp = gaze.relative(1,0,0.6)\n",
    "        head.set_joint_value_target(hcp)\n",
    "        head.go()\n",
    "        succ = False\n",
    "        while not succ:\n",
    "            grasp_base.tiny_move(velT=0.3, std_time=0.3)\n",
    "            trans,rot = tf_man.getTF(target_frame='ar_marker/201', ref_frame='base_link')\n",
    "            print(trans)\n",
    "            succ = type(trans) is not bool\n",
    "            if succ:\n",
    "                tf_man.pub_static_tf(pos=trans, rot=rot, point_name='cassette', ref='base_link')\n",
    "                tf_man.change_ref_frame_tf(point_name='cassette', new_frame='map')\n",
    "                arm.set_named_target('go')\n",
    "                arm.go()\n",
    "        "
   ]
  },
  {
   "cell_type": "code",
   "execution_count": 4,
   "id": "afe1bcf6",
   "metadata": {},
   "outputs": [
    {
     "name": "stdout",
     "output_type": "stream",
     "text": [
      "[0.6311049463634851, 0.104216237402557, 0.7697673407304418]\n"
     ]
    }
   ],
   "source": [
    "        try:\n",
    "            AR_starter.call()\n",
    "            clear_octo_client()\n",
    "        except:\n",
    "            print('cant clear octomap')\n",
    "        rospy.sleep(0.2)\n",
    "        arm.set_named_target('go')\n",
    "        arm.go()\n",
    "        hcp = gaze.relative(1,0,0.7)\n",
    "        head.set_joint_value_target(hcp)\n",
    "        head.go()\n",
    "        succ = False\n",
    "        flag = 1\n",
    "        while not succ:\n",
    "            trans,rot = tf_man.getTF(target_frame='ar_marker/201', ref_frame='base_link')\n",
    "            print(trans)\n",
    "            succ = type(trans) is not bool\n",
    "            if succ:\n",
    "                tf_man.pub_static_tf(pos=trans, rot=rot, point_name='cassette', ref='base_link')\n",
    "                rospy.sleep(0.5)\n",
    "                while not tf_man.change_ref_frame_tf(point_name='cassette', new_frame='map'):\n",
    "                    print('change reference frame is not done yet')\n",
    "                arm.set_named_target('go')\n",
    "                arm.go()\n",
    "#                 return 'succ'\n",
    "            else:\n",
    "                if flag == 1:\n",
    "                    hcp = gaze.relative(0.7,0.5,0.7)\n",
    "                    head.set_joint_value_target(hcp)\n",
    "                    head.go()\n",
    "                    flag += 1\n",
    "                    rospy.sleep(0.3)\n",
    "                elif flag == 2:\n",
    "                    hcp = gaze.relative(0.7,-0.5,0.7)\n",
    "                    head.set_joint_value_target(hcp)\n",
    "                    head.go()\n",
    "                    flag += 1\n",
    "                    rospy.sleep(0.3)\n",
    "                else:\n",
    "                    head.set_named_target('neutral')\n",
    "                    head.go() \n",
    "#                     return 'failed'"
   ]
  },
  {
   "cell_type": "code",
   "execution_count": 6,
   "id": "35719edd",
   "metadata": {},
   "outputs": [
    {
     "name": "stdout",
     "output_type": "stream",
     "text": [
      "-0.26248861545981206\n",
      "-0.26223352277510825\n",
      "-0.26223352277510825\n",
      "-0.2623951318970188\n",
      "-0.24832372777446787\n",
      "-0.23624388092338489\n",
      "-0.20520276763142586\n",
      "-0.1483569929651225\n",
      "-0.1483569929651225\n",
      "-0.1483569929651225\n",
      "-0.12105098677657988\n",
      "-0.06961465322951454\n"
     ]
    },
    {
     "ename": "SyntaxError",
     "evalue": "'return' outside function (1018355891.py, line 29)",
     "output_type": "error",
     "traceback": [
      "\u001b[0;36m  Input \u001b[0;32mIn [6]\u001b[0;36m\u001b[0m\n\u001b[0;31m    return 'succ'\u001b[0m\n\u001b[0m    ^\u001b[0m\n\u001b[0;31mSyntaxError\u001b[0m\u001b[0;31m:\u001b[0m 'return' outside function\n"
     ]
    }
   ],
   "source": [
    "        # State AR alignment\n",
    "        arm.set_named_target('go')\n",
    "        arm.go()\n",
    "        succ = False\n",
    "        THRESHOLD = 0.08\n",
    "        #talk(\"I am going to align with the table\")\n",
    "        while not succ:\n",
    "            try:\n",
    "                trans, rot = tf_man.getTF(target_frame='cassette', ref_frame='base_link')\n",
    "                euler = tf.transformations.euler_from_quaternion(rot)\n",
    "                theta = euler[2]\n",
    "                e = theta + 1.57\n",
    "                print(e)\n",
    "                if abs(e) < THRESHOLD:\n",
    "#                     talk(\"ready\")\n",
    "                    succ = True\n",
    "                else:\n",
    "                    rospy.sleep(0.1)\n",
    "                    grasp_base.tiny_move(velT = 0.5*e, std_time=0.1)\n",
    "            except:\n",
    "                hcp[0] -= 0.2\n",
    "                if hcp[0] > -1.2:\n",
    "                    hcp[0] = 0.0\n",
    "                head.set_joint_value_target(hcp)\n",
    "                head.go()\n",
    "                \n",
    "        \n",
    "        if succ:\n",
    "            return 'succ'\n",
    "        else:\n",
    "            return 'failed'"
   ]
  },
  {
   "cell_type": "code",
   "execution_count": 7,
   "id": "d34f789e",
   "metadata": {},
   "outputs": [
    {
     "name": "stdout",
     "output_type": "stream",
     "text": [
      "True\n",
      "[-0.09516926955922167, 0.038542194642356545, 0.2858203458833154]\n",
      "[-0.09950995562160692, 0.037895559870616255, 0.2841664899488054]\n",
      "[-0.10015268012386158, 0.03191685866435631, 0.2848441185333288]\n",
      "[-0.10015174294043894, 0.026340036401830497, 0.28478016611679524]\n",
      "[-0.1001571606931746, 0.021288066654262444, 0.2841341033581774]\n",
      "[-0.10016021328562641, 0.019727722621463634, 0.2860212342579942]\n",
      "[-0.10016446491430053, 0.01457568398682528, 0.2860163348208422]\n",
      "[-0.10032706700324379, 0.01200423269563397, 0.28617817690900205]\n",
      "[-0.10024591683934614, 0.006758793700859134, 0.28692209657971196]\n"
     ]
    }
   ],
   "source": [
    "##Working good\n",
    "arm.set_named_target('neutral')\n",
    "arm.go()\n",
    "trans,_ = tf_man.getTF(target_frame='cassette', ref_frame='odom')\n",
    "pos, rot =tf_man.getTF(target_frame='hand_palm_link', ref_frame='odom')\n",
    "pose_goal = geometry_msgs.msg.Pose()\n",
    "pose_goal.orientation.w = rot[3]\n",
    "pose_goal.orientation.x = rot[0]\n",
    "pose_goal.orientation.y = rot[1]\n",
    "pose_goal.orientation.z = rot[2]\n",
    "pose_goal.position.x = pos[0]\n",
    "pose_goal.position.y = pos[1]\n",
    "pose_goal.position.z = trans[2] + 0.1\n",
    "arm.set_start_state_to_current_state()\n",
    "arm.set_pose_target(pose_goal)\n",
    "result = arm.go()\n",
    "print(result)\n",
    "succ = False\n",
    "THRESHOLD = 0.01\n",
    "while not succ:\n",
    "    trans,_ = tf_man.getTF(target_frame='cassette', ref_frame='hand_palm_link')\n",
    "    print(trans)\n",
    "    if abs(trans[1])>THRESHOLD:\n",
    "        grasp_base.tiny_move(velY=-trans[1], std_time=0.2)\n",
    "    else:\n",
    "        succ = True\n",
    "succ = False\n",
    "while not succ:\n",
    "    trans,_ = tf_man.getTF(target_frame='cassette', ref_frame='hand_palm_link')\n",
    "    if abs(trans[2])>0.1:\n",
    "        grasp_base.tiny_move(velX=trans[2], std_time=0.2)\n",
    "    else:\n",
    "        succ = True"
   ]
  },
  {
   "cell_type": "code",
   "execution_count": 36,
   "id": "ad6da13d",
   "metadata": {},
   "outputs": [
    {
     "data": {
      "text/plain": [
       "(True,\n",
       " joint_trajectory: \n",
       "   header: \n",
       "     seq: 0\n",
       "     stamp: \n",
       "       secs: 0\n",
       "       nsecs:         0\n",
       "     frame_id: \"odom\"\n",
       "   joint_names: \n",
       "     - arm_lift_joint\n",
       "     - arm_flex_joint\n",
       "     - arm_roll_joint\n",
       "     - wrist_flex_joint\n",
       "     - wrist_roll_joint\n",
       "     - wrist_ft_sensor_frame_joint\n",
       "   points: \n",
       "     - \n",
       "       positions: [3.649947447585504e-05, -0.00030452801888536385, -1.569931345343694, -1.5700146302849658, 0.00046110822381617567, 0.0]\n",
       "       velocities: [0.0, 0.0, 0.0, 0.0, 0.0, 0.0]\n",
       "       accelerations: [0.0, 0.0, 0.0, 0.0, 0.0, 0.0]\n",
       "       effort: []\n",
       "       time_from_start: \n",
       "         secs: 0\n",
       "         nsecs:         0\n",
       "     - \n",
       "       positions: [0.008143937286211675, -0.146913015685917, -1.5312160081384125, -1.5578494393099107, 0.14698458733819678, 5e-324]\n",
       "       velocities: [0.0030758951415370012, -0.05562205290928529, 0.014688280117340295, 0.004615373276360734, 0.05558980136444953, 0.0]\n",
       "       accelerations: [3.290699007239642e-19, 0.0, 0.0, 3.1919780370224526e-17, 0.0, 0.0]\n",
       "       effort: []\n",
       "       time_from_start: \n",
       "         secs: 2\n",
       "         nsecs: 635797854\n",
       "     - \n",
       "       positions: [0.016251375097947496, -0.29352150335294863, -1.492500670933131, -1.5456842483348554, 0.2935080664525774, 1e-323]\n",
       "       velocities: [0.0, 0.0, 0.0, 0.0, 0.0, 0.0]\n",
       "       accelerations: [-0.0023339385737959255, 0.04220509765941811, -0.011145225038929653, -0.0035020692274908343, -0.042180625718375574, -0.0]\n",
       "       effort: []\n",
       "       time_from_start: \n",
       "         secs: 5\n",
       "         nsecs: 271595707\n",
       " multi_dof_joint_trajectory: \n",
       "   header: \n",
       "     seq: 0\n",
       "     stamp: \n",
       "       secs: 0\n",
       "       nsecs:         0\n",
       "     frame_id: \"odom\"\n",
       "   joint_names: \n",
       "     - world_joint\n",
       "   points: \n",
       "     - \n",
       "       transforms: \n",
       "         - \n",
       "           translation: \n",
       "             x: 0.1034212290357581\n",
       "             y: 0.05425274735255615\n",
       "             z: 0.0\n",
       "           rotation: \n",
       "             x: 0.0\n",
       "             y: 0.0\n",
       "             z: 0.01772764078341823\n",
       "             w: 0.9998428530285417\n",
       "       velocities: \n",
       "         - \n",
       "           linear: \n",
       "             x: 0.0\n",
       "             y: 0.0\n",
       "             z: 0.0\n",
       "           angular: \n",
       "             x: 0.0\n",
       "             y: 0.0\n",
       "             z: 0.0\n",
       "       accelerations: []\n",
       "       time_from_start: \n",
       "         secs: 0\n",
       "         nsecs:         0\n",
       "     - \n",
       "       transforms: \n",
       "         - \n",
       "           translation: \n",
       "             x: 0.05170527196522805\n",
       "             y: 0.027118452746942075\n",
       "             z: 0.0\n",
       "           rotation: \n",
       "             x: 0.0\n",
       "             y: 0.0\n",
       "             z: -0.002641599402861712\n",
       "             w: 0.9999965109702107\n",
       "       velocities: \n",
       "         - \n",
       "           linear: \n",
       "             x: -0.019620608234936512\n",
       "             y: -0.01029452792417689\n",
       "             z: 0.0\n",
       "           angular: \n",
       "             x: 0.0\n",
       "             y: 0.0\n",
       "             z: -0.015456550967770518\n",
       "       accelerations: []\n",
       "       time_from_start: \n",
       "         secs: 2\n",
       "         nsecs: 635797854\n",
       "     - \n",
       "       transforms: \n",
       "         - \n",
       "           translation: \n",
       "             x: -1.068510530199962e-05\n",
       "             y: -1.5841858671997167e-05\n",
       "             z: 0.0\n",
       "           rotation: \n",
       "             x: 0.0\n",
       "             y: 0.0\n",
       "             z: -0.023009743511472953\n",
       "             w: 0.999735240803052\n",
       "       velocities: \n",
       "         - \n",
       "           linear: \n",
       "             x: 0.0\n",
       "             y: 0.0\n",
       "             z: 0.0\n",
       "           angular: \n",
       "             x: 0.0\n",
       "             y: 0.0\n",
       "             z: 0.0\n",
       "       accelerations: []\n",
       "       time_from_start: \n",
       "         secs: 5\n",
       "         nsecs: 271595707,\n",
       " 0.032641592999999997,\n",
       " val: 1)"
      ]
     },
     "execution_count": 36,
     "metadata": {},
     "output_type": "execute_result"
    }
   ],
   "source": [
    "# print(trans)\n",
    "gripper.open()\n",
    "# trans,rot= tf_man.getTF(target_frame='cassette', ref_frame='odom')\n",
    "rospy.sleep(0.5)\n",
    "tf_man.pub_static_tf(pos=[0,0,0.07] ,point_name='grasp1', ref='hand_palm_link')\n",
    "trans, rot = tf_man.getTF(target_frame='grasp1', ref_frame='odom')\n",
    "# print(trans, trans1)\n",
    "pose_goal = geometry_msgs.msg.Pose()\n",
    "pose_goal.orientation.w = rot[3]\n",
    "pose_goal.orientation.x = rot[0]\n",
    "pose_goal.orientation.y = rot[1]\n",
    "pose_goal.orientation.z = rot[2]\n",
    "# pose_goal.orientation.\n",
    "pose_goal.position.x = trans[0]\n",
    "pose_goal.position.y = trans[1]\n",
    "pose_goal.position.z = trans[2]\n",
    "\n",
    "wbw.set_start_state_to_current_state()\n",
    "wbw.set_pose_target(pose_goal)\n",
    "succ, plan=wbw.plan()"
   ]
  },
  {
   "cell_type": "code",
   "execution_count": 27,
   "id": "1c8af1b2",
   "metadata": {},
   "outputs": [
    {
     "data": {
      "text/plain": [
       "True"
      ]
     },
     "execution_count": 27,
     "metadata": {},
     "output_type": "execute_result"
    }
   ],
   "source": [
    "        gripper.open()\n",
    "        acp = arm.get_current_joint_values()\n",
    "        acp[0] -= 0.03\n",
    "        arm.set_joint_value_target(acp)\n",
    "        arm.go()"
   ]
  },
  {
   "cell_type": "code",
   "execution_count": 28,
   "id": "a5b943d0",
   "metadata": {},
   "outputs": [
    {
     "name": "stdout",
     "output_type": "stream",
     "text": [
      "[2.1469955063325665, -0.5547853281515758, 2.9752560460507467]\n",
      "si\n"
     ]
    }
   ],
   "source": [
    "        #         gripper.open()\n",
    "        gripper.close()\n",
    "        rospy.sleep(0.5)\n",
    "        acp = arm.get_current_joint_values()\n",
    "        acp[0]+=0.03\n",
    "        arm.set_joint_value_target(acp)\n",
    "        arm.go()\n",
    "        rospy.sleep(0.3)\n",
    "        \n",
    "        force = wrist.get_force()\n",
    "        print(force)\n",
    "        if abs(force[0]) > 1:\n",
    "#             talk('i have the cassette')\n",
    "#             return 'succ'\n",
    "            print('si')\n",
    "        else:\n",
    "            gripper.open()\n",
    "            acp[0]-=0.03\n",
    "            arm.set_joint_value_target(acp)\n",
    "            arm.go()\n",
    "#             talk('i will try again')\n",
    "#             return 'tries'"
   ]
  },
  {
   "cell_type": "code",
   "execution_count": 29,
   "id": "37eda735",
   "metadata": {},
   "outputs": [],
   "source": [
    "scene = moveit_commander.PlanningSceneInterface()\n",
    "##Adding objects to planning scene\n",
    "box_pose = geometry_msgs.msg.PoseStamped()\n",
    "box_pose.header.frame_id = \"hand_palm_link\"\n",
    "box_pose.pose.orientation.w = 1.0\n",
    "box_pose.pose.position.z =  0.08  # below the panda_hand frame\n",
    "box_name = \"box\"\n",
    "scene.add_box(box_name, box_pose, size=(0.1, 0.02, 0.1))"
   ]
  },
  {
   "cell_type": "code",
   "execution_count": 31,
   "id": "953e7ffe",
   "metadata": {},
   "outputs": [],
   "source": [
    "##attaching object to the gripper\n",
    "\n",
    "robot = moveit_commander.RobotCommander()\n",
    "eef_link = arm.get_end_effector_link()\n",
    "grasping_group = \"gripper\"\n",
    "touch_links = robot.get_link_names(group=grasping_group)\n",
    "scene.attach_box(eef_link, box_name, touch_links=touch_links)"
   ]
  },
  {
   "cell_type": "code",
   "execution_count": 19,
   "id": "481484fe",
   "metadata": {},
   "outputs": [],
   "source": [
    "##Detaching objects\n",
    "eef_link = arm.get_end_effector_link()\n",
    "scene.remove_attached_object(eef_link, name=box_name)\n",
    "\n",
    "##Remove objects\n",
    "scene.remove_world_object(box_name)"
   ]
  },
  {
   "cell_type": "code",
   "execution_count": 34,
   "id": "e0ba0464",
   "metadata": {},
   "outputs": [
    {
     "data": {
      "text/plain": [
       "True"
      ]
     },
     "execution_count": 34,
     "metadata": {},
     "output_type": "execute_result"
    }
   ],
   "source": [
    "head.set_named_target('neutral')\n",
    "head.go()\n",
    "arm.set_named_target('go')\n",
    "arm.go()"
   ]
  },
  {
   "cell_type": "code",
   "execution_count": null,
   "id": "181ec37b",
   "metadata": {},
   "outputs": [],
   "source": [
    "        # State Pre grasp pose\n",
    "        succ = False\n",
    "#         talk(\"I will reach the cassette\")\n",
    "        gripper.open()\n",
    "        height = 0\n",
    "        try:\n",
    "#             t = tfbuff.lookup_transform('base_link','ar_marker/201',rospy.Time(0))\n",
    "#             trans,_ = tf2_obj_2_arr(t)\n",
    "            trans,_ =tf_man.getTF(target_frame='cassette', ref_frame='base_link')\n",
    "            height = trans[2]\n",
    "#         grasp_from_above_joints = [0.59,-1.3376,0,-1.8275,0.0,0.0]\n",
    "        except:\n",
    "            print('no pude bebe')\n",
    "        print(height)\n",
    "        grasp_from_above_joints = [height - 0.102,-1.3376,0,-1.8275,0.0,0.0]\n",
    "        arm.set_joint_value_target(grasp_from_above_joints)\n",
    "        succ = arm.go()\n",
    "        if succ:\n",
    "            return 'succ'\n",
    "        else:\n",
    "            return 'failed'"
   ]
  },
  {
   "cell_type": "code",
   "execution_count": null,
   "id": "60af46fe",
   "metadata": {
    "scrolled": true
   },
   "outputs": [],
   "source": [
    "        # State AR adjustment\n",
    "\n",
    "        try:\n",
    "            clear_octo_client()\n",
    "        except:\n",
    "            print('cant clear octomap')\n",
    "        #Takeshi gets close to the cassette\n",
    "        AR_starter.call()\n",
    "        succ = False\n",
    "        THRESHOLD = 0.025\n",
    "        succ = False\n",
    "        while not succ:\n",
    "            try:\n",
    "                trans,rot = tf_man.getTF(target_frame='cassette', ref_frame='hand_palm_link')\n",
    "                ex=trans[0]\n",
    "                ey=-trans[1]\n",
    "                print(ex, ey)\n",
    "                if abs(ex) > THRESHOLD:\n",
    "                    grasp_base.tiny_move(velX = ex, MAX_VEL = 0.05)#, y = -traf.y + Y_OFFSET)\n",
    "                if abs(ey) > THRESHOLD:\n",
    "                    grasp_base.tiny_move(velY = ey, MAX_VEL = 0.05)\n",
    "                if (abs(ex) <= THRESHOLD and abs(ey) <= THRESHOLD):\n",
    "                    hcp[0] = 0\n",
    "                    head.set_joint_value_target(hcp)\n",
    "                    head.go()\n",
    "                    talk(\"I am almost there\")\n",
    "                    succ = True\n",
    "            except:\n",
    "                print('lost')\n",
    "                break\n",
    "        if succ:\n",
    "            stopper.call()\n",
    "            return 'succ'\n",
    "        else:\n",
    "            return 'failed'"
   ]
  },
  {
   "cell_type": "code",
   "execution_count": 6,
   "id": "a05f4a4d",
   "metadata": {},
   "outputs": [],
   "source": [
    "arm.set_named_target('neutral')\n",
    "arm.go()\n",
    "# AR_starter.call()\n",
    "# whole_body.set_num_planning_attempts(100)\n",
    "# whole_body.set_planning_time(2)\n",
    "gripper.open()"
   ]
  },
  {
   "cell_type": "code",
   "execution_count": null,
   "id": "37c0ed6f",
   "metadata": {},
   "outputs": [],
   "source": [
    "# import geometry_msgs.msg\n"
   ]
  },
  {
   "cell_type": "code",
   "execution_count": null,
   "id": "3124f242",
   "metadata": {},
   "outputs": [],
   "source": [
    "# scene.remove_world_object(box_name)\n",
    "arm.set_named_target('neutral')\n",
    "arm.go()"
   ]
  },
  {
   "cell_type": "code",
   "execution_count": null,
   "id": "bc80caf7",
   "metadata": {
    "scrolled": true
   },
   "outputs": [],
   "source": [
    "# tf_man.getTF(target_frame=)\n",
    "# scene = moveit_commander.PlanningSceneInterface()\n",
    "##Adding objects to planning scene\n",
    "# box_pose = geometry_msgs.msg.PoseStamped()\n",
    "# box_pose.header.frame_id = \"hand_palm_link\"\n",
    "# box_pose.pose.orientation.w = 1.0\n",
    "# box_pose.pose.position.z =  0.11\n",
    "# box_name = \"box\"\n",
    "# scene.add_box(box_name, box_pose, size=(0.1, 0.02, 0.1))\n",
    "\n",
    "\n",
    "tf_man.pub_static_tf(point_name='grasp1', pos=[0,0,0.02], ref='hand_palm_link')\n",
    "# rospy.sleep(0.5)?\n",
    "trans, rot = tf_man.getTF(target_frame='grasp1', ref_frame='odom')\n",
    "print(trans,rot)\n",
    "# rospy.sleep(0.5)\n",
    "pose_goal = geometry_msgs.msg.Pose()\n",
    "# pose_goal.orientation.w = 1\n",
    "# pose_goal.orientation.x = rot[0]\n",
    "# pose_goal.orientation.y = rot[1]\n",
    "# pose_goal.orientation.z = rot[2]\n",
    "# pose_goal.orientation.\n",
    "pose_goal.position.x = trans[0]\n",
    "pose_goal.position.y = trans[1]\n",
    "pose_goal.position.z = trans[2]\n",
    "\n",
    "whole_body.set_start_state_to_current_state()\n",
    "# arm.set_pose_target(pose_goal)\n",
    "whole_body.set_position_target(trans)\n",
    "whole_body.go()"
   ]
  },
  {
   "cell_type": "code",
   "execution_count": null,
   "id": "358e0b26",
   "metadata": {
    "scrolled": true
   },
   "outputs": [],
   "source": [
    "        # State color adjustment\n",
    "        try:\n",
    "            clear_octo_client()\n",
    "        except:\n",
    "            print('cant clear octomap')\n",
    "\n",
    "        #Takeshi detects the cassette by color and go for it\n",
    "        succ = False\n",
    "        THRESHOLD = 15\n",
    "        goalPos = [258.61,261.75]\n",
    "        while not succ:\n",
    "            [currentPos] = hand_cam.color_segmentator(color = 'orange')\n",
    "#     print(currentPos)\n",
    "            ex = -(goalPos[0]-currentPos[0]) \n",
    "            ey = (goalPos[1]-currentPos[1])\n",
    "            print(ex, ey)\n",
    "            if abs(ex) > THRESHOLD:\n",
    "                grasp_base.tiny_move(velX = ex, std_time=0.1, MAX_VEL=0.01)#, y = -traf.y + Y_OFFSET)\n",
    "                rospy.sleep(0.5)\n",
    "            if abs(ey) > THRESHOLD:\n",
    "                grasp_base.tiny_move(velY = ey, std_time=0.1, MAX_VEL=0.01)\n",
    "                rospy.sleep(0.5)\n",
    "            if (abs(ex) <= THRESHOLD and abs(ey) <= THRESHOLD):\n",
    "#                 talk(\"done, now i will take it\")\n",
    "                succ = True\n",
    "        if succ:\n",
    "            return 'succ'\n",
    "        else:\n",
    "            return 'failed'"
   ]
  },
  {
   "cell_type": "code",
   "execution_count": null,
   "id": "b76fd320",
   "metadata": {},
   "outputs": [],
   "source": [
    "        # State grasp table\n",
    "        gripper.open()\n",
    "        rospy.sleep(0.3)\n",
    "        acp = arm.get_current_joint_values()\n",
    "        acp[0] -= 0.03\n",
    "#         acp = [0.56,-1.3376,0,-1.8275,0.0,0.0]\n",
    "        arm.set_joint_value_target(acp)\n",
    "        arm.go()\n",
    "        gripper.close()\n",
    "        rospy.sleep(0.3)\n",
    "        \n",
    "        check_grasp_joints=[0.69,-1.3376,0,-1.8275,0.0,0.0]\n",
    "        arm.set_joint_value_target(check_grasp_joints)\n",
    "        arm.go()\n",
    "        \n",
    "        check_grasp_joints=[0.69,-1.3376,-0.8,-1.8275,0.0,0.0]\n",
    "        arm.set_joint_value_target(check_grasp_joints)\n",
    "        arm.go()\n",
    "\n",
    "        THRESHOLD = 30\n",
    "        goalPos = [233.80,268.74]\n",
    "        [currentPos] = hand_cam.color_segmentator(color = 'orange')\n",
    "        ex = -(goalPos[0]-currentPos[0]) \n",
    "        ey = (goalPos[1]-currentPos[1])\n",
    "        if (abs(ex) <= THRESHOLD and abs(ey) <= THRESHOLD):\n",
    "            talk(\"I have the cassete\")\n",
    "            return 'succ'\n",
    "        else:\n",
    "            talk(\"Something went wrong, i will try again\")\n",
    "            return 'tries'"
   ]
  },
  {
   "cell_type": "code",
   "execution_count": null,
   "id": "d9388cd9",
   "metadata": {},
   "outputs": [],
   "source": [
    "gripper.open()"
   ]
  },
  {
   "cell_type": "code",
   "execution_count": null,
   "id": "ba8f3d8f",
   "metadata": {},
   "outputs": [],
   "source": [
    "        # State post grasp pose\n",
    "        acp = arm.get_current_joint_values()\n",
    "        acp[0] = 0.69\n",
    "        arm.set_joint_value_target(acp)\n",
    "        arm.go()\n",
    "        rospy.sleep(0.3)\n",
    "        grasp_base.tiny_move(velX = -0.8, std_time=0.8, MAX_VEL=0.08)\n",
    "        arm.set_named_target('go')\n",
    "        succ = arm.go()\n",
    "        if succ:\n",
    "            return 'succ'\n",
    "        else:\n",
    "            return 'failed'"
   ]
  },
  {
   "cell_type": "code",
   "execution_count": null,
   "id": "77dc3c25",
   "metadata": {},
   "outputs": [],
   "source": [
    "# State right shift\n",
    "        grasp_base.tiny_move(velY = -0.8, std_time=0.8)\n",
    "        succ = True\n",
    "        if succ:\n",
    "            return 'succ'\n",
    "        else:\n",
    "            return 'failed'"
   ]
  },
  {
   "cell_type": "code",
   "execution_count": null,
   "id": "5a9647a3",
   "metadata": {},
   "outputs": [],
   "source": [
    "gripper.steady()"
   ]
  },
  {
   "cell_type": "code",
   "execution_count": null,
   "id": "05f6f7f6",
   "metadata": {
    "scrolled": true
   },
   "outputs": [],
   "source": [
    "# rospy.init_node('Pruebas_TF')\n",
    "# tf_man = TF_MANAGER()\n",
    "rospy.sleep(0.5)\n",
    "tf_man.pub_static_tf(trans = [1,0,1], pointName = 'marker', ref='head_rgbd_sensor_link')"
   ]
  },
  {
   "cell_type": "code",
   "execution_count": null,
   "id": "2a031d2a",
   "metadata": {
    "scrolled": true
   },
   "outputs": [],
   "source": [
    "tf_man.change_ref_frame_tf(tf_name='marker', newFrame='map')"
   ]
  },
  {
   "cell_type": "code",
   "execution_count": null,
   "id": "0d1a9e92",
   "metadata": {},
   "outputs": [],
   "source": [
    "gripper = GRIPPER()\n",
    "gripper.steady()"
   ]
  },
  {
   "cell_type": "code",
   "execution_count": null,
   "id": "49c24e3b",
   "metadata": {},
   "outputs": [],
   "source": [
    "trans, rot = tf_man.getTF('base_link', 'marker')\n",
    "# gaze = GAZE()\n",
    "print(trans)\n",
    "gaze.relative(trans[0],trans[1],trans[2])"
   ]
  },
  {
   "cell_type": "code",
   "execution_count": null,
   "id": "9d5b3b08",
   "metadata": {},
   "outputs": [],
   "source": []
  }
 ],
 "metadata": {
  "kernelspec": {
   "display_name": "Python 3 (ipykernel)",
   "language": "python",
   "name": "python3"
  },
  "language_info": {
   "codemirror_mode": {
    "name": "ipython",
    "version": 3
   },
   "file_extension": ".py",
   "mimetype": "text/x-python",
   "name": "python",
   "nbconvert_exporter": "python",
   "pygments_lexer": "ipython3",
   "version": "3.8.10"
  }
 },
 "nbformat": 4,
 "nbformat_minor": 5
}
