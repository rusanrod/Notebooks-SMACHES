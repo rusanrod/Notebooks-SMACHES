{
 "cells": [
  {
   "cell_type": "raw",
   "metadata": {},
   "source": [
    "# Pruebas de pre grasp, grasp y post grasp del proyecto de Automatización de reproducción de cassetes"
   ]
  },
  {
   "cell_type": "raw",
   "metadata": {},
   "source": [
    "# para la prueba se supone que el robot está colocado en la posicion x, y, theta deseados "
   ]
  },
  {
   "cell_type": "code",
   "execution_count": 1,
   "metadata": {},
   "outputs": [],
   "source": [
    "#!/usr/bin/env python3\n",
    "from std_srvs.srv import Empty, Trigger, TriggerRequest\n",
    "import smach\n",
    "from move_base_msgs.msg import MoveBaseAction, MoveBaseGoal\n",
    "from geometry_msgs.msg import PoseStamped, Point , Quaternion, Twist, WrenchStamped\n",
    "from actionlib_msgs.msg import GoalStatus\n",
    "import moveit_commander\n",
    "import moveit_msgs.msg\n",
    "import tf2_ros as tf2\n",
    "from tf2_sensor_msgs.tf2_sensor_msgs import do_transform_cloud\n",
    "import controller_manager_msgs.srv\n",
    "import rospy\n",
    "import trajectory_msgs.msg\n",
    "#from object_classification.srv import *\n",
    "from sensor_msgs.msg import Image as ImageMsg\n",
    "from cv_bridge import CvBridge, CvBridgeError\n",
    "\n",
    "import cv2 as cv\n",
    "import numpy as np\n",
    "\n",
    "from utils_notebooks import *\n",
    "from utils_takeshi import *"
   ]
  },
  {
   "cell_type": "code",
   "execution_count": 2,
   "metadata": {
    "scrolled": true
   },
   "outputs": [],
   "source": [
    "global lis, broad, tf_static_broad, tfbuff,scene, rgbd, gripper, head, whole_body\n",
    "global arm, goal, navclient, clear_octo_client, service_client, base_vel_pub, starter, stopper\n",
    "\n",
    "moveit_commander.roscpp_initialize(sys.argv)\n",
    "rospy.init_node('Pruebas_de_graspeo')\n",
    "head = moveit_commander.MoveGroupCommander('head')\n",
    "gripper = moveit_commander.MoveGroupCommander('gripper')\n",
    "whole_body = moveit_commander.MoveGroupCommander('whole_body_light')\n",
    "arm =  moveit_commander.MoveGroupCommander('arm')\n",
    "    \n",
    "tfbuff = tf2.Buffer()\n",
    "lis = tf2.TransformListener(tfbuff)\n",
    "broad = tf2.TransformBroadcaster()\n",
    "tf_static_broad = tf2.StaticTransformBroadcaster()\n",
    "whole_body.set_workspace([-6.0, -6.0, 6.0, 6.0]) \n",
    "    \n",
    "scene = moveit_commander.PlanningSceneInterface()\n",
    "robot = moveit_commander.RobotCommander()\n",
    "rgbd = RGBD()\n",
    "hand_cam = HandRGB()\n",
    "goal = MoveBaseGoal()\n",
    "    \n",
    "navclient = actionlib.SimpleActionClient('/move_base/move', MoveBaseAction)\n",
    "clear_octo_client = rospy.ServiceProxy('/clear_octomap', Empty)\n",
    "service_client = rospy.ServiceProxy('/segment_2_tf', Trigger)\n",
    "base_vel_pub = rospy.Publisher('/hsrb/command_velocity', Twist, queue_size=10)\n",
    "starter = rospy.ServiceProxy('/marker/start_recognition',Empty)\n",
    "stopper = rospy.ServiceProxy('/marker/stop_recognition',Empty)\n",
    "# hand_cam = rospy.\n",
    "   "
   ]
  },
  {
   "cell_type": "code",
   "execution_count": 3,
   "metadata": {
    "scrolled": true
   },
   "outputs": [],
   "source": [
    "def color_segmentator(plot = False):\n",
    "    image = hand_cam.get_image()\n",
    "# print(image)\n",
    "# image = cv.cvtColor(image, cv.COLOR_BGR2RGB)\n",
    "    img_hsv = cv.cvtColor(image, cv.COLOR_RGB2HSV)\n",
    "    umbral_bajo = (102,95,97)\n",
    "    umbral_alto = (115,255,255)\n",
    "# hacemos la mask y filtramos en la original\n",
    "    mask = cv2.inRange(img_hsv, umbral_bajo, umbral_alto)\n",
    "    res = cv2.bitwise_and(img_hsv, img_hsv, mask=mask)\n",
    "    if plot:\n",
    "        plt.subplot(1, 2, 1)\n",
    "        plt.imshow(mask, cmap='gray')\n",
    "        plt.subplot(1, 2, 2)\n",
    "        plt.imshow(res)\n",
    "        plt.show()\n",
    "    pos = []\n",
    "    pixels = cv.findNonZero(mask)\n",
    "#     print([pixels])\n",
    "    pixels = list(cv.mean(pixels))\n",
    "    pos.append(pixels[:2])\n",
    "    return pos\n",
    "# print(get_line(mask))\n",
    "#opening = cv.morphologyEx(mask, cv.MORPH_OPEN, kernel)\n",
    "#closing = cv.morphologyEx(mask, cv.MORPH_CLOSE, kernel)\n",
    "# cv2.imwrite('hand_img.jpg', image)\n",
    "# cv2.imshow(\"image\", image)"
   ]
  },
  {
   "cell_type": "code",
   "execution_count": 16,
   "metadata": {},
   "outputs": [
    {
     "data": {
      "text/plain": [
       "[[203.15973515414856, 177.40295882474652]]"
      ]
     },
     "execution_count": 16,
     "metadata": {},
     "output_type": "execute_result"
    }
   ],
   "source": [
    "# valores del centroide con la altura de Pre_grasp\n",
    "pos = [[258.61,261.75]]\n",
    "# valores del centroide con la altura necesaria\n",
    "pos = [[233.80,268.74]]\n",
    "color_segmentator()"
   ]
  },
  {
   "cell_type": "code",
   "execution_count": 4,
   "metadata": {
    "scrolled": true
   },
   "outputs": [
    {
     "name": "stdout",
     "output_type": "stream",
     "text": [
      "70.81386968085104 -10.626994680851055\n"
     ]
    },
    {
     "ename": "NameError",
     "evalue": "name 'tiny_move_base' is not defined",
     "output_type": "error",
     "traceback": [
      "\u001b[0;31m---------------------------------------------------------------------------\u001b[0m",
      "\u001b[0;31mNameError\u001b[0m                                 Traceback (most recent call last)",
      "Input \u001b[0;32mIn [4]\u001b[0m, in \u001b[0;36m<cell line: 3>\u001b[0;34m()\u001b[0m\n\u001b[1;32m      8\u001b[0m \u001b[38;5;28mprint\u001b[39m(ex, ey)\n\u001b[1;32m      9\u001b[0m \u001b[38;5;28;01mif\u001b[39;00m \u001b[38;5;28mabs\u001b[39m(ex) \u001b[38;5;241m>\u001b[39m THRESHOLD:\n\u001b[0;32m---> 10\u001b[0m     \u001b[43mtiny_move_base\u001b[49m(x \u001b[38;5;241m=\u001b[39m ex, std_time\u001b[38;5;241m=\u001b[39m\u001b[38;5;241m0.1\u001b[39m, MAX_VEL\u001b[38;5;241m=\u001b[39m\u001b[38;5;241m0.01\u001b[39m)\u001b[38;5;66;03m#, y = -traf.y + Y_OFFSET)\u001b[39;00m\n\u001b[1;32m     11\u001b[0m     rospy\u001b[38;5;241m.\u001b[39msleep(\u001b[38;5;241m0.5\u001b[39m)\n\u001b[1;32m     12\u001b[0m \u001b[38;5;28;01mif\u001b[39;00m \u001b[38;5;28mabs\u001b[39m(ey) \u001b[38;5;241m>\u001b[39m THRESHOLD:\n",
      "\u001b[0;31mNameError\u001b[0m: name 'tiny_move_base' is not defined"
     ]
    }
   ],
   "source": [
    "THRESHOLD = 15\n",
    "while(True):\n",
    "    goalPos = [258.61,261.75]\n",
    "    [currentPos] = color_segmentator()\n",
    "#     print(currentPos)\n",
    "    ex = -(goalPos[0]-currentPos[0]) \n",
    "    ey = (goalPos[1]-currentPos[1])\n",
    "    print(ex, ey)\n",
    "    if abs(ex) > THRESHOLD:\n",
    "        tiny_move_base(x = ex, std_time=0.1, MAX_VEL=0.01)#, y = -traf.y + Y_OFFSET)\n",
    "        rospy.sleep(0.5)\n",
    "    if abs(ey) > THRESHOLD:\n",
    "        tiny_move_base(y = ey, std_time=0.1, MAX_VEL=0.01)\n",
    "        rospy.sleep(0.5)\n",
    "    if (abs(ex) <= THRESHOLD and abs(ey) <= THRESHOLD):\n",
    "        print('done')\n",
    "        break\n",
    "\n",
    "acp = arm.get_current_joint_values()\n",
    "acp[0] = 0.56\n",
    "arm.set_joint_value_target(acp)\n",
    "arm.go()"
   ]
  },
  {
   "cell_type": "code",
   "execution_count": 164,
   "metadata": {},
   "outputs": [
    {
     "name": "stdout",
     "output_type": "stream",
     "text": [
      "[0.5497683790598138, -1.3375525280188854, 9.365465630573055e-05, -1.827492630284966, 0.025775108223816012, 0.0]\n"
     ]
    }
   ],
   "source": [
    "acp = arm.get_current_joint_values()\n",
    "print(acp)"
   ]
  },
  {
   "cell_type": "code",
   "execution_count": 116,
   "metadata": {},
   "outputs": [],
   "source": [
    "# segmentador de color HUGO\n",
    "def apertura(frame, kernel):\n",
    "    frame = cv.erode(frame, kernel)\n",
    "    frame = cv.dilate(frame, kernel)\n",
    "    return frame\n",
    "def cerradura(frame, kernel):\n",
    "    frame = cv.dilate(frame, kernel)\n",
    "    frame = cv.erode(frame, kernel)\n",
    "    return frame\n",
    "def colorSegmenter (frame, color):\n",
    "    frame = cv.cvtColor(frame, cv.COLOR_RGB2HSV)\n",
    "    if color == 'blue':\n",
    "        lower_limit = np.array([100,90,80])\n",
    "        upper_limit = np.array([130,255,255])\n",
    "    elif color == 'red':\n",
    "        lower_limit = np.array([150,130,160])\n",
    "        upper_limit = np.array([190,255,255])\n",
    "    elif color == 'orange':\n",
    "        lower_limit = np.array([82,94,97])\n",
    "        upper_limit = np.array([115,255,255])\n",
    "#         lower_limit = (82,94,97)\n",
    "#         upper_limit = (115,255,255)\n",
    "#         lower_limit = (23,100,82)\n",
    "#         upper_limit = (50,100,255)\n",
    "    else:\n",
    "        print(\"Set DEFAULT as Blue\")\n",
    "        lower_limit = np.array([100,90,100])\n",
    "        upper_limit = np.array((115,255,255))\n",
    "    frame = cv.inRange(frame, lower_limit, upper_limit)\n",
    "    kernel = cv.getStructuringElement(cv.MORPH_ELLIPSE, (10,10))\n",
    "    frame = cerradura(frame, kernel)\n",
    "    kernel = cv.getStructuringElement(cv.MORPH_ELLIPSE, (15,15))\n",
    "    frame = apertura(frame, kernel)\n",
    "    return frame\n",
    "def sticks_detection(frame):\n",
    "    pos = []\n",
    "    red = colorSegmenter(frame, 'blue')\n",
    "    plt.imshow(red)\n",
    "    pixels = cv.findNonZero(red)\n",
    "    pixels = list(cv.mean(pixels))\n",
    "    pos.append(pixels[:2])\n",
    "    return red, pos"
   ]
  },
  {
   "cell_type": "code",
   "execution_count": 10,
   "metadata": {},
   "outputs": [
    {
     "data": {
      "text/plain": [
       "array([[[  1.       ,   1.5707964]],\n",
       "\n",
       "       [[385.       ,   1.4486233]],\n",
       "\n",
       "       [[350.       ,   1.4660766]],\n",
       "\n",
       "       [[ 34.       ,   1.5707964]]], dtype=float32)"
      ]
     },
     "execution_count": 10,
     "metadata": {},
     "output_type": "execute_result"
    },
    {
     "name": "stdout",
     "output_type": "stream",
     "text": [
      "shutdown request: new node registered with same name\n"
     ]
    }
   ],
   "source": [
    "get_line('head')"
   ]
  },
  {
   "cell_type": "code",
   "execution_count": 94,
   "metadata": {},
   "outputs": [
    {
     "name": "stdout",
     "output_type": "stream",
     "text": [
      "[[378.4745834961458, 116.45515257006855]]\n"
     ]
    },
    {
     "data": {
      "image/png": "[encoded data removed]",
      "text/plain": [
       "<Figure size 432x288 with 1 Axes>"
      ]
     },
     "metadata": {
      "needs_background": "light"
     },
     "output_type": "display_data"
    }
   ],
   "source": [
    "_, pos =sticks_detection(hand_cam.get_image())\n",
    "print(pos)"
   ]
  },
  {
   "cell_type": "code",
   "execution_count": 3,
   "metadata": {
    "scrolled": true
   },
   "outputs": [],
   "source": [
    "def gaze_point(x,y,z):\n",
    "    head_pose = head.get_current_joint_values()\n",
    "#     head_pose[0]=0.0\n",
    "#     head_pose[1]=0.0\n",
    "#     head.set_joint_value_target(head_pose)\n",
    "#     head.go()\n",
    "    t = tfbuff.lookup_transform('base_link', 'head_rgbd_sensor_gazebo_frame', rospy.Time(0)) #\n",
    "    trans ,rot = tf2_obj_2_arr(t) \n",
    "    e = tf.transformations.euler_from_quaternion(rot)\n",
    "    x_rob,y_rob,z_rob,th_rob= trans[0], trans[1] ,trans[2] ,  e[2]\n",
    "    D_x=x_rob-x\n",
    "    D_y=y_rob-y\n",
    "    D_z=z_rob-z\n",
    "    D_th= np.arctan2(D_y,D_x)\n",
    "    print('relative to robot',(D_x,D_y,np.rad2deg(D_th)))\n",
    "    pan_correct= (- th_rob + D_th + np.pi) % (2*np.pi)\n",
    "    if(pan_correct > np.pi):\n",
    "        pan_correct=-2*np.pi+pan_correct\n",
    "    if(pan_correct < -np.pi):\n",
    "        pan_correct=2*np.pi+pan_correct\n",
    "    if ((pan_correct) > .5 * np.pi):\n",
    "        print ('Exorcist alert')\n",
    "        pan_correct=.5*np.pi\n",
    "    head_pose[0]=pan_correct\n",
    "    tilt_correct=np.arctan2(D_z,np.linalg.norm((D_x,D_y)))\n",
    "    head_pose [1]=-tilt_correct    \n",
    "    head.set_joint_value_target(head_pose)\n",
    "    succ=head.go()\n",
    "    return succ\n",
    "\n",
    "def get_line(camera):\n",
    "    if camera == 'hand':\n",
    "         img = hand_cam.get_image()\n",
    "    elif camera == 'head':\n",
    "        img = rgbd.get_image()\n",
    "#     cv.imwrite('table.jpg',img)\n",
    "#     img = cv.imread(cv.samples.findFile('table.jpg'))\n",
    "#     gray = cv.cvtColor(frame, cv.COLOR_BGR2GRAY)\n",
    "    gray = cv.cvtColor(img, cv.COLOR_RGB2GRAY)\n",
    "    edges = cv.Canny(gray, 50, 150, apertureSize = 3)\n",
    "    lines = cv.HoughLines(edges, 1, np.pi/180,200)\n",
    "#     if len(lines)\n",
    "    for line in lines:\n",
    "        rho, theta = line[0]\n",
    "        a = np.cos(theta)\n",
    "        b = np.sin(theta)\n",
    "        x0 = a*rho\n",
    "        y0 = b*rho\n",
    "        x1 = int(x0 + 1000*(-b))\n",
    "        y1 = int(y0 + 1000*(a))\n",
    "        x2 = int(x0 - 1000*(-b))\n",
    "        y2 = int(y0 - 1000*(a))\n",
    "#         if theta > 0.707 and theta < 2 and (y1 or y2)>480/2:\n",
    "#             cv.line(img, (x1, y1), (x2, y2), (0, 0, 255), 2)\n",
    "#     cv.line(img, (x1, y1), (x2, y2), (0, 0, 255), 2)    \n",
    "#     cv.imwrite('TableLines.jpg',img)\n",
    "    return lines\n",
    "\n",
    "def tf2_obj_2_arr(transf):\n",
    "    trans = []\n",
    "    trans.append(transf.transform.translation.x)\n",
    "    trans.append(transf.transform.translation.y)\n",
    "    trans.append(transf.transform.translation.z)\n",
    "    \n",
    "    rot = []\n",
    "    rot.append(transf.transform.rotation.x)\n",
    "    rot.append(transf.transform.rotation.y)\n",
    "    rot.append(transf.transform.rotation.z)\n",
    "    rot.append(transf.transform.rotation.w)\n",
    "    \n",
    "    return [trans, rot]\n",
    "    \n",
    "    \n",
    "def correct_points(low_plane=.0,high_plane=0.2):\n",
    "\n",
    "    #Corrects point clouds \"perspective\" i.e. Reference frame head is changed to reference frame map\n",
    "    data = rospy.wait_for_message('/hsrb/head_rgbd_sensor/depth_registered/rectified_points', PointCloud2)\n",
    "    np_data = ros_numpy.numpify(data)\n",
    "    \n",
    "#   new implementation to use only tf2\n",
    "    transf = tfbuff.lookup_transform('map', 'head_rgbd_sensor_gazebo_frame', rospy.Time())\n",
    "    [trans, rot] = tf2_obj_2_arr(transf)\n",
    "    \n",
    "    eu = np.asarray(tf.transformations.euler_from_quaternion(rot))\n",
    "    t = TransformStamped()\n",
    "    rot = tf.transformations.quaternion_from_euler(-eu[1], 0, 0)\n",
    "    t.header.stamp = data.header.stamp\n",
    "    \n",
    "    t.transform.rotation.x = rot[0]\n",
    "    t.transform.rotation.y = rot[1]\n",
    "    t.transform.rotation.z = rot[2]\n",
    "    t.transform.rotation.w = rot[3]\n",
    "\n",
    "    cloud_out = do_transform_cloud(data, t)\n",
    "    np_corrected = ros_numpy.numpify(cloud_out)\n",
    "    corrected = np_corrected.reshape(np_data.shape)\n",
    "\n",
    "    img = np.copy(corrected['y'])\n",
    "\n",
    "    img[np.isnan(img)] = 2\n",
    "    #img3 = np.where((img>low)&(img< 0.99*(trans[2])),img,255)\n",
    "    img3 = np.where((img>0.99*(trans[2])-high_plane)&(img< 0.99*(trans[2])-low_plane),img,255)\n",
    "    return img3\n",
    "\n",
    "def plane_seg_square_imgs(lower=500, higher=50000, reg_ly= 30, reg_hy=600, plt_images=True, low_plane=.0, high_plane=0.2):\n",
    "\n",
    "    #Segment  Plane using corrected point cloud\n",
    "    #Lower, higher = min, max area of the box\n",
    "    #reg_ly= 30,reg_hy=600    Region (low y  region high y ) Only centroids within region are accepted\n",
    "    \n",
    "    image = rgbd.get_h_image()\n",
    "    iimmg = rgbd.get_image()\n",
    "    points_data = rgbd.get_points()\n",
    "    img = np.copy(image)\n",
    "    img3 = correct_points(low_plane,high_plane)\n",
    "    \n",
    "#     cv2 on python 3\n",
    "    contours, hierarchy = cv2.findContours(img3.astype('uint8'),cv2.RETR_TREE,cv2.CHAIN_APPROX_SIMPLE)\n",
    "    i=0\n",
    "    cents=[]\n",
    "    points=[]\n",
    "    images=[]\n",
    "    for i, contour in enumerate(contours):\n",
    "        area = cv2.contourArea(contour)\n",
    "        if area > lower and area < higher :\n",
    "            M = cv2.moments(contour)\n",
    "            # calculate x,y coordinate of center\n",
    "            cX = int(M[\"m10\"] / M[\"m00\"])\n",
    "            cY = int(M[\"m01\"] / M[\"m00\"])\n",
    "\n",
    "            boundRect = cv2.boundingRect(contour)\n",
    "            #just for drawing rect, dont waste too much time on this\n",
    "            img = cv2.rectangle(img,(boundRect[0], boundRect[1]),(boundRect[0]+boundRect[2], boundRect[1]+boundRect[3]), (0,0,0), 2)\n",
    "            # calculate moments for each contour\n",
    "            if (cY > reg_ly and cY < reg_hy  ):\n",
    "                image_aux = iimmg[boundRect[1]:boundRect[1]+max(boundRect[2],boundRect[3]),boundRect[0]:boundRect[0]+max(boundRect[2],boundRect[3])]\n",
    "                images.append(image_aux)\n",
    "                cv2.circle(img, (cX, cY), 5, (255, 255, 255), -1)\n",
    "                cv2.putText(img, f'centroid_{i}_{cX},{cY}',    (cX - 25, cY - 25)   ,cv2.FONT_HERSHEY_SIMPLEX, 0.9, (0, 0, 0), 2)\n",
    "                #print ('cX,cY',cX,cY)\n",
    "                xyz = []\n",
    "\n",
    "                for jy in range (boundRect[0], boundRect[0]+boundRect[2]):\n",
    "                    for ix in range(boundRect[1], boundRect[1]+boundRect[3]):\n",
    "                        aux = (np.asarray((points_data['x'][ix,jy],points_data['y'][ix,jy],points_data['z'][ix,jy])))\n",
    "                        if np.isnan(aux[0]) or np.isnan(aux[1]) or np.isnan(aux[2]):\n",
    "                            'reject point'\n",
    "                        else:\n",
    "                            xyz.append(aux)\n",
    "\n",
    "                xyz = np.asarray(xyz)\n",
    "                cent = xyz.mean(axis=0)\n",
    "                cents.append(cent)\n",
    "#                 print (cent)\n",
    "                points.append(xyz)\n",
    "#             else:\n",
    "#                 print ('cent out of region... rejected')\n",
    "    sub_plt = 0\n",
    "    if plt_images:\n",
    "        for image in images:\n",
    "           \n",
    "            sub_plt += 1\n",
    "            ax = plt.subplot(5, 5, sub_plt)\n",
    "          \n",
    "            plt.imshow(image)\n",
    "            plt.axis(\"off\")\n",
    "\n",
    "    cents=np.asarray(cents)\n",
    "    ### returns centroids found and a group of 3d coordinates that conform the centroid\n",
    "    return(cents,np.asarray(points), images)\n",
    "\n",
    "def seg_square_imgs(lower=2000, higher=50000, reg_ly=0, reg_hy=1000, reg_lx=0, reg_hx=1000, plt_images=True): \n",
    "\n",
    "#     Using kmeans for image segmentation find\n",
    "#     Lower, higher = min, max area of the box\n",
    "#     reg_ly= 30,reg_hy=600,reg_lx=0,reg_hx=1000, \n",
    "#     Region (low  x,y  region high x,y ) Only centroids within region are accepted\n",
    "    image = rgbd.get_h_image()\n",
    "    iimmg = rgbd.get_image()\n",
    "    points_data = rgbd.get_points()\n",
    "    values = image.reshape((-1,3))\n",
    "    values = np.float32(values)\n",
    "    criteria = (cv2.TERM_CRITERIA_EPS + cv2.TERM_CRITERIA_MAX_ITER  ,1000,0.1)\n",
    "    k = 6\n",
    "    _ , labels , cc = cv2.kmeans(values, k, None, criteria, 30, cv2.KMEANS_RANDOM_CENTERS)\n",
    "    cc = np.uint8(cc)\n",
    "    segmented_image = cc[labels.flatten()]\n",
    "    segmented_image = segmented_image.reshape(image.shape)\n",
    "    th3 = cv2.adaptiveThreshold(segmented_image, 255, cv2.ADAPTIVE_THRESH_GAUSSIAN_C, cv2.THRESH_BINARY, 11, 2)\n",
    "    kernel = np.ones((5, 5), np.uint8)\n",
    "    im4 = cv2.erode(th3, kernel, iterations = 4)\n",
    "    plane_mask = points_data['z']\n",
    "    cv2_img = plane_mask.astype('uint8')\n",
    "    img = im4\n",
    "    contours, hierarchy = cv2.findContours(im4.astype('uint8'),cv2.RETR_TREE,cv2.CHAIN_APPROX_SIMPLE)\n",
    "    i = 0\n",
    "    cents = []\n",
    "    points = []\n",
    "    images = []\n",
    "    for i, contour in enumerate(contours):\n",
    "        area = cv2.contourArea(contour)\n",
    "        if area > lower and area < higher :\n",
    "            M = cv2.moments(contour)\n",
    "            # calculate x,y coordinate of center\n",
    "            cX = int(M[\"m10\"] / M[\"m00\"])\n",
    "            cY = int(M[\"m01\"] / M[\"m00\"])\n",
    "            boundRect = cv2.boundingRect(contour)\n",
    "            #just for drawing rect, dont waste too much time on this\n",
    "            image_aux = iimmg[boundRect[1]:boundRect[1] + max(boundRect[3],boundRect[2]),boundRect[0]:boundRect[0]+max(boundRect[3],boundRect[2])]\n",
    "            images.append(image_aux)\n",
    "            img=cv2.rectangle(img,(boundRect[0], boundRect[1]),(boundRect[0]+boundRect[2], boundRect[1]+boundRect[3]), (0,0,0), 2)\n",
    "            #img=cv2.rectangle(img,(boundRect[0], boundRect[1]),(boundRect[0]+max(boundRect[2],boundRect[3]), boundRect[1]+max(boundRect[2],boundRect[3])), (0,0,0), 2)\n",
    "            # calculate moments for each contour\n",
    "            if (cY > reg_ly and cY < reg_hy and  cX > reg_lx and cX < reg_hx   ):\n",
    "                cv2.circle(img, (cX, cY), 5, (255, 255, 255), -1)\n",
    "                cv2.putText(img, f'centroid_{i}_{cX},{cY}', (cX - 25, cY - 25), cv2.FONT_HERSHEY_SIMPLEX, 0.9, (0, 0, 0), 2)\n",
    "                #print ('cX,cY',cX,cY)\n",
    "                xyz = []\n",
    "                for jy in range (boundRect[0], boundRect[0]+boundRect[2]):\n",
    "                    for ix in range(boundRect[1], boundRect[1]+boundRect[3]):\n",
    "                        aux=(np.asarray((points_data['x'][ix,jy],points_data['y'][ix,jy],points_data['z'][ix,jy])))\n",
    "                        if np.isnan(aux[0]) or np.isnan(aux[1]) or np.isnan(aux[2]):\n",
    "                            'reject point'\n",
    "                        else:\n",
    "                            xyz.append(aux)\n",
    "                xyz = np.asarray(xyz)\n",
    "                cent = xyz.mean(axis=0)\n",
    "                cents.append(cent)\n",
    "                #print (cent)\n",
    "                points.append(xyz)\n",
    "            else:\n",
    "                #print ('cent out of region... rejected')\n",
    "                images.pop()\n",
    "    sub_plt = 0\n",
    "    if plt_images:\n",
    "        for image in images:\n",
    "\n",
    "            sub_plt+=1\n",
    "            ax = plt.subplot(5, 5, sub_plt )\n",
    "            plt.imshow(image)\n",
    "            plt.axis(\"off\")\n",
    "    cents=np.asarray(cents)\n",
    "    #images.append(img)\n",
    "    return(cents,np.asarray(points), images)\n",
    "\n",
    "def __manipulate_gripper(pos = 0.5, vel = 0.5, effort = 0.2):\n",
    "    grip_cmd_pub = rospy.Publisher('/hsrb/gripper_controller/command',\n",
    "                               trajectory_msgs.msg.JointTrajectory, queue_size=100)\n",
    "    traj = trajectory_msgs.msg.JointTrajectory()\n",
    "    traj.joint_names = [\"hand_motor_joint\"]\n",
    "    p = trajectory_msgs.msg.JointTrajectoryPoint()\n",
    "    p.positions = [pos]\n",
    "    p.velocities = [vel]\n",
    "    p.accelerations = [0]\n",
    "    p.effort = [effort]\n",
    "    p.time_from_start = rospy.Duration(0.5)\n",
    "    traj.points = [p]\n",
    "\n",
    "    grip_cmd_pub.publish(traj)\n",
    "\n",
    "def open_gripper(eff=0.5):\n",
    "    __manipulate_gripper(pos=1.23, vel=0.5, effort=eff)\n",
    "    \n",
    "def close_gripper(eff=0.5):\n",
    "    __manipulate_gripper(pos=-0.831, vel=-0.5, effort=-eff)\n",
    "\n",
    "def static_tf_publish(cents):\n",
    "#     Publish tfs of the centroids obtained w.r.t. head sensor frame and references them to map (static)\n",
    "    transf = tfbuff.lookup_transform('map', 'base_link', rospy.Time(0))\n",
    "    [trans, rot] = tf2_obj_2_arr(transf)\n",
    "#     closest_centroid_index=  np.argmin(np.linalg.norm(trans-cents, axis=1))##CLOSEST CENTROID\n",
    "    closest_centroid_index = 0\n",
    "    min_D_to_base = 10\n",
    "    for  i, cent  in enumerate(cents):\n",
    "        x, y, z = cent\n",
    "        if np.isnan(x) or np.isnan(y) or np.isnan(z):\n",
    "            print('nan')\n",
    "        else:\n",
    "            t = geometry_msgs.msg.TransformStamped()\n",
    "            t.header.stamp = rospy.Time.now()\n",
    "            t.header.frame_id = \"head_rgbd_sensor_link\"\n",
    "            t.child_frame_id = f'Object{i}'\n",
    "            t.transform.translation.x = x\n",
    "            t.transform.translation.y = y\n",
    "            t.transform.translation.z = z\n",
    "            t.transform.rotation.x = rot[0]\n",
    "            t.transform.rotation.y = rot[1]\n",
    "            t.transform.rotation.z = rot[2]\n",
    "            t.transform.rotation.w = rot[3]\n",
    "            broad.sendTransform(t)\n",
    "#             broad.sendTransform((x,y,z), rot, rospy.Time.now(), 'Object'+str(i), \"head_rgbd_sensor_link\")\n",
    "            rospy.sleep(0.5)\n",
    "            transf = tfbuff.lookup_transform('map', f'Object{i}', rospy.Time(0))\n",
    "            [xyz_map, cent_quat] = tf2_obj_2_arr(transf)\n",
    "            D_to_base = np.linalg.norm(np.asarray(trans)[:2] - np.asarray(xyz_map)[:2])\n",
    "            if D_to_base <= min_D_to_base:\n",
    "                min_D_to_base = D_to_base\n",
    "                closest_centroid_index = i\n",
    "                closest_centroid_height = xyz_map[2]\n",
    "            print ('Distance: base to obj - ', i, np.linalg.norm(np.asarray(trans)[:2] - np.asarray(xyz_map)[:2]))\n",
    "    i = closest_centroid_index\n",
    "    transf = tfbuff.lookup_transform('map', f'Object{i}', rospy.Time(0))\n",
    "    [xyz_map, cent_quat] = tf2_obj_2_arr(transf)\n",
    "    print('Height closest centroid map', xyz_map[2])\n",
    "    map_euler = tf.transformations.euler_from_quaternion(cent_quat)\n",
    "    rospy.sleep(.5)\n",
    "#     FIXING TF TO MAP ( ODOM REALLY)    \n",
    "    static_ts = TransformStamped()\n",
    "    static_ts.header.stamp = rospy.Time.now()\n",
    "    static_ts.header.frame_id = \"map\"\n",
    "    static_ts.child_frame_id = 'cassette'\n",
    "    static_ts.transform.translation.x = float(xyz_map[0])\n",
    "    static_ts.transform.translation.y = float(xyz_map[1])\n",
    "    static_ts.transform.translation.z = float(xyz_map[2])\n",
    "#     quat = tf.transformations.quaternion_from_euler(-euler[0],0,1.5)\n",
    "    static_ts.transform.rotation.x = 0#-quat[0]#trans.transform.rotation.x\n",
    "    static_ts.transform.rotation.y = 0#-quat[1]#trans.transform.rotation.y\n",
    "    static_ts.transform.rotation.z = 0#-quat[2]#trans.transform.rotation.z\n",
    "    static_ts.transform.rotation.w = 1#-quat[3]#trans.transform.rotation.w\n",
    "    print ('xyz_map', xyz_map)\n",
    "    tf_static_broad.sendTransform(static_ts)\n",
    "    return closest_centroid_height, closest_centroid_index\n",
    "\n",
    "def static_publish_ARmarker():\n",
    "    transf = tfbuff.lookup_transform('map', 'ar_marker/201', rospy.Time(0))\n",
    "    [xyz_map, cent_quat] = tf2_obj_2_arr(transf)\n",
    "    print('Height closest centroid map', xyz_map[2])\n",
    "    map_euler = tf.transformations.euler_from_quaternion(cent_quat)\n",
    "    rospy.sleep(.5)\n",
    "#     FIXING TF TO MAP ( ODOM REALLY)    \n",
    "    static_ts = TransformStamped()\n",
    "    static_ts.header.stamp = rospy.Time.now()\n",
    "    static_ts.header.frame_id = \"map\"\n",
    "    static_ts.child_frame_id = 'cassette'\n",
    "    static_ts.transform.translation.x = float(xyz_map[0])\n",
    "    static_ts.transform.translation.y = float(xyz_map[1])\n",
    "    static_ts.transform.translation.z = float(xyz_map[2])\n",
    "#     quat = tf.transformations.quaternion_from_euler(-euler[0],0,1.5)\n",
    "    static_ts.transform.rotation.x = 0#-quat[0]#trans.transform.rotation.x\n",
    "    static_ts.transform.rotation.y = 0#-quat[1]#trans.transform.rotation.y\n",
    "    static_ts.transform.rotation.z = 0#-quat[2]#trans.transform.rotation.z\n",
    "    static_ts.transform.rotation.w = 1#-quat[3]#trans.transform.rotation.w\n",
    "    print ('xyz_map', xyz_map)\n",
    "    tf_static_broad.sendTransform(static_ts)\n",
    "\n",
    "def tiny_move_base(x = 0, y = 0, theta = 0, std_time = 0.5, MAX_VEL = 0.03):\n",
    "    MAX_VEL = 0.03\n",
    "    velX = x/std_time\n",
    "    velY = y/std_time\n",
    "    time = std_time\n",
    "    if abs(velX) > MAX_VEL or abs(velY) > MAX_VEL:\n",
    "        newVelX =  MAX_VEL * np.sign(velX)\n",
    "        newVelY = MAX_VEL * np.sign(velY)\n",
    "#         timeX = x / MAX_VEL\n",
    "#         timeY = y / MAX_VEL\n",
    "#         if timeX > timeY:\n",
    "#             time = timeX\n",
    "#         else:\n",
    "#             time = timeY\n",
    "    else :\n",
    "        newVelX = velX\n",
    "        newVelY = velY\n",
    "    move_base(newVelX, newVelY, theta/std_time, time)\n",
    "\n",
    "def move_base_vel(vx, vy, vw):\n",
    "    twist = Twist()\n",
    "    twist.linear.x = vx\n",
    "    twist.linear.y = vy\n",
    "    twist.angular.z = vw \n",
    "    base_vel_pub.publish(twist)\n",
    "\n",
    "def move_base(x,y,yaw,timeout=0.2):\n",
    "    start_time = rospy.Time.now().to_sec()\n",
    "    while rospy.Time.now().to_sec() - start_time < timeout:  \n",
    "        move_base_vel(x, y, yaw)\n",
    "        \n",
    "def table_alignment():\n",
    "#     hcp = head.get_current_joint_values()\n",
    "#     hcp[0] = 0.0\n",
    "#     hcp[1] = -0.5\n",
    "    head.set_joint_value_target(hcp)\n",
    "    head.go()\n",
    "    threshold = 0.05\n",
    "    while True:\n",
    "        lin = get_line('head')\n",
    "        suma = 0\n",
    "        for el in lin:\n",
    "            suma += el[0][1]\n",
    "        prom = suma / len(lin)\n",
    "        e = 1.5707 - prom\n",
    "        print(e)\n",
    "        if abs(e) < threshold:\n",
    "            break\n",
    "        else:    \n",
    "            move_base(0.0,0.0,0.7*e,0.2)"
   ]
  },
  {
   "cell_type": "code",
   "execution_count": 4,
   "metadata": {
    "scrolled": true
   },
   "outputs": [
    {
     "ename": "KeyboardInterrupt",
     "evalue": "",
     "output_type": "error",
     "traceback": [
      "\u001b[0;31m---------------------------------------------------------------------------\u001b[0m",
      "\u001b[0;31mLookupException\u001b[0m                           Traceback (most recent call last)",
      "\u001b[0;32m<ipython-input-4-3db704ad7f9e>\u001b[0m in \u001b[0;36m<module>\u001b[0;34m\u001b[0m\n\u001b[1;32m     11\u001b[0m     \u001b[0;32mtry\u001b[0m\u001b[0;34m:\u001b[0m\u001b[0;34m\u001b[0m\u001b[0;34m\u001b[0m\u001b[0m\n\u001b[0;32m---> 12\u001b[0;31m         \u001b[0mt\u001b[0m \u001b[0;34m=\u001b[0m \u001b[0mtfbuff\u001b[0m\u001b[0;34m.\u001b[0m\u001b[0mlookup_transform\u001b[0m\u001b[0;34m(\u001b[0m\u001b[0;34m'base_link'\u001b[0m\u001b[0;34m,\u001b[0m \u001b[0;34m'ar_marker/201'\u001b[0m\u001b[0;34m,\u001b[0m \u001b[0mrospy\u001b[0m\u001b[0;34m.\u001b[0m\u001b[0mTime\u001b[0m\u001b[0;34m(\u001b[0m\u001b[0;36m0\u001b[0m\u001b[0;34m)\u001b[0m \u001b[0;34m)\u001b[0m\u001b[0;34m\u001b[0m\u001b[0;34m\u001b[0m\u001b[0m\n\u001b[0m\u001b[1;32m     13\u001b[0m         \u001b[0mrospy\u001b[0m\u001b[0;34m.\u001b[0m\u001b[0msleep\u001b[0m\u001b[0;34m(\u001b[0m\u001b[0;36m0.3\u001b[0m\u001b[0;34m)\u001b[0m\u001b[0;34m\u001b[0m\u001b[0;34m\u001b[0m\u001b[0m\n",
      "\u001b[0;32m/opt/ros/noetic/lib/python3/dist-packages/tf2_ros/buffer.py\u001b[0m in \u001b[0;36mlookup_transform\u001b[0;34m(self, target_frame, source_frame, time, timeout)\u001b[0m\n\u001b[1;32m     85\u001b[0m         \u001b[0mself\u001b[0m\u001b[0;34m.\u001b[0m\u001b[0mcan_transform\u001b[0m\u001b[0;34m(\u001b[0m\u001b[0mtarget_frame\u001b[0m\u001b[0;34m,\u001b[0m \u001b[0msource_frame\u001b[0m\u001b[0;34m,\u001b[0m \u001b[0mtime\u001b[0m\u001b[0;34m,\u001b[0m \u001b[0mtimeout\u001b[0m\u001b[0;34m)\u001b[0m\u001b[0;34m\u001b[0m\u001b[0;34m\u001b[0m\u001b[0m\n\u001b[0;32m---> 86\u001b[0;31m         \u001b[0;32mreturn\u001b[0m \u001b[0mself\u001b[0m\u001b[0;34m.\u001b[0m\u001b[0mlookup_transform_core\u001b[0m\u001b[0;34m(\u001b[0m\u001b[0mtarget_frame\u001b[0m\u001b[0;34m,\u001b[0m \u001b[0msource_frame\u001b[0m\u001b[0;34m,\u001b[0m \u001b[0mtime\u001b[0m\u001b[0;34m)\u001b[0m\u001b[0;34m\u001b[0m\u001b[0;34m\u001b[0m\u001b[0m\n\u001b[0m\u001b[1;32m     87\u001b[0m \u001b[0;34m\u001b[0m\u001b[0m\n",
      "\u001b[0;31mLookupException\u001b[0m: \"ar_marker/201\" passed to lookupTransform argument source_frame does not exist. ",
      "\nDuring handling of the above exception, another exception occurred:\n",
      "\u001b[0;31mKeyboardInterrupt\u001b[0m                         Traceback (most recent call last)",
      "\u001b[0;32m<ipython-input-4-3db704ad7f9e>\u001b[0m in \u001b[0;36m<module>\u001b[0;34m\u001b[0m\n\u001b[1;32m     26\u001b[0m             \u001b[0mtiny_move_base\u001b[0m\u001b[0;34m(\u001b[0m\u001b[0mx\u001b[0m\u001b[0;34m=\u001b[0m\u001b[0;36m0.5\u001b[0m\u001b[0;34m,\u001b[0m\u001b[0mstd_time\u001b[0m\u001b[0;34m=\u001b[0m\u001b[0;36m0.1\u001b[0m\u001b[0;34m)\u001b[0m\u001b[0;34m\u001b[0m\u001b[0;34m\u001b[0m\u001b[0m\n\u001b[1;32m     27\u001b[0m     \u001b[0;32mexcept\u001b[0m\u001b[0;34m:\u001b[0m\u001b[0;34m\u001b[0m\u001b[0;34m\u001b[0m\u001b[0m\n\u001b[0;32m---> 28\u001b[0;31m         \u001b[0mtiny_move_base\u001b[0m\u001b[0;34m(\u001b[0m\u001b[0mx\u001b[0m\u001b[0;34m=\u001b[0m\u001b[0;36m0.5\u001b[0m\u001b[0;34m,\u001b[0m\u001b[0mstd_time\u001b[0m\u001b[0;34m=\u001b[0m\u001b[0;36m0.1\u001b[0m\u001b[0;34m)\u001b[0m\u001b[0;34m\u001b[0m\u001b[0;34m\u001b[0m\u001b[0m\n\u001b[0m",
      "\u001b[0;32m<ipython-input-3-7b2e275827a5>\u001b[0m in \u001b[0;36mtiny_move_base\u001b[0;34m(x, y, theta, std_time, MAX_VEL)\u001b[0m\n\u001b[1;32m    361\u001b[0m         \u001b[0mnewVelX\u001b[0m \u001b[0;34m=\u001b[0m \u001b[0mvelX\u001b[0m\u001b[0;34m\u001b[0m\u001b[0;34m\u001b[0m\u001b[0m\n\u001b[1;32m    362\u001b[0m         \u001b[0mnewVelY\u001b[0m \u001b[0;34m=\u001b[0m \u001b[0mvelY\u001b[0m\u001b[0;34m\u001b[0m\u001b[0;34m\u001b[0m\u001b[0m\n\u001b[0;32m--> 363\u001b[0;31m     \u001b[0mmove_base\u001b[0m\u001b[0;34m(\u001b[0m\u001b[0mnewVelX\u001b[0m\u001b[0;34m,\u001b[0m \u001b[0mnewVelY\u001b[0m\u001b[0;34m,\u001b[0m \u001b[0mtheta\u001b[0m\u001b[0;34m/\u001b[0m\u001b[0mstd_time\u001b[0m\u001b[0;34m,\u001b[0m \u001b[0mtime\u001b[0m\u001b[0;34m)\u001b[0m\u001b[0;34m\u001b[0m\u001b[0;34m\u001b[0m\u001b[0m\n\u001b[0m\u001b[1;32m    364\u001b[0m \u001b[0;34m\u001b[0m\u001b[0m\n\u001b[1;32m    365\u001b[0m \u001b[0;32mdef\u001b[0m \u001b[0mmove_base_vel\u001b[0m\u001b[0;34m(\u001b[0m\u001b[0mvx\u001b[0m\u001b[0;34m,\u001b[0m \u001b[0mvy\u001b[0m\u001b[0;34m,\u001b[0m \u001b[0mvw\u001b[0m\u001b[0;34m)\u001b[0m\u001b[0;34m:\u001b[0m\u001b[0;34m\u001b[0m\u001b[0;34m\u001b[0m\u001b[0m\n",
      "\u001b[0;32m<ipython-input-3-7b2e275827a5>\u001b[0m in \u001b[0;36mmove_base\u001b[0;34m(x, y, yaw, timeout)\u001b[0m\n\u001b[1;32m    373\u001b[0m     \u001b[0mstart_time\u001b[0m \u001b[0;34m=\u001b[0m \u001b[0mrospy\u001b[0m\u001b[0;34m.\u001b[0m\u001b[0mTime\u001b[0m\u001b[0;34m.\u001b[0m\u001b[0mnow\u001b[0m\u001b[0;34m(\u001b[0m\u001b[0;34m)\u001b[0m\u001b[0;34m.\u001b[0m\u001b[0mto_sec\u001b[0m\u001b[0;34m(\u001b[0m\u001b[0;34m)\u001b[0m\u001b[0;34m\u001b[0m\u001b[0;34m\u001b[0m\u001b[0m\n\u001b[1;32m    374\u001b[0m     \u001b[0;32mwhile\u001b[0m \u001b[0mrospy\u001b[0m\u001b[0;34m.\u001b[0m\u001b[0mTime\u001b[0m\u001b[0;34m.\u001b[0m\u001b[0mnow\u001b[0m\u001b[0;34m(\u001b[0m\u001b[0;34m)\u001b[0m\u001b[0;34m.\u001b[0m\u001b[0mto_sec\u001b[0m\u001b[0;34m(\u001b[0m\u001b[0;34m)\u001b[0m \u001b[0;34m-\u001b[0m \u001b[0mstart_time\u001b[0m \u001b[0;34m<\u001b[0m \u001b[0mtimeout\u001b[0m\u001b[0;34m:\u001b[0m\u001b[0;34m\u001b[0m\u001b[0;34m\u001b[0m\u001b[0m\n\u001b[0;32m--> 375\u001b[0;31m         \u001b[0mmove_base_vel\u001b[0m\u001b[0;34m(\u001b[0m\u001b[0mx\u001b[0m\u001b[0;34m,\u001b[0m \u001b[0my\u001b[0m\u001b[0;34m,\u001b[0m \u001b[0myaw\u001b[0m\u001b[0;34m)\u001b[0m\u001b[0;34m\u001b[0m\u001b[0;34m\u001b[0m\u001b[0m\n\u001b[0m\u001b[1;32m    376\u001b[0m \u001b[0;34m\u001b[0m\u001b[0m\n\u001b[1;32m    377\u001b[0m \u001b[0;32mdef\u001b[0m \u001b[0mtable_alignment\u001b[0m\u001b[0;34m(\u001b[0m\u001b[0;34m)\u001b[0m\u001b[0;34m:\u001b[0m\u001b[0;34m\u001b[0m\u001b[0;34m\u001b[0m\u001b[0m\n",
      "\u001b[0;32m<ipython-input-3-7b2e275827a5>\u001b[0m in \u001b[0;36mmove_base_vel\u001b[0;34m(vx, vy, vw)\u001b[0m\n\u001b[1;32m    368\u001b[0m     \u001b[0mtwist\u001b[0m\u001b[0;34m.\u001b[0m\u001b[0mlinear\u001b[0m\u001b[0;34m.\u001b[0m\u001b[0my\u001b[0m \u001b[0;34m=\u001b[0m \u001b[0mvy\u001b[0m\u001b[0;34m\u001b[0m\u001b[0;34m\u001b[0m\u001b[0m\n\u001b[1;32m    369\u001b[0m     \u001b[0mtwist\u001b[0m\u001b[0;34m.\u001b[0m\u001b[0mangular\u001b[0m\u001b[0;34m.\u001b[0m\u001b[0mz\u001b[0m \u001b[0;34m=\u001b[0m \u001b[0mvw\u001b[0m\u001b[0;34m\u001b[0m\u001b[0;34m\u001b[0m\u001b[0m\n\u001b[0;32m--> 370\u001b[0;31m     \u001b[0mbase_vel_pub\u001b[0m\u001b[0;34m.\u001b[0m\u001b[0mpublish\u001b[0m\u001b[0;34m(\u001b[0m\u001b[0mtwist\u001b[0m\u001b[0;34m)\u001b[0m\u001b[0;34m\u001b[0m\u001b[0;34m\u001b[0m\u001b[0m\n\u001b[0m\u001b[1;32m    371\u001b[0m \u001b[0;34m\u001b[0m\u001b[0m\n\u001b[1;32m    372\u001b[0m \u001b[0;32mdef\u001b[0m \u001b[0mmove_base\u001b[0m\u001b[0;34m(\u001b[0m\u001b[0mx\u001b[0m\u001b[0;34m,\u001b[0m\u001b[0my\u001b[0m\u001b[0;34m,\u001b[0m\u001b[0myaw\u001b[0m\u001b[0;34m,\u001b[0m\u001b[0mtimeout\u001b[0m\u001b[0;34m=\u001b[0m\u001b[0;36m0.2\u001b[0m\u001b[0;34m)\u001b[0m\u001b[0;34m:\u001b[0m\u001b[0;34m\u001b[0m\u001b[0;34m\u001b[0m\u001b[0m\n",
      "\u001b[0;32m/opt/ros/noetic/lib/python3/dist-packages/rospy/topics.py\u001b[0m in \u001b[0;36mpublish\u001b[0;34m(self, *args, **kwds)\u001b[0m\n\u001b[1;32m    880\u001b[0m         \u001b[0;32mtry\u001b[0m\u001b[0;34m:\u001b[0m\u001b[0;34m\u001b[0m\u001b[0;34m\u001b[0m\u001b[0m\n\u001b[1;32m    881\u001b[0m             \u001b[0mself\u001b[0m\u001b[0;34m.\u001b[0m\u001b[0mimpl\u001b[0m\u001b[0;34m.\u001b[0m\u001b[0macquire\u001b[0m\u001b[0;34m(\u001b[0m\u001b[0;34m)\u001b[0m\u001b[0;34m\u001b[0m\u001b[0;34m\u001b[0m\u001b[0m\n\u001b[0;32m--> 882\u001b[0;31m             \u001b[0mself\u001b[0m\u001b[0;34m.\u001b[0m\u001b[0mimpl\u001b[0m\u001b[0;34m.\u001b[0m\u001b[0mpublish\u001b[0m\u001b[0;34m(\u001b[0m\u001b[0mdata\u001b[0m\u001b[0;34m)\u001b[0m\u001b[0;34m\u001b[0m\u001b[0;34m\u001b[0m\u001b[0m\n\u001b[0m\u001b[1;32m    883\u001b[0m         \u001b[0;32mexcept\u001b[0m \u001b[0mgenpy\u001b[0m\u001b[0;34m.\u001b[0m\u001b[0mSerializationError\u001b[0m \u001b[0;32mas\u001b[0m \u001b[0me\u001b[0m\u001b[0;34m:\u001b[0m\u001b[0;34m\u001b[0m\u001b[0;34m\u001b[0m\u001b[0m\n\u001b[1;32m    884\u001b[0m             \u001b[0;31m# can't go to rospy.logerr(), b/c this could potentially recurse\u001b[0m\u001b[0;34m\u001b[0m\u001b[0;34m\u001b[0m\u001b[0;34m\u001b[0m\u001b[0m\n",
      "\u001b[0;32m/opt/ros/noetic/lib/python3/dist-packages/rospy/topics.py\u001b[0m in \u001b[0;36mpublish\u001b[0;34m(self, message, connection_override)\u001b[0m\n\u001b[1;32m   1073\u001b[0m                 \u001b[0;32mtry\u001b[0m\u001b[0;34m:\u001b[0m\u001b[0;34m\u001b[0m\u001b[0;34m\u001b[0m\u001b[0m\n\u001b[1;32m   1074\u001b[0m                     \u001b[0;32mif\u001b[0m \u001b[0;32mnot\u001b[0m \u001b[0mis_shutdown\u001b[0m\u001b[0;34m(\u001b[0m\u001b[0;34m)\u001b[0m\u001b[0;34m:\u001b[0m\u001b[0;34m\u001b[0m\u001b[0;34m\u001b[0m\u001b[0m\n\u001b[0;32m-> 1075\u001b[0;31m                         \u001b[0mc\u001b[0m\u001b[0;34m.\u001b[0m\u001b[0mwrite_data\u001b[0m\u001b[0;34m(\u001b[0m\u001b[0mdata\u001b[0m\u001b[0;34m)\u001b[0m\u001b[0;34m\u001b[0m\u001b[0;34m\u001b[0m\u001b[0m\n\u001b[0m\u001b[1;32m   1076\u001b[0m                 \u001b[0;32mexcept\u001b[0m \u001b[0mTransportTerminated\u001b[0m \u001b[0;32mas\u001b[0m \u001b[0me\u001b[0m\u001b[0;34m:\u001b[0m\u001b[0;34m\u001b[0m\u001b[0;34m\u001b[0m\u001b[0m\n\u001b[1;32m   1077\u001b[0m                     \u001b[0mlogdebug\u001b[0m\u001b[0;34m(\u001b[0m\u001b[0;34m\"publisher connection to [%s] terminated, see errorlog for details:\\n%s\"\u001b[0m\u001b[0;34m%\u001b[0m\u001b[0;34m(\u001b[0m\u001b[0mc\u001b[0m\u001b[0;34m.\u001b[0m\u001b[0mendpoint_id\u001b[0m\u001b[0;34m,\u001b[0m \u001b[0mtraceback\u001b[0m\u001b[0;34m.\u001b[0m\u001b[0mformat_exc\u001b[0m\u001b[0;34m(\u001b[0m\u001b[0;34m)\u001b[0m\u001b[0;34m)\u001b[0m\u001b[0;34m)\u001b[0m\u001b[0;34m\u001b[0m\u001b[0;34m\u001b[0m\u001b[0m\n",
      "\u001b[0;32m/opt/ros/noetic/lib/python3/dist-packages/rospy/impl/tcpros_pubsub.py\u001b[0m in \u001b[0;36mwrite_data\u001b[0;34m(self, data)\u001b[0m\n\u001b[1;32m    418\u001b[0m             \u001b[0mself\u001b[0m\u001b[0;34m.\u001b[0m\u001b[0m_cond_data_available\u001b[0m\u001b[0;34m.\u001b[0m\u001b[0mnotify\u001b[0m\u001b[0;34m(\u001b[0m\u001b[0;34m)\u001b[0m\u001b[0;34m\u001b[0m\u001b[0;34m\u001b[0m\u001b[0m\n\u001b[1;32m    419\u001b[0m         \u001b[0;31m# effectively yields the rest of the thread quantum\u001b[0m\u001b[0;34m\u001b[0m\u001b[0;34m\u001b[0m\u001b[0;34m\u001b[0m\u001b[0m\n\u001b[0;32m--> 420\u001b[0;31m         \u001b[0mtime\u001b[0m\u001b[0;34m.\u001b[0m\u001b[0msleep\u001b[0m\u001b[0;34m(\u001b[0m\u001b[0;36m0\u001b[0m\u001b[0;34m)\u001b[0m\u001b[0;34m\u001b[0m\u001b[0;34m\u001b[0m\u001b[0m\n\u001b[0m\u001b[1;32m    421\u001b[0m         \u001b[0;32mreturn\u001b[0m \u001b[0;32mTrue\u001b[0m\u001b[0;34m\u001b[0m\u001b[0;34m\u001b[0m\u001b[0m\n\u001b[1;32m    422\u001b[0m \u001b[0;34m\u001b[0m\u001b[0m\n",
      "\u001b[0;31mKeyboardInterrupt\u001b[0m: "
     ]
    }
   ],
   "source": [
    "# FIND AR MARKER\n",
    "hcp = head.get_current_joint_values()\n",
    "# print(hcp)\n",
    "hcp[0]=0.4\n",
    "hcp[1]= -0.2\n",
    "head.set_joint_value_target(hcp)\n",
    "head.go()\n",
    "succ = False\n",
    "last = 0\n",
    "while not succ:\n",
    "    try:\n",
    "        t = tfbuff.lookup_transform('base_link', 'ar_marker/201', rospy.Time(0) )\n",
    "        rospy.sleep(0.3)\n",
    "        trans, _ = tf2_obj_2_arr(t)\n",
    "        distanceX = trans[0]\n",
    "        print(distanceX)\n",
    "        if distanceX < 0.60 and distanceX > 0.55:\n",
    "            hcp = head.get_current_joint_values()\n",
    "            hcp[0] += 0.3\n",
    "            hcp[1] = -0.2\n",
    "            head.set_joint_value_target(hcp)\n",
    "            head.go()\n",
    "        if distanceX < 0.45:\n",
    "            succ = True\n",
    "        else:\n",
    "            tiny_move_base(x=0.5,std_time=0.1)\n",
    "    except:\n",
    "        tiny_move_base(x=0.5,std_time=0.1)"
   ]
  },
  {
   "cell_type": "code",
   "execution_count": 5,
   "metadata": {
    "scrolled": true
   },
   "outputs": [],
   "source": [
    "tiny_move_base(theta=1.5707,std_time=2)"
   ]
  },
  {
   "cell_type": "code",
   "execution_count": 5,
   "metadata": {},
   "outputs": [
    {
     "data": {
      "text/plain": [
       "True"
      ]
     },
     "execution_count": 5,
     "metadata": {},
     "output_type": "execute_result"
    }
   ],
   "source": [
    "# arm.set_named_target('neutral')\n",
    "\n",
    "# arm.go()\n",
    "hcp = head.get_current_joint_values()\n",
    "hcp[0] = -0.1\n",
    "hcp[1] = -0.5\n",
    "head.set_joint_value_target(hcp)\n",
    "head.go()\n",
    "# start_AR_recognition()\n",
    "# starter = rospy.ServiceProxy('/marker/start_recognition',Empty)\n",
    "# stopper = rospy.ServiceProxy('/marker/stop_recognition', Empty)"
   ]
  },
  {
   "cell_type": "code",
   "execution_count": null,
   "metadata": {},
   "outputs": [],
   "source": []
  },
  {
   "cell_type": "code",
   "execution_count": 4,
   "metadata": {
    "scrolled": true
   },
   "outputs": [
    {
     "data": {
      "text/plain": []
     },
     "execution_count": 4,
     "metadata": {},
     "output_type": "execute_result"
    }
   ],
   "source": [
    "starter.call()\n",
    "# static_publish_ARmarker()"
   ]
  },
  {
   "cell_type": "code",
   "execution_count": 10,
   "metadata": {
    "scrolled": true
   },
   "outputs": [
    {
     "name": "stdout",
     "output_type": "stream",
     "text": [
      "[[-0.12267153  0.413494    1.1211635 ]\n",
      " [-0.10409301  0.31896338  1.2245353 ]\n",
      " [-0.575319    0.33617282  1.1287789 ]\n",
      " [-1.0722715  -0.97066474  3.063259  ]]\n"
     ]
    },
    {
     "data": {
      "image/png": "[encoded data removed]",
      "text/plain": [
       "<Figure size 432x288 with 4 Axes>"
      ]
     },
     "metadata": {
      "needs_background": "light"
     },
     "output_type": "display_data"
    },
    {
     "name": "stderr",
     "output_type": "stream",
     "text": [
      "\u001b[33m[ WARN] [1661539857.577818147, 230.766000000]: TF_REPEATED_DATA ignoring data with redundant timestamp for frame odom at time 230.784000 according to authority /pose_integrator\u001b[0m\n",
      "\u001b[33m[ WARN] [1661539857.578063668, 230.766000000]: TF_REPEATED_DATA ignoring data with redundant timestamp for frame odom at time 230.784000 according to authority unknown_publisher\u001b[0m\n",
      "\u001b[33m[ WARN] [1661539864.196925861, 232.002000000]: TF_REPEATED_DATA ignoring data with redundant timestamp for frame odom at time 232.026000 according to authority /pose_integrator\u001b[0m\n",
      "\u001b[33m[ WARN] [1661539864.200189622, 232.002000000]: TF_REPEATED_DATA ignoring data with redundant timestamp for frame odom at time 232.026000 according to authority unknown_publisher\u001b[0m\n",
      "\u001b[33m[ WARN] [1661539864.774273744, 232.128000000]: TF_REPEATED_DATA ignoring data with redundant timestamp for frame odom at time 232.227000 according to authority unknown_publisher\u001b[0m\n",
      "\u001b[33m[ WARN] [1661539864.779747023, 232.128000000]: TF_REPEATED_DATA ignoring data with redundant timestamp for frame odom at time 232.227000 according to authority /pose_integrator\u001b[0m\n",
      "\u001b[33m[ WARN] [1661539869.942400441, 233.094000000]: TF_REPEATED_DATA ignoring data with redundant timestamp for frame odom at time 233.109000 according to authority unknown_publisher\u001b[0m\n",
      "\u001b[33m[ WARN] [1661539869.944937213, 233.094000000]: TF_REPEATED_DATA ignoring data with redundant timestamp for frame odom at time 233.109000 according to authority /pose_integrator\u001b[0m\n",
      "\u001b[33m[ WARN] [1661539871.923262207, 233.427000000]: TF_REPEATED_DATA ignoring data with redundant timestamp for frame odom at time 233.499000 according to authority /pose_integrator\u001b[0m\n",
      "\u001b[33m[ WARN] [1661539871.926961175, 233.427000000]: TF_REPEATED_DATA ignoring data with redundant timestamp for frame odom at time 233.499000 according to authority unknown_publisher\u001b[0m\n",
      "\u001b[33m[ WARN] [1661539874.433882304, 233.913000000]: TF_REPEATED_DATA ignoring data with redundant timestamp for frame odom at time 233.940000 according to authority unknown_publisher\u001b[0m\n",
      "\u001b[33m[ WARN] [1661539874.441279724, 233.913000000]: TF_REPEATED_DATA ignoring data with redundant timestamp for frame odom at time 233.940000 according to authority /pose_integrator\u001b[0m\n",
      "\u001b[33m[ WARN] [1661539878.644368081, 234.624000000]: TF_REPEATED_DATA ignoring data with redundant timestamp for frame odom at time 234.654000 according to authority unknown_publisher\u001b[0m\n",
      "\u001b[33m[ WARN] [1661539878.646315861, 234.624000000]: TF_REPEATED_DATA ignoring data with redundant timestamp for frame odom at time 234.654000 according to authority /pose_integrator\u001b[0m\n",
      "\u001b[33m[ WARN] [1661539882.814379063, 235.326000000]: TF_REPEATED_DATA ignoring data with redundant timestamp for frame odom at time 235.365000 according to authority unknown_publisher\u001b[0m\n",
      "\u001b[33m[ WARN] [1661539882.815884060, 235.326000000]: TF_REPEATED_DATA ignoring data with redundant timestamp for frame odom at time 235.365000 according to authority /pose_integrator\u001b[0m\n",
      "\u001b[33m[ WARN] [1661539885.870352660, 235.986000000]: TF_REPEATED_DATA ignoring data with redundant timestamp for frame odom at time 235.986000 according to authority unknown_publisher\u001b[0m\n",
      "\u001b[33m[ WARN] [1661539885.870496353, 235.986000000]: TF_REPEATED_DATA ignoring data with redundant timestamp for frame odom at time 235.986000 according to authority /pose_integrator\u001b[0m\n",
      "\u001b[33m[ WARN] [1661539896.847531755, 237.939000000]: TF_REPEATED_DATA ignoring data with redundant timestamp for frame odom at time 237.963000 according to authority unknown_publisher\u001b[0m\n",
      "\u001b[33m[ WARN] [1661539896.847727236, 237.939000000]: TF_REPEATED_DATA ignoring data with redundant timestamp for frame odom at time 237.963000 according to authority /pose_integrator\u001b[0m\n",
      "\u001b[33m[ WARN] [1661539902.758996190, 239.163000000]: TF_REPEATED_DATA ignoring data with redundant timestamp for frame odom at time 239.229000 according to authority /pose_integrator\u001b[0m\n",
      "\u001b[33m[ WARN] [1661539902.759199637, 239.163000000]: TF_REPEATED_DATA ignoring data with redundant timestamp for frame odom at time 239.229000 according to authority unknown_publisher\u001b[0m\n",
      "\u001b[33m[ WARN] [1661539912.232542325, 240.948000000]: TF_REPEATED_DATA ignoring data with redundant timestamp for frame odom at time 240.987000 according to authority /pose_integrator\u001b[0m\n",
      "\u001b[33m[ WARN] [1661539912.232967309, 240.948000000]: TF_REPEATED_DATA ignoring data with redundant timestamp for frame odom at time 240.987000 according to authority unknown_publisher\u001b[0m\n",
      "\u001b[33m[ WARN] [1661539914.002090184, 241.230000000]: TF_REPEATED_DATA ignoring data with redundant timestamp for frame odom at time 241.299000 according to authority /pose_integrator\u001b[0m\n",
      "\u001b[33m[ WARN] [1661539914.002314874, 241.230000000]: TF_REPEATED_DATA ignoring data with redundant timestamp for frame odom at time 241.299000 according to authority unknown_publisher\u001b[0m\n",
      "\u001b[33m[ WARN] [1661539917.024152916, 241.845000000]: TF_REPEATED_DATA ignoring data with redundant timestamp for frame odom at time 241.878000 according to authority unknown_publisher\u001b[0m\n",
      "\u001b[33m[ WARN] [1661539917.025841846, 241.845000000]: TF_REPEATED_DATA ignoring data with redundant timestamp for frame odom at time 241.878000 according to authority /pose_integrator\u001b[0m\n",
      "\u001b[33m[ WARN] [1661539920.590249272, 242.454000000]: TF_REPEATED_DATA ignoring data with redundant timestamp for frame odom at time 242.484000 according to authority /pose_integrator\u001b[0m\n",
      "\u001b[33m[ WARN] [1661539920.594665663, 242.454000000]: TF_REPEATED_DATA ignoring data with redundant timestamp for frame odom at time 242.484000 according to authority unknown_publisher\u001b[0m\n",
      "\u001b[33m[ WARN] [1661539922.847112390, 242.844000000]: TF_REPEATED_DATA ignoring data with redundant timestamp for frame odom at time 242.844000 according to authority unknown_publisher\u001b[0m\n",
      "\u001b[33m[ WARN] [1661539922.847442580, 242.844000000]: TF_REPEATED_DATA ignoring data with redundant timestamp for frame odom at time 242.844000 according to authority /pose_integrator\u001b[0m\n",
      "\u001b[33m[ WARN] [1661539934.959736678, 244.659000000]: TF_REPEATED_DATA ignoring data with redundant timestamp for frame odom at time 244.704000 according to authority unknown_publisher\u001b[0m\n",
      "\u001b[33m[ WARN] [1661539934.965911313, 244.659000000]: TF_REPEATED_DATA ignoring data with redundant timestamp for frame odom at time 244.704000 according to authority /pose_integrator\u001b[0m\n",
      "\u001b[33m[ WARN] [1661539935.382326800, 244.791000000]: TF_REPEATED_DATA ignoring data with redundant timestamp for frame odom at time 244.791000 according to authority unknown_publisher\u001b[0m\n",
      "\u001b[33m[ WARN] [1661539935.389952547, 244.791000000]: TF_REPEATED_DATA ignoring data with redundant timestamp for frame odom at time 244.791000 according to authority /pose_integrator\u001b[0m\n",
      "\u001b[33m[ WARN] [1661539940.459201223, 245.727000000]: TF_REPEATED_DATA ignoring data with redundant timestamp for frame odom at time 245.760000 according to authority /pose_integrator\u001b[0m\n",
      "\u001b[33m[ WARN] [1661539940.460310720, 245.727000000]: TF_REPEATED_DATA ignoring data with redundant timestamp for frame odom at time 245.760000 according to authority unknown_publisher\u001b[0m\n",
      "\u001b[33m[ WARN] [1661539941.043397789, 245.811000000]: TF_REPEATED_DATA ignoring data with redundant timestamp for frame odom at time 245.871000 according to authority unknown_publisher\u001b[0m\n",
      "\u001b[33m[ WARN] [1661539941.043887006, 245.811000000]: TF_REPEATED_DATA ignoring data with redundant timestamp for frame odom at time 245.871000 according to authority /pose_integrator\u001b[0m\n",
      "\u001b[33m[ WARN] [1661539952.763582050, 247.953000000]: TF_REPEATED_DATA ignoring data with redundant timestamp for frame odom at time 247.977000 according to authority /pose_integrator\u001b[0m\n",
      "\u001b[33m[ WARN] [1661539952.765090118, 247.953000000]: TF_REPEATED_DATA ignoring data with redundant timestamp for frame odom at time 247.977000 according to authority unknown_publisher\u001b[0m\n",
      "\u001b[33m[ WARN] [1661539965.041036862, 249.726000000]: TF_REPEATED_DATA ignoring data with redundant timestamp for frame odom at time 249.753000 according to authority /pose_integrator\u001b[0m\n",
      "\u001b[33m[ WARN] [1661539965.044233121, 249.726000000]: TF_REPEATED_DATA ignoring data with redundant timestamp for frame odom at time 249.753000 according to authority unknown_publisher\u001b[0m\n"
     ]
    },
    {
     "name": "stderr",
     "output_type": "stream",
     "text": [
      "\u001b[33m[ WARN] [1661539980.361936090, 252.246000000]: TF_REPEATED_DATA ignoring data with redundant timestamp for frame odom at time 252.288000 according to authority unknown_publisher\u001b[0m\n",
      "\u001b[33m[ WARN] [1661539980.363259660, 252.246000000]: TF_REPEATED_DATA ignoring data with redundant timestamp for frame odom at time 252.288000 according to authority /pose_integrator\u001b[0m\n",
      "\u001b[33m[ WARN] [1661539988.046171832, 253.950000000]: TF_REPEATED_DATA ignoring data with redundant timestamp for frame odom at time 253.989000 according to authority /pose_integrator\u001b[0m\n",
      "\u001b[33m[ WARN] [1661539988.047416990, 253.950000000]: TF_REPEATED_DATA ignoring data with redundant timestamp for frame odom at time 253.989000 according to authority unknown_publisher\u001b[0m\n",
      "\u001b[33m[ WARN] [1661539988.656922233, 254.046000000]: TF_REPEATED_DATA ignoring data with redundant timestamp for frame odom at time 254.112000 according to authority unknown_publisher\u001b[0m\n",
      "\u001b[33m[ WARN] [1661539988.657654747, 254.046000000]: TF_REPEATED_DATA ignoring data with redundant timestamp for frame odom at time 254.112000 according to authority /pose_integrator\u001b[0m\n",
      "\u001b[33m[ WARN] [1661540001.805089368, 256.368000000]: TF_REPEATED_DATA ignoring data with redundant timestamp for frame odom at time 256.389000 according to authority /pose_integrator\u001b[0m\n",
      "\u001b[33m[ WARN] [1661540001.808898004, 256.368000000]: TF_REPEATED_DATA ignoring data with redundant timestamp for frame odom at time 256.389000 according to authority unknown_publisher\u001b[0m\n",
      "\u001b[33m[ WARN] [1661540003.513207490, 256.626000000]: TF_REPEATED_DATA ignoring data with redundant timestamp for frame odom at time 256.692000 according to authority unknown_publisher\u001b[0m\n",
      "\u001b[33m[ WARN] [1661540003.523738935, 256.626000000]: TF_REPEATED_DATA ignoring data with redundant timestamp for frame odom at time 256.692000 according to authority /pose_integrator\u001b[0m\n",
      "\u001b[33m[ WARN] [1661540005.693030361, 256.968000000]: TF_REPEATED_DATA ignoring data with redundant timestamp for frame odom at time 256.989000 according to authority unknown_publisher\u001b[0m\n",
      "\u001b[33m[ WARN] [1661540005.694464124, 256.968000000]: TF_REPEATED_DATA ignoring data with redundant timestamp for frame odom at time 256.989000 according to authority /pose_integrator\u001b[0m\n",
      "\u001b[33m[ WARN] [1661540016.816388128, 259.110000000]: TF_REPEATED_DATA ignoring data with redundant timestamp for frame odom at time 259.110000 according to authority /pose_integrator\u001b[0m\n",
      "\u001b[33m[ WARN] [1661540016.817135549, 259.110000000]: TF_REPEATED_DATA ignoring data with redundant timestamp for frame odom at time 259.110000 according to authority unknown_publisher\u001b[0m\n",
      "\u001b[33m[ WARN] [1661540017.940298890, 259.392000000]: TF_REPEATED_DATA ignoring data with redundant timestamp for frame odom at time 259.422000 according to authority /pose_integrator\u001b[0m\n",
      "\u001b[33m[ WARN] [1661540017.941014724, 259.392000000]: TF_REPEATED_DATA ignoring data with redundant timestamp for frame odom at time 259.422000 according to authority unknown_publisher\u001b[0m\n",
      "\u001b[33m[ WARN] [1661540028.833672546, 261.345000000]: TF_REPEATED_DATA ignoring data with redundant timestamp for frame odom at time 261.345000 according to authority unknown_publisher\u001b[0m\n",
      "\u001b[33m[ WARN] [1661540028.833939023, 261.345000000]: TF_REPEATED_DATA ignoring data with redundant timestamp for frame odom at time 261.345000 according to authority /pose_integrator\u001b[0m\n",
      "\u001b[33m[ WARN] [1661540038.084194180, 262.800000000]: TF_REPEATED_DATA ignoring data with redundant timestamp for frame odom at time 262.833000 according to authority /pose_integrator\u001b[0m\n",
      "\u001b[33m[ WARN] [1661540038.084448169, 262.800000000]: TF_REPEATED_DATA ignoring data with redundant timestamp for frame odom at time 262.833000 according to authority unknown_publisher\u001b[0m\n",
      "\u001b[33m[ WARN] [1661540045.571838800, 264.006000000]: TF_REPEATED_DATA ignoring data with redundant timestamp for frame odom at time 264.027000 according to authority unknown_publisher\u001b[0m\n",
      "\u001b[33m[ WARN] [1661540045.572032258, 264.006000000]: TF_REPEATED_DATA ignoring data with redundant timestamp for frame odom at time 264.027000 according to authority /pose_integrator\u001b[0m\n",
      "\u001b[33m[ WARN] [1661540046.210531886, 264.138000000]: TF_REPEATED_DATA ignoring data with redundant timestamp for frame odom at time 264.159000 according to authority unknown_publisher\u001b[0m\n",
      "\u001b[33m[ WARN] [1661540046.210928071, 264.138000000]: TF_REPEATED_DATA ignoring data with redundant timestamp for frame odom at time 264.159000 according to authority /pose_integrator\u001b[0m\n",
      "\u001b[33m[ WARN] [1661540061.326116334, 266.715000000]: TF_REPEATED_DATA ignoring data with redundant timestamp for frame odom at time 266.772000 according to authority /pose_integrator\u001b[0m\n",
      "\u001b[33m[ WARN] [1661540061.326564647, 266.715000000]: TF_REPEATED_DATA ignoring data with redundant timestamp for frame odom at time 266.772000 according to authority unknown_publisher\u001b[0m\n",
      "\u001b[33m[ WARN] [1661540074.158382270, 268.812000000]: TF_REPEATED_DATA ignoring data with redundant timestamp for frame odom at time 268.836000 according to authority /pose_integrator\u001b[0m\n",
      "\u001b[33m[ WARN] [1661540074.158597713, 268.812000000]: TF_REPEATED_DATA ignoring data with redundant timestamp for frame odom at time 268.836000 according to authority unknown_publisher\u001b[0m\n",
      "\u001b[33m[ WARN] [1661540076.586156362, 269.208000000]: TF_REPEATED_DATA ignoring data with redundant timestamp for frame odom at time 269.277000 according to authority unknown_publisher\u001b[0m\n",
      "\u001b[33m[ WARN] [1661540076.586341529, 269.208000000]: TF_REPEATED_DATA ignoring data with redundant timestamp for frame odom at time 269.277000 according to authority /pose_integrator\u001b[0m\n",
      "\u001b[33m[ WARN] [1661540081.741434490, 270.213000000]: TF_REPEATED_DATA ignoring data with redundant timestamp for frame odom at time 270.237000 according to authority /pose_integrator\u001b[0m\n",
      "\u001b[33m[ WARN] [1661540081.744308258, 270.213000000]: TF_REPEATED_DATA ignoring data with redundant timestamp for frame odom at time 270.237000 according to authority unknown_publisher\u001b[0m\n",
      "\u001b[33m[ WARN] [1661540084.546160155, 270.759000000]: TF_REPEATED_DATA ignoring data with redundant timestamp for frame odom at time 270.792000 according to authority /pose_integrator\u001b[0m\n",
      "\u001b[33m[ WARN] [1661540084.548328667, 270.759000000]: TF_REPEATED_DATA ignoring data with redundant timestamp for frame odom at time 270.792000 according to authority unknown_publisher\u001b[0m\n",
      "\u001b[33m[ WARN] [1661540087.146699773, 271.188000000]: TF_REPEATED_DATA ignoring data with redundant timestamp for frame odom at time 271.296000 according to authority unknown_publisher\u001b[0m\n",
      "\u001b[33m[ WARN] [1661540087.156115166, 271.296000000]: TF_REPEATED_DATA ignoring data with redundant timestamp for frame odom at time 271.296000 according to authority /pose_integrator\u001b[0m\n",
      "\u001b[33m[ WARN] [1661540093.400533395, 272.505000000]: TF_REPEATED_DATA ignoring data with redundant timestamp for frame odom at time 272.532000 according to authority /pose_integrator\u001b[0m\n",
      "\u001b[33m[ WARN] [1661540093.400716212, 272.505000000]: TF_REPEATED_DATA ignoring data with redundant timestamp for frame odom at time 272.532000 according to authority unknown_publisher\u001b[0m\n",
      "\u001b[33m[ WARN] [1661540095.078609177, 272.829000000]: TF_REPEATED_DATA ignoring data with redundant timestamp for frame odom at time 272.919000 according to authority /pose_integrator\u001b[0m\n",
      "\u001b[33m[ WARN] [1661540095.079211628, 272.829000000]: TF_REPEATED_DATA ignoring data with redundant timestamp for frame odom at time 272.919000 according to authority unknown_publisher\u001b[0m\n",
      "\u001b[33m[ WARN] [1661540096.341458827, 273.084000000]: TF_REPEATED_DATA ignoring data with redundant timestamp for frame odom at time 273.138000 according to authority /pose_integrator\u001b[0m\n",
      "\u001b[33m[ WARN] [1661540096.342261428, 273.084000000]: TF_REPEATED_DATA ignoring data with redundant timestamp for frame odom at time 273.138000 according to authority unknown_publisher\u001b[0m\n",
      "\u001b[33m[ WARN] [1661540098.017898284, 273.387000000]: TF_REPEATED_DATA ignoring data with redundant timestamp for frame odom at time 273.408000 according to authority /pose_integrator\u001b[0m\n",
      "\u001b[33m[ WARN] [1661540098.024006004, 273.387000000]: TF_REPEATED_DATA ignoring data with redundant timestamp for frame odom at time 273.408000 according to authority unknown_publisher\u001b[0m\n"
     ]
    },
    {
     "name": "stderr",
     "output_type": "stream",
     "text": [
      "\u001b[33m[ WARN] [1661540106.356728982, 274.746000000]: TF_REPEATED_DATA ignoring data with redundant timestamp for frame odom at time 274.785000 according to authority unknown_publisher\u001b[0m\n",
      "\u001b[33m[ WARN] [1661540106.358084764, 274.746000000]: TF_REPEATED_DATA ignoring data with redundant timestamp for frame odom at time 274.785000 according to authority /pose_integrator\u001b[0m\n",
      "\u001b[33m[ WARN] [1661540111.359904547, 275.589000000]: TF_REPEATED_DATA ignoring data with redundant timestamp for frame odom at time 275.616000 according to authority /pose_integrator\u001b[0m\n",
      "\u001b[33m[ WARN] [1661540111.361483919, 275.589000000]: TF_REPEATED_DATA ignoring data with redundant timestamp for frame odom at time 275.616000 according to authority unknown_publisher\u001b[0m\n",
      "\u001b[33m[ WARN] [1661540130.327886225, 278.850000000]: TF_REPEATED_DATA ignoring data with redundant timestamp for frame odom at time 278.850000 according to authority /pose_integrator\u001b[0m\n",
      "\u001b[33m[ WARN] [1661540130.347794117, 278.850000000]: TF_REPEATED_DATA ignoring data with redundant timestamp for frame odom at time 278.850000 according to authority unknown_publisher\u001b[0m\n",
      "\u001b[33m[ WARN] [1661540136.891752437, 279.921000000]: TF_REPEATED_DATA ignoring data with redundant timestamp for frame odom at time 279.945000 according to authority unknown_publisher\u001b[0m\n",
      "\u001b[33m[ WARN] [1661540136.893962523, 279.921000000]: TF_REPEATED_DATA ignoring data with redundant timestamp for frame odom at time 279.945000 according to authority /pose_integrator\u001b[0m\n",
      "\u001b[33m[ WARN] [1661540143.470178687, 281.103000000]: TF_REPEATED_DATA ignoring data with redundant timestamp for frame odom at time 281.136000 according to authority unknown_publisher\u001b[0m\n",
      "\u001b[33m[ WARN] [1661540143.470660646, 281.103000000]: TF_REPEATED_DATA ignoring data with redundant timestamp for frame odom at time 281.136000 according to authority /pose_integrator\u001b[0m\n",
      "\u001b[33m[ WARN] [1661540148.432300698, 282.000000000]: TF_REPEATED_DATA ignoring data with redundant timestamp for frame odom at time 282.054000 according to authority /pose_integrator\u001b[0m\n",
      "\u001b[33m[ WARN] [1661540148.451002492, 282.000000000]: TF_REPEATED_DATA ignoring data with redundant timestamp for frame odom at time 282.054000 according to authority unknown_publisher\u001b[0m\n",
      "\u001b[33m[ WARN] [1661540154.813890235, 283.209000000]: TF_REPEATED_DATA ignoring data with redundant timestamp for frame odom at time 283.239000 according to authority unknown_publisher\u001b[0m\n",
      "\u001b[33m[ WARN] [1661540154.819227678, 283.209000000]: TF_REPEATED_DATA ignoring data with redundant timestamp for frame odom at time 283.239000 according to authority /pose_integrator\u001b[0m\n",
      "\u001b[33m[ WARN] [1661540180.644476983, 287.769000000]: TF_REPEATED_DATA ignoring data with redundant timestamp for frame odom at time 287.838000 according to authority /pose_integrator\u001b[0m\n",
      "\u001b[33m[ WARN] [1661540180.646575001, 287.769000000]: TF_REPEATED_DATA ignoring data with redundant timestamp for frame odom at time 287.838000 according to authority unknown_publisher\u001b[0m\n",
      "\u001b[33m[ WARN] [1661540182.106213910, 288.030000000]: TF_REPEATED_DATA ignoring data with redundant timestamp for frame odom at time 288.078000 according to authority unknown_publisher\u001b[0m\n",
      "\u001b[33m[ WARN] [1661540182.106294312, 288.030000000]: TF_REPEATED_DATA ignoring data with redundant timestamp for frame odom at time 288.078000 according to authority /pose_integrator\u001b[0m\n",
      "\u001b[33m[ WARN] [1661540189.927973947, 289.368000000]: TF_REPEATED_DATA ignoring data with redundant timestamp for frame odom at time 289.470000 according to authority unknown_publisher\u001b[0m\n",
      "\u001b[33m[ WARN] [1661540189.929036295, 289.368000000]: TF_REPEATED_DATA ignoring data with redundant timestamp for frame odom at time 289.470000 according to authority /pose_integrator\u001b[0m\n",
      "\u001b[33m[ WARN] [1661540190.810032651, 289.599000000]: TF_REPEATED_DATA ignoring data with redundant timestamp for frame odom at time 289.638000 according to authority unknown_publisher\u001b[0m\n",
      "\u001b[33m[ WARN] [1661540190.814208594, 289.599000000]: TF_REPEATED_DATA ignoring data with redundant timestamp for frame odom at time 289.638000 according to authority /pose_integrator\u001b[0m\n",
      "\u001b[33m[ WARN] [1661540219.002634987, 294.285000000]: TF_REPEATED_DATA ignoring data with redundant timestamp for frame odom at time 294.339000 according to authority /pose_integrator\u001b[0m\n",
      "\u001b[33m[ WARN] [1661540219.016710629, 294.339000000]: TF_REPEATED_DATA ignoring data with redundant timestamp for frame odom at time 294.339000 according to authority unknown_publisher\u001b[0m\n",
      "\u001b[33m[ WARN] [1661540221.310849162, 294.645000000]: TF_REPEATED_DATA ignoring data with redundant timestamp for frame odom at time 294.681000 according to authority /pose_integrator\u001b[0m\n",
      "\u001b[33m[ WARN] [1661540221.314545024, 294.645000000]: TF_REPEATED_DATA ignoring data with redundant timestamp for frame odom at time 294.681000 according to authority unknown_publisher\u001b[0m\n",
      "\u001b[33m[ WARN] [1661540233.057818579, 296.811000000]: TF_REPEATED_DATA ignoring data with redundant timestamp for frame odom at time 296.889000 according to authority /pose_integrator\u001b[0m\n",
      "\u001b[33m[ WARN] [1661540233.058720896, 296.811000000]: TF_REPEATED_DATA ignoring data with redundant timestamp for frame odom at time 296.889000 according to authority unknown_publisher\u001b[0m\n",
      "\u001b[33m[ WARN] [1661540233.597430813, 296.922000000]: TF_REPEATED_DATA ignoring data with redundant timestamp for frame odom at time 296.973000 according to authority /pose_integrator\u001b[0m\n",
      "\u001b[33m[ WARN] [1661540233.597908189, 296.922000000]: TF_REPEATED_DATA ignoring data with redundant timestamp for frame odom at time 296.973000 according to authority unknown_publisher\u001b[0m\n",
      "\u001b[33m[ WARN] [1661540240.765283142, 298.044000000]: TF_REPEATED_DATA ignoring data with redundant timestamp for frame odom at time 298.089000 according to authority unknown_publisher\u001b[0m\n",
      "\u001b[33m[ WARN] [1661540240.780525183, 298.044000000]: TF_REPEATED_DATA ignoring data with redundant timestamp for frame odom at time 298.089000 according to authority /pose_integrator\u001b[0m\n",
      "\u001b[33m[ WARN] [1661540248.517270728, 299.304000000]: TF_REPEATED_DATA ignoring data with redundant timestamp for frame odom at time 299.346000 according to authority /pose_integrator\u001b[0m\n",
      "\u001b[33m[ WARN] [1661540248.521869507, 299.304000000]: TF_REPEATED_DATA ignoring data with redundant timestamp for frame odom at time 299.346000 according to authority unknown_publisher\u001b[0m\n",
      "\u001b[33m[ WARN] [1661540250.222438788, 299.631000000]: TF_REPEATED_DATA ignoring data with redundant timestamp for frame odom at time 299.664000 according to authority /pose_integrator\u001b[0m\n",
      "\u001b[33m[ WARN] [1661540250.222693787, 299.631000000]: TF_REPEATED_DATA ignoring data with redundant timestamp for frame odom at time 299.664000 according to authority unknown_publisher\u001b[0m\n",
      "\u001b[33m[ WARN] [1661540253.218827530, 300.210000000]: TF_REPEATED_DATA ignoring data with redundant timestamp for frame odom at time 300.249000 according to authority unknown_publisher\u001b[0m\n",
      "\u001b[33m[ WARN] [1661540253.218971979, 300.210000000]: TF_REPEATED_DATA ignoring data with redundant timestamp for frame odom at time 300.249000 according to authority /pose_integrator\u001b[0m\n",
      "\u001b[33m[ WARN] [1661540256.065048361, 300.774000000]: TF_REPEATED_DATA ignoring data with redundant timestamp for frame odom at time 300.804000 according to authority unknown_publisher\u001b[0m\n",
      "\u001b[33m[ WARN] [1661540256.065811037, 300.774000000]: TF_REPEATED_DATA ignoring data with redundant timestamp for frame odom at time 300.804000 according to authority /pose_integrator\u001b[0m\n",
      "\u001b[33m[ WARN] [1661540267.004469851, 302.646000000]: TF_REPEATED_DATA ignoring data with redundant timestamp for frame odom at time 302.685000 according to authority /pose_integrator\u001b[0m\n",
      "\u001b[33m[ WARN] [1661540267.005276430, 302.646000000]: TF_REPEATED_DATA ignoring data with redundant timestamp for frame odom at time 302.685000 according to authority unknown_publisher\u001b[0m\n",
      "\u001b[33m[ WARN] [1661540276.715935011, 304.536000000]: TF_REPEATED_DATA ignoring data with redundant timestamp for frame odom at time 304.572000 according to authority unknown_publisher\u001b[0m\n",
      "\u001b[33m[ WARN] [1661540276.716231546, 304.536000000]: TF_REPEATED_DATA ignoring data with redundant timestamp for frame odom at time 304.572000 according to authority /pose_integrator\u001b[0m\n"
     ]
    },
    {
     "name": "stderr",
     "output_type": "stream",
     "text": [
      "\u001b[33m[ WARN] [1661540282.757965271, 305.754000000]: TF_REPEATED_DATA ignoring data with redundant timestamp for frame odom at time 305.754000 according to authority /pose_integrator\u001b[0m\n",
      "\u001b[33m[ WARN] [1661540282.759377055, 305.754000000]: TF_REPEATED_DATA ignoring data with redundant timestamp for frame odom at time 305.754000 according to authority unknown_publisher\u001b[0m\n",
      "\u001b[33m[ WARN] [1661540288.678249746, 306.810000000]: TF_REPEATED_DATA ignoring data with redundant timestamp for frame odom at time 306.846000 according to authority /pose_integrator\u001b[0m\n",
      "\u001b[33m[ WARN] [1661540288.682255046, 306.810000000]: TF_REPEATED_DATA ignoring data with redundant timestamp for frame odom at time 306.846000 according to authority unknown_publisher\u001b[0m\n",
      "\u001b[33m[ WARN] [1661540312.141483067, 310.707000000]: TF_REPEATED_DATA ignoring data with redundant timestamp for frame odom at time 310.731000 according to authority /pose_integrator\u001b[0m\n",
      "\u001b[33m[ WARN] [1661540312.143230207, 310.707000000]: TF_REPEATED_DATA ignoring data with redundant timestamp for frame odom at time 310.731000 according to authority unknown_publisher\u001b[0m\n",
      "\u001b[33m[ WARN] [1661540314.445562908, 310.983000000]: TF_REPEATED_DATA ignoring data with redundant timestamp for frame odom at time 311.067000 according to authority /pose_integrator\u001b[0m\n",
      "\u001b[33m[ WARN] [1661540314.446022139, 310.983000000]: TF_REPEATED_DATA ignoring data with redundant timestamp for frame odom at time 311.067000 according to authority unknown_publisher\u001b[0m\n",
      "\u001b[33m[ WARN] [1661540318.028557614, 311.625000000]: TF_REPEATED_DATA ignoring data with redundant timestamp for frame odom at time 311.661000 according to authority unknown_publisher\u001b[0m\n",
      "\u001b[33m[ WARN] [1661540318.030498143, 311.625000000]: TF_REPEATED_DATA ignoring data with redundant timestamp for frame odom at time 311.661000 according to authority /pose_integrator\u001b[0m\n",
      "\u001b[33m[ WARN] [1661540320.729754706, 312.150000000]: TF_REPEATED_DATA ignoring data with redundant timestamp for frame odom at time 312.177000 according to authority /pose_integrator\u001b[0m\n",
      "\u001b[33m[ WARN] [1661540320.734330512, 312.150000000]: TF_REPEATED_DATA ignoring data with redundant timestamp for frame odom at time 312.177000 according to authority unknown_publisher\u001b[0m\n",
      "\u001b[33m[ WARN] [1661540324.049125606, 312.756000000]: TF_REPEATED_DATA ignoring data with redundant timestamp for frame odom at time 312.789000 according to authority /pose_integrator\u001b[0m\n",
      "\u001b[33m[ WARN] [1661540324.052594751, 312.756000000]: TF_REPEATED_DATA ignoring data with redundant timestamp for frame odom at time 312.789000 according to authority unknown_publisher\u001b[0m\n",
      "\u001b[33m[ WARN] [1661540335.694778022, 314.619000000]: TF_REPEATED_DATA ignoring data with redundant timestamp for frame odom at time 314.640000 according to authority /pose_integrator\u001b[0m\n",
      "\u001b[33m[ WARN] [1661540335.695283671, 314.619000000]: TF_REPEATED_DATA ignoring data with redundant timestamp for frame odom at time 314.640000 according to authority unknown_publisher\u001b[0m\n",
      "\u001b[33m[ WARN] [1661540336.044368576, 314.691000000]: TF_REPEATED_DATA ignoring data with redundant timestamp for frame odom at time 314.715000 according to authority /pose_integrator\u001b[0m\n",
      "\u001b[33m[ WARN] [1661540336.056827056, 314.691000000]: TF_REPEATED_DATA ignoring data with redundant timestamp for frame odom at time 314.715000 according to authority unknown_publisher\u001b[0m\n",
      "\u001b[33m[ WARN] [1661540336.438546050, 314.820000000]: TF_REPEATED_DATA ignoring data with redundant timestamp for frame odom at time 314.898000 according to authority /pose_integrator\u001b[0m\n",
      "\u001b[33m[ WARN] [1661540336.441498343, 314.820000000]: TF_REPEATED_DATA ignoring data with redundant timestamp for frame odom at time 314.898000 according to authority unknown_publisher\u001b[0m\n",
      "\u001b[33m[ WARN] [1661540343.998768832, 316.053000000]: TF_REPEATED_DATA ignoring data with redundant timestamp for frame odom at time 316.095000 according to authority unknown_publisher\u001b[0m\n",
      "\u001b[33m[ WARN] [1661540344.000116927, 316.053000000]: TF_REPEATED_DATA ignoring data with redundant timestamp for frame odom at time 316.095000 according to authority /pose_integrator\u001b[0m\n",
      "\u001b[33m[ WARN] [1661540346.857409187, 316.542000000]: TF_REPEATED_DATA ignoring data with redundant timestamp for frame odom at time 316.584000 according to authority /pose_integrator\u001b[0m\n",
      "\u001b[33m[ WARN] [1661540346.858709813, 316.542000000]: TF_REPEATED_DATA ignoring data with redundant timestamp for frame odom at time 316.584000 according to authority unknown_publisher\u001b[0m\n",
      "\u001b[33m[ WARN] [1661540348.160817519, 316.815000000]: TF_REPEATED_DATA ignoring data with redundant timestamp for frame odom at time 316.839000 according to authority /pose_integrator\u001b[0m\n",
      "\u001b[33m[ WARN] [1661540348.163407291, 316.815000000]: TF_REPEATED_DATA ignoring data with redundant timestamp for frame odom at time 316.839000 according to authority unknown_publisher\u001b[0m\n",
      "\u001b[33m[ WARN] [1661540348.461604630, 316.854000000]: TF_REPEATED_DATA ignoring data with redundant timestamp for frame odom at time 316.890000 according to authority /pose_integrator\u001b[0m\n",
      "\u001b[33m[ WARN] [1661540348.463189562, 316.854000000]: TF_REPEATED_DATA ignoring data with redundant timestamp for frame odom at time 316.890000 according to authority unknown_publisher\u001b[0m\n",
      "\u001b[33m[ WARN] [1661540351.507271089, 317.457000000]: TF_REPEATED_DATA ignoring data with redundant timestamp for frame odom at time 317.496000 according to authority unknown_publisher\u001b[0m\n",
      "\u001b[33m[ WARN] [1661540351.507347718, 317.457000000]: TF_REPEATED_DATA ignoring data with redundant timestamp for frame odom at time 317.496000 according to authority /pose_integrator\u001b[0m\n",
      "\u001b[33m[ WARN] [1661540365.090869278, 319.836000000]: TF_REPEATED_DATA ignoring data with redundant timestamp for frame odom at time 319.836000 according to authority /pose_integrator\u001b[0m\n",
      "\u001b[33m[ WARN] [1661540365.091567451, 319.836000000]: TF_REPEATED_DATA ignoring data with redundant timestamp for frame odom at time 319.836000 according to authority unknown_publisher\u001b[0m\n",
      "\u001b[33m[ WARN] [1661540366.740713408, 320.049000000]: TF_REPEATED_DATA ignoring data with redundant timestamp for frame odom at time 320.079000 according to authority /pose_integrator\u001b[0m\n",
      "\u001b[33m[ WARN] [1661540366.741819766, 320.049000000]: TF_REPEATED_DATA ignoring data with redundant timestamp for frame odom at time 320.079000 according to authority unknown_publisher\u001b[0m\n",
      "\u001b[33m[ WARN] [1661540376.091362613, 321.675000000]: TF_REPEATED_DATA ignoring data with redundant timestamp for frame odom at time 321.696000 according to authority unknown_publisher\u001b[0m\n",
      "\u001b[33m[ WARN] [1661540376.094877440, 321.696000000]: TF_REPEATED_DATA ignoring data with redundant timestamp for frame odom at time 321.696000 according to authority /pose_integrator\u001b[0m\n",
      "\u001b[33m[ WARN] [1661540386.661028049, 323.229000000]: TF_REPEATED_DATA ignoring data with redundant timestamp for frame odom at time 323.274000 according to authority unknown_publisher\u001b[0m\n",
      "\u001b[33m[ WARN] [1661540386.662331041, 323.229000000]: TF_REPEATED_DATA ignoring data with redundant timestamp for frame odom at time 323.274000 according to authority /pose_integrator\u001b[0m\n",
      "\u001b[33m[ WARN] [1661540396.602207289, 324.690000000]: TF_REPEATED_DATA ignoring data with redundant timestamp for frame odom at time 324.777000 according to authority /pose_integrator\u001b[0m\n",
      "\u001b[33m[ WARN] [1661540396.603441315, 324.690000000]: TF_REPEATED_DATA ignoring data with redundant timestamp for frame odom at time 324.777000 according to authority unknown_publisher\u001b[0m\n",
      "\u001b[33m[ WARN] [1661540396.922212752, 324.777000000]: TF_REPEATED_DATA ignoring data with redundant timestamp for frame odom at time 324.855000 according to authority /pose_integrator\u001b[0m\n",
      "\u001b[33m[ WARN] [1661540396.929857284, 324.777000000]: TF_REPEATED_DATA ignoring data with redundant timestamp for frame odom at time 324.855000 according to authority unknown_publisher\u001b[0m\n",
      "\u001b[33m[ WARN] [1661540406.965119875, 326.469000000]: TF_REPEATED_DATA ignoring data with redundant timestamp for frame odom at time 326.511000 according to authority unknown_publisher\u001b[0m\n",
      "\u001b[33m[ WARN] [1661540406.966995433, 326.469000000]: TF_REPEATED_DATA ignoring data with redundant timestamp for frame odom at time 326.511000 according to authority /pose_integrator\u001b[0m\n"
     ]
    },
    {
     "name": "stderr",
     "output_type": "stream",
     "text": [
      "\u001b[33m[ WARN] [1661540408.950075100, 326.766000000]: TF_REPEATED_DATA ignoring data with redundant timestamp for frame odom at time 326.808000 according to authority unknown_publisher\u001b[0m\n",
      "\u001b[33m[ WARN] [1661540408.950204971, 326.766000000]: TF_REPEATED_DATA ignoring data with redundant timestamp for frame odom at time 326.808000 according to authority /pose_integrator\u001b[0m\n",
      "\u001b[33m[ WARN] [1661540414.070570810, 327.726000000]: TF_REPEATED_DATA ignoring data with redundant timestamp for frame odom at time 327.780000 according to authority /pose_integrator\u001b[0m\n",
      "\u001b[33m[ WARN] [1661540414.070811246, 327.726000000]: TF_REPEATED_DATA ignoring data with redundant timestamp for frame odom at time 327.780000 according to authority unknown_publisher\u001b[0m\n",
      "\u001b[33m[ WARN] [1661540415.718333390, 328.020000000]: TF_REPEATED_DATA ignoring data with redundant timestamp for frame odom at time 328.113000 according to authority unknown_publisher\u001b[0m\n",
      "\u001b[33m[ WARN] [1661540415.718750410, 328.020000000]: TF_REPEATED_DATA ignoring data with redundant timestamp for frame odom at time 328.113000 according to authority /pose_integrator\u001b[0m\n",
      "\u001b[33m[ WARN] [1661540418.662800699, 328.656000000]: TF_REPEATED_DATA ignoring data with redundant timestamp for frame odom at time 328.677000 according to authority /pose_integrator\u001b[0m\n",
      "\u001b[33m[ WARN] [1661540418.665912020, 328.656000000]: TF_REPEATED_DATA ignoring data with redundant timestamp for frame odom at time 328.677000 according to authority unknown_publisher\u001b[0m\n",
      "\u001b[33m[ WARN] [1661540423.221835095, 329.298000000]: TF_REPEATED_DATA ignoring data with redundant timestamp for frame arm_flex_link at time 329.421000 according to authority unknown_publisher\u001b[0m\n",
      "\u001b[33m[ WARN] [1661540423.221942280, 329.298000000]: TF_REPEATED_DATA ignoring data with redundant timestamp for frame arm_lift_link at time 329.421000 according to authority unknown_publisher\u001b[0m\n",
      "\u001b[33m[ WARN] [1661540423.222011571, 329.298000000]: TF_REPEATED_DATA ignoring data with redundant timestamp for frame arm_roll_link at time 329.421000 according to authority unknown_publisher\u001b[0m\n",
      "\u001b[33m[ WARN] [1661540423.222069868, 329.298000000]: TF_REPEATED_DATA ignoring data with redundant timestamp for frame base_b_bumper_link at time 329.421000 according to authority unknown_publisher\u001b[0m\n",
      "\u001b[33m[ WARN] [1661540423.222124274, 329.298000000]: TF_REPEATED_DATA ignoring data with redundant timestamp for frame base_f_bumper_link at time 329.421000 according to authority unknown_publisher\u001b[0m\n",
      "\u001b[33m[ WARN] [1661540423.222186196, 329.298000000]: TF_REPEATED_DATA ignoring data with redundant timestamp for frame base_l_drive_wheel_link at time 329.421000 according to authority unknown_publisher\u001b[0m\n",
      "\u001b[33m[ WARN] [1661540423.222233826, 329.298000000]: TF_REPEATED_DATA ignoring data with redundant timestamp for frame base_l_passive_wheel_x_frame at time 329.421000 according to authority unknown_publisher\u001b[0m\n",
      "\u001b[33m[ WARN] [1661540423.222277314, 329.298000000]: TF_REPEATED_DATA ignoring data with redundant timestamp for frame base_l_passive_wheel_y_frame at time 329.421000 according to authority unknown_publisher\u001b[0m\n",
      "\u001b[33m[ WARN] [1661540423.222316058, 329.298000000]: TF_REPEATED_DATA ignoring data with redundant timestamp for frame base_l_passive_wheel_z_link at time 329.421000 according to authority unknown_publisher\u001b[0m\n",
      "\u001b[33m[ WARN] [1661540423.222353773, 329.298000000]: TF_REPEATED_DATA ignoring data with redundant timestamp for frame base_r_drive_wheel_link at time 329.421000 according to authority unknown_publisher\u001b[0m\n",
      "\u001b[33m[ WARN] [1661540423.222388754, 329.298000000]: TF_REPEATED_DATA ignoring data with redundant timestamp for frame base_r_passive_wheel_x_frame at time 329.421000 according to authority unknown_publisher\u001b[0m\n",
      "\u001b[33m[ WARN] [1661540423.222420196, 329.298000000]: TF_REPEATED_DATA ignoring data with redundant timestamp for frame base_r_passive_wheel_y_frame at time 329.421000 according to authority unknown_publisher\u001b[0m\n",
      "\u001b[33m[ WARN] [1661540423.222463554, 329.298000000]: TF_REPEATED_DATA ignoring data with redundant timestamp for frame base_r_passive_wheel_z_link at time 329.421000 according to authority unknown_publisher\u001b[0m\n",
      "\u001b[33m[ WARN] [1661540423.222495306, 329.298000000]: TF_REPEATED_DATA ignoring data with redundant timestamp for frame base_roll_link at time 329.421000 according to authority unknown_publisher\u001b[0m\n",
      "\u001b[33m[ WARN] [1661540423.222524867, 329.298000000]: TF_REPEATED_DATA ignoring data with redundant timestamp for frame hand_l_distal_link at time 329.421000 according to authority unknown_publisher\u001b[0m\n",
      "\u001b[33m[ WARN] [1661540423.222555645, 329.298000000]: TF_REPEATED_DATA ignoring data with redundant timestamp for frame hand_l_mimic_distal_link at time 329.421000 according to authority unknown_publisher\u001b[0m\n",
      "\u001b[33m[ WARN] [1661540423.222583817, 329.298000000]: TF_REPEATED_DATA ignoring data with redundant timestamp for frame hand_l_proximal_link at time 329.421000 according to authority unknown_publisher\u001b[0m\n",
      "\u001b[33m[ WARN] [1661540423.222614104, 329.298000000]: TF_REPEATED_DATA ignoring data with redundant timestamp for frame hand_l_spring_proximal_link at time 329.421000 according to authority unknown_publisher\u001b[0m\n",
      "\u001b[33m[ WARN] [1661540423.222643236, 329.298000000]: TF_REPEATED_DATA ignoring data with redundant timestamp for frame hand_motor_dummy_link at time 329.421000 according to authority unknown_publisher\u001b[0m\n",
      "\u001b[33m[ WARN] [1661540423.222672899, 329.298000000]: TF_REPEATED_DATA ignoring data with redundant timestamp for frame hand_r_distal_link at time 329.421000 according to authority unknown_publisher\u001b[0m\n",
      "\u001b[33m[ WARN] [1661540423.222698126, 329.298000000]: TF_REPEATED_DATA ignoring data with redundant timestamp for frame hand_r_mimic_distal_link at time 329.421000 according to authority unknown_publisher\u001b[0m\n",
      "\u001b[33m[ WARN] [1661540423.222724985, 329.298000000]: TF_REPEATED_DATA ignoring data with redundant timestamp for frame hand_r_proximal_link at time 329.421000 according to authority unknown_publisher\u001b[0m\n",
      "\u001b[33m[ WARN] [1661540423.222753373, 329.298000000]: TF_REPEATED_DATA ignoring data with redundant timestamp for frame hand_r_spring_proximal_link at time 329.421000 according to authority unknown_publisher\u001b[0m\n",
      "\u001b[33m[ WARN] [1661540423.222780875, 329.298000000]: TF_REPEATED_DATA ignoring data with redundant timestamp for frame head_pan_link at time 329.421000 according to authority unknown_publisher\u001b[0m\n",
      "\u001b[33m[ WARN] [1661540423.222811962, 329.298000000]: TF_REPEATED_DATA ignoring data with redundant timestamp for frame head_tilt_link at time 329.421000 according to authority unknown_publisher\u001b[0m\n",
      "\u001b[33m[ WARN] [1661540423.222839843, 329.298000000]: TF_REPEATED_DATA ignoring data with redundant timestamp for frame torso_lift_link at time 329.421000 according to authority unknown_publisher\u001b[0m\n",
      "\u001b[33m[ WARN] [1661540423.222866520, 329.298000000]: TF_REPEATED_DATA ignoring data with redundant timestamp for frame wrist_flex_link at time 329.421000 according to authority unknown_publisher\u001b[0m\n",
      "\u001b[33m[ WARN] [1661540423.222893602, 329.298000000]: TF_REPEATED_DATA ignoring data with redundant timestamp for frame wrist_ft_sensor_frame at time 329.421000 according to authority unknown_publisher\u001b[0m\n",
      "\u001b[33m[ WARN] [1661540423.223003603, 329.298000000]: TF_REPEATED_DATA ignoring data with redundant timestamp for frame wrist_ft_sensor_mount_link at time 329.421000 according to authority unknown_publisher\u001b[0m\n",
      "\u001b[33m[ WARN] [1661540423.225996544, 329.298000000]: TF_REPEATED_DATA ignoring data with redundant timestamp for frame arm_flex_link at time 329.421000 according to authority /robot_state_publisher\u001b[0m\n",
      "\u001b[33m[ WARN] [1661540423.226174780, 329.298000000]: TF_REPEATED_DATA ignoring data with redundant timestamp for frame arm_lift_link at time 329.421000 according to authority /robot_state_publisher\u001b[0m\n",
      "\u001b[33m[ WARN] [1661540423.226277123, 329.298000000]: TF_REPEATED_DATA ignoring data with redundant timestamp for frame arm_roll_link at time 329.421000 according to authority /robot_state_publisher\u001b[0m\n",
      "\u001b[33m[ WARN] [1661540423.226375434, 329.298000000]: TF_REPEATED_DATA ignoring data with redundant timestamp for frame base_b_bumper_link at time 329.421000 according to authority /robot_state_publisher\u001b[0m\n",
      "\u001b[33m[ WARN] [1661540423.226449336, 329.298000000]: TF_REPEATED_DATA ignoring data with redundant timestamp for frame base_f_bumper_link at time 329.421000 according to authority /robot_state_publisher\u001b[0m\n",
      "\u001b[33m[ WARN] [1661540423.226514193, 329.298000000]: TF_REPEATED_DATA ignoring data with redundant timestamp for frame base_l_drive_wheel_link at time 329.421000 according to authority /robot_state_publisher\u001b[0m\n",
      "\u001b[33m[ WARN] [1661540423.226559898, 329.298000000]: TF_REPEATED_DATA ignoring data with redundant timestamp for frame base_l_passive_wheel_x_frame at time 329.421000 according to authority /robot_state_publisher\u001b[0m\n",
      "\u001b[33m[ WARN] [1661540423.226604076, 329.298000000]: TF_REPEATED_DATA ignoring data with redundant timestamp for frame base_l_passive_wheel_y_frame at time 329.421000 according to authority /robot_state_publisher\u001b[0m\n",
      "\u001b[33m[ WARN] [1661540423.226634430, 329.298000000]: TF_REPEATED_DATA ignoring data with redundant timestamp for frame base_l_passive_wheel_z_link at time 329.421000 according to authority /robot_state_publisher\u001b[0m\n",
      "\u001b[33m[ WARN] [1661540423.226660088, 329.298000000]: TF_REPEATED_DATA ignoring data with redundant timestamp for frame base_r_drive_wheel_link at time 329.421000 according to authority /robot_state_publisher\u001b[0m\n",
      "\u001b[33m[ WARN] [1661540423.226693688, 329.298000000]: TF_REPEATED_DATA ignoring data with redundant timestamp for frame base_r_passive_wheel_x_frame at time 329.421000 according to authority /robot_state_publisher\u001b[0m\n",
      "\u001b[33m[ WARN] [1661540423.226765855, 329.298000000]: TF_REPEATED_DATA ignoring data with redundant timestamp for frame base_r_passive_wheel_y_frame at time 329.421000 according to authority /robot_state_publisher\u001b[0m\n",
      "\u001b[33m[ WARN] [1661540423.226839854, 329.298000000]: TF_REPEATED_DATA ignoring data with redundant timestamp for frame base_r_passive_wheel_z_link at time 329.421000 according to authority /robot_state_publisher\u001b[0m\n",
      "\u001b[33m[ WARN] [1661540423.226899035, 329.298000000]: TF_REPEATED_DATA ignoring data with redundant timestamp for frame base_roll_link at time 329.421000 according to authority /robot_state_publisher\u001b[0m\n",
      "\u001b[33m[ WARN] [1661540423.226966437, 329.298000000]: TF_REPEATED_DATA ignoring data with redundant timestamp for frame hand_l_distal_link at time 329.421000 according to authority /robot_state_publisher\u001b[0m\n",
      "\u001b[33m[ WARN] [1661540423.227017372, 329.298000000]: TF_REPEATED_DATA ignoring data with redundant timestamp for frame hand_l_mimic_distal_link at time 329.421000 according to authority /robot_state_publisher\u001b[0m\n",
      "\u001b[33m[ WARN] [1661540423.227052517, 329.298000000]: TF_REPEATED_DATA ignoring data with redundant timestamp for frame hand_l_proximal_link at time 329.421000 according to authority /robot_state_publisher\u001b[0m\n",
      "\u001b[33m[ WARN] [1661540423.227102506, 329.298000000]: TF_REPEATED_DATA ignoring data with redundant timestamp for frame hand_l_spring_proximal_link at time 329.421000 according to authority /robot_state_publisher\u001b[0m\n",
      "\u001b[33m[ WARN] [1661540423.227136467, 329.298000000]: TF_REPEATED_DATA ignoring data with redundant timestamp for frame hand_motor_dummy_link at time 329.421000 according to authority /robot_state_publisher\u001b[0m\n",
      "\u001b[33m[ WARN] [1661540423.227171280, 329.298000000]: TF_REPEATED_DATA ignoring data with redundant timestamp for frame hand_r_distal_link at time 329.421000 according to authority /robot_state_publisher\u001b[0m\n",
      "\u001b[33m[ WARN] [1661540423.227203854, 329.298000000]: TF_REPEATED_DATA ignoring data with redundant timestamp for frame hand_r_mimic_distal_link at time 329.421000 according to authority /robot_state_publisher\u001b[0m\n",
      "\u001b[33m[ WARN] [1661540423.227235847, 329.298000000]: TF_REPEATED_DATA ignoring data with redundant timestamp for frame hand_r_proximal_link at time 329.421000 according to authority /robot_state_publisher\u001b[0m\n",
      "\u001b[33m[ WARN] [1661540423.227260922, 329.298000000]: TF_REPEATED_DATA ignoring data with redundant timestamp for frame hand_r_spring_proximal_link at time 329.421000 according to authority /robot_state_publisher\u001b[0m\n",
      "\u001b[33m[ WARN] [1661540423.227299837, 329.298000000]: TF_REPEATED_DATA ignoring data with redundant timestamp for frame head_pan_link at time 329.421000 according to authority /robot_state_publisher\u001b[0m\n",
      "\u001b[33m[ WARN] [1661540423.227363334, 329.298000000]: TF_REPEATED_DATA ignoring data with redundant timestamp for frame head_tilt_link at time 329.421000 according to authority /robot_state_publisher\u001b[0m\n",
      "\u001b[33m[ WARN] [1661540423.227409903, 329.298000000]: TF_REPEATED_DATA ignoring data with redundant timestamp for frame torso_lift_link at time 329.421000 according to authority /robot_state_publisher\u001b[0m\n",
      "\u001b[33m[ WARN] [1661540423.227455159, 329.298000000]: TF_REPEATED_DATA ignoring data with redundant timestamp for frame wrist_flex_link at time 329.421000 according to authority /robot_state_publisher\u001b[0m\n",
      "\u001b[33m[ WARN] [1661540423.227493307, 329.298000000]: TF_REPEATED_DATA ignoring data with redundant timestamp for frame wrist_ft_sensor_frame at time 329.421000 according to authority /robot_state_publisher\u001b[0m\n",
      "\u001b[33m[ WARN] [1661540423.227530113, 329.298000000]: TF_REPEATED_DATA ignoring data with redundant timestamp for frame wrist_ft_sensor_mount_link at time 329.421000 according to authority /robot_state_publisher\u001b[0m\n"
     ]
    },
    {
     "name": "stderr",
     "output_type": "stream",
     "text": [
      "\u001b[33m[ WARN] [1661540431.099456094, 330.777000000]: TF_REPEATED_DATA ignoring data with redundant timestamp for frame odom at time 330.768000 according to authority unknown_publisher\u001b[0m\n",
      "\u001b[33m[ WARN] [1661540431.100651275, 330.777000000]: TF_REPEATED_DATA ignoring data with redundant timestamp for frame odom at time 330.768000 according to authority /pose_integrator\u001b[0m\n",
      "\u001b[33m[ WARN] [1661540433.376458974, 331.095000000]: TF_REPEATED_DATA ignoring data with redundant timestamp for frame odom at time 331.209000 according to authority /pose_integrator\u001b[0m\n",
      "\u001b[33m[ WARN] [1661540433.380301240, 331.095000000]: TF_REPEATED_DATA ignoring data with redundant timestamp for frame odom at time 331.209000 according to authority unknown_publisher\u001b[0m\n",
      "\u001b[33m[ WARN] [1661540436.496090448, 331.662000000]: TF_REPEATED_DATA ignoring data with redundant timestamp for frame odom at time 331.683000 according to authority unknown_publisher\u001b[0m\n",
      "\u001b[33m[ WARN] [1661540436.497282254, 331.662000000]: TF_REPEATED_DATA ignoring data with redundant timestamp for frame odom at time 331.683000 according to authority /pose_integrator\u001b[0m\n",
      "\u001b[33m[ WARN] [1661540443.892744485, 332.895000000]: TF_REPEATED_DATA ignoring data with redundant timestamp for frame odom at time 332.952000 according to authority unknown_publisher\u001b[0m\n",
      "\u001b[33m[ WARN] [1661540443.901980379, 332.895000000]: TF_REPEATED_DATA ignoring data with redundant timestamp for frame odom at time 332.952000 according to authority /pose_integrator\u001b[0m\n",
      "\u001b[33m[ WARN] [1661540444.349634642, 332.952000000]: TF_REPEATED_DATA ignoring data with redundant timestamp for frame arm_flex_link at time 333.159000 according to authority unknown_publisher\u001b[0m\n",
      "\u001b[33m[ WARN] [1661540444.349725977, 332.952000000]: TF_REPEATED_DATA ignoring data with redundant timestamp for frame arm_lift_link at time 333.159000 according to authority unknown_publisher\u001b[0m\n",
      "\u001b[33m[ WARN] [1661540444.349761327, 332.952000000]: TF_REPEATED_DATA ignoring data with redundant timestamp for frame arm_roll_link at time 333.159000 according to authority unknown_publisher\u001b[0m\n",
      "\u001b[33m[ WARN] [1661540444.349794766, 332.952000000]: TF_REPEATED_DATA ignoring data with redundant timestamp for frame base_b_bumper_link at time 333.159000 according to authority unknown_publisher\u001b[0m\n",
      "\u001b[33m[ WARN] [1661540444.349827712, 332.952000000]: TF_REPEATED_DATA ignoring data with redundant timestamp for frame base_f_bumper_link at time 333.159000 according to authority unknown_publisher\u001b[0m\n",
      "\u001b[33m[ WARN] [1661540444.349867798, 332.952000000]: TF_REPEATED_DATA ignoring data with redundant timestamp for frame base_l_drive_wheel_link at time 333.159000 according to authority unknown_publisher\u001b[0m\n",
      "\u001b[33m[ WARN] [1661540444.349909205, 332.952000000]: TF_REPEATED_DATA ignoring data with redundant timestamp for frame base_l_passive_wheel_x_frame at time 333.159000 according to authority unknown_publisher\u001b[0m\n",
      "\u001b[33m[ WARN] [1661540444.349945493, 332.952000000]: TF_REPEATED_DATA ignoring data with redundant timestamp for frame base_l_passive_wheel_y_frame at time 333.159000 according to authority unknown_publisher\u001b[0m\n",
      "\u001b[33m[ WARN] [1661540444.349979939, 332.952000000]: TF_REPEATED_DATA ignoring data with redundant timestamp for frame base_l_passive_wheel_z_link at time 333.159000 according to authority unknown_publisher\u001b[0m\n",
      "\u001b[33m[ WARN] [1661540444.350018895, 332.952000000]: TF_REPEATED_DATA ignoring data with redundant timestamp for frame base_r_drive_wheel_link at time 333.159000 according to authority unknown_publisher\u001b[0m\n",
      "\u001b[33m[ WARN] [1661540444.350051890, 332.952000000]: TF_REPEATED_DATA ignoring data with redundant timestamp for frame base_r_passive_wheel_x_frame at time 333.159000 according to authority unknown_publisher\u001b[0m\n",
      "\u001b[33m[ WARN] [1661540444.350089967, 332.952000000]: TF_REPEATED_DATA ignoring data with redundant timestamp for frame base_r_passive_wheel_y_frame at time 333.159000 according to authority unknown_publisher\u001b[0m\n",
      "\u001b[33m[ WARN] [1661540444.350125931, 332.952000000]: TF_REPEATED_DATA ignoring data with redundant timestamp for frame base_r_passive_wheel_z_link at time 333.159000 according to authority unknown_publisher\u001b[0m\n",
      "\u001b[33m[ WARN] [1661540444.350159625, 332.952000000]: TF_REPEATED_DATA ignoring data with redundant timestamp for frame base_roll_link at time 333.159000 according to authority unknown_publisher\u001b[0m\n",
      "\u001b[33m[ WARN] [1661540444.350193689, 332.952000000]: TF_REPEATED_DATA ignoring data with redundant timestamp for frame hand_l_distal_link at time 333.159000 according to authority unknown_publisher\u001b[0m\n",
      "\u001b[33m[ WARN] [1661540444.350231539, 332.952000000]: TF_REPEATED_DATA ignoring data with redundant timestamp for frame hand_l_mimic_distal_link at time 333.159000 according to authority unknown_publisher\u001b[0m\n",
      "\u001b[33m[ WARN] [1661540444.350262377, 332.952000000]: TF_REPEATED_DATA ignoring data with redundant timestamp for frame hand_l_proximal_link at time 333.159000 according to authority unknown_publisher\u001b[0m\n",
      "\u001b[33m[ WARN] [1661540444.350295792, 332.952000000]: TF_REPEATED_DATA ignoring data with redundant timestamp for frame hand_l_spring_proximal_link at time 333.159000 according to authority unknown_publisher\u001b[0m\n",
      "\u001b[33m[ WARN] [1661540444.350327642, 332.952000000]: TF_REPEATED_DATA ignoring data with redundant timestamp for frame hand_motor_dummy_link at time 333.159000 according to authority unknown_publisher\u001b[0m\n",
      "\u001b[33m[ WARN] [1661540444.350360768, 332.952000000]: TF_REPEATED_DATA ignoring data with redundant timestamp for frame hand_r_distal_link at time 333.159000 according to authority unknown_publisher\u001b[0m\n",
      "\u001b[33m[ WARN] [1661540444.350384449, 332.952000000]: TF_REPEATED_DATA ignoring data with redundant timestamp for frame hand_r_mimic_distal_link at time 333.159000 according to authority unknown_publisher\u001b[0m\n",
      "\u001b[33m[ WARN] [1661540444.350415425, 332.952000000]: TF_REPEATED_DATA ignoring data with redundant timestamp for frame hand_r_proximal_link at time 333.159000 according to authority unknown_publisher\u001b[0m\n",
      "\u001b[33m[ WARN] [1661540444.350439024, 332.952000000]: TF_REPEATED_DATA ignoring data with redundant timestamp for frame hand_r_spring_proximal_link at time 333.159000 according to authority unknown_publisher\u001b[0m\n",
      "\u001b[33m[ WARN] [1661540444.350460280, 332.952000000]: TF_REPEATED_DATA ignoring data with redundant timestamp for frame head_pan_link at time 333.159000 according to authority unknown_publisher\u001b[0m\n",
      "\u001b[33m[ WARN] [1661540444.350482547, 332.952000000]: TF_REPEATED_DATA ignoring data with redundant timestamp for frame head_tilt_link at time 333.159000 according to authority unknown_publisher\u001b[0m\n",
      "\u001b[33m[ WARN] [1661540444.350503777, 332.952000000]: TF_REPEATED_DATA ignoring data with redundant timestamp for frame torso_lift_link at time 333.159000 according to authority unknown_publisher\u001b[0m\n",
      "\u001b[33m[ WARN] [1661540444.350524645, 332.952000000]: TF_REPEATED_DATA ignoring data with redundant timestamp for frame wrist_flex_link at time 333.159000 according to authority unknown_publisher\u001b[0m\n",
      "\u001b[33m[ WARN] [1661540444.350551351, 332.952000000]: TF_REPEATED_DATA ignoring data with redundant timestamp for frame wrist_ft_sensor_frame at time 333.159000 according to authority unknown_publisher\u001b[0m\n",
      "\u001b[33m[ WARN] [1661540444.350578120, 332.952000000]: TF_REPEATED_DATA ignoring data with redundant timestamp for frame wrist_ft_sensor_mount_link at time 333.159000 according to authority unknown_publisher\u001b[0m\n",
      "\u001b[33m[ WARN] [1661540444.352750056, 332.952000000]: TF_REPEATED_DATA ignoring data with redundant timestamp for frame arm_flex_link at time 333.159000 according to authority /robot_state_publisher\u001b[0m\n",
      "\u001b[33m[ WARN] [1661540444.352850623, 332.952000000]: TF_REPEATED_DATA ignoring data with redundant timestamp for frame arm_lift_link at time 333.159000 according to authority /robot_state_publisher\u001b[0m\n",
      "\u001b[33m[ WARN] [1661540444.353011618, 332.952000000]: TF_REPEATED_DATA ignoring data with redundant timestamp for frame arm_roll_link at time 333.159000 according to authority /robot_state_publisher\u001b[0m\n",
      "\u001b[33m[ WARN] [1661540444.353141393, 332.952000000]: TF_REPEATED_DATA ignoring data with redundant timestamp for frame base_b_bumper_link at time 333.159000 according to authority /robot_state_publisher\u001b[0m\n",
      "\u001b[33m[ WARN] [1661540444.353283770, 332.952000000]: TF_REPEATED_DATA ignoring data with redundant timestamp for frame base_f_bumper_link at time 333.159000 according to authority /robot_state_publisher\u001b[0m\n",
      "\u001b[33m[ WARN] [1661540444.353503690, 332.952000000]: TF_REPEATED_DATA ignoring data with redundant timestamp for frame base_l_drive_wheel_link at time 333.159000 according to authority /robot_state_publisher\u001b[0m\n",
      "\u001b[33m[ WARN] [1661540444.353647033, 332.952000000]: TF_REPEATED_DATA ignoring data with redundant timestamp for frame base_l_passive_wheel_x_frame at time 333.159000 according to authority /robot_state_publisher\u001b[0m\n",
      "\u001b[33m[ WARN] [1661540444.353746173, 332.952000000]: TF_REPEATED_DATA ignoring data with redundant timestamp for frame base_l_passive_wheel_y_frame at time 333.159000 according to authority /robot_state_publisher\u001b[0m\n",
      "\u001b[33m[ WARN] [1661540444.353835510, 332.952000000]: TF_REPEATED_DATA ignoring data with redundant timestamp for frame base_l_passive_wheel_z_link at time 333.159000 according to authority /robot_state_publisher\u001b[0m\n",
      "\u001b[33m[ WARN] [1661540444.353925141, 332.952000000]: TF_REPEATED_DATA ignoring data with redundant timestamp for frame base_r_drive_wheel_link at time 333.159000 according to authority /robot_state_publisher\u001b[0m\n",
      "\u001b[33m[ WARN] [1661540444.354012143, 332.952000000]: TF_REPEATED_DATA ignoring data with redundant timestamp for frame base_r_passive_wheel_x_frame at time 333.159000 according to authority /robot_state_publisher\u001b[0m\n",
      "\u001b[33m[ WARN] [1661540444.354073387, 332.952000000]: TF_REPEATED_DATA ignoring data with redundant timestamp for frame base_r_passive_wheel_y_frame at time 333.159000 according to authority /robot_state_publisher\u001b[0m\n",
      "\u001b[33m[ WARN] [1661540444.354182021, 332.952000000]: TF_REPEATED_DATA ignoring data with redundant timestamp for frame base_r_passive_wheel_z_link at time 333.159000 according to authority /robot_state_publisher\u001b[0m\n",
      "\u001b[33m[ WARN] [1661540444.354298592, 332.952000000]: TF_REPEATED_DATA ignoring data with redundant timestamp for frame base_roll_link at time 333.159000 according to authority /robot_state_publisher\u001b[0m\n",
      "\u001b[33m[ WARN] [1661540444.354371872, 332.952000000]: TF_REPEATED_DATA ignoring data with redundant timestamp for frame hand_l_distal_link at time 333.159000 according to authority /robot_state_publisher\u001b[0m\n",
      "\u001b[33m[ WARN] [1661540444.354447660, 332.952000000]: TF_REPEATED_DATA ignoring data with redundant timestamp for frame hand_l_mimic_distal_link at time 333.159000 according to authority /robot_state_publisher\u001b[0m\n",
      "\u001b[33m[ WARN] [1661540444.354514033, 332.952000000]: TF_REPEATED_DATA ignoring data with redundant timestamp for frame hand_l_proximal_link at time 333.159000 according to authority /robot_state_publisher\u001b[0m\n",
      "\u001b[33m[ WARN] [1661540444.354552255, 332.952000000]: TF_REPEATED_DATA ignoring data with redundant timestamp for frame hand_l_spring_proximal_link at time 333.159000 according to authority /robot_state_publisher\u001b[0m\n",
      "\u001b[33m[ WARN] [1661540444.354618221, 332.952000000]: TF_REPEATED_DATA ignoring data with redundant timestamp for frame hand_motor_dummy_link at time 333.159000 according to authority /robot_state_publisher\u001b[0m\n",
      "\u001b[33m[ WARN] [1661540444.354665596, 332.952000000]: TF_REPEATED_DATA ignoring data with redundant timestamp for frame hand_r_distal_link at time 333.159000 according to authority /robot_state_publisher\u001b[0m\n",
      "\u001b[33m[ WARN] [1661540444.354729108, 332.952000000]: TF_REPEATED_DATA ignoring data with redundant timestamp for frame hand_r_mimic_distal_link at time 333.159000 according to authority /robot_state_publisher\u001b[0m\n",
      "\u001b[33m[ WARN] [1661540444.354882244, 332.952000000]: TF_REPEATED_DATA ignoring data with redundant timestamp for frame hand_r_proximal_link at time 333.159000 according to authority /robot_state_publisher\u001b[0m\n",
      "\u001b[33m[ WARN] [1661540444.354934469, 332.952000000]: TF_REPEATED_DATA ignoring data with redundant timestamp for frame hand_r_spring_proximal_link at time 333.159000 according to authority /robot_state_publisher\u001b[0m\n",
      "\u001b[33m[ WARN] [1661540444.354979896, 332.952000000]: TF_REPEATED_DATA ignoring data with redundant timestamp for frame head_pan_link at time 333.159000 according to authority /robot_state_publisher\u001b[0m\n",
      "\u001b[33m[ WARN] [1661540444.355053618, 332.952000000]: TF_REPEATED_DATA ignoring data with redundant timestamp for frame head_tilt_link at time 333.159000 according to authority /robot_state_publisher\u001b[0m\n",
      "\u001b[33m[ WARN] [1661540444.355116866, 332.952000000]: TF_REPEATED_DATA ignoring data with redundant timestamp for frame torso_lift_link at time 333.159000 according to authority /robot_state_publisher\u001b[0m\n",
      "\u001b[33m[ WARN] [1661540444.355186888, 332.952000000]: TF_REPEATED_DATA ignoring data with redundant timestamp for frame wrist_flex_link at time 333.159000 according to authority /robot_state_publisher\u001b[0m\n",
      "\u001b[33m[ WARN] [1661540444.355262627, 332.952000000]: TF_REPEATED_DATA ignoring data with redundant timestamp for frame wrist_ft_sensor_frame at time 333.159000 according to authority /robot_state_publisher\u001b[0m\n",
      "\u001b[33m[ WARN] [1661540444.355313542, 332.952000000]: TF_REPEATED_DATA ignoring data with redundant timestamp for frame wrist_ft_sensor_mount_link at time 333.159000 according to authority /robot_state_publisher\u001b[0m\n"
     ]
    },
    {
     "name": "stderr",
     "output_type": "stream",
     "text": [
      "\u001b[33m[ WARN] [1661540446.377084040, 333.465000000]: TF_REPEATED_DATA ignoring data with redundant timestamp for frame odom at time 333.495000 according to authority unknown_publisher\u001b[0m\n",
      "\u001b[33m[ WARN] [1661540446.391830640, 333.465000000]: TF_REPEATED_DATA ignoring data with redundant timestamp for frame odom at time 333.495000 according to authority /pose_integrator\u001b[0m\n",
      "\u001b[33m[ WARN] [1661540447.329434369, 333.648000000]: TF_REPEATED_DATA ignoring data with redundant timestamp for frame odom at time 333.705000 according to authority /pose_integrator\u001b[0m\n",
      "\u001b[33m[ WARN] [1661540447.329658673, 333.648000000]: TF_REPEATED_DATA ignoring data with redundant timestamp for frame odom at time 333.705000 according to authority unknown_publisher\u001b[0m\n",
      "\u001b[33m[ WARN] [1661540450.484127727, 334.101000000]: TF_REPEATED_DATA ignoring data with redundant timestamp for frame odom at time 334.149000 according to authority /pose_integrator\u001b[0m\n",
      "\u001b[33m[ WARN] [1661540450.490304526, 334.101000000]: TF_REPEATED_DATA ignoring data with redundant timestamp for frame odom at time 334.149000 according to authority unknown_publisher\u001b[0m\n",
      "\u001b[33m[ WARN] [1661540456.351779137, 334.890000000]: TF_REPEATED_DATA ignoring data with redundant timestamp for frame odom at time 334.917000 according to authority unknown_publisher\u001b[0m\n",
      "\u001b[33m[ WARN] [1661540456.353324618, 334.890000000]: TF_REPEATED_DATA ignoring data with redundant timestamp for frame odom at time 334.917000 according to authority /pose_integrator\u001b[0m\n",
      "\u001b[33m[ WARN] [1661540457.226470842, 335.007000000]: TF_REPEATED_DATA ignoring data with redundant timestamp for frame odom at time 335.229000 according to authority /pose_integrator\u001b[0m\n",
      "\u001b[33m[ WARN] [1661540457.227324714, 335.007000000]: TF_REPEATED_DATA ignoring data with redundant timestamp for frame odom at time 335.229000 according to authority unknown_publisher\u001b[0m\n",
      "\u001b[33m[ WARN] [1661540459.649835019, 335.577000000]: TF_REPEATED_DATA ignoring data with redundant timestamp for frame odom at time 335.613000 according to authority unknown_publisher\u001b[0m\n",
      "\u001b[33m[ WARN] [1661540459.650411583, 335.577000000]: TF_REPEATED_DATA ignoring data with redundant timestamp for frame odom at time 335.613000 according to authority /pose_integrator\u001b[0m\n",
      "\u001b[33m[ WARN] [1661540467.499959261, 336.831000000]: TF_REPEATED_DATA ignoring data with redundant timestamp for frame odom at time 336.909000 according to authority /pose_integrator\u001b[0m\n",
      "\u001b[33m[ WARN] [1661540467.503233720, 336.831000000]: TF_REPEATED_DATA ignoring data with redundant timestamp for frame odom at time 336.909000 according to authority unknown_publisher\u001b[0m\n",
      "\u001b[33m[ WARN] [1661540482.016346790, 338.943000000]: TF_REPEATED_DATA ignoring data with redundant timestamp for frame odom at time 339.012000 according to authority unknown_publisher\u001b[0m\n",
      "\u001b[33m[ WARN] [1661540482.021381870, 338.943000000]: TF_REPEATED_DATA ignoring data with redundant timestamp for frame odom at time 339.012000 according to authority /pose_integrator\u001b[0m\n",
      "\u001b[33m[ WARN] [1661540486.199880707, 339.585000000]: TF_REPEATED_DATA ignoring data with redundant timestamp for frame odom at time 339.657000 according to authority /pose_integrator\u001b[0m\n",
      "\u001b[33m[ WARN] [1661540486.200472099, 339.585000000]: TF_REPEATED_DATA ignoring data with redundant timestamp for frame odom at time 339.657000 according to authority unknown_publisher\u001b[0m\n",
      "\u001b[33m[ WARN] [1661540496.234640057, 341.472000000]: TF_REPEATED_DATA ignoring data with redundant timestamp for frame odom at time 341.523000 according to authority /pose_integrator\u001b[0m\n",
      "\u001b[33m[ WARN] [1661540496.239071046, 341.472000000]: TF_REPEATED_DATA ignoring data with redundant timestamp for frame odom at time 341.523000 according to authority unknown_publisher\u001b[0m\n",
      "\u001b[33m[ WARN] [1661540497.190234066, 341.694000000]: TF_REPEATED_DATA ignoring data with redundant timestamp for frame odom at time 341.760000 according to authority unknown_publisher\u001b[0m\n",
      "\u001b[33m[ WARN] [1661540497.190892262, 341.694000000]: TF_REPEATED_DATA ignoring data with redundant timestamp for frame odom at time 341.760000 according to authority /pose_integrator\u001b[0m\n",
      "\u001b[33m[ WARN] [1661540500.344391092, 342.291000000]: TF_REPEATED_DATA ignoring data with redundant timestamp for frame odom at time 342.324000 according to authority unknown_publisher\u001b[0m\n",
      "\u001b[33m[ WARN] [1661540500.348656291, 342.291000000]: TF_REPEATED_DATA ignoring data with redundant timestamp for frame odom at time 342.324000 according to authority /pose_integrator\u001b[0m\n",
      "\u001b[33m[ WARN] [1661540501.267378015, 342.411000000]: TF_REPEATED_DATA ignoring data with redundant timestamp for frame odom at time 342.429000 according to authority /pose_integrator\u001b[0m\n",
      "\u001b[33m[ WARN] [1661540501.267956330, 342.411000000]: TF_REPEATED_DATA ignoring data with redundant timestamp for frame odom at time 342.429000 according to authority unknown_publisher\u001b[0m\n"
     ]
    }
   ],
   "source": [
    "# arm.get_current_joint_values()\n",
    "# close_gripper(1)\n",
    "# open_gripper(0.5)\n",
    "cents, xyz, images = plane_seg_square_imgs(lower=500, higher= 9000,low_plane=0.0,high_plane=0.7)\n",
    "print(cents)"
   ]
  },
  {
   "cell_type": "code",
   "execution_count": 8,
   "metadata": {
    "scrolled": true
   },
   "outputs": [
    {
     "data": {
      "text/plain": [
       "header: \n",
       "  seq: 0\n",
       "  stamp: \n",
       "    secs: 1663181324\n",
       "    nsecs: 633357286\n",
       "  frame_id: \"base_link\"\n",
       "child_frame_id: \"ar_marker/201\"\n",
       "transform: \n",
       "  translation: \n",
       "    x: 0.5901338296430858\n",
       "    y: 0.5444007193021916\n",
       "    z: 0.6943078975420713\n",
       "  rotation: \n",
       "    x: -0.9921537780872313\n",
       "    y: -0.048471471905746466\n",
       "    z: 0.011546236702967599\n",
       "    w: 0.11466508385957298"
      ]
     },
     "execution_count": 8,
     "metadata": {},
     "output_type": "execute_result"
    }
   ],
   "source": [
    "tfbuff.lookup_transform('base_link','ar_marker/201',rospy.Time(0))"
   ]
  },
  {
   "cell_type": "code",
   "execution_count": 7,
   "metadata": {
    "scrolled": true
   },
   "outputs": [
    {
     "name": "stdout",
     "output_type": "stream",
     "text": [
      "[-0.9907683411141247, -0.07520694940789449, 0.0229383361916285, 0.11043478500673563]\n"
     ]
    },
    {
     "data": {
      "text/plain": [
       "(-2.917344570848489, 0.02884622836342712, 0.15477302553663333)"
      ]
     },
     "execution_count": 7,
     "metadata": {},
     "output_type": "execute_result"
    }
   ],
   "source": [
    "t = tfbuff.lookup_transform('base_link','ar_marker/201',rospy.Time(0))\n",
    "trans,rot = tf2_obj_2_arr(t)\n",
    "print(rot)\n",
    "tf.transformations.euler_from_quaternion(rot)"
   ]
  },
  {
   "cell_type": "code",
   "execution_count": 9,
   "metadata": {},
   "outputs": [
    {
     "name": "stdout",
     "output_type": "stream",
     "text": [
      "[-0.7059708202192447, 0.6953403211755309, -0.09173526642618814, 0.09844632872886791]\n"
     ]
    },
    {
     "data": {
      "text/plain": [
       "(-2.8717475022302272, 0.007382628172537523, -1.554622223577454)"
      ]
     },
     "execution_count": 9,
     "metadata": {},
     "output_type": "execute_result"
    }
   ],
   "source": [
    "t = tfbuff.lookup_transform('base_link','ar_marker/201',rospy.Time(0))\n",
    "trans,rot = tf2_obj_2_arr(t)\n",
    "print(rot)\n",
    "tf.transformations.euler_from_quaternion(rot)"
   ]
  },
  {
   "cell_type": "code",
   "execution_count": 23,
   "metadata": {
    "scrolled": true
   },
   "outputs": [
    {
     "name": "stdout",
     "output_type": "stream",
     "text": [
      "1.528891340943456\n",
      "1.5234766078038895\n",
      "1.5226312936974002\n",
      "1.3789880517267126\n",
      "1.2645262403092452\n",
      "1.1875323262261157\n",
      "1.0857421655506934\n",
      "1.0333927611450127\n",
      "0.8905882694630014\n",
      "0.9172924317788429\n",
      "0.9172924317788429\n",
      "0.9172924317788429\n",
      "0.9172924317788429\n",
      "0.9172924317788429\n",
      "0.9172924317788429\n",
      "0.9172924317788429\n",
      "0.9172924317788429\n",
      "0.9172924317788429\n",
      "0.9172924317788429\n",
      "0.9172924317788429\n",
      "0.9172924317788429\n",
      "-0.018372864206141815\n",
      "estoy alineado krnal\n",
      "shutdown request: new node registered with same name\n"
     ]
    }
   ],
   "source": [
    "# intento de vuelta\n",
    "succ = False\n",
    "THRESHOLD = 0.1\n",
    "hcp = [0.6,-0.1]\n",
    "flag = True\n",
    "while not succ:\n",
    "    try:\n",
    "        t = tfbuff.lookup_transform('base_link','ar_marker/201',rospy.Time(0))\n",
    "        _, rot = tf2_obj_2_arr(t)\n",
    "#     print(rot)\n",
    "        euler = tf.transformations.euler_from_quaternion(rot)\n",
    "        theta = euler[2]\n",
    "        e = theta + 1.57\n",
    "        print(e)\n",
    "        if abs(e) < THRESHOLD:\n",
    "            print('estoy alineado krnal')\n",
    "            succ = True\n",
    "            hcp[0] = 0.0\n",
    "            head.set_joint_value_target(hcp)\n",
    "            head.go()\n",
    "        else:\n",
    "            rospy.sleep(0.55)\n",
    "            tiny_move_base(theta = 0.02*e, std_time=0.2)\n",
    "    except:\n",
    "        hcp[0] -= 0.2\n",
    "        head.set_joint_value_target(hcp)\n",
    "        head.go()\n",
    "        "
   ]
  },
  {
   "cell_type": "code",
   "execution_count": 7,
   "metadata": {},
   "outputs": [
    {
     "data": {
      "text/plain": [
       "False"
      ]
     },
     "execution_count": 7,
     "metadata": {},
     "output_type": "execute_result"
    }
   ],
   "source": [
    "hcp=[0,0]\n",
    "hcp[0]= 0.6\n",
    "hcp[1]= -0.1\n",
    "head.set_joint_value_target(hcp)\n",
    "head.go()\n",
    "        "
   ]
  },
  {
   "cell_type": "code",
   "execution_count": 31,
   "metadata": {},
   "outputs": [
    {
     "data": {
      "text/plain": [
       "True"
      ]
     },
     "execution_count": 31,
     "metadata": {},
     "output_type": "execute_result"
    }
   ],
   "source": [
    "acp = arm.get_current_joint_values()\n",
    "acp[0] = 0.69\n",
    "arm.set_joint_value_target(acp)\n",
    "arm.go()"
   ]
  },
  {
   "cell_type": "code",
   "execution_count": 32,
   "metadata": {},
   "outputs": [
    {
     "data": {
      "text/plain": [
       "True"
      ]
     },
     "execution_count": 32,
     "metadata": {},
     "output_type": "execute_result"
    }
   ],
   "source": [
    "acp = arm.get_current_joint_values()\n",
    "acp[0] = 0.69\n",
    "arm.set_joint_value_target(acp)\n",
    "arm.go()\n",
    "rospy.sleep(0.3)\n",
    "tiny_move_base(x=-0.2)\n",
    "arm.set_named_target('go')\n",
    "arm.go()"
   ]
  },
  {
   "cell_type": "code",
   "execution_count": 29,
   "metadata": {
    "scrolled": true
   },
   "outputs": [
    {
     "data": {
      "text/plain": [
       "False"
      ]
     },
     "execution_count": 29,
     "metadata": {},
     "output_type": "execute_result"
    }
   ],
   "source": [
    "arm.set_named_target('neutral')\n",
    "arm.go()"
   ]
  },
  {
   "cell_type": "code",
   "execution_count": 39,
   "metadata": {},
   "outputs": [],
   "source": [
    "tiny_move_base(y = 0.1,std_time=0.1)"
   ]
  },
  {
   "cell_type": "code",
   "execution_count": 13,
   "metadata": {},
   "outputs": [
    {
     "name": "stdout",
     "output_type": "stream",
     "text": [
      "0.18206044985683112 -0.07963676197958103\n",
      "0.18077576898262848 -0.08204285837805414\n",
      "0.16376267821065316 -0.05799227993958983\n",
      "0.14912171320579481 -0.029690443332722694\n",
      "0.1297656616285232 -0.006464209257546261\n",
      "0.11706898613260186 0.011072387461636468\n",
      "0.09961603066927394 0.025464086583341705\n",
      "0.06165537424209311 0.03123962812630171\n",
      "0.042112388788395294 0.004777305724930236\n",
      "0.029347725306565264 -0.009126465317773003\n",
      "0.019078794314005942 -0.02641238450546396\n",
      "-0.01923277895010389 -0.02557613299206324\n",
      "-0.035685880512142276 -0.026318878588169448\n",
      "-0.035685880512142276 -0.026318878588169448\n",
      "-0.032739539748185775 0.02910410571583938\n",
      "-0.01566133829922778 0.03699763488155755\n",
      "-0.01566133829922778 0.03699763488155755\n",
      "0.0012475152873097084 0.017285147550490765\n"
     ]
    }
   ],
   "source": [
    "X_OFFSET = 0.0\n",
    "Y_OFFSET = 0.19\n",
    "Z_OFFSET = 0.135\n",
    "\n",
    "# X_OFFSET = 0.0\n",
    "# Y_OFFSET = 0.0\n",
    "# Z_OFFSET = 0.135\n",
    "THRESHOLD = 0.025\n",
    "# THRESHOLD_y = 0.015\n",
    "hcp = head.get_current_joint_values()\n",
    "hcp[0] = -0.1\n",
    "hcp[1] = -0.5\n",
    "head.set_joint_value_target(hcp)\n",
    "head.go()\n",
    "while(True):\n",
    "    try:\n",
    "        t = tfbuff.lookup_transform('hand_palm_link', 'ar_marker/201', rospy.Time(0) )\n",
    "#         t = tfbuff.lookup_transform('hand_palm_link', 'ar_marker/4000', rospy.Time(0) )\n",
    "        traf = t.transform.translation\n",
    "        rospy.sleep(.6)\n",
    "        # tiny_move_base(y = 0.163)\n",
    "        ex = x = traf.x + X_OFFSET\n",
    "        ey = -traf.y + Y_OFFSET\n",
    "        print(ex, ey)\n",
    "        if abs(ex) > THRESHOLD:\n",
    "            tiny_move_base(x = ex)#, y = -traf.y + Y_OFFSET)\n",
    "        if abs(ey) > THRESHOLD:\n",
    "            tiny_move_base(y = ey)\n",
    "        if (abs(ex) <= THRESHOLD and abs(ey) <= THRESHOLD):\n",
    "            hcp[0] = 0\n",
    "            head.set_joint_value_target(hcp)\n",
    "            head.go()\n",
    "            break\n",
    "    except:\n",
    "        hcp = head.get_current_joint_values()\n",
    "        hcp[0] -= 0.1   \n",
    "        print(hcp[0])\n",
    "        head.set_joint_value_target(hcp)\n",
    "        head.go()\n",
    "        if hcp[0] < -1:\n",
    "            hcp[0] = 0.1\n",
    "            head.set_joint_value_target(hcp)\n",
    "            head.go()\n",
    "            print('Ive lost the reference')\n",
    "            break"
   ]
  },
  {
   "cell_type": "code",
   "execution_count": 16,
   "metadata": {},
   "outputs": [
    {
     "data": {
      "text/plain": [
       "array([[[16, 16, 16],\n",
       "        [16, 16, 16],\n",
       "        [11, 18, 14],\n",
       "        ...,\n",
       "        [20, 15, 18],\n",
       "        [16, 15, 18],\n",
       "        [16, 15, 18]],\n",
       "\n",
       "       [[18, 16, 16],\n",
       "        [18, 16, 16],\n",
       "        [16, 16, 16],\n",
       "        ...,\n",
       "        [20, 15, 18],\n",
       "        [13, 16, 18],\n",
       "        [13, 16, 18]],\n",
       "\n",
       "       [[16, 16, 16],\n",
       "        [16, 16, 16],\n",
       "        [13, 17, 16],\n",
       "        ...,\n",
       "        [20, 15, 18],\n",
       "        [16, 15, 18],\n",
       "        [16, 15, 18]],\n",
       "\n",
       "       ...,\n",
       "\n",
       "       [[16, 16, 16],\n",
       "        [16, 16, 16],\n",
       "        [16, 16, 16],\n",
       "        ...,\n",
       "        [20, 17, 13],\n",
       "        [20, 16, 16],\n",
       "        [20, 16, 16]],\n",
       "\n",
       "       [[16, 16, 16],\n",
       "        [16, 16, 16],\n",
       "        [16, 16, 16],\n",
       "        ...,\n",
       "        [20, 16, 16],\n",
       "        [16, 16, 16],\n",
       "        [16, 16, 16]],\n",
       "\n",
       "       [[16, 16, 16],\n",
       "        [16, 16, 16],\n",
       "        [16, 16, 16],\n",
       "        ...,\n",
       "        [20, 17, 13],\n",
       "        [16, 16, 16],\n",
       "        [16, 16, 16]]], dtype=uint8)"
      ]
     },
     "execution_count": 16,
     "metadata": {},
     "output_type": "execute_result"
    }
   ],
   "source": [
    "hand_cam.get_image()"
   ]
  },
  {
   "cell_type": "code",
   "execution_count": 117,
   "metadata": {},
   "outputs": [
    {
     "name": "stdout",
     "output_type": "stream",
     "text": [
      "header: \n",
      "  seq: 0\n",
      "  stamp: \n",
      "    secs: 1662408747\n",
      "    nsecs: 123095036\n",
      "  frame_id: \"head_l_stereo_camera_frame\"\n",
      "child_frame_id: \"ar_marker/201\"\n",
      "transform: \n",
      "  translation: \n",
      "    x: -0.14347501605042673\n",
      "    y: 0.15732225270132918\n",
      "    z: 0.5154270624021277\n",
      "  rotation: \n",
      "    x: -0.3222956746461686\n",
      "    y: -0.1456418210249864\n",
      "    z: -0.2527666914397325\n",
      "    w: 0.9005681305551001\n"
     ]
    }
   ],
   "source": [
    "tr = tfbuff.lookup_transform('head_l_stereo_camera_frame', 'ar_marker/201', rospy.Time(0))\n",
    "print(tr)"
   ]
  },
  {
   "cell_type": "code",
   "execution_count": 95,
   "metadata": {},
   "outputs": [
    {
     "name": "stdout",
     "output_type": "stream",
     "text": [
      "-0.18241688078796336 -0.03828563605475077\n"
     ]
    },
    {
     "name": "stderr",
     "output_type": "stream",
     "text": [
      "[WARN] [1661454076.973070]: Inbound TCP/IP connection failed: connection from sender terminated before handshake header received. 0 bytes were received. Please check sender for additional details.\n"
     ]
    }
   ],
   "source": [
    "tiny_move_base(x=-ex)\n",
    "# tiny_move_base(y = -ey)\n",
    "print(ex,ey)"
   ]
  },
  {
   "cell_type": "code",
   "execution_count": 45,
   "metadata": {},
   "outputs": [
    {
     "data": {
      "text/plain": [
       "False"
      ]
     },
     "execution_count": 45,
     "metadata": {},
     "output_type": "execute_result"
    }
   ],
   "source": [
    "acp = arm.get_current_joint_values()\n",
    "acp[0]-= 0.01\n",
    "arm.set_pose_target(acp)\n",
    "arm.go()"
   ]
  },
  {
   "cell_type": "code",
   "execution_count": 24,
   "metadata": {},
   "outputs": [
    {
     "name": "stdout",
     "output_type": "stream",
     "text": [
      "0.008520200142226764\n"
     ]
    }
   ],
   "source": [
    "transf = tfbuff.lookup_transform('map', 'cassette', rospy.Time(0))\n",
    "trans,_= tf2_obj_2_arr(transf)\n",
    "\n",
    "transf2 = tfbuff.lookup_transform('map', 'hand_palm_link', rospy.Time(0))\n",
    "trans2,_ = tf2_obj_2_arr(transf2)\n",
    "\n",
    "e = trans2[1]-trans[1]\n",
    "wb_cp = whole_body.get_current_pose()\n",
    "wb_cp.pose.position.y += e\n",
    "whole_body.set_pose_target(wb_cp)\n",
    "whole_body.go()\n",
    "\n",
    "print(e)"
   ]
  },
  {
   "cell_type": "code",
   "execution_count": null,
   "metadata": {},
   "outputs": [],
   "source": []
  },
  {
   "cell_type": "code",
   "execution_count": 13,
   "metadata": {},
   "outputs": [
    {
     "data": {
      "text/plain": [
       "True"
      ]
     },
     "execution_count": 13,
     "metadata": {},
     "output_type": "execute_result"
    }
   ],
   "source": [
    "arm.set_named_target('neutral')\n",
    "arm.go()"
   ]
  },
  {
   "cell_type": "code",
   "execution_count": 19,
   "metadata": {},
   "outputs": [
    {
     "data": {
      "text/plain": [
       "True"
      ]
     },
     "execution_count": 19,
     "metadata": {},
     "output_type": "execute_result"
    }
   ],
   "source": [
    "armCV=arm.get_current_joint_values()\n",
    "armCV[4]=0\n",
    "arm.set_joint_value_target(armCV)\n",
    "arm.go()"
   ]
  },
  {
   "cell_type": "code",
   "execution_count": 9,
   "metadata": {
    "scrolled": false
   },
   "outputs": [
    {
     "name": "stderr",
     "output_type": "stream",
     "text": [
      "\u001b[33m[ WARN] [1663893119.067582684, 58.809000000]: TF_REPEATED_DATA ignoring data with redundant timestamp for frame odom at time 58.878000 according to authority unknown_publisher\u001b[0m\n",
      "\u001b[33m[ WARN] [1663893119.068682608, 58.809000000]: TF_REPEATED_DATA ignoring data with redundant timestamp for frame odom at time 58.878000 according to authority /pose_integrator\u001b[0m\n",
      "\u001b[33m[ WARN] [1663893119.904871982, 58.995000000]: TF_REPEATED_DATA ignoring data with redundant timestamp for frame odom at time 59.019000 according to authority unknown_publisher\u001b[0m\n",
      "\u001b[33m[ WARN] [1663893119.905679698, 58.995000000]: TF_REPEATED_DATA ignoring data with redundant timestamp for frame odom at time 59.019000 according to authority /pose_integrator\u001b[0m\n",
      "\u001b[33m[ WARN] [1663893124.766849215, 59.454000000]: TF_REPEATED_DATA ignoring data with redundant timestamp for frame odom at time 59.502000 according to authority /pose_integrator\u001b[0m\n",
      "\u001b[33m[ WARN] [1663893124.769590969, 59.454000000]: TF_REPEATED_DATA ignoring data with redundant timestamp for frame odom at time 59.502000 according to authority unknown_publisher\u001b[0m\n",
      "\u001b[33m[ WARN] [1663893126.690402229, 59.634000000]: TF_REPEATED_DATA ignoring data with redundant timestamp for frame odom at time 59.655000 according to authority /pose_integrator\u001b[0m\n",
      "\u001b[33m[ WARN] [1663893126.692989328, 59.634000000]: TF_REPEATED_DATA ignoring data with redundant timestamp for frame odom at time 59.655000 according to authority unknown_publisher\u001b[0m\n",
      "\u001b[33m[ WARN] [1663893129.786628230, 59.910000000]: TF_REPEATED_DATA ignoring data with redundant timestamp for frame odom at time 59.952000 according to authority unknown_publisher\u001b[0m\n",
      "\u001b[33m[ WARN] [1663893129.786972497, 59.910000000]: TF_REPEATED_DATA ignoring data with redundant timestamp for frame odom at time 59.952000 according to authority /pose_integrator\u001b[0m\n",
      "\u001b[33m[ WARN] [1663893130.675153861, 60.000000000]: TF_REPEATED_DATA ignoring data with redundant timestamp for frame odom at time 60.093000 according to authority /pose_integrator\u001b[0m\n",
      "\u001b[33m[ WARN] [1663893130.678399623, 60.000000000]: TF_REPEATED_DATA ignoring data with redundant timestamp for frame odom at time 60.093000 according to authority unknown_publisher\u001b[0m\n",
      "\u001b[33m[ WARN] [1663893142.064935270, 61.341000000]: TF_REPEATED_DATA ignoring data with redundant timestamp for frame odom at time 61.383000 according to authority /pose_integrator\u001b[0m\n",
      "\u001b[33m[ WARN] [1663893142.065577562, 61.341000000]: TF_REPEATED_DATA ignoring data with redundant timestamp for frame odom at time 61.383000 according to authority unknown_publisher\u001b[0m\n",
      "\u001b[33m[ WARN] [1663893150.824392195, 62.340000000]: TF_REPEATED_DATA ignoring data with redundant timestamp for frame arm_flex_link at time 62.508000 according to authority /robot_state_publisher\u001b[0m\n",
      "\u001b[33m[ WARN] [1663893150.824490595, 62.340000000]: TF_REPEATED_DATA ignoring data with redundant timestamp for frame arm_lift_link at time 62.508000 according to authority /robot_state_publisher\u001b[0m\n",
      "\u001b[33m[ WARN] [1663893150.824528811, 62.340000000]: TF_REPEATED_DATA ignoring data with redundant timestamp for frame arm_roll_link at time 62.508000 according to authority /robot_state_publisher\u001b[0m\n",
      "\u001b[33m[ WARN] [1663893150.824590953, 62.340000000]: TF_REPEATED_DATA ignoring data with redundant timestamp for frame base_b_bumper_link at time 62.508000 according to authority /robot_state_publisher\u001b[0m\n",
      "\u001b[33m[ WARN] [1663893150.824635546, 62.340000000]: TF_REPEATED_DATA ignoring data with redundant timestamp for frame base_f_bumper_link at time 62.508000 according to authority /robot_state_publisher\u001b[0m\n",
      "\u001b[33m[ WARN] [1663893150.824689358, 62.340000000]: TF_REPEATED_DATA ignoring data with redundant timestamp for frame base_l_drive_wheel_link at time 62.508000 according to authority /robot_state_publisher\u001b[0m\n",
      "\u001b[33m[ WARN] [1663893150.824775878, 62.340000000]: TF_REPEATED_DATA ignoring data with redundant timestamp for frame base_l_passive_wheel_x_frame at time 62.508000 according to authority /robot_state_publisher\u001b[0m\n",
      "\u001b[33m[ WARN] [1663893150.824835982, 62.340000000]: TF_REPEATED_DATA ignoring data with redundant timestamp for frame base_l_passive_wheel_y_frame at time 62.508000 according to authority /robot_state_publisher\u001b[0m\n",
      "\u001b[33m[ WARN] [1663893150.824881887, 62.340000000]: TF_REPEATED_DATA ignoring data with redundant timestamp for frame base_l_passive_wheel_z_link at time 62.508000 according to authority /robot_state_publisher\u001b[0m\n",
      "\u001b[33m[ WARN] [1663893150.824919188, 62.340000000]: TF_REPEATED_DATA ignoring data with redundant timestamp for frame base_r_drive_wheel_link at time 62.508000 according to authority /robot_state_publisher\u001b[0m\n",
      "\u001b[33m[ WARN] [1663893150.824954609, 62.340000000]: TF_REPEATED_DATA ignoring data with redundant timestamp for frame base_r_passive_wheel_x_frame at time 62.508000 according to authority /robot_state_publisher\u001b[0m\n",
      "\u001b[33m[ WARN] [1663893150.825000407, 62.340000000]: TF_REPEATED_DATA ignoring data with redundant timestamp for frame base_r_passive_wheel_y_frame at time 62.508000 according to authority /robot_state_publisher\u001b[0m\n",
      "\u001b[33m[ WARN] [1663893150.825039305, 62.340000000]: TF_REPEATED_DATA ignoring data with redundant timestamp for frame base_r_passive_wheel_z_link at time 62.508000 according to authority /robot_state_publisher\u001b[0m\n",
      "\u001b[33m[ WARN] [1663893150.825086247, 62.340000000]: TF_REPEATED_DATA ignoring data with redundant timestamp for frame base_roll_link at time 62.508000 according to authority /robot_state_publisher\u001b[0m\n",
      "\u001b[33m[ WARN] [1663893150.825125598, 62.340000000]: TF_REPEATED_DATA ignoring data with redundant timestamp for frame hand_l_distal_link at time 62.508000 according to authority /robot_state_publisher\u001b[0m\n",
      "\u001b[33m[ WARN] [1663893150.825169324, 62.340000000]: TF_REPEATED_DATA ignoring data with redundant timestamp for frame hand_l_mimic_distal_link at time 62.508000 according to authority /robot_state_publisher\u001b[0m\n",
      "\u001b[33m[ WARN] [1663893150.825242058, 62.340000000]: TF_REPEATED_DATA ignoring data with redundant timestamp for frame hand_l_proximal_link at time 62.508000 according to authority /robot_state_publisher\u001b[0m\n",
      "\u001b[33m[ WARN] [1663893150.825904371, 62.340000000]: TF_REPEATED_DATA ignoring data with redundant timestamp for frame hand_l_spring_proximal_link at time 62.508000 according to authority /robot_state_publisher\u001b[0m\n",
      "\u001b[33m[ WARN] [1663893150.826044817, 62.340000000]: TF_REPEATED_DATA ignoring data with redundant timestamp for frame hand_motor_dummy_link at time 62.508000 according to authority /robot_state_publisher\u001b[0m\n",
      "\u001b[33m[ WARN] [1663893150.826147060, 62.340000000]: TF_REPEATED_DATA ignoring data with redundant timestamp for frame hand_r_distal_link at time 62.508000 according to authority /robot_state_publisher\u001b[0m\n",
      "\u001b[33m[ WARN] [1663893150.826216912, 62.340000000]: TF_REPEATED_DATA ignoring data with redundant timestamp for frame hand_r_mimic_distal_link at time 62.508000 according to authority /robot_state_publisher\u001b[0m\n",
      "\u001b[33m[ WARN] [1663893150.826288048, 62.340000000]: TF_REPEATED_DATA ignoring data with redundant timestamp for frame hand_r_proximal_link at time 62.508000 according to authority /robot_state_publisher\u001b[0m\n",
      "\u001b[33m[ WARN] [1663893150.826349940, 62.340000000]: TF_REPEATED_DATA ignoring data with redundant timestamp for frame hand_r_spring_proximal_link at time 62.508000 according to authority /robot_state_publisher\u001b[0m\n",
      "\u001b[33m[ WARN] [1663893150.826510214, 62.340000000]: TF_REPEATED_DATA ignoring data with redundant timestamp for frame head_pan_link at time 62.508000 according to authority /robot_state_publisher\u001b[0m\n",
      "\u001b[33m[ WARN] [1663893150.826614529, 62.340000000]: TF_REPEATED_DATA ignoring data with redundant timestamp for frame head_tilt_link at time 62.508000 according to authority /robot_state_publisher\u001b[0m\n",
      "\u001b[33m[ WARN] [1663893150.826725384, 62.340000000]: TF_REPEATED_DATA ignoring data with redundant timestamp for frame torso_lift_link at time 62.508000 according to authority /robot_state_publisher\u001b[0m\n",
      "\u001b[33m[ WARN] [1663893150.827910902, 62.340000000]: TF_REPEATED_DATA ignoring data with redundant timestamp for frame wrist_flex_link at time 62.508000 according to authority /robot_state_publisher\u001b[0m\n",
      "\u001b[33m[ WARN] [1663893150.828086828, 62.340000000]: TF_REPEATED_DATA ignoring data with redundant timestamp for frame wrist_ft_sensor_frame at time 62.508000 according to authority /robot_state_publisher\u001b[0m\n",
      "\u001b[33m[ WARN] [1663893150.828169088, 62.340000000]: TF_REPEATED_DATA ignoring data with redundant timestamp for frame wrist_ft_sensor_mount_link at time 62.508000 according to authority /robot_state_publisher\u001b[0m\n",
      "\u001b[33m[ WARN] [1663893150.829674297, 62.340000000]: TF_REPEATED_DATA ignoring data with redundant timestamp for frame arm_flex_link at time 62.508000 according to authority unknown_publisher\u001b[0m\n",
      "\u001b[33m[ WARN] [1663893150.829878686, 62.340000000]: TF_REPEATED_DATA ignoring data with redundant timestamp for frame arm_lift_link at time 62.508000 according to authority unknown_publisher\u001b[0m\n",
      "\u001b[33m[ WARN] [1663893150.830031796, 62.340000000]: TF_REPEATED_DATA ignoring data with redundant timestamp for frame arm_roll_link at time 62.508000 according to authority unknown_publisher\u001b[0m\n",
      "\u001b[33m[ WARN] [1663893150.830166122, 62.340000000]: TF_REPEATED_DATA ignoring data with redundant timestamp for frame base_b_bumper_link at time 62.508000 according to authority unknown_publisher\u001b[0m\n",
      "\u001b[33m[ WARN] [1663893150.830297329, 62.340000000]: TF_REPEATED_DATA ignoring data with redundant timestamp for frame base_f_bumper_link at time 62.508000 according to authority unknown_publisher\u001b[0m\n",
      "\u001b[33m[ WARN] [1663893150.830422458, 62.340000000]: TF_REPEATED_DATA ignoring data with redundant timestamp for frame base_l_drive_wheel_link at time 62.508000 according to authority unknown_publisher\u001b[0m\n",
      "\u001b[33m[ WARN] [1663893150.830561825, 62.340000000]: TF_REPEATED_DATA ignoring data with redundant timestamp for frame base_l_passive_wheel_x_frame at time 62.508000 according to authority unknown_publisher\u001b[0m\n",
      "\u001b[33m[ WARN] [1663893150.830760100, 62.340000000]: TF_REPEATED_DATA ignoring data with redundant timestamp for frame base_l_passive_wheel_y_frame at time 62.508000 according to authority unknown_publisher\u001b[0m\n",
      "\u001b[33m[ WARN] [1663893150.830898094, 62.340000000]: TF_REPEATED_DATA ignoring data with redundant timestamp for frame base_l_passive_wheel_z_link at time 62.508000 according to authority unknown_publisher\u001b[0m\n",
      "\u001b[33m[ WARN] [1663893150.831017319, 62.340000000]: TF_REPEATED_DATA ignoring data with redundant timestamp for frame base_r_drive_wheel_link at time 62.508000 according to authority unknown_publisher\u001b[0m\n",
      "\u001b[33m[ WARN] [1663893150.831142555, 62.340000000]: TF_REPEATED_DATA ignoring data with redundant timestamp for frame base_r_passive_wheel_x_frame at time 62.508000 according to authority unknown_publisher\u001b[0m\n",
      "\u001b[33m[ WARN] [1663893150.831274874, 62.340000000]: TF_REPEATED_DATA ignoring data with redundant timestamp for frame base_r_passive_wheel_y_frame at time 62.508000 according to authority unknown_publisher\u001b[0m\n",
      "\u001b[33m[ WARN] [1663893150.831366070, 62.340000000]: TF_REPEATED_DATA ignoring data with redundant timestamp for frame base_r_passive_wheel_z_link at time 62.508000 according to authority unknown_publisher\u001b[0m\n",
      "\u001b[33m[ WARN] [1663893150.847742412, 62.340000000]: TF_REPEATED_DATA ignoring data with redundant timestamp for frame base_roll_link at time 62.508000 according to authority unknown_publisher\u001b[0m\n",
      "\u001b[33m[ WARN] [1663893150.847881375, 62.340000000]: TF_REPEATED_DATA ignoring data with redundant timestamp for frame hand_l_distal_link at time 62.508000 according to authority unknown_publisher\u001b[0m\n",
      "\u001b[33m[ WARN] [1663893150.847974930, 62.340000000]: TF_REPEATED_DATA ignoring data with redundant timestamp for frame hand_l_mimic_distal_link at time 62.508000 according to authority unknown_publisher\u001b[0m\n",
      "\u001b[33m[ WARN] [1663893150.848044625, 62.340000000]: TF_REPEATED_DATA ignoring data with redundant timestamp for frame hand_l_proximal_link at time 62.508000 according to authority unknown_publisher\u001b[0m\n",
      "\u001b[33m[ WARN] [1663893150.848478382, 62.340000000]: TF_REPEATED_DATA ignoring data with redundant timestamp for frame hand_l_spring_proximal_link at time 62.508000 according to authority unknown_publisher\u001b[0m\n",
      "\u001b[33m[ WARN] [1663893150.850372293, 62.340000000]: TF_REPEATED_DATA ignoring data with redundant timestamp for frame hand_motor_dummy_link at time 62.508000 according to authority unknown_publisher\u001b[0m\n",
      "\u001b[33m[ WARN] [1663893150.850588009, 62.340000000]: TF_REPEATED_DATA ignoring data with redundant timestamp for frame hand_r_distal_link at time 62.508000 according to authority unknown_publisher\u001b[0m\n",
      "\u001b[33m[ WARN] [1663893150.852150739, 62.340000000]: TF_REPEATED_DATA ignoring data with redundant timestamp for frame hand_r_mimic_distal_link at time 62.508000 according to authority unknown_publisher\u001b[0m\n",
      "\u001b[33m[ WARN] [1663893150.852291434, 62.340000000]: TF_REPEATED_DATA ignoring data with redundant timestamp for frame hand_r_proximal_link at time 62.508000 according to authority unknown_publisher\u001b[0m\n",
      "\u001b[33m[ WARN] [1663893150.852344655, 62.340000000]: TF_REPEATED_DATA ignoring data with redundant timestamp for frame hand_r_spring_proximal_link at time 62.508000 according to authority unknown_publisher\u001b[0m\n",
      "\u001b[33m[ WARN] [1663893150.852377991, 62.340000000]: TF_REPEATED_DATA ignoring data with redundant timestamp for frame head_pan_link at time 62.508000 according to authority unknown_publisher\u001b[0m\n",
      "\u001b[33m[ WARN] [1663893150.854190920, 62.340000000]: TF_REPEATED_DATA ignoring data with redundant timestamp for frame head_tilt_link at time 62.508000 according to authority unknown_publisher\u001b[0m\n",
      "\u001b[33m[ WARN] [1663893150.854246388, 62.340000000]: TF_REPEATED_DATA ignoring data with redundant timestamp for frame torso_lift_link at time 62.508000 according to authority unknown_publisher\u001b[0m\n",
      "\u001b[33m[ WARN] [1663893150.854275857, 62.340000000]: TF_REPEATED_DATA ignoring data with redundant timestamp for frame wrist_flex_link at time 62.508000 according to authority unknown_publisher\u001b[0m\n",
      "\u001b[33m[ WARN] [1663893150.854303992, 62.340000000]: TF_REPEATED_DATA ignoring data with redundant timestamp for frame wrist_ft_sensor_frame at time 62.508000 according to authority unknown_publisher\u001b[0m\n",
      "\u001b[33m[ WARN] [1663893150.854340174, 62.340000000]: TF_REPEATED_DATA ignoring data with redundant timestamp for frame wrist_ft_sensor_mount_link at time 62.508000 according to authority unknown_publisher\u001b[0m\n"
     ]
    }
   ],
   "source": [
    "        grasp_from_above_joints=[0.59,-1.3376,0,-1.8275,0.0,0.0]\n",
    "        arm.set_joint_value_target(grasp_from_above_joints)\n",
    "        succ = arm.go()"
   ]
  },
  {
   "cell_type": "code",
   "execution_count": 13,
   "metadata": {
    "scrolled": true
   },
   "outputs": [
    {
     "name": "stdout",
     "output_type": "stream",
     "text": [
      "0.0\n"
     ]
    },
    {
     "name": "stderr",
     "output_type": "stream",
     "text": [
      "\u001b[33m[ WARN] [1663893236.010020806, 71.559000000]: TF_REPEATED_DATA ignoring data with redundant timestamp for frame odom at time 71.589000 according to authority unknown_publisher\u001b[0m\n",
      "\u001b[33m[ WARN] [1663893236.011090905, 71.559000000]: TF_REPEATED_DATA ignoring data with redundant timestamp for frame odom at time 71.589000 according to authority /pose_integrator\u001b[0m\n",
      "\u001b[33m[ WARN] [1663893242.093210993, 72.153000000]: TF_REPEATED_DATA ignoring data with redundant timestamp for frame odom at time 72.201000 according to authority unknown_publisher\u001b[0m\n",
      "\u001b[33m[ WARN] [1663893242.098812416, 72.153000000]: TF_REPEATED_DATA ignoring data with redundant timestamp for frame odom at time 72.201000 according to authority /pose_integrator\u001b[0m\n",
      "\u001b[33m[ WARN] [1663893254.910834482, 73.461000000]: TF_REPEATED_DATA ignoring data with redundant timestamp for frame odom at time 73.509000 according to authority /pose_integrator\u001b[0m\n",
      "\u001b[33m[ WARN] [1663893254.911142835, 73.461000000]: TF_REPEATED_DATA ignoring data with redundant timestamp for frame odom at time 73.509000 according to authority unknown_publisher\u001b[0m\n",
      "\u001b[33m[ WARN] [1663893256.183574643, 73.617000000]: TF_REPEATED_DATA ignoring data with redundant timestamp for frame odom at time 73.692000 according to authority /pose_integrator\u001b[0m\n",
      "\u001b[33m[ WARN] [1663893256.183933930, 73.617000000]: TF_REPEATED_DATA ignoring data with redundant timestamp for frame odom at time 73.692000 according to authority unknown_publisher\u001b[0m\n",
      "\u001b[33m[ WARN] [1663893256.962924851, 73.731000000]: TF_REPEATED_DATA ignoring data with redundant timestamp for frame odom at time 73.761000 according to authority /pose_integrator\u001b[0m\n",
      "\u001b[33m[ WARN] [1663893256.964856463, 73.731000000]: TF_REPEATED_DATA ignoring data with redundant timestamp for frame odom at time 73.761000 according to authority unknown_publisher\u001b[0m\n",
      "\u001b[33m[ WARN] [1663893262.871412956, 74.424000000]: TF_REPEATED_DATA ignoring data with redundant timestamp for frame odom at time 74.448000 according to authority /pose_integrator\u001b[0m\n",
      "\u001b[33m[ WARN] [1663893262.871862565, 74.424000000]: TF_REPEATED_DATA ignoring data with redundant timestamp for frame odom at time 74.448000 according to authority unknown_publisher\u001b[0m\n",
      "\u001b[33m[ WARN] [1663893265.268724990, 74.865000000]: TF_REPEATED_DATA ignoring data with redundant timestamp for frame odom at time 74.910000 according to authority unknown_publisher\u001b[0m\n",
      "\u001b[33m[ WARN] [1663893265.270231256, 74.910000000]: TF_REPEATED_DATA ignoring data with redundant timestamp for frame odom at time 74.910000 according to authority /pose_integrator\u001b[0m\n",
      "\u001b[33m[ WARN] [1663893270.555879260, 75.594000000]: TF_REPEATED_DATA ignoring data with redundant timestamp for frame odom at time 75.627000 according to authority unknown_publisher\u001b[0m\n",
      "\u001b[33m[ WARN] [1663893270.556371342, 75.594000000]: TF_REPEATED_DATA ignoring data with redundant timestamp for frame odom at time 75.627000 according to authority /pose_integrator\u001b[0m\n",
      "\u001b[33m[ WARN] [1663893277.140098266, 76.251000000]: TF_REPEATED_DATA ignoring data with redundant timestamp for frame odom at time 76.338000 according to authority unknown_publisher\u001b[0m\n",
      "\u001b[33m[ WARN] [1663893277.143687425, 76.251000000]: TF_REPEATED_DATA ignoring data with redundant timestamp for frame odom at time 76.338000 according to authority /pose_integrator\u001b[0m\n",
      "\u001b[33m[ WARN] [1663893278.482025671, 76.476000000]: TF_REPEATED_DATA ignoring data with redundant timestamp for frame odom at time 76.521000 according to authority /pose_integrator\u001b[0m\n",
      "\u001b[33m[ WARN] [1663893278.482720482, 76.476000000]: TF_REPEATED_DATA ignoring data with redundant timestamp for frame odom at time 76.521000 according to authority unknown_publisher\u001b[0m\n",
      "\u001b[33m[ WARN] [1663893287.234543683, 77.199000000]: TF_REPEATED_DATA ignoring data with redundant timestamp for frame odom at time 77.238000 according to authority /pose_integrator\u001b[0m\n",
      "\u001b[33m[ WARN] [1663893287.236146640, 77.199000000]: TF_REPEATED_DATA ignoring data with redundant timestamp for frame odom at time 77.238000 according to authority unknown_publisher\u001b[0m\n",
      "\u001b[33m[ WARN] [1663893302.274574002, 78.792000000]: TF_REPEATED_DATA ignoring data with redundant timestamp for frame odom at time 78.816000 according to authority unknown_publisher\u001b[0m\n",
      "\u001b[33m[ WARN] [1663893302.275568217, 78.792000000]: TF_REPEATED_DATA ignoring data with redundant timestamp for frame odom at time 78.816000 according to authority /pose_integrator\u001b[0m\n",
      "\u001b[33m[ WARN] [1663893304.983790592, 79.035000000]: TF_REPEATED_DATA ignoring data with redundant timestamp for frame odom at time 79.152000 according to authority /pose_integrator\u001b[0m\n",
      "\u001b[33m[ WARN] [1663893304.985589194, 79.035000000]: TF_REPEATED_DATA ignoring data with redundant timestamp for frame odom at time 79.152000 according to authority unknown_publisher\u001b[0m\n",
      "\u001b[33m[ WARN] [1663893318.034550738, 80.187000000]: TF_REPEATED_DATA ignoring data with redundant timestamp for frame odom at time 80.232000 according to authority /pose_integrator\u001b[0m\n",
      "\u001b[33m[ WARN] [1663893318.035196441, 80.187000000]: TF_REPEATED_DATA ignoring data with redundant timestamp for frame odom at time 80.232000 according to authority unknown_publisher\u001b[0m\n",
      "\u001b[33m[ WARN] [1663893333.601378615, 81.663000000]: TF_REPEATED_DATA ignoring data with redundant timestamp for frame odom at time 81.720000 according to authority /pose_integrator\u001b[0m\n",
      "\u001b[33m[ WARN] [1663893333.601669806, 81.663000000]: TF_REPEATED_DATA ignoring data with redundant timestamp for frame odom at time 81.720000 according to authority unknown_publisher\u001b[0m\n",
      "\u001b[33m[ WARN] [1663893334.525018265, 81.762000000]: TF_REPEATED_DATA ignoring data with redundant timestamp for frame odom at time 81.810000 according to authority /pose_integrator\u001b[0m\n",
      "\u001b[33m[ WARN] [1663893334.530891184, 81.762000000]: TF_REPEATED_DATA ignoring data with redundant timestamp for frame odom at time 81.810000 according to authority unknown_publisher\u001b[0m\n",
      "\u001b[33m[ WARN] [1663893353.841326565, 83.535000000]: TF_REPEATED_DATA ignoring data with redundant timestamp for frame odom at time 83.574000 according to authority /pose_integrator\u001b[0m\n",
      "\u001b[33m[ WARN] [1663893353.842153469, 83.535000000]: TF_REPEATED_DATA ignoring data with redundant timestamp for frame odom at time 83.574000 according to authority unknown_publisher\u001b[0m\n",
      "\u001b[33m[ WARN] [1663893355.939510737, 83.838000000]: TF_REPEATED_DATA ignoring data with redundant timestamp for frame odom at time 83.886000 according to authority unknown_publisher\u001b[0m\n",
      "\u001b[33m[ WARN] [1663893355.940462503, 83.838000000]: TF_REPEATED_DATA ignoring data with redundant timestamp for frame odom at time 83.886000 according to authority /pose_integrator\u001b[0m\n",
      "\u001b[33m[ WARN] [1663893375.100602661, 85.860000000]: TF_REPEATED_DATA ignoring data with redundant timestamp for frame odom at time 85.914000 according to authority unknown_publisher\u001b[0m\n",
      "\u001b[33m[ WARN] [1663893375.101275377, 85.860000000]: TF_REPEATED_DATA ignoring data with redundant timestamp for frame odom at time 85.914000 according to authority /pose_integrator\u001b[0m\n",
      "\u001b[33m[ WARN] [1663893380.394722012, 86.616000000]: TF_REPEATED_DATA ignoring data with redundant timestamp for frame odom at time 86.682000 according to authority unknown_publisher\u001b[0m\n",
      "\u001b[33m[ WARN] [1663893380.395452343, 86.616000000]: TF_REPEATED_DATA ignoring data with redundant timestamp for frame odom at time 86.682000 according to authority /pose_integrator\u001b[0m\n",
      "\u001b[33m[ WARN] [1663893382.359823970, 86.949000000]: TF_REPEATED_DATA ignoring data with redundant timestamp for frame odom at time 86.988000 according to authority /pose_integrator\u001b[0m\n",
      "\u001b[33m[ WARN] [1663893382.369956756, 86.988000000]: TF_REPEATED_DATA ignoring data with redundant timestamp for frame odom at time 86.988000 according to authority unknown_publisher\u001b[0m\n",
      "\u001b[33m[ WARN] [1663893386.913356432, 87.663000000]: TF_REPEATED_DATA ignoring data with redundant timestamp for frame odom at time 87.711000 according to authority /pose_integrator\u001b[0m\n",
      "\u001b[33m[ WARN] [1663893386.914636082, 87.663000000]: TF_REPEATED_DATA ignoring data with redundant timestamp for frame odom at time 87.711000 according to authority unknown_publisher\u001b[0m\n",
      "\u001b[33m[ WARN] [1663893402.115692972, 89.370000000]: TF_REPEATED_DATA ignoring data with redundant timestamp for frame odom at time 89.394000 according to authority unknown_publisher\u001b[0m\n",
      "\u001b[33m[ WARN] [1663893402.115846470, 89.370000000]: TF_REPEATED_DATA ignoring data with redundant timestamp for frame odom at time 89.394000 according to authority /pose_integrator\u001b[0m\n"
     ]
    },
    {
     "name": "stderr",
     "output_type": "stream",
     "text": [
      "\u001b[33m[ WARN] [1663893403.663462274, 89.466000000]: TF_REPEATED_DATA ignoring data with redundant timestamp for frame odom at time 89.502000 according to authority /pose_integrator\u001b[0m\n",
      "\u001b[33m[ WARN] [1663893403.664179987, 89.466000000]: TF_REPEATED_DATA ignoring data with redundant timestamp for frame odom at time 89.502000 according to authority unknown_publisher\u001b[0m\n",
      "\u001b[33m[ WARN] [1663893409.734886901, 90.111000000]: TF_REPEATED_DATA ignoring data with redundant timestamp for frame odom at time 90.138000 according to authority unknown_publisher\u001b[0m\n",
      "\u001b[33m[ WARN] [1663893409.736443690, 90.111000000]: TF_REPEATED_DATA ignoring data with redundant timestamp for frame odom at time 90.138000 according to authority /pose_integrator\u001b[0m\n",
      "\u001b[33m[ WARN] [1663893411.611596228, 90.303000000]: TF_REPEATED_DATA ignoring data with redundant timestamp for frame odom at time 90.327000 according to authority /pose_integrator\u001b[0m\n",
      "\u001b[33m[ WARN] [1663893411.612508082, 90.303000000]: TF_REPEATED_DATA ignoring data with redundant timestamp for frame odom at time 90.327000 according to authority unknown_publisher\u001b[0m\n",
      "\u001b[33m[ WARN] [1663893413.911245243, 90.534000000]: TF_REPEATED_DATA ignoring data with redundant timestamp for frame odom at time 90.555000 according to authority /pose_integrator\u001b[0m\n",
      "\u001b[33m[ WARN] [1663893413.911799787, 90.534000000]: TF_REPEATED_DATA ignoring data with redundant timestamp for frame odom at time 90.555000 according to authority unknown_publisher\u001b[0m\n",
      "\u001b[33m[ WARN] [1663893414.631212537, 90.624000000]: TF_REPEATED_DATA ignoring data with redundant timestamp for frame odom at time 90.669000 according to authority unknown_publisher\u001b[0m\n",
      "\u001b[33m[ WARN] [1663893414.635453601, 90.624000000]: TF_REPEATED_DATA ignoring data with redundant timestamp for frame odom at time 90.669000 according to authority /pose_integrator\u001b[0m\n",
      "\u001b[33m[ WARN] [1663893416.324441410, 90.849000000]: TF_REPEATED_DATA ignoring data with redundant timestamp for frame odom at time 90.909000 according to authority unknown_publisher\u001b[0m\n",
      "\u001b[33m[ WARN] [1663893416.326092967, 90.849000000]: TF_REPEATED_DATA ignoring data with redundant timestamp for frame odom at time 90.909000 according to authority /pose_integrator\u001b[0m\n",
      "\u001b[33m[ WARN] [1663893421.785590197, 91.425000000]: TF_REPEATED_DATA ignoring data with redundant timestamp for frame odom at time 91.467000 according to authority /pose_integrator\u001b[0m\n",
      "\u001b[33m[ WARN] [1663893421.787145935, 91.425000000]: TF_REPEATED_DATA ignoring data with redundant timestamp for frame odom at time 91.467000 according to authority unknown_publisher\u001b[0m\n",
      "\u001b[33m[ WARN] [1663893425.932245501, 91.821000000]: TF_REPEATED_DATA ignoring data with redundant timestamp for frame odom at time 91.842000 according to authority unknown_publisher\u001b[0m\n",
      "\u001b[33m[ WARN] [1663893425.932548854, 91.821000000]: TF_REPEATED_DATA ignoring data with redundant timestamp for frame odom at time 91.842000 according to authority /pose_integrator\u001b[0m\n",
      "\u001b[33m[ WARN] [1663893427.812805590, 92.010000000]: TF_REPEATED_DATA ignoring data with redundant timestamp for frame odom at time 92.037000 according to authority unknown_publisher\u001b[0m\n",
      "\u001b[33m[ WARN] [1663893427.814236913, 92.010000000]: TF_REPEATED_DATA ignoring data with redundant timestamp for frame odom at time 92.037000 according to authority /pose_integrator\u001b[0m\n",
      "\u001b[33m[ WARN] [1663893432.247180075, 92.580000000]: TF_REPEATED_DATA ignoring data with redundant timestamp for frame odom at time 92.604000 according to authority /pose_integrator\u001b[0m\n",
      "\u001b[33m[ WARN] [1663893432.253775263, 92.580000000]: TF_REPEATED_DATA ignoring data with redundant timestamp for frame odom at time 92.604000 according to authority unknown_publisher\u001b[0m\n",
      "\u001b[33m[ WARN] [1663893434.613884552, 92.910000000]: TF_REPEATED_DATA ignoring data with redundant timestamp for frame odom at time 93.015000 according to authority unknown_publisher\u001b[0m\n",
      "\u001b[33m[ WARN] [1663893434.614123798, 92.910000000]: TF_REPEATED_DATA ignoring data with redundant timestamp for frame odom at time 93.015000 according to authority /pose_integrator\u001b[0m\n",
      "\u001b[33m[ WARN] [1663893437.741921044, 93.240000000]: TF_REPEATED_DATA ignoring data with redundant timestamp for frame odom at time 93.273000 according to authority /pose_integrator\u001b[0m\n",
      "\u001b[33m[ WARN] [1663893437.745561898, 93.240000000]: TF_REPEATED_DATA ignoring data with redundant timestamp for frame odom at time 93.273000 according to authority unknown_publisher\u001b[0m\n",
      "\u001b[33m[ WARN] [1663893438.589422259, 93.378000000]: TF_REPEATED_DATA ignoring data with redundant timestamp for frame odom at time 93.420000 according to authority unknown_publisher\u001b[0m\n",
      "\u001b[33m[ WARN] [1663893438.592132897, 93.378000000]: TF_REPEATED_DATA ignoring data with redundant timestamp for frame odom at time 93.420000 according to authority /pose_integrator\u001b[0m\n",
      "\u001b[33m[ WARN] [1663893447.241244998, 94.440000000]: TF_REPEATED_DATA ignoring data with redundant timestamp for frame odom at time 94.518000 according to authority /pose_integrator\u001b[0m\n",
      "\u001b[33m[ WARN] [1663893447.241503664, 94.440000000]: TF_REPEATED_DATA ignoring data with redundant timestamp for frame odom at time 94.518000 according to authority unknown_publisher\u001b[0m\n",
      "\u001b[33m[ WARN] [1663893478.826917784, 98.151000000]: TF_REPEATED_DATA ignoring data with redundant timestamp for frame odom at time 98.205000 according to authority /pose_integrator\u001b[0m\n",
      "\u001b[33m[ WARN] [1663893478.828507146, 98.151000000]: TF_REPEATED_DATA ignoring data with redundant timestamp for frame odom at time 98.205000 according to authority unknown_publisher\u001b[0m\n",
      "\u001b[33m[ WARN] [1663893484.211154988, 98.895000000]: TF_REPEATED_DATA ignoring data with redundant timestamp for frame odom at time 98.979000 according to authority unknown_publisher\u001b[0m\n",
      "\u001b[33m[ WARN] [1663893484.212580674, 98.895000000]: TF_REPEATED_DATA ignoring data with redundant timestamp for frame odom at time 98.979000 according to authority /pose_integrator\u001b[0m\n",
      "\u001b[33m[ WARN] [1663893500.722102007, 100.476000000]: TF_REPEATED_DATA ignoring data with redundant timestamp for frame odom at time 100.503000 according to authority unknown_publisher\u001b[0m\n",
      "\u001b[33m[ WARN] [1663893500.726674609, 100.476000000]: TF_REPEATED_DATA ignoring data with redundant timestamp for frame odom at time 100.503000 according to authority /pose_integrator\u001b[0m\n",
      "\u001b[33m[ WARN] [1663893517.810563932, 102.279000000]: TF_REPEATED_DATA ignoring data with redundant timestamp for frame odom at time 102.339000 according to authority /pose_integrator\u001b[0m\n",
      "\u001b[33m[ WARN] [1663893517.810742173, 102.279000000]: TF_REPEATED_DATA ignoring data with redundant timestamp for frame odom at time 102.339000 according to authority unknown_publisher\u001b[0m\n",
      "\u001b[33m[ WARN] [1663893527.520338252, 103.392000000]: TF_REPEATED_DATA ignoring data with redundant timestamp for frame odom at time 103.461000 according to authority unknown_publisher\u001b[0m\n",
      "\u001b[33m[ WARN] [1663893527.523350717, 103.392000000]: TF_REPEATED_DATA ignoring data with redundant timestamp for frame odom at time 103.461000 according to authority /pose_integrator\u001b[0m\n",
      "\u001b[33m[ WARN] [1663893529.244830099, 103.614000000]: TF_REPEATED_DATA ignoring data with redundant timestamp for frame odom at time 103.614000 according to authority /pose_integrator\u001b[0m\n",
      "\u001b[33m[ WARN] [1663893529.245531860, 103.614000000]: TF_REPEATED_DATA ignoring data with redundant timestamp for frame odom at time 103.614000 according to authority unknown_publisher\u001b[0m\n",
      "\u001b[33m[ WARN] [1663893549.028617750, 105.858000000]: TF_REPEATED_DATA ignoring data with redundant timestamp for frame odom at time 105.891000 according to authority /pose_integrator\u001b[0m\n",
      "\u001b[33m[ WARN] [1663893549.028997029, 105.858000000]: TF_REPEATED_DATA ignoring data with redundant timestamp for frame odom at time 105.891000 according to authority unknown_publisher\u001b[0m\n",
      "\u001b[33m[ WARN] [1663893550.742234709, 105.996000000]: TF_REPEATED_DATA ignoring data with redundant timestamp for frame odom at time 106.080000 according to authority /pose_integrator\u001b[0m\n",
      "\u001b[33m[ WARN] [1663893550.747304070, 105.996000000]: TF_REPEATED_DATA ignoring data with redundant timestamp for frame odom at time 106.080000 according to authority unknown_publisher\u001b[0m\n",
      "\u001b[33m[ WARN] [1663893563.242565032, 107.424000000]: TF_REPEATED_DATA ignoring data with redundant timestamp for frame odom at time 107.499000 according to authority /pose_integrator\u001b[0m\n",
      "\u001b[33m[ WARN] [1663893563.249411847, 107.424000000]: TF_REPEATED_DATA ignoring data with redundant timestamp for frame odom at time 107.499000 according to authority unknown_publisher\u001b[0m\n"
     ]
    },
    {
     "name": "stderr",
     "output_type": "stream",
     "text": [
      "\u001b[33m[ WARN] [1663893575.486823795, 108.705000000]: TF_REPEATED_DATA ignoring data with redundant timestamp for frame odom at time 108.813000 according to authority /pose_integrator\u001b[0m\n",
      "\u001b[33m[ WARN] [1663893575.492731570, 108.705000000]: TF_REPEATED_DATA ignoring data with redundant timestamp for frame odom at time 108.813000 according to authority unknown_publisher\u001b[0m\n",
      "\u001b[33m[ WARN] [1663893583.755039970, 109.602000000]: TF_REPEATED_DATA ignoring data with redundant timestamp for frame odom at time 109.635000 according to authority unknown_publisher\u001b[0m\n",
      "\u001b[33m[ WARN] [1663893583.755099672, 109.602000000]: TF_REPEATED_DATA ignoring data with redundant timestamp for frame odom at time 109.635000 according to authority /pose_integrator\u001b[0m\n",
      "\u001b[33m[ WARN] [1663893584.360921202, 109.683000000]: TF_REPEATED_DATA ignoring data with redundant timestamp for frame odom at time 109.710000 according to authority /pose_integrator\u001b[0m\n",
      "\u001b[33m[ WARN] [1663893584.364897425, 109.683000000]: TF_REPEATED_DATA ignoring data with redundant timestamp for frame odom at time 109.710000 according to authority unknown_publisher\u001b[0m\n",
      "\u001b[33m[ WARN] [1663893599.211172506, 110.850000000]: TF_REPEATED_DATA ignoring data with redundant timestamp for frame odom at time 110.928000 according to authority unknown_publisher\u001b[0m\n",
      "\u001b[33m[ WARN] [1663893599.216593817, 110.850000000]: TF_REPEATED_DATA ignoring data with redundant timestamp for frame odom at time 110.928000 according to authority /pose_integrator\u001b[0m\n",
      "\u001b[33m[ WARN] [1663893611.829992999, 112.425000000]: TF_REPEATED_DATA ignoring data with redundant timestamp for frame odom at time 112.488000 according to authority /pose_integrator\u001b[0m\n",
      "\u001b[33m[ WARN] [1663893611.832159942, 112.425000000]: TF_REPEATED_DATA ignoring data with redundant timestamp for frame odom at time 112.488000 according to authority unknown_publisher\u001b[0m\n",
      "\u001b[33m[ WARN] [1663893620.433859857, 113.595000000]: TF_REPEATED_DATA ignoring data with redundant timestamp for frame odom at time 113.634000 according to authority unknown_publisher\u001b[0m\n",
      "\u001b[33m[ WARN] [1663893620.436387417, 113.595000000]: TF_REPEATED_DATA ignoring data with redundant timestamp for frame odom at time 113.634000 according to authority /pose_integrator\u001b[0m\n",
      "\u001b[33m[ WARN] [1663893621.467918960, 113.694000000]: TF_REPEATED_DATA ignoring data with redundant timestamp for frame odom at time 113.730000 according to authority /pose_integrator\u001b[0m\n",
      "\u001b[33m[ WARN] [1663893621.470895093, 113.694000000]: TF_REPEATED_DATA ignoring data with redundant timestamp for frame odom at time 113.730000 according to authority unknown_publisher\u001b[0m\n",
      "\u001b[33m[ WARN] [1663893622.132605441, 113.769000000]: TF_REPEATED_DATA ignoring data with redundant timestamp for frame odom at time 113.850000 according to authority unknown_publisher\u001b[0m\n",
      "\u001b[33m[ WARN] [1663893622.136382548, 113.769000000]: TF_REPEATED_DATA ignoring data with redundant timestamp for frame odom at time 113.850000 according to authority /pose_integrator\u001b[0m\n",
      "\u001b[33m[ WARN] [1663893632.263146412, 114.894000000]: TF_REPEATED_DATA ignoring data with redundant timestamp for frame odom at time 114.936000 according to authority unknown_publisher\u001b[0m\n",
      "\u001b[33m[ WARN] [1663893632.263431415, 114.894000000]: TF_REPEATED_DATA ignoring data with redundant timestamp for frame odom at time 114.936000 according to authority /pose_integrator\u001b[0m\n",
      "\u001b[33m[ WARN] [1663893639.880709619, 115.533000000]: TF_REPEATED_DATA ignoring data with redundant timestamp for frame odom at time 115.578000 according to authority unknown_publisher\u001b[0m\n",
      "\u001b[33m[ WARN] [1663893639.881416753, 115.533000000]: TF_REPEATED_DATA ignoring data with redundant timestamp for frame odom at time 115.578000 according to authority /pose_integrator\u001b[0m\n",
      "\u001b[33m[ WARN] [1663893656.398839250, 117.303000000]: TF_REPEATED_DATA ignoring data with redundant timestamp for frame odom at time 117.336000 according to authority /pose_integrator\u001b[0m\n",
      "\u001b[33m[ WARN] [1663893656.398911190, 117.303000000]: TF_REPEATED_DATA ignoring data with redundant timestamp for frame odom at time 117.336000 according to authority unknown_publisher\u001b[0m\n",
      "\u001b[33m[ WARN] [1663893672.452560968, 118.935000000]: TF_REPEATED_DATA ignoring data with redundant timestamp for frame odom at time 119.028000 according to authority /pose_integrator\u001b[0m\n",
      "\u001b[33m[ WARN] [1663893672.453041390, 118.935000000]: TF_REPEATED_DATA ignoring data with redundant timestamp for frame odom at time 119.028000 according to authority unknown_publisher\u001b[0m\n",
      "\u001b[33m[ WARN] [1663893674.999763413, 119.286000000]: TF_REPEATED_DATA ignoring data with redundant timestamp for frame odom at time 119.322000 according to authority unknown_publisher\u001b[0m\n",
      "\u001b[33m[ WARN] [1663893675.001117022, 119.286000000]: TF_REPEATED_DATA ignoring data with redundant timestamp for frame odom at time 119.322000 according to authority /pose_integrator\u001b[0m\n",
      "\u001b[33m[ WARN] [1663893684.931914421, 120.339000000]: TF_REPEATED_DATA ignoring data with redundant timestamp for frame odom at time 120.411000 according to authority /pose_integrator\u001b[0m\n",
      "\u001b[33m[ WARN] [1663893684.933570088, 120.339000000]: TF_REPEATED_DATA ignoring data with redundant timestamp for frame odom at time 120.411000 according to authority unknown_publisher\u001b[0m\n",
      "\u001b[33m[ WARN] [1663893705.217122727, 122.259000000]: TF_REPEATED_DATA ignoring data with redundant timestamp for frame odom at time 122.289000 according to authority /pose_integrator\u001b[0m\n",
      "\u001b[33m[ WARN] [1663893705.218323686, 122.259000000]: TF_REPEATED_DATA ignoring data with redundant timestamp for frame odom at time 122.289000 according to authority unknown_publisher\u001b[0m\n",
      "\u001b[33m[ WARN] [1663893710.860832006, 122.622000000]: TF_REPEATED_DATA ignoring data with redundant timestamp for frame odom at time 122.688000 according to authority unknown_publisher\u001b[0m\n",
      "\u001b[33m[ WARN] [1663893710.861210006, 122.622000000]: TF_REPEATED_DATA ignoring data with redundant timestamp for frame odom at time 122.688000 according to authority /pose_integrator\u001b[0m\n",
      "\u001b[33m[ WARN] [1663893724.443470434, 123.840000000]: TF_REPEATED_DATA ignoring data with redundant timestamp for frame odom at time 123.879000 according to authority unknown_publisher\u001b[0m\n",
      "\u001b[33m[ WARN] [1663893724.443661106, 123.840000000]: TF_REPEATED_DATA ignoring data with redundant timestamp for frame odom at time 123.879000 according to authority /pose_integrator\u001b[0m\n",
      "\u001b[33m[ WARN] [1663893733.776128304, 124.707000000]: TF_REPEATED_DATA ignoring data with redundant timestamp for frame odom at time 124.794000 according to authority unknown_publisher\u001b[0m\n",
      "\u001b[33m[ WARN] [1663893733.777449636, 124.707000000]: TF_REPEATED_DATA ignoring data with redundant timestamp for frame odom at time 124.794000 according to authority /pose_integrator\u001b[0m\n",
      "\u001b[33m[ WARN] [1663893738.561954020, 125.280000000]: TF_REPEATED_DATA ignoring data with redundant timestamp for frame odom at time 125.304000 according to authority /pose_integrator\u001b[0m\n",
      "\u001b[33m[ WARN] [1663893738.562548286, 125.280000000]: TF_REPEATED_DATA ignoring data with redundant timestamp for frame odom at time 125.304000 according to authority unknown_publisher\u001b[0m\n",
      "\u001b[33m[ WARN] [1663893780.583956192, 129.294000000]: TF_REPEATED_DATA ignoring data with redundant timestamp for frame odom at time 129.360000 according to authority /pose_integrator\u001b[0m\n",
      "\u001b[33m[ WARN] [1663893780.593899041, 129.294000000]: TF_REPEATED_DATA ignoring data with redundant timestamp for frame odom at time 129.360000 according to authority unknown_publisher\u001b[0m\n",
      "\u001b[33m[ WARN] [1663893781.377451048, 129.429000000]: TF_REPEATED_DATA ignoring data with redundant timestamp for frame odom at time 129.471000 according to authority unknown_publisher\u001b[0m\n",
      "\u001b[33m[ WARN] [1663893781.381472573, 129.429000000]: TF_REPEATED_DATA ignoring data with redundant timestamp for frame odom at time 129.471000 according to authority /pose_integrator\u001b[0m\n",
      "\u001b[33m[ WARN] [1663893789.685599130, 130.272000000]: TF_REPEATED_DATA ignoring data with redundant timestamp for frame odom at time 130.329000 according to authority unknown_publisher\u001b[0m\n",
      "\u001b[33m[ WARN] [1663893789.685971625, 130.272000000]: TF_REPEATED_DATA ignoring data with redundant timestamp for frame odom at time 130.329000 according to authority /pose_integrator\u001b[0m\n"
     ]
    },
    {
     "name": "stderr",
     "output_type": "stream",
     "text": [
      "\u001b[33m[ WARN] [1663893797.440355868, 131.250000000]: TF_REPEATED_DATA ignoring data with redundant timestamp for frame odom at time 131.298000 according to authority unknown_publisher\u001b[0m\n",
      "\u001b[33m[ WARN] [1663893797.441406669, 131.250000000]: TF_REPEATED_DATA ignoring data with redundant timestamp for frame odom at time 131.298000 according to authority /pose_integrator\u001b[0m\n",
      "\u001b[33m[ WARN] [1663893817.982343735, 133.131000000]: TF_REPEATED_DATA ignoring data with redundant timestamp for frame odom at time 133.173000 according to authority unknown_publisher\u001b[0m\n",
      "\u001b[33m[ WARN] [1663893817.982444636, 133.131000000]: TF_REPEATED_DATA ignoring data with redundant timestamp for frame odom at time 133.173000 according to authority /pose_integrator\u001b[0m\n",
      "\u001b[33m[ WARN] [1663893821.753327433, 133.575000000]: TF_REPEATED_DATA ignoring data with redundant timestamp for frame odom at time 133.638000 according to authority unknown_publisher\u001b[0m\n",
      "\u001b[33m[ WARN] [1663893821.753818721, 133.575000000]: TF_REPEATED_DATA ignoring data with redundant timestamp for frame odom at time 133.638000 according to authority /pose_integrator\u001b[0m\n",
      "\u001b[33m[ WARN] [1663893837.057738102, 135.051000000]: TF_REPEATED_DATA ignoring data with redundant timestamp for frame odom at time 135.102000 according to authority /pose_integrator\u001b[0m\n",
      "\u001b[33m[ WARN] [1663893837.059142411, 135.051000000]: TF_REPEATED_DATA ignoring data with redundant timestamp for frame odom at time 135.102000 according to authority unknown_publisher\u001b[0m\n",
      "\u001b[33m[ WARN] [1663893838.529062564, 135.249000000]: TF_REPEATED_DATA ignoring data with redundant timestamp for frame odom at time 135.285000 according to authority /pose_integrator\u001b[0m\n",
      "\u001b[33m[ WARN] [1663893838.531186408, 135.249000000]: TF_REPEATED_DATA ignoring data with redundant timestamp for frame odom at time 135.285000 according to authority unknown_publisher\u001b[0m\n",
      "\u001b[33m[ WARN] [1663893841.488083454, 135.603000000]: TF_REPEATED_DATA ignoring data with redundant timestamp for frame odom at time 135.639000 according to authority unknown_publisher\u001b[0m\n",
      "\u001b[33m[ WARN] [1663893841.489183042, 135.603000000]: TF_REPEATED_DATA ignoring data with redundant timestamp for frame odom at time 135.639000 according to authority /pose_integrator\u001b[0m\n",
      "\u001b[33m[ WARN] [1663893842.332559982, 135.675000000]: TF_REPEATED_DATA ignoring data with redundant timestamp for frame odom at time 135.711000 according to authority /pose_integrator\u001b[0m\n",
      "\u001b[33m[ WARN] [1663893842.333321751, 135.675000000]: TF_REPEATED_DATA ignoring data with redundant timestamp for frame odom at time 135.711000 according to authority unknown_publisher\u001b[0m\n",
      "\u001b[33m[ WARN] [1663893845.219708170, 135.900000000]: TF_REPEATED_DATA ignoring data with redundant timestamp for frame odom at time 135.963000 according to authority unknown_publisher\u001b[0m\n",
      "\u001b[33m[ WARN] [1663893845.222704309, 135.900000000]: TF_REPEATED_DATA ignoring data with redundant timestamp for frame odom at time 135.963000 according to authority /pose_integrator\u001b[0m\n",
      "\u001b[33m[ WARN] [1663893872.002690658, 138.468000000]: TF_REPEATED_DATA ignoring data with redundant timestamp for frame odom at time 138.486000 according to authority /pose_integrator\u001b[0m\n",
      "\u001b[33m[ WARN] [1663893872.005153538, 138.468000000]: TF_REPEATED_DATA ignoring data with redundant timestamp for frame odom at time 138.486000 according to authority unknown_publisher\u001b[0m\n",
      "\u001b[33m[ WARN] [1663893878.857779319, 139.254000000]: TF_REPEATED_DATA ignoring data with redundant timestamp for frame odom at time 139.314000 according to authority /pose_integrator\u001b[0m\n",
      "\u001b[33m[ WARN] [1663893878.858009521, 139.254000000]: TF_REPEATED_DATA ignoring data with redundant timestamp for frame odom at time 139.314000 according to authority unknown_publisher\u001b[0m\n",
      "\u001b[33m[ WARN] [1663893882.199158984, 139.551000000]: TF_REPEATED_DATA ignoring data with redundant timestamp for frame odom at time 139.614000 according to authority /pose_integrator\u001b[0m\n",
      "\u001b[33m[ WARN] [1663893882.203859116, 139.551000000]: TF_REPEATED_DATA ignoring data with redundant timestamp for frame odom at time 139.614000 according to authority unknown_publisher\u001b[0m\n",
      "\u001b[33m[ WARN] [1663893889.805003522, 140.100000000]: TF_REPEATED_DATA ignoring data with redundant timestamp for frame odom at time 140.169000 according to authority unknown_publisher\u001b[0m\n",
      "\u001b[33m[ WARN] [1663893889.806078499, 140.100000000]: TF_REPEATED_DATA ignoring data with redundant timestamp for frame odom at time 140.169000 according to authority /pose_integrator\u001b[0m\n",
      "\u001b[33m[ WARN] [1663893891.004144665, 140.223000000]: TF_REPEATED_DATA ignoring data with redundant timestamp for frame odom at time 140.244000 according to authority unknown_publisher\u001b[0m\n",
      "\u001b[33m[ WARN] [1663893891.006095120, 140.223000000]: TF_REPEATED_DATA ignoring data with redundant timestamp for frame odom at time 140.244000 according to authority /pose_integrator\u001b[0m\n",
      "\u001b[33m[ WARN] [1663893924.813287815, 142.839000000]: TF_REPEATED_DATA ignoring data with redundant timestamp for frame odom at time 142.866000 according to authority unknown_publisher\u001b[0m\n",
      "\u001b[33m[ WARN] [1663893924.813497890, 142.839000000]: TF_REPEATED_DATA ignoring data with redundant timestamp for frame odom at time 142.866000 according to authority /pose_integrator\u001b[0m\n",
      "\u001b[33m[ WARN] [1663893946.826138988, 144.834000000]: TF_REPEATED_DATA ignoring data with redundant timestamp for frame odom at time 144.858000 according to authority unknown_publisher\u001b[0m\n",
      "\u001b[33m[ WARN] [1663893946.830897162, 144.834000000]: TF_REPEATED_DATA ignoring data with redundant timestamp for frame odom at time 144.858000 according to authority /pose_integrator\u001b[0m\n",
      "\u001b[33m[ WARN] [1663893969.241838460, 146.889000000]: TF_REPEATED_DATA ignoring data with redundant timestamp for frame odom at time 146.937000 according to authority unknown_publisher\u001b[0m\n",
      "\u001b[33m[ WARN] [1663893969.244248932, 146.889000000]: TF_REPEATED_DATA ignoring data with redundant timestamp for frame odom at time 146.937000 according to authority /pose_integrator\u001b[0m\n",
      "\u001b[33m[ WARN] [1663893996.915934503, 149.283000000]: TF_REPEATED_DATA ignoring data with redundant timestamp for frame odom at time 149.307000 according to authority unknown_publisher\u001b[0m\n",
      "\u001b[33m[ WARN] [1663893996.922842768, 149.283000000]: TF_REPEATED_DATA ignoring data with redundant timestamp for frame odom at time 149.307000 according to authority /pose_integrator\u001b[0m\n",
      "\u001b[33m[ WARN] [1663894010.742777711, 150.231000000]: TF_REPEATED_DATA ignoring data with redundant timestamp for frame odom at time 150.231000 according to authority /pose_integrator\u001b[0m\n",
      "\u001b[33m[ WARN] [1663894010.744603483, 150.231000000]: TF_REPEATED_DATA ignoring data with redundant timestamp for frame odom at time 150.231000 according to authority unknown_publisher\u001b[0m\n",
      "\u001b[33m[ WARN] [1663894014.675471478, 150.423000000]: TF_REPEATED_DATA ignoring data with redundant timestamp for frame odom at time 150.477000 according to authority /pose_integrator\u001b[0m\n",
      "\u001b[33m[ WARN] [1663894014.679466867, 150.423000000]: TF_REPEATED_DATA ignoring data with redundant timestamp for frame odom at time 150.477000 according to authority unknown_publisher\u001b[0m\n",
      "\u001b[33m[ WARN] [1663894018.503702793, 150.630000000]: TF_REPEATED_DATA ignoring data with redundant timestamp for frame odom at time 150.705000 according to authority /pose_integrator\u001b[0m\n",
      "\u001b[33m[ WARN] [1663894018.504268830, 150.630000000]: TF_REPEATED_DATA ignoring data with redundant timestamp for frame odom at time 150.705000 according to authority unknown_publisher\u001b[0m\n",
      "\u001b[33m[ WARN] [1663894019.758590321, 150.759000000]: TF_REPEATED_DATA ignoring data with redundant timestamp for frame odom at time 150.780000 according to authority /pose_integrator\u001b[0m\n",
      "\u001b[33m[ WARN] [1663894019.759560208, 150.759000000]: TF_REPEATED_DATA ignoring data with redundant timestamp for frame odom at time 150.780000 according to authority unknown_publisher\u001b[0m\n",
      "\u001b[33m[ WARN] [1663894024.223539222, 151.068000000]: TF_REPEATED_DATA ignoring data with redundant timestamp for frame odom at time 151.107000 according to authority /pose_integrator\u001b[0m\n",
      "\u001b[33m[ WARN] [1663894024.223958701, 151.068000000]: TF_REPEATED_DATA ignoring data with redundant timestamp for frame odom at time 151.107000 according to authority unknown_publisher\u001b[0m\n"
     ]
    },
    {
     "name": "stderr",
     "output_type": "stream",
     "text": [
      "\u001b[33m[ WARN] [1663894027.259440768, 151.335000000]: TF_REPEATED_DATA ignoring data with redundant timestamp for frame odom at time 151.377000 according to authority /pose_integrator\u001b[0m\n",
      "\u001b[33m[ WARN] [1663894027.263878592, 151.335000000]: TF_REPEATED_DATA ignoring data with redundant timestamp for frame odom at time 151.377000 according to authority unknown_publisher\u001b[0m\n",
      "\u001b[33m[ WARN] [1663894032.221163062, 151.746000000]: TF_REPEATED_DATA ignoring data with redundant timestamp for frame odom at time 151.827000 according to authority unknown_publisher\u001b[0m\n",
      "\u001b[33m[ WARN] [1663894032.221813247, 151.746000000]: TF_REPEATED_DATA ignoring data with redundant timestamp for frame odom at time 151.827000 according to authority /pose_integrator\u001b[0m\n",
      "\u001b[33m[ WARN] [1663894036.638149136, 152.100000000]: TF_REPEATED_DATA ignoring data with redundant timestamp for frame odom at time 152.199000 according to authority unknown_publisher\u001b[0m\n",
      "\u001b[33m[ WARN] [1663894036.638651268, 152.100000000]: TF_REPEATED_DATA ignoring data with redundant timestamp for frame odom at time 152.199000 according to authority /pose_integrator\u001b[0m\n",
      "\u001b[33m[ WARN] [1663894041.341818286, 152.544000000]: TF_REPEATED_DATA ignoring data with redundant timestamp for frame odom at time 152.571000 according to authority /pose_integrator\u001b[0m\n",
      "\u001b[33m[ WARN] [1663894041.341922678, 152.544000000]: TF_REPEATED_DATA ignoring data with redundant timestamp for frame odom at time 152.571000 according to authority unknown_publisher\u001b[0m\n",
      "\u001b[33m[ WARN] [1663894043.517646856, 152.685000000]: TF_REPEATED_DATA ignoring data with redundant timestamp for frame odom at time 152.703000 according to authority unknown_publisher\u001b[0m\n",
      "\u001b[33m[ WARN] [1663894043.517750218, 152.685000000]: TF_REPEATED_DATA ignoring data with redundant timestamp for frame odom at time 152.703000 according to authority /pose_integrator\u001b[0m\n",
      "\u001b[33m[ WARN] [1663894055.128351699, 153.354000000]: TF_REPEATED_DATA ignoring data with redundant timestamp for frame odom at time 153.393000 according to authority unknown_publisher\u001b[0m\n",
      "\u001b[33m[ WARN] [1663894055.129750129, 153.354000000]: TF_REPEATED_DATA ignoring data with redundant timestamp for frame odom at time 153.393000 according to authority /pose_integrator\u001b[0m\n",
      "\u001b[33m[ WARN] [1663894061.873601206, 153.912000000]: TF_REPEATED_DATA ignoring data with redundant timestamp for frame odom at time 153.939000 according to authority /pose_integrator\u001b[0m\n",
      "\u001b[33m[ WARN] [1663894061.873805521, 153.912000000]: TF_REPEATED_DATA ignoring data with redundant timestamp for frame odom at time 153.939000 according to authority unknown_publisher\u001b[0m\n",
      "\u001b[33m[ WARN] [1663894068.049642092, 154.365000000]: TF_REPEATED_DATA ignoring data with redundant timestamp for frame odom at time 154.392000 according to authority /pose_integrator\u001b[0m\n",
      "\u001b[33m[ WARN] [1663894068.050319739, 154.365000000]: TF_REPEATED_DATA ignoring data with redundant timestamp for frame odom at time 154.392000 according to authority unknown_publisher\u001b[0m\n",
      "\u001b[33m[ WARN] [1663894090.625514635, 156.252000000]: TF_REPEATED_DATA ignoring data with redundant timestamp for frame odom at time 156.282000 according to authority /pose_integrator\u001b[0m\n",
      "\u001b[33m[ WARN] [1663894090.625753755, 156.252000000]: TF_REPEATED_DATA ignoring data with redundant timestamp for frame odom at time 156.282000 according to authority unknown_publisher\u001b[0m\n",
      "\u001b[33m[ WARN] [1663894098.034367931, 156.771000000]: TF_REPEATED_DATA ignoring data with redundant timestamp for frame odom at time 156.807000 according to authority /pose_integrator\u001b[0m\n",
      "\u001b[33m[ WARN] [1663894098.035039573, 156.771000000]: TF_REPEATED_DATA ignoring data with redundant timestamp for frame odom at time 156.807000 according to authority unknown_publisher\u001b[0m\n",
      "\u001b[33m[ WARN] [1663894104.340575003, 157.293000000]: TF_REPEATED_DATA ignoring data with redundant timestamp for frame odom at time 157.323000 according to authority unknown_publisher\u001b[0m\n",
      "\u001b[33m[ WARN] [1663894104.344148702, 157.293000000]: TF_REPEATED_DATA ignoring data with redundant timestamp for frame odom at time 157.323000 according to authority /pose_integrator\u001b[0m\n",
      "\u001b[33m[ WARN] [1663894115.575001134, 158.427000000]: TF_REPEATED_DATA ignoring data with redundant timestamp for frame odom at time 158.427000 according to authority unknown_publisher\u001b[0m\n",
      "\u001b[33m[ WARN] [1663894115.575103814, 158.427000000]: TF_REPEATED_DATA ignoring data with redundant timestamp for frame odom at time 158.427000 according to authority /pose_integrator\u001b[0m\n",
      "\u001b[33m[ WARN] [1663894123.562804709, 158.913000000]: TF_REPEATED_DATA ignoring data with redundant timestamp for frame odom at time 158.958000 according to authority /pose_integrator\u001b[0m\n",
      "\u001b[33m[ WARN] [1663894123.563906732, 158.913000000]: TF_REPEATED_DATA ignoring data with redundant timestamp for frame odom at time 158.958000 according to authority unknown_publisher\u001b[0m\n",
      "\u001b[33m[ WARN] [1663894125.214342346, 159.042000000]: TF_REPEATED_DATA ignoring data with redundant timestamp for frame odom at time 159.111000 according to authority unknown_publisher\u001b[0m\n",
      "\u001b[33m[ WARN] [1663894125.215306628, 159.042000000]: TF_REPEATED_DATA ignoring data with redundant timestamp for frame odom at time 159.111000 according to authority /pose_integrator\u001b[0m\n",
      "\u001b[33m[ WARN] [1663894126.353339312, 159.255000000]: TF_REPEATED_DATA ignoring data with redundant timestamp for frame odom at time 159.294000 according to authority unknown_publisher\u001b[0m\n",
      "\u001b[33m[ WARN] [1663894126.356291024, 159.255000000]: TF_REPEATED_DATA ignoring data with redundant timestamp for frame odom at time 159.294000 according to authority /pose_integrator\u001b[0m\n",
      "\u001b[33m[ WARN] [1663894140.243759584, 160.674000000]: TF_REPEATED_DATA ignoring data with redundant timestamp for frame odom at time 160.719000 according to authority /pose_integrator\u001b[0m\n",
      "\u001b[33m[ WARN] [1663894140.244477601, 160.674000000]: TF_REPEATED_DATA ignoring data with redundant timestamp for frame odom at time 160.719000 according to authority unknown_publisher\u001b[0m\n",
      "\u001b[33m[ WARN] [1663894146.339657972, 161.205000000]: TF_REPEATED_DATA ignoring data with redundant timestamp for frame odom at time 161.346000 according to authority /pose_integrator\u001b[0m\n",
      "\u001b[33m[ WARN] [1663894146.340655893, 161.205000000]: TF_REPEATED_DATA ignoring data with redundant timestamp for frame odom at time 161.346000 according to authority unknown_publisher\u001b[0m\n",
      "\u001b[33m[ WARN] [1663894155.710669257, 162.435000000]: TF_REPEATED_DATA ignoring data with redundant timestamp for frame odom at time 162.495000 according to authority /pose_integrator\u001b[0m\n",
      "\u001b[33m[ WARN] [1663894155.711757688, 162.435000000]: TF_REPEATED_DATA ignoring data with redundant timestamp for frame odom at time 162.495000 according to authority unknown_publisher\u001b[0m\n",
      "\u001b[33m[ WARN] [1663894156.077438124, 162.504000000]: TF_REPEATED_DATA ignoring data with redundant timestamp for frame odom at time 162.570000 according to authority unknown_publisher\u001b[0m\n",
      "\u001b[33m[ WARN] [1663894156.079078667, 162.504000000]: TF_REPEATED_DATA ignoring data with redundant timestamp for frame odom at time 162.570000 according to authority /pose_integrator\u001b[0m\n",
      "\u001b[33m[ WARN] [1663894157.111454487, 162.642000000]: TF_REPEATED_DATA ignoring data with redundant timestamp for frame odom at time 162.681000 according to authority /pose_integrator\u001b[0m\n",
      "\u001b[33m[ WARN] [1663894157.112062977, 162.642000000]: TF_REPEATED_DATA ignoring data with redundant timestamp for frame odom at time 162.681000 according to authority unknown_publisher\u001b[0m\n",
      "\u001b[33m[ WARN] [1663894160.948403975, 162.978000000]: TF_REPEATED_DATA ignoring data with redundant timestamp for frame odom at time 163.005000 according to authority /pose_integrator\u001b[0m\n",
      "\u001b[33m[ WARN] [1663894160.948555845, 162.978000000]: TF_REPEATED_DATA ignoring data with redundant timestamp for frame odom at time 163.005000 according to authority unknown_publisher\u001b[0m\n",
      "\u001b[33m[ WARN] [1663894169.016329207, 163.527000000]: TF_REPEATED_DATA ignoring data with redundant timestamp for frame odom at time 163.593000 according to authority unknown_publisher\u001b[0m\n",
      "\u001b[33m[ WARN] [1663894169.016572005, 163.527000000]: TF_REPEATED_DATA ignoring data with redundant timestamp for frame odom at time 163.593000 according to authority /pose_integrator\u001b[0m\n"
     ]
    },
    {
     "name": "stderr",
     "output_type": "stream",
     "text": [
      "\u001b[33m[ WARN] [1663894188.363683996, 165.498000000]: TF_REPEATED_DATA ignoring data with redundant timestamp for frame odom at time 165.555000 according to authority /pose_integrator\u001b[0m\n",
      "\u001b[33m[ WARN] [1663894188.364976351, 165.498000000]: TF_REPEATED_DATA ignoring data with redundant timestamp for frame odom at time 165.555000 according to authority unknown_publisher\u001b[0m\n",
      "\u001b[33m[ WARN] [1663894190.604333493, 165.819000000]: TF_REPEATED_DATA ignoring data with redundant timestamp for frame odom at time 165.861000 according to authority unknown_publisher\u001b[0m\n",
      "\u001b[33m[ WARN] [1663894190.605220767, 165.819000000]: TF_REPEATED_DATA ignoring data with redundant timestamp for frame odom at time 165.861000 according to authority /pose_integrator\u001b[0m\n",
      "\u001b[33m[ WARN] [1663894193.566340997, 165.984000000]: TF_REPEATED_DATA ignoring data with redundant timestamp for frame odom at time 166.047000 according to authority /pose_integrator\u001b[0m\n",
      "\u001b[33m[ WARN] [1663894193.567132978, 165.984000000]: TF_REPEATED_DATA ignoring data with redundant timestamp for frame odom at time 166.047000 according to authority unknown_publisher\u001b[0m\n",
      "\u001b[33m[ WARN] [1663894210.422526566, 167.280000000]: TF_REPEATED_DATA ignoring data with redundant timestamp for frame odom at time 167.334000 according to authority unknown_publisher\u001b[0m\n",
      "\u001b[33m[ WARN] [1663894210.423095513, 167.280000000]: TF_REPEATED_DATA ignoring data with redundant timestamp for frame odom at time 167.334000 according to authority /pose_integrator\u001b[0m\n",
      "\u001b[33m[ WARN] [1663894211.810795406, 167.424000000]: TF_REPEATED_DATA ignoring data with redundant timestamp for frame odom at time 167.448000 according to authority unknown_publisher\u001b[0m\n",
      "\u001b[33m[ WARN] [1663894211.811335059, 167.424000000]: TF_REPEATED_DATA ignoring data with redundant timestamp for frame odom at time 167.448000 according to authority /pose_integrator\u001b[0m\n",
      "\u001b[33m[ WARN] [1663894213.522252284, 167.613000000]: TF_REPEATED_DATA ignoring data with redundant timestamp for frame odom at time 167.649000 according to authority unknown_publisher\u001b[0m\n",
      "\u001b[33m[ WARN] [1663894213.522614067, 167.613000000]: TF_REPEATED_DATA ignoring data with redundant timestamp for frame odom at time 167.649000 according to authority /pose_integrator\u001b[0m\n",
      "\u001b[33m[ WARN] [1663894226.060627196, 168.972000000]: TF_REPEATED_DATA ignoring data with redundant timestamp for frame odom at time 169.041000 according to authority unknown_publisher\u001b[0m\n",
      "\u001b[33m[ WARN] [1663894226.062924121, 168.972000000]: TF_REPEATED_DATA ignoring data with redundant timestamp for frame odom at time 169.041000 according to authority /pose_integrator\u001b[0m\n",
      "\u001b[33m[ WARN] [1663894241.492644575, 170.568000000]: TF_REPEATED_DATA ignoring data with redundant timestamp for frame odom at time 170.601000 according to authority unknown_publisher\u001b[0m\n",
      "\u001b[33m[ WARN] [1663894241.496298252, 170.568000000]: TF_REPEATED_DATA ignoring data with redundant timestamp for frame odom at time 170.601000 according to authority /pose_integrator\u001b[0m\n",
      "\u001b[33m[ WARN] [1663894258.498158166, 172.668000000]: TF_REPEATED_DATA ignoring data with redundant timestamp for frame odom at time 172.746000 according to authority unknown_publisher\u001b[0m\n",
      "\u001b[33m[ WARN] [1663894258.498939673, 172.668000000]: TF_REPEATED_DATA ignoring data with redundant timestamp for frame odom at time 172.746000 according to authority /pose_integrator\u001b[0m\n",
      "\u001b[33m[ WARN] [1663894260.743202168, 173.004000000]: TF_REPEATED_DATA ignoring data with redundant timestamp for frame odom at time 173.094000 according to authority /pose_integrator\u001b[0m\n",
      "\u001b[33m[ WARN] [1663894260.743453581, 173.004000000]: TF_REPEATED_DATA ignoring data with redundant timestamp for frame odom at time 173.094000 according to authority unknown_publisher\u001b[0m\n",
      "\u001b[33m[ WARN] [1663894261.574624069, 173.142000000]: TF_REPEATED_DATA ignoring data with redundant timestamp for frame odom at time 173.196000 according to authority /pose_integrator\u001b[0m\n",
      "\u001b[33m[ WARN] [1663894261.576404656, 173.142000000]: TF_REPEATED_DATA ignoring data with redundant timestamp for frame odom at time 173.196000 according to authority unknown_publisher\u001b[0m\n",
      "\u001b[33m[ WARN] [1663894271.950455470, 174.360000000]: TF_REPEATED_DATA ignoring data with redundant timestamp for frame odom at time 174.429000 according to authority /pose_integrator\u001b[0m\n",
      "\u001b[33m[ WARN] [1663894271.951078594, 174.360000000]: TF_REPEATED_DATA ignoring data with redundant timestamp for frame odom at time 174.429000 according to authority unknown_publisher\u001b[0m\n",
      "\u001b[33m[ WARN] [1663894281.145520583, 175.191000000]: TF_REPEATED_DATA ignoring data with redundant timestamp for frame odom at time 175.248000 according to authority unknown_publisher\u001b[0m\n",
      "\u001b[33m[ WARN] [1663894281.146750640, 175.191000000]: TF_REPEATED_DATA ignoring data with redundant timestamp for frame odom at time 175.248000 according to authority /pose_integrator\u001b[0m\n",
      "\u001b[33m[ WARN] [1663894291.083458033, 176.235000000]: TF_REPEATED_DATA ignoring data with redundant timestamp for frame odom at time 176.268000 according to authority /pose_integrator\u001b[0m\n",
      "\u001b[33m[ WARN] [1663894291.087438040, 176.235000000]: TF_REPEATED_DATA ignoring data with redundant timestamp for frame odom at time 176.268000 according to authority unknown_publisher\u001b[0m\n",
      "\u001b[33m[ WARN] [1663894291.576749447, 176.343000000]: TF_REPEATED_DATA ignoring data with redundant timestamp for frame odom at time 176.430000 according to authority /pose_integrator\u001b[0m\n",
      "\u001b[33m[ WARN] [1663894291.577956994, 176.343000000]: TF_REPEATED_DATA ignoring data with redundant timestamp for frame odom at time 176.430000 according to authority unknown_publisher\u001b[0m\n",
      "\u001b[33m[ WARN] [1663894302.156671058, 177.585000000]: TF_REPEATED_DATA ignoring data with redundant timestamp for frame odom at time 177.726000 according to authority unknown_publisher\u001b[0m\n",
      "\u001b[33m[ WARN] [1663894302.157124194, 177.585000000]: TF_REPEATED_DATA ignoring data with redundant timestamp for frame odom at time 177.726000 according to authority /pose_integrator\u001b[0m\n",
      "\u001b[33m[ WARN] [1663894303.825312349, 177.993000000]: TF_REPEATED_DATA ignoring data with redundant timestamp for frame odom at time 178.023000 according to authority unknown_publisher\u001b[0m\n",
      "\u001b[33m[ WARN] [1663894303.825690355, 177.993000000]: TF_REPEATED_DATA ignoring data with redundant timestamp for frame odom at time 178.023000 according to authority /pose_integrator\u001b[0m\n",
      "\u001b[33m[ WARN] [1663894310.119858543, 178.632000000]: TF_REPEATED_DATA ignoring data with redundant timestamp for frame odom at time 178.716000 according to authority /pose_integrator\u001b[0m\n",
      "\u001b[33m[ WARN] [1663894310.121192097, 178.632000000]: TF_REPEATED_DATA ignoring data with redundant timestamp for frame odom at time 178.716000 according to authority unknown_publisher\u001b[0m\n",
      "\u001b[33m[ WARN] [1663894321.065626329, 179.838000000]: TF_REPEATED_DATA ignoring data with redundant timestamp for frame odom at time 179.850000 according to authority /pose_integrator\u001b[0m\n",
      "\u001b[33m[ WARN] [1663894321.065831900, 179.838000000]: TF_REPEATED_DATA ignoring data with redundant timestamp for frame odom at time 179.850000 according to authority unknown_publisher\u001b[0m\n",
      "\u001b[33m[ WARN] [1663894323.156801056, 180.081000000]: TF_REPEATED_DATA ignoring data with redundant timestamp for frame odom at time 180.135000 according to authority /pose_integrator\u001b[0m\n",
      "\u001b[33m[ WARN] [1663894323.182958580, 180.135000000]: TF_REPEATED_DATA ignoring data with redundant timestamp for frame odom at time 180.135000 according to authority unknown_publisher\u001b[0m\n",
      "\u001b[33m[ WARN] [1663894339.248789201, 181.860000000]: TF_REPEATED_DATA ignoring data with redundant timestamp for frame odom at time 181.980000 according to authority unknown_publisher\u001b[0m\n",
      "\u001b[33m[ WARN] [1663894339.248991254, 181.860000000]: TF_REPEATED_DATA ignoring data with redundant timestamp for frame odom at time 181.980000 according to authority /pose_integrator\u001b[0m\n",
      "\u001b[33m[ WARN] [1663894341.813474344, 182.307000000]: TF_REPEATED_DATA ignoring data with redundant timestamp for frame odom at time 182.367000 according to authority /pose_integrator\u001b[0m\n",
      "\u001b[33m[ WARN] [1663894341.815969555, 182.307000000]: TF_REPEATED_DATA ignoring data with redundant timestamp for frame odom at time 182.367000 according to authority unknown_publisher\u001b[0m\n"
     ]
    },
    {
     "name": "stderr",
     "output_type": "stream",
     "text": [
      "\u001b[33m[ WARN] [1663894347.370455642, 182.919000000]: TF_REPEATED_DATA ignoring data with redundant timestamp for frame odom at time 182.985000 according to authority /pose_integrator\u001b[0m\n",
      "\u001b[33m[ WARN] [1663894347.370914372, 182.919000000]: TF_REPEATED_DATA ignoring data with redundant timestamp for frame odom at time 182.985000 according to authority unknown_publisher\u001b[0m\n"
     ]
    }
   ],
   "source": [
    "import sys\n",
    "import copy\n",
    "import rospy\n",
    "import moveit_commander\n",
    "import moveit_msgs.msg\n",
    "import geometry_msgs.msg\n",
    "display_trajectory_publisher = rospy.Publisher(\n",
    "            \"/move_group/display_planned_path\",\n",
    "            moveit_msgs.msg.DisplayTrajectory,\n",
    "            queue_size=20,\n",
    "        )\n",
    "waypoints = []\n",
    "scale = 1\n",
    "wpose = whole_body.get_current_pose().pose\n",
    "wpose.position.z += scale * 0.1  # First move up (z)\n",
    "waypoints.append(copy.deepcopy(wpose))\n",
    "\n",
    "wpose.position.x += scale * 0.1  # Second move forward/backwards in (x)\n",
    "wpose.position.y += scale * 0.1\n",
    "waypoints.append(copy.deepcopy(wpose))\n",
    "\n",
    "(plan, fraction) = arm.compute_cartesian_path(\n",
    "    waypoints, 0.01, 0.0  # waypoints to follow  # eef_step\n",
    ")  # jump_threshold\n",
    "display_trajectory = moveit_msgs.msg.DisplayTrajectory()\n",
    "display_trajectory.trajectory_start = robot.get_current_state()\n",
    "display_trajectory.trajectory.append(plan)\n",
    "# Publish\n",
    "display_trajectory_publisher.publish(display_trajectory)\n",
    "print(fraction)"
   ]
  },
  {
   "cell_type": "code",
   "execution_count": 24,
   "metadata": {},
   "outputs": [
    {
     "name": "stderr",
     "output_type": "stream",
     "text": [
      "\u001b[33m[ WARN] [1663897315.859170131, 504.933000000]: TF_REPEATED_DATA ignoring data with redundant timestamp for frame odom at time 504.996000 according to authority /pose_integrator\u001b[0m\n",
      "\u001b[33m[ WARN] [1663897315.871492443, 504.933000000]: TF_REPEATED_DATA ignoring data with redundant timestamp for frame odom at time 504.996000 according to authority unknown_publisher\u001b[0m\n",
      "\u001b[33m[ WARN] [1663897322.743384420, 505.869000000]: TF_REPEATED_DATA ignoring data with redundant timestamp for frame odom at time 505.902000 according to authority /pose_integrator\u001b[0m\n",
      "\u001b[33m[ WARN] [1663897322.749883126, 505.869000000]: TF_REPEATED_DATA ignoring data with redundant timestamp for frame odom at time 505.902000 according to authority unknown_publisher\u001b[0m\n",
      "\u001b[33m[ WARN] [1663897327.153289555, 506.397000000]: TF_REPEATED_DATA ignoring data with redundant timestamp for frame odom at time 506.523000 according to authority /pose_integrator\u001b[0m\n",
      "\u001b[33m[ WARN] [1663897327.154054708, 506.397000000]: TF_REPEATED_DATA ignoring data with redundant timestamp for frame odom at time 506.523000 according to authority unknown_publisher\u001b[0m\n",
      "\u001b[33m[ WARN] [1663897330.223751812, 506.877000000]: TF_REPEATED_DATA ignoring data with redundant timestamp for frame odom at time 506.925000 according to authority /pose_integrator\u001b[0m\n",
      "\u001b[33m[ WARN] [1663897330.228485398, 506.877000000]: TF_REPEATED_DATA ignoring data with redundant timestamp for frame odom at time 506.925000 according to authority unknown_publisher\u001b[0m\n",
      "\u001b[33m[ WARN] [1663897341.683357277, 508.101000000]: TF_REPEATED_DATA ignoring data with redundant timestamp for frame odom at time 508.137000 according to authority /pose_integrator\u001b[0m\n",
      "\u001b[33m[ WARN] [1663897341.683608507, 508.101000000]: TF_REPEATED_DATA ignoring data with redundant timestamp for frame odom at time 508.137000 according to authority unknown_publisher\u001b[0m\n",
      "\u001b[33m[ WARN] [1663897349.332403144, 508.836000000]: TF_REPEATED_DATA ignoring data with redundant timestamp for frame odom at time 508.866000 according to authority /pose_integrator\u001b[0m\n",
      "\u001b[33m[ WARN] [1663897349.333264149, 508.836000000]: TF_REPEATED_DATA ignoring data with redundant timestamp for frame odom at time 508.866000 according to authority unknown_publisher\u001b[0m\n",
      "\u001b[33m[ WARN] [1663897378.826212047, 512.181000000]: TF_REPEATED_DATA ignoring data with redundant timestamp for frame odom at time 512.217000 according to authority unknown_publisher\u001b[0m\n",
      "\u001b[33m[ WARN] [1663897378.841057637, 512.196000000]: TF_REPEATED_DATA ignoring data with redundant timestamp for frame odom at time 512.217000 according to authority /pose_integrator\u001b[0m\n",
      "\u001b[33m[ WARN] [1663897395.065796316, 513.834000000]: TF_REPEATED_DATA ignoring data with redundant timestamp for frame odom at time 513.870000 according to authority /pose_integrator\u001b[0m\n",
      "\u001b[33m[ WARN] [1663897395.066618923, 513.834000000]: TF_REPEATED_DATA ignoring data with redundant timestamp for frame odom at time 513.870000 according to authority unknown_publisher\u001b[0m\n"
     ]
    },
    {
     "data": {
      "text/plain": [
       "True"
      ]
     },
     "execution_count": 24,
     "metadata": {},
     "output_type": "execute_result"
    },
    {
     "name": "stderr",
     "output_type": "stream",
     "text": [
      "\u001b[33m[ WARN] [1663897405.817101651, 515.097000000]: TF_REPEATED_DATA ignoring data with redundant timestamp for frame arm_flex_link at time 515.316000 according to authority /robot_state_publisher\u001b[0m\n",
      "\u001b[33m[ WARN] [1663897405.817379729, 515.097000000]: TF_REPEATED_DATA ignoring data with redundant timestamp for frame arm_lift_link at time 515.316000 according to authority /robot_state_publisher\u001b[0m\n",
      "\u001b[33m[ WARN] [1663897405.817503343, 515.097000000]: TF_REPEATED_DATA ignoring data with redundant timestamp for frame arm_roll_link at time 515.316000 according to authority /robot_state_publisher\u001b[0m\n",
      "\u001b[33m[ WARN] [1663897405.817627162, 515.097000000]: TF_REPEATED_DATA ignoring data with redundant timestamp for frame base_b_bumper_link at time 515.316000 according to authority /robot_state_publisher\u001b[0m\n",
      "\u001b[33m[ WARN] [1663897405.817742345, 515.097000000]: TF_REPEATED_DATA ignoring data with redundant timestamp for frame base_f_bumper_link at time 515.316000 according to authority /robot_state_publisher\u001b[0m\n",
      "\u001b[33m[ WARN] [1663897405.817876115, 515.097000000]: TF_REPEATED_DATA ignoring data with redundant timestamp for frame base_l_drive_wheel_link at time 515.316000 according to authority /robot_state_publisher\u001b[0m\n",
      "\u001b[33m[ WARN] [1663897405.818104406, 515.097000000]: TF_REPEATED_DATA ignoring data with redundant timestamp for frame base_l_passive_wheel_x_frame at time 515.316000 according to authority /robot_state_publisher\u001b[0m\n",
      "\u001b[33m[ WARN] [1663897405.818226590, 515.097000000]: TF_REPEATED_DATA ignoring data with redundant timestamp for frame base_l_passive_wheel_y_frame at time 515.316000 according to authority /robot_state_publisher\u001b[0m\n",
      "\u001b[33m[ WARN] [1663897405.818350443, 515.097000000]: TF_REPEATED_DATA ignoring data with redundant timestamp for frame base_l_passive_wheel_z_link at time 515.316000 according to authority /robot_state_publisher\u001b[0m\n",
      "\u001b[33m[ WARN] [1663897405.818574328, 515.097000000]: TF_REPEATED_DATA ignoring data with redundant timestamp for frame base_r_drive_wheel_link at time 515.316000 according to authority /robot_state_publisher\u001b[0m\n",
      "\u001b[33m[ WARN] [1663897405.818711699, 515.097000000]: TF_REPEATED_DATA ignoring data with redundant timestamp for frame base_r_passive_wheel_x_frame at time 515.316000 according to authority /robot_state_publisher\u001b[0m\n",
      "\u001b[33m[ WARN] [1663897405.818922818, 515.097000000]: TF_REPEATED_DATA ignoring data with redundant timestamp for frame base_r_passive_wheel_y_frame at time 515.316000 according to authority /robot_state_publisher\u001b[0m\n",
      "\u001b[33m[ WARN] [1663897405.819061943, 515.097000000]: TF_REPEATED_DATA ignoring data with redundant timestamp for frame base_r_passive_wheel_z_link at time 515.316000 according to authority /robot_state_publisher\u001b[0m\n",
      "\u001b[33m[ WARN] [1663897405.819181525, 515.097000000]: TF_REPEATED_DATA ignoring data with redundant timestamp for frame base_roll_link at time 515.316000 according to authority /robot_state_publisher\u001b[0m\n",
      "\u001b[33m[ WARN] [1663897405.819307063, 515.097000000]: TF_REPEATED_DATA ignoring data with redundant timestamp for frame hand_l_distal_link at time 515.316000 according to authority /robot_state_publisher\u001b[0m\n",
      "\u001b[33m[ WARN] [1663897405.819435011, 515.097000000]: TF_REPEATED_DATA ignoring data with redundant timestamp for frame hand_l_mimic_distal_link at time 515.316000 according to authority /robot_state_publisher\u001b[0m\n",
      "\u001b[33m[ WARN] [1663897405.819626060, 515.097000000]: TF_REPEATED_DATA ignoring data with redundant timestamp for frame hand_l_proximal_link at time 515.316000 according to authority /robot_state_publisher\u001b[0m\n",
      "\u001b[33m[ WARN] [1663897405.819742114, 515.097000000]: TF_REPEATED_DATA ignoring data with redundant timestamp for frame hand_l_spring_proximal_link at time 515.316000 according to authority /robot_state_publisher\u001b[0m\n",
      "\u001b[33m[ WARN] [1663897405.819854283, 515.097000000]: TF_REPEATED_DATA ignoring data with redundant timestamp for frame hand_motor_dummy_link at time 515.316000 according to authority /robot_state_publisher\u001b[0m\n",
      "\u001b[33m[ WARN] [1663897405.819959244, 515.097000000]: TF_REPEATED_DATA ignoring data with redundant timestamp for frame hand_r_distal_link at time 515.316000 according to authority /robot_state_publisher\u001b[0m\n",
      "\u001b[33m[ WARN] [1663897405.820078058, 515.097000000]: TF_REPEATED_DATA ignoring data with redundant timestamp for frame hand_r_mimic_distal_link at time 515.316000 according to authority /robot_state_publisher\u001b[0m\n",
      "\u001b[33m[ WARN] [1663897405.820373339, 515.097000000]: TF_REPEATED_DATA ignoring data with redundant timestamp for frame hand_r_proximal_link at time 515.316000 according to authority /robot_state_publisher\u001b[0m\n",
      "\u001b[33m[ WARN] [1663897405.820878005, 515.097000000]: TF_REPEATED_DATA ignoring data with redundant timestamp for frame hand_r_spring_proximal_link at time 515.316000 according to authority /robot_state_publisher\u001b[0m\n",
      "\u001b[33m[ WARN] [1663897405.827936200, 515.097000000]: TF_REPEATED_DATA ignoring data with redundant timestamp for frame arm_flex_link at time 515.316000 according to authority unknown_publisher\u001b[0m\n",
      "\u001b[33m[ WARN] [1663897405.828200097, 515.097000000]: TF_REPEATED_DATA ignoring data with redundant timestamp for frame arm_lift_link at time 515.316000 according to authority unknown_publisher\u001b[0m\n",
      "\u001b[33m[ WARN] [1663897405.828420799, 515.097000000]: TF_REPEATED_DATA ignoring data with redundant timestamp for frame arm_roll_link at time 515.316000 according to authority unknown_publisher\u001b[0m\n",
      "\u001b[33m[ WARN] [1663897405.828553981, 515.097000000]: TF_REPEATED_DATA ignoring data with redundant timestamp for frame base_b_bumper_link at time 515.316000 according to authority unknown_publisher\u001b[0m\n",
      "\u001b[33m[ WARN] [1663897405.828784859, 515.097000000]: TF_REPEATED_DATA ignoring data with redundant timestamp for frame base_f_bumper_link at time 515.316000 according to authority unknown_publisher\u001b[0m\n",
      "\u001b[33m[ WARN] [1663897405.828979787, 515.097000000]: TF_REPEATED_DATA ignoring data with redundant timestamp for frame base_l_drive_wheel_link at time 515.316000 according to authority unknown_publisher\u001b[0m\n",
      "\u001b[33m[ WARN] [1663897405.829162993, 515.097000000]: TF_REPEATED_DATA ignoring data with redundant timestamp for frame base_l_passive_wheel_x_frame at time 515.316000 according to authority unknown_publisher\u001b[0m\n",
      "\u001b[33m[ WARN] [1663897405.829317410, 515.097000000]: TF_REPEATED_DATA ignoring data with redundant timestamp for frame base_l_passive_wheel_y_frame at time 515.316000 according to authority unknown_publisher\u001b[0m\n",
      "\u001b[33m[ WARN] [1663897405.829563047, 515.097000000]: TF_REPEATED_DATA ignoring data with redundant timestamp for frame base_l_passive_wheel_z_link at time 515.316000 according to authority unknown_publisher\u001b[0m\n",
      "\u001b[33m[ WARN] [1663897405.829663350, 515.097000000]: TF_REPEATED_DATA ignoring data with redundant timestamp for frame base_r_drive_wheel_link at time 515.316000 according to authority unknown_publisher\u001b[0m\n",
      "\u001b[33m[ WARN] [1663897405.830380593, 515.097000000]: TF_REPEATED_DATA ignoring data with redundant timestamp for frame base_r_passive_wheel_x_frame at time 515.316000 according to authority unknown_publisher\u001b[0m\n",
      "\u001b[33m[ WARN] [1663897405.830533073, 515.097000000]: TF_REPEATED_DATA ignoring data with redundant timestamp for frame base_r_passive_wheel_y_frame at time 515.316000 according to authority unknown_publisher\u001b[0m\n",
      "\u001b[33m[ WARN] [1663897405.830623056, 515.097000000]: TF_REPEATED_DATA ignoring data with redundant timestamp for frame base_r_passive_wheel_z_link at time 515.316000 according to authority unknown_publisher\u001b[0m\n",
      "\u001b[33m[ WARN] [1663897405.830717046, 515.097000000]: TF_REPEATED_DATA ignoring data with redundant timestamp for frame base_roll_link at time 515.316000 according to authority unknown_publisher\u001b[0m\n",
      "\u001b[33m[ WARN] [1663897405.830904853, 515.097000000]: TF_REPEATED_DATA ignoring data with redundant timestamp for frame hand_l_distal_link at time 515.316000 according to authority unknown_publisher\u001b[0m\n",
      "\u001b[33m[ WARN] [1663897405.831081924, 515.097000000]: TF_REPEATED_DATA ignoring data with redundant timestamp for frame hand_l_mimic_distal_link at time 515.316000 according to authority unknown_publisher\u001b[0m\n",
      "\u001b[33m[ WARN] [1663897405.831272503, 515.097000000]: TF_REPEATED_DATA ignoring data with redundant timestamp for frame hand_l_proximal_link at time 515.316000 according to authority unknown_publisher\u001b[0m\n",
      "\u001b[33m[ WARN] [1663897405.831366688, 515.097000000]: TF_REPEATED_DATA ignoring data with redundant timestamp for frame hand_l_spring_proximal_link at time 515.316000 according to authority unknown_publisher\u001b[0m\n",
      "\u001b[33m[ WARN] [1663897405.831458864, 515.097000000]: TF_REPEATED_DATA ignoring data with redundant timestamp for frame hand_motor_dummy_link at time 515.316000 according to authority unknown_publisher\u001b[0m\n",
      "\u001b[33m[ WARN] [1663897405.831615523, 515.097000000]: TF_REPEATED_DATA ignoring data with redundant timestamp for frame hand_r_distal_link at time 515.316000 according to authority unknown_publisher\u001b[0m\n",
      "\u001b[33m[ WARN] [1663897405.831712710, 515.097000000]: TF_REPEATED_DATA ignoring data with redundant timestamp for frame hand_r_mimic_distal_link at time 515.316000 according to authority unknown_publisher\u001b[0m\n",
      "\u001b[33m[ WARN] [1663897405.831807526, 515.097000000]: TF_REPEATED_DATA ignoring data with redundant timestamp for frame hand_r_proximal_link at time 515.316000 according to authority unknown_publisher\u001b[0m\n",
      "\u001b[33m[ WARN] [1663897405.831914412, 515.097000000]: TF_REPEATED_DATA ignoring data with redundant timestamp for frame hand_r_spring_proximal_link at time 515.316000 according to authority unknown_publisher\u001b[0m\n",
      "\u001b[33m[ WARN] [1663897405.832004891, 515.097000000]: TF_REPEATED_DATA ignoring data with redundant timestamp for frame head_pan_link at time 515.316000 according to authority unknown_publisher\u001b[0m\n",
      "\u001b[33m[ WARN] [1663897405.832100321, 515.097000000]: TF_REPEATED_DATA ignoring data with redundant timestamp for frame head_tilt_link at time 515.316000 according to authority unknown_publisher\u001b[0m\n",
      "\u001b[33m[ WARN] [1663897405.832190564, 515.097000000]: TF_REPEATED_DATA ignoring data with redundant timestamp for frame torso_lift_link at time 515.316000 according to authority unknown_publisher\u001b[0m\n",
      "\u001b[33m[ WARN] [1663897405.832281085, 515.097000000]: TF_REPEATED_DATA ignoring data with redundant timestamp for frame wrist_flex_link at time 515.316000 according to authority unknown_publisher\u001b[0m\n",
      "\u001b[33m[ WARN] [1663897405.832373749, 515.097000000]: TF_REPEATED_DATA ignoring data with redundant timestamp for frame wrist_ft_sensor_frame at time 515.316000 according to authority unknown_publisher\u001b[0m\n",
      "\u001b[33m[ WARN] [1663897405.832467572, 515.097000000]: TF_REPEATED_DATA ignoring data with redundant timestamp for frame wrist_ft_sensor_mount_link at time 515.316000 according to authority unknown_publisher\u001b[0m\n",
      "\u001b[33m[ WARN] [1663897405.832577115, 515.097000000]: TF_REPEATED_DATA ignoring data with redundant timestamp for frame head_pan_link at time 515.316000 according to authority /robot_state_publisher\u001b[0m\n",
      "\u001b[33m[ WARN] [1663897405.834183941, 515.097000000]: TF_REPEATED_DATA ignoring data with redundant timestamp for frame head_tilt_link at time 515.316000 according to authority /robot_state_publisher\u001b[0m\n",
      "\u001b[33m[ WARN] [1663897405.834306768, 515.097000000]: TF_REPEATED_DATA ignoring data with redundant timestamp for frame torso_lift_link at time 515.316000 according to authority /robot_state_publisher\u001b[0m\n",
      "\u001b[33m[ WARN] [1663897405.834417500, 515.097000000]: TF_REPEATED_DATA ignoring data with redundant timestamp for frame wrist_flex_link at time 515.316000 according to authority /robot_state_publisher\u001b[0m\n",
      "\u001b[33m[ WARN] [1663897405.834526555, 515.097000000]: TF_REPEATED_DATA ignoring data with redundant timestamp for frame wrist_ft_sensor_frame at time 515.316000 according to authority /robot_state_publisher\u001b[0m\n",
      "\u001b[33m[ WARN] [1663897405.834633328, 515.097000000]: TF_REPEATED_DATA ignoring data with redundant timestamp for frame wrist_ft_sensor_mount_link at time 515.316000 according to authority /robot_state_publisher\u001b[0m\n"
     ]
    },
    {
     "name": "stderr",
     "output_type": "stream",
     "text": [
      "\u001b[33m[ WARN] [1663897411.491589583, 515.697000000]: TF_REPEATED_DATA ignoring data with redundant timestamp for frame odom at time 515.727000 according to authority unknown_publisher\u001b[0m\n",
      "\u001b[33m[ WARN] [1663897411.491666816, 515.697000000]: TF_REPEATED_DATA ignoring data with redundant timestamp for frame odom at time 515.727000 according to authority /pose_integrator\u001b[0m\n"
     ]
    }
   ],
   "source": [
    "        open_gripper()\n",
    "        rospy.sleep(0.3)\n",
    "        acp = [0.56,-1.3376,0,-1.8275,0.0,0.0]\n",
    "        arm.set_joint_value_target(acp)\n",
    "        arm.go()\n",
    "        close_gripper()\n",
    "        rospy.sleep(0.3)\n",
    "#         gripper.command(0.0) #close\n",
    "        \n",
    "        check_grasp_joints=[0.69,-1.3376,0,-1.8275,0.0,0.0]\n",
    "        arm.set_joint_value_target(check_grasp_joints)\n",
    "        arm.go()\n",
    "        \n",
    "        check_grasp_joints=[0.69,-1.3376,-0.8,-1.8275,0.0,0.0]\n",
    "        arm.set_joint_value_target(check_grasp_joints)\n",
    "        arm.go()"
   ]
  },
  {
   "cell_type": "code",
   "execution_count": 11,
   "metadata": {},
   "outputs": [
    {
     "data": {
      "text/plain": [
       "False"
      ]
     },
     "execution_count": 11,
     "metadata": {},
     "output_type": "execute_result"
    },
    {
     "name": "stderr",
     "output_type": "stream",
     "text": [
      "\u001b[33m[ WARN] [1663893192.794081619, 67.158000000]: TF_REPEATED_DATA ignoring data with redundant timestamp for frame odom at time 67.209000 according to authority unknown_publisher\u001b[0m\n",
      "\u001b[33m[ WARN] [1663893192.795523278, 67.158000000]: TF_REPEATED_DATA ignoring data with redundant timestamp for frame odom at time 67.209000 according to authority /pose_integrator\u001b[0m\n",
      "\u001b[33m[ WARN] [1663893200.189194602, 68.010000000]: TF_REPEATED_DATA ignoring data with redundant timestamp for frame odom at time 68.040000 according to authority /pose_integrator\u001b[0m\n",
      "\u001b[33m[ WARN] [1663893200.191104056, 68.010000000]: TF_REPEATED_DATA ignoring data with redundant timestamp for frame odom at time 68.040000 according to authority unknown_publisher\u001b[0m\n",
      "\u001b[33m[ WARN] [1663893200.692492538, 68.076000000]: TF_REPEATED_DATA ignoring data with redundant timestamp for frame odom at time 68.112000 according to authority unknown_publisher\u001b[0m\n",
      "\u001b[33m[ WARN] [1663893200.692822747, 68.076000000]: TF_REPEATED_DATA ignoring data with redundant timestamp for frame odom at time 68.112000 according to authority /pose_integrator\u001b[0m\n",
      "\u001b[33m[ WARN] [1663893206.627310419, 68.649000000]: TF_REPEATED_DATA ignoring data with redundant timestamp for frame odom at time 68.682000 according to authority unknown_publisher\u001b[0m\n",
      "\u001b[33m[ WARN] [1663893206.627387788, 68.649000000]: TF_REPEATED_DATA ignoring data with redundant timestamp for frame odom at time 68.682000 according to authority /pose_integrator\u001b[0m\n"
     ]
    }
   ],
   "source": [
    "whole_body.execute(plan)"
   ]
  },
  {
   "cell_type": "raw",
   "metadata": {},
   "source": [
    "# recornize cassette position\n",
    "# move base to 0.6m away from the recognized position of cassette\n",
    "# move arm to \"grasp_from_above_joints\" position\n",
    "# calculate the correct location of the base getting the tf of hand_palm_link\n",
    "# grasp cassette, go to neutral position"
   ]
  },
  {
   "cell_type": "code",
   "execution_count": 22,
   "metadata": {},
   "outputs": [],
   "source": [
    "open_gripper()"
   ]
  },
  {
   "cell_type": "code",
   "execution_count": 23,
   "metadata": {},
   "outputs": [
    {
     "name": "stderr",
     "output_type": "stream",
     "text": [
      "\u001b[33m[ WARN] [1663897275.844641228, 500.373000000]: TF_REPEATED_DATA ignoring data with redundant timestamp for frame odom at time 500.400000 according to authority /pose_integrator\u001b[0m\n",
      "\u001b[33m[ WARN] [1663897275.846505323, 500.373000000]: TF_REPEATED_DATA ignoring data with redundant timestamp for frame odom at time 500.400000 according to authority unknown_publisher\u001b[0m\n",
      "\u001b[33m[ WARN] [1663897276.949068509, 500.529000000]: TF_REPEATED_DATA ignoring data with redundant timestamp for frame odom at time 500.592000 according to authority /pose_integrator\u001b[0m\n",
      "\u001b[33m[ WARN] [1663897276.951552686, 500.529000000]: TF_REPEATED_DATA ignoring data with redundant timestamp for frame odom at time 500.592000 according to authority unknown_publisher\u001b[0m\n",
      "\u001b[33m[ WARN] [1663897281.402349537, 500.928000000]: TF_REPEATED_DATA ignoring data with redundant timestamp for frame odom at time 500.958000 according to authority /pose_integrator\u001b[0m\n",
      "\u001b[33m[ WARN] [1663897281.402747969, 500.928000000]: TF_REPEATED_DATA ignoring data with redundant timestamp for frame odom at time 500.958000 according to authority unknown_publisher\u001b[0m\n",
      "\u001b[33m[ WARN] [1663897285.059472885, 501.342000000]: TF_REPEATED_DATA ignoring data with redundant timestamp for frame odom at time 501.411000 according to authority /pose_integrator\u001b[0m\n",
      "\u001b[33m[ WARN] [1663897285.060021753, 501.342000000]: TF_REPEATED_DATA ignoring data with redundant timestamp for frame odom at time 501.411000 according to authority unknown_publisher\u001b[0m\n",
      "\u001b[33m[ WARN] [1663897289.180474328, 501.747000000]: TF_REPEATED_DATA ignoring data with redundant timestamp for frame odom at time 501.870000 according to authority /pose_integrator\u001b[0m\n",
      "\u001b[33m[ WARN] [1663897289.181074873, 501.747000000]: TF_REPEATED_DATA ignoring data with redundant timestamp for frame odom at time 501.870000 according to authority unknown_publisher\u001b[0m\n",
      "\u001b[33m[ WARN] [1663897297.885525146, 502.896000000]: TF_REPEATED_DATA ignoring data with redundant timestamp for frame odom at time 502.923000 according to authority unknown_publisher\u001b[0m\n",
      "\u001b[33m[ WARN] [1663897297.889916162, 502.896000000]: TF_REPEATED_DATA ignoring data with redundant timestamp for frame odom at time 502.923000 according to authority /pose_integrator\u001b[0m\n",
      "\u001b[33m[ WARN] [1663897306.304360652, 503.631000000]: TF_REPEATED_DATA ignoring data with redundant timestamp for frame odom at time 503.739000 according to authority /pose_integrator\u001b[0m\n",
      "\u001b[33m[ WARN] [1663897306.304789580, 503.631000000]: TF_REPEATED_DATA ignoring data with redundant timestamp for frame odom at time 503.739000 according to authority unknown_publisher\u001b[0m\n"
     ]
    }
   ],
   "source": [
    "close_gripper()"
   ]
  },
  {
   "cell_type": "code",
   "execution_count": null,
   "metadata": {},
   "outputs": [],
   "source": []
  }
 ],
 "metadata": {
  "kernelspec": {
   "display_name": "Python 3 (ipykernel)",
   "language": "python",
   "name": "python3"
  },
  "language_info": {
   "codemirror_mode": {
    "name": "ipython",
    "version": 3
   },
   "file_extension": ".py",
   "mimetype": "text/x-python",
   "name": "python",
   "nbconvert_exporter": "python",
   "pygments_lexer": "ipython3",
   "version": "3.8.10"
  }
 },
 "nbformat": 4,
 "nbformat_minor": 4
}
