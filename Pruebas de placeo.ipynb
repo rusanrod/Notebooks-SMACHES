{
 "cells": [
  {
   "cell_type": "code",
   "execution_count": 1,
   "id": "962fe002",
   "metadata": {},
   "outputs": [],
   "source": [
    "#!/usr/bin/env python3\n",
    "import sys\n",
    "import smach\n",
    "import rospy\n",
    "import cv2 as cv\n",
    "import numpy as np\n",
    "from std_srvs.srv import Empty\n",
    "from tmc_msgs.msg import Voice\n",
    "from geometry_msgs.msg import TransformStamped\n",
    "import moveit_commander\n",
    "import moveit_msgs.msg\n",
    "import tf2_ros as tf2\n",
    "from tf2_sensor_msgs.tf2_sensor_msgs import do_transform_cloud\n",
    "from utils_takeshi import *\n",
    "from grasp_utils import *"
   ]
  },
  {
   "cell_type": "code",
   "execution_count": 2,
   "id": "8d65d9b1",
   "metadata": {
    "scrolled": true
   },
   "outputs": [
    {
     "name": "stderr",
     "output_type": "stream",
     "text": [
      "\u001b[33m[ WARN] [1666198968.361724728]: Link hand_l_finger_vacuum_frame has visual geometry but no collision geometry. Collision geometry will be left empty. Fix your URDF file by explicitly specifying collision geometry.\u001b[0m\n",
      "\u001b[33m[ WARN] [1666198968.364059604]: Link head_l_stereo_camera_link has visual geometry but no collision geometry. Collision geometry will be left empty. Fix your URDF file by explicitly specifying collision geometry.\u001b[0m\n",
      "\u001b[33m[ WARN] [1666198968.364087968]: Link head_r_stereo_camera_link has visual geometry but no collision geometry. Collision geometry will be left empty. Fix your URDF file by explicitly specifying collision geometry.\u001b[0m\n",
      "\u001b[33m[ WARN] [1666198968.364717161]: Group state 'neutral' doesn't specify all group joints in group 'arm'. wrist_ft_sensor_frame_joint is missing.\u001b[0m\n",
      "\u001b[33m[ WARN] [1666198968.364754203]: Group state 'go' doesn't specify all group joints in group 'arm'. wrist_ft_sensor_frame_joint is missing.\u001b[0m\n",
      "\u001b[33m[ WARN] [1666199013.915245858]: Kinematics solver doesn't support #attempts anymore, but only a timeout.\n",
      "Please remove the parameter '/robot_description_kinematics/arm/kinematics_solver_attempts' from your configuration.\u001b[0m\n",
      "\u001b[33m[ WARN] [1666199017.049932744]: IK plugin for group 'whole_body' relies on deprecated API. Please implement initialize(RobotModel, ...).\u001b[0m\n",
      "\u001b[33m[ WARN] [1666199017.493991521]: IK plugin for group 'whole_body_weighted' relies on deprecated API. Please implement initialize(RobotModel, ...).\u001b[0m\n",
      "\u001b[33m[ WARN] [1666199017.936308250]: IK plugin for group 'whole_body_light' relies on deprecated API. Please implement initialize(RobotModel, ...).\u001b[0m\n"
     ]
    }
   ],
   "source": [
    "    global head, whole_body, arm, tfbuff, lis, broad, tf_static_broad\n",
    "    global rgbd, hand_cam, wrist, gripper, grasp_base, clear_octo_client, service_client, AR_starter, AR_stopper\n",
    "\n",
    "    moveit_commander.roscpp_initialize(sys.argv)\n",
    "    rospy.init_node('Pruebas_de_placeo_v2')\n",
    "    head = moveit_commander.MoveGroupCommander('head')\n",
    "    whole_body = moveit_commander.MoveGroupCommander('whole_body_light')\n",
    "    arm =  moveit_commander.MoveGroupCommander('arm')\n",
    "    \n",
    "    tfbuff = tf2.Buffer()\n",
    "    lis = tf2.TransformListener(tfbuff)\n",
    "    broad = tf2.TransformBroadcaster()\n",
    "    tf_static_broad = tf2.StaticTransformBroadcaster()\n",
    "    whole_body.set_workspace([-6.0, -6.0, 6.0, 6.0]) \n",
    "    \n",
    "    rgbd = RGBD()\n",
    "    hand_cam = HAND_RGB()\n",
    "    wrist = WRIST_SENSOR()\n",
    "    gripper = GRIPPER()\n",
    "    grasp_base = OMNIBASE()\n",
    "\n",
    "    clear_octo_client = rospy.ServiceProxy('/clear_octomap', Empty)\n",
    "    AR_starter = rospy.ServiceProxy('/marker/start_recognition',Empty)\n",
    "    AR_stopper = rospy.ServiceProxy('/marker/stop_recognition',Empty)\n",
    "    \n",
    "    head.set_planning_time(0.3)\n",
    "    head.set_num_planning_attempts(1)"
   ]
  },
  {
   "cell_type": "code",
   "execution_count": 3,
   "id": "08ff5d05",
   "metadata": {},
   "outputs": [],
   "source": [
    "def talk(msg):\n",
    "    talker = rospy.Publisher('/talk_request', Voice, queue_size=10)\n",
    "    voice = Voice()\n",
    "    voice.language = 1\n",
    "    voice.sentence = msg\n",
    "    talker.publish(voice)\n",
    "    \n",
    "\n",
    "    \n",
    "def correct_points(low_plane=0.0, high_plane=0.2):\n",
    "\n",
    "    #Corrects point clouds \"perspective\" i.e. Reference frame head is changed to reference frame map\n",
    "    data = rospy.wait_for_message('/hsrb/head_rgbd_sensor/depth_registered/rectified_points', PointCloud2)\n",
    "    np_data = ros_numpy.numpify(data)\n",
    "    \n",
    "#   new implementation to use only tf2\n",
    "    transf = tfbuff.lookup_transform('map', 'head_rgbd_sensor_gazebo_frame', rospy.Time())\n",
    "    [trans, rot] = tf2_obj_2_arr(transf)\n",
    "    \n",
    "    eu = np.asarray(tf.transformations.euler_from_quaternion(rot))\n",
    "    t = TransformStamped()\n",
    "    rot = tf.transformations.quaternion_from_euler(-eu[1], 0, 0)\n",
    "    t.header.stamp = data.header.stamp\n",
    "    \n",
    "    t.transform.rotation.x = rot[0]\n",
    "    t.transform.rotation.y = rot[1]\n",
    "    t.transform.rotation.z = rot[2]\n",
    "    t.transform.rotation.w = rot[3]\n",
    "\n",
    "    cloud_out = do_transform_cloud(data, t)\n",
    "    np_corrected = ros_numpy.numpify(cloud_out)\n",
    "    corrected = np_corrected.reshape(np_data.shape)\n",
    "\n",
    "    img = np.copy(corrected['y'])\n",
    "\n",
    "    img[np.isnan(img)] = 2\n",
    "    #img3 = np.where((img>low)&(img< 0.99*(trans[2])),img,255)\n",
    "    img3 = np.where((img>0.99*(trans[2])-high_plane)&(img< 0.99*(trans[2])-low_plane),img,255)\n",
    "    return img3\n",
    "\n",
    "def plane_seg_square_imgs(lower=500, higher=50000, reg_ly= 30, reg_hy=600, plt_images=True, low_plane=.0, high_plane=0.2):\n",
    "\n",
    "    #Segment  Plane using corrected point cloud\n",
    "    #Lower, higher = min, max area of the box\n",
    "    #reg_ly= 30,reg_hy=600    Region (low y  region high y ) Only centroids within region are accepted\n",
    "    \n",
    "    image = rgbd.get_h_image()\n",
    "    iimmg = rgbd.get_image()\n",
    "    points_data = rgbd.get_points()\n",
    "    img = np.copy(image)\n",
    "    img3 = correct_points(low_plane,high_plane)\n",
    "    \n",
    "#     cv2 on python 3\n",
    "    contours, hierarchy = cv2.findContours(img3.astype('uint8'),cv2.RETR_TREE,cv2.CHAIN_APPROX_SIMPLE)\n",
    "    i = 0\n",
    "    cents = []\n",
    "    points = []\n",
    "    images = []\n",
    "    for i, contour in enumerate(contours):\n",
    "        area = cv2.contourArea(contour)\n",
    "        if area > lower and area < higher :\n",
    "            M = cv2.moments(contour)\n",
    "            # calculate x,y coordinate of center\n",
    "            cX = int(M[\"m10\"] / M[\"m00\"])\n",
    "            cY = int(M[\"m01\"] / M[\"m00\"])\n",
    "\n",
    "            boundRect = cv2.boundingRect(contour)\n",
    "            #just for drawing rect, dont waste too much time on this\n",
    "            img = cv2.rectangle(img,(boundRect[0], boundRect[1]),(boundRect[0]+boundRect[2], boundRect[1]+boundRect[3]), (0,0,0), 2)\n",
    "            # calculate moments for each contour\n",
    "            if (cY > reg_ly and cY < reg_hy  ):\n",
    "                image_aux = iimmg[boundRect[1]:boundRect[1]+max(boundRect[2],boundRect[3]),boundRect[0]:boundRect[0]+max(boundRect[2],boundRect[3])]\n",
    "                images.append(image_aux)\n",
    "                cv2.circle(img, (cX, cY), 5, (255, 255, 255), -1)\n",
    "                cv2.putText(img, f'centroid_{i}_{cX},{cY}',    (cX - 25, cY - 25)   ,cv2.FONT_HERSHEY_SIMPLEX, 0.9, (0, 0, 0), 2)\n",
    "                #print ('cX,cY',cX,cY)\n",
    "                xyz = []\n",
    "\n",
    "                for jy in range (boundRect[0], boundRect[0] + boundRect[2]):\n",
    "                    for ix in range(boundRect[1], boundRect[1] + boundRect[3]):\n",
    "                        aux = (np.asarray((points_data['x'][ix,jy], points_data['y'][ix,jy], points_data['z'][ix,jy])))\n",
    "                        if np.isnan(aux[0]) or np.isnan(aux[1]) or np.isnan(aux[2]):\n",
    "                            'reject point'\n",
    "                        else:\n",
    "                            xyz.append(aux)\n",
    "\n",
    "                xyz = np.asarray(xyz)\n",
    "                cent = xyz.mean(axis=0)\n",
    "                cents.append(cent)\n",
    "#                 print (cent)\n",
    "                points.append(xyz)\n",
    "#             else:\n",
    "#                 print ('cent out of region... rejected')\n",
    "    sub_plt = 0\n",
    "    if plt_images:\n",
    "        for image in images:\n",
    "           \n",
    "            sub_plt += 1\n",
    "            ax = plt.subplot(5, 5, sub_plt)\n",
    "          \n",
    "            plt.imshow(image)\n",
    "            plt.axis(\"off\")\n",
    "\n",
    "    cents = np.asarray(cents)\n",
    "    ### returns centroids found and a group of 3d coordinates that conform the centroid\n",
    "    return(cents,np.asarray(points), images)\n",
    "\n",
    "def seg_square_imgs(lower=2000, higher=50000, reg_ly=0, reg_hy=1000, reg_lx=0, reg_hx=1000, plt_images=True): \n",
    "\n",
    "#     Using kmeans for image segmentation find\n",
    "#     Lower, higher = min, max area of the box\n",
    "#     reg_ly= 30,reg_hy=600,reg_lx=0,reg_hx=1000, \n",
    "#     Region (low  x,y  region high x,y ) Only centroids within region are accepted\n",
    "    image = rgbd.get_h_image()\n",
    "    iimmg = rgbd.get_image()\n",
    "    points_data = rgbd.get_points()\n",
    "    values = image.reshape((-1,3))\n",
    "    values = np.float32(values)\n",
    "    criteria = (cv2.TERM_CRITERIA_EPS + cv2.TERM_CRITERIA_MAX_ITER  ,1000,0.1)\n",
    "    k = 6\n",
    "    _ , labels , cc = cv2.kmeans(values, k, None, criteria, 30, cv2.KMEANS_RANDOM_CENTERS)\n",
    "    cc = np.uint8(cc)\n",
    "    segmented_image = cc[labels.flatten()]\n",
    "    segmented_image = segmented_image.reshape(image.shape)\n",
    "    th3 = cv2.adaptiveThreshold(segmented_image, 255, cv2.ADAPTIVE_THRESH_GAUSSIAN_C, cv2.THRESH_BINARY, 11, 2)\n",
    "    kernel = np.ones((5, 5), np.uint8)\n",
    "    im4 = cv2.erode(th3, kernel, iterations = 4)\n",
    "    plane_mask = points_data['z']\n",
    "    cv2_img = plane_mask.astype('uint8')\n",
    "    img = im4\n",
    "    contours, hierarchy = cv2.findContours(im4.astype('uint8'),cv2.RETR_TREE,cv2.CHAIN_APPROX_SIMPLE)\n",
    "    i = 0\n",
    "    cents = []\n",
    "    points = []\n",
    "    images = []\n",
    "    for i, contour in enumerate(contours):\n",
    "        area = cv2.contourArea(contour)\n",
    "        if area > lower and area < higher :\n",
    "            M = cv2.moments(contour)\n",
    "            # calculate x,y coordinate of center\n",
    "            cX = int(M[\"m10\"] / M[\"m00\"])\n",
    "            cY = int(M[\"m01\"] / M[\"m00\"])\n",
    "            boundRect = cv2.boundingRect(contour)\n",
    "            #just for drawing rect, dont waste too much time on this\n",
    "            image_aux = iimmg[boundRect[1]:boundRect[1] + max(boundRect[3],boundRect[2]),boundRect[0]:boundRect[0]+max(boundRect[3],boundRect[2])]\n",
    "            images.append(image_aux)\n",
    "            img=cv2.rectangle(img,(boundRect[0], boundRect[1]),(boundRect[0]+boundRect[2], boundRect[1]+boundRect[3]), (0,0,0), 2)\n",
    "            #img=cv2.rectangle(img,(boundRect[0], boundRect[1]),(boundRect[0]+max(boundRect[2],boundRect[3]), boundRect[1]+max(boundRect[2],boundRect[3])), (0,0,0), 2)\n",
    "            # calculate moments for each contour\n",
    "            if (cY > reg_ly and cY < reg_hy and  cX > reg_lx and cX < reg_hx   ):\n",
    "                cv2.circle(img, (cX, cY), 5, (255, 255, 255), -1)\n",
    "                cv2.putText(img, f'centroid_{i}_{cX},{cY}', (cX - 25, cY - 25), cv2.FONT_HERSHEY_SIMPLEX, 0.9, (0, 0, 0), 2)\n",
    "                #print ('cX,cY',cX,cY)\n",
    "                xyz = []\n",
    "                for jy in range (boundRect[0], boundRect[0]+boundRect[2]):\n",
    "                    for ix in range(boundRect[1], boundRect[1]+boundRect[3]):\n",
    "                        aux=(np.asarray((points_data['x'][ix,jy],points_data['y'][ix,jy],points_data['z'][ix,jy])))\n",
    "                        if np.isnan(aux[0]) or np.isnan(aux[1]) or np.isnan(aux[2]):\n",
    "                            'reject point'\n",
    "                        else:\n",
    "                            xyz.append(aux)\n",
    "                xyz = np.asarray(xyz)\n",
    "                cent = xyz.mean(axis=0)\n",
    "                cents.append(cent)\n",
    "                #print (cent)\n",
    "                points.append(xyz)\n",
    "            else:\n",
    "                #print ('cent out of region... rejected')\n",
    "                images.pop()\n",
    "    sub_plt = 0\n",
    "    if plt_images:\n",
    "        for image in images:\n",
    "\n",
    "            sub_plt+=1\n",
    "            ax = plt.subplot(5, 5, sub_plt )\n",
    "            plt.imshow(image)\n",
    "            plt.axis(\"off\")\n",
    "    cents=np.asarray(cents)\n",
    "    #images.append(img)\n",
    "    return(cents,np.asarray(points), images)\n",
    "\n",
    "def static_tf_publish(cents):\n",
    "#     Publish tfs of the centroids obtained w.r.t. head sensor frame and references them to map (static)\n",
    "    transf = tfbuff.lookup_transform('map', 'base_link', rospy.Time(0))\n",
    "    [trans, rot] = tf2_obj_2_arr(transf)\n",
    "#     closest_centroid_index=  np.argmin(np.linalg.norm(trans-cents, axis=1))##CLOSEST CENTROID\n",
    "    closest_centroid_index = 0\n",
    "    min_D_to_base = 10\n",
    "    for  i, cent  in enumerate(cents):\n",
    "        x, y, z = cent\n",
    "        if np.isnan(x) or np.isnan(y) or np.isnan(z):\n",
    "            print('nan')\n",
    "        else:\n",
    "            t = TransformStamped()\n",
    "            t.header.stamp = rospy.Time.now()\n",
    "            t.header.frame_id = \"head_rgbd_sensor_link\"\n",
    "            t.child_frame_id = f'Object{i}'\n",
    "            t.transform.translation.x = x\n",
    "            t.transform.translation.y = y\n",
    "            t.transform.translation.z = z\n",
    "            t.transform.rotation.x = rot[0]\n",
    "            t.transform.rotation.y = rot[1]\n",
    "            t.transform.rotation.z = rot[2]\n",
    "            t.transform.rotation.w = rot[3]\n",
    "            broad.sendTransform(t)\n",
    "#             broad.sendTransform((x,y,z), rot, rospy.Time.now(), 'Object'+str(i), \"head_rgbd_sensor_link\")\n",
    "            rospy.sleep(0.5)\n",
    "            transf = tfbuff.lookup_transform('map', f'Object{i}', rospy.Time(0))\n",
    "            [xyz_map, cent_quat] = tf2_obj_2_arr(transf)\n",
    "            D_to_base = np.linalg.norm(np.asarray(trans)[:2] - np.asarray(xyz_map)[:2])\n",
    "            if D_to_base <= min_D_to_base:\n",
    "                min_D_to_base = D_to_base\n",
    "                closest_centroid_index = i\n",
    "                closest_centroid_height = xyz_map[2]\n",
    "            print ('Distance: base to obj - ', i, np.linalg.norm(np.asarray(trans)[:2] - np.asarray(xyz_map)[:2]))\n",
    "    i = closest_centroid_index\n",
    "    transf = tfbuff.lookup_transform('map', f'Object{i}', rospy.Time(0))\n",
    "    [xyz_map, cent_quat] = tf2_obj_2_arr(transf)\n",
    "    print('Height closest centroid map', xyz_map[2])\n",
    "    map_euler = tf.transformations.euler_from_quaternion(cent_quat)\n",
    "    rospy.sleep(.5)\n",
    "#     FIXING TF TO MAP ( ODOM REALLY)    \n",
    "    static_ts = TransformStamped()\n",
    "    static_ts.header.stamp = rospy.Time.now()\n",
    "    static_ts.header.frame_id = \"map\"\n",
    "    static_ts.child_frame_id = 'cassette'\n",
    "    static_ts.transform.translation.x = float(xyz_map[0])\n",
    "    static_ts.transform.translation.y = float(xyz_map[1])\n",
    "    static_ts.transform.translation.z = float(xyz_map[2])\n",
    "#     quat = tf.transformations.quaternion_from_euler(-euler[0],0,1.5)\n",
    "    static_ts.transform.rotation.x = 0#-quat[0]#trans.transform.rotation.x\n",
    "    static_ts.transform.rotation.y = 0#-quat[1]#trans.transform.rotation.y\n",
    "    static_ts.transform.rotation.z = 0#-quat[2]#trans.transform.rotation.z\n",
    "    static_ts.transform.rotation.w = 1#-quat[3]#trans.transform.rotation.w\n",
    "    print ('xyz_map', xyz_map)\n",
    "    tf_static_broad.sendTransform(static_ts)\n",
    "    return closest_centroid_height, closest_centroid_index\n",
    "def publish_point_tf(x,y,z,pointName, ref=\"map\"):\n",
    "    static_ts = TransformStamped()\n",
    "    static_ts.header.stamp = rospy.Time.now()\n",
    "    static_ts.header.frame_id = ref\n",
    "    static_ts.child_frame_id = f'Point {pointName}'\n",
    "    static_ts.transform.translation.x = x\n",
    "    static_ts.transform.translation.y = y\n",
    "    static_ts.transform.translation.z = z\n",
    "    static_ts.transform.rotation.x = 0\n",
    "    static_ts.transform.rotation.y = 0\n",
    "    static_ts.transform.rotation.z = 0\n",
    "    static_ts.transform.rotation.w = 1\n",
    "    tf_static_broad.sendTransform(static_ts)"
   ]
  },
  {
   "cell_type": "code",
   "execution_count": 38,
   "id": "da811f52",
   "metadata": {},
   "outputs": [
    {
     "name": "stdout",
     "output_type": "stream",
     "text": [
      "2\n",
      "1\n",
      "2\n",
      "11\n",
      "4\n",
      "Red = square\n"
     ]
    },
    {
     "ename": "TypeError",
     "evalue": "Expected Ptr<cv::UMat> for argument 'image'",
     "output_type": "error",
     "traceback": [
      "\u001b[0;31m---------------------------------------------------------------------------\u001b[0m",
      "\u001b[0;31mTypeError\u001b[0m                                 Traceback (most recent call last)",
      "Input \u001b[0;32mIn [38]\u001b[0m, in \u001b[0;36m<cell line: 13>\u001b[0;34m()\u001b[0m\n\u001b[1;32m     22\u001b[0m \u001b[38;5;28;01melif\u001b[39;00m \u001b[38;5;28mlen\u001b[39m(approx)\u001b[38;5;241m==\u001b[39m\u001b[38;5;241m4\u001b[39m:\n\u001b[1;32m     23\u001b[0m     \u001b[38;5;28mprint\u001b[39m(\u001b[38;5;124m\"\u001b[39m\u001b[38;5;124mRed = square\u001b[39m\u001b[38;5;124m\"\u001b[39m)\n\u001b[0;32m---> 24\u001b[0m     \u001b[43mcv\u001b[49m\u001b[38;5;241;43m.\u001b[39;49m\u001b[43mdrawContours\u001b[49m\u001b[43m(\u001b[49m\u001b[43mimg\u001b[49m\u001b[43m,\u001b[49m\u001b[43m[\u001b[49m\u001b[43mcnt\u001b[49m\u001b[43m]\u001b[49m\u001b[43m,\u001b[49m\u001b[38;5;241;43m0\u001b[39;49m\u001b[43m,\u001b[49m\u001b[43m(\u001b[49m\u001b[38;5;241;43m0\u001b[39;49m\u001b[43m,\u001b[49m\u001b[38;5;241;43m0\u001b[39;49m\u001b[43m,\u001b[49m\u001b[38;5;241;43m255\u001b[39;49m\u001b[43m)\u001b[49m\u001b[43m,\u001b[49m\u001b[38;5;241;43m-\u001b[39;49m\u001b[38;5;241;43m1\u001b[39;49m\u001b[43m)\u001b[49m\n\u001b[1;32m     25\u001b[0m \u001b[38;5;28;01melif\u001b[39;00m \u001b[38;5;28mlen\u001b[39m(approx) \u001b[38;5;241m==\u001b[39m \u001b[38;5;241m6\u001b[39m:\n\u001b[1;32m     26\u001b[0m     \u001b[38;5;28mprint\u001b[39m(\u001b[38;5;124m\"\u001b[39m\u001b[38;5;124mCyan = Hexa\u001b[39m\u001b[38;5;124m\"\u001b[39m)\n",
      "\u001b[0;31mTypeError\u001b[0m: Expected Ptr<cv::UMat> for argument 'image'"
     ]
    },
    {
     "data": {
      "image/png": "[encoded data removed]",
      "text/plain": [
       "<Figure size 432x288 with 1 Axes>"
      ]
     },
     "metadata": {
      "needs_background": "light"
     },
     "output_type": "display_data"
    }
   ],
   "source": [
    "# Shape detection\n",
    "import matplotlib.pyplot as plt\n",
    "img = rgbd.get_image()\n",
    "\n",
    "plt.imshow(img)\n",
    "# img = np\n",
    "gray = cv.cvtColor(img, cv.COLOR_BGR2GRAY)\n",
    "thresh = cv.threshold(gray, 0, 255, cv.THRESH_BINARY + cv.THRESH_OTSU)[1]\n",
    "\n",
    "ROI_number = 0\n",
    "cnts = cv.findContours(thresh, cv.RETR_EXTERNAL, cv.CHAIN_APPROX_SIMPLE)\n",
    "cnts = cnts[0] if len(cnts) == 2 else cnts[1]\n",
    "for cnt in cnts:\n",
    "    approx = cv.approxPolyDP(cnt,0.01*cv.arcLength(cnt,True),True)\n",
    "    print(len(approx))\n",
    "    if len(approx)==5:\n",
    "        print(\"Blue = pentagon\")\n",
    "        cv.drawContours(img,[cnt],0,255,-1)\n",
    "    elif len(approx)==3:\n",
    "        print(\"Green = triangle\")\n",
    "        cv.drawContours(img,[cnt],0,(0,255,0),-1)\n",
    "    elif len(approx)==4:\n",
    "        print(\"Red = square\")\n",
    "        cv.drawContours(img,[cnt],0,(0,0,255),-1)\n",
    "    elif len(approx) == 6:\n",
    "        print(\"Cyan = Hexa\")\n",
    "        cv.drawContours(img,[cnt],0,(255,255,0),-1)\n",
    "    elif len(approx) == 8:\n",
    "        print(\"White = Octa\")\n",
    "        cv.drawContours(img,[cnt],0,(255,255,255),-1)\n",
    "    elif len(approx) > 12:\n",
    "        print(\"Yellow = circle\")\n",
    "        cv.drawContours(img,[cnt],0,(0,255,255),-1)\n",
    "\n",
    "cv2.imshow('image', img)\n",
    "cv2.imshow('Binary',thresh)"
   ]
  },
  {
   "cell_type": "code",
   "execution_count": 4,
   "id": "72289e8e",
   "metadata": {},
   "outputs": [
    {
     "data": {
      "text/plain": [
       "[[0.0, 0.0]]"
      ]
     },
     "execution_count": 4,
     "metadata": {},
     "output_type": "execute_result"
    },
    {
     "name": "stderr",
     "output_type": "stream",
     "text": [
      "\u001b[33m[ WARN] [1665596638.101836859, 187.116000000]: TF_REPEATED_DATA ignoring data with redundant timestamp for frame odom at time 187.188000 according to authority /pose_integrator\u001b[0m\n",
      "\u001b[33m[ WARN] [1665596638.108287025, 187.116000000]: TF_REPEATED_DATA ignoring data with redundant timestamp for frame odom at time 187.188000 according to authority unknown_publisher\u001b[0m\n",
      "\u001b[33m[ WARN] [1665596644.558820779, 188.127000000]: TF_REPEATED_DATA ignoring data with redundant timestamp for frame odom at time 188.148000 according to authority unknown_publisher\u001b[0m\n",
      "\u001b[33m[ WARN] [1665596644.558903988, 188.127000000]: TF_REPEATED_DATA ignoring data with redundant timestamp for frame odom at time 188.148000 according to authority /pose_integrator\u001b[0m\n"
     ]
    }
   ],
   "source": [
    "rgbd.color_segmentator(color='blue')"
   ]
  },
  {
   "cell_type": "code",
   "execution_count": 10,
   "id": "a1a6caf4",
   "metadata": {},
   "outputs": [
    {
     "data": {
      "image/png": "[encoded data removed]",
      "text/plain": [
       "<Figure size 432x288 with 2 Axes>"
      ]
     },
     "metadata": {
      "needs_background": "light"
     },
     "output_type": "display_data"
    },
    {
     "data": {
      "text/plain": [
       "[[238.70561146170903, 267.14668258570697]]"
      ]
     },
     "execution_count": 10,
     "metadata": {},
     "output_type": "execute_result"
    }
   ],
   "source": [
    "# arm.set_named_target('go')\n",
    "# arm.go()\n",
    "# tiny_move_base(x=0.5,std_time=0.3)\n",
    "hcp= [0,-0.5]\n",
    "head.set_joint_value_target(hcp)\n",
    "head.go()\n",
    "color_segmentator(cam = 'head', color = 'blue',plot=True)\n",
    "goalPos = [238.7, 267.1]"
   ]
  },
  {
   "cell_type": "code",
   "execution_count": 11,
   "id": "1497bada",
   "metadata": {},
   "outputs": [
    {
     "data": {
      "image/png": "[encoded data removed]",
      "text/plain": [
       "<Figure size 432x288 with 2 Axes>"
      ]
     },
     "metadata": {
      "needs_background": "light"
     },
     "output_type": "display_data"
    },
    {
     "data": {
      "text/plain": [
       "[[301.9245657997062, 268.31642616434806]]"
      ]
     },
     "execution_count": 11,
     "metadata": {},
     "output_type": "execute_result"
    }
   ],
   "source": []
  },
  {
   "cell_type": "code",
   "execution_count": 11,
   "id": "2d336102",
   "metadata": {},
   "outputs": [],
   "source": [
    "gripper.open()"
   ]
  },
  {
   "cell_type": "code",
   "execution_count": 15,
   "id": "5a03776c",
   "metadata": {
    "scrolled": true
   },
   "outputs": [],
   "source": [
    "publish_point_tf(1,-2,2,'Object', ref='map')\n",
    "# grasp_base.tiny_move(velT=0.5)\n"
   ]
  },
  {
   "cell_type": "code",
   "execution_count": 196,
   "id": "33cdbaac",
   "metadata": {
    "scrolled": true
   },
   "outputs": [
    {
     "name": "stdout",
     "output_type": "stream",
     "text": [
      "[0.11996212191564032, -0.004904528018885301, 0.011163654656305866, -1.5699986302849658, 1.586213108223816, 0.0]\n"
     ]
    }
   ],
   "source": [
    "place_height=arm.get_current_joint_values()\n",
    "print(place_height)\n",
    "altura_optima = 0.1199\n"
   ]
  },
  {
   "cell_type": "code",
   "execution_count": 23,
   "id": "443bc5c8",
   "metadata": {
    "scrolled": true
   },
   "outputs": [
    {
     "name": "stdout",
     "output_type": "stream",
     "text": [
      "-0.6290689722429843 1.8430254781511024\n",
      "-0.6290689722429843\n",
      "-0.5458996357232055\n",
      "-0.3550002316838438\n",
      "-0.2112649509194531\n",
      "-0.11790797476636061\n",
      "-0.06387548263366954\n",
      "-0.034876784958602004\n",
      "-0.01646697987846782\n"
     ]
    }
   ],
   "source": [
    "traf = tfbuff.lookup_transform('arm_flex_link', 'Point Object', rospy.Time(0))\n",
    "trans, rot = tf2_obj_2_arr(traf)\n",
    "# print(trans,rot)\n",
    "phi = np.arctan2(trans[1],trans[0])\n",
    "base_point = np.array((trans[0], trans[1]))\n",
    "distXY = np.linalg.norm(base_point)\n",
    "print(phi, distXY)\n",
    "succ = False\n",
    "THRESHOLD = 0.02\n",
    "while not succ:\n",
    "    traf = tfbuff.lookup_transform('arm_flex_link', 'Point Object', rospy.Time(0))\n",
    "    trans, rot = tf2_obj_2_arr(traf)\n",
    "    # print(trans,rot)\n",
    "    phi = np.arctan2(trans[1],trans[0])\n",
    "    print(phi)\n",
    "    if abs(phi)< THRESHOLD:\n",
    "        succ =True\n",
    "    else:\n",
    "        grasp_base.tiny_move(velT = 0.5*phi)"
   ]
  },
  {
   "cell_type": "code",
   "execution_count": 21,
   "id": "e37eb419",
   "metadata": {
    "scrolled": true
   },
   "outputs": [
    {
     "name": "stdout",
     "output_type": "stream",
     "text": [
      "-1.4962030488427642 2.232888247295115\n"
     ]
    },
    {
     "name": "stderr",
     "output_type": "stream",
     "text": [
      "\u001b[33m[ WARN] [1665717270.994381732, 2884.217000000]: TF_REPEATED_DATA ignoring data with redundant timestamp for frame odom at time 2884.247000 according to authority /pose_integrator\u001b[0m\n",
      "\u001b[33m[ WARN] [1665717270.995241433, 2884.217000000]: TF_REPEATED_DATA ignoring data with redundant timestamp for frame odom at time 2884.247000 according to authority unknown_publisher\u001b[0m\n",
      "\u001b[33m[ WARN] [1665717281.936966114, 2885.887000000]: TF_REPEATED_DATA ignoring data with redundant timestamp for frame odom at time 2885.887000 according to authority /pose_integrator\u001b[0m\n",
      "\u001b[33m[ WARN] [1665717281.939711160, 2885.887000000]: TF_REPEATED_DATA ignoring data with redundant timestamp for frame odom at time 2885.887000 according to authority unknown_publisher\u001b[0m\n"
     ]
    }
   ],
   "source": [
    "traf = tfbuff.lookup_transform('base_link', 'Point Object', rospy.Time(0))\n",
    "trans, rot = tf2_obj_2_arr(traf)\n",
    "# print(trans,rot)\n",
    "phi = np.arctan2(trans[1],trans[0])\n",
    "dist = np.sqrt(np.square(trans[0])+np.square(trans[1]))\n",
    "print(phi, dist)"
   ]
  },
  {
   "cell_type": "code",
   "execution_count": 5,
   "id": "381e3c6c",
   "metadata": {
    "scrolled": true
   },
   "outputs": [
    {
     "name": "stderr",
     "output_type": "stream",
     "text": [
      "\u001b[33m[ WARN] [1665882665.859643946, 2312.079000000]: TF_REPEATED_DATA ignoring data with redundant timestamp for frame odom at time 2312.129000 according to authority /pose_integrator\u001b[0m\n",
      "\u001b[33m[ WARN] [1665882665.861215799, 2312.079000000]: TF_REPEATED_DATA ignoring data with redundant timestamp for frame odom at time 2312.129000 according to authority unknown_publisher\u001b[0m\n"
     ]
    },
    {
     "data": {
      "text/plain": [
       "True"
      ]
     },
     "execution_count": 5,
     "metadata": {},
     "output_type": "execute_result"
    },
    {
     "name": "stderr",
     "output_type": "stream",
     "text": [
      "\u001b[33m[ WARN] [1665882691.422585818, 2314.481000000]: TF_REPEATED_DATA ignoring data with redundant timestamp for frame odom at time 2314.573000 according to authority /pose_integrator\u001b[0m\n",
      "\u001b[33m[ WARN] [1665882691.427626157, 2314.481000000]: TF_REPEATED_DATA ignoring data with redundant timestamp for frame odom at time 2314.573000 according to authority unknown_publisher\u001b[0m\n",
      "\u001b[33m[ WARN] [1665882701.060421785, 2315.472000000]: TF_REPEATED_DATA ignoring data with redundant timestamp for frame odom at time 2315.529000 according to authority /pose_integrator\u001b[0m\n",
      "\u001b[33m[ WARN] [1665882701.063515133, 2315.472000000]: TF_REPEATED_DATA ignoring data with redundant timestamp for frame odom at time 2315.529000 according to authority unknown_publisher\u001b[0m\n",
      "\u001b[33m[ WARN] [1665882709.393587006, 2316.612000000]: TF_REPEATED_DATA ignoring data with redundant timestamp for frame odom at time 2316.642000 according to authority unknown_publisher\u001b[0m\n",
      "\u001b[33m[ WARN] [1665882709.395958520, 2316.612000000]: TF_REPEATED_DATA ignoring data with redundant timestamp for frame odom at time 2316.642000 according to authority /pose_integrator\u001b[0m\n",
      "\u001b[33m[ WARN] [1665882728.271346206, 2319.039000000]: TF_REPEATED_DATA ignoring data with redundant timestamp for frame odom at time 2319.075000 according to authority /pose_integrator\u001b[0m\n",
      "\u001b[33m[ WARN] [1665882728.272000077, 2319.039000000]: TF_REPEATED_DATA ignoring data with redundant timestamp for frame odom at time 2319.075000 according to authority unknown_publisher\u001b[0m\n"
     ]
    }
   ],
   "source": [
    "# grasp_base.tiny_move(velT=0.5)\n",
    "acp= arm.get_current_joint_values()\n",
    "acp[1] =-0.5\n",
    "arm.set_joint_value_target(acp)\n",
    "# arm.set_named_target('neutral')\n",
    "arm.go()"
   ]
  },
  {
   "cell_type": "code",
   "execution_count": 11,
   "id": "4c48d616",
   "metadata": {},
   "outputs": [
    {
     "data": {
      "text/plain": [
       "False"
      ]
     },
     "execution_count": 11,
     "metadata": {},
     "output_type": "execute_result"
    }
   ],
   "source": [
    "hcp= [0,0.0]\n",
    "head.set_joint_value_target(hcp)\n",
    "head.go()"
   ]
  },
  {
   "cell_type": "code",
   "execution_count": null,
   "id": "6faccdd5",
   "metadata": {},
   "outputs": [],
   "source": []
  },
  {
   "cell_type": "code",
   "execution_count": 13,
   "id": "e7fb5c6a",
   "metadata": {
    "scrolled": true
   },
   "outputs": [
    {
     "name": "stdout",
     "output_type": "stream",
     "text": [
      "0.35678527967003004\n",
      "[ 0.35597752 -0.18270493  0.21869283]\n"
     ]
    },
    {
     "name": "stderr",
     "output_type": "stream",
     "text": [
      "\u001b[33m[ WARN] [1665795105.836013329, 3886.441000000]: TF_REPEATED_DATA ignoring data with redundant timestamp for frame odom at time 3886.452000 according to authority /pose_integrator\u001b[0m\n",
      "\u001b[33m[ WARN] [1665795105.837802203, 3886.441000000]: TF_REPEATED_DATA ignoring data with redundant timestamp for frame odom at time 3886.452000 according to authority unknown_publisher\u001b[0m\n"
     ]
    }
   ],
   "source": [
    "# Calculo de la lambda necesaria para el efector final a partir del arm_roll_link\n",
    "arm_link = 'arm_flex_link'\n",
    "# arm_link = 'arm_roll_link'\n",
    "traf_arl = tfbuff.lookup_transform(\"base_link\",arm_link, rospy.Time(0)) #arm_roll_link\n",
    "traf_point = tfbuff.lookup_transform(\"base_link\",\"Point Object\", rospy.Time(0))\n",
    "A, _ = tf2_obj_2_arr(traf_arl) #Vector de posicion ARL\n",
    "B, _ = tf2_obj_2_arr(traf_point) #Vector de posicion de objeto\n",
    "# print(trans1,trans2)\n",
    "A=np.array(A)\n",
    "B=np.array(B)\n",
    "V = np.add(-1*A,B) #Vector de direccion AB\n",
    "# V=V*(1/abs(V))\n",
    "# print(V)\n",
    "traf_wrist = tfbuff.lookup_transform(arm_link,\"hand_palm_link\", rospy.Time(0))\n",
    "trans3, _ = tf2_obj_2_arr(traf_wrist)\n",
    "distance=np.linalg.norm(trans3)\n",
    "\n",
    "V2= [n**2 for n in V]\n",
    "V2=np.sum(V2)\n",
    "\n",
    "l1 = distance/np.sqrt(V2)\n",
    "print(l1)\n",
    "\n",
    "# print(vector_dir)\n",
    "posicion = np.add(A,V*1*l1)\n",
    "\n",
    "print(posicion)\n",
    "publish_point_tf(posicion[0],posicion[1],posicion[2], 'posicion',ref='base_link')\n"
   ]
  },
  {
   "cell_type": "code",
   "execution_count": 8,
   "id": "4051dbab",
   "metadata": {},
   "outputs": [],
   "source": [
    "def point_at(target=\"Point Object\",alpha =0.0):\n",
    "#     arm.set_named_target('neutral')\n",
    "#     arm.go()\n",
    "    arm_f = 'arm_flex_link'\n",
    "    arm_r= 'arm_roll_link'\n",
    "    afl = tfbuff.lookup_transform(arm_f,\"Point Object\", rospy.Time(0)) #arm_roll_link\n",
    "    arl = tfbuff.lookup_transform(arm_r,\"Point Object\", rospy.Time(0))\n",
    "    al = tfbuff.lookup_transform(arm_f,arm_r, rospy.Time(0))\n",
    "    afl, _ = tf2_obj_2_arr(afl) #Vector de posicion Arm Flex Link (codo)\n",
    "    arl, _ = tf2_obj_2_arr(arl) #Vector de posicion Arm Roll Link (muñeca)\n",
    "    al,_ = tf2_obj_2_arr(al) #Medida del brazo\n",
    "    \n",
    "    FR=al[2]\n",
    "    RO= np.sqrt(arl[0]**2+arl[2]**2)\n",
    "##geometria con 1 angulo\n",
    "    z = afl[2]\n",
    "    p = afl[0]\n",
    "    xi = np.arctan2(p,z)\n",
    "#     print(xi)\n",
    "    beta = np.arcsin((-FR*np.sin(alpha+xi))/RO)+alpha+xi\n",
    "    return alpha,beta   "
   ]
  },
  {
   "cell_type": "code",
   "execution_count": 16,
   "id": "17815c9d",
   "metadata": {
    "scrolled": true
   },
   "outputs": [
    {
     "name": "stdout",
     "output_type": "stream",
     "text": [
      "0.2 0.9471702345397318\n"
     ]
    }
   ],
   "source": [
    "point_pose=arm.get_current_joint_values()\n",
    "# point_pose[1]=-alpha\n",
    "# point_pose[3]=-np.pi+beta\n",
    "# arm.set_joint_value_target(point_pose)\n",
    "# arm.set_named_target('neutral')\n",
    "arm.set_named_target('neutral')\n",
    "arm.go()\n",
    "a = 0.2\n",
    "while(a < 2.61):\n",
    "    alpha,beta =point_at(alpha=a)\n",
    "    print(alpha,beta)\n",
    "    point_pose[1]=-alpha\n",
    "    point_pose[3]=-beta\n",
    "    try:\n",
    "        arm.set_joint_value_target(point_pose)\n",
    "        succ=arm.go()\n",
    "        if(succ):\n",
    "            a=5\n",
    "    except:\n",
    "        a+=0.05\n",
    "        "
   ]
  },
  {
   "cell_type": "code",
   "execution_count": 16,
   "id": "6286289c",
   "metadata": {
    "scrolled": true
   },
   "outputs": [
    {
     "name": "stderr",
     "output_type": "stream",
     "text": [
      "\u001b[33m[ WARN] [1665883978.213555881, 2492.070000000]: TF_REPEATED_DATA ignoring data with redundant timestamp for frame odom at time 2492.109000 according to authority /pose_integrator\u001b[0m\n",
      "\u001b[33m[ WARN] [1665883978.216365871, 2492.070000000]: TF_REPEATED_DATA ignoring data with redundant timestamp for frame odom at time 2492.109000 according to authority unknown_publisher\u001b[0m\n",
      "\u001b[33m[ WARN] [1665883984.728594361, 2493.055000000]: TF_REPEATED_DATA ignoring data with redundant timestamp for frame odom at time 2493.097000 according to authority /pose_integrator\u001b[0m\n",
      "\u001b[33m[ WARN] [1665883984.729684673, 2493.055000000]: TF_REPEATED_DATA ignoring data with redundant timestamp for frame odom at time 2493.097000 according to authority unknown_publisher\u001b[0m\n",
      "\u001b[33m[ WARN] [1665883999.659490285, 2495.356000000]: TF_REPEATED_DATA ignoring data with redundant timestamp for frame odom at time 2495.416000 according to authority /pose_integrator\u001b[0m\n",
      "\u001b[33m[ WARN] [1665883999.659855039, 2495.356000000]: TF_REPEATED_DATA ignoring data with redundant timestamp for frame odom at time 2495.416000 according to authority unknown_publisher\u001b[0m\n",
      "\u001b[33m[ WARN] [1665884001.815316874, 2495.651000000]: TF_REPEATED_DATA ignoring data with redundant timestamp for frame odom at time 2495.687000 according to authority unknown_publisher\u001b[0m\n",
      "\u001b[33m[ WARN] [1665884001.815427042, 2495.651000000]: TF_REPEATED_DATA ignoring data with redundant timestamp for frame odom at time 2495.687000 according to authority /pose_integrator\u001b[0m\n",
      "\u001b[33m[ WARN] [1665884006.189892648, 2496.370000000]: TF_REPEATED_DATA ignoring data with redundant timestamp for frame odom at time 2496.370000 according to authority /pose_integrator\u001b[0m\n",
      "\u001b[33m[ WARN] [1665884006.194802445, 2496.370000000]: TF_REPEATED_DATA ignoring data with redundant timestamp for frame odom at time 2496.370000 according to authority unknown_publisher\u001b[0m\n",
      "\u001b[33m[ WARN] [1665884020.002295301, 2498.209000000]: TF_REPEATED_DATA ignoring data with redundant timestamp for frame odom at time 2498.274000 according to authority unknown_publisher\u001b[0m\n",
      "\u001b[33m[ WARN] [1665884020.004755606, 2498.209000000]: TF_REPEATED_DATA ignoring data with redundant timestamp for frame odom at time 2498.274000 according to authority /pose_integrator\u001b[0m\n"
     ]
    },
    {
     "data": {
      "text/plain": [
       "True"
      ]
     },
     "execution_count": 16,
     "metadata": {},
     "output_type": "execute_result"
    }
   ],
   "source": [
    "arm.set_named_target('neutral')\n",
    "arm.go()\n",
    "\n",
    "# arm.set_pose_reference_frame('base_link')\n",
    "# arm.get_pose_reference_frame()"
   ]
  },
  {
   "cell_type": "code",
   "execution_count": 19,
   "id": "ea2ffb9f",
   "metadata": {},
   "outputs": [],
   "source": [
    "# traf = tfbuff.lookup_transform(\"head_rgbd_sensor_gazebo_frame\",\"base_link\", rospy.Time(0))\n",
    "# print(traf)\n",
    "class GAZE():\n",
    "    def __init__(self):\n",
    "        self._x = 0\n",
    "        self._y = 0\n",
    "        self._z = 0\n",
    "        self._reference = 'map'\n",
    "        self._cam = 'head_rgbd_sensor_gazebo_frame'\n",
    "        self._base = 'base_link'\n",
    "        self._hand = 'hand_palm_link'\n",
    "    def _gaze_point(self):\n",
    "    ###Moves head to make center point of rgbd image to coordinates w.r.t.map\n",
    "        traf1 = tfbuff.lookup_transform(self._reference, self._cam, rospy.Time(0))\n",
    "        rospy.sleep(0.5)\n",
    "        traf2 = tfbuff.lookup_transform(self._reference, self._base, rospy.Time(0)) \n",
    "        trans,_ = tf2_obj_2_arr(traf1)\n",
    "        _, rot = tf2_obj_2_arr(traf2)\n",
    "        e = tf.transformations.euler_from_quaternion(rot)\n",
    "\n",
    "        x_rob, y_rob, z_rob, th_rob = trans[0], trans[1], trans[2], e[2]\n",
    "\n",
    "        D_x = x_rob - self._x\n",
    "        D_y = y_rob - self._y\n",
    "        D_z = z_rob - self._z\n",
    "        D_th = np.arctan2(D_y,D_x)\n",
    "        pan_correct = (- th_rob + D_th + np.pi) % (2*np.pi)\n",
    "        if(pan_correct > np.pi):\n",
    "            pan_correct -= 2*np.pi\n",
    "        if(pan_correct < -np.pi):\n",
    "            pan_correct += 2*np.pi\n",
    "\n",
    "        if ((pan_correct) > .5 * np.pi):\n",
    "            print ('Exorcist alert')\n",
    "            pan_correct=.5*np.pi\n",
    "        head_pose = [0,0]\n",
    "        head_pose[0] = pan_correct\n",
    "        tilt_correct = np.arctan2(D_z,np.linalg.norm((D_x,D_y)))\n",
    "        head_pose [1] = -tilt_correct\n",
    "        return head_pose\n",
    "    \n",
    "    def absolute(self, x, y, z):\n",
    "        self._x = x\n",
    "        self._y = y\n",
    "        self._z = z\n",
    "        self._reference = 'map'\n",
    "        return self._gaze_point()\n",
    "    def relative(self, x, y, z):\n",
    "        self._x = x\n",
    "        self._y = y\n",
    "        self._z = z\n",
    "        self._reference = 'base_link'\n",
    "        return self._gaze_point()\n",
    "    def hand(self, x, y, z):\n",
    "        self._x = x\n",
    "        self._y = y\n",
    "        self._z = z\n",
    "        self._reference = 'base_link'"
   ]
  },
  {
   "cell_type": "code",
   "execution_count": 21,
   "id": "f40bee55",
   "metadata": {
    "scrolled": true
   },
   "outputs": [
    {
     "data": {
      "text/plain": [
       "True"
      ]
     },
     "execution_count": 21,
     "metadata": {},
     "output_type": "execute_result"
    }
   ],
   "source": [
    "gaze = GAZE()\n",
    "hcp = gaze.relative(2,1,0)\n",
    "head.set_joint_value_target(hcp)\n",
    "head.go()"
   ]
  },
  {
   "cell_type": "code",
   "execution_count": 38,
   "id": "1a7e0823",
   "metadata": {
    "scrolled": true
   },
   "outputs": [
    {
     "name": "stderr",
     "output_type": "stream",
     "text": [
      "\u001b[33m[ WARN] [1665772537.230576884, 2743.043000000]: TF_REPEATED_DATA ignoring data with redundant timestamp for frame odom at time 2743.090000 according to authority unknown_publisher\u001b[0m\n",
      "\u001b[33m[ WARN] [1665772537.233703701, 2743.043000000]: TF_REPEATED_DATA ignoring data with redundant timestamp for frame odom at time 2743.090000 according to authority /pose_integrator\u001b[0m\n",
      "\u001b[33m[ WARN] [1665772538.172287281, 2743.256000000]: TF_REPEATED_DATA ignoring data with redundant timestamp for frame odom at time 2743.294000 according to authority /pose_integrator\u001b[0m\n",
      "\u001b[33m[ WARN] [1665772538.172902152, 2743.256000000]: TF_REPEATED_DATA ignoring data with redundant timestamp for frame odom at time 2743.294000 according to authority unknown_publisher\u001b[0m\n",
      "\u001b[33m[ WARN] [1665772550.443827223, 2745.492000000]: TF_REPEATED_DATA ignoring data with redundant timestamp for frame odom at time 2745.550000 according to authority unknown_publisher\u001b[0m\n",
      "\u001b[33m[ WARN] [1665772550.456216027, 2745.492000000]: TF_REPEATED_DATA ignoring data with redundant timestamp for frame odom at time 2745.550000 according to authority /pose_integrator\u001b[0m\n",
      "\u001b[33m[ WARN] [1665772561.721847062, 2747.643000000]: TF_REPEATED_DATA ignoring data with redundant timestamp for frame odom at time 2747.643000 according to authority unknown_publisher\u001b[0m\n",
      "\u001b[33m[ WARN] [1665772561.736599163, 2747.643000000]: TF_REPEATED_DATA ignoring data with redundant timestamp for frame odom at time 2747.643000 according to authority /pose_integrator\u001b[0m\n"
     ]
    },
    {
     "ename": "NameError",
     "evalue": "name 'e' is not defined",
     "output_type": "error",
     "traceback": [
      "\u001b[0;31m---------------------------------------------------------------------------\u001b[0m",
      "\u001b[0;31mNameError\u001b[0m                                 Traceback (most recent call last)",
      "Input \u001b[0;32mIn [38]\u001b[0m, in \u001b[0;36m<cell line: 11>\u001b[0;34m()\u001b[0m\n\u001b[1;32m      2\u001b[0m arm\u001b[38;5;241m.\u001b[39mgo()\n\u001b[1;32m      3\u001b[0m \u001b[38;5;66;03m# traf1 = tfbuff.lookup_transform('base_link','hand_palm_link', rospy.Time(0))\u001b[39;00m\n\u001b[1;32m      4\u001b[0m \u001b[38;5;66;03m# _,rot = tf2_obj_2_arr(traf1)\u001b[39;00m\n\u001b[1;32m      5\u001b[0m \u001b[38;5;66;03m# e = tf.transformations.euler_from_quaternion(rot)\u001b[39;00m\n\u001b[0;32m   (...)\u001b[0m\n\u001b[1;32m      9\u001b[0m \u001b[38;5;66;03m# rot[1] = e[1] + 1.57\u001b[39;00m\n\u001b[1;32m     10\u001b[0m \u001b[38;5;66;03m# rot[2] = e[2]\u001b[39;00m\n\u001b[0;32m---> 11\u001b[0m \u001b[38;5;28mprint\u001b[39m(\u001b[43me\u001b[49m)\n",
      "\u001b[0;31mNameError\u001b[0m: name 'e' is not defined"
     ]
    },
    {
     "name": "stderr",
     "output_type": "stream",
     "text": [
      "\u001b[33m[ WARN] [1665772567.499296082, 2748.552000000]: TF_REPEATED_DATA ignoring data with redundant timestamp for frame odom at time 2748.552000 according to authority unknown_publisher\u001b[0m\n",
      "\u001b[33m[ WARN] [1665772567.518603920, 2748.559000000]: TF_REPEATED_DATA ignoring data with redundant timestamp for frame odom at time 2748.552000 according to authority /pose_integrator\u001b[0m\n",
      "\u001b[33m[ WARN] [1665772582.563667281, 2751.006000000]: TF_REPEATED_DATA ignoring data with redundant timestamp for frame odom at time 2751.034000 according to authority unknown_publisher\u001b[0m\n",
      "\u001b[33m[ WARN] [1665772582.565756860, 2751.034000000]: TF_REPEATED_DATA ignoring data with redundant timestamp for frame odom at time 2751.034000 according to authority /pose_integrator\u001b[0m\n",
      "\u001b[33m[ WARN] [1665772584.309398714, 2751.295000000]: TF_REPEATED_DATA ignoring data with redundant timestamp for frame odom at time 2751.367000 according to authority /pose_integrator\u001b[0m\n",
      "\u001b[33m[ WARN] [1665772584.314123028, 2751.295000000]: TF_REPEATED_DATA ignoring data with redundant timestamp for frame odom at time 2751.367000 according to authority unknown_publisher\u001b[0m\n",
      "\u001b[33m[ WARN] [1665772595.268492382, 2752.663000000]: TF_REPEATED_DATA ignoring data with redundant timestamp for frame odom at time 2752.687000 according to authority /pose_integrator\u001b[0m\n",
      "\u001b[33m[ WARN] [1665772595.268964483, 2752.663000000]: TF_REPEATED_DATA ignoring data with redundant timestamp for frame odom at time 2752.687000 according to authority unknown_publisher\u001b[0m\n",
      "\u001b[33m[ WARN] [1665772597.378793488, 2752.937000000]: TF_REPEATED_DATA ignoring data with redundant timestamp for frame odom at time 2752.969000 according to authority /pose_integrator\u001b[0m\n",
      "\u001b[33m[ WARN] [1665772597.379253926, 2752.937000000]: TF_REPEATED_DATA ignoring data with redundant timestamp for frame odom at time 2752.969000 according to authority unknown_publisher\u001b[0m\n",
      "\u001b[33m[ WARN] [1665772602.934330213, 2753.714000000]: TF_REPEATED_DATA ignoring data with redundant timestamp for frame odom at time 2753.740000 according to authority /pose_integrator\u001b[0m\n",
      "\u001b[33m[ WARN] [1665772602.934543439, 2753.714000000]: TF_REPEATED_DATA ignoring data with redundant timestamp for frame odom at time 2753.740000 according to authority unknown_publisher\u001b[0m\n",
      "\u001b[33m[ WARN] [1665772603.495770941, 2753.823000000]: TF_REPEATED_DATA ignoring data with redundant timestamp for frame odom at time 2753.852000 according to authority /pose_integrator\u001b[0m\n",
      "\u001b[33m[ WARN] [1665772603.497308813, 2753.823000000]: TF_REPEATED_DATA ignoring data with redundant timestamp for frame odom at time 2753.852000 according to authority unknown_publisher\u001b[0m\n",
      "\u001b[33m[ WARN] [1665772612.305517964, 2755.353000000]: TF_REPEATED_DATA ignoring data with redundant timestamp for frame odom at time 2755.387000 according to authority /pose_integrator\u001b[0m\n",
      "\u001b[33m[ WARN] [1665772612.307059833, 2755.353000000]: TF_REPEATED_DATA ignoring data with redundant timestamp for frame odom at time 2755.387000 according to authority unknown_publisher\u001b[0m\n"
     ]
    }
   ],
   "source": [
    "arm.set_named_target('neutral')\n",
    "arm.go()\n",
    "# traf1 = tfbuff.lookup_transform('base_link','hand_palm_link', rospy.Time(0))\n",
    "# _,rot = tf2_obj_2_arr(traf1)\n",
    "# e = tf.transformations.euler_from_quaternion(rot)\n",
    "# print(e)\n",
    "# rot=[0,0,0]\n",
    "# rot[0] = e[0] + 3.14\n",
    "# rot[1] = e[1] + 1.57\n",
    "# rot[2] = e[2]\n",
    "print(e)\n",
    "# ori = tf.transformations.quaternion_from_euler(rot[0],rot[1], rot[2])\n",
    "# arm.set_rpy_target([3.14,0,0])\n",
    "# arm.go()"
   ]
  },
  {
   "cell_type": "code",
   "execution_count": 22,
   "id": "8dde586e",
   "metadata": {
    "scrolled": true
   },
   "outputs": [],
   "source": [
    "grasp_base.tiny_move(velT=0.5)"
   ]
  },
  {
   "cell_type": "code",
   "execution_count": 34,
   "id": "68a2efad",
   "metadata": {
    "scrolled": true
   },
   "outputs": [
    {
     "name": "stdout",
     "output_type": "stream",
     "text": [
      "0.8042043844640404\n"
     ]
    },
    {
     "name": "stderr",
     "output_type": "stream",
     "text": [
      "\u001b[33m[ WARN] [1665623172.079860945, 430.524000000]: TF_REPEATED_DATA ignoring data with redundant timestamp for frame odom at time 430.545000 according to authority unknown_publisher\u001b[0m\n",
      "\u001b[33m[ WARN] [1665623172.107544968, 430.545000000]: TF_REPEATED_DATA ignoring data with redundant timestamp for frame odom at time 430.545000 according to authority /pose_integrator\u001b[0m\n"
     ]
    },
    {
     "name": "stdout",
     "output_type": "stream",
     "text": [
      "0.9627343380237757\n"
     ]
    },
    {
     "name": "stderr",
     "output_type": "stream",
     "text": [
      "\u001b[33m[ WARN] [1665623178.398525695, 431.286000000]: TF_REPEATED_DATA ignoring data with redundant timestamp for frame odom at time 431.346000 according to authority /pose_integrator\u001b[0m\n",
      "\u001b[33m[ WARN] [1665623178.401029254, 431.286000000]: TF_REPEATED_DATA ignoring data with redundant timestamp for frame odom at time 431.346000 according to authority unknown_publisher\u001b[0m\n"
     ]
    },
    {
     "name": "stdout",
     "output_type": "stream",
     "text": [
      "1.227817450702567\n"
     ]
    },
    {
     "name": "stderr",
     "output_type": "stream",
     "text": [
      "\u001b[33m[ WARN] [1665623181.641059997, 431.661000000]: TF_REPEATED_DATA ignoring data with redundant timestamp for frame odom at time 431.697000 according to authority unknown_publisher\u001b[0m\n",
      "\u001b[33m[ WARN] [1665623181.641936006, 431.661000000]: TF_REPEATED_DATA ignoring data with redundant timestamp for frame odom at time 431.697000 according to authority /pose_integrator\u001b[0m\n"
     ]
    },
    {
     "name": "stdout",
     "output_type": "stream",
     "text": [
      "1.474250966833053\n"
     ]
    },
    {
     "name": "stderr",
     "output_type": "stream",
     "text": [
      "\u001b[33m[ WARN] [1665623186.121919611, 432.384000000]: TF_REPEATED_DATA ignoring data with redundant timestamp for frame odom at time 432.429000 according to authority unknown_publisher\u001b[0m\n",
      "\u001b[33m[ WARN] [1665623186.134344189, 432.384000000]: TF_REPEATED_DATA ignoring data with redundant timestamp for frame odom at time 432.429000 according to authority /pose_integrator\u001b[0m\n"
     ]
    },
    {
     "name": "stdout",
     "output_type": "stream",
     "text": [
      "1.7304860238569821\n",
      "1.9436754175419153\n"
     ]
    },
    {
     "name": "stderr",
     "output_type": "stream",
     "text": [
      "\u001b[33m[ WARN] [1665623195.792203083, 433.569000000]: TF_REPEATED_DATA ignoring data with redundant timestamp for frame odom at time 433.590000 according to authority unknown_publisher\u001b[0m\n",
      "\u001b[33m[ WARN] [1665623195.794491022, 433.569000000]: TF_REPEATED_DATA ignoring data with redundant timestamp for frame odom at time 433.590000 according to authority /pose_integrator\u001b[0m\n"
     ]
    },
    {
     "name": "stdout",
     "output_type": "stream",
     "text": [
      "2.1881240948556053\n",
      "2.419387873087577\n"
     ]
    },
    {
     "name": "stderr",
     "output_type": "stream",
     "text": [
      "\u001b[33m[ WARN] [1665623200.528027022, 434.259000000]: TF_REPEATED_DATA ignoring data with redundant timestamp for frame odom at time 434.304000 according to authority /pose_integrator\u001b[0m\n",
      "\u001b[33m[ WARN] [1665623200.529587045, 434.259000000]: TF_REPEATED_DATA ignoring data with redundant timestamp for frame odom at time 434.304000 according to authority unknown_publisher\u001b[0m\n"
     ]
    },
    {
     "name": "stdout",
     "output_type": "stream",
     "text": [
      "2.6639739419958235\n",
      "2.934356938426432\n",
      "3.1574973029198388\n"
     ]
    },
    {
     "name": "stderr",
     "output_type": "stream",
     "text": [
      "\u001b[33m[ WARN] [1665623212.893324530, 435.981000000]: TF_REPEATED_DATA ignoring data with redundant timestamp for frame odom at time 436.023000 according to authority unknown_publisher\u001b[0m\n",
      "\u001b[33m[ WARN] [1665623212.895272347, 435.981000000]: TF_REPEATED_DATA ignoring data with redundant timestamp for frame odom at time 436.023000 according to authority /pose_integrator\u001b[0m\n"
     ]
    },
    {
     "name": "stdout",
     "output_type": "stream",
     "text": [
      "3.408525729593331\n",
      "3.6601616117578124\n",
      "3.8935089946995727\n",
      "4.134903790481864\n",
      "4.41233921939955\n"
     ]
    },
    {
     "name": "stderr",
     "output_type": "stream",
     "text": [
      "\u001b[33m[ WARN] [1665623234.706972788, 438.360000000]: TF_REPEATED_DATA ignoring data with redundant timestamp for frame odom at time 438.411000 according to authority unknown_publisher\u001b[0m\n",
      "\u001b[33m[ WARN] [1665623234.709088697, 438.360000000]: TF_REPEATED_DATA ignoring data with redundant timestamp for frame odom at time 438.411000 according to authority /pose_integrator\u001b[0m\n"
     ]
    },
    {
     "name": "stdout",
     "output_type": "stream",
     "text": [
      "4.664969414303059\n",
      "-1.3540786659722648\n"
     ]
    },
    {
     "name": "stderr",
     "output_type": "stream",
     "text": [
      "\u001b[33m[ WARN] [1665623245.578816394, 439.650000000]: TF_REPEATED_DATA ignoring data with redundant timestamp for frame odom at time 439.668000 according to authority unknown_publisher\u001b[0m\n",
      "\u001b[33m[ WARN] [1665623245.579854765, 439.650000000]: TF_REPEATED_DATA ignoring data with redundant timestamp for frame odom at time 439.668000 according to authority /pose_integrator\u001b[0m\n"
     ]
    },
    {
     "name": "stdout",
     "output_type": "stream",
     "text": [
      "-1.5624566796020911\n"
     ]
    },
    {
     "name": "stderr",
     "output_type": "stream",
     "text": [
      "\u001b[33m[ WARN] [1665623246.886324475, 439.773000000]: TF_REPEATED_DATA ignoring data with redundant timestamp for frame odom at time 439.836000 according to authority /pose_integrator\u001b[0m\n",
      "\u001b[33m[ WARN] [1665623246.888148309, 439.773000000]: TF_REPEATED_DATA ignoring data with redundant timestamp for frame odom at time 439.836000 according to authority unknown_publisher\u001b[0m\n",
      "\u001b[33m[ WARN] [1665623248.604699516, 440.025000000]: TF_REPEATED_DATA ignoring data with redundant timestamp for frame odom at time 440.025000 according to authority unknown_publisher\u001b[0m\n",
      "\u001b[33m[ WARN] [1665623248.626293776, 440.025000000]: TF_REPEATED_DATA ignoring data with redundant timestamp for frame odom at time 440.025000 according to authority /pose_integrator\u001b[0m\n"
     ]
    },
    {
     "name": "stdout",
     "output_type": "stream",
     "text": [
      "4.487474235895136\n",
      "4.667659309994933\n"
     ]
    },
    {
     "name": "stderr",
     "output_type": "stream",
     "text": [
      "\u001b[33m[ WARN] [1665623255.312984239, 440.703000000]: TF_REPEATED_DATA ignoring data with redundant timestamp for frame odom at time 440.787000 according to authority unknown_publisher\u001b[0m\n",
      "\u001b[33m[ WARN] [1665623255.331032218, 440.787000000]: TF_REPEATED_DATA ignoring data with redundant timestamp for frame odom at time 440.787000 according to authority /pose_integrator\u001b[0m\n",
      "\u001b[33m[ WARN] [1665623258.029371676, 441.060000000]: TF_REPEATED_DATA ignoring data with redundant timestamp for frame odom at time 441.096000 according to authority unknown_publisher\u001b[0m\n",
      "\u001b[33m[ WARN] [1665623258.039671915, 441.060000000]: TF_REPEATED_DATA ignoring data with redundant timestamp for frame odom at time 441.096000 according to authority /pose_integrator\u001b[0m\n"
     ]
    },
    {
     "name": "stdout",
     "output_type": "stream",
     "text": [
      "-1.3638119986572717\n"
     ]
    },
    {
     "name": "stderr",
     "output_type": "stream",
     "text": [
      "\u001b[33m[ WARN] [1665623264.167902253, 441.669000000]: TF_REPEATED_DATA ignoring data with redundant timestamp for frame odom at time 441.756000 according to authority /pose_integrator\u001b[0m\n",
      "\u001b[33m[ WARN] [1665623264.176762968, 441.669000000]: TF_REPEATED_DATA ignoring data with redundant timestamp for frame odom at time 441.756000 according to authority unknown_publisher\u001b[0m\n"
     ]
    },
    {
     "name": "stdout",
     "output_type": "stream",
     "text": [
      "-1.4151915529706867\n"
     ]
    },
    {
     "name": "stderr",
     "output_type": "stream",
     "text": [
      "\u001b[33m[ WARN] [1665623265.497318535, 441.873000000]: TF_REPEATED_DATA ignoring data with redundant timestamp for frame odom at time 441.903000 according to authority unknown_publisher\u001b[0m\n",
      "\u001b[33m[ WARN] [1665623265.506412748, 441.873000000]: TF_REPEATED_DATA ignoring data with redundant timestamp for frame odom at time 441.903000 according to authority /pose_integrator\u001b[0m\n",
      "\u001b[33m[ WARN] [1665623267.878054307, 442.104000000]: TF_REPEATED_DATA ignoring data with redundant timestamp for frame odom at time 442.140000 according to authority /pose_integrator\u001b[0m\n",
      "\u001b[33m[ WARN] [1665623267.880019822, 442.104000000]: TF_REPEATED_DATA ignoring data with redundant timestamp for frame odom at time 442.140000 according to authority unknown_publisher\u001b[0m\n"
     ]
    },
    {
     "name": "stdout",
     "output_type": "stream",
     "text": [
      "4.615697600946868\n"
     ]
    },
    {
     "name": "stderr",
     "output_type": "stream",
     "text": [
      "\u001b[33m[ WARN] [1665623270.285622313, 442.383000000]: TF_REPEATED_DATA ignoring data with redundant timestamp for frame odom at time 442.422000 according to authority /pose_integrator\u001b[0m\n",
      "\u001b[33m[ WARN] [1665623270.292976313, 442.383000000]: TF_REPEATED_DATA ignoring data with redundant timestamp for frame odom at time 442.422000 according to authority unknown_publisher\u001b[0m\n",
      "\u001b[33m[ WARN] [1665623271.999579018, 442.599000000]: TF_REPEATED_DATA ignoring data with redundant timestamp for frame odom at time 442.626000 according to authority unknown_publisher\u001b[0m\n",
      "\u001b[33m[ WARN] [1665623272.001248232, 442.599000000]: TF_REPEATED_DATA ignoring data with redundant timestamp for frame odom at time 442.626000 according to authority /pose_integrator\u001b[0m\n"
     ]
    },
    {
     "name": "stdout",
     "output_type": "stream",
     "text": [
      "-1.5802119505662389\n",
      "4.6589315749711115\n",
      "-1.4430394984445338\n"
     ]
    },
    {
     "name": "stderr",
     "output_type": "stream",
     "text": [
      "\u001b[33m[ WARN] [1665623283.838331838, 444.258000000]: TF_REPEATED_DATA ignoring data with redundant timestamp for frame odom at time 444.303000 according to authority /pose_integrator\u001b[0m\n",
      "\u001b[33m[ WARN] [1665623283.840466262, 444.258000000]: TF_REPEATED_DATA ignoring data with redundant timestamp for frame odom at time 444.303000 according to authority unknown_publisher\u001b[0m\n",
      "\u001b[33m[ WARN] [1665623285.206781637, 444.369000000]: TF_REPEATED_DATA ignoring data with redundant timestamp for frame odom at time 444.414000 according to authority unknown_publisher\u001b[0m\n",
      "\u001b[33m[ WARN] [1665623285.215603913, 444.369000000]: TF_REPEATED_DATA ignoring data with redundant timestamp for frame odom at time 444.414000 according to authority /pose_integrator\u001b[0m\n"
     ]
    },
    {
     "name": "stdout",
     "output_type": "stream",
     "text": [
      "-1.5959959081960315\n",
      "4.402760262146424\n"
     ]
    },
    {
     "name": "stderr",
     "output_type": "stream",
     "text": [
      "\u001b[33m[ WARN] [1665623290.656490580, 445.008000000]: TF_REPEATED_DATA ignoring data with redundant timestamp for frame odom at time 445.035000 according to authority /pose_integrator\u001b[0m\n",
      "\u001b[33m[ WARN] [1665623290.659464316, 445.008000000]: TF_REPEATED_DATA ignoring data with redundant timestamp for frame odom at time 445.035000 according to authority unknown_publisher\u001b[0m\n"
     ]
    },
    {
     "ename": "KeyboardInterrupt",
     "evalue": "",
     "output_type": "error",
     "traceback": [
      "\u001b[0;31m---------------------------------------------------------------------------\u001b[0m",
      "\u001b[0;31mKeyboardInterrupt\u001b[0m                         Traceback (most recent call last)",
      "Input \u001b[0;32mIn [34]\u001b[0m, in \u001b[0;36m<cell line: 4>\u001b[0;34m()\u001b[0m\n\u001b[1;32m      9\u001b[0m alpha \u001b[38;5;241m=\u001b[39m rot[\u001b[38;5;241m2\u001b[39m]\n\u001b[1;32m     10\u001b[0m xi \u001b[38;5;241m=\u001b[39m phi \u001b[38;5;241m-\u001b[39m alpha\n\u001b[0;32m---> 11\u001b[0m \u001b[43mgrasp_base\u001b[49m\u001b[38;5;241;43m.\u001b[39;49m\u001b[43mtiny_move\u001b[49m\u001b[43m(\u001b[49m\u001b[43mvelT\u001b[49m\u001b[38;5;241;43m=\u001b[39;49m\u001b[43mxi\u001b[49m\u001b[43m)\u001b[49m\n\u001b[1;32m     12\u001b[0m \u001b[38;5;28mprint\u001b[39m(xi)\n\u001b[1;32m     13\u001b[0m \u001b[38;5;28;01mif\u001b[39;00m \u001b[38;5;28mabs\u001b[39m(xi) \u001b[38;5;241m<\u001b[39m THRESHOLD:\n",
      "File \u001b[0;32m~/Notebooks-SMACHES/grasp_utils.py:228\u001b[0m, in \u001b[0;36mOMNIBASE.tiny_move\u001b[0;34m(self, velX, velY, velT, std_time, MAX_VEL, MAX_VEL_THETA)\u001b[0m\n\u001b[1;32m    226\u001b[0m \u001b[38;5;28;01melse\u001b[39;00m:\n\u001b[1;32m    227\u001b[0m     \u001b[38;5;28mself\u001b[39m\u001b[38;5;241m.\u001b[39mvelT \u001b[38;5;241m=\u001b[39m velT\n\u001b[0;32m--> 228\u001b[0m \u001b[38;5;28;43mself\u001b[39;49m\u001b[38;5;241;43m.\u001b[39;49m\u001b[43m_move_base_time\u001b[49m\u001b[43m(\u001b[49m\u001b[43m)\u001b[49m\n",
      "File \u001b[0;32m~/Notebooks-SMACHES/grasp_utils.py:210\u001b[0m, in \u001b[0;36mOMNIBASE._move_base_time\u001b[0;34m(self)\u001b[0m\n\u001b[1;32m    208\u001b[0m start_time \u001b[38;5;241m=\u001b[39m rospy\u001b[38;5;241m.\u001b[39mTime\u001b[38;5;241m.\u001b[39mnow()\u001b[38;5;241m.\u001b[39mto_sec()\n\u001b[1;32m    209\u001b[0m \u001b[38;5;28;01mwhile\u001b[39;00m rospy\u001b[38;5;241m.\u001b[39mTime\u001b[38;5;241m.\u001b[39mnow()\u001b[38;5;241m.\u001b[39mto_sec() \u001b[38;5;241m-\u001b[39m start_time \u001b[38;5;241m<\u001b[39m \u001b[38;5;28mself\u001b[39m\u001b[38;5;241m.\u001b[39mtimeout:  \n\u001b[0;32m--> 210\u001b[0m     \u001b[38;5;28;43mself\u001b[39;49m\u001b[38;5;241;43m.\u001b[39;49m\u001b[43m_move_base_vel\u001b[49m\u001b[43m(\u001b[49m\u001b[43m)\u001b[49m\n",
      "File \u001b[0;32m~/Notebooks-SMACHES/grasp_utils.py:205\u001b[0m, in \u001b[0;36mOMNIBASE._move_base_vel\u001b[0;34m(self)\u001b[0m\n\u001b[1;32m    203\u001b[0m twist\u001b[38;5;241m.\u001b[39mlinear\u001b[38;5;241m.\u001b[39my \u001b[38;5;241m=\u001b[39m \u001b[38;5;28mself\u001b[39m\u001b[38;5;241m.\u001b[39mvelY\n\u001b[1;32m    204\u001b[0m twist\u001b[38;5;241m.\u001b[39mangular\u001b[38;5;241m.\u001b[39mz \u001b[38;5;241m=\u001b[39m \u001b[38;5;28mself\u001b[39m\u001b[38;5;241m.\u001b[39mvelT\n\u001b[0;32m--> 205\u001b[0m \u001b[38;5;28;43mself\u001b[39;49m\u001b[38;5;241;43m.\u001b[39;49m\u001b[43m_base_vel_pub\u001b[49m\u001b[38;5;241;43m.\u001b[39;49m\u001b[43mpublish\u001b[49m\u001b[43m(\u001b[49m\u001b[43mtwist\u001b[49m\u001b[43m)\u001b[49m\n",
      "File \u001b[0;32m/opt/ros/noetic/lib/python3/dist-packages/rospy/topics.py:882\u001b[0m, in \u001b[0;36mPublisher.publish\u001b[0;34m(self, *args, **kwds)\u001b[0m\n\u001b[1;32m    880\u001b[0m \u001b[38;5;28;01mtry\u001b[39;00m:\n\u001b[1;32m    881\u001b[0m     \u001b[38;5;28mself\u001b[39m\u001b[38;5;241m.\u001b[39mimpl\u001b[38;5;241m.\u001b[39macquire()\n\u001b[0;32m--> 882\u001b[0m     \u001b[38;5;28;43mself\u001b[39;49m\u001b[38;5;241;43m.\u001b[39;49m\u001b[43mimpl\u001b[49m\u001b[38;5;241;43m.\u001b[39;49m\u001b[43mpublish\u001b[49m\u001b[43m(\u001b[49m\u001b[43mdata\u001b[49m\u001b[43m)\u001b[49m\n\u001b[1;32m    883\u001b[0m \u001b[38;5;28;01mexcept\u001b[39;00m genpy\u001b[38;5;241m.\u001b[39mSerializationError \u001b[38;5;28;01mas\u001b[39;00m e:\n\u001b[1;32m    884\u001b[0m     \u001b[38;5;66;03m# can't go to rospy.logerr(), b/c this could potentially recurse\u001b[39;00m\n\u001b[1;32m    885\u001b[0m     _logger\u001b[38;5;241m.\u001b[39merror(traceback\u001b[38;5;241m.\u001b[39mformat_exc())\n",
      "File \u001b[0;32m/opt/ros/noetic/lib/python3/dist-packages/rospy/topics.py:1075\u001b[0m, in \u001b[0;36m_PublisherImpl.publish\u001b[0;34m(self, message, connection_override)\u001b[0m\n\u001b[1;32m   1073\u001b[0m \u001b[38;5;28;01mtry\u001b[39;00m:\n\u001b[1;32m   1074\u001b[0m     \u001b[38;5;28;01mif\u001b[39;00m \u001b[38;5;129;01mnot\u001b[39;00m is_shutdown():\n\u001b[0;32m-> 1075\u001b[0m         \u001b[43mc\u001b[49m\u001b[38;5;241;43m.\u001b[39;49m\u001b[43mwrite_data\u001b[49m\u001b[43m(\u001b[49m\u001b[43mdata\u001b[49m\u001b[43m)\u001b[49m\n\u001b[1;32m   1076\u001b[0m \u001b[38;5;28;01mexcept\u001b[39;00m TransportTerminated \u001b[38;5;28;01mas\u001b[39;00m e:\n\u001b[1;32m   1077\u001b[0m     logdebug(\u001b[38;5;124m\"\u001b[39m\u001b[38;5;124mpublisher connection to [\u001b[39m\u001b[38;5;132;01m%s\u001b[39;00m\u001b[38;5;124m] terminated, see errorlog for details:\u001b[39m\u001b[38;5;130;01m\\n\u001b[39;00m\u001b[38;5;132;01m%s\u001b[39;00m\u001b[38;5;124m\"\u001b[39m\u001b[38;5;241m%\u001b[39m(c\u001b[38;5;241m.\u001b[39mendpoint_id, traceback\u001b[38;5;241m.\u001b[39mformat_exc()))\n",
      "File \u001b[0;32m/opt/ros/noetic/lib/python3/dist-packages/rospy/impl/tcpros_pubsub.py:418\u001b[0m, in \u001b[0;36mQueuedConnection.write_data\u001b[0;34m(self, data)\u001b[0m\n\u001b[1;32m    416\u001b[0m         \u001b[38;5;28;01mdel\u001b[39;00m \u001b[38;5;28mself\u001b[39m\u001b[38;5;241m.\u001b[39m_queue[\u001b[38;5;241m0\u001b[39m]\n\u001b[1;32m    417\u001b[0m     \u001b[38;5;28mself\u001b[39m\u001b[38;5;241m.\u001b[39m_queue\u001b[38;5;241m.\u001b[39mappend(data)\n\u001b[0;32m--> 418\u001b[0m     \u001b[38;5;28;43mself\u001b[39;49m\u001b[38;5;241;43m.\u001b[39;49m\u001b[43m_cond_data_available\u001b[49m\u001b[38;5;241;43m.\u001b[39;49m\u001b[43mnotify\u001b[49m\u001b[43m(\u001b[49m\u001b[43m)\u001b[49m\n\u001b[1;32m    419\u001b[0m \u001b[38;5;66;03m# effectively yields the rest of the thread quantum\u001b[39;00m\n\u001b[1;32m    420\u001b[0m time\u001b[38;5;241m.\u001b[39msleep(\u001b[38;5;241m0\u001b[39m)\n",
      "File \u001b[0;32m/usr/lib/python3.8/threading.py:358\u001b[0m, in \u001b[0;36mCondition.notify\u001b[0;34m(self, n)\u001b[0m\n\u001b[1;32m    356\u001b[0m     \u001b[38;5;28;01mreturn\u001b[39;00m\n\u001b[1;32m    357\u001b[0m \u001b[38;5;28;01mfor\u001b[39;00m waiter \u001b[38;5;129;01min\u001b[39;00m waiters_to_notify:\n\u001b[0;32m--> 358\u001b[0m     \u001b[43mwaiter\u001b[49m\u001b[38;5;241;43m.\u001b[39;49m\u001b[43mrelease\u001b[49m\u001b[43m(\u001b[49m\u001b[43m)\u001b[49m\n\u001b[1;32m    359\u001b[0m     \u001b[38;5;28;01mtry\u001b[39;00m:\n\u001b[1;32m    360\u001b[0m         all_waiters\u001b[38;5;241m.\u001b[39mremove(waiter)\n",
      "\u001b[0;31mKeyboardInterrupt\u001b[0m: "
     ]
    }
   ],
   "source": [
    "succ = False\n",
    "THRESHOLD = 0.05\n",
    "phi = np.arctan(trans[1]/trans[0])\n",
    "while not succ:\n",
    "    traf = tfbuff.lookup_transform(\"arm_flex_link\",\"cassette\", rospy.Time(0))\n",
    "    # print(traf)\n",
    "    trans, rot = tf2_obj_2_arr(traf)\n",
    "    rot = tf.transformations.euler_from_quaternion(rot)\n",
    "    alpha = rot[2]\n",
    "    xi = alpha - phi\n",
    "    grasp_base.tiny_move(velT=xi)\n",
    "    print(xi)\n",
    "    if abs(xi) < THRESHOLD:\n",
    "        succ = True"
   ]
  },
  {
   "cell_type": "code",
   "execution_count": 36,
   "id": "63486218",
   "metadata": {},
   "outputs": [],
   "source": [
    "def rotar_base(theta = 0):\n",
    "    traf = tfbuff.lookup_transform('base_link', 'map', rospy.Time(0))\n",
    "    _, rot =tf2_obj_2_arr(traf)\n",
    "    e =tf.transformations.euler_from_quaternion(rot)\n",
    "    goal_theta = (e[2] + theta) % 2*np.pi\n",
    "    print(goal_theta)\n",
    "    succ = False\n",
    "    THRESHOLD = 0.02\n",
    "    while not succ:\n",
    "        traf = tfbuff.lookup_transform('base_link', 'map', rospy.Time(0))\n",
    "        _, rot =tf2_obj_2_arr(traf)\n",
    "        e =tf.transformations.euler_from_quaternion(rot)\n",
    "        curr_theta = e[2]\n",
    "        err = (goal_theta - curr_theta) % 2*np.pi\n",
    "        print(err)\n",
    "        if abs(err)< THRESHOLD:\n",
    "            succ = True\n",
    "        else:\n",
    "            grasp_base.tiny_move(velT = -0.5*err)\n",
    "    "
   ]
  },
  {
   "cell_type": "code",
   "execution_count": 38,
   "id": "fe023fa1",
   "metadata": {},
   "outputs": [
    {
     "name": "stdout",
     "output_type": "stream",
     "text": [
      "0.006814096139620673\n",
      "3.15618567182326\n",
      "2.434967778242641\n",
      "1.739648494176337\n"
     ]
    },
    {
     "name": "stderr",
     "output_type": "stream",
     "text": [
      "\u001b[33m[ WARN] [1665686426.180797506, 708.954000000]: TF_REPEATED_DATA ignoring data with redundant timestamp for frame odom at time 708.954000 according to authority unknown_publisher\u001b[0m\n",
      "\u001b[33m[ WARN] [1665686426.210456096, 708.954000000]: TF_REPEATED_DATA ignoring data with redundant timestamp for frame odom at time 708.954000 according to authority /pose_integrator\u001b[0m\n",
      "\u001b[33m[ WARN] [1665686428.192300923, 709.164000000]: TF_REPEATED_DATA ignoring data with redundant timestamp for frame odom at time 709.191000 according to authority unknown_publisher\u001b[0m\n",
      "\u001b[33m[ WARN] [1665686428.193574911, 709.164000000]: TF_REPEATED_DATA ignoring data with redundant timestamp for frame odom at time 709.191000 according to authority /pose_integrator\u001b[0m\n"
     ]
    },
    {
     "name": "stdout",
     "output_type": "stream",
     "text": [
      "0.9777885016442645\n"
     ]
    },
    {
     "name": "stderr",
     "output_type": "stream",
     "text": [
      "\u001b[33m[ WARN] [1665686428.995814497, 709.227000000]: TF_REPEATED_DATA ignoring data with redundant timestamp for frame odom at time 709.332000 according to authority unknown_publisher\u001b[0m\n",
      "\u001b[33m[ WARN] [1665686428.997963864, 709.227000000]: TF_REPEATED_DATA ignoring data with redundant timestamp for frame odom at time 709.332000 according to authority /pose_integrator\u001b[0m\n"
     ]
    },
    {
     "name": "stdout",
     "output_type": "stream",
     "text": [
      "0.163530044684405\n",
      "6.251635789069001\n",
      "5.583146615886581\n",
      "4.770902478145802\n",
      "4.008180411953548\n"
     ]
    },
    {
     "name": "stderr",
     "output_type": "stream",
     "text": [
      "\u001b[33m[ WARN] [1665686445.883236028, 711.888000000]: TF_REPEATED_DATA ignoring data with redundant timestamp for frame odom at time 711.888000 according to authority unknown_publisher\u001b[0m\n",
      "\u001b[33m[ WARN] [1665686445.898051554, 711.888000000]: TF_REPEATED_DATA ignoring data with redundant timestamp for frame odom at time 711.888000 according to authority /pose_integrator\u001b[0m\n"
     ]
    },
    {
     "name": "stdout",
     "output_type": "stream",
     "text": [
      "3.4361921738583128\n"
     ]
    },
    {
     "name": "stderr",
     "output_type": "stream",
     "text": [
      "\u001b[33m[ WARN] [1665686447.859311152, 712.317000000]: TF_REPEATED_DATA ignoring data with redundant timestamp for frame odom at time 712.338000 according to authority unknown_publisher\u001b[0m\n",
      "\u001b[33m[ WARN] [1665686447.863078712, 712.317000000]: TF_REPEATED_DATA ignoring data with redundant timestamp for frame odom at time 712.338000 according to authority /pose_integrator\u001b[0m\n"
     ]
    },
    {
     "name": "stdout",
     "output_type": "stream",
     "text": [
      "3.325397069471233\n"
     ]
    },
    {
     "name": "stderr",
     "output_type": "stream",
     "text": [
      "\u001b[33m[ WARN] [1665686453.037350288, 713.100000000]: TF_REPEATED_DATA ignoring data with redundant timestamp for frame odom at time 713.184000 according to authority unknown_publisher\u001b[0m\n",
      "\u001b[33m[ WARN] [1665686453.039701383, 713.100000000]: TF_REPEATED_DATA ignoring data with redundant timestamp for frame odom at time 713.184000 according to authority /pose_integrator\u001b[0m\n"
     ]
    },
    {
     "name": "stdout",
     "output_type": "stream",
     "text": [
      "2.569961072764837\n"
     ]
    },
    {
     "name": "stderr",
     "output_type": "stream",
     "text": [
      "\u001b[33m[ WARN] [1665686456.518589707, 713.670000000]: TF_REPEATED_DATA ignoring data with redundant timestamp for frame odom at time 713.688000 according to authority unknown_publisher\u001b[0m\n",
      "\u001b[33m[ WARN] [1665686456.521711522, 713.670000000]: TF_REPEATED_DATA ignoring data with redundant timestamp for frame odom at time 713.688000 according to authority /pose_integrator\u001b[0m\n"
     ]
    },
    {
     "name": "stdout",
     "output_type": "stream",
     "text": [
      "1.8765012091359612\n",
      "1.0794877546522166\n"
     ]
    },
    {
     "name": "stderr",
     "output_type": "stream",
     "text": [
      "\u001b[33m[ WARN] [1665686462.601054989, 714.609000000]: TF_REPEATED_DATA ignoring data with redundant timestamp for frame odom at time 714.657000 according to authority unknown_publisher\u001b[0m\n",
      "\u001b[33m[ WARN] [1665686462.611322195, 714.609000000]: TF_REPEATED_DATA ignoring data with redundant timestamp for frame odom at time 714.657000 according to authority /pose_integrator\u001b[0m\n"
     ]
    },
    {
     "name": "stdout",
     "output_type": "stream",
     "text": [
      "0.2802333674339143\n",
      "6.119099521497682\n"
     ]
    },
    {
     "name": "stderr",
     "output_type": "stream",
     "text": [
      "\u001b[33m[ WARN] [1665686471.438894128, 715.779000000]: TF_REPEATED_DATA ignoring data with redundant timestamp for frame odom at time 715.821000 according to authority unknown_publisher\u001b[0m\n",
      "\u001b[33m[ WARN] [1665686471.441686799, 715.779000000]: TF_REPEATED_DATA ignoring data with redundant timestamp for frame odom at time 715.821000 according to authority /pose_integrator\u001b[0m\n"
     ]
    },
    {
     "name": "stdout",
     "output_type": "stream",
     "text": [
      "5.454792442750909\n"
     ]
    },
    {
     "name": "stderr",
     "output_type": "stream",
     "text": [
      "\u001b[33m[ WARN] [1665686473.224347121, 715.974000000]: TF_REPEATED_DATA ignoring data with redundant timestamp for frame odom at time 716.055000 according to authority unknown_publisher\u001b[0m\n",
      "\u001b[33m[ WARN] [1665686473.225688536, 715.974000000]: TF_REPEATED_DATA ignoring data with redundant timestamp for frame odom at time 716.055000 according to authority /pose_integrator\u001b[0m\n"
     ]
    },
    {
     "name": "stdout",
     "output_type": "stream",
     "text": [
      "4.700370109887102\n",
      "3.9343378315035635\n",
      "3.2005855643698737\n"
     ]
    },
    {
     "name": "stderr",
     "output_type": "stream",
     "text": [
      "\u001b[33m[ WARN] [1665686486.448201678, 717.630000000]: TF_REPEATED_DATA ignoring data with redundant timestamp for frame odom at time 717.687000 according to authority unknown_publisher\u001b[0m\n",
      "\u001b[33m[ WARN] [1665686486.459327605, 717.630000000]: TF_REPEATED_DATA ignoring data with redundant timestamp for frame odom at time 717.687000 according to authority /pose_integrator\u001b[0m\n",
      "\u001b[33m[ WARN] [1665686487.647704500, 717.780000000]: TF_REPEATED_DATA ignoring data with redundant timestamp for frame odom at time 717.780000 according to authority unknown_publisher\u001b[0m\n",
      "\u001b[33m[ WARN] [1665686487.653451039, 717.780000000]: TF_REPEATED_DATA ignoring data with redundant timestamp for frame odom at time 717.780000 according to authority /pose_integrator\u001b[0m\n"
     ]
    },
    {
     "name": "stdout",
     "output_type": "stream",
     "text": [
      "2.3573725858182355\n"
     ]
    },
    {
     "ename": "KeyboardInterrupt",
     "evalue": "",
     "output_type": "error",
     "traceback": [
      "\u001b[0;31m---------------------------------------------------------------------------\u001b[0m",
      "\u001b[0;31mKeyboardInterrupt\u001b[0m                         Traceback (most recent call last)",
      "Input \u001b[0;32mIn [38]\u001b[0m, in \u001b[0;36m<cell line: 1>\u001b[0;34m()\u001b[0m\n\u001b[0;32m----> 1\u001b[0m \u001b[43mrotar_base\u001b[49m\u001b[43m(\u001b[49m\u001b[38;5;241;43m-\u001b[39;49m\u001b[38;5;241;43m1\u001b[39;49m\u001b[43m)\u001b[49m\n",
      "Input \u001b[0;32mIn [36]\u001b[0m, in \u001b[0;36mrotar_base\u001b[0;34m(theta)\u001b[0m\n\u001b[1;32m     17\u001b[0m     succ \u001b[38;5;241m=\u001b[39m \u001b[38;5;28;01mTrue\u001b[39;00m\n\u001b[1;32m     18\u001b[0m \u001b[38;5;28;01melse\u001b[39;00m:\n\u001b[0;32m---> 19\u001b[0m     \u001b[43mgrasp_base\u001b[49m\u001b[38;5;241;43m.\u001b[39;49m\u001b[43mtiny_move\u001b[49m\u001b[43m(\u001b[49m\u001b[43mvelT\u001b[49m\u001b[43m \u001b[49m\u001b[38;5;241;43m=\u001b[39;49m\u001b[43m \u001b[49m\u001b[38;5;241;43m-\u001b[39;49m\u001b[38;5;241;43m0.5\u001b[39;49m\u001b[38;5;241;43m*\u001b[39;49m\u001b[43merr\u001b[49m\u001b[43m)\u001b[49m\n",
      "File \u001b[0;32m~/Notebooks-SMACHES/grasp_utils.py:227\u001b[0m, in \u001b[0;36mOMNIBASE.tiny_move\u001b[0;34m(self, velX, velY, velT, std_time, MAX_VEL, MAX_VEL_THETA)\u001b[0m\n\u001b[1;32m    225\u001b[0m \u001b[38;5;28;01melse\u001b[39;00m:\n\u001b[1;32m    226\u001b[0m     \u001b[38;5;28mself\u001b[39m\u001b[38;5;241m.\u001b[39mvelT \u001b[38;5;241m=\u001b[39m velT\n\u001b[0;32m--> 227\u001b[0m \u001b[38;5;28;43mself\u001b[39;49m\u001b[38;5;241;43m.\u001b[39;49m\u001b[43m_move_base_time\u001b[49m\u001b[43m(\u001b[49m\u001b[43m)\u001b[49m\n",
      "File \u001b[0;32m~/Notebooks-SMACHES/grasp_utils.py:209\u001b[0m, in \u001b[0;36mOMNIBASE._move_base_time\u001b[0;34m(self)\u001b[0m\n\u001b[1;32m    207\u001b[0m start_time \u001b[38;5;241m=\u001b[39m rospy\u001b[38;5;241m.\u001b[39mTime\u001b[38;5;241m.\u001b[39mnow()\u001b[38;5;241m.\u001b[39mto_sec()\n\u001b[1;32m    208\u001b[0m \u001b[38;5;28;01mwhile\u001b[39;00m rospy\u001b[38;5;241m.\u001b[39mTime\u001b[38;5;241m.\u001b[39mnow()\u001b[38;5;241m.\u001b[39mto_sec() \u001b[38;5;241m-\u001b[39m start_time \u001b[38;5;241m<\u001b[39m \u001b[38;5;28mself\u001b[39m\u001b[38;5;241m.\u001b[39mtimeout:  \n\u001b[0;32m--> 209\u001b[0m     \u001b[38;5;28;43mself\u001b[39;49m\u001b[38;5;241;43m.\u001b[39;49m\u001b[43m_move_base_vel\u001b[49m\u001b[43m(\u001b[49m\u001b[43m)\u001b[49m\n",
      "File \u001b[0;32m~/Notebooks-SMACHES/grasp_utils.py:204\u001b[0m, in \u001b[0;36mOMNIBASE._move_base_vel\u001b[0;34m(self)\u001b[0m\n\u001b[1;32m    202\u001b[0m twist\u001b[38;5;241m.\u001b[39mlinear\u001b[38;5;241m.\u001b[39my \u001b[38;5;241m=\u001b[39m \u001b[38;5;28mself\u001b[39m\u001b[38;5;241m.\u001b[39mvelY\n\u001b[1;32m    203\u001b[0m twist\u001b[38;5;241m.\u001b[39mangular\u001b[38;5;241m.\u001b[39mz \u001b[38;5;241m=\u001b[39m \u001b[38;5;28mself\u001b[39m\u001b[38;5;241m.\u001b[39mvelT\n\u001b[0;32m--> 204\u001b[0m \u001b[38;5;28;43mself\u001b[39;49m\u001b[38;5;241;43m.\u001b[39;49m\u001b[43m_base_vel_pub\u001b[49m\u001b[38;5;241;43m.\u001b[39;49m\u001b[43mpublish\u001b[49m\u001b[43m(\u001b[49m\u001b[43mtwist\u001b[49m\u001b[43m)\u001b[49m\n",
      "File \u001b[0;32m/opt/ros/noetic/lib/python3/dist-packages/rospy/topics.py:879\u001b[0m, in \u001b[0;36mPublisher.publish\u001b[0;34m(self, *args, **kwds)\u001b[0m\n\u001b[1;32m    877\u001b[0m \u001b[38;5;28;01mif\u001b[39;00m \u001b[38;5;129;01mnot\u001b[39;00m is_initialized():\n\u001b[1;32m    878\u001b[0m     \u001b[38;5;28;01mraise\u001b[39;00m ROSException(\u001b[38;5;124m\"\u001b[39m\u001b[38;5;124mROS node has not been initialized yet. Please call init_node() first\u001b[39m\u001b[38;5;124m\"\u001b[39m)\n\u001b[0;32m--> 879\u001b[0m data \u001b[38;5;241m=\u001b[39m \u001b[43margs_kwds_to_message\u001b[49m\u001b[43m(\u001b[49m\u001b[38;5;28;43mself\u001b[39;49m\u001b[38;5;241;43m.\u001b[39;49m\u001b[43mdata_class\u001b[49m\u001b[43m,\u001b[49m\u001b[43m \u001b[49m\u001b[43margs\u001b[49m\u001b[43m,\u001b[49m\u001b[43m \u001b[49m\u001b[43mkwds\u001b[49m\u001b[43m)\u001b[49m\n\u001b[1;32m    880\u001b[0m \u001b[38;5;28;01mtry\u001b[39;00m:\n\u001b[1;32m    881\u001b[0m     \u001b[38;5;28mself\u001b[39m\u001b[38;5;241m.\u001b[39mimpl\u001b[38;5;241m.\u001b[39macquire()\n",
      "\u001b[0;31mKeyboardInterrupt\u001b[0m: "
     ]
    }
   ],
   "source": [
    "rotar_base(-1)"
   ]
  },
  {
   "cell_type": "code",
   "execution_count": 13,
   "id": "0112f8f8",
   "metadata": {},
   "outputs": [],
   "source": [
    "publish_point_tf(1,0,0,'Brazo1',ref='head_rgbd_sensor_gazebo_frame')\n",
    "traf = tfbuff.lookup_transform('map','Point Brazo1', rospy.Time(0))\n",
    "trans,_ = tf2_obj_2_arr(traf)\n",
    "publish_point_tf(trans[0],trans[1],trans[2],'Brazo2',ref='map')\n"
   ]
  },
  {
   "cell_type": "code",
   "execution_count": 17,
   "id": "2619136d",
   "metadata": {},
   "outputs": [],
   "source": [
    "gripper.close()"
   ]
  },
  {
   "cell_type": "code",
   "execution_count": 24,
   "id": "35b74c0d",
   "metadata": {},
   "outputs": [
    {
     "data": {
      "text/plain": [
       "[[0.6874551323475802, -0.07794949487462331, 0.6920933666831193],\n",
       " [0.38622610890625253,\n",
       "  -0.9132626640126938,\n",
       "  0.11953214690258941,\n",
       "  -0.04992759934576225]]"
      ]
     },
     "execution_count": 24,
     "metadata": {},
     "output_type": "execute_result"
    },
    {
     "name": "stdout",
     "output_type": "stream",
     "text": [
      "shutdown request: [/Pruebas_de_placeo_v2] Reason: new node registered with same name\n"
     ]
    }
   ],
   "source": [
    "traf = tfbuff.lookup_transform('base_link','ar_marker/201',rospy.Time(0))\n",
    "tf2_obj_2_arr(traf)"
   ]
  },
  {
   "cell_type": "code",
   "execution_count": null,
   "id": "c7edc0b9",
   "metadata": {},
   "outputs": [],
   "source": []
  }
 ],
 "metadata": {
  "kernelspec": {
   "display_name": "Python 3 (ipykernel)",
   "language": "python",
   "name": "python3"
  },
  "language_info": {
   "codemirror_mode": {
    "name": "ipython",
    "version": 3
   },
   "file_extension": ".py",
   "mimetype": "text/x-python",
   "name": "python",
   "nbconvert_exporter": "python",
   "pygments_lexer": "ipython3",
   "version": "3.8.10"
  }
 },
 "nbformat": 4,
 "nbformat_minor": 5
}
