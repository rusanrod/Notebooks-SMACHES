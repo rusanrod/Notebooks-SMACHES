{
 "cells": [
  {
   "cell_type": "code",
   "execution_count": 10,
   "id": "d78e7439",
   "metadata": {},
   "outputs": [],
   "source": [
    "#!/usr/bin/env python\n",
    "# Copyright (C) 2016 Toyota Motor Corporation\n",
    "import controller_manager_msgs.srv\n",
    "import rospy\n",
    "import trajectory_msgs.msg\n",
    "\n",
    "rospy.init_node('test')\n",
    "\n",
    "# initialize ROS publisher\n",
    "pub = rospy.Publisher(\n",
    "    '/hsrb/head_trajectory_controller/command',\n",
    "    trajectory_msgs.msg.JointTrajectory, queue_size=10)\n",
    "\n",
    "# wait to establish connection between the controller\n",
    "while pub.get_num_connections() == 0:\n",
    "    rospy.sleep(0.1)\n",
    "\n",
    "# make sure the controller is running\n",
    "rospy.wait_for_service('/hsrb/controller_manager/list_controllers')\n",
    "list_controllers = rospy.ServiceProxy(\n",
    "    '/hsrb/controller_manager/list_controllers',\n",
    "    controller_manager_msgs.srv.ListControllers)\n",
    "running = False\n",
    "while running is False:\n",
    "    rospy.sleep(0.1)\n",
    "    for c in list_controllers().controller:\n",
    "        if c.name == 'head_trajectory_controller' and c.state == 'running':\n",
    "            running = True\n",
    "\n",
    "# fill ROS message\n",
    "traj = trajectory_msgs.msg.JointTrajectory()\n",
    "traj.joint_names = [\"head_pan_joint\", \"head_tilt_joint\"]\n",
    "p = trajectory_msgs.msg.JointTrajectoryPoint()\n",
    "p.positions = [1.2, 0.5]\n",
    "p.velocities = [0, 0]\n",
    "p.time_from_start = rospy.Duration(3)\n",
    "traj.points = [p]\n",
    "\n",
    "# publish ROS message\n",
    "pub.publish(traj)"
   ]
  },
  {
   "cell_type": "code",
   "execution_count": null,
   "id": "10767a68",
   "metadata": {},
   "outputs": [],
   "source": []
  }
 ],
 "metadata": {
  "kernelspec": {
   "display_name": "Python 3 (ipykernel)",
   "language": "python",
   "name": "python3"
  },
  "language_info": {
   "codemirror_mode": {
    "name": "ipython",
    "version": 3
   },
   "file_extension": ".py",
   "mimetype": "text/x-python",
   "name": "python",
   "nbconvert_exporter": "python",
   "pygments_lexer": "ipython3",
   "version": "3.8.10"
  }
 },
 "nbformat": 4,
 "nbformat_minor": 5
}
